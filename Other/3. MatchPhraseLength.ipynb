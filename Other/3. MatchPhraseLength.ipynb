{
  "nbformat": 4,
  "nbformat_minor": 0,
  "metadata": {
    "colab": {
      "name": "3. MatchPhraseLength.ipynb",
      "provenance": [],
      "collapsed_sections": [],
      "authorship_tag": "ABX9TyOV9hL6V9l4bjzeW7ajhU9C",
      "include_colab_link": true
    },
    "kernelspec": {
      "name": "python3",
      "display_name": "Python 3"
    },
    "language_info": {
      "name": "python"
    }
  },
  "cells": [
    {
      "cell_type": "markdown",
      "metadata": {
        "id": "view-in-github",
        "colab_type": "text"
      },
      "source": [
        "<a href=\"https://colab.research.google.com/github/Janina712/MLTSA22_JBoecher/blob/main/Other/3.%20MatchPhraseLength.ipynb\" target=\"_parent\"><img src=\"https://colab.research.google.com/assets/colab-badge.svg\" alt=\"Open In Colab\"/></a>"
      ]
    },
    {
      "cell_type": "markdown",
      "source": [
        "**0. Imports & Set-Up**"
      ],
      "metadata": {
        "id": "sKQbqmbe5xO2"
      }
    },
    {
      "cell_type": "code",
      "source": [
        "import pandas as pd\n",
        "import numpy as np\n",
        "import scipy.stats as stats\n",
        "import os"
      ],
      "metadata": {
        "id": "1QfNAWQA6BFn"
      },
      "execution_count": 1,
      "outputs": []
    },
    {
      "cell_type": "code",
      "source": [
        "from google.colab import drive\n",
        "drive.mount(\"/content/gdrive\")"
      ],
      "metadata": {
        "colab": {
          "base_uri": "https://localhost:8080/"
        },
        "id": "_lO37H_36E9Y",
        "outputId": "9c994867-6d79-4a72-c445-8bafc4eee9a8"
      },
      "execution_count": 2,
      "outputs": [
        {
          "output_type": "stream",
          "name": "stdout",
          "text": [
            "Mounted at /content/gdrive\n"
          ]
        }
      ]
    },
    {
      "cell_type": "code",
      "source": [
        "%cd /content/gdrive/MyDrive/RhythmAnalysisPipeline/2.BreathGroups_Assigned/"
      ],
      "metadata": {
        "colab": {
          "base_uri": "https://localhost:8080/"
        },
        "id": "BgGTyEcd6IPJ",
        "outputId": "6fd0264c-acae-4354-abd5-c0ce7956ec1f"
      },
      "execution_count": 3,
      "outputs": [
        {
          "output_type": "stream",
          "name": "stdout",
          "text": [
            "/content/gdrive/MyDrive/RhythmAnalysisPipeline/2.BreathGroups_Assigned\n"
          ]
        }
      ]
    },
    {
      "cell_type": "code",
      "source": [
        "reading = pd.read_excel(\"reading_TextGrid_comb_BG_loop.xlsx\")\n",
        "interview = pd.read_excel(\"interview_TextGrid_comb_BG_loop.xlsx\")"
      ],
      "metadata": {
        "id": "MZdGhx2F6TWJ"
      },
      "execution_count": 4,
      "outputs": []
    },
    {
      "cell_type": "code",
      "source": [
        "IDs = ['24fa', '24ma', '24mb', '26f', '29ma', '29mb', '29mc', '32m', '34m', '35mb', '46ma', '50fa', '50fb', '54f', '57m', '60m', '62f', '62m', 'C10_KS', 'C11_NP', 'C12_CC', 'C13_RG','C1_DS', 'C2_JH', 'C3_MD', 'C4_ZO', 'C5_HL', 'C6_LH', 'C7_SH', 'C9_RD']"
      ],
      "metadata": {
        "id": "Mxhpb0sp9xlL"
      },
      "execution_count": 5,
      "outputs": []
    },
    {
      "cell_type": "markdown",
      "source": [
        "**1. Assign Participant Group**"
      ],
      "metadata": {
        "id": "y-fy3JfM8iV5"
      }
    },
    {
      "cell_type": "code",
      "source": [
        "group = pd.DataFrame(index = range(len(reading)),columns=[\"Group\"])"
      ],
      "metadata": {
        "id": "W_EBkRd-7jpz"
      },
      "execution_count": 6,
      "outputs": []
    },
    {
      "cell_type": "code",
      "source": [
        "for i in range(0,len(reading)):\n",
        "  if \"_\" in reading[\"ID\"][i]:\n",
        "    group[\"Group\"][i] = \"Control\"\n",
        "  else:\n",
        "    group[\"Group\"][i] = \"PWS\""
      ],
      "metadata": {
        "id": "eHJ_Uuk17RyY"
      },
      "execution_count": 7,
      "outputs": []
    },
    {
      "cell_type": "code",
      "source": [
        "reading = pd.concat([ group, reading], axis=1)"
      ],
      "metadata": {
        "id": "4Nd3V5fA71Gc"
      },
      "execution_count": 8,
      "outputs": []
    },
    {
      "cell_type": "code",
      "source": [
        "reading = reading[reading.Type != \"silence\"]\n",
        "reading.index = range(len(reading.index))"
      ],
      "metadata": {
        "id": "UsWNBPSjAJGF"
      },
      "execution_count": 9,
      "outputs": []
    },
    {
      "cell_type": "code",
      "source": [
        "reading.drop(['Unnamed: 0'], axis=1 , inplace = True)"
      ],
      "metadata": {
        "id": "jywYM3ju8x_y"
      },
      "execution_count": 10,
      "outputs": []
    },
    {
      "cell_type": "code",
      "source": [
        "reading"
      ],
      "metadata": {
        "colab": {
          "base_uri": "https://localhost:8080/",
          "height": 423
        },
        "id": "gPaMVLOj6_1J",
        "outputId": "9e0fecef-176f-46e3-a3ae-0f15e9d9e42b"
      },
      "execution_count": 11,
      "outputs": [
        {
          "output_type": "execute_result",
          "data": {
            "text/plain": [
              "         Group      ID       Type  Sound   Onset  Offset  Duration  \\\n",
              "0          PWS    24fa  consonant    \"S\"   0.143   0.263     0.120   \n",
              "1          PWS    24fa      vowel  \"OW1\"   0.263   0.343     0.080   \n",
              "2          PWS    24fa  consonant   \"HH\"   0.343   0.482     0.139   \n",
              "3          PWS    24fa      vowel  \"IH1\"   0.482   0.573     0.091   \n",
              "4          PWS    24fa  consonant    \"R\"   0.573   0.702     0.129   \n",
              "...        ...     ...        ...    ...     ...     ...       ...   \n",
              "21478  Control  C13_RG      vowel  \"ER1\"  87.691  87.881     0.190   \n",
              "21479  Control  C13_RG  consonant    \"N\"  87.881  87.910     0.029   \n",
              "21480  Control  C13_RG      vowel  \"EY2\"  87.910  88.081     0.171   \n",
              "21481  Control  C13_RG  consonant    \"M\"  88.081  88.191     0.110   \n",
              "21482  Control  C13_RG  consonant    \"Z\"  88.191  88.281     0.090   \n",
              "\n",
              "       Breath.Group   m  \n",
              "0                 1  33  \n",
              "1                 1  33  \n",
              "2                 1  33  \n",
              "3                 1  33  \n",
              "4                 1  33  \n",
              "...             ...  ..  \n",
              "21478            28  38  \n",
              "21479            28  38  \n",
              "21480            28  38  \n",
              "21481            28  38  \n",
              "21482            28  38  \n",
              "\n",
              "[21483 rows x 9 columns]"
            ],
            "text/html": [
              "\n",
              "  <div id=\"df-083cd6e9-e389-4fd7-9c5f-9ac592b1ef45\">\n",
              "    <div class=\"colab-df-container\">\n",
              "      <div>\n",
              "<style scoped>\n",
              "    .dataframe tbody tr th:only-of-type {\n",
              "        vertical-align: middle;\n",
              "    }\n",
              "\n",
              "    .dataframe tbody tr th {\n",
              "        vertical-align: top;\n",
              "    }\n",
              "\n",
              "    .dataframe thead th {\n",
              "        text-align: right;\n",
              "    }\n",
              "</style>\n",
              "<table border=\"1\" class=\"dataframe\">\n",
              "  <thead>\n",
              "    <tr style=\"text-align: right;\">\n",
              "      <th></th>\n",
              "      <th>Group</th>\n",
              "      <th>ID</th>\n",
              "      <th>Type</th>\n",
              "      <th>Sound</th>\n",
              "      <th>Onset</th>\n",
              "      <th>Offset</th>\n",
              "      <th>Duration</th>\n",
              "      <th>Breath.Group</th>\n",
              "      <th>m</th>\n",
              "    </tr>\n",
              "  </thead>\n",
              "  <tbody>\n",
              "    <tr>\n",
              "      <th>0</th>\n",
              "      <td>PWS</td>\n",
              "      <td>24fa</td>\n",
              "      <td>consonant</td>\n",
              "      <td>\"S\"</td>\n",
              "      <td>0.143</td>\n",
              "      <td>0.263</td>\n",
              "      <td>0.120</td>\n",
              "      <td>1</td>\n",
              "      <td>33</td>\n",
              "    </tr>\n",
              "    <tr>\n",
              "      <th>1</th>\n",
              "      <td>PWS</td>\n",
              "      <td>24fa</td>\n",
              "      <td>vowel</td>\n",
              "      <td>\"OW1\"</td>\n",
              "      <td>0.263</td>\n",
              "      <td>0.343</td>\n",
              "      <td>0.080</td>\n",
              "      <td>1</td>\n",
              "      <td>33</td>\n",
              "    </tr>\n",
              "    <tr>\n",
              "      <th>2</th>\n",
              "      <td>PWS</td>\n",
              "      <td>24fa</td>\n",
              "      <td>consonant</td>\n",
              "      <td>\"HH\"</td>\n",
              "      <td>0.343</td>\n",
              "      <td>0.482</td>\n",
              "      <td>0.139</td>\n",
              "      <td>1</td>\n",
              "      <td>33</td>\n",
              "    </tr>\n",
              "    <tr>\n",
              "      <th>3</th>\n",
              "      <td>PWS</td>\n",
              "      <td>24fa</td>\n",
              "      <td>vowel</td>\n",
              "      <td>\"IH1\"</td>\n",
              "      <td>0.482</td>\n",
              "      <td>0.573</td>\n",
              "      <td>0.091</td>\n",
              "      <td>1</td>\n",
              "      <td>33</td>\n",
              "    </tr>\n",
              "    <tr>\n",
              "      <th>4</th>\n",
              "      <td>PWS</td>\n",
              "      <td>24fa</td>\n",
              "      <td>consonant</td>\n",
              "      <td>\"R\"</td>\n",
              "      <td>0.573</td>\n",
              "      <td>0.702</td>\n",
              "      <td>0.129</td>\n",
              "      <td>1</td>\n",
              "      <td>33</td>\n",
              "    </tr>\n",
              "    <tr>\n",
              "      <th>...</th>\n",
              "      <td>...</td>\n",
              "      <td>...</td>\n",
              "      <td>...</td>\n",
              "      <td>...</td>\n",
              "      <td>...</td>\n",
              "      <td>...</td>\n",
              "      <td>...</td>\n",
              "      <td>...</td>\n",
              "      <td>...</td>\n",
              "    </tr>\n",
              "    <tr>\n",
              "      <th>21478</th>\n",
              "      <td>Control</td>\n",
              "      <td>C13_RG</td>\n",
              "      <td>vowel</td>\n",
              "      <td>\"ER1\"</td>\n",
              "      <td>87.691</td>\n",
              "      <td>87.881</td>\n",
              "      <td>0.190</td>\n",
              "      <td>28</td>\n",
              "      <td>38</td>\n",
              "    </tr>\n",
              "    <tr>\n",
              "      <th>21479</th>\n",
              "      <td>Control</td>\n",
              "      <td>C13_RG</td>\n",
              "      <td>consonant</td>\n",
              "      <td>\"N\"</td>\n",
              "      <td>87.881</td>\n",
              "      <td>87.910</td>\n",
              "      <td>0.029</td>\n",
              "      <td>28</td>\n",
              "      <td>38</td>\n",
              "    </tr>\n",
              "    <tr>\n",
              "      <th>21480</th>\n",
              "      <td>Control</td>\n",
              "      <td>C13_RG</td>\n",
              "      <td>vowel</td>\n",
              "      <td>\"EY2\"</td>\n",
              "      <td>87.910</td>\n",
              "      <td>88.081</td>\n",
              "      <td>0.171</td>\n",
              "      <td>28</td>\n",
              "      <td>38</td>\n",
              "    </tr>\n",
              "    <tr>\n",
              "      <th>21481</th>\n",
              "      <td>Control</td>\n",
              "      <td>C13_RG</td>\n",
              "      <td>consonant</td>\n",
              "      <td>\"M\"</td>\n",
              "      <td>88.081</td>\n",
              "      <td>88.191</td>\n",
              "      <td>0.110</td>\n",
              "      <td>28</td>\n",
              "      <td>38</td>\n",
              "    </tr>\n",
              "    <tr>\n",
              "      <th>21482</th>\n",
              "      <td>Control</td>\n",
              "      <td>C13_RG</td>\n",
              "      <td>consonant</td>\n",
              "      <td>\"Z\"</td>\n",
              "      <td>88.191</td>\n",
              "      <td>88.281</td>\n",
              "      <td>0.090</td>\n",
              "      <td>28</td>\n",
              "      <td>38</td>\n",
              "    </tr>\n",
              "  </tbody>\n",
              "</table>\n",
              "<p>21483 rows × 9 columns</p>\n",
              "</div>\n",
              "      <button class=\"colab-df-convert\" onclick=\"convertToInteractive('df-083cd6e9-e389-4fd7-9c5f-9ac592b1ef45')\"\n",
              "              title=\"Convert this dataframe to an interactive table.\"\n",
              "              style=\"display:none;\">\n",
              "        \n",
              "  <svg xmlns=\"http://www.w3.org/2000/svg\" height=\"24px\"viewBox=\"0 0 24 24\"\n",
              "       width=\"24px\">\n",
              "    <path d=\"M0 0h24v24H0V0z\" fill=\"none\"/>\n",
              "    <path d=\"M18.56 5.44l.94 2.06.94-2.06 2.06-.94-2.06-.94-.94-2.06-.94 2.06-2.06.94zm-11 1L8.5 8.5l.94-2.06 2.06-.94-2.06-.94L8.5 2.5l-.94 2.06-2.06.94zm10 10l.94 2.06.94-2.06 2.06-.94-2.06-.94-.94-2.06-.94 2.06-2.06.94z\"/><path d=\"M17.41 7.96l-1.37-1.37c-.4-.4-.92-.59-1.43-.59-.52 0-1.04.2-1.43.59L10.3 9.45l-7.72 7.72c-.78.78-.78 2.05 0 2.83L4 21.41c.39.39.9.59 1.41.59.51 0 1.02-.2 1.41-.59l7.78-7.78 2.81-2.81c.8-.78.8-2.07 0-2.86zM5.41 20L4 18.59l7.72-7.72 1.47 1.35L5.41 20z\"/>\n",
              "  </svg>\n",
              "      </button>\n",
              "      \n",
              "  <style>\n",
              "    .colab-df-container {\n",
              "      display:flex;\n",
              "      flex-wrap:wrap;\n",
              "      gap: 12px;\n",
              "    }\n",
              "\n",
              "    .colab-df-convert {\n",
              "      background-color: #E8F0FE;\n",
              "      border: none;\n",
              "      border-radius: 50%;\n",
              "      cursor: pointer;\n",
              "      display: none;\n",
              "      fill: #1967D2;\n",
              "      height: 32px;\n",
              "      padding: 0 0 0 0;\n",
              "      width: 32px;\n",
              "    }\n",
              "\n",
              "    .colab-df-convert:hover {\n",
              "      background-color: #E2EBFA;\n",
              "      box-shadow: 0px 1px 2px rgba(60, 64, 67, 0.3), 0px 1px 3px 1px rgba(60, 64, 67, 0.15);\n",
              "      fill: #174EA6;\n",
              "    }\n",
              "\n",
              "    [theme=dark] .colab-df-convert {\n",
              "      background-color: #3B4455;\n",
              "      fill: #D2E3FC;\n",
              "    }\n",
              "\n",
              "    [theme=dark] .colab-df-convert:hover {\n",
              "      background-color: #434B5C;\n",
              "      box-shadow: 0px 1px 3px 1px rgba(0, 0, 0, 0.15);\n",
              "      filter: drop-shadow(0px 1px 2px rgba(0, 0, 0, 0.3));\n",
              "      fill: #FFFFFF;\n",
              "    }\n",
              "  </style>\n",
              "\n",
              "      <script>\n",
              "        const buttonEl =\n",
              "          document.querySelector('#df-083cd6e9-e389-4fd7-9c5f-9ac592b1ef45 button.colab-df-convert');\n",
              "        buttonEl.style.display =\n",
              "          google.colab.kernel.accessAllowed ? 'block' : 'none';\n",
              "\n",
              "        async function convertToInteractive(key) {\n",
              "          const element = document.querySelector('#df-083cd6e9-e389-4fd7-9c5f-9ac592b1ef45');\n",
              "          const dataTable =\n",
              "            await google.colab.kernel.invokeFunction('convertToInteractive',\n",
              "                                                     [key], {});\n",
              "          if (!dataTable) return;\n",
              "\n",
              "          const docLinkHtml = 'Like what you see? Visit the ' +\n",
              "            '<a target=\"_blank\" href=https://colab.research.google.com/notebooks/data_table.ipynb>data table notebook</a>'\n",
              "            + ' to learn more about interactive tables.';\n",
              "          element.innerHTML = '';\n",
              "          dataTable['output_type'] = 'display_data';\n",
              "          await google.colab.output.renderOutput(dataTable, element);\n",
              "          const docLink = document.createElement('div');\n",
              "          docLink.innerHTML = docLinkHtml;\n",
              "          element.appendChild(docLink);\n",
              "        }\n",
              "      </script>\n",
              "    </div>\n",
              "  </div>\n",
              "  "
            ]
          },
          "metadata": {},
          "execution_count": 11
        }
      ]
    },
    {
      "cell_type": "markdown",
      "source": [
        "# **Part I: Pre-Matching Sound Counts**"
      ],
      "metadata": {
        "id": "UfnC0rm1qTIY"
      }
    },
    {
      "cell_type": "markdown",
      "source": [
        "**1. Vowels**"
      ],
      "metadata": {
        "id": "nQlAK6o0qoyc"
      }
    },
    {
      "cell_type": "markdown",
      "source": [
        "**1.1 Count Syllables Per Utterance**"
      ],
      "metadata": {
        "id": "ejb-y3RL9JUU"
      }
    },
    {
      "cell_type": "code",
      "source": [
        "reading_vowels = reading[reading[\"Type\"]  == \"vowel\"] \n",
        "reading_vowels.index = range(len(reading_vowels.index))"
      ],
      "metadata": {
        "id": "3fvqLyg--ima"
      },
      "execution_count": 12,
      "outputs": []
    },
    {
      "cell_type": "code",
      "source": [
        "syll_col = pd.DataFrame()  ## initialize group-level dataframe\n",
        "for ID in IDs: ## loop over participnts\n",
        "  syll_current_ID = pd.DataFrame()   ## initialize participant-level dataframe\n",
        "  subset_sounds = reading[reading[\"ID\"] == ID]  # get subset of sound dataframe that corresponds to current participant\n",
        "  subset_sounds.index = range(len(subset_sounds.index)) # reset index\n",
        "  subset_vowels = subset_sounds[subset_sounds[\"Type\"] == \"vowel\"]  # get subset of sound dataframe that corresponds to current participant\n",
        "  subset_vowels.index = range(len(subset_vowels.index)) # reset index\n",
        "  syll = subset_vowels[\"Breath.Group\"].value_counts().sort_index() # count how often a certain Breath group occurs for this participant\n",
        "  syll.index = range(len(syll.index)) # reset index\n",
        "  for a in range (0,len(syll)): # go through all breath groups that this participant produced\n",
        "    syll_current_BG = pd.DataFrame()  ## initialize BG-level dataframe\n",
        "    syll_current_BG = pd.DataFrame(np.repeat(syll.iloc[a], syll.iloc[a], axis=0)) #replicate the sum sum times\n",
        "    syll_current_ID = syll_current_ID.append([syll_current_BG], ignore_index = True) # add BG-level dataframe to participant-level dataframe \n",
        "  syll_col = syll_col.append([syll_current_ID], ignore_index = True) # add participant-level dataframe to group-level dataframe"
      ],
      "metadata": {
        "id": "bXpqn4Ke9dm6"
      },
      "execution_count": 13,
      "outputs": []
    },
    {
      "cell_type": "code",
      "source": [
        "reading_vowels = pd.concat([reading_vowels, syll_col], axis=1)"
      ],
      "metadata": {
        "id": "huXiyYbO-aw6"
      },
      "execution_count": 14,
      "outputs": []
    },
    {
      "cell_type": "code",
      "source": [
        "reading_vowels.rename(columns = {0:'Syllables'}, inplace = True) # rename new column"
      ],
      "metadata": {
        "id": "Y8aGdukv_WN0"
      },
      "execution_count": 15,
      "outputs": []
    },
    {
      "cell_type": "code",
      "source": [
        "reading_vowels.groupby(\"Group\").mean()    ########### average counting 13 13 times"
      ],
      "metadata": {
        "colab": {
          "base_uri": "https://localhost:8080/",
          "height": 143
        },
        "id": "U1XXR_ex_Koy",
        "outputId": "0b93f8ad-dac7-4143-f6ed-ce4b08f8afc0"
      },
      "execution_count": 16,
      "outputs": [
        {
          "output_type": "execute_result",
          "data": {
            "text/plain": [
              "             Onset     Offset  Duration  Breath.Group          m  Syllables\n",
              "Group                                                                      \n",
              "Control  38.778176  38.862372  0.084196     14.571033  40.731234  14.841310\n",
              "PWS      34.920034  35.010382  0.090347     15.706039  32.564387  11.465808"
            ],
            "text/html": [
              "\n",
              "  <div id=\"df-07237e10-8d39-4dd5-ac09-3a9b1fa818a6\">\n",
              "    <div class=\"colab-df-container\">\n",
              "      <div>\n",
              "<style scoped>\n",
              "    .dataframe tbody tr th:only-of-type {\n",
              "        vertical-align: middle;\n",
              "    }\n",
              "\n",
              "    .dataframe tbody tr th {\n",
              "        vertical-align: top;\n",
              "    }\n",
              "\n",
              "    .dataframe thead th {\n",
              "        text-align: right;\n",
              "    }\n",
              "</style>\n",
              "<table border=\"1\" class=\"dataframe\">\n",
              "  <thead>\n",
              "    <tr style=\"text-align: right;\">\n",
              "      <th></th>\n",
              "      <th>Onset</th>\n",
              "      <th>Offset</th>\n",
              "      <th>Duration</th>\n",
              "      <th>Breath.Group</th>\n",
              "      <th>m</th>\n",
              "      <th>Syllables</th>\n",
              "    </tr>\n",
              "    <tr>\n",
              "      <th>Group</th>\n",
              "      <th></th>\n",
              "      <th></th>\n",
              "      <th></th>\n",
              "      <th></th>\n",
              "      <th></th>\n",
              "      <th></th>\n",
              "    </tr>\n",
              "  </thead>\n",
              "  <tbody>\n",
              "    <tr>\n",
              "      <th>Control</th>\n",
              "      <td>38.778176</td>\n",
              "      <td>38.862372</td>\n",
              "      <td>0.084196</td>\n",
              "      <td>14.571033</td>\n",
              "      <td>40.731234</td>\n",
              "      <td>14.841310</td>\n",
              "    </tr>\n",
              "    <tr>\n",
              "      <th>PWS</th>\n",
              "      <td>34.920034</td>\n",
              "      <td>35.010382</td>\n",
              "      <td>0.090347</td>\n",
              "      <td>15.706039</td>\n",
              "      <td>32.564387</td>\n",
              "      <td>11.465808</td>\n",
              "    </tr>\n",
              "  </tbody>\n",
              "</table>\n",
              "</div>\n",
              "      <button class=\"colab-df-convert\" onclick=\"convertToInteractive('df-07237e10-8d39-4dd5-ac09-3a9b1fa818a6')\"\n",
              "              title=\"Convert this dataframe to an interactive table.\"\n",
              "              style=\"display:none;\">\n",
              "        \n",
              "  <svg xmlns=\"http://www.w3.org/2000/svg\" height=\"24px\"viewBox=\"0 0 24 24\"\n",
              "       width=\"24px\">\n",
              "    <path d=\"M0 0h24v24H0V0z\" fill=\"none\"/>\n",
              "    <path d=\"M18.56 5.44l.94 2.06.94-2.06 2.06-.94-2.06-.94-.94-2.06-.94 2.06-2.06.94zm-11 1L8.5 8.5l.94-2.06 2.06-.94-2.06-.94L8.5 2.5l-.94 2.06-2.06.94zm10 10l.94 2.06.94-2.06 2.06-.94-2.06-.94-.94-2.06-.94 2.06-2.06.94z\"/><path d=\"M17.41 7.96l-1.37-1.37c-.4-.4-.92-.59-1.43-.59-.52 0-1.04.2-1.43.59L10.3 9.45l-7.72 7.72c-.78.78-.78 2.05 0 2.83L4 21.41c.39.39.9.59 1.41.59.51 0 1.02-.2 1.41-.59l7.78-7.78 2.81-2.81c.8-.78.8-2.07 0-2.86zM5.41 20L4 18.59l7.72-7.72 1.47 1.35L5.41 20z\"/>\n",
              "  </svg>\n",
              "      </button>\n",
              "      \n",
              "  <style>\n",
              "    .colab-df-container {\n",
              "      display:flex;\n",
              "      flex-wrap:wrap;\n",
              "      gap: 12px;\n",
              "    }\n",
              "\n",
              "    .colab-df-convert {\n",
              "      background-color: #E8F0FE;\n",
              "      border: none;\n",
              "      border-radius: 50%;\n",
              "      cursor: pointer;\n",
              "      display: none;\n",
              "      fill: #1967D2;\n",
              "      height: 32px;\n",
              "      padding: 0 0 0 0;\n",
              "      width: 32px;\n",
              "    }\n",
              "\n",
              "    .colab-df-convert:hover {\n",
              "      background-color: #E2EBFA;\n",
              "      box-shadow: 0px 1px 2px rgba(60, 64, 67, 0.3), 0px 1px 3px 1px rgba(60, 64, 67, 0.15);\n",
              "      fill: #174EA6;\n",
              "    }\n",
              "\n",
              "    [theme=dark] .colab-df-convert {\n",
              "      background-color: #3B4455;\n",
              "      fill: #D2E3FC;\n",
              "    }\n",
              "\n",
              "    [theme=dark] .colab-df-convert:hover {\n",
              "      background-color: #434B5C;\n",
              "      box-shadow: 0px 1px 3px 1px rgba(0, 0, 0, 0.15);\n",
              "      filter: drop-shadow(0px 1px 2px rgba(0, 0, 0, 0.3));\n",
              "      fill: #FFFFFF;\n",
              "    }\n",
              "  </style>\n",
              "\n",
              "      <script>\n",
              "        const buttonEl =\n",
              "          document.querySelector('#df-07237e10-8d39-4dd5-ac09-3a9b1fa818a6 button.colab-df-convert');\n",
              "        buttonEl.style.display =\n",
              "          google.colab.kernel.accessAllowed ? 'block' : 'none';\n",
              "\n",
              "        async function convertToInteractive(key) {\n",
              "          const element = document.querySelector('#df-07237e10-8d39-4dd5-ac09-3a9b1fa818a6');\n",
              "          const dataTable =\n",
              "            await google.colab.kernel.invokeFunction('convertToInteractive',\n",
              "                                                     [key], {});\n",
              "          if (!dataTable) return;\n",
              "\n",
              "          const docLinkHtml = 'Like what you see? Visit the ' +\n",
              "            '<a target=\"_blank\" href=https://colab.research.google.com/notebooks/data_table.ipynb>data table notebook</a>'\n",
              "            + ' to learn more about interactive tables.';\n",
              "          element.innerHTML = '';\n",
              "          dataTable['output_type'] = 'display_data';\n",
              "          await google.colab.output.renderOutput(dataTable, element);\n",
              "          const docLink = document.createElement('div');\n",
              "          docLink.innerHTML = docLinkHtml;\n",
              "          element.appendChild(docLink);\n",
              "        }\n",
              "      </script>\n",
              "    </div>\n",
              "  </div>\n",
              "  "
            ]
          },
          "metadata": {},
          "execution_count": 16
        }
      ]
    },
    {
      "cell_type": "markdown",
      "source": [
        "**1.2 Average #Syllables By Participant**"
      ],
      "metadata": {
        "id": "jKX1Ym7PAsNS"
      }
    },
    {
      "cell_type": "code",
      "source": [
        "subj_col = pd.DataFrame(['24fa', '24ma', '24mb', '26f', '29ma', '29mb', '29mc', '32m', '34m', '35mb', '46ma', '50fa', '50fb', '54f', '57m', '60m', '62f', '62m','C1_DS', 'C2_JH', 'C3_MD', 'C4_ZO', 'C5_HL', 'C6_LH', 'C7_SH', 'C9_RD', 'C10_KS', 'C11_NP', 'C12_CC', 'C13_RG'], columns = [\"ID\"])"
      ],
      "metadata": {
        "id": "xxKqytQ6EyOG"
      },
      "execution_count": 17,
      "outputs": []
    },
    {
      "cell_type": "code",
      "source": [
        "group_col = pd.DataFrame(index = range(len(subj_col)),columns=[\"Group\"])\n",
        "for i in range(0,len(group_col)):\n",
        "  if \"_\" in subj_col[\"ID\"][i]:\n",
        "    group_col[\"Group\"][i] = \"Control\"\n",
        "  else:\n",
        "    group_col[\"Group\"][i] = \"PWS\""
      ],
      "metadata": {
        "id": "DFC6d-QaF1_V"
      },
      "execution_count": 18,
      "outputs": []
    },
    {
      "cell_type": "code",
      "source": [
        "n = -1\n",
        "avg_col = pd.DataFrame(index = range(len(subj_col)),columns=[\"Syllables\"])\n",
        "for ID in IDs: ## loop over participnts\n",
        "  n = n + 1\n",
        "  subset_BGs = reading_vowels[reading_vowels[\"ID\"] == ID]  # get subset of sound dataframe that corresponds to current participant\n",
        "  subset_BGs.index = range(len(subset_BGs.index)) # reset index\n",
        "  BG_avg = subset_BGs.groupby(\"Breath.Group\").mean()\n",
        "  subj_avg = BG_avg[\"Syllables\"].mean()\n",
        "  avg_col[\"Syllables\"][n] = subj_avg"
      ],
      "metadata": {
        "id": "is0JT9WwEpVP"
      },
      "execution_count": 19,
      "outputs": []
    },
    {
      "cell_type": "code",
      "source": [
        "reading_vowels_Syll = pd.concat([group_col, subj_col, avg_col], axis=1)"
      ],
      "metadata": {
        "id": "Ke0ii7CpGebO"
      },
      "execution_count": 20,
      "outputs": []
    },
    {
      "cell_type": "code",
      "source": [
        "reading_vowels_Syll"
      ],
      "metadata": {
        "colab": {
          "base_uri": "https://localhost:8080/",
          "height": 989
        },
        "id": "n0aCcnWcHeXJ",
        "outputId": "a9f87259-e920-4cf5-e035-70607af15b9a"
      },
      "execution_count": 21,
      "outputs": [
        {
          "output_type": "execute_result",
          "data": {
            "text/plain": [
              "      Group      ID  Syllables\n",
              "0       PWS    24fa   8.423077\n",
              "1       PWS    24ma   8.548387\n",
              "2       PWS    24mb   8.432432\n",
              "3       PWS     26f  10.666667\n",
              "4       PWS    29ma   9.459459\n",
              "5       PWS    29mb     8.3125\n",
              "6       PWS    29mc   6.961538\n",
              "7       PWS     32m   8.586207\n",
              "8       PWS     34m       7.04\n",
              "9       PWS    35mb   5.684211\n",
              "10      PWS    46ma  11.392857\n",
              "11      PWS    50fa   9.741935\n",
              "12      PWS    50fb   6.470588\n",
              "13      PWS     54f     8.4375\n",
              "14      PWS     57m   8.096774\n",
              "15      PWS     60m   8.366667\n",
              "16      PWS     62f  10.090909\n",
              "17      PWS     62m        9.0\n",
              "18  Control   C1_DS  14.358033\n",
              "19  Control   C2_JH  14.610449\n",
              "20  Control   C3_MD  16.741585\n",
              "21  Control   C4_ZO  13.599601\n",
              "22  Control   C5_HL  13.102824\n",
              "23  Control   C6_LH   14.19808\n",
              "24  Control   C7_SH  14.496088\n",
              "25  Control   C9_RD  13.140706\n",
              "26  Control  C10_KS  13.551197\n",
              "27  Control  C11_NP  14.281987\n",
              "28  Control  C12_CC  12.897957\n",
              "29  Control  C13_RG  14.459808"
            ],
            "text/html": [
              "\n",
              "  <div id=\"df-96d74f31-8a4f-4193-88bc-cfc7181b3b19\">\n",
              "    <div class=\"colab-df-container\">\n",
              "      <div>\n",
              "<style scoped>\n",
              "    .dataframe tbody tr th:only-of-type {\n",
              "        vertical-align: middle;\n",
              "    }\n",
              "\n",
              "    .dataframe tbody tr th {\n",
              "        vertical-align: top;\n",
              "    }\n",
              "\n",
              "    .dataframe thead th {\n",
              "        text-align: right;\n",
              "    }\n",
              "</style>\n",
              "<table border=\"1\" class=\"dataframe\">\n",
              "  <thead>\n",
              "    <tr style=\"text-align: right;\">\n",
              "      <th></th>\n",
              "      <th>Group</th>\n",
              "      <th>ID</th>\n",
              "      <th>Syllables</th>\n",
              "    </tr>\n",
              "  </thead>\n",
              "  <tbody>\n",
              "    <tr>\n",
              "      <th>0</th>\n",
              "      <td>PWS</td>\n",
              "      <td>24fa</td>\n",
              "      <td>8.423077</td>\n",
              "    </tr>\n",
              "    <tr>\n",
              "      <th>1</th>\n",
              "      <td>PWS</td>\n",
              "      <td>24ma</td>\n",
              "      <td>8.548387</td>\n",
              "    </tr>\n",
              "    <tr>\n",
              "      <th>2</th>\n",
              "      <td>PWS</td>\n",
              "      <td>24mb</td>\n",
              "      <td>8.432432</td>\n",
              "    </tr>\n",
              "    <tr>\n",
              "      <th>3</th>\n",
              "      <td>PWS</td>\n",
              "      <td>26f</td>\n",
              "      <td>10.666667</td>\n",
              "    </tr>\n",
              "    <tr>\n",
              "      <th>4</th>\n",
              "      <td>PWS</td>\n",
              "      <td>29ma</td>\n",
              "      <td>9.459459</td>\n",
              "    </tr>\n",
              "    <tr>\n",
              "      <th>5</th>\n",
              "      <td>PWS</td>\n",
              "      <td>29mb</td>\n",
              "      <td>8.3125</td>\n",
              "    </tr>\n",
              "    <tr>\n",
              "      <th>6</th>\n",
              "      <td>PWS</td>\n",
              "      <td>29mc</td>\n",
              "      <td>6.961538</td>\n",
              "    </tr>\n",
              "    <tr>\n",
              "      <th>7</th>\n",
              "      <td>PWS</td>\n",
              "      <td>32m</td>\n",
              "      <td>8.586207</td>\n",
              "    </tr>\n",
              "    <tr>\n",
              "      <th>8</th>\n",
              "      <td>PWS</td>\n",
              "      <td>34m</td>\n",
              "      <td>7.04</td>\n",
              "    </tr>\n",
              "    <tr>\n",
              "      <th>9</th>\n",
              "      <td>PWS</td>\n",
              "      <td>35mb</td>\n",
              "      <td>5.684211</td>\n",
              "    </tr>\n",
              "    <tr>\n",
              "      <th>10</th>\n",
              "      <td>PWS</td>\n",
              "      <td>46ma</td>\n",
              "      <td>11.392857</td>\n",
              "    </tr>\n",
              "    <tr>\n",
              "      <th>11</th>\n",
              "      <td>PWS</td>\n",
              "      <td>50fa</td>\n",
              "      <td>9.741935</td>\n",
              "    </tr>\n",
              "    <tr>\n",
              "      <th>12</th>\n",
              "      <td>PWS</td>\n",
              "      <td>50fb</td>\n",
              "      <td>6.470588</td>\n",
              "    </tr>\n",
              "    <tr>\n",
              "      <th>13</th>\n",
              "      <td>PWS</td>\n",
              "      <td>54f</td>\n",
              "      <td>8.4375</td>\n",
              "    </tr>\n",
              "    <tr>\n",
              "      <th>14</th>\n",
              "      <td>PWS</td>\n",
              "      <td>57m</td>\n",
              "      <td>8.096774</td>\n",
              "    </tr>\n",
              "    <tr>\n",
              "      <th>15</th>\n",
              "      <td>PWS</td>\n",
              "      <td>60m</td>\n",
              "      <td>8.366667</td>\n",
              "    </tr>\n",
              "    <tr>\n",
              "      <th>16</th>\n",
              "      <td>PWS</td>\n",
              "      <td>62f</td>\n",
              "      <td>10.090909</td>\n",
              "    </tr>\n",
              "    <tr>\n",
              "      <th>17</th>\n",
              "      <td>PWS</td>\n",
              "      <td>62m</td>\n",
              "      <td>9.0</td>\n",
              "    </tr>\n",
              "    <tr>\n",
              "      <th>18</th>\n",
              "      <td>Control</td>\n",
              "      <td>C1_DS</td>\n",
              "      <td>14.358033</td>\n",
              "    </tr>\n",
              "    <tr>\n",
              "      <th>19</th>\n",
              "      <td>Control</td>\n",
              "      <td>C2_JH</td>\n",
              "      <td>14.610449</td>\n",
              "    </tr>\n",
              "    <tr>\n",
              "      <th>20</th>\n",
              "      <td>Control</td>\n",
              "      <td>C3_MD</td>\n",
              "      <td>16.741585</td>\n",
              "    </tr>\n",
              "    <tr>\n",
              "      <th>21</th>\n",
              "      <td>Control</td>\n",
              "      <td>C4_ZO</td>\n",
              "      <td>13.599601</td>\n",
              "    </tr>\n",
              "    <tr>\n",
              "      <th>22</th>\n",
              "      <td>Control</td>\n",
              "      <td>C5_HL</td>\n",
              "      <td>13.102824</td>\n",
              "    </tr>\n",
              "    <tr>\n",
              "      <th>23</th>\n",
              "      <td>Control</td>\n",
              "      <td>C6_LH</td>\n",
              "      <td>14.19808</td>\n",
              "    </tr>\n",
              "    <tr>\n",
              "      <th>24</th>\n",
              "      <td>Control</td>\n",
              "      <td>C7_SH</td>\n",
              "      <td>14.496088</td>\n",
              "    </tr>\n",
              "    <tr>\n",
              "      <th>25</th>\n",
              "      <td>Control</td>\n",
              "      <td>C9_RD</td>\n",
              "      <td>13.140706</td>\n",
              "    </tr>\n",
              "    <tr>\n",
              "      <th>26</th>\n",
              "      <td>Control</td>\n",
              "      <td>C10_KS</td>\n",
              "      <td>13.551197</td>\n",
              "    </tr>\n",
              "    <tr>\n",
              "      <th>27</th>\n",
              "      <td>Control</td>\n",
              "      <td>C11_NP</td>\n",
              "      <td>14.281987</td>\n",
              "    </tr>\n",
              "    <tr>\n",
              "      <th>28</th>\n",
              "      <td>Control</td>\n",
              "      <td>C12_CC</td>\n",
              "      <td>12.897957</td>\n",
              "    </tr>\n",
              "    <tr>\n",
              "      <th>29</th>\n",
              "      <td>Control</td>\n",
              "      <td>C13_RG</td>\n",
              "      <td>14.459808</td>\n",
              "    </tr>\n",
              "  </tbody>\n",
              "</table>\n",
              "</div>\n",
              "      <button class=\"colab-df-convert\" onclick=\"convertToInteractive('df-96d74f31-8a4f-4193-88bc-cfc7181b3b19')\"\n",
              "              title=\"Convert this dataframe to an interactive table.\"\n",
              "              style=\"display:none;\">\n",
              "        \n",
              "  <svg xmlns=\"http://www.w3.org/2000/svg\" height=\"24px\"viewBox=\"0 0 24 24\"\n",
              "       width=\"24px\">\n",
              "    <path d=\"M0 0h24v24H0V0z\" fill=\"none\"/>\n",
              "    <path d=\"M18.56 5.44l.94 2.06.94-2.06 2.06-.94-2.06-.94-.94-2.06-.94 2.06-2.06.94zm-11 1L8.5 8.5l.94-2.06 2.06-.94-2.06-.94L8.5 2.5l-.94 2.06-2.06.94zm10 10l.94 2.06.94-2.06 2.06-.94-2.06-.94-.94-2.06-.94 2.06-2.06.94z\"/><path d=\"M17.41 7.96l-1.37-1.37c-.4-.4-.92-.59-1.43-.59-.52 0-1.04.2-1.43.59L10.3 9.45l-7.72 7.72c-.78.78-.78 2.05 0 2.83L4 21.41c.39.39.9.59 1.41.59.51 0 1.02-.2 1.41-.59l7.78-7.78 2.81-2.81c.8-.78.8-2.07 0-2.86zM5.41 20L4 18.59l7.72-7.72 1.47 1.35L5.41 20z\"/>\n",
              "  </svg>\n",
              "      </button>\n",
              "      \n",
              "  <style>\n",
              "    .colab-df-container {\n",
              "      display:flex;\n",
              "      flex-wrap:wrap;\n",
              "      gap: 12px;\n",
              "    }\n",
              "\n",
              "    .colab-df-convert {\n",
              "      background-color: #E8F0FE;\n",
              "      border: none;\n",
              "      border-radius: 50%;\n",
              "      cursor: pointer;\n",
              "      display: none;\n",
              "      fill: #1967D2;\n",
              "      height: 32px;\n",
              "      padding: 0 0 0 0;\n",
              "      width: 32px;\n",
              "    }\n",
              "\n",
              "    .colab-df-convert:hover {\n",
              "      background-color: #E2EBFA;\n",
              "      box-shadow: 0px 1px 2px rgba(60, 64, 67, 0.3), 0px 1px 3px 1px rgba(60, 64, 67, 0.15);\n",
              "      fill: #174EA6;\n",
              "    }\n",
              "\n",
              "    [theme=dark] .colab-df-convert {\n",
              "      background-color: #3B4455;\n",
              "      fill: #D2E3FC;\n",
              "    }\n",
              "\n",
              "    [theme=dark] .colab-df-convert:hover {\n",
              "      background-color: #434B5C;\n",
              "      box-shadow: 0px 1px 3px 1px rgba(0, 0, 0, 0.15);\n",
              "      filter: drop-shadow(0px 1px 2px rgba(0, 0, 0, 0.3));\n",
              "      fill: #FFFFFF;\n",
              "    }\n",
              "  </style>\n",
              "\n",
              "      <script>\n",
              "        const buttonEl =\n",
              "          document.querySelector('#df-96d74f31-8a4f-4193-88bc-cfc7181b3b19 button.colab-df-convert');\n",
              "        buttonEl.style.display =\n",
              "          google.colab.kernel.accessAllowed ? 'block' : 'none';\n",
              "\n",
              "        async function convertToInteractive(key) {\n",
              "          const element = document.querySelector('#df-96d74f31-8a4f-4193-88bc-cfc7181b3b19');\n",
              "          const dataTable =\n",
              "            await google.colab.kernel.invokeFunction('convertToInteractive',\n",
              "                                                     [key], {});\n",
              "          if (!dataTable) return;\n",
              "\n",
              "          const docLinkHtml = 'Like what you see? Visit the ' +\n",
              "            '<a target=\"_blank\" href=https://colab.research.google.com/notebooks/data_table.ipynb>data table notebook</a>'\n",
              "            + ' to learn more about interactive tables.';\n",
              "          element.innerHTML = '';\n",
              "          dataTable['output_type'] = 'display_data';\n",
              "          await google.colab.output.renderOutput(dataTable, element);\n",
              "          const docLink = document.createElement('div');\n",
              "          docLink.innerHTML = docLinkHtml;\n",
              "          element.appendChild(docLink);\n",
              "        }\n",
              "      </script>\n",
              "    </div>\n",
              "  </div>\n",
              "  "
            ]
          },
          "metadata": {},
          "execution_count": 21
        }
      ]
    },
    {
      "cell_type": "markdown",
      "source": [
        "**1.3 Compare Average Syllables per Utterance Across Groups**\n"
      ],
      "metadata": {
        "id": "Td04XERHHwlQ"
      }
    },
    {
      "cell_type": "code",
      "source": [
        "comparison_v = reading_vowels_Syll.groupby(\"Group\").mean()"
      ],
      "metadata": {
        "colab": {
          "base_uri": "https://localhost:8080/"
        },
        "id": "Yf-12rBQH0-t",
        "outputId": "931085e4-6b7e-4587-a909-80edb56a7f06"
      },
      "execution_count": 22,
      "outputs": [
        {
          "output_type": "stream",
          "name": "stderr",
          "text": [
            "/usr/local/lib/python3.7/dist-packages/IPython/core/interactiveshell.py:2882: FutureWarning: Dropping invalid columns in DataFrameGroupBy.mean is deprecated. In a future version, a TypeError will be raised. Before calling .mean, select only columns which should be valid for the function.\n",
            "  exec(code_obj, self.user_global_ns, self.user_ns)\n"
          ]
        }
      ]
    },
    {
      "cell_type": "code",
      "source": [
        "comparison_v"
      ],
      "metadata": {
        "colab": {
          "base_uri": "https://localhost:8080/",
          "height": 143
        },
        "id": "W0YNiXIs7umW",
        "outputId": "28678423-9a88-4152-a14f-23ec9219934f"
      },
      "execution_count": 23,
      "outputs": [
        {
          "output_type": "execute_result",
          "data": {
            "text/plain": [
              "         Syllables\n",
              "Group             \n",
              "Control  14.119860\n",
              "PWS       8.539539"
            ],
            "text/html": [
              "\n",
              "  <div id=\"df-ea2c59d4-4286-4f7d-869b-88aa2775d07d\">\n",
              "    <div class=\"colab-df-container\">\n",
              "      <div>\n",
              "<style scoped>\n",
              "    .dataframe tbody tr th:only-of-type {\n",
              "        vertical-align: middle;\n",
              "    }\n",
              "\n",
              "    .dataframe tbody tr th {\n",
              "        vertical-align: top;\n",
              "    }\n",
              "\n",
              "    .dataframe thead th {\n",
              "        text-align: right;\n",
              "    }\n",
              "</style>\n",
              "<table border=\"1\" class=\"dataframe\">\n",
              "  <thead>\n",
              "    <tr style=\"text-align: right;\">\n",
              "      <th></th>\n",
              "      <th>Syllables</th>\n",
              "    </tr>\n",
              "    <tr>\n",
              "      <th>Group</th>\n",
              "      <th></th>\n",
              "    </tr>\n",
              "  </thead>\n",
              "  <tbody>\n",
              "    <tr>\n",
              "      <th>Control</th>\n",
              "      <td>14.119860</td>\n",
              "    </tr>\n",
              "    <tr>\n",
              "      <th>PWS</th>\n",
              "      <td>8.539539</td>\n",
              "    </tr>\n",
              "  </tbody>\n",
              "</table>\n",
              "</div>\n",
              "      <button class=\"colab-df-convert\" onclick=\"convertToInteractive('df-ea2c59d4-4286-4f7d-869b-88aa2775d07d')\"\n",
              "              title=\"Convert this dataframe to an interactive table.\"\n",
              "              style=\"display:none;\">\n",
              "        \n",
              "  <svg xmlns=\"http://www.w3.org/2000/svg\" height=\"24px\"viewBox=\"0 0 24 24\"\n",
              "       width=\"24px\">\n",
              "    <path d=\"M0 0h24v24H0V0z\" fill=\"none\"/>\n",
              "    <path d=\"M18.56 5.44l.94 2.06.94-2.06 2.06-.94-2.06-.94-.94-2.06-.94 2.06-2.06.94zm-11 1L8.5 8.5l.94-2.06 2.06-.94-2.06-.94L8.5 2.5l-.94 2.06-2.06.94zm10 10l.94 2.06.94-2.06 2.06-.94-2.06-.94-.94-2.06-.94 2.06-2.06.94z\"/><path d=\"M17.41 7.96l-1.37-1.37c-.4-.4-.92-.59-1.43-.59-.52 0-1.04.2-1.43.59L10.3 9.45l-7.72 7.72c-.78.78-.78 2.05 0 2.83L4 21.41c.39.39.9.59 1.41.59.51 0 1.02-.2 1.41-.59l7.78-7.78 2.81-2.81c.8-.78.8-2.07 0-2.86zM5.41 20L4 18.59l7.72-7.72 1.47 1.35L5.41 20z\"/>\n",
              "  </svg>\n",
              "      </button>\n",
              "      \n",
              "  <style>\n",
              "    .colab-df-container {\n",
              "      display:flex;\n",
              "      flex-wrap:wrap;\n",
              "      gap: 12px;\n",
              "    }\n",
              "\n",
              "    .colab-df-convert {\n",
              "      background-color: #E8F0FE;\n",
              "      border: none;\n",
              "      border-radius: 50%;\n",
              "      cursor: pointer;\n",
              "      display: none;\n",
              "      fill: #1967D2;\n",
              "      height: 32px;\n",
              "      padding: 0 0 0 0;\n",
              "      width: 32px;\n",
              "    }\n",
              "\n",
              "    .colab-df-convert:hover {\n",
              "      background-color: #E2EBFA;\n",
              "      box-shadow: 0px 1px 2px rgba(60, 64, 67, 0.3), 0px 1px 3px 1px rgba(60, 64, 67, 0.15);\n",
              "      fill: #174EA6;\n",
              "    }\n",
              "\n",
              "    [theme=dark] .colab-df-convert {\n",
              "      background-color: #3B4455;\n",
              "      fill: #D2E3FC;\n",
              "    }\n",
              "\n",
              "    [theme=dark] .colab-df-convert:hover {\n",
              "      background-color: #434B5C;\n",
              "      box-shadow: 0px 1px 3px 1px rgba(0, 0, 0, 0.15);\n",
              "      filter: drop-shadow(0px 1px 2px rgba(0, 0, 0, 0.3));\n",
              "      fill: #FFFFFF;\n",
              "    }\n",
              "  </style>\n",
              "\n",
              "      <script>\n",
              "        const buttonEl =\n",
              "          document.querySelector('#df-ea2c59d4-4286-4f7d-869b-88aa2775d07d button.colab-df-convert');\n",
              "        buttonEl.style.display =\n",
              "          google.colab.kernel.accessAllowed ? 'block' : 'none';\n",
              "\n",
              "        async function convertToInteractive(key) {\n",
              "          const element = document.querySelector('#df-ea2c59d4-4286-4f7d-869b-88aa2775d07d');\n",
              "          const dataTable =\n",
              "            await google.colab.kernel.invokeFunction('convertToInteractive',\n",
              "                                                     [key], {});\n",
              "          if (!dataTable) return;\n",
              "\n",
              "          const docLinkHtml = 'Like what you see? Visit the ' +\n",
              "            '<a target=\"_blank\" href=https://colab.research.google.com/notebooks/data_table.ipynb>data table notebook</a>'\n",
              "            + ' to learn more about interactive tables.';\n",
              "          element.innerHTML = '';\n",
              "          dataTable['output_type'] = 'display_data';\n",
              "          await google.colab.output.renderOutput(dataTable, element);\n",
              "          const docLink = document.createElement('div');\n",
              "          docLink.innerHTML = docLinkHtml;\n",
              "          element.appendChild(docLink);\n",
              "        }\n",
              "      </script>\n",
              "    </div>\n",
              "  </div>\n",
              "  "
            ]
          },
          "metadata": {},
          "execution_count": 23
        }
      ]
    },
    {
      "cell_type": "code",
      "source": [
        "control_v = comparison_v[\"Syllables\"][0]\n",
        "pws_v = comparison_v[\"Syllables\"][1]\n",
        "difference_v = control_v - pws_v"
      ],
      "metadata": {
        "id": "g64bC5TOIFTH"
      },
      "execution_count": 24,
      "outputs": []
    },
    {
      "cell_type": "code",
      "source": [
        "string1 = (f\"PWS produced on average {round(pws_v,2)} syllables per utterance, while control participants produced {round(control_v,2)} syllables on average.\")\n",
        "string2 = (f\"This means that on average control participants produced {round(difference_v,2)} syllables more per utterance.\")"
      ],
      "metadata": {
        "id": "6shYFJ8mIgv5"
      },
      "execution_count": 25,
      "outputs": []
    },
    {
      "cell_type": "code",
      "source": [
        "print(string1)\n",
        "print(string2)"
      ],
      "metadata": {
        "colab": {
          "base_uri": "https://localhost:8080/"
        },
        "id": "D0xQQTYiJI5M",
        "outputId": "99cee95a-24cf-448a-e088-6e21401f6668"
      },
      "execution_count": 26,
      "outputs": [
        {
          "output_type": "stream",
          "name": "stdout",
          "text": [
            "PWS produced on average 8.54 syllables per utterance, while control participants produced 14.12 syllables on average.\n",
            "This means that on average control participants produced 5.58 syllables more per utterance.\n"
          ]
        }
      ]
    },
    {
      "cell_type": "markdown",
      "source": [
        "**2. Consonants**"
      ],
      "metadata": {
        "id": "RwdmYl1YqxVl"
      }
    },
    {
      "cell_type": "markdown",
      "source": [
        "**2.1 Count Consonant Per Utterance**"
      ],
      "metadata": {
        "id": "18K5xG1S38iS"
      }
    },
    {
      "cell_type": "code",
      "source": [
        "reading_cons = reading[reading[\"Type\"]  == \"consonant\"] \n",
        "reading_cons.index = range(len(reading_cons.index))"
      ],
      "metadata": {
        "id": "D3WztCkP0zoS"
      },
      "execution_count": 27,
      "outputs": []
    },
    {
      "cell_type": "code",
      "source": [
        "con_col = pd.DataFrame()  ## initialize group-level dataframe\n",
        "for ID in IDs: ## loop over participnts\n",
        "  con_current_ID = pd.DataFrame()   ## initialize participant-level dataframe\n",
        "  subset_sounds = reading[reading[\"ID\"] == ID]  # get subset of sound dataframe that corresponds to current participant\n",
        "  subset_sounds.index = range(len(subset_sounds.index)) # reset index\n",
        "  subset_cons = subset_sounds[subset_sounds[\"Type\"] == \"consonant\"]  # get subset of sound dataframe that corresponds to current participant\n",
        "  subset_cons.index = range(len(subset_cons.index)) # reset index\n",
        "  con = subset_cons[\"Breath.Group\"].value_counts().sort_index() # count how often a certain Breath group occurs for this participant\n",
        "  con.index = range(len(con.index)) # reset index\n",
        "  for a in range (0,len(con)): # go through all breath groups that this participant produced\n",
        "    con_current_BG = pd.DataFrame()  ## initialize BG-level dataframe\n",
        "    con_current_BG = pd.DataFrame(np.repeat(con.iloc[a], con.iloc[a], axis=0)) #replicate the sum sum times\n",
        "    con_current_ID = con_current_ID.append([con_current_BG], ignore_index = True) # add BG-level dataframe to participant-level dataframe \n",
        "  con_col = con_col.append([con_current_ID], ignore_index = True) # add participant-level dataframe to group-level dataframe"
      ],
      "metadata": {
        "id": "hvMWD0Tp06K4"
      },
      "execution_count": 28,
      "outputs": []
    },
    {
      "cell_type": "code",
      "source": [
        "reading_cons = pd.concat([reading_cons, con_col], axis=1)"
      ],
      "metadata": {
        "id": "AmcoxsM506F5"
      },
      "execution_count": 29,
      "outputs": []
    },
    {
      "cell_type": "code",
      "source": [
        "reading_cons.rename(columns = {0:'Consonants'}, inplace = True) # rename new column"
      ],
      "metadata": {
        "id": "wzNKgaBA094I"
      },
      "execution_count": 30,
      "outputs": []
    },
    {
      "cell_type": "code",
      "source": [
        "reading_cons"
      ],
      "metadata": {
        "colab": {
          "base_uri": "https://localhost:8080/",
          "height": 423
        },
        "id": "FjIXd-vg09xw",
        "outputId": "a15625c1-33ba-4b52-e8d7-28e3de0639c7"
      },
      "execution_count": 31,
      "outputs": [
        {
          "output_type": "execute_result",
          "data": {
            "text/plain": [
              "         Group      ID       Type Sound   Onset  Offset  Duration  \\\n",
              "0          PWS    24fa  consonant   \"S\"   0.143   0.263     0.120   \n",
              "1          PWS    24fa  consonant  \"HH\"   0.343   0.482     0.139   \n",
              "2          PWS    24fa  consonant   \"R\"   0.573   0.702     0.129   \n",
              "3          PWS    24fa  consonant   \"W\"   0.702   0.732     0.030   \n",
              "4          PWS    24fa  consonant   \"R\"   0.852   1.022     0.170   \n",
              "...        ...     ...        ...   ...     ...     ...       ...   \n",
              "13004  Control  C13_RG  consonant   \"N\"  87.251  87.371     0.120   \n",
              "13005  Control  C13_RG  consonant   \"S\"  87.531  87.691     0.160   \n",
              "13006  Control  C13_RG  consonant   \"N\"  87.881  87.910     0.029   \n",
              "13007  Control  C13_RG  consonant   \"M\"  88.081  88.191     0.110   \n",
              "13008  Control  C13_RG  consonant   \"Z\"  88.191  88.281     0.090   \n",
              "\n",
              "       Breath.Group   m  Consonants  \n",
              "0                 1  33          14  \n",
              "1                 1  33          14  \n",
              "2                 1  33          14  \n",
              "3                 1  33          14  \n",
              "4                 1  33          14  \n",
              "...             ...  ..         ...  \n",
              "13004            28  38          20  \n",
              "13005            28  38          20  \n",
              "13006            28  38          20  \n",
              "13007            28  38          20  \n",
              "13008            28  38          20  \n",
              "\n",
              "[13009 rows x 10 columns]"
            ],
            "text/html": [
              "\n",
              "  <div id=\"df-f2c06ffe-fd2e-472c-8d4a-9825ed8a1f7b\">\n",
              "    <div class=\"colab-df-container\">\n",
              "      <div>\n",
              "<style scoped>\n",
              "    .dataframe tbody tr th:only-of-type {\n",
              "        vertical-align: middle;\n",
              "    }\n",
              "\n",
              "    .dataframe tbody tr th {\n",
              "        vertical-align: top;\n",
              "    }\n",
              "\n",
              "    .dataframe thead th {\n",
              "        text-align: right;\n",
              "    }\n",
              "</style>\n",
              "<table border=\"1\" class=\"dataframe\">\n",
              "  <thead>\n",
              "    <tr style=\"text-align: right;\">\n",
              "      <th></th>\n",
              "      <th>Group</th>\n",
              "      <th>ID</th>\n",
              "      <th>Type</th>\n",
              "      <th>Sound</th>\n",
              "      <th>Onset</th>\n",
              "      <th>Offset</th>\n",
              "      <th>Duration</th>\n",
              "      <th>Breath.Group</th>\n",
              "      <th>m</th>\n",
              "      <th>Consonants</th>\n",
              "    </tr>\n",
              "  </thead>\n",
              "  <tbody>\n",
              "    <tr>\n",
              "      <th>0</th>\n",
              "      <td>PWS</td>\n",
              "      <td>24fa</td>\n",
              "      <td>consonant</td>\n",
              "      <td>\"S\"</td>\n",
              "      <td>0.143</td>\n",
              "      <td>0.263</td>\n",
              "      <td>0.120</td>\n",
              "      <td>1</td>\n",
              "      <td>33</td>\n",
              "      <td>14</td>\n",
              "    </tr>\n",
              "    <tr>\n",
              "      <th>1</th>\n",
              "      <td>PWS</td>\n",
              "      <td>24fa</td>\n",
              "      <td>consonant</td>\n",
              "      <td>\"HH\"</td>\n",
              "      <td>0.343</td>\n",
              "      <td>0.482</td>\n",
              "      <td>0.139</td>\n",
              "      <td>1</td>\n",
              "      <td>33</td>\n",
              "      <td>14</td>\n",
              "    </tr>\n",
              "    <tr>\n",
              "      <th>2</th>\n",
              "      <td>PWS</td>\n",
              "      <td>24fa</td>\n",
              "      <td>consonant</td>\n",
              "      <td>\"R\"</td>\n",
              "      <td>0.573</td>\n",
              "      <td>0.702</td>\n",
              "      <td>0.129</td>\n",
              "      <td>1</td>\n",
              "      <td>33</td>\n",
              "      <td>14</td>\n",
              "    </tr>\n",
              "    <tr>\n",
              "      <th>3</th>\n",
              "      <td>PWS</td>\n",
              "      <td>24fa</td>\n",
              "      <td>consonant</td>\n",
              "      <td>\"W\"</td>\n",
              "      <td>0.702</td>\n",
              "      <td>0.732</td>\n",
              "      <td>0.030</td>\n",
              "      <td>1</td>\n",
              "      <td>33</td>\n",
              "      <td>14</td>\n",
              "    </tr>\n",
              "    <tr>\n",
              "      <th>4</th>\n",
              "      <td>PWS</td>\n",
              "      <td>24fa</td>\n",
              "      <td>consonant</td>\n",
              "      <td>\"R\"</td>\n",
              "      <td>0.852</td>\n",
              "      <td>1.022</td>\n",
              "      <td>0.170</td>\n",
              "      <td>1</td>\n",
              "      <td>33</td>\n",
              "      <td>14</td>\n",
              "    </tr>\n",
              "    <tr>\n",
              "      <th>...</th>\n",
              "      <td>...</td>\n",
              "      <td>...</td>\n",
              "      <td>...</td>\n",
              "      <td>...</td>\n",
              "      <td>...</td>\n",
              "      <td>...</td>\n",
              "      <td>...</td>\n",
              "      <td>...</td>\n",
              "      <td>...</td>\n",
              "      <td>...</td>\n",
              "    </tr>\n",
              "    <tr>\n",
              "      <th>13004</th>\n",
              "      <td>Control</td>\n",
              "      <td>C13_RG</td>\n",
              "      <td>consonant</td>\n",
              "      <td>\"N\"</td>\n",
              "      <td>87.251</td>\n",
              "      <td>87.371</td>\n",
              "      <td>0.120</td>\n",
              "      <td>28</td>\n",
              "      <td>38</td>\n",
              "      <td>20</td>\n",
              "    </tr>\n",
              "    <tr>\n",
              "      <th>13005</th>\n",
              "      <td>Control</td>\n",
              "      <td>C13_RG</td>\n",
              "      <td>consonant</td>\n",
              "      <td>\"S\"</td>\n",
              "      <td>87.531</td>\n",
              "      <td>87.691</td>\n",
              "      <td>0.160</td>\n",
              "      <td>28</td>\n",
              "      <td>38</td>\n",
              "      <td>20</td>\n",
              "    </tr>\n",
              "    <tr>\n",
              "      <th>13006</th>\n",
              "      <td>Control</td>\n",
              "      <td>C13_RG</td>\n",
              "      <td>consonant</td>\n",
              "      <td>\"N\"</td>\n",
              "      <td>87.881</td>\n",
              "      <td>87.910</td>\n",
              "      <td>0.029</td>\n",
              "      <td>28</td>\n",
              "      <td>38</td>\n",
              "      <td>20</td>\n",
              "    </tr>\n",
              "    <tr>\n",
              "      <th>13007</th>\n",
              "      <td>Control</td>\n",
              "      <td>C13_RG</td>\n",
              "      <td>consonant</td>\n",
              "      <td>\"M\"</td>\n",
              "      <td>88.081</td>\n",
              "      <td>88.191</td>\n",
              "      <td>0.110</td>\n",
              "      <td>28</td>\n",
              "      <td>38</td>\n",
              "      <td>20</td>\n",
              "    </tr>\n",
              "    <tr>\n",
              "      <th>13008</th>\n",
              "      <td>Control</td>\n",
              "      <td>C13_RG</td>\n",
              "      <td>consonant</td>\n",
              "      <td>\"Z\"</td>\n",
              "      <td>88.191</td>\n",
              "      <td>88.281</td>\n",
              "      <td>0.090</td>\n",
              "      <td>28</td>\n",
              "      <td>38</td>\n",
              "      <td>20</td>\n",
              "    </tr>\n",
              "  </tbody>\n",
              "</table>\n",
              "<p>13009 rows × 10 columns</p>\n",
              "</div>\n",
              "      <button class=\"colab-df-convert\" onclick=\"convertToInteractive('df-f2c06ffe-fd2e-472c-8d4a-9825ed8a1f7b')\"\n",
              "              title=\"Convert this dataframe to an interactive table.\"\n",
              "              style=\"display:none;\">\n",
              "        \n",
              "  <svg xmlns=\"http://www.w3.org/2000/svg\" height=\"24px\"viewBox=\"0 0 24 24\"\n",
              "       width=\"24px\">\n",
              "    <path d=\"M0 0h24v24H0V0z\" fill=\"none\"/>\n",
              "    <path d=\"M18.56 5.44l.94 2.06.94-2.06 2.06-.94-2.06-.94-.94-2.06-.94 2.06-2.06.94zm-11 1L8.5 8.5l.94-2.06 2.06-.94-2.06-.94L8.5 2.5l-.94 2.06-2.06.94zm10 10l.94 2.06.94-2.06 2.06-.94-2.06-.94-.94-2.06-.94 2.06-2.06.94z\"/><path d=\"M17.41 7.96l-1.37-1.37c-.4-.4-.92-.59-1.43-.59-.52 0-1.04.2-1.43.59L10.3 9.45l-7.72 7.72c-.78.78-.78 2.05 0 2.83L4 21.41c.39.39.9.59 1.41.59.51 0 1.02-.2 1.41-.59l7.78-7.78 2.81-2.81c.8-.78.8-2.07 0-2.86zM5.41 20L4 18.59l7.72-7.72 1.47 1.35L5.41 20z\"/>\n",
              "  </svg>\n",
              "      </button>\n",
              "      \n",
              "  <style>\n",
              "    .colab-df-container {\n",
              "      display:flex;\n",
              "      flex-wrap:wrap;\n",
              "      gap: 12px;\n",
              "    }\n",
              "\n",
              "    .colab-df-convert {\n",
              "      background-color: #E8F0FE;\n",
              "      border: none;\n",
              "      border-radius: 50%;\n",
              "      cursor: pointer;\n",
              "      display: none;\n",
              "      fill: #1967D2;\n",
              "      height: 32px;\n",
              "      padding: 0 0 0 0;\n",
              "      width: 32px;\n",
              "    }\n",
              "\n",
              "    .colab-df-convert:hover {\n",
              "      background-color: #E2EBFA;\n",
              "      box-shadow: 0px 1px 2px rgba(60, 64, 67, 0.3), 0px 1px 3px 1px rgba(60, 64, 67, 0.15);\n",
              "      fill: #174EA6;\n",
              "    }\n",
              "\n",
              "    [theme=dark] .colab-df-convert {\n",
              "      background-color: #3B4455;\n",
              "      fill: #D2E3FC;\n",
              "    }\n",
              "\n",
              "    [theme=dark] .colab-df-convert:hover {\n",
              "      background-color: #434B5C;\n",
              "      box-shadow: 0px 1px 3px 1px rgba(0, 0, 0, 0.15);\n",
              "      filter: drop-shadow(0px 1px 2px rgba(0, 0, 0, 0.3));\n",
              "      fill: #FFFFFF;\n",
              "    }\n",
              "  </style>\n",
              "\n",
              "      <script>\n",
              "        const buttonEl =\n",
              "          document.querySelector('#df-f2c06ffe-fd2e-472c-8d4a-9825ed8a1f7b button.colab-df-convert');\n",
              "        buttonEl.style.display =\n",
              "          google.colab.kernel.accessAllowed ? 'block' : 'none';\n",
              "\n",
              "        async function convertToInteractive(key) {\n",
              "          const element = document.querySelector('#df-f2c06ffe-fd2e-472c-8d4a-9825ed8a1f7b');\n",
              "          const dataTable =\n",
              "            await google.colab.kernel.invokeFunction('convertToInteractive',\n",
              "                                                     [key], {});\n",
              "          if (!dataTable) return;\n",
              "\n",
              "          const docLinkHtml = 'Like what you see? Visit the ' +\n",
              "            '<a target=\"_blank\" href=https://colab.research.google.com/notebooks/data_table.ipynb>data table notebook</a>'\n",
              "            + ' to learn more about interactive tables.';\n",
              "          element.innerHTML = '';\n",
              "          dataTable['output_type'] = 'display_data';\n",
              "          await google.colab.output.renderOutput(dataTable, element);\n",
              "          const docLink = document.createElement('div');\n",
              "          docLink.innerHTML = docLinkHtml;\n",
              "          element.appendChild(docLink);\n",
              "        }\n",
              "      </script>\n",
              "    </div>\n",
              "  </div>\n",
              "  "
            ]
          },
          "metadata": {},
          "execution_count": 31
        }
      ]
    },
    {
      "cell_type": "markdown",
      "source": [
        "**2.2 Average #Consonants per Utterance**"
      ],
      "metadata": {
        "id": "jMEmp1pe0Sm4"
      }
    },
    {
      "cell_type": "code",
      "source": [
        "n = -1\n",
        "avg_cons_col = pd.DataFrame(index = range(len(subj_col)),columns=[\"Consonants\"])\n",
        "for ID in IDs: ## loop over participnts\n",
        "  n = n + 1\n",
        "  subset_BGs = reading_cons[reading_cons[\"ID\"] == ID]  # get subset of sound dataframe that corresponds to current participant\n",
        "  subset_BGs.index = range(len(subset_BGs.index)) # reset index\n",
        "  BG_avg = subset_BGs.groupby(\"Breath.Group\").mean()\n",
        "  subj_avg = BG_avg[\"Consonants\"].mean()\n",
        "  avg_cons_col[\"Consonants\"][n] = subj_avg"
      ],
      "metadata": {
        "id": "Qi9paz0O0Xm4"
      },
      "execution_count": 32,
      "outputs": []
    },
    {
      "cell_type": "code",
      "source": [
        "reading_cons_con = pd.concat([group_col, subj_col, avg_cons_col], axis=1)"
      ],
      "metadata": {
        "id": "SdUWZZXE0Xi5"
      },
      "execution_count": 33,
      "outputs": []
    },
    {
      "cell_type": "code",
      "source": [
        "reading_cons_con "
      ],
      "metadata": {
        "colab": {
          "base_uri": "https://localhost:8080/",
          "height": 989
        },
        "id": "1fZOSEe90Xe4",
        "outputId": "2ea1cf90-a5e4-466a-8cdb-138d745de701"
      },
      "execution_count": 34,
      "outputs": [
        {
          "output_type": "execute_result",
          "data": {
            "text/plain": [
              "      Group      ID Consonants\n",
              "0       PWS    24fa  13.269231\n",
              "1       PWS    24ma   13.16129\n",
              "2       PWS    24mb  12.756757\n",
              "3       PWS     26f  16.740741\n",
              "4       PWS    29ma  14.378378\n",
              "5       PWS    29mb     13.125\n",
              "6       PWS    29mc  10.692308\n",
              "7       PWS     32m  13.344828\n",
              "8       PWS     34m      10.84\n",
              "9       PWS    35mb   8.368421\n",
              "10      PWS    46ma  17.357143\n",
              "11      PWS    50fa  15.096774\n",
              "12      PWS    50fb  10.117647\n",
              "13      PWS     54f    13.0625\n",
              "14      PWS     57m  12.483871\n",
              "15      PWS     60m  12.766667\n",
              "16      PWS     62f  15.272727\n",
              "17      PWS     62m  13.451613\n",
              "18  Control   C1_DS  22.789229\n",
              "19  Control   C2_JH  20.385669\n",
              "20  Control   C3_MD  25.125983\n",
              "21  Control   C4_ZO  20.500554\n",
              "22  Control   C5_HL  20.111535\n",
              "23  Control   C6_LH  21.320793\n",
              "24  Control   C7_SH  21.482742\n",
              "25  Control   C9_RD  20.879434\n",
              "26  Control  C10_KS  19.679001\n",
              "27  Control  C11_NP  21.158499\n",
              "28  Control  C12_CC   18.76004\n",
              "29  Control  C13_RG  23.337601"
            ],
            "text/html": [
              "\n",
              "  <div id=\"df-8416ada8-1218-448d-817a-1617d40d2aac\">\n",
              "    <div class=\"colab-df-container\">\n",
              "      <div>\n",
              "<style scoped>\n",
              "    .dataframe tbody tr th:only-of-type {\n",
              "        vertical-align: middle;\n",
              "    }\n",
              "\n",
              "    .dataframe tbody tr th {\n",
              "        vertical-align: top;\n",
              "    }\n",
              "\n",
              "    .dataframe thead th {\n",
              "        text-align: right;\n",
              "    }\n",
              "</style>\n",
              "<table border=\"1\" class=\"dataframe\">\n",
              "  <thead>\n",
              "    <tr style=\"text-align: right;\">\n",
              "      <th></th>\n",
              "      <th>Group</th>\n",
              "      <th>ID</th>\n",
              "      <th>Consonants</th>\n",
              "    </tr>\n",
              "  </thead>\n",
              "  <tbody>\n",
              "    <tr>\n",
              "      <th>0</th>\n",
              "      <td>PWS</td>\n",
              "      <td>24fa</td>\n",
              "      <td>13.269231</td>\n",
              "    </tr>\n",
              "    <tr>\n",
              "      <th>1</th>\n",
              "      <td>PWS</td>\n",
              "      <td>24ma</td>\n",
              "      <td>13.16129</td>\n",
              "    </tr>\n",
              "    <tr>\n",
              "      <th>2</th>\n",
              "      <td>PWS</td>\n",
              "      <td>24mb</td>\n",
              "      <td>12.756757</td>\n",
              "    </tr>\n",
              "    <tr>\n",
              "      <th>3</th>\n",
              "      <td>PWS</td>\n",
              "      <td>26f</td>\n",
              "      <td>16.740741</td>\n",
              "    </tr>\n",
              "    <tr>\n",
              "      <th>4</th>\n",
              "      <td>PWS</td>\n",
              "      <td>29ma</td>\n",
              "      <td>14.378378</td>\n",
              "    </tr>\n",
              "    <tr>\n",
              "      <th>5</th>\n",
              "      <td>PWS</td>\n",
              "      <td>29mb</td>\n",
              "      <td>13.125</td>\n",
              "    </tr>\n",
              "    <tr>\n",
              "      <th>6</th>\n",
              "      <td>PWS</td>\n",
              "      <td>29mc</td>\n",
              "      <td>10.692308</td>\n",
              "    </tr>\n",
              "    <tr>\n",
              "      <th>7</th>\n",
              "      <td>PWS</td>\n",
              "      <td>32m</td>\n",
              "      <td>13.344828</td>\n",
              "    </tr>\n",
              "    <tr>\n",
              "      <th>8</th>\n",
              "      <td>PWS</td>\n",
              "      <td>34m</td>\n",
              "      <td>10.84</td>\n",
              "    </tr>\n",
              "    <tr>\n",
              "      <th>9</th>\n",
              "      <td>PWS</td>\n",
              "      <td>35mb</td>\n",
              "      <td>8.368421</td>\n",
              "    </tr>\n",
              "    <tr>\n",
              "      <th>10</th>\n",
              "      <td>PWS</td>\n",
              "      <td>46ma</td>\n",
              "      <td>17.357143</td>\n",
              "    </tr>\n",
              "    <tr>\n",
              "      <th>11</th>\n",
              "      <td>PWS</td>\n",
              "      <td>50fa</td>\n",
              "      <td>15.096774</td>\n",
              "    </tr>\n",
              "    <tr>\n",
              "      <th>12</th>\n",
              "      <td>PWS</td>\n",
              "      <td>50fb</td>\n",
              "      <td>10.117647</td>\n",
              "    </tr>\n",
              "    <tr>\n",
              "      <th>13</th>\n",
              "      <td>PWS</td>\n",
              "      <td>54f</td>\n",
              "      <td>13.0625</td>\n",
              "    </tr>\n",
              "    <tr>\n",
              "      <th>14</th>\n",
              "      <td>PWS</td>\n",
              "      <td>57m</td>\n",
              "      <td>12.483871</td>\n",
              "    </tr>\n",
              "    <tr>\n",
              "      <th>15</th>\n",
              "      <td>PWS</td>\n",
              "      <td>60m</td>\n",
              "      <td>12.766667</td>\n",
              "    </tr>\n",
              "    <tr>\n",
              "      <th>16</th>\n",
              "      <td>PWS</td>\n",
              "      <td>62f</td>\n",
              "      <td>15.272727</td>\n",
              "    </tr>\n",
              "    <tr>\n",
              "      <th>17</th>\n",
              "      <td>PWS</td>\n",
              "      <td>62m</td>\n",
              "      <td>13.451613</td>\n",
              "    </tr>\n",
              "    <tr>\n",
              "      <th>18</th>\n",
              "      <td>Control</td>\n",
              "      <td>C1_DS</td>\n",
              "      <td>22.789229</td>\n",
              "    </tr>\n",
              "    <tr>\n",
              "      <th>19</th>\n",
              "      <td>Control</td>\n",
              "      <td>C2_JH</td>\n",
              "      <td>20.385669</td>\n",
              "    </tr>\n",
              "    <tr>\n",
              "      <th>20</th>\n",
              "      <td>Control</td>\n",
              "      <td>C3_MD</td>\n",
              "      <td>25.125983</td>\n",
              "    </tr>\n",
              "    <tr>\n",
              "      <th>21</th>\n",
              "      <td>Control</td>\n",
              "      <td>C4_ZO</td>\n",
              "      <td>20.500554</td>\n",
              "    </tr>\n",
              "    <tr>\n",
              "      <th>22</th>\n",
              "      <td>Control</td>\n",
              "      <td>C5_HL</td>\n",
              "      <td>20.111535</td>\n",
              "    </tr>\n",
              "    <tr>\n",
              "      <th>23</th>\n",
              "      <td>Control</td>\n",
              "      <td>C6_LH</td>\n",
              "      <td>21.320793</td>\n",
              "    </tr>\n",
              "    <tr>\n",
              "      <th>24</th>\n",
              "      <td>Control</td>\n",
              "      <td>C7_SH</td>\n",
              "      <td>21.482742</td>\n",
              "    </tr>\n",
              "    <tr>\n",
              "      <th>25</th>\n",
              "      <td>Control</td>\n",
              "      <td>C9_RD</td>\n",
              "      <td>20.879434</td>\n",
              "    </tr>\n",
              "    <tr>\n",
              "      <th>26</th>\n",
              "      <td>Control</td>\n",
              "      <td>C10_KS</td>\n",
              "      <td>19.679001</td>\n",
              "    </tr>\n",
              "    <tr>\n",
              "      <th>27</th>\n",
              "      <td>Control</td>\n",
              "      <td>C11_NP</td>\n",
              "      <td>21.158499</td>\n",
              "    </tr>\n",
              "    <tr>\n",
              "      <th>28</th>\n",
              "      <td>Control</td>\n",
              "      <td>C12_CC</td>\n",
              "      <td>18.76004</td>\n",
              "    </tr>\n",
              "    <tr>\n",
              "      <th>29</th>\n",
              "      <td>Control</td>\n",
              "      <td>C13_RG</td>\n",
              "      <td>23.337601</td>\n",
              "    </tr>\n",
              "  </tbody>\n",
              "</table>\n",
              "</div>\n",
              "      <button class=\"colab-df-convert\" onclick=\"convertToInteractive('df-8416ada8-1218-448d-817a-1617d40d2aac')\"\n",
              "              title=\"Convert this dataframe to an interactive table.\"\n",
              "              style=\"display:none;\">\n",
              "        \n",
              "  <svg xmlns=\"http://www.w3.org/2000/svg\" height=\"24px\"viewBox=\"0 0 24 24\"\n",
              "       width=\"24px\">\n",
              "    <path d=\"M0 0h24v24H0V0z\" fill=\"none\"/>\n",
              "    <path d=\"M18.56 5.44l.94 2.06.94-2.06 2.06-.94-2.06-.94-.94-2.06-.94 2.06-2.06.94zm-11 1L8.5 8.5l.94-2.06 2.06-.94-2.06-.94L8.5 2.5l-.94 2.06-2.06.94zm10 10l.94 2.06.94-2.06 2.06-.94-2.06-.94-.94-2.06-.94 2.06-2.06.94z\"/><path d=\"M17.41 7.96l-1.37-1.37c-.4-.4-.92-.59-1.43-.59-.52 0-1.04.2-1.43.59L10.3 9.45l-7.72 7.72c-.78.78-.78 2.05 0 2.83L4 21.41c.39.39.9.59 1.41.59.51 0 1.02-.2 1.41-.59l7.78-7.78 2.81-2.81c.8-.78.8-2.07 0-2.86zM5.41 20L4 18.59l7.72-7.72 1.47 1.35L5.41 20z\"/>\n",
              "  </svg>\n",
              "      </button>\n",
              "      \n",
              "  <style>\n",
              "    .colab-df-container {\n",
              "      display:flex;\n",
              "      flex-wrap:wrap;\n",
              "      gap: 12px;\n",
              "    }\n",
              "\n",
              "    .colab-df-convert {\n",
              "      background-color: #E8F0FE;\n",
              "      border: none;\n",
              "      border-radius: 50%;\n",
              "      cursor: pointer;\n",
              "      display: none;\n",
              "      fill: #1967D2;\n",
              "      height: 32px;\n",
              "      padding: 0 0 0 0;\n",
              "      width: 32px;\n",
              "    }\n",
              "\n",
              "    .colab-df-convert:hover {\n",
              "      background-color: #E2EBFA;\n",
              "      box-shadow: 0px 1px 2px rgba(60, 64, 67, 0.3), 0px 1px 3px 1px rgba(60, 64, 67, 0.15);\n",
              "      fill: #174EA6;\n",
              "    }\n",
              "\n",
              "    [theme=dark] .colab-df-convert {\n",
              "      background-color: #3B4455;\n",
              "      fill: #D2E3FC;\n",
              "    }\n",
              "\n",
              "    [theme=dark] .colab-df-convert:hover {\n",
              "      background-color: #434B5C;\n",
              "      box-shadow: 0px 1px 3px 1px rgba(0, 0, 0, 0.15);\n",
              "      filter: drop-shadow(0px 1px 2px rgba(0, 0, 0, 0.3));\n",
              "      fill: #FFFFFF;\n",
              "    }\n",
              "  </style>\n",
              "\n",
              "      <script>\n",
              "        const buttonEl =\n",
              "          document.querySelector('#df-8416ada8-1218-448d-817a-1617d40d2aac button.colab-df-convert');\n",
              "        buttonEl.style.display =\n",
              "          google.colab.kernel.accessAllowed ? 'block' : 'none';\n",
              "\n",
              "        async function convertToInteractive(key) {\n",
              "          const element = document.querySelector('#df-8416ada8-1218-448d-817a-1617d40d2aac');\n",
              "          const dataTable =\n",
              "            await google.colab.kernel.invokeFunction('convertToInteractive',\n",
              "                                                     [key], {});\n",
              "          if (!dataTable) return;\n",
              "\n",
              "          const docLinkHtml = 'Like what you see? Visit the ' +\n",
              "            '<a target=\"_blank\" href=https://colab.research.google.com/notebooks/data_table.ipynb>data table notebook</a>'\n",
              "            + ' to learn more about interactive tables.';\n",
              "          element.innerHTML = '';\n",
              "          dataTable['output_type'] = 'display_data';\n",
              "          await google.colab.output.renderOutput(dataTable, element);\n",
              "          const docLink = document.createElement('div');\n",
              "          docLink.innerHTML = docLinkHtml;\n",
              "          element.appendChild(docLink);\n",
              "        }\n",
              "      </script>\n",
              "    </div>\n",
              "  </div>\n",
              "  "
            ]
          },
          "metadata": {},
          "execution_count": 34
        }
      ]
    },
    {
      "cell_type": "markdown",
      "source": [
        "**2.3 Compare Average Consonants per Utterance Across Groups** "
      ],
      "metadata": {
        "id": "5j9tSFA93vbr"
      }
    },
    {
      "cell_type": "code",
      "source": [
        "comparison_c = reading_cons_con.groupby(\"Group\").mean()"
      ],
      "metadata": {
        "colab": {
          "base_uri": "https://localhost:8080/"
        },
        "id": "8QEEH3PJ22_5",
        "outputId": "815a13fc-e2fb-4e8b-b4c5-d52ad95134c1"
      },
      "execution_count": 35,
      "outputs": [
        {
          "output_type": "stream",
          "name": "stderr",
          "text": [
            "/usr/local/lib/python3.7/dist-packages/IPython/core/interactiveshell.py:2882: FutureWarning: Dropping invalid columns in DataFrameGroupBy.mean is deprecated. In a future version, a TypeError will be raised. Before calling .mean, select only columns which should be valid for the function.\n",
            "  exec(code_obj, self.user_global_ns, self.user_ns)\n"
          ]
        }
      ]
    },
    {
      "cell_type": "code",
      "source": [
        "control_c = comparison_c[\"Consonants\"][0]\n",
        "pws_c = comparison_c[\"Consonants\"][1]\n",
        "difference_c = control_c - pws_c"
      ],
      "metadata": {
        "id": "IVN7LTYe28aR"
      },
      "execution_count": 36,
      "outputs": []
    },
    {
      "cell_type": "code",
      "source": [
        "string3 = (f\"PWS produced on average {round(pws_c,2)} consonants per utterance, while control participants produced {round(control_c,2)} consonants on average.\")\n",
        "string4 = (f\"This means that on average control participants produced {round(difference_c,2)} consonants more per utterance.\")"
      ],
      "metadata": {
        "id": "7X0aBaoG3F_C"
      },
      "execution_count": 37,
      "outputs": []
    },
    {
      "cell_type": "code",
      "source": [
        "print(string3)\n",
        "print(string4)"
      ],
      "metadata": {
        "colab": {
          "base_uri": "https://localhost:8080/"
        },
        "id": "M45t9lLC3PWR",
        "outputId": "bbfedc50-cfb2-4815-8d0c-6eb96eff4eec"
      },
      "execution_count": 38,
      "outputs": [
        {
          "output_type": "stream",
          "name": "stdout",
          "text": [
            "PWS produced on average 13.13 consonants per utterance, while control participants produced 21.29 consonants on average.\n",
            "This means that on average control participants produced 8.17 consonants more per utterance.\n"
          ]
        }
      ]
    },
    {
      "cell_type": "markdown",
      "source": [
        "# **Part II: Match MLU Across Groups**"
      ],
      "metadata": {
        "id": "76pHdDSOq7DV"
      }
    },
    {
      "cell_type": "markdown",
      "source": [
        "No straightforward approach. \n",
        "1. Cut the whole rest of the utterance after the -6th vowel. \n",
        "2. Cut vowels after 6th vowel and consonants after 9th consonant (rounded up)\n",
        "--> Go with second "
      ],
      "metadata": {
        "id": "9n-pARJ6KYUV"
      }
    },
    {
      "cell_type": "markdown",
      "source": [
        "**1. Vowels**"
      ],
      "metadata": {
        "id": "11VYmoiG5ATy"
      }
    },
    {
      "cell_type": "markdown",
      "source": [
        "**1.1 Cut vowels from dataframe**"
      ],
      "metadata": {
        "id": "qtnDaG9frHom"
      }
    },
    {
      "cell_type": "code",
      "source": [
        "control_IDs = ['C1_DS', 'C2_JH', 'C3_MD', 'C4_ZO', 'C5_HL', 'C6_LH', 'C7_SH', 'C9_RD', 'C10_KS', 'C11_NP', 'C12_CC', 'C13_RG']"
      ],
      "metadata": {
        "id": "J4Ma9sRgOuiS"
      },
      "execution_count": 39,
      "outputs": []
    },
    {
      "cell_type": "code",
      "source": [
        "cut_v = round(difference_v)"
      ],
      "metadata": {
        "id": "BnsnQqXqJ-Hq"
      },
      "execution_count": 40,
      "outputs": []
    },
    {
      "cell_type": "code",
      "source": [
        "syll_col_matched = pd.DataFrame()  ## initialize group-level dataframe\n",
        "participant = pd.DataFrame()  ## initialize participant-level dataframe\n",
        "reading_control = reading_vowels[reading_vowels[\"Group\"]  == \"Control\"] \n",
        "reading_control.index = range(len(reading_control.index)) ## group\n",
        "for ID in control_IDs:\n",
        "  reading_control_ID = reading_control[reading_control[\"ID\"]  == ID] \n",
        "  reading_control_ID.index = range(len(reading_control_ID.index))  ### person\n",
        "  BGs = reading_control_ID[\"Breath.Group\"].unique()\n",
        "  for i in range(0,len(BGs)):\n",
        "    reading_control_ID_BG = reading_control_ID[reading_control_ID[\"Breath.Group\"]  == i] \n",
        "    reading_control_ID_BG.index = range(len(reading_control_ID_BG.index)) ## BG\n",
        "    if len(reading_control_ID_BG) >= pws_v:\n",
        "      reading_control_ID_BG.drop(reading_control_ID_BG.tail(cut_v).index, inplace = True) \n",
        "      participant = participant.append([reading_control_ID_BG], ignore_index = True)\n",
        "    else:  \n",
        "      participant = participant.append([reading_control_ID_BG], ignore_index = True)\n",
        "syll_col_matched = syll_col_matched.append([participant], ignore_index = True) # add participant-level dataframe to group-level dataframe"
      ],
      "metadata": {
        "colab": {
          "base_uri": "https://localhost:8080/"
        },
        "id": "J13x3Kk05185",
        "outputId": "a0b7d279-04af-4f42-acd4-9559c453e972"
      },
      "execution_count": 41,
      "outputs": [
        {
          "output_type": "stream",
          "name": "stderr",
          "text": [
            "/usr/local/lib/python3.7/dist-packages/pandas/core/frame.py:4913: SettingWithCopyWarning: \n",
            "A value is trying to be set on a copy of a slice from a DataFrame\n",
            "\n",
            "See the caveats in the documentation: https://pandas.pydata.org/pandas-docs/stable/user_guide/indexing.html#returning-a-view-versus-a-copy\n",
            "  errors=errors,\n"
          ]
        }
      ]
    },
    {
      "cell_type": "markdown",
      "source": [
        "**1.2 Count New Number of Vowels per Utterance**"
      ],
      "metadata": {
        "id": "amSNPcbnrOck"
      }
    },
    {
      "cell_type": "code",
      "source": [
        "new_v_count = pd.DataFrame()  ## initialize group-level dataframe\n",
        "for ID in control_IDs: ## loop over participnts\n",
        "  new_v_current_ID = pd.DataFrame()   ## initialize participant-level dataframe\n",
        "  subset_sounds = syll_col_matched[syll_col_matched[\"ID\"] == ID]  # get subset of sound dataframe that corresponds to current participant\n",
        "  subset_sounds.index = range(len(subset_sounds.index)) # reset index\n",
        "  new_v = subset_sounds[\"Breath.Group\"].value_counts().sort_index() # count how often a certain Breath group occurs for this participant\n",
        "  new_v.index = range(len(new_v.index)) # reset index\n",
        "  for a in range (0,len(new_v)): # go through all breath groups that this participant produced\n",
        "    new_v_current_BG = pd.DataFrame()  ## initialize BG-level dataframe\n",
        "    new_v_current_BG = pd.DataFrame(np.repeat(new_v.iloc[a], new_v.iloc[a], axis=0)) #replicate the sum sum times\n",
        "    new_v_current_ID = new_v_current_ID.append([new_v_current_BG], ignore_index = True) # add BG-level dataframe to participant-level dataframe \n",
        "  new_v_count = new_v_count.append([new_v_current_ID], ignore_index = True) # add participant-level dataframe to group-level dataframe"
      ],
      "metadata": {
        "id": "o3rGH2bsL-m8"
      },
      "execution_count": 42,
      "outputs": []
    },
    {
      "cell_type": "code",
      "source": [
        "syll_col_matched = pd.concat([syll_col_matched, new_v_count], axis=1)"
      ],
      "metadata": {
        "id": "T5qCjsRoMCjM"
      },
      "execution_count": 43,
      "outputs": []
    },
    {
      "cell_type": "code",
      "source": [
        "syll_col_matched.rename(columns = {0:'matched_V'}, inplace = True) # rename new column"
      ],
      "metadata": {
        "id": "1Hy-ybd9MGUV"
      },
      "execution_count": 44,
      "outputs": []
    },
    {
      "cell_type": "code",
      "source": [
        "syll_col_matched"
      ],
      "metadata": {
        "colab": {
          "base_uri": "https://localhost:8080/",
          "height": 423
        },
        "id": "G_FrKwTDQwv2",
        "outputId": "f732de48-8b2b-497f-ed3d-4be0d6aed16c"
      },
      "execution_count": 45,
      "outputs": [
        {
          "output_type": "execute_result",
          "data": {
            "text/plain": [
              "        Group      ID   Type  Sound   Onset  Offset  Duration  Breath.Group  \\\n",
              "0     Control   C1_DS  vowel  \"OW1\"   0.384   0.544     0.160             1   \n",
              "1     Control   C1_DS  vowel  \"IH1\"   0.674   0.804     0.130             1   \n",
              "2     Control   C1_DS  vowel  \"IY1\"   0.965   1.095     0.130             1   \n",
              "3     Control   C1_DS  vowel  \"AA1\"   1.095   1.385     0.290             1   \n",
              "4     Control   C1_DS  vowel  \"AH0\"   1.474   1.585     0.111             1   \n",
              "...       ...     ...    ...    ...     ...     ...       ...           ...   \n",
              "2468  Control  C13_RG  vowel  \"AH1\"  83.210  83.300     0.090            27   \n",
              "2469  Control  C13_RG  vowel  \"ER0\"  83.350  83.440     0.090            27   \n",
              "2470  Control  C13_RG  vowel  \"AH0\"  83.510  83.550     0.040            27   \n",
              "2471  Control  C13_RG  vowel  \"AE1\"  83.670  83.770     0.100            27   \n",
              "2472  Control  C13_RG  vowel  \"AH0\"  83.960  83.990     0.030            27   \n",
              "\n",
              "       m  Syllables  matched_V  \n",
              "0     86         31         22  \n",
              "1     86         31         22  \n",
              "2     86         31         22  \n",
              "3     86         31         22  \n",
              "4     86         31         22  \n",
              "...   ..        ...        ...  \n",
              "2468  32          9         11  \n",
              "2469  32          9         11  \n",
              "2470  32          9         11  \n",
              "2471  32          9         11  \n",
              "2472  32          9         11  \n",
              "\n",
              "[2473 rows x 11 columns]"
            ],
            "text/html": [
              "\n",
              "  <div id=\"df-2ec832fb-0b52-4835-99f1-19bcea2e5f34\">\n",
              "    <div class=\"colab-df-container\">\n",
              "      <div>\n",
              "<style scoped>\n",
              "    .dataframe tbody tr th:only-of-type {\n",
              "        vertical-align: middle;\n",
              "    }\n",
              "\n",
              "    .dataframe tbody tr th {\n",
              "        vertical-align: top;\n",
              "    }\n",
              "\n",
              "    .dataframe thead th {\n",
              "        text-align: right;\n",
              "    }\n",
              "</style>\n",
              "<table border=\"1\" class=\"dataframe\">\n",
              "  <thead>\n",
              "    <tr style=\"text-align: right;\">\n",
              "      <th></th>\n",
              "      <th>Group</th>\n",
              "      <th>ID</th>\n",
              "      <th>Type</th>\n",
              "      <th>Sound</th>\n",
              "      <th>Onset</th>\n",
              "      <th>Offset</th>\n",
              "      <th>Duration</th>\n",
              "      <th>Breath.Group</th>\n",
              "      <th>m</th>\n",
              "      <th>Syllables</th>\n",
              "      <th>matched_V</th>\n",
              "    </tr>\n",
              "  </thead>\n",
              "  <tbody>\n",
              "    <tr>\n",
              "      <th>0</th>\n",
              "      <td>Control</td>\n",
              "      <td>C1_DS</td>\n",
              "      <td>vowel</td>\n",
              "      <td>\"OW1\"</td>\n",
              "      <td>0.384</td>\n",
              "      <td>0.544</td>\n",
              "      <td>0.160</td>\n",
              "      <td>1</td>\n",
              "      <td>86</td>\n",
              "      <td>31</td>\n",
              "      <td>22</td>\n",
              "    </tr>\n",
              "    <tr>\n",
              "      <th>1</th>\n",
              "      <td>Control</td>\n",
              "      <td>C1_DS</td>\n",
              "      <td>vowel</td>\n",
              "      <td>\"IH1\"</td>\n",
              "      <td>0.674</td>\n",
              "      <td>0.804</td>\n",
              "      <td>0.130</td>\n",
              "      <td>1</td>\n",
              "      <td>86</td>\n",
              "      <td>31</td>\n",
              "      <td>22</td>\n",
              "    </tr>\n",
              "    <tr>\n",
              "      <th>2</th>\n",
              "      <td>Control</td>\n",
              "      <td>C1_DS</td>\n",
              "      <td>vowel</td>\n",
              "      <td>\"IY1\"</td>\n",
              "      <td>0.965</td>\n",
              "      <td>1.095</td>\n",
              "      <td>0.130</td>\n",
              "      <td>1</td>\n",
              "      <td>86</td>\n",
              "      <td>31</td>\n",
              "      <td>22</td>\n",
              "    </tr>\n",
              "    <tr>\n",
              "      <th>3</th>\n",
              "      <td>Control</td>\n",
              "      <td>C1_DS</td>\n",
              "      <td>vowel</td>\n",
              "      <td>\"AA1\"</td>\n",
              "      <td>1.095</td>\n",
              "      <td>1.385</td>\n",
              "      <td>0.290</td>\n",
              "      <td>1</td>\n",
              "      <td>86</td>\n",
              "      <td>31</td>\n",
              "      <td>22</td>\n",
              "    </tr>\n",
              "    <tr>\n",
              "      <th>4</th>\n",
              "      <td>Control</td>\n",
              "      <td>C1_DS</td>\n",
              "      <td>vowel</td>\n",
              "      <td>\"AH0\"</td>\n",
              "      <td>1.474</td>\n",
              "      <td>1.585</td>\n",
              "      <td>0.111</td>\n",
              "      <td>1</td>\n",
              "      <td>86</td>\n",
              "      <td>31</td>\n",
              "      <td>22</td>\n",
              "    </tr>\n",
              "    <tr>\n",
              "      <th>...</th>\n",
              "      <td>...</td>\n",
              "      <td>...</td>\n",
              "      <td>...</td>\n",
              "      <td>...</td>\n",
              "      <td>...</td>\n",
              "      <td>...</td>\n",
              "      <td>...</td>\n",
              "      <td>...</td>\n",
              "      <td>...</td>\n",
              "      <td>...</td>\n",
              "      <td>...</td>\n",
              "    </tr>\n",
              "    <tr>\n",
              "      <th>2468</th>\n",
              "      <td>Control</td>\n",
              "      <td>C13_RG</td>\n",
              "      <td>vowel</td>\n",
              "      <td>\"AH1\"</td>\n",
              "      <td>83.210</td>\n",
              "      <td>83.300</td>\n",
              "      <td>0.090</td>\n",
              "      <td>27</td>\n",
              "      <td>32</td>\n",
              "      <td>9</td>\n",
              "      <td>11</td>\n",
              "    </tr>\n",
              "    <tr>\n",
              "      <th>2469</th>\n",
              "      <td>Control</td>\n",
              "      <td>C13_RG</td>\n",
              "      <td>vowel</td>\n",
              "      <td>\"ER0\"</td>\n",
              "      <td>83.350</td>\n",
              "      <td>83.440</td>\n",
              "      <td>0.090</td>\n",
              "      <td>27</td>\n",
              "      <td>32</td>\n",
              "      <td>9</td>\n",
              "      <td>11</td>\n",
              "    </tr>\n",
              "    <tr>\n",
              "      <th>2470</th>\n",
              "      <td>Control</td>\n",
              "      <td>C13_RG</td>\n",
              "      <td>vowel</td>\n",
              "      <td>\"AH0\"</td>\n",
              "      <td>83.510</td>\n",
              "      <td>83.550</td>\n",
              "      <td>0.040</td>\n",
              "      <td>27</td>\n",
              "      <td>32</td>\n",
              "      <td>9</td>\n",
              "      <td>11</td>\n",
              "    </tr>\n",
              "    <tr>\n",
              "      <th>2471</th>\n",
              "      <td>Control</td>\n",
              "      <td>C13_RG</td>\n",
              "      <td>vowel</td>\n",
              "      <td>\"AE1\"</td>\n",
              "      <td>83.670</td>\n",
              "      <td>83.770</td>\n",
              "      <td>0.100</td>\n",
              "      <td>27</td>\n",
              "      <td>32</td>\n",
              "      <td>9</td>\n",
              "      <td>11</td>\n",
              "    </tr>\n",
              "    <tr>\n",
              "      <th>2472</th>\n",
              "      <td>Control</td>\n",
              "      <td>C13_RG</td>\n",
              "      <td>vowel</td>\n",
              "      <td>\"AH0\"</td>\n",
              "      <td>83.960</td>\n",
              "      <td>83.990</td>\n",
              "      <td>0.030</td>\n",
              "      <td>27</td>\n",
              "      <td>32</td>\n",
              "      <td>9</td>\n",
              "      <td>11</td>\n",
              "    </tr>\n",
              "  </tbody>\n",
              "</table>\n",
              "<p>2473 rows × 11 columns</p>\n",
              "</div>\n",
              "      <button class=\"colab-df-convert\" onclick=\"convertToInteractive('df-2ec832fb-0b52-4835-99f1-19bcea2e5f34')\"\n",
              "              title=\"Convert this dataframe to an interactive table.\"\n",
              "              style=\"display:none;\">\n",
              "        \n",
              "  <svg xmlns=\"http://www.w3.org/2000/svg\" height=\"24px\"viewBox=\"0 0 24 24\"\n",
              "       width=\"24px\">\n",
              "    <path d=\"M0 0h24v24H0V0z\" fill=\"none\"/>\n",
              "    <path d=\"M18.56 5.44l.94 2.06.94-2.06 2.06-.94-2.06-.94-.94-2.06-.94 2.06-2.06.94zm-11 1L8.5 8.5l.94-2.06 2.06-.94-2.06-.94L8.5 2.5l-.94 2.06-2.06.94zm10 10l.94 2.06.94-2.06 2.06-.94-2.06-.94-.94-2.06-.94 2.06-2.06.94z\"/><path d=\"M17.41 7.96l-1.37-1.37c-.4-.4-.92-.59-1.43-.59-.52 0-1.04.2-1.43.59L10.3 9.45l-7.72 7.72c-.78.78-.78 2.05 0 2.83L4 21.41c.39.39.9.59 1.41.59.51 0 1.02-.2 1.41-.59l7.78-7.78 2.81-2.81c.8-.78.8-2.07 0-2.86zM5.41 20L4 18.59l7.72-7.72 1.47 1.35L5.41 20z\"/>\n",
              "  </svg>\n",
              "      </button>\n",
              "      \n",
              "  <style>\n",
              "    .colab-df-container {\n",
              "      display:flex;\n",
              "      flex-wrap:wrap;\n",
              "      gap: 12px;\n",
              "    }\n",
              "\n",
              "    .colab-df-convert {\n",
              "      background-color: #E8F0FE;\n",
              "      border: none;\n",
              "      border-radius: 50%;\n",
              "      cursor: pointer;\n",
              "      display: none;\n",
              "      fill: #1967D2;\n",
              "      height: 32px;\n",
              "      padding: 0 0 0 0;\n",
              "      width: 32px;\n",
              "    }\n",
              "\n",
              "    .colab-df-convert:hover {\n",
              "      background-color: #E2EBFA;\n",
              "      box-shadow: 0px 1px 2px rgba(60, 64, 67, 0.3), 0px 1px 3px 1px rgba(60, 64, 67, 0.15);\n",
              "      fill: #174EA6;\n",
              "    }\n",
              "\n",
              "    [theme=dark] .colab-df-convert {\n",
              "      background-color: #3B4455;\n",
              "      fill: #D2E3FC;\n",
              "    }\n",
              "\n",
              "    [theme=dark] .colab-df-convert:hover {\n",
              "      background-color: #434B5C;\n",
              "      box-shadow: 0px 1px 3px 1px rgba(0, 0, 0, 0.15);\n",
              "      filter: drop-shadow(0px 1px 2px rgba(0, 0, 0, 0.3));\n",
              "      fill: #FFFFFF;\n",
              "    }\n",
              "  </style>\n",
              "\n",
              "      <script>\n",
              "        const buttonEl =\n",
              "          document.querySelector('#df-2ec832fb-0b52-4835-99f1-19bcea2e5f34 button.colab-df-convert');\n",
              "        buttonEl.style.display =\n",
              "          google.colab.kernel.accessAllowed ? 'block' : 'none';\n",
              "\n",
              "        async function convertToInteractive(key) {\n",
              "          const element = document.querySelector('#df-2ec832fb-0b52-4835-99f1-19bcea2e5f34');\n",
              "          const dataTable =\n",
              "            await google.colab.kernel.invokeFunction('convertToInteractive',\n",
              "                                                     [key], {});\n",
              "          if (!dataTable) return;\n",
              "\n",
              "          const docLinkHtml = 'Like what you see? Visit the ' +\n",
              "            '<a target=\"_blank\" href=https://colab.research.google.com/notebooks/data_table.ipynb>data table notebook</a>'\n",
              "            + ' to learn more about interactive tables.';\n",
              "          element.innerHTML = '';\n",
              "          dataTable['output_type'] = 'display_data';\n",
              "          await google.colab.output.renderOutput(dataTable, element);\n",
              "          const docLink = document.createElement('div');\n",
              "          docLink.innerHTML = docLinkHtml;\n",
              "          element.appendChild(docLink);\n",
              "        }\n",
              "      </script>\n",
              "    </div>\n",
              "  </div>\n",
              "  "
            ]
          },
          "metadata": {},
          "execution_count": 45
        }
      ]
    },
    {
      "cell_type": "code",
      "source": [
        "n = -1\n",
        "control_subj_col = pd.DataFrame(index = range(len(control_IDs)),columns=[\"ID\"])\n",
        "avg_col = pd.DataFrame(index = range(len(control_IDs)),columns=[\"Syllables\"])\n",
        "for ID in control_IDs: ## loop over participnts\n",
        "  n = n + 1\n",
        "  subset_BGs = syll_col_matched[syll_col_matched[\"ID\"] == ID]  # get subset of sound dataframe that corresponds to current participant\n",
        "  subset_BGs.index = range(len(subset_BGs.index)) # reset index\n",
        "  BG_avg = subset_BGs.groupby(\"Breath.Group\").mean()\n",
        "  subj_avg = BG_avg[\"matched_V\"].mean()\n",
        "  avg_col[\"Syllables\"][n] = subj_avg\n",
        "  control_subj_col[\"ID\"][n] = ID"
      ],
      "metadata": {
        "id": "Nd91hU6vBmqI"
      },
      "execution_count": 46,
      "outputs": []
    },
    {
      "cell_type": "code",
      "source": [
        "matched_vowels = pd.concat([control_subj_col, avg_col], axis = 1)"
      ],
      "metadata": {
        "id": "XbIUB3OKA18q"
      },
      "execution_count": 47,
      "outputs": []
    },
    {
      "cell_type": "code",
      "source": [
        "matched_vowels"
      ],
      "metadata": {
        "colab": {
          "base_uri": "https://localhost:8080/",
          "height": 425
        },
        "id": "eyQizWftBB2S",
        "outputId": "b4b6152d-be1c-4d71-b461-42cc190c12bb"
      },
      "execution_count": 48,
      "outputs": [
        {
          "output_type": "execute_result",
          "data": {
            "text/plain": [
              "        ID Syllables\n",
              "0    C1_DS  7.551724\n",
              "1    C2_JH  7.304348\n",
              "2    C3_MD  8.481481\n",
              "3    C4_ZO  7.964286\n",
              "4    C5_HL     7.375\n",
              "5    C6_LH  8.222222\n",
              "6    C7_SH  8.333333\n",
              "7    C9_RD      7.25\n",
              "8   C10_KS  7.655172\n",
              "9   C11_NP  7.269231\n",
              "10  C12_CC       8.4\n",
              "11  C13_RG  7.814815"
            ],
            "text/html": [
              "\n",
              "  <div id=\"df-25f60fe1-76dd-44f4-a651-3d66e0e6e077\">\n",
              "    <div class=\"colab-df-container\">\n",
              "      <div>\n",
              "<style scoped>\n",
              "    .dataframe tbody tr th:only-of-type {\n",
              "        vertical-align: middle;\n",
              "    }\n",
              "\n",
              "    .dataframe tbody tr th {\n",
              "        vertical-align: top;\n",
              "    }\n",
              "\n",
              "    .dataframe thead th {\n",
              "        text-align: right;\n",
              "    }\n",
              "</style>\n",
              "<table border=\"1\" class=\"dataframe\">\n",
              "  <thead>\n",
              "    <tr style=\"text-align: right;\">\n",
              "      <th></th>\n",
              "      <th>ID</th>\n",
              "      <th>Syllables</th>\n",
              "    </tr>\n",
              "  </thead>\n",
              "  <tbody>\n",
              "    <tr>\n",
              "      <th>0</th>\n",
              "      <td>C1_DS</td>\n",
              "      <td>7.551724</td>\n",
              "    </tr>\n",
              "    <tr>\n",
              "      <th>1</th>\n",
              "      <td>C2_JH</td>\n",
              "      <td>7.304348</td>\n",
              "    </tr>\n",
              "    <tr>\n",
              "      <th>2</th>\n",
              "      <td>C3_MD</td>\n",
              "      <td>8.481481</td>\n",
              "    </tr>\n",
              "    <tr>\n",
              "      <th>3</th>\n",
              "      <td>C4_ZO</td>\n",
              "      <td>7.964286</td>\n",
              "    </tr>\n",
              "    <tr>\n",
              "      <th>4</th>\n",
              "      <td>C5_HL</td>\n",
              "      <td>7.375</td>\n",
              "    </tr>\n",
              "    <tr>\n",
              "      <th>5</th>\n",
              "      <td>C6_LH</td>\n",
              "      <td>8.222222</td>\n",
              "    </tr>\n",
              "    <tr>\n",
              "      <th>6</th>\n",
              "      <td>C7_SH</td>\n",
              "      <td>8.333333</td>\n",
              "    </tr>\n",
              "    <tr>\n",
              "      <th>7</th>\n",
              "      <td>C9_RD</td>\n",
              "      <td>7.25</td>\n",
              "    </tr>\n",
              "    <tr>\n",
              "      <th>8</th>\n",
              "      <td>C10_KS</td>\n",
              "      <td>7.655172</td>\n",
              "    </tr>\n",
              "    <tr>\n",
              "      <th>9</th>\n",
              "      <td>C11_NP</td>\n",
              "      <td>7.269231</td>\n",
              "    </tr>\n",
              "    <tr>\n",
              "      <th>10</th>\n",
              "      <td>C12_CC</td>\n",
              "      <td>8.4</td>\n",
              "    </tr>\n",
              "    <tr>\n",
              "      <th>11</th>\n",
              "      <td>C13_RG</td>\n",
              "      <td>7.814815</td>\n",
              "    </tr>\n",
              "  </tbody>\n",
              "</table>\n",
              "</div>\n",
              "      <button class=\"colab-df-convert\" onclick=\"convertToInteractive('df-25f60fe1-76dd-44f4-a651-3d66e0e6e077')\"\n",
              "              title=\"Convert this dataframe to an interactive table.\"\n",
              "              style=\"display:none;\">\n",
              "        \n",
              "  <svg xmlns=\"http://www.w3.org/2000/svg\" height=\"24px\"viewBox=\"0 0 24 24\"\n",
              "       width=\"24px\">\n",
              "    <path d=\"M0 0h24v24H0V0z\" fill=\"none\"/>\n",
              "    <path d=\"M18.56 5.44l.94 2.06.94-2.06 2.06-.94-2.06-.94-.94-2.06-.94 2.06-2.06.94zm-11 1L8.5 8.5l.94-2.06 2.06-.94-2.06-.94L8.5 2.5l-.94 2.06-2.06.94zm10 10l.94 2.06.94-2.06 2.06-.94-2.06-.94-.94-2.06-.94 2.06-2.06.94z\"/><path d=\"M17.41 7.96l-1.37-1.37c-.4-.4-.92-.59-1.43-.59-.52 0-1.04.2-1.43.59L10.3 9.45l-7.72 7.72c-.78.78-.78 2.05 0 2.83L4 21.41c.39.39.9.59 1.41.59.51 0 1.02-.2 1.41-.59l7.78-7.78 2.81-2.81c.8-.78.8-2.07 0-2.86zM5.41 20L4 18.59l7.72-7.72 1.47 1.35L5.41 20z\"/>\n",
              "  </svg>\n",
              "      </button>\n",
              "      \n",
              "  <style>\n",
              "    .colab-df-container {\n",
              "      display:flex;\n",
              "      flex-wrap:wrap;\n",
              "      gap: 12px;\n",
              "    }\n",
              "\n",
              "    .colab-df-convert {\n",
              "      background-color: #E8F0FE;\n",
              "      border: none;\n",
              "      border-radius: 50%;\n",
              "      cursor: pointer;\n",
              "      display: none;\n",
              "      fill: #1967D2;\n",
              "      height: 32px;\n",
              "      padding: 0 0 0 0;\n",
              "      width: 32px;\n",
              "    }\n",
              "\n",
              "    .colab-df-convert:hover {\n",
              "      background-color: #E2EBFA;\n",
              "      box-shadow: 0px 1px 2px rgba(60, 64, 67, 0.3), 0px 1px 3px 1px rgba(60, 64, 67, 0.15);\n",
              "      fill: #174EA6;\n",
              "    }\n",
              "\n",
              "    [theme=dark] .colab-df-convert {\n",
              "      background-color: #3B4455;\n",
              "      fill: #D2E3FC;\n",
              "    }\n",
              "\n",
              "    [theme=dark] .colab-df-convert:hover {\n",
              "      background-color: #434B5C;\n",
              "      box-shadow: 0px 1px 3px 1px rgba(0, 0, 0, 0.15);\n",
              "      filter: drop-shadow(0px 1px 2px rgba(0, 0, 0, 0.3));\n",
              "      fill: #FFFFFF;\n",
              "    }\n",
              "  </style>\n",
              "\n",
              "      <script>\n",
              "        const buttonEl =\n",
              "          document.querySelector('#df-25f60fe1-76dd-44f4-a651-3d66e0e6e077 button.colab-df-convert');\n",
              "        buttonEl.style.display =\n",
              "          google.colab.kernel.accessAllowed ? 'block' : 'none';\n",
              "\n",
              "        async function convertToInteractive(key) {\n",
              "          const element = document.querySelector('#df-25f60fe1-76dd-44f4-a651-3d66e0e6e077');\n",
              "          const dataTable =\n",
              "            await google.colab.kernel.invokeFunction('convertToInteractive',\n",
              "                                                     [key], {});\n",
              "          if (!dataTable) return;\n",
              "\n",
              "          const docLinkHtml = 'Like what you see? Visit the ' +\n",
              "            '<a target=\"_blank\" href=https://colab.research.google.com/notebooks/data_table.ipynb>data table notebook</a>'\n",
              "            + ' to learn more about interactive tables.';\n",
              "          element.innerHTML = '';\n",
              "          dataTable['output_type'] = 'display_data';\n",
              "          await google.colab.output.renderOutput(dataTable, element);\n",
              "          const docLink = document.createElement('div');\n",
              "          docLink.innerHTML = docLinkHtml;\n",
              "          element.appendChild(docLink);\n",
              "        }\n",
              "      </script>\n",
              "    </div>\n",
              "  </div>\n",
              "  "
            ]
          },
          "metadata": {},
          "execution_count": 48
        }
      ]
    },
    {
      "cell_type": "markdown",
      "source": [
        "**1.3 Compare Average Vowels per Utterance Across Groups**"
      ],
      "metadata": {
        "id": "s_kc6Lq7VO5i"
      }
    },
    {
      "cell_type": "code",
      "source": [
        "control_v_matched = matched_vowels[\"Syllables\"].mean()"
      ],
      "metadata": {
        "id": "xgD0p6G-QU3P"
      },
      "execution_count": 49,
      "outputs": []
    },
    {
      "cell_type": "code",
      "source": [
        "difference_v_matched = control_v_matched - pws_v"
      ],
      "metadata": {
        "id": "YJIftXtxQUy7"
      },
      "execution_count": 50,
      "outputs": []
    },
    {
      "cell_type": "code",
      "source": [
        "string5 = (f\"After matching, PWS have on average {round(pws_v,2)} syllables per utterance, while control participants have {round(control_v_matched,2)} syllables on average.\")\n",
        "string6 = (f\"This means that after matching the difference between control participants and PWS is reduced to {abs(round(difference_v_matched,2))} syllables per utterance.\")"
      ],
      "metadata": {
        "id": "OnZmqX4XQVCV"
      },
      "execution_count": 51,
      "outputs": []
    },
    {
      "cell_type": "code",
      "source": [
        "print(string5)\n",
        "print(string6)"
      ],
      "metadata": {
        "colab": {
          "base_uri": "https://localhost:8080/"
        },
        "id": "yDSwv9u7QUvF",
        "outputId": "dd240750-8ef9-4f1c-ca76-de6a94498d4c"
      },
      "execution_count": 52,
      "outputs": [
        {
          "output_type": "stream",
          "name": "stdout",
          "text": [
            "After matching, PWS have on average 8.54 syllables per utterance, while control participants have 7.8 syllables on average.\n",
            "This means that after matching the difference between control participants and PWS is reduced to 0.74 syllables per utterance.\n"
          ]
        }
      ]
    },
    {
      "cell_type": "markdown",
      "source": [
        "**1.4 Test if the Remaining Difference is Statistically Significant**"
      ],
      "metadata": {
        "id": "ld1OwG0ChaGk"
      }
    },
    {
      "cell_type": "markdown",
      "source": [
        "To calculate averages, I count each breath group only once (rather than grouping the large df). This is because the large df has n rows per utterance, wich screws the average. "
      ],
      "metadata": {
        "id": "yGdX3LSiD8Nz"
      }
    },
    {
      "cell_type": "code",
      "source": [
        "ttest_control = matched_vowels "
      ],
      "metadata": {
        "id": "ZsyW7A5Y_HQw"
      },
      "execution_count": 53,
      "outputs": []
    },
    {
      "cell_type": "code",
      "source": [
        "ttest_pws = reading_vowels_Syll[0:18]      "
      ],
      "metadata": {
        "id": "Msc4g8ep964L"
      },
      "execution_count": 54,
      "outputs": []
    },
    {
      "cell_type": "code",
      "source": [
        "read_v_matched_test = stats.ttest_ind(ttest_control['Syllables'],\n",
        "                      ttest_pws['Syllables'])"
      ],
      "metadata": {
        "id": "vvX7uxmkQUn3"
      },
      "execution_count": 55,
      "outputs": []
    },
    {
      "cell_type": "code",
      "source": [
        "if read_v_matched_test[1] >= 0.05:\n",
        "  level = \"insignificant\"\n",
        "else:\n",
        "  level = \"significant\""
      ],
      "metadata": {
        "id": "GJ1X1naWjmYy"
      },
      "execution_count": 56,
      "outputs": []
    },
    {
      "cell_type": "code",
      "source": [
        "string7 = (f\"Control utterances that were longer than the mean average length of PWS utterances, were shortened by {round(cut_v,2)} syllables. \\nAfter matching, PWS had {round(pws_v,2)} vowels per utterance, while control participants had {round(control_v_matched,2)} per utterance. \\nThe difference is reduced to {abs(round(difference_v_matched,2))}, which is statistically {level} (p = {round(read_v_matched_test[1],2)}).\")"
      ],
      "metadata": {
        "id": "QgkyJ_H0jx5b"
      },
      "execution_count": 57,
      "outputs": []
    },
    {
      "cell_type": "code",
      "source": [
        "print(string7)"
      ],
      "metadata": {
        "colab": {
          "base_uri": "https://localhost:8080/"
        },
        "id": "Kio7R8VbQUgt",
        "outputId": "4ee5ef3b-7594-404e-dc76-7f41348c26ad"
      },
      "execution_count": null,
      "outputs": [
        {
          "output_type": "stream",
          "name": "stdout",
          "text": [
            "Control utterances that were longer than the mean average length of PWS utterances, were shortened by 6 syllables. \n",
            "After matching, PWS had 8.54 vowels per utterance, while control participants had 7.8 per utterance. \n",
            "The difference is reduced to 0.74, which is statistically insignificant (p = 0.1).\n"
          ]
        }
      ]
    },
    {
      "cell_type": "markdown",
      "source": [
        "**2. Consonants**"
      ],
      "metadata": {
        "id": "SxPdaUfoI-2H"
      }
    },
    {
      "cell_type": "markdown",
      "source": [
        "**2.1 Cut Consonants from DataFrame**"
      ],
      "metadata": {
        "id": "vTlXAqvZJByv"
      }
    },
    {
      "cell_type": "code",
      "source": [
        "control_IDs = ['C1_DS', 'C2_JH', 'C3_MD', 'C4_ZO', 'C5_HL', 'C6_LH', 'C7_SH', 'C9_RD', 'C10_KS', 'C11_NP', 'C12_CC', 'C13_RG']"
      ],
      "metadata": {
        "id": "UKkA_12UJBXf"
      },
      "execution_count": 58,
      "outputs": []
    },
    {
      "cell_type": "code",
      "source": [
        "cut_c = round(difference_c)"
      ],
      "metadata": {
        "id": "MyOUsfk2JKqQ"
      },
      "execution_count": 59,
      "outputs": []
    },
    {
      "cell_type": "code",
      "source": [
        "cons_col_matched = pd.DataFrame()  ## initialize group-level dataframe\n",
        "participant = pd.DataFrame()  ## initialize participant-level dataframe\n",
        "reading_control = reading_cons[reading_cons[\"Group\"]  == \"Control\"] \n",
        "reading_control.index = range(len(reading_control.index)) ## group\n",
        "for ID in control_IDs:\n",
        "  reading_control_ID = reading_control[reading_control[\"ID\"]  == ID] \n",
        "  reading_control_ID.index = range(len(reading_control_ID.index))  ### person\n",
        "  BGs = reading_control_ID[\"Breath.Group\"].unique()\n",
        "  for i in range(0,len(BGs)):\n",
        "    reading_control_ID_BG = reading_control_ID[reading_control_ID[\"Breath.Group\"]  == i] \n",
        "    reading_control_ID_BG.index = range(len(reading_control_ID_BG.index)) ## BG\n",
        "    if len(reading_control_ID_BG) >= pws_v:\n",
        "      reading_control_ID_BG.drop(reading_control_ID_BG.tail(cut_v).index, inplace = True) \n",
        "      participant = participant.append([reading_control_ID_BG], ignore_index = True)\n",
        "    else:  \n",
        "      participant = participant.append([reading_control_ID_BG], ignore_index = True)\n",
        "cons_col_matched = cons_col_matched.append([participant], ignore_index = True) # add participant-level dataframe to group-level dataframe"
      ],
      "metadata": {
        "colab": {
          "base_uri": "https://localhost:8080/"
        },
        "id": "MttC1Fa2JKlJ",
        "outputId": "903d8e91-bdbf-46f4-cc21-1f148316c924"
      },
      "execution_count": 60,
      "outputs": [
        {
          "output_type": "stream",
          "name": "stderr",
          "text": [
            "/usr/local/lib/python3.7/dist-packages/pandas/core/frame.py:4913: SettingWithCopyWarning: \n",
            "A value is trying to be set on a copy of a slice from a DataFrame\n",
            "\n",
            "See the caveats in the documentation: https://pandas.pydata.org/pandas-docs/stable/user_guide/indexing.html#returning-a-view-versus-a-copy\n",
            "  errors=errors,\n"
          ]
        }
      ]
    },
    {
      "cell_type": "markdown",
      "source": [
        "**2.2 Count New Number of Consonants Per Utterance**"
      ],
      "metadata": {
        "id": "EcEJ-siDJRjY"
      }
    },
    {
      "cell_type": "code",
      "source": [
        "new_c_count = pd.DataFrame()  ## initialize group-level dataframe\n",
        "for ID in control_IDs: ## loop over participnts\n",
        "  new_c_current_ID = pd.DataFrame()   ## initialize participant-level dataframe\n",
        "  subset_sounds = cons_col_matched[cons_col_matched[\"ID\"] == ID]  # get subset of sound dataframe that corresponds to current participant\n",
        "  subset_sounds.index = range(len(subset_sounds.index)) # reset index\n",
        "  new_c = subset_sounds[\"Breath.Group\"].value_counts().sort_index() # count how often a certain Breath group occurs for this participant\n",
        "  new_c.index = range(len(new_c.index)) # reset index\n",
        "  for a in range (0,len(new_c)): # go through all breath groups that this participant produced\n",
        "    new_c_current_BG = pd.DataFrame()  ## initialize BG-level dataframe\n",
        "    new_c_current_BG = pd.DataFrame(np.repeat(new_c.iloc[a], new_c.iloc[a], axis=0)) #replicate the sum sum times\n",
        "    new_c_current_ID = new_c_current_ID.append([new_c_current_BG], ignore_index = True) # add BG-level dataframe to participant-level dataframe \n",
        "  new_c_count = new_c_count.append([new_c_current_ID], ignore_index = True) # add participant-level dataframe to group-level dataframe"
      ],
      "metadata": {
        "id": "cFJR0LauJKhX"
      },
      "execution_count": 62,
      "outputs": []
    },
    {
      "cell_type": "code",
      "source": [
        "cons_col_matched = pd.concat([cons_col_matched, new_c_count], axis=1)"
      ],
      "metadata": {
        "id": "Q4WX4sLAJKeA"
      },
      "execution_count": 63,
      "outputs": []
    },
    {
      "cell_type": "code",
      "source": [
        "cons_col_matched.rename(columns = {0:'matched_C'}, inplace = True) # rename new column"
      ],
      "metadata": {
        "id": "u_QteFMsJKZJ"
      },
      "execution_count": 64,
      "outputs": []
    },
    {
      "cell_type": "code",
      "source": [
        "cons_col_matched"
      ],
      "metadata": {
        "colab": {
          "base_uri": "https://localhost:8080/",
          "height": 423
        },
        "id": "T0CY1PC_JKU_",
        "outputId": "d298784b-a047-4afd-f9bb-0d978dd28f51"
      },
      "execution_count": 65,
      "outputs": [
        {
          "output_type": "execute_result",
          "data": {
            "text/plain": [
              "        Group      ID       Type Sound   Onset  Offset  Duration  \\\n",
              "0     Control   C1_DS  consonant   \"S\"   0.225   0.384     0.159   \n",
              "1     Control   C1_DS  consonant  \"HH\"   0.544   0.674     0.130   \n",
              "2     Control   C1_DS  consonant   \"R\"   0.804   0.934     0.130   \n",
              "3     Control   C1_DS  consonant   \"W\"   0.934   0.965     0.031   \n",
              "4     Control   C1_DS  consonant   \"R\"   1.385   1.474     0.089   \n",
              "...       ...     ...        ...   ...     ...     ...       ...   \n",
              "4037  Control  C13_RG  consonant   \"Z\"  84.079  84.240     0.161   \n",
              "4038  Control  C13_RG  consonant   \"N\"  84.701  84.731     0.030   \n",
              "4039  Control  C13_RG  consonant   \"D\"  84.731  84.750     0.019   \n",
              "4040  Control  C13_RG  consonant   \"W\"  84.750  84.820     0.070   \n",
              "4041  Control  C13_RG  consonant  \"TH\"  84.851  84.910     0.059   \n",
              "\n",
              "      Breath.Group   m  Consonants  matched_C  \n",
              "0                1  86          48         31  \n",
              "1                1  86          48         31  \n",
              "2                1  86          48         31  \n",
              "3                1  86          48         31  \n",
              "4                1  86          48         31  \n",
              "...            ...  ..         ...        ...  \n",
              "4037            27  32          23         22  \n",
              "4038            27  32          23         22  \n",
              "4039            27  32          23         22  \n",
              "4040            27  32          23         22  \n",
              "4041            27  38          23         22  \n",
              "\n",
              "[4042 rows x 11 columns]"
            ],
            "text/html": [
              "\n",
              "  <div id=\"df-4e649c1e-9ddd-478a-8e66-61c6a45d1679\">\n",
              "    <div class=\"colab-df-container\">\n",
              "      <div>\n",
              "<style scoped>\n",
              "    .dataframe tbody tr th:only-of-type {\n",
              "        vertical-align: middle;\n",
              "    }\n",
              "\n",
              "    .dataframe tbody tr th {\n",
              "        vertical-align: top;\n",
              "    }\n",
              "\n",
              "    .dataframe thead th {\n",
              "        text-align: right;\n",
              "    }\n",
              "</style>\n",
              "<table border=\"1\" class=\"dataframe\">\n",
              "  <thead>\n",
              "    <tr style=\"text-align: right;\">\n",
              "      <th></th>\n",
              "      <th>Group</th>\n",
              "      <th>ID</th>\n",
              "      <th>Type</th>\n",
              "      <th>Sound</th>\n",
              "      <th>Onset</th>\n",
              "      <th>Offset</th>\n",
              "      <th>Duration</th>\n",
              "      <th>Breath.Group</th>\n",
              "      <th>m</th>\n",
              "      <th>Consonants</th>\n",
              "      <th>matched_C</th>\n",
              "    </tr>\n",
              "  </thead>\n",
              "  <tbody>\n",
              "    <tr>\n",
              "      <th>0</th>\n",
              "      <td>Control</td>\n",
              "      <td>C1_DS</td>\n",
              "      <td>consonant</td>\n",
              "      <td>\"S\"</td>\n",
              "      <td>0.225</td>\n",
              "      <td>0.384</td>\n",
              "      <td>0.159</td>\n",
              "      <td>1</td>\n",
              "      <td>86</td>\n",
              "      <td>48</td>\n",
              "      <td>31</td>\n",
              "    </tr>\n",
              "    <tr>\n",
              "      <th>1</th>\n",
              "      <td>Control</td>\n",
              "      <td>C1_DS</td>\n",
              "      <td>consonant</td>\n",
              "      <td>\"HH\"</td>\n",
              "      <td>0.544</td>\n",
              "      <td>0.674</td>\n",
              "      <td>0.130</td>\n",
              "      <td>1</td>\n",
              "      <td>86</td>\n",
              "      <td>48</td>\n",
              "      <td>31</td>\n",
              "    </tr>\n",
              "    <tr>\n",
              "      <th>2</th>\n",
              "      <td>Control</td>\n",
              "      <td>C1_DS</td>\n",
              "      <td>consonant</td>\n",
              "      <td>\"R\"</td>\n",
              "      <td>0.804</td>\n",
              "      <td>0.934</td>\n",
              "      <td>0.130</td>\n",
              "      <td>1</td>\n",
              "      <td>86</td>\n",
              "      <td>48</td>\n",
              "      <td>31</td>\n",
              "    </tr>\n",
              "    <tr>\n",
              "      <th>3</th>\n",
              "      <td>Control</td>\n",
              "      <td>C1_DS</td>\n",
              "      <td>consonant</td>\n",
              "      <td>\"W\"</td>\n",
              "      <td>0.934</td>\n",
              "      <td>0.965</td>\n",
              "      <td>0.031</td>\n",
              "      <td>1</td>\n",
              "      <td>86</td>\n",
              "      <td>48</td>\n",
              "      <td>31</td>\n",
              "    </tr>\n",
              "    <tr>\n",
              "      <th>4</th>\n",
              "      <td>Control</td>\n",
              "      <td>C1_DS</td>\n",
              "      <td>consonant</td>\n",
              "      <td>\"R\"</td>\n",
              "      <td>1.385</td>\n",
              "      <td>1.474</td>\n",
              "      <td>0.089</td>\n",
              "      <td>1</td>\n",
              "      <td>86</td>\n",
              "      <td>48</td>\n",
              "      <td>31</td>\n",
              "    </tr>\n",
              "    <tr>\n",
              "      <th>...</th>\n",
              "      <td>...</td>\n",
              "      <td>...</td>\n",
              "      <td>...</td>\n",
              "      <td>...</td>\n",
              "      <td>...</td>\n",
              "      <td>...</td>\n",
              "      <td>...</td>\n",
              "      <td>...</td>\n",
              "      <td>...</td>\n",
              "      <td>...</td>\n",
              "      <td>...</td>\n",
              "    </tr>\n",
              "    <tr>\n",
              "      <th>4037</th>\n",
              "      <td>Control</td>\n",
              "      <td>C13_RG</td>\n",
              "      <td>consonant</td>\n",
              "      <td>\"Z\"</td>\n",
              "      <td>84.079</td>\n",
              "      <td>84.240</td>\n",
              "      <td>0.161</td>\n",
              "      <td>27</td>\n",
              "      <td>32</td>\n",
              "      <td>23</td>\n",
              "      <td>22</td>\n",
              "    </tr>\n",
              "    <tr>\n",
              "      <th>4038</th>\n",
              "      <td>Control</td>\n",
              "      <td>C13_RG</td>\n",
              "      <td>consonant</td>\n",
              "      <td>\"N\"</td>\n",
              "      <td>84.701</td>\n",
              "      <td>84.731</td>\n",
              "      <td>0.030</td>\n",
              "      <td>27</td>\n",
              "      <td>32</td>\n",
              "      <td>23</td>\n",
              "      <td>22</td>\n",
              "    </tr>\n",
              "    <tr>\n",
              "      <th>4039</th>\n",
              "      <td>Control</td>\n",
              "      <td>C13_RG</td>\n",
              "      <td>consonant</td>\n",
              "      <td>\"D\"</td>\n",
              "      <td>84.731</td>\n",
              "      <td>84.750</td>\n",
              "      <td>0.019</td>\n",
              "      <td>27</td>\n",
              "      <td>32</td>\n",
              "      <td>23</td>\n",
              "      <td>22</td>\n",
              "    </tr>\n",
              "    <tr>\n",
              "      <th>4040</th>\n",
              "      <td>Control</td>\n",
              "      <td>C13_RG</td>\n",
              "      <td>consonant</td>\n",
              "      <td>\"W\"</td>\n",
              "      <td>84.750</td>\n",
              "      <td>84.820</td>\n",
              "      <td>0.070</td>\n",
              "      <td>27</td>\n",
              "      <td>32</td>\n",
              "      <td>23</td>\n",
              "      <td>22</td>\n",
              "    </tr>\n",
              "    <tr>\n",
              "      <th>4041</th>\n",
              "      <td>Control</td>\n",
              "      <td>C13_RG</td>\n",
              "      <td>consonant</td>\n",
              "      <td>\"TH\"</td>\n",
              "      <td>84.851</td>\n",
              "      <td>84.910</td>\n",
              "      <td>0.059</td>\n",
              "      <td>27</td>\n",
              "      <td>38</td>\n",
              "      <td>23</td>\n",
              "      <td>22</td>\n",
              "    </tr>\n",
              "  </tbody>\n",
              "</table>\n",
              "<p>4042 rows × 11 columns</p>\n",
              "</div>\n",
              "      <button class=\"colab-df-convert\" onclick=\"convertToInteractive('df-4e649c1e-9ddd-478a-8e66-61c6a45d1679')\"\n",
              "              title=\"Convert this dataframe to an interactive table.\"\n",
              "              style=\"display:none;\">\n",
              "        \n",
              "  <svg xmlns=\"http://www.w3.org/2000/svg\" height=\"24px\"viewBox=\"0 0 24 24\"\n",
              "       width=\"24px\">\n",
              "    <path d=\"M0 0h24v24H0V0z\" fill=\"none\"/>\n",
              "    <path d=\"M18.56 5.44l.94 2.06.94-2.06 2.06-.94-2.06-.94-.94-2.06-.94 2.06-2.06.94zm-11 1L8.5 8.5l.94-2.06 2.06-.94-2.06-.94L8.5 2.5l-.94 2.06-2.06.94zm10 10l.94 2.06.94-2.06 2.06-.94-2.06-.94-.94-2.06-.94 2.06-2.06.94z\"/><path d=\"M17.41 7.96l-1.37-1.37c-.4-.4-.92-.59-1.43-.59-.52 0-1.04.2-1.43.59L10.3 9.45l-7.72 7.72c-.78.78-.78 2.05 0 2.83L4 21.41c.39.39.9.59 1.41.59.51 0 1.02-.2 1.41-.59l7.78-7.78 2.81-2.81c.8-.78.8-2.07 0-2.86zM5.41 20L4 18.59l7.72-7.72 1.47 1.35L5.41 20z\"/>\n",
              "  </svg>\n",
              "      </button>\n",
              "      \n",
              "  <style>\n",
              "    .colab-df-container {\n",
              "      display:flex;\n",
              "      flex-wrap:wrap;\n",
              "      gap: 12px;\n",
              "    }\n",
              "\n",
              "    .colab-df-convert {\n",
              "      background-color: #E8F0FE;\n",
              "      border: none;\n",
              "      border-radius: 50%;\n",
              "      cursor: pointer;\n",
              "      display: none;\n",
              "      fill: #1967D2;\n",
              "      height: 32px;\n",
              "      padding: 0 0 0 0;\n",
              "      width: 32px;\n",
              "    }\n",
              "\n",
              "    .colab-df-convert:hover {\n",
              "      background-color: #E2EBFA;\n",
              "      box-shadow: 0px 1px 2px rgba(60, 64, 67, 0.3), 0px 1px 3px 1px rgba(60, 64, 67, 0.15);\n",
              "      fill: #174EA6;\n",
              "    }\n",
              "\n",
              "    [theme=dark] .colab-df-convert {\n",
              "      background-color: #3B4455;\n",
              "      fill: #D2E3FC;\n",
              "    }\n",
              "\n",
              "    [theme=dark] .colab-df-convert:hover {\n",
              "      background-color: #434B5C;\n",
              "      box-shadow: 0px 1px 3px 1px rgba(0, 0, 0, 0.15);\n",
              "      filter: drop-shadow(0px 1px 2px rgba(0, 0, 0, 0.3));\n",
              "      fill: #FFFFFF;\n",
              "    }\n",
              "  </style>\n",
              "\n",
              "      <script>\n",
              "        const buttonEl =\n",
              "          document.querySelector('#df-4e649c1e-9ddd-478a-8e66-61c6a45d1679 button.colab-df-convert');\n",
              "        buttonEl.style.display =\n",
              "          google.colab.kernel.accessAllowed ? 'block' : 'none';\n",
              "\n",
              "        async function convertToInteractive(key) {\n",
              "          const element = document.querySelector('#df-4e649c1e-9ddd-478a-8e66-61c6a45d1679');\n",
              "          const dataTable =\n",
              "            await google.colab.kernel.invokeFunction('convertToInteractive',\n",
              "                                                     [key], {});\n",
              "          if (!dataTable) return;\n",
              "\n",
              "          const docLinkHtml = 'Like what you see? Visit the ' +\n",
              "            '<a target=\"_blank\" href=https://colab.research.google.com/notebooks/data_table.ipynb>data table notebook</a>'\n",
              "            + ' to learn more about interactive tables.';\n",
              "          element.innerHTML = '';\n",
              "          dataTable['output_type'] = 'display_data';\n",
              "          await google.colab.output.renderOutput(dataTable, element);\n",
              "          const docLink = document.createElement('div');\n",
              "          docLink.innerHTML = docLinkHtml;\n",
              "          element.appendChild(docLink);\n",
              "        }\n",
              "      </script>\n",
              "    </div>\n",
              "  </div>\n",
              "  "
            ]
          },
          "metadata": {},
          "execution_count": 65
        }
      ]
    },
    {
      "cell_type": "code",
      "source": [
        "n = -1\n",
        "control_subj_col = pd.DataFrame(index = range(len(control_IDs)),columns=[\"ID\"])\n",
        "avg_col = pd.DataFrame(index = range(len(control_IDs)),columns=[\"Consonants\"])\n",
        "for ID in control_IDs: ## loop over participnts\n",
        "  n = n + 1\n",
        "  subset_BGs = cons_col_matched[cons_col_matched[\"ID\"] == ID]  # get subset of sound dataframe that corresponds to current participant\n",
        "  subset_BGs.index = range(len(subset_BGs.index)) # reset index\n",
        "  BG_avg = subset_BGs.groupby(\"Breath.Group\").mean()\n",
        "  subj_avg = BG_avg[\"matched_C\"].mean()\n",
        "  avg_col[\"Consonants\"][n] = subj_avg\n",
        "  control_subj_col[\"ID\"][n] = ID"
      ],
      "metadata": {
        "id": "9PT0wCY7KRSQ"
      },
      "execution_count": 66,
      "outputs": []
    },
    {
      "cell_type": "code",
      "source": [
        "matched_cons = pd.concat([control_subj_col, avg_col], axis = 1)"
      ],
      "metadata": {
        "id": "Uao3nzpeKSOg"
      },
      "execution_count": 67,
      "outputs": []
    },
    {
      "cell_type": "code",
      "source": [
        "matched_cons"
      ],
      "metadata": {
        "colab": {
          "base_uri": "https://localhost:8080/",
          "height": 425
        },
        "id": "Q7w5S4QVKSGY",
        "outputId": "abb4e543-89fe-4709-dead-0255fa76fa4b"
      },
      "execution_count": 68,
      "outputs": [
        {
          "output_type": "execute_result",
          "data": {
            "text/plain": [
              "        ID Consonants\n",
              "0    C1_DS  12.172414\n",
              "1    C2_JH  11.608696\n",
              "2    C3_MD  12.481481\n",
              "3    C4_ZO  12.857143\n",
              "4    C5_HL     13.375\n",
              "5    C6_LH   14.37037\n",
              "6    C7_SH      13.75\n",
              "7    C9_RD  12.607143\n",
              "8   C10_KS  12.206897\n",
              "9   C11_NP  11.807692\n",
              "10  C12_CC      13.12\n",
              "11  C13_RG  12.740741"
            ],
            "text/html": [
              "\n",
              "  <div id=\"df-671553af-605b-4194-b1c3-3b1414f261b1\">\n",
              "    <div class=\"colab-df-container\">\n",
              "      <div>\n",
              "<style scoped>\n",
              "    .dataframe tbody tr th:only-of-type {\n",
              "        vertical-align: middle;\n",
              "    }\n",
              "\n",
              "    .dataframe tbody tr th {\n",
              "        vertical-align: top;\n",
              "    }\n",
              "\n",
              "    .dataframe thead th {\n",
              "        text-align: right;\n",
              "    }\n",
              "</style>\n",
              "<table border=\"1\" class=\"dataframe\">\n",
              "  <thead>\n",
              "    <tr style=\"text-align: right;\">\n",
              "      <th></th>\n",
              "      <th>ID</th>\n",
              "      <th>Consonants</th>\n",
              "    </tr>\n",
              "  </thead>\n",
              "  <tbody>\n",
              "    <tr>\n",
              "      <th>0</th>\n",
              "      <td>C1_DS</td>\n",
              "      <td>12.172414</td>\n",
              "    </tr>\n",
              "    <tr>\n",
              "      <th>1</th>\n",
              "      <td>C2_JH</td>\n",
              "      <td>11.608696</td>\n",
              "    </tr>\n",
              "    <tr>\n",
              "      <th>2</th>\n",
              "      <td>C3_MD</td>\n",
              "      <td>12.481481</td>\n",
              "    </tr>\n",
              "    <tr>\n",
              "      <th>3</th>\n",
              "      <td>C4_ZO</td>\n",
              "      <td>12.857143</td>\n",
              "    </tr>\n",
              "    <tr>\n",
              "      <th>4</th>\n",
              "      <td>C5_HL</td>\n",
              "      <td>13.375</td>\n",
              "    </tr>\n",
              "    <tr>\n",
              "      <th>5</th>\n",
              "      <td>C6_LH</td>\n",
              "      <td>14.37037</td>\n",
              "    </tr>\n",
              "    <tr>\n",
              "      <th>6</th>\n",
              "      <td>C7_SH</td>\n",
              "      <td>13.75</td>\n",
              "    </tr>\n",
              "    <tr>\n",
              "      <th>7</th>\n",
              "      <td>C9_RD</td>\n",
              "      <td>12.607143</td>\n",
              "    </tr>\n",
              "    <tr>\n",
              "      <th>8</th>\n",
              "      <td>C10_KS</td>\n",
              "      <td>12.206897</td>\n",
              "    </tr>\n",
              "    <tr>\n",
              "      <th>9</th>\n",
              "      <td>C11_NP</td>\n",
              "      <td>11.807692</td>\n",
              "    </tr>\n",
              "    <tr>\n",
              "      <th>10</th>\n",
              "      <td>C12_CC</td>\n",
              "      <td>13.12</td>\n",
              "    </tr>\n",
              "    <tr>\n",
              "      <th>11</th>\n",
              "      <td>C13_RG</td>\n",
              "      <td>12.740741</td>\n",
              "    </tr>\n",
              "  </tbody>\n",
              "</table>\n",
              "</div>\n",
              "      <button class=\"colab-df-convert\" onclick=\"convertToInteractive('df-671553af-605b-4194-b1c3-3b1414f261b1')\"\n",
              "              title=\"Convert this dataframe to an interactive table.\"\n",
              "              style=\"display:none;\">\n",
              "        \n",
              "  <svg xmlns=\"http://www.w3.org/2000/svg\" height=\"24px\"viewBox=\"0 0 24 24\"\n",
              "       width=\"24px\">\n",
              "    <path d=\"M0 0h24v24H0V0z\" fill=\"none\"/>\n",
              "    <path d=\"M18.56 5.44l.94 2.06.94-2.06 2.06-.94-2.06-.94-.94-2.06-.94 2.06-2.06.94zm-11 1L8.5 8.5l.94-2.06 2.06-.94-2.06-.94L8.5 2.5l-.94 2.06-2.06.94zm10 10l.94 2.06.94-2.06 2.06-.94-2.06-.94-.94-2.06-.94 2.06-2.06.94z\"/><path d=\"M17.41 7.96l-1.37-1.37c-.4-.4-.92-.59-1.43-.59-.52 0-1.04.2-1.43.59L10.3 9.45l-7.72 7.72c-.78.78-.78 2.05 0 2.83L4 21.41c.39.39.9.59 1.41.59.51 0 1.02-.2 1.41-.59l7.78-7.78 2.81-2.81c.8-.78.8-2.07 0-2.86zM5.41 20L4 18.59l7.72-7.72 1.47 1.35L5.41 20z\"/>\n",
              "  </svg>\n",
              "      </button>\n",
              "      \n",
              "  <style>\n",
              "    .colab-df-container {\n",
              "      display:flex;\n",
              "      flex-wrap:wrap;\n",
              "      gap: 12px;\n",
              "    }\n",
              "\n",
              "    .colab-df-convert {\n",
              "      background-color: #E8F0FE;\n",
              "      border: none;\n",
              "      border-radius: 50%;\n",
              "      cursor: pointer;\n",
              "      display: none;\n",
              "      fill: #1967D2;\n",
              "      height: 32px;\n",
              "      padding: 0 0 0 0;\n",
              "      width: 32px;\n",
              "    }\n",
              "\n",
              "    .colab-df-convert:hover {\n",
              "      background-color: #E2EBFA;\n",
              "      box-shadow: 0px 1px 2px rgba(60, 64, 67, 0.3), 0px 1px 3px 1px rgba(60, 64, 67, 0.15);\n",
              "      fill: #174EA6;\n",
              "    }\n",
              "\n",
              "    [theme=dark] .colab-df-convert {\n",
              "      background-color: #3B4455;\n",
              "      fill: #D2E3FC;\n",
              "    }\n",
              "\n",
              "    [theme=dark] .colab-df-convert:hover {\n",
              "      background-color: #434B5C;\n",
              "      box-shadow: 0px 1px 3px 1px rgba(0, 0, 0, 0.15);\n",
              "      filter: drop-shadow(0px 1px 2px rgba(0, 0, 0, 0.3));\n",
              "      fill: #FFFFFF;\n",
              "    }\n",
              "  </style>\n",
              "\n",
              "      <script>\n",
              "        const buttonEl =\n",
              "          document.querySelector('#df-671553af-605b-4194-b1c3-3b1414f261b1 button.colab-df-convert');\n",
              "        buttonEl.style.display =\n",
              "          google.colab.kernel.accessAllowed ? 'block' : 'none';\n",
              "\n",
              "        async function convertToInteractive(key) {\n",
              "          const element = document.querySelector('#df-671553af-605b-4194-b1c3-3b1414f261b1');\n",
              "          const dataTable =\n",
              "            await google.colab.kernel.invokeFunction('convertToInteractive',\n",
              "                                                     [key], {});\n",
              "          if (!dataTable) return;\n",
              "\n",
              "          const docLinkHtml = 'Like what you see? Visit the ' +\n",
              "            '<a target=\"_blank\" href=https://colab.research.google.com/notebooks/data_table.ipynb>data table notebook</a>'\n",
              "            + ' to learn more about interactive tables.';\n",
              "          element.innerHTML = '';\n",
              "          dataTable['output_type'] = 'display_data';\n",
              "          await google.colab.output.renderOutput(dataTable, element);\n",
              "          const docLink = document.createElement('div');\n",
              "          docLink.innerHTML = docLinkHtml;\n",
              "          element.appendChild(docLink);\n",
              "        }\n",
              "      </script>\n",
              "    </div>\n",
              "  </div>\n",
              "  "
            ]
          },
          "metadata": {},
          "execution_count": 68
        }
      ]
    },
    {
      "cell_type": "markdown",
      "source": [
        "**2.3 Compare Average Consonants per Utterance Across Groups**"
      ],
      "metadata": {
        "id": "es2RGFiCLIPZ"
      }
    },
    {
      "cell_type": "code",
      "source": [
        "control_c_matched = matched_cons[\"Consonants\"].mean()"
      ],
      "metadata": {
        "id": "4rQEJN4iLLTw"
      },
      "execution_count": 69,
      "outputs": []
    },
    {
      "cell_type": "code",
      "source": [
        "difference_c_matched = control_c_matched - pws_c"
      ],
      "metadata": {
        "id": "ZmC1MJeILLNA"
      },
      "execution_count": 70,
      "outputs": []
    },
    {
      "cell_type": "code",
      "source": [
        "string9 = (f\"After matching, PWS have on average {round(pws_c,2)} consonants per utterance, while control participants have {round(control_c_matched,2)} consonants on average.\")\n",
        "string10 = (f\"This means that after matching the difference between control participants and PWS is reduced to {abs(round(difference_c_matched,2))} consonants per utterance.\")"
      ],
      "metadata": {
        "id": "olcmTiTzLLGQ"
      },
      "execution_count": 73,
      "outputs": []
    },
    {
      "cell_type": "code",
      "source": [
        "print(string9)\n",
        "print(string10)"
      ],
      "metadata": {
        "colab": {
          "base_uri": "https://localhost:8080/"
        },
        "id": "2LZ-M1r-LK8A",
        "outputId": "be64c0e9-694e-494c-dc4e-537342498201"
      },
      "execution_count": 74,
      "outputs": [
        {
          "output_type": "stream",
          "name": "stdout",
          "text": [
            "After matching, PWS have on average 13.13 consonants per utterance, while control participants have 12.76 consonants on average.\n",
            "This means that after matching the difference between control participants and PWS is reduced to 0.37 consonants per utterance.\n"
          ]
        }
      ]
    },
    {
      "cell_type": "markdown",
      "source": [
        "**2.4 Test if the Remaining Difference is Statistically Significant**"
      ],
      "metadata": {
        "id": "4JSWNDzYLt8g"
      }
    },
    {
      "cell_type": "code",
      "source": [
        "ttest_control = matched_cons"
      ],
      "metadata": {
        "id": "rJdHSKlmL02y"
      },
      "execution_count": 75,
      "outputs": []
    },
    {
      "cell_type": "code",
      "source": [
        "ttest_pws = reading_cons_con[0:18]      "
      ],
      "metadata": {
        "id": "Ef8QqMYXL0ow"
      },
      "execution_count": 76,
      "outputs": []
    },
    {
      "cell_type": "code",
      "source": [
        "read_c_matched_test = stats.ttest_ind(ttest_control['Consonants'],\n",
        "                      ttest_pws['Consonants'])"
      ],
      "metadata": {
        "id": "iGjBJsewL0lo"
      },
      "execution_count": 77,
      "outputs": []
    },
    {
      "cell_type": "code",
      "source": [
        "if read_c_matched_test[1] >= 0.05:\n",
        "  level = \"insignificant\"\n",
        "else:\n",
        "  level = \"significant\""
      ],
      "metadata": {
        "id": "iNt-KNOOL0iY"
      },
      "execution_count": 78,
      "outputs": []
    },
    {
      "cell_type": "code",
      "source": [
        "string11 = (f\"Control utterances that were longer than the mean average length of PWS utterances, were shortened by {round(cut_c,2)} consonants. \\nAfter matching, PWS had {round(pws_c,2)} consonants per utterance, while control participants had {round(control_c_matched,2)} per utterance. \\nThe difference is reduced to {abs(round(difference_c_matched,2))}, which is statistically {level} (p = {round(read_c_matched_test[1],2)}).\")"
      ],
      "metadata": {
        "id": "5Zb0VSljL0eo"
      },
      "execution_count": 81,
      "outputs": []
    },
    {
      "cell_type": "code",
      "source": [
        "print(string11)"
      ],
      "metadata": {
        "colab": {
          "base_uri": "https://localhost:8080/"
        },
        "id": "hV3yKeHZL0YR",
        "outputId": "5d0d9db8-7c34-4f2d-bf2e-194dbbe46395"
      },
      "execution_count": 82,
      "outputs": [
        {
          "output_type": "stream",
          "name": "stdout",
          "text": [
            "Control utterances that were longer than the mean average length of PWS utterances, were shortened by 8 consonants. \n",
            "After matching, PWS had 13.13 consonants per utterance, while control participants had 12.76 per utterance. \n",
            "The difference is reduced to 0.37, which is statistically insignificant (p = 0.59).\n"
          ]
        }
      ]
    },
    {
      "cell_type": "markdown",
      "source": [
        "# **Part III: Save**"
      ],
      "metadata": {
        "id": "cZLVs_Pz2vvT"
      }
    },
    {
      "cell_type": "markdown",
      "source": [
        "**1. Vowels**"
      ],
      "metadata": {
        "id": "1aByO4iI4Rlt"
      }
    },
    {
      "cell_type": "markdown",
      "source": [
        "**1.1 Create Output Dataframe**"
      ],
      "metadata": {
        "id": "BBAOnRKT4VDs"
      }
    },
    {
      "cell_type": "code",
      "source": [
        "reading_vowels_PWS = reading_vowels[reading_vowels[\"Group\"]  == \"PWS\"] \n",
        "reading_vowels_PWS.index = range(len(reading_vowels_PWS.index))"
      ],
      "metadata": {
        "id": "LAhZNqQc2wbu"
      },
      "execution_count": null,
      "outputs": []
    },
    {
      "cell_type": "code",
      "source": [
        "syll_col_matched.drop(['Syllables'], axis=1 , inplace = True)\n",
        "syll_col_matched.rename(columns = {'matched_V':'Syllables'}, inplace = True) # rename new column"
      ],
      "metadata": {
        "id": "qloWmdQD232e"
      },
      "execution_count": null,
      "outputs": []
    },
    {
      "cell_type": "code",
      "source": [
        "reading_vowels_matched = reading_vowels_PWS.append(syll_col_matched)"
      ],
      "metadata": {
        "id": "lBBDLoGD3kdk"
      },
      "execution_count": null,
      "outputs": []
    },
    {
      "cell_type": "markdown",
      "source": [
        "**2. Consonants**"
      ],
      "metadata": {
        "id": "H1-EzE76MtB4"
      }
    },
    {
      "cell_type": "markdown",
      "source": [
        "**2.1 Create Output DataFrame**"
      ],
      "metadata": {
        "id": "CUyPGDUMMvm5"
      }
    },
    {
      "cell_type": "code",
      "source": [
        "reading_consonants_PWS = reading_cons[reading_cons[\"Group\"]  == \"PWS\"] \n",
        "reading_consonants_PWS.index = range(len(reading_consonants_PWS.index))"
      ],
      "metadata": {
        "id": "3qmDcJOJM1oR"
      },
      "execution_count": 83,
      "outputs": []
    },
    {
      "cell_type": "code",
      "source": [
        "cons_col_matched.drop(['Consonants'], axis=1 , inplace = True)\n",
        "cons_col_matched.rename(columns = {'matched_C':'Consonants'}, inplace = True) # rename new column"
      ],
      "metadata": {
        "id": "DunLk-EGM1Yj"
      },
      "execution_count": 84,
      "outputs": []
    },
    {
      "cell_type": "code",
      "source": [
        "reading_consonants_matched = reading_consonants_PWS.append(cons_col_matched)"
      ],
      "metadata": {
        "id": "YEbPPXFDM1Q5"
      },
      "execution_count": 85,
      "outputs": []
    },
    {
      "cell_type": "markdown",
      "source": [
        "**1.2 Save as Excel**"
      ],
      "metadata": {
        "id": "h2lv70Ock7oH"
      }
    },
    {
      "cell_type": "code",
      "source": [
        "%cd /content/gdrive/MyDrive/RhythmAnalysisPipeline/"
      ],
      "metadata": {
        "colab": {
          "base_uri": "https://localhost:8080/"
        },
        "id": "y2jscq7OQUcb",
        "outputId": "05cf8ae5-427b-4b1d-ac70-4a01096f51ab"
      },
      "execution_count": null,
      "outputs": [
        {
          "output_type": "stream",
          "name": "stdout",
          "text": [
            "/content/gdrive/MyDrive/RhythmAnalysisPipeline\n"
          ]
        }
      ]
    },
    {
      "cell_type": "code",
      "source": [
        "dir = \"3.MLU_Matched\"\n",
        "\n",
        "if os.path.exists(dir) == False:\n",
        "  os.mkdir(dir)"
      ],
      "metadata": {
        "id": "cemkNlT32KhR"
      },
      "execution_count": null,
      "outputs": []
    },
    {
      "cell_type": "code",
      "source": [
        "%cd /content/gdrive/MyDrive/RhythmAnalysisPipeline/3.MLU_Matched/"
      ],
      "metadata": {
        "colab": {
          "base_uri": "https://localhost:8080/"
        },
        "id": "gXWfc9Nr2LYB",
        "outputId": "91753d4d-7bdf-48b9-9b83-116f7ba2514d"
      },
      "execution_count": 86,
      "outputs": [
        {
          "output_type": "stream",
          "name": "stdout",
          "text": [
            "/content/gdrive/MyDrive/RhythmAnalysisPipeline/3.MLU_Matched\n"
          ]
        }
      ]
    },
    {
      "cell_type": "code",
      "source": [
        "reading_vowels_matched.to_excel(\"reading_TextGrid_comb_BG_vowelsMatched.xlsx\")\n",
        "reading_consonants_matched.to_excel(\"reading_TextGrid_comb_BG_consonantsMatched.xlsx\")"
      ],
      "metadata": {
        "id": "JpnwT05h2Reu"
      },
      "execution_count": 88,
      "outputs": []
    },
    {
      "cell_type": "code",
      "source": [
        "%cd /content/gdrive/MyDrive/RhythmAnalysisPipeline/"
      ],
      "metadata": {
        "colab": {
          "base_uri": "https://localhost:8080/"
        },
        "id": "sCnLBAPi2Ocn",
        "outputId": "0fcd69d5-f16b-4e3f-e1d8-b37ff9758468"
      },
      "execution_count": null,
      "outputs": [
        {
          "output_type": "stream",
          "name": "stdout",
          "text": [
            "/content/gdrive/MyDrive/RhythmAnalysisPipeline\n"
          ]
        }
      ]
    }
  ]
}