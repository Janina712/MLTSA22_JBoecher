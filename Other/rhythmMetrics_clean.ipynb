{
  "nbformat": 4,
  "nbformat_minor": 0,
  "metadata": {
    "colab": {
      "name": "rhythmMetrics_clean.ipynb",
      "provenance": [],
      "authorship_tag": "ABX9TyOSJEw2rjhB89By1qEN6Sph",
      "include_colab_link": true
    },
    "kernelspec": {
      "name": "python3",
      "display_name": "Python 3"
    },
    "language_info": {
      "name": "python"
    }
  },
  "cells": [
    {
      "cell_type": "markdown",
      "metadata": {
        "id": "view-in-github",
        "colab_type": "text"
      },
      "source": [
        "<a href=\"https://colab.research.google.com/github/Janina712/MLTSA22_JBoecher/blob/main/Other/rhythmMetrics_clean.ipynb\" target=\"_parent\"><img src=\"https://colab.research.google.com/assets/colab-badge.svg\" alt=\"Open In Colab\"/></a>"
      ]
    },
    {
      "cell_type": "markdown",
      "source": [
        "**0. Imports & Set-Up**"
      ],
      "metadata": {
        "id": "vL1F4e1W3fIK"
      }
    },
    {
      "cell_type": "code",
      "execution_count": null,
      "metadata": {
        "id": "UopO6Yez3VGj"
      },
      "outputs": [],
      "source": [
        "import pandas as pd\n",
        "import numpy as np"
      ]
    },
    {
      "cell_type": "code",
      "source": [
        "from google.colab import drive\n",
        "drive.mount(\"/content/gdrive\")"
      ],
      "metadata": {
        "id": "-mc3cW-33pOR"
      },
      "execution_count": null,
      "outputs": []
    },
    {
      "cell_type": "code",
      "source": [
        "%cd /content/gdrive/MyDrive/ColabNotebooks/"
      ],
      "metadata": {
        "id": "S-3Glvl03p24"
      },
      "execution_count": null,
      "outputs": []
    },
    {
      "cell_type": "markdown",
      "source": [
        "Import Vowel Data Set"
      ],
      "metadata": {
        "id": "Xo1X4SMK39wR"
      }
    },
    {
      "cell_type": "code",
      "source": [
        "from google.colab import files\n",
        "df1 = files.upload() "
      ],
      "metadata": {
        "id": "CD_aRa0i3so5"
      },
      "execution_count": null,
      "outputs": []
    },
    {
      "cell_type": "code",
      "source": [
        "df1 = pd.read_csv(\"62m_nPVI_Check_MLU.csv\")"
      ],
      "metadata": {
        "id": "YTNX4HtG33PJ"
      },
      "execution_count": null,
      "outputs": []
    },
    {
      "cell_type": "markdown",
      "source": [
        "Import Consonant Data Set"
      ],
      "metadata": {
        "id": "PQwybNR-4O1o"
      }
    },
    {
      "cell_type": "code",
      "source": [
        "from google.colab import files\n",
        "df2 = files.upload() "
      ],
      "metadata": {
        "id": "Siu-IjSg4GP6"
      },
      "execution_count": null,
      "outputs": []
    },
    {
      "cell_type": "code",
      "source": [
        "df2 = pd.read_csv(\"62m_nPVI_Check_consonants.csv\")"
      ],
      "metadata": {
        "id": "6XvHM1FS4IMZ"
      },
      "execution_count": null,
      "outputs": []
    },
    {
      "cell_type": "markdown",
      "source": [
        "Create Result Data Frame"
      ],
      "metadata": {
        "id": "U3gAYLUB40eZ"
      }
    },
    {
      "cell_type": "code",
      "source": [
        "result_df = pd.DataFrame(columns = [\"BG\", \"VDuration\",\"VCDuration\",\"PrecV\",\"DeltaV\", \"DeltaC\", \"AvgV\", \"AvgC\", \"CoeffV\", \"CoeffC\"])"
      ],
      "metadata": {
        "id": "urnytGKv47wR"
      },
      "execution_count": null,
      "outputs": []
    },
    {
      "cell_type": "markdown",
      "source": [
        "**1. Percentage of Vocalic Intervals (PercV)**: Total vowel durations divided by sum of vowel and consonant durations."
      ],
      "metadata": {
        "id": "wIpy4dFf4ak6"
      }
    },
    {
      "cell_type": "markdown",
      "source": [
        "1.1 Calculate Total Vowel Duration of Breath Group"
      ],
      "metadata": {
        "id": "9UEUU_F45iTK"
      }
    },
    {
      "cell_type": "code",
      "source": [
        "numberBG = np.max(df1[\"Breath.Group\"])"
      ],
      "metadata": {
        "id": "RvBHHkEZ5IHR"
      },
      "execution_count": null,
      "outputs": []
    },
    {
      "cell_type": "code",
      "source": [
        "Vsums = np.zeros(numberBG)"
      ],
      "metadata": {
        "id": "rX0-599R5LfC"
      },
      "execution_count": null,
      "outputs": []
    },
    {
      "cell_type": "code",
      "source": [
        "for i in range(1,numberBG+1):\n",
        "  for j in range(0, len(df)):\n",
        "    if df[\"Breath.Group\"][j] == i:\n",
        "      Vsums[i-1] = Vsums[i-1] + df[\"Duration\"][j]"
      ],
      "metadata": {
        "id": "PR7BI_bt5MPJ"
      },
      "execution_count": null,
      "outputs": []
    },
    {
      "cell_type": "code",
      "source": [
        "len(Vsums)"
      ],
      "metadata": {
        "id": "gs9fxd5i5Ppp"
      },
      "execution_count": null,
      "outputs": []
    },
    {
      "cell_type": "markdown",
      "source": [
        "1.2 Calculate Total Vowel + Consonant Duration"
      ],
      "metadata": {
        "id": "S32xtlPw5_Q4"
      }
    },
    {
      "cell_type": "code",
      "source": [
        "numberBG = np.max(df2[\"Breath.Group\"])"
      ],
      "metadata": {
        "id": "65id4Duk6Hvz"
      },
      "execution_count": null,
      "outputs": []
    },
    {
      "cell_type": "code",
      "source": [
        "Csums = np.zeros(numberBG)"
      ],
      "metadata": {
        "id": "KDCjVM_26Mwh"
      },
      "execution_count": null,
      "outputs": []
    },
    {
      "cell_type": "code",
      "source": [
        "for i in range(1,numberBG+1):\n",
        "  for j in range(0, len(df2)):\n",
        "    if df2[\"Breath.Group\"][j] == i:\n",
        "      Csums[i-1] = Csums[i-1] + df2[\"Duration\"][j]"
      ],
      "metadata": {
        "id": "F2W16CsG6Reh"
      },
      "execution_count": null,
      "outputs": []
    },
    {
      "cell_type": "code",
      "source": [
        "VCsums = Vsums + Csums"
      ],
      "metadata": {
        "id": "-zaS29XK6VaD"
      },
      "execution_count": null,
      "outputs": []
    },
    {
      "cell_type": "code",
      "source": [
        "len(VCsums)"
      ],
      "metadata": {
        "id": "o6g_b5ck6coJ"
      },
      "execution_count": null,
      "outputs": []
    },
    {
      "cell_type": "markdown",
      "source": [
        "1.3 Calculate Percentage of Vocalic Duration (PercV)"
      ],
      "metadata": {
        "id": "Jsh-znbz6p9R"
      }
    },
    {
      "cell_type": "code",
      "source": [
        "percV = Vsums/VCsums"
      ],
      "metadata": {
        "id": "hOhVmATP6wo5"
      },
      "execution_count": null,
      "outputs": []
    },
    {
      "cell_type": "markdown",
      "source": [
        "1.4 Add to Result Data Frame"
      ],
      "metadata": {
        "id": "BYKZ3iBm6-_K"
      }
    },
    {
      "cell_type": "code",
      "source": [
        "# add correct number of rows to dataframe\n",
        "BGnumbered = list(range(1, numberBG+1))\n",
        "result_df[\"BG\"] = BGnumbered"
      ],
      "metadata": {
        "id": "HKBrVdk57bPK"
      },
      "execution_count": null,
      "outputs": []
    },
    {
      "cell_type": "code",
      "source": [
        "result_df[\"VDuration\"] = Vsums\n",
        "result_df[\"VCDuration\"] = VCsums\n",
        "result_df[\"PrecV\"] = percV"
      ],
      "metadata": {
        "id": "se9QY4Fv62UC"
      },
      "execution_count": null,
      "outputs": []
    },
    {
      "cell_type": "code",
      "source": [
        "result_df"
      ],
      "metadata": {
        "id": "CCpg9PzD7Dn6"
      },
      "execution_count": null,
      "outputs": []
    },
    {
      "cell_type": "markdown",
      "source": [
        "**2. Delta V (DV):** Standard deviation of vocalic intervals."
      ],
      "metadata": {
        "id": "NzXOs-jO71p7"
      }
    },
    {
      "cell_type": "code",
      "source": [
        "grouped_df1 = df1.groupby(\"Breath.Group\")\n",
        "grouped_lists = grouped_df1[\"Duration\"].apply(list)\n",
        "grouped_lists = grouped_lists.reset_index()"
      ],
      "metadata": {
        "id": "KbW9kbU38J1R"
      },
      "execution_count": null,
      "outputs": []
    },
    {
      "cell_type": "code",
      "source": [
        "Vstd = np.zeros(len(grouped_lists))"
      ],
      "metadata": {
        "id": "RX_kylec8Kjx"
      },
      "execution_count": null,
      "outputs": []
    },
    {
      "cell_type": "code",
      "source": [
        "for i in range(0,len(grouped_lists)):\n",
        "  Vstd[i] = np.std(grouped_lists[\"Duration\"][i])"
      ],
      "metadata": {
        "id": "lJolYKw-8NGJ"
      },
      "execution_count": null,
      "outputs": []
    },
    {
      "cell_type": "code",
      "source": [
        "len(Vstd)"
      ],
      "metadata": {
        "id": "WDj_Qq2Q8T1p"
      },
      "execution_count": null,
      "outputs": []
    },
    {
      "cell_type": "markdown",
      "source": [
        "Add to Result Data Frame"
      ],
      "metadata": {
        "id": "vP3BgWo88Ysp"
      }
    },
    {
      "cell_type": "code",
      "source": [
        "result_df[\"DeltaV\"] = Vstd"
      ],
      "metadata": {
        "id": "09SUO8A38bjr"
      },
      "execution_count": null,
      "outputs": []
    },
    {
      "cell_type": "code",
      "source": [
        "result_df"
      ],
      "metadata": {
        "id": "Llm0Da1C8f0p"
      },
      "execution_count": null,
      "outputs": []
    },
    {
      "cell_type": "markdown",
      "source": [
        "**3. Delta C (DC):** Standard deviation of consonantal intervals."
      ],
      "metadata": {
        "id": "Be241Usb8hk5"
      }
    },
    {
      "cell_type": "code",
      "source": [
        "grouped_df2 = df2.groupby(\"Breath.Group\")\n",
        "grouped_lists2 = grouped_df2[\"Duration\"].apply(list)\n",
        "grouped_lists2 = grouped_lists2.reset_index()"
      ],
      "metadata": {
        "id": "q8P7Yd8T8vHp"
      },
      "execution_count": null,
      "outputs": []
    },
    {
      "cell_type": "code",
      "source": [
        "Cstd = np.zeros(len(grouped_lists2))"
      ],
      "metadata": {
        "id": "ZCqJ0yGH84Ln"
      },
      "execution_count": null,
      "outputs": []
    },
    {
      "cell_type": "code",
      "source": [
        "for i in range(0,len(grouped_lists2)):\n",
        "  Cstd[i] = np.std(grouped_lists2[\"Duration\"][i])"
      ],
      "metadata": {
        "id": "H1GeMJ-P863_"
      },
      "execution_count": null,
      "outputs": []
    },
    {
      "cell_type": "code",
      "source": [
        "len(Cstd)"
      ],
      "metadata": {
        "id": "vi6I0bFJ89uf"
      },
      "execution_count": null,
      "outputs": []
    },
    {
      "cell_type": "markdown",
      "source": [
        "Add to Result Data Frame"
      ],
      "metadata": {
        "id": "y8qbumja8_aR"
      }
    },
    {
      "cell_type": "code",
      "source": [
        "result_df[\"DeltaC\"] = Cstd"
      ],
      "metadata": {
        "id": "GKMy14hm9CFa"
      },
      "execution_count": null,
      "outputs": []
    },
    {
      "cell_type": "code",
      "source": [
        "result_df"
      ],
      "metadata": {
        "id": "jyjB_ZWF9GV6"
      },
      "execution_count": null,
      "outputs": []
    },
    {
      "cell_type": "markdown",
      "source": [
        "**4. Variable coefficient of vocalic intervals (VarcoV):** DeltaV divided by average vowel duration."
      ],
      "metadata": {
        "id": "KRvHrV-69I_y"
      }
    },
    {
      "cell_type": "markdown",
      "source": [
        "4.1 Calculate Average Vowel Duration in Breath Group"
      ],
      "metadata": {
        "id": "rSqn5GTw9WnC"
      }
    },
    {
      "cell_type": "code",
      "source": [
        "grouped_df1 = df1.groupby(\"Breath.Group\")\n",
        "grouped_lists = grouped_df1[\"Duration\"].apply(list)\n",
        "grouped_lists = grouped_lists.reset_index()"
      ],
      "metadata": {
        "id": "EwQOAN_e9ePC"
      },
      "execution_count": null,
      "outputs": []
    },
    {
      "cell_type": "code",
      "source": [
        "Vavg = np.zeros(len(grouped_lists))"
      ],
      "metadata": {
        "id": "8a9P1WeG9kdJ"
      },
      "execution_count": null,
      "outputs": []
    },
    {
      "cell_type": "code",
      "source": [
        "for i in range(0,len(grouped_lists)):\n",
        "  Vavg[i] = np.mean(grouped_lists[\"Duration\"][i])"
      ],
      "metadata": {
        "id": "KuKcCBRj9nTw"
      },
      "execution_count": null,
      "outputs": []
    },
    {
      "cell_type": "code",
      "source": [
        "len(Vavg)"
      ],
      "metadata": {
        "id": "d8uh2twf9p2q"
      },
      "execution_count": null,
      "outputs": []
    },
    {
      "cell_type": "markdown",
      "source": [
        "4.2 Divide Vowel Duration std by Average Vowel Duration"
      ],
      "metadata": {
        "id": "PnTCg1pG9xGh"
      }
    },
    {
      "cell_type": "code",
      "source": [
        "VarcoV = Vstd/Vavg"
      ],
      "metadata": {
        "id": "Nu-IVpuM95Zb"
      },
      "execution_count": null,
      "outputs": []
    },
    {
      "cell_type": "markdown",
      "source": [
        "4.3 Add to Result Data Frame"
      ],
      "metadata": {
        "id": "3z1BjZSr98ZR"
      }
    },
    {
      "cell_type": "code",
      "source": [
        "result_df[\"AvgC\"] = Cavg\n",
        "result_df[\"CoeffV\"] = VarcoV"
      ],
      "metadata": {
        "id": "DRci2RX5-CPJ"
      },
      "execution_count": null,
      "outputs": []
    },
    {
      "cell_type": "code",
      "source": [
        "result_df"
      ],
      "metadata": {
        "id": "rbbomkb6-GXa"
      },
      "execution_count": null,
      "outputs": []
    },
    {
      "cell_type": "markdown",
      "source": [
        "**5. Variable coefficient of consonantal intervals (VarcoC):** DeltaC divided by average consonant duration."
      ],
      "metadata": {
        "id": "P-AGvDQ0-OwO"
      }
    },
    {
      "cell_type": "markdown",
      "source": [
        "5.1 Calculate Average Consonant Duration in Breath Group"
      ],
      "metadata": {
        "id": "RdSa_SO0-gbZ"
      }
    },
    {
      "cell_type": "code",
      "source": [
        "grouped_df2 = df2.groupby(\"Breath.Group\")\n",
        "grouped_lists2 = grouped_df2[\"Duration\"].apply(list)\n",
        "grouped_lists2 = grouped_lists2.reset_index()"
      ],
      "metadata": {
        "id": "7CyYNA6s-nf5"
      },
      "execution_count": null,
      "outputs": []
    },
    {
      "cell_type": "code",
      "source": [
        "Cavg = np.zeros(len(grouped_lists2)) "
      ],
      "metadata": {
        "id": "KZ2H43Xt-oR5"
      },
      "execution_count": null,
      "outputs": []
    },
    {
      "cell_type": "code",
      "source": [
        "for i in range(0,len(grouped_lists2)):\n",
        "  Cavg[i] = np.mean(grouped_lists2[\"Duration\"][i])"
      ],
      "metadata": {
        "id": "ou6HKA61-rLp"
      },
      "execution_count": null,
      "outputs": []
    },
    {
      "cell_type": "code",
      "source": [
        "len(Cavg)"
      ],
      "metadata": {
        "id": "QAEXesl_-t16"
      },
      "execution_count": null,
      "outputs": []
    },
    {
      "cell_type": "markdown",
      "source": [
        "5.2 Divide Consonant Duration std by Average Consonant Duration "
      ],
      "metadata": {
        "id": "6h3aNTLK-xrC"
      }
    },
    {
      "cell_type": "code",
      "source": [
        "VarcoC = Cstd/Cavg"
      ],
      "metadata": {
        "id": "syJNZ49l_Ca5"
      },
      "execution_count": null,
      "outputs": []
    },
    {
      "cell_type": "markdown",
      "source": [
        "5.3 Add to Result Data Frame"
      ],
      "metadata": {
        "id": "XJBeqfzm_GQ6"
      }
    },
    {
      "cell_type": "code",
      "source": [
        "result_df[\"CoeffC\"] = VarcoC"
      ],
      "metadata": {
        "id": "WppeDhHJ_JNy"
      },
      "execution_count": null,
      "outputs": []
    },
    {
      "cell_type": "code",
      "source": [
        "result_df"
      ],
      "metadata": {
        "id": "EVwyzWBN_L2R"
      },
      "execution_count": null,
      "outputs": []
    },
    {
      "cell_type": "markdown",
      "source": [
        "**6. Get the Means for Each Value Across Breath Groups**"
      ],
      "metadata": {
        "id": "b6RO9Wk__VOR"
      }
    },
    {
      "cell_type": "code",
      "source": [
        "result_df.mean()"
      ],
      "metadata": {
        "id": "pMfiHM0w_hZj"
      },
      "execution_count": null,
      "outputs": []
    },
    {
      "cell_type": "markdown",
      "source": [
        "Add to Result Data Frame"
      ],
      "metadata": {
        "id": "ZrYY9qpA_i_a"
      }
    },
    {
      "cell_type": "code",
      "source": [
        "result_df[\"M_VDuration\"] = result_df.mean()[1]\n",
        "result_df[\"M_VCDuration\"] = result_df.mean()[2]\n",
        "result_df[\"M_PercV\"] = result_df.mean()[3]\n",
        "result_df[\"M_DeltaV\"] = result_df.mean()[4]\n",
        "result_df[\"M_DeltaC\"] = result_df.mean()[5]\n",
        "result_df[\"M_AvgV\"] = result_df.mean()[6]\n",
        "result_df[\"M_AvgC\"] = result_df.mean()[7]\n",
        "result_df[\"M_CoeffV\"] = result_df.mean()[8]\n",
        "result_df[\"M_CoeffC\"] = result_df.mean()[9]"
      ],
      "metadata": {
        "id": "sM8OPZYo_oMa"
      },
      "execution_count": null,
      "outputs": []
    },
    {
      "cell_type": "markdown",
      "source": [
        "**7. Finalize Result Data Frame & Export**"
      ],
      "metadata": {
        "id": "eTlenA6AAayq"
      }
    },
    {
      "cell_type": "code",
      "source": [
        "result_df[\"ID\"] = \"24fa\" \n",
        "first_column = result_df.pop('ID')\n",
        "result_df.insert(0, 'ID', first_column)"
      ],
      "metadata": {
        "id": "DfN5N_jIAkMb"
      },
      "execution_count": null,
      "outputs": []
    },
    {
      "cell_type": "code",
      "source": [
        "result_df"
      ],
      "metadata": {
        "id": "f2DUTgEXAlq5"
      },
      "execution_count": null,
      "outputs": []
    },
    {
      "cell_type": "code",
      "source": [
        "newdf.to_excel(\"PercDeltaOutput_24fa.xlsx\")"
      ],
      "metadata": {
        "id": "uc-M5mJQAr-n"
      },
      "execution_count": null,
      "outputs": []
    }
  ]
}