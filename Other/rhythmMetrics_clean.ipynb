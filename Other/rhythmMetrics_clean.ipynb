{
  "nbformat": 4,
  "nbformat_minor": 0,
  "metadata": {
    "colab": {
      "name": "rhythmMetrics_clean.ipynb",
      "provenance": [],
      "authorship_tag": "ABX9TyOKg2FTpZqkuIqQKQ+77Rgw",
      "include_colab_link": true
    },
    "kernelspec": {
      "name": "python3",
      "display_name": "Python 3"
    },
    "language_info": {
      "name": "python"
    }
  },
  "cells": [
    {
      "cell_type": "markdown",
      "metadata": {
        "id": "view-in-github",
        "colab_type": "text"
      },
      "source": [
        "<a href=\"https://colab.research.google.com/github/Janina712/MLTSA22_JBoecher/blob/main/Other/rhythmMetrics_clean.ipynb\" target=\"_parent\"><img src=\"https://colab.research.google.com/assets/colab-badge.svg\" alt=\"Open In Colab\"/></a>"
      ]
    },
    {
      "cell_type": "markdown",
      "source": [
        "**0. Imports & Set-Up**"
      ],
      "metadata": {
        "id": "vL1F4e1W3fIK"
      }
    },
    {
      "cell_type": "code",
      "execution_count": 1,
      "metadata": {
        "id": "UopO6Yez3VGj"
      },
      "outputs": [],
      "source": [
        "import pandas as pd\n",
        "import numpy as np"
      ]
    },
    {
      "cell_type": "code",
      "source": [
        "#from google.colab import drive\n",
        "#drive.mount(\"/content/gdrive\")"
      ],
      "metadata": {
        "id": "-mc3cW-33pOR"
      },
      "execution_count": 2,
      "outputs": []
    },
    {
      "cell_type": "code",
      "source": [
        "%cd /content/gdrive/MyDrive/ColabNotebooks/"
      ],
      "metadata": {
        "colab": {
          "base_uri": "https://localhost:8080/"
        },
        "id": "S-3Glvl03p24",
        "outputId": "a3ecec2c-26d0-4776-cae7-c393d5397783"
      },
      "execution_count": 3,
      "outputs": [
        {
          "output_type": "stream",
          "name": "stdout",
          "text": [
            "/content/gdrive/MyDrive/ColabNotebooks\n"
          ]
        }
      ]
    },
    {
      "cell_type": "markdown",
      "source": [
        "Import Vowel Data Set"
      ],
      "metadata": {
        "id": "Xo1X4SMK39wR"
      }
    },
    {
      "cell_type": "code",
      "source": [
        "#from google.colab import files\n",
        "#df1 = files.upload() "
      ],
      "metadata": {
        "id": "CD_aRa0i3so5"
      },
      "execution_count": 4,
      "outputs": []
    },
    {
      "cell_type": "code",
      "source": [
        "df1 = pd.read_csv(\"24fa_vowels.csv\")"
      ],
      "metadata": {
        "id": "YTNX4HtG33PJ"
      },
      "execution_count": 5,
      "outputs": []
    },
    {
      "cell_type": "markdown",
      "source": [
        "Import Consonant Data Set"
      ],
      "metadata": {
        "id": "PQwybNR-4O1o"
      }
    },
    {
      "cell_type": "code",
      "source": [
        "#from google.colab import files\n",
        "#df2 = files.upload() "
      ],
      "metadata": {
        "id": "Siu-IjSg4GP6"
      },
      "execution_count": 6,
      "outputs": []
    },
    {
      "cell_type": "code",
      "source": [
        "df2 = pd.read_csv(\"24fa_consonants.csv\")"
      ],
      "metadata": {
        "id": "6XvHM1FS4IMZ"
      },
      "execution_count": 7,
      "outputs": []
    },
    {
      "cell_type": "markdown",
      "source": [
        "Create Result Data Frame"
      ],
      "metadata": {
        "id": "U3gAYLUB40eZ"
      }
    },
    {
      "cell_type": "code",
      "source": [
        "result_df = pd.DataFrame(columns = [\"BG\", \"VDuration\",\"VCDuration\",\"PrecV\",\"DeltaV\", \"DeltaC\", \"AvgV\", \"AvgC\", \"CoeffV\", \"CoeffC\"])"
      ],
      "metadata": {
        "id": "urnytGKv47wR"
      },
      "execution_count": 8,
      "outputs": []
    },
    {
      "cell_type": "markdown",
      "source": [
        "Check for Discrepancies Between df1 and df2"
      ],
      "metadata": {
        "id": "04uVl4GRG0C9"
      }
    },
    {
      "cell_type": "code",
      "source": [
        "arr_df1 = df1[\"Breath.Group\"].unique()"
      ],
      "metadata": {
        "id": "uJC-Ko2-EPBz"
      },
      "execution_count": 9,
      "outputs": []
    },
    {
      "cell_type": "code",
      "source": [
        "arr_df2 = df2[\"Breath.Group\"].unique()"
      ],
      "metadata": {
        "id": "OenaMesQE3Fj"
      },
      "execution_count": 10,
      "outputs": []
    },
    {
      "cell_type": "code",
      "source": [
        "BG2drop = []\n",
        "u = 0\n",
        "for i in range(0,len(arr_df1)):\n",
        "  if arr_df1[i] != arr_df2[i-u]: \n",
        "    u = u + 1\n",
        "    BG2drop.append(i+1)"
      ],
      "metadata": {
        "id": "QQR4YklCE9mM"
      },
      "execution_count": 11,
      "outputs": []
    },
    {
      "cell_type": "code",
      "source": [
        "for d in range(0, len(BG2drop)):\n",
        "  df1.drop(df1[df1['Breath.Group'] == BG2drop[d]].index, inplace = True)"
      ],
      "metadata": {
        "id": "33VMf1yELVyb"
      },
      "execution_count": 12,
      "outputs": []
    },
    {
      "cell_type": "code",
      "source": [
        "df1 = df1.reset_index(drop=True)"
      ],
      "metadata": {
        "id": "TCE27bXPQ86k"
      },
      "execution_count": 13,
      "outputs": []
    },
    {
      "cell_type": "code",
      "source": [
        "arr_df1 = df1[\"Breath.Group\"].unique()"
      ],
      "metadata": {
        "id": "4-TcCCwER71R"
      },
      "execution_count": 14,
      "outputs": []
    },
    {
      "cell_type": "markdown",
      "source": [
        "**1. Percentage of Vocalic Intervals (PercV)**: Total vowel durations divided by sum of vowel and consonant durations."
      ],
      "metadata": {
        "id": "wIpy4dFf4ak6"
      }
    },
    {
      "cell_type": "markdown",
      "source": [
        "1.1 Calculate Total Vowel Duration of Breath Group"
      ],
      "metadata": {
        "id": "9UEUU_F45iTK"
      }
    },
    {
      "cell_type": "code",
      "source": [
        "numberBG = len(arr_df1)"
      ],
      "metadata": {
        "id": "WIhdWBVUSAvx"
      },
      "execution_count": 15,
      "outputs": []
    },
    {
      "cell_type": "code",
      "source": [
        "Vsums = np.zeros(numberBG)"
      ],
      "metadata": {
        "id": "rX0-599R5LfC"
      },
      "execution_count": 16,
      "outputs": []
    },
    {
      "cell_type": "code",
      "source": [
        "for i in range(1,numberBG-1):\n",
        "  for j in range(0, len(df1)):\n",
        "    if df1[\"Breath.Group\"][j] == i:\n",
        "      Vsums[i-1] = Vsums[i-1] + df1[\"Duration\"][j]"
      ],
      "metadata": {
        "id": "iyNiTuOPOzu0"
      },
      "execution_count": 17,
      "outputs": []
    },
    {
      "cell_type": "code",
      "source": [
        "len(Vsums)"
      ],
      "metadata": {
        "colab": {
          "base_uri": "https://localhost:8080/"
        },
        "id": "gs9fxd5i5Ppp",
        "outputId": "e74c5080-5cc0-486e-9d4f-3926928e1317"
      },
      "execution_count": 18,
      "outputs": [
        {
          "output_type": "execute_result",
          "data": {
            "text/plain": [
              "125"
            ]
          },
          "metadata": {},
          "execution_count": 18
        }
      ]
    },
    {
      "cell_type": "markdown",
      "source": [
        "1.2 Calculate Total Vowel + Consonant Duration"
      ],
      "metadata": {
        "id": "S32xtlPw5_Q4"
      }
    },
    {
      "cell_type": "code",
      "source": [
        "numberBG = len(arr_df1)"
      ],
      "metadata": {
        "id": "HoVWEZkkR4Jx"
      },
      "execution_count": 19,
      "outputs": []
    },
    {
      "cell_type": "code",
      "source": [
        "Csums = np.zeros(numberBG)"
      ],
      "metadata": {
        "id": "KDCjVM_26Mwh"
      },
      "execution_count": 20,
      "outputs": []
    },
    {
      "cell_type": "code",
      "source": [
        "for i in range(1,numberBG+1):\n",
        "  for j in range(0, len(df2)):\n",
        "    if df2[\"Breath.Group\"][j] == i:\n",
        "      Csums[i-1] = Csums[i-1] + df2[\"Duration\"][j]"
      ],
      "metadata": {
        "id": "F2W16CsG6Reh"
      },
      "execution_count": 21,
      "outputs": []
    },
    {
      "cell_type": "code",
      "source": [
        "VCsums = Vsums + Csums"
      ],
      "metadata": {
        "id": "-zaS29XK6VaD"
      },
      "execution_count": 22,
      "outputs": []
    },
    {
      "cell_type": "code",
      "source": [
        "len(VCsums)"
      ],
      "metadata": {
        "colab": {
          "base_uri": "https://localhost:8080/"
        },
        "id": "o6g_b5ck6coJ",
        "outputId": "949d30f8-1d5e-4faf-e7a7-86dbd109c53e"
      },
      "execution_count": 23,
      "outputs": [
        {
          "output_type": "execute_result",
          "data": {
            "text/plain": [
              "125"
            ]
          },
          "metadata": {},
          "execution_count": 23
        }
      ]
    },
    {
      "cell_type": "markdown",
      "source": [
        "1.3 Calculate Percentage of Vocalic Duration (PercV)"
      ],
      "metadata": {
        "id": "Jsh-znbz6p9R"
      }
    },
    {
      "cell_type": "code",
      "source": [
        "percV = Vsums/VCsums"
      ],
      "metadata": {
        "colab": {
          "base_uri": "https://localhost:8080/"
        },
        "id": "hOhVmATP6wo5",
        "outputId": "71a5125b-f504-41e1-bb7c-60124c522945"
      },
      "execution_count": 24,
      "outputs": [
        {
          "output_type": "stream",
          "name": "stderr",
          "text": [
            "/usr/local/lib/python3.7/dist-packages/ipykernel_launcher.py:1: RuntimeWarning: invalid value encountered in true_divide\n",
            "  \"\"\"Entry point for launching an IPython kernel.\n"
          ]
        }
      ]
    },
    {
      "cell_type": "markdown",
      "source": [
        "1.4 Add to Result Data Frame"
      ],
      "metadata": {
        "id": "BYKZ3iBm6-_K"
      }
    },
    {
      "cell_type": "code",
      "source": [
        "# add correct number of rows to dataframe\n",
        "BGnumbered = list(range(1, numberBG+1))\n",
        "result_df[\"BG\"] = BGnumbered"
      ],
      "metadata": {
        "id": "HKBrVdk57bPK"
      },
      "execution_count": 25,
      "outputs": []
    },
    {
      "cell_type": "code",
      "source": [
        "result_df[\"VDuration\"] = Vsums\n",
        "result_df[\"VCDuration\"] = VCsums\n",
        "result_df[\"PrecV\"] = percV"
      ],
      "metadata": {
        "id": "se9QY4Fv62UC"
      },
      "execution_count": 26,
      "outputs": []
    },
    {
      "cell_type": "code",
      "source": [
        "result_df"
      ],
      "metadata": {
        "colab": {
          "base_uri": "https://localhost:8080/",
          "height": 423
        },
        "id": "CCpg9PzD7Dn6",
        "outputId": "be579c07-ceab-4fb3-bb76-6dfd2ad5073a"
      },
      "execution_count": 27,
      "outputs": [
        {
          "output_type": "execute_result",
          "data": {
            "text/plain": [
              "      BG  VDuration  VCDuration     PrecV DeltaV DeltaC AvgV AvgC CoeffV  \\\n",
              "0      1      1.180       2.409  0.489830    NaN    NaN  NaN  NaN    NaN   \n",
              "1      2      0.450       0.980  0.459184    NaN    NaN  NaN  NaN    NaN   \n",
              "2      3      0.500       0.560  0.892857    NaN    NaN  NaN  NaN    NaN   \n",
              "3      4      0.470       1.019  0.461237    NaN    NaN  NaN  NaN    NaN   \n",
              "4      5      0.938       1.469  0.638530    NaN    NaN  NaN  NaN    NaN   \n",
              "..   ...        ...         ...       ...    ...    ...  ...  ...    ...   \n",
              "120  121      0.378       1.049  0.360343    NaN    NaN  NaN  NaN    NaN   \n",
              "121  122      0.320       0.670  0.477612    NaN    NaN  NaN  NaN    NaN   \n",
              "122  123      0.250       0.499  0.501002    NaN    NaN  NaN  NaN    NaN   \n",
              "123  124      0.000       0.128  0.000000    NaN    NaN  NaN  NaN    NaN   \n",
              "124  125      0.000       0.588  0.000000    NaN    NaN  NaN  NaN    NaN   \n",
              "\n",
              "    CoeffC  \n",
              "0      NaN  \n",
              "1      NaN  \n",
              "2      NaN  \n",
              "3      NaN  \n",
              "4      NaN  \n",
              "..     ...  \n",
              "120    NaN  \n",
              "121    NaN  \n",
              "122    NaN  \n",
              "123    NaN  \n",
              "124    NaN  \n",
              "\n",
              "[125 rows x 10 columns]"
            ],
            "text/html": [
              "\n",
              "  <div id=\"df-5545b4fb-e4c4-439d-94e6-37851d3cbe36\">\n",
              "    <div class=\"colab-df-container\">\n",
              "      <div>\n",
              "<style scoped>\n",
              "    .dataframe tbody tr th:only-of-type {\n",
              "        vertical-align: middle;\n",
              "    }\n",
              "\n",
              "    .dataframe tbody tr th {\n",
              "        vertical-align: top;\n",
              "    }\n",
              "\n",
              "    .dataframe thead th {\n",
              "        text-align: right;\n",
              "    }\n",
              "</style>\n",
              "<table border=\"1\" class=\"dataframe\">\n",
              "  <thead>\n",
              "    <tr style=\"text-align: right;\">\n",
              "      <th></th>\n",
              "      <th>BG</th>\n",
              "      <th>VDuration</th>\n",
              "      <th>VCDuration</th>\n",
              "      <th>PrecV</th>\n",
              "      <th>DeltaV</th>\n",
              "      <th>DeltaC</th>\n",
              "      <th>AvgV</th>\n",
              "      <th>AvgC</th>\n",
              "      <th>CoeffV</th>\n",
              "      <th>CoeffC</th>\n",
              "    </tr>\n",
              "  </thead>\n",
              "  <tbody>\n",
              "    <tr>\n",
              "      <th>0</th>\n",
              "      <td>1</td>\n",
              "      <td>1.180</td>\n",
              "      <td>2.409</td>\n",
              "      <td>0.489830</td>\n",
              "      <td>NaN</td>\n",
              "      <td>NaN</td>\n",
              "      <td>NaN</td>\n",
              "      <td>NaN</td>\n",
              "      <td>NaN</td>\n",
              "      <td>NaN</td>\n",
              "    </tr>\n",
              "    <tr>\n",
              "      <th>1</th>\n",
              "      <td>2</td>\n",
              "      <td>0.450</td>\n",
              "      <td>0.980</td>\n",
              "      <td>0.459184</td>\n",
              "      <td>NaN</td>\n",
              "      <td>NaN</td>\n",
              "      <td>NaN</td>\n",
              "      <td>NaN</td>\n",
              "      <td>NaN</td>\n",
              "      <td>NaN</td>\n",
              "    </tr>\n",
              "    <tr>\n",
              "      <th>2</th>\n",
              "      <td>3</td>\n",
              "      <td>0.500</td>\n",
              "      <td>0.560</td>\n",
              "      <td>0.892857</td>\n",
              "      <td>NaN</td>\n",
              "      <td>NaN</td>\n",
              "      <td>NaN</td>\n",
              "      <td>NaN</td>\n",
              "      <td>NaN</td>\n",
              "      <td>NaN</td>\n",
              "    </tr>\n",
              "    <tr>\n",
              "      <th>3</th>\n",
              "      <td>4</td>\n",
              "      <td>0.470</td>\n",
              "      <td>1.019</td>\n",
              "      <td>0.461237</td>\n",
              "      <td>NaN</td>\n",
              "      <td>NaN</td>\n",
              "      <td>NaN</td>\n",
              "      <td>NaN</td>\n",
              "      <td>NaN</td>\n",
              "      <td>NaN</td>\n",
              "    </tr>\n",
              "    <tr>\n",
              "      <th>4</th>\n",
              "      <td>5</td>\n",
              "      <td>0.938</td>\n",
              "      <td>1.469</td>\n",
              "      <td>0.638530</td>\n",
              "      <td>NaN</td>\n",
              "      <td>NaN</td>\n",
              "      <td>NaN</td>\n",
              "      <td>NaN</td>\n",
              "      <td>NaN</td>\n",
              "      <td>NaN</td>\n",
              "    </tr>\n",
              "    <tr>\n",
              "      <th>...</th>\n",
              "      <td>...</td>\n",
              "      <td>...</td>\n",
              "      <td>...</td>\n",
              "      <td>...</td>\n",
              "      <td>...</td>\n",
              "      <td>...</td>\n",
              "      <td>...</td>\n",
              "      <td>...</td>\n",
              "      <td>...</td>\n",
              "      <td>...</td>\n",
              "    </tr>\n",
              "    <tr>\n",
              "      <th>120</th>\n",
              "      <td>121</td>\n",
              "      <td>0.378</td>\n",
              "      <td>1.049</td>\n",
              "      <td>0.360343</td>\n",
              "      <td>NaN</td>\n",
              "      <td>NaN</td>\n",
              "      <td>NaN</td>\n",
              "      <td>NaN</td>\n",
              "      <td>NaN</td>\n",
              "      <td>NaN</td>\n",
              "    </tr>\n",
              "    <tr>\n",
              "      <th>121</th>\n",
              "      <td>122</td>\n",
              "      <td>0.320</td>\n",
              "      <td>0.670</td>\n",
              "      <td>0.477612</td>\n",
              "      <td>NaN</td>\n",
              "      <td>NaN</td>\n",
              "      <td>NaN</td>\n",
              "      <td>NaN</td>\n",
              "      <td>NaN</td>\n",
              "      <td>NaN</td>\n",
              "    </tr>\n",
              "    <tr>\n",
              "      <th>122</th>\n",
              "      <td>123</td>\n",
              "      <td>0.250</td>\n",
              "      <td>0.499</td>\n",
              "      <td>0.501002</td>\n",
              "      <td>NaN</td>\n",
              "      <td>NaN</td>\n",
              "      <td>NaN</td>\n",
              "      <td>NaN</td>\n",
              "      <td>NaN</td>\n",
              "      <td>NaN</td>\n",
              "    </tr>\n",
              "    <tr>\n",
              "      <th>123</th>\n",
              "      <td>124</td>\n",
              "      <td>0.000</td>\n",
              "      <td>0.128</td>\n",
              "      <td>0.000000</td>\n",
              "      <td>NaN</td>\n",
              "      <td>NaN</td>\n",
              "      <td>NaN</td>\n",
              "      <td>NaN</td>\n",
              "      <td>NaN</td>\n",
              "      <td>NaN</td>\n",
              "    </tr>\n",
              "    <tr>\n",
              "      <th>124</th>\n",
              "      <td>125</td>\n",
              "      <td>0.000</td>\n",
              "      <td>0.588</td>\n",
              "      <td>0.000000</td>\n",
              "      <td>NaN</td>\n",
              "      <td>NaN</td>\n",
              "      <td>NaN</td>\n",
              "      <td>NaN</td>\n",
              "      <td>NaN</td>\n",
              "      <td>NaN</td>\n",
              "    </tr>\n",
              "  </tbody>\n",
              "</table>\n",
              "<p>125 rows × 10 columns</p>\n",
              "</div>\n",
              "      <button class=\"colab-df-convert\" onclick=\"convertToInteractive('df-5545b4fb-e4c4-439d-94e6-37851d3cbe36')\"\n",
              "              title=\"Convert this dataframe to an interactive table.\"\n",
              "              style=\"display:none;\">\n",
              "        \n",
              "  <svg xmlns=\"http://www.w3.org/2000/svg\" height=\"24px\"viewBox=\"0 0 24 24\"\n",
              "       width=\"24px\">\n",
              "    <path d=\"M0 0h24v24H0V0z\" fill=\"none\"/>\n",
              "    <path d=\"M18.56 5.44l.94 2.06.94-2.06 2.06-.94-2.06-.94-.94-2.06-.94 2.06-2.06.94zm-11 1L8.5 8.5l.94-2.06 2.06-.94-2.06-.94L8.5 2.5l-.94 2.06-2.06.94zm10 10l.94 2.06.94-2.06 2.06-.94-2.06-.94-.94-2.06-.94 2.06-2.06.94z\"/><path d=\"M17.41 7.96l-1.37-1.37c-.4-.4-.92-.59-1.43-.59-.52 0-1.04.2-1.43.59L10.3 9.45l-7.72 7.72c-.78.78-.78 2.05 0 2.83L4 21.41c.39.39.9.59 1.41.59.51 0 1.02-.2 1.41-.59l7.78-7.78 2.81-2.81c.8-.78.8-2.07 0-2.86zM5.41 20L4 18.59l7.72-7.72 1.47 1.35L5.41 20z\"/>\n",
              "  </svg>\n",
              "      </button>\n",
              "      \n",
              "  <style>\n",
              "    .colab-df-container {\n",
              "      display:flex;\n",
              "      flex-wrap:wrap;\n",
              "      gap: 12px;\n",
              "    }\n",
              "\n",
              "    .colab-df-convert {\n",
              "      background-color: #E8F0FE;\n",
              "      border: none;\n",
              "      border-radius: 50%;\n",
              "      cursor: pointer;\n",
              "      display: none;\n",
              "      fill: #1967D2;\n",
              "      height: 32px;\n",
              "      padding: 0 0 0 0;\n",
              "      width: 32px;\n",
              "    }\n",
              "\n",
              "    .colab-df-convert:hover {\n",
              "      background-color: #E2EBFA;\n",
              "      box-shadow: 0px 1px 2px rgba(60, 64, 67, 0.3), 0px 1px 3px 1px rgba(60, 64, 67, 0.15);\n",
              "      fill: #174EA6;\n",
              "    }\n",
              "\n",
              "    [theme=dark] .colab-df-convert {\n",
              "      background-color: #3B4455;\n",
              "      fill: #D2E3FC;\n",
              "    }\n",
              "\n",
              "    [theme=dark] .colab-df-convert:hover {\n",
              "      background-color: #434B5C;\n",
              "      box-shadow: 0px 1px 3px 1px rgba(0, 0, 0, 0.15);\n",
              "      filter: drop-shadow(0px 1px 2px rgba(0, 0, 0, 0.3));\n",
              "      fill: #FFFFFF;\n",
              "    }\n",
              "  </style>\n",
              "\n",
              "      <script>\n",
              "        const buttonEl =\n",
              "          document.querySelector('#df-5545b4fb-e4c4-439d-94e6-37851d3cbe36 button.colab-df-convert');\n",
              "        buttonEl.style.display =\n",
              "          google.colab.kernel.accessAllowed ? 'block' : 'none';\n",
              "\n",
              "        async function convertToInteractive(key) {\n",
              "          const element = document.querySelector('#df-5545b4fb-e4c4-439d-94e6-37851d3cbe36');\n",
              "          const dataTable =\n",
              "            await google.colab.kernel.invokeFunction('convertToInteractive',\n",
              "                                                     [key], {});\n",
              "          if (!dataTable) return;\n",
              "\n",
              "          const docLinkHtml = 'Like what you see? Visit the ' +\n",
              "            '<a target=\"_blank\" href=https://colab.research.google.com/notebooks/data_table.ipynb>data table notebook</a>'\n",
              "            + ' to learn more about interactive tables.';\n",
              "          element.innerHTML = '';\n",
              "          dataTable['output_type'] = 'display_data';\n",
              "          await google.colab.output.renderOutput(dataTable, element);\n",
              "          const docLink = document.createElement('div');\n",
              "          docLink.innerHTML = docLinkHtml;\n",
              "          element.appendChild(docLink);\n",
              "        }\n",
              "      </script>\n",
              "    </div>\n",
              "  </div>\n",
              "  "
            ]
          },
          "metadata": {},
          "execution_count": 27
        }
      ]
    },
    {
      "cell_type": "markdown",
      "source": [
        "**2. Delta V (DV):** Standard deviation of vocalic intervals."
      ],
      "metadata": {
        "id": "NzXOs-jO71p7"
      }
    },
    {
      "cell_type": "code",
      "source": [
        "grouped_df1 = df1.groupby(\"Breath.Group\")\n",
        "grouped_lists = grouped_df1[\"Duration\"].apply(list)\n",
        "grouped_lists = grouped_lists.reset_index()"
      ],
      "metadata": {
        "id": "KbW9kbU38J1R"
      },
      "execution_count": 28,
      "outputs": []
    },
    {
      "cell_type": "code",
      "source": [
        "Vstd = np.zeros(len(grouped_lists))"
      ],
      "metadata": {
        "id": "RX_kylec8Kjx"
      },
      "execution_count": 29,
      "outputs": []
    },
    {
      "cell_type": "code",
      "source": [
        "for i in range(0,len(grouped_lists)):\n",
        "  Vstd[i] = np.std(grouped_lists[\"Duration\"][i])"
      ],
      "metadata": {
        "id": "lJolYKw-8NGJ"
      },
      "execution_count": 30,
      "outputs": []
    },
    {
      "cell_type": "code",
      "source": [
        "len(Vstd)"
      ],
      "metadata": {
        "colab": {
          "base_uri": "https://localhost:8080/"
        },
        "id": "WDj_Qq2Q8T1p",
        "outputId": "3ce1d5bf-20b0-42f0-a78d-e56a096f863e"
      },
      "execution_count": 31,
      "outputs": [
        {
          "output_type": "execute_result",
          "data": {
            "text/plain": [
              "125"
            ]
          },
          "metadata": {},
          "execution_count": 31
        }
      ]
    },
    {
      "cell_type": "markdown",
      "source": [
        "Add to Result Data Frame"
      ],
      "metadata": {
        "id": "vP3BgWo88Ysp"
      }
    },
    {
      "cell_type": "code",
      "source": [
        "result_df[\"DeltaV\"] = Vstd"
      ],
      "metadata": {
        "id": "09SUO8A38bjr"
      },
      "execution_count": 32,
      "outputs": []
    },
    {
      "cell_type": "code",
      "source": [
        "result_df"
      ],
      "metadata": {
        "colab": {
          "base_uri": "https://localhost:8080/",
          "height": 423
        },
        "id": "Llm0Da1C8f0p",
        "outputId": "6dc0d61a-fe33-4b04-ee73-2f7431ccd5a5"
      },
      "execution_count": 33,
      "outputs": [
        {
          "output_type": "execute_result",
          "data": {
            "text/plain": [
              "      BG  VDuration  VCDuration     PrecV    DeltaV DeltaC AvgV AvgC CoeffV  \\\n",
              "0      1      1.180       2.409  0.489830  0.050048    NaN  NaN  NaN    NaN   \n",
              "1      2      0.450       0.980  0.459184  0.064220    NaN  NaN  NaN    NaN   \n",
              "2      3      0.500       0.560  0.892857  0.069442    NaN  NaN  NaN    NaN   \n",
              "3      4      0.470       1.019  0.461237  0.065084    NaN  NaN  NaN    NaN   \n",
              "4      5      0.938       1.469  0.638530  0.055208    NaN  NaN  NaN    NaN   \n",
              "..   ...        ...         ...       ...       ...    ...  ...  ...    ...   \n",
              "120  121      0.378       1.049  0.360343  0.040000    NaN  NaN  NaN    NaN   \n",
              "121  122      0.320       0.670  0.477612  0.062198    NaN  NaN  NaN    NaN   \n",
              "122  123      0.250       0.499  0.501002  0.066346    NaN  NaN  NaN    NaN   \n",
              "123  124      0.000       0.128  0.000000  0.070158    NaN  NaN  NaN    NaN   \n",
              "124  125      0.000       0.588  0.000000  0.122958    NaN  NaN  NaN    NaN   \n",
              "\n",
              "    CoeffC  \n",
              "0      NaN  \n",
              "1      NaN  \n",
              "2      NaN  \n",
              "3      NaN  \n",
              "4      NaN  \n",
              "..     ...  \n",
              "120    NaN  \n",
              "121    NaN  \n",
              "122    NaN  \n",
              "123    NaN  \n",
              "124    NaN  \n",
              "\n",
              "[125 rows x 10 columns]"
            ],
            "text/html": [
              "\n",
              "  <div id=\"df-eb9f5077-8cf3-4a16-ac2b-2bdf1bfa3331\">\n",
              "    <div class=\"colab-df-container\">\n",
              "      <div>\n",
              "<style scoped>\n",
              "    .dataframe tbody tr th:only-of-type {\n",
              "        vertical-align: middle;\n",
              "    }\n",
              "\n",
              "    .dataframe tbody tr th {\n",
              "        vertical-align: top;\n",
              "    }\n",
              "\n",
              "    .dataframe thead th {\n",
              "        text-align: right;\n",
              "    }\n",
              "</style>\n",
              "<table border=\"1\" class=\"dataframe\">\n",
              "  <thead>\n",
              "    <tr style=\"text-align: right;\">\n",
              "      <th></th>\n",
              "      <th>BG</th>\n",
              "      <th>VDuration</th>\n",
              "      <th>VCDuration</th>\n",
              "      <th>PrecV</th>\n",
              "      <th>DeltaV</th>\n",
              "      <th>DeltaC</th>\n",
              "      <th>AvgV</th>\n",
              "      <th>AvgC</th>\n",
              "      <th>CoeffV</th>\n",
              "      <th>CoeffC</th>\n",
              "    </tr>\n",
              "  </thead>\n",
              "  <tbody>\n",
              "    <tr>\n",
              "      <th>0</th>\n",
              "      <td>1</td>\n",
              "      <td>1.180</td>\n",
              "      <td>2.409</td>\n",
              "      <td>0.489830</td>\n",
              "      <td>0.050048</td>\n",
              "      <td>NaN</td>\n",
              "      <td>NaN</td>\n",
              "      <td>NaN</td>\n",
              "      <td>NaN</td>\n",
              "      <td>NaN</td>\n",
              "    </tr>\n",
              "    <tr>\n",
              "      <th>1</th>\n",
              "      <td>2</td>\n",
              "      <td>0.450</td>\n",
              "      <td>0.980</td>\n",
              "      <td>0.459184</td>\n",
              "      <td>0.064220</td>\n",
              "      <td>NaN</td>\n",
              "      <td>NaN</td>\n",
              "      <td>NaN</td>\n",
              "      <td>NaN</td>\n",
              "      <td>NaN</td>\n",
              "    </tr>\n",
              "    <tr>\n",
              "      <th>2</th>\n",
              "      <td>3</td>\n",
              "      <td>0.500</td>\n",
              "      <td>0.560</td>\n",
              "      <td>0.892857</td>\n",
              "      <td>0.069442</td>\n",
              "      <td>NaN</td>\n",
              "      <td>NaN</td>\n",
              "      <td>NaN</td>\n",
              "      <td>NaN</td>\n",
              "      <td>NaN</td>\n",
              "    </tr>\n",
              "    <tr>\n",
              "      <th>3</th>\n",
              "      <td>4</td>\n",
              "      <td>0.470</td>\n",
              "      <td>1.019</td>\n",
              "      <td>0.461237</td>\n",
              "      <td>0.065084</td>\n",
              "      <td>NaN</td>\n",
              "      <td>NaN</td>\n",
              "      <td>NaN</td>\n",
              "      <td>NaN</td>\n",
              "      <td>NaN</td>\n",
              "    </tr>\n",
              "    <tr>\n",
              "      <th>4</th>\n",
              "      <td>5</td>\n",
              "      <td>0.938</td>\n",
              "      <td>1.469</td>\n",
              "      <td>0.638530</td>\n",
              "      <td>0.055208</td>\n",
              "      <td>NaN</td>\n",
              "      <td>NaN</td>\n",
              "      <td>NaN</td>\n",
              "      <td>NaN</td>\n",
              "      <td>NaN</td>\n",
              "    </tr>\n",
              "    <tr>\n",
              "      <th>...</th>\n",
              "      <td>...</td>\n",
              "      <td>...</td>\n",
              "      <td>...</td>\n",
              "      <td>...</td>\n",
              "      <td>...</td>\n",
              "      <td>...</td>\n",
              "      <td>...</td>\n",
              "      <td>...</td>\n",
              "      <td>...</td>\n",
              "      <td>...</td>\n",
              "    </tr>\n",
              "    <tr>\n",
              "      <th>120</th>\n",
              "      <td>121</td>\n",
              "      <td>0.378</td>\n",
              "      <td>1.049</td>\n",
              "      <td>0.360343</td>\n",
              "      <td>0.040000</td>\n",
              "      <td>NaN</td>\n",
              "      <td>NaN</td>\n",
              "      <td>NaN</td>\n",
              "      <td>NaN</td>\n",
              "      <td>NaN</td>\n",
              "    </tr>\n",
              "    <tr>\n",
              "      <th>121</th>\n",
              "      <td>122</td>\n",
              "      <td>0.320</td>\n",
              "      <td>0.670</td>\n",
              "      <td>0.477612</td>\n",
              "      <td>0.062198</td>\n",
              "      <td>NaN</td>\n",
              "      <td>NaN</td>\n",
              "      <td>NaN</td>\n",
              "      <td>NaN</td>\n",
              "      <td>NaN</td>\n",
              "    </tr>\n",
              "    <tr>\n",
              "      <th>122</th>\n",
              "      <td>123</td>\n",
              "      <td>0.250</td>\n",
              "      <td>0.499</td>\n",
              "      <td>0.501002</td>\n",
              "      <td>0.066346</td>\n",
              "      <td>NaN</td>\n",
              "      <td>NaN</td>\n",
              "      <td>NaN</td>\n",
              "      <td>NaN</td>\n",
              "      <td>NaN</td>\n",
              "    </tr>\n",
              "    <tr>\n",
              "      <th>123</th>\n",
              "      <td>124</td>\n",
              "      <td>0.000</td>\n",
              "      <td>0.128</td>\n",
              "      <td>0.000000</td>\n",
              "      <td>0.070158</td>\n",
              "      <td>NaN</td>\n",
              "      <td>NaN</td>\n",
              "      <td>NaN</td>\n",
              "      <td>NaN</td>\n",
              "      <td>NaN</td>\n",
              "    </tr>\n",
              "    <tr>\n",
              "      <th>124</th>\n",
              "      <td>125</td>\n",
              "      <td>0.000</td>\n",
              "      <td>0.588</td>\n",
              "      <td>0.000000</td>\n",
              "      <td>0.122958</td>\n",
              "      <td>NaN</td>\n",
              "      <td>NaN</td>\n",
              "      <td>NaN</td>\n",
              "      <td>NaN</td>\n",
              "      <td>NaN</td>\n",
              "    </tr>\n",
              "  </tbody>\n",
              "</table>\n",
              "<p>125 rows × 10 columns</p>\n",
              "</div>\n",
              "      <button class=\"colab-df-convert\" onclick=\"convertToInteractive('df-eb9f5077-8cf3-4a16-ac2b-2bdf1bfa3331')\"\n",
              "              title=\"Convert this dataframe to an interactive table.\"\n",
              "              style=\"display:none;\">\n",
              "        \n",
              "  <svg xmlns=\"http://www.w3.org/2000/svg\" height=\"24px\"viewBox=\"0 0 24 24\"\n",
              "       width=\"24px\">\n",
              "    <path d=\"M0 0h24v24H0V0z\" fill=\"none\"/>\n",
              "    <path d=\"M18.56 5.44l.94 2.06.94-2.06 2.06-.94-2.06-.94-.94-2.06-.94 2.06-2.06.94zm-11 1L8.5 8.5l.94-2.06 2.06-.94-2.06-.94L8.5 2.5l-.94 2.06-2.06.94zm10 10l.94 2.06.94-2.06 2.06-.94-2.06-.94-.94-2.06-.94 2.06-2.06.94z\"/><path d=\"M17.41 7.96l-1.37-1.37c-.4-.4-.92-.59-1.43-.59-.52 0-1.04.2-1.43.59L10.3 9.45l-7.72 7.72c-.78.78-.78 2.05 0 2.83L4 21.41c.39.39.9.59 1.41.59.51 0 1.02-.2 1.41-.59l7.78-7.78 2.81-2.81c.8-.78.8-2.07 0-2.86zM5.41 20L4 18.59l7.72-7.72 1.47 1.35L5.41 20z\"/>\n",
              "  </svg>\n",
              "      </button>\n",
              "      \n",
              "  <style>\n",
              "    .colab-df-container {\n",
              "      display:flex;\n",
              "      flex-wrap:wrap;\n",
              "      gap: 12px;\n",
              "    }\n",
              "\n",
              "    .colab-df-convert {\n",
              "      background-color: #E8F0FE;\n",
              "      border: none;\n",
              "      border-radius: 50%;\n",
              "      cursor: pointer;\n",
              "      display: none;\n",
              "      fill: #1967D2;\n",
              "      height: 32px;\n",
              "      padding: 0 0 0 0;\n",
              "      width: 32px;\n",
              "    }\n",
              "\n",
              "    .colab-df-convert:hover {\n",
              "      background-color: #E2EBFA;\n",
              "      box-shadow: 0px 1px 2px rgba(60, 64, 67, 0.3), 0px 1px 3px 1px rgba(60, 64, 67, 0.15);\n",
              "      fill: #174EA6;\n",
              "    }\n",
              "\n",
              "    [theme=dark] .colab-df-convert {\n",
              "      background-color: #3B4455;\n",
              "      fill: #D2E3FC;\n",
              "    }\n",
              "\n",
              "    [theme=dark] .colab-df-convert:hover {\n",
              "      background-color: #434B5C;\n",
              "      box-shadow: 0px 1px 3px 1px rgba(0, 0, 0, 0.15);\n",
              "      filter: drop-shadow(0px 1px 2px rgba(0, 0, 0, 0.3));\n",
              "      fill: #FFFFFF;\n",
              "    }\n",
              "  </style>\n",
              "\n",
              "      <script>\n",
              "        const buttonEl =\n",
              "          document.querySelector('#df-eb9f5077-8cf3-4a16-ac2b-2bdf1bfa3331 button.colab-df-convert');\n",
              "        buttonEl.style.display =\n",
              "          google.colab.kernel.accessAllowed ? 'block' : 'none';\n",
              "\n",
              "        async function convertToInteractive(key) {\n",
              "          const element = document.querySelector('#df-eb9f5077-8cf3-4a16-ac2b-2bdf1bfa3331');\n",
              "          const dataTable =\n",
              "            await google.colab.kernel.invokeFunction('convertToInteractive',\n",
              "                                                     [key], {});\n",
              "          if (!dataTable) return;\n",
              "\n",
              "          const docLinkHtml = 'Like what you see? Visit the ' +\n",
              "            '<a target=\"_blank\" href=https://colab.research.google.com/notebooks/data_table.ipynb>data table notebook</a>'\n",
              "            + ' to learn more about interactive tables.';\n",
              "          element.innerHTML = '';\n",
              "          dataTable['output_type'] = 'display_data';\n",
              "          await google.colab.output.renderOutput(dataTable, element);\n",
              "          const docLink = document.createElement('div');\n",
              "          docLink.innerHTML = docLinkHtml;\n",
              "          element.appendChild(docLink);\n",
              "        }\n",
              "      </script>\n",
              "    </div>\n",
              "  </div>\n",
              "  "
            ]
          },
          "metadata": {},
          "execution_count": 33
        }
      ]
    },
    {
      "cell_type": "markdown",
      "source": [
        "**3. Delta C (DC):** Standard deviation of consonantal intervals."
      ],
      "metadata": {
        "id": "Be241Usb8hk5"
      }
    },
    {
      "cell_type": "code",
      "source": [
        "grouped_df2 = df2.groupby(\"Breath.Group\")\n",
        "grouped_lists2 = grouped_df2[\"Duration\"].apply(list)\n",
        "grouped_lists2 = grouped_lists2.reset_index()"
      ],
      "metadata": {
        "id": "q8P7Yd8T8vHp"
      },
      "execution_count": 34,
      "outputs": []
    },
    {
      "cell_type": "code",
      "source": [
        "Cstd = np.zeros(len(grouped_lists2))"
      ],
      "metadata": {
        "id": "ZCqJ0yGH84Ln"
      },
      "execution_count": 35,
      "outputs": []
    },
    {
      "cell_type": "code",
      "source": [
        "for i in range(0,len(grouped_lists2)):\n",
        "  Cstd[i] = np.std(grouped_lists2[\"Duration\"][i])"
      ],
      "metadata": {
        "id": "H1GeMJ-P863_"
      },
      "execution_count": 36,
      "outputs": []
    },
    {
      "cell_type": "code",
      "source": [
        "len(Cstd)"
      ],
      "metadata": {
        "colab": {
          "base_uri": "https://localhost:8080/"
        },
        "id": "vi6I0bFJ89uf",
        "outputId": "2ba6955c-76fb-495d-ba97-7c41c8178d46"
      },
      "execution_count": 37,
      "outputs": [
        {
          "output_type": "execute_result",
          "data": {
            "text/plain": [
              "125"
            ]
          },
          "metadata": {},
          "execution_count": 37
        }
      ]
    },
    {
      "cell_type": "markdown",
      "source": [
        "Add to Result Data Frame"
      ],
      "metadata": {
        "id": "y8qbumja8_aR"
      }
    },
    {
      "cell_type": "code",
      "source": [
        "result_df[\"DeltaC\"] = Cstd"
      ],
      "metadata": {
        "id": "GKMy14hm9CFa"
      },
      "execution_count": 38,
      "outputs": []
    },
    {
      "cell_type": "code",
      "source": [
        "result_df"
      ],
      "metadata": {
        "colab": {
          "base_uri": "https://localhost:8080/",
          "height": 423
        },
        "id": "jyjB_ZWF9GV6",
        "outputId": "591dd261-507f-4ab6-ded0-665dc70bff4b"
      },
      "execution_count": 39,
      "outputs": [
        {
          "output_type": "execute_result",
          "data": {
            "text/plain": [
              "      BG  VDuration  VCDuration     PrecV    DeltaV    DeltaC AvgV AvgC  \\\n",
              "0      1      1.180       2.409  0.489830  0.050048  0.045225  NaN  NaN   \n",
              "1      2      0.450       0.980  0.459184  0.064220  0.059970  NaN  NaN   \n",
              "2      3      0.500       0.560  0.892857  0.069442  0.000000  NaN  NaN   \n",
              "3      4      0.470       1.019  0.461237  0.065084  0.021496  NaN  NaN   \n",
              "4      5      0.938       1.469  0.638530  0.055208  0.020521  NaN  NaN   \n",
              "..   ...        ...         ...       ...       ...       ...  ...  ...   \n",
              "120  121      0.378       1.049  0.360343  0.040000  0.009672  NaN  NaN   \n",
              "121  122      0.320       0.670  0.477612  0.062198  0.036177  NaN  NaN   \n",
              "122  123      0.250       0.499  0.501002  0.066346  0.038468  NaN  NaN   \n",
              "123  124      0.000       0.128  0.000000  0.070158  0.022264  NaN  NaN   \n",
              "124  125      0.000       0.588  0.000000  0.122958  0.036426  NaN  NaN   \n",
              "\n",
              "    CoeffV CoeffC  \n",
              "0      NaN    NaN  \n",
              "1      NaN    NaN  \n",
              "2      NaN    NaN  \n",
              "3      NaN    NaN  \n",
              "4      NaN    NaN  \n",
              "..     ...    ...  \n",
              "120    NaN    NaN  \n",
              "121    NaN    NaN  \n",
              "122    NaN    NaN  \n",
              "123    NaN    NaN  \n",
              "124    NaN    NaN  \n",
              "\n",
              "[125 rows x 10 columns]"
            ],
            "text/html": [
              "\n",
              "  <div id=\"df-ad10d6dd-4935-4eca-b0cf-4fad3cc4712f\">\n",
              "    <div class=\"colab-df-container\">\n",
              "      <div>\n",
              "<style scoped>\n",
              "    .dataframe tbody tr th:only-of-type {\n",
              "        vertical-align: middle;\n",
              "    }\n",
              "\n",
              "    .dataframe tbody tr th {\n",
              "        vertical-align: top;\n",
              "    }\n",
              "\n",
              "    .dataframe thead th {\n",
              "        text-align: right;\n",
              "    }\n",
              "</style>\n",
              "<table border=\"1\" class=\"dataframe\">\n",
              "  <thead>\n",
              "    <tr style=\"text-align: right;\">\n",
              "      <th></th>\n",
              "      <th>BG</th>\n",
              "      <th>VDuration</th>\n",
              "      <th>VCDuration</th>\n",
              "      <th>PrecV</th>\n",
              "      <th>DeltaV</th>\n",
              "      <th>DeltaC</th>\n",
              "      <th>AvgV</th>\n",
              "      <th>AvgC</th>\n",
              "      <th>CoeffV</th>\n",
              "      <th>CoeffC</th>\n",
              "    </tr>\n",
              "  </thead>\n",
              "  <tbody>\n",
              "    <tr>\n",
              "      <th>0</th>\n",
              "      <td>1</td>\n",
              "      <td>1.180</td>\n",
              "      <td>2.409</td>\n",
              "      <td>0.489830</td>\n",
              "      <td>0.050048</td>\n",
              "      <td>0.045225</td>\n",
              "      <td>NaN</td>\n",
              "      <td>NaN</td>\n",
              "      <td>NaN</td>\n",
              "      <td>NaN</td>\n",
              "    </tr>\n",
              "    <tr>\n",
              "      <th>1</th>\n",
              "      <td>2</td>\n",
              "      <td>0.450</td>\n",
              "      <td>0.980</td>\n",
              "      <td>0.459184</td>\n",
              "      <td>0.064220</td>\n",
              "      <td>0.059970</td>\n",
              "      <td>NaN</td>\n",
              "      <td>NaN</td>\n",
              "      <td>NaN</td>\n",
              "      <td>NaN</td>\n",
              "    </tr>\n",
              "    <tr>\n",
              "      <th>2</th>\n",
              "      <td>3</td>\n",
              "      <td>0.500</td>\n",
              "      <td>0.560</td>\n",
              "      <td>0.892857</td>\n",
              "      <td>0.069442</td>\n",
              "      <td>0.000000</td>\n",
              "      <td>NaN</td>\n",
              "      <td>NaN</td>\n",
              "      <td>NaN</td>\n",
              "      <td>NaN</td>\n",
              "    </tr>\n",
              "    <tr>\n",
              "      <th>3</th>\n",
              "      <td>4</td>\n",
              "      <td>0.470</td>\n",
              "      <td>1.019</td>\n",
              "      <td>0.461237</td>\n",
              "      <td>0.065084</td>\n",
              "      <td>0.021496</td>\n",
              "      <td>NaN</td>\n",
              "      <td>NaN</td>\n",
              "      <td>NaN</td>\n",
              "      <td>NaN</td>\n",
              "    </tr>\n",
              "    <tr>\n",
              "      <th>4</th>\n",
              "      <td>5</td>\n",
              "      <td>0.938</td>\n",
              "      <td>1.469</td>\n",
              "      <td>0.638530</td>\n",
              "      <td>0.055208</td>\n",
              "      <td>0.020521</td>\n",
              "      <td>NaN</td>\n",
              "      <td>NaN</td>\n",
              "      <td>NaN</td>\n",
              "      <td>NaN</td>\n",
              "    </tr>\n",
              "    <tr>\n",
              "      <th>...</th>\n",
              "      <td>...</td>\n",
              "      <td>...</td>\n",
              "      <td>...</td>\n",
              "      <td>...</td>\n",
              "      <td>...</td>\n",
              "      <td>...</td>\n",
              "      <td>...</td>\n",
              "      <td>...</td>\n",
              "      <td>...</td>\n",
              "      <td>...</td>\n",
              "    </tr>\n",
              "    <tr>\n",
              "      <th>120</th>\n",
              "      <td>121</td>\n",
              "      <td>0.378</td>\n",
              "      <td>1.049</td>\n",
              "      <td>0.360343</td>\n",
              "      <td>0.040000</td>\n",
              "      <td>0.009672</td>\n",
              "      <td>NaN</td>\n",
              "      <td>NaN</td>\n",
              "      <td>NaN</td>\n",
              "      <td>NaN</td>\n",
              "    </tr>\n",
              "    <tr>\n",
              "      <th>121</th>\n",
              "      <td>122</td>\n",
              "      <td>0.320</td>\n",
              "      <td>0.670</td>\n",
              "      <td>0.477612</td>\n",
              "      <td>0.062198</td>\n",
              "      <td>0.036177</td>\n",
              "      <td>NaN</td>\n",
              "      <td>NaN</td>\n",
              "      <td>NaN</td>\n",
              "      <td>NaN</td>\n",
              "    </tr>\n",
              "    <tr>\n",
              "      <th>122</th>\n",
              "      <td>123</td>\n",
              "      <td>0.250</td>\n",
              "      <td>0.499</td>\n",
              "      <td>0.501002</td>\n",
              "      <td>0.066346</td>\n",
              "      <td>0.038468</td>\n",
              "      <td>NaN</td>\n",
              "      <td>NaN</td>\n",
              "      <td>NaN</td>\n",
              "      <td>NaN</td>\n",
              "    </tr>\n",
              "    <tr>\n",
              "      <th>123</th>\n",
              "      <td>124</td>\n",
              "      <td>0.000</td>\n",
              "      <td>0.128</td>\n",
              "      <td>0.000000</td>\n",
              "      <td>0.070158</td>\n",
              "      <td>0.022264</td>\n",
              "      <td>NaN</td>\n",
              "      <td>NaN</td>\n",
              "      <td>NaN</td>\n",
              "      <td>NaN</td>\n",
              "    </tr>\n",
              "    <tr>\n",
              "      <th>124</th>\n",
              "      <td>125</td>\n",
              "      <td>0.000</td>\n",
              "      <td>0.588</td>\n",
              "      <td>0.000000</td>\n",
              "      <td>0.122958</td>\n",
              "      <td>0.036426</td>\n",
              "      <td>NaN</td>\n",
              "      <td>NaN</td>\n",
              "      <td>NaN</td>\n",
              "      <td>NaN</td>\n",
              "    </tr>\n",
              "  </tbody>\n",
              "</table>\n",
              "<p>125 rows × 10 columns</p>\n",
              "</div>\n",
              "      <button class=\"colab-df-convert\" onclick=\"convertToInteractive('df-ad10d6dd-4935-4eca-b0cf-4fad3cc4712f')\"\n",
              "              title=\"Convert this dataframe to an interactive table.\"\n",
              "              style=\"display:none;\">\n",
              "        \n",
              "  <svg xmlns=\"http://www.w3.org/2000/svg\" height=\"24px\"viewBox=\"0 0 24 24\"\n",
              "       width=\"24px\">\n",
              "    <path d=\"M0 0h24v24H0V0z\" fill=\"none\"/>\n",
              "    <path d=\"M18.56 5.44l.94 2.06.94-2.06 2.06-.94-2.06-.94-.94-2.06-.94 2.06-2.06.94zm-11 1L8.5 8.5l.94-2.06 2.06-.94-2.06-.94L8.5 2.5l-.94 2.06-2.06.94zm10 10l.94 2.06.94-2.06 2.06-.94-2.06-.94-.94-2.06-.94 2.06-2.06.94z\"/><path d=\"M17.41 7.96l-1.37-1.37c-.4-.4-.92-.59-1.43-.59-.52 0-1.04.2-1.43.59L10.3 9.45l-7.72 7.72c-.78.78-.78 2.05 0 2.83L4 21.41c.39.39.9.59 1.41.59.51 0 1.02-.2 1.41-.59l7.78-7.78 2.81-2.81c.8-.78.8-2.07 0-2.86zM5.41 20L4 18.59l7.72-7.72 1.47 1.35L5.41 20z\"/>\n",
              "  </svg>\n",
              "      </button>\n",
              "      \n",
              "  <style>\n",
              "    .colab-df-container {\n",
              "      display:flex;\n",
              "      flex-wrap:wrap;\n",
              "      gap: 12px;\n",
              "    }\n",
              "\n",
              "    .colab-df-convert {\n",
              "      background-color: #E8F0FE;\n",
              "      border: none;\n",
              "      border-radius: 50%;\n",
              "      cursor: pointer;\n",
              "      display: none;\n",
              "      fill: #1967D2;\n",
              "      height: 32px;\n",
              "      padding: 0 0 0 0;\n",
              "      width: 32px;\n",
              "    }\n",
              "\n",
              "    .colab-df-convert:hover {\n",
              "      background-color: #E2EBFA;\n",
              "      box-shadow: 0px 1px 2px rgba(60, 64, 67, 0.3), 0px 1px 3px 1px rgba(60, 64, 67, 0.15);\n",
              "      fill: #174EA6;\n",
              "    }\n",
              "\n",
              "    [theme=dark] .colab-df-convert {\n",
              "      background-color: #3B4455;\n",
              "      fill: #D2E3FC;\n",
              "    }\n",
              "\n",
              "    [theme=dark] .colab-df-convert:hover {\n",
              "      background-color: #434B5C;\n",
              "      box-shadow: 0px 1px 3px 1px rgba(0, 0, 0, 0.15);\n",
              "      filter: drop-shadow(0px 1px 2px rgba(0, 0, 0, 0.3));\n",
              "      fill: #FFFFFF;\n",
              "    }\n",
              "  </style>\n",
              "\n",
              "      <script>\n",
              "        const buttonEl =\n",
              "          document.querySelector('#df-ad10d6dd-4935-4eca-b0cf-4fad3cc4712f button.colab-df-convert');\n",
              "        buttonEl.style.display =\n",
              "          google.colab.kernel.accessAllowed ? 'block' : 'none';\n",
              "\n",
              "        async function convertToInteractive(key) {\n",
              "          const element = document.querySelector('#df-ad10d6dd-4935-4eca-b0cf-4fad3cc4712f');\n",
              "          const dataTable =\n",
              "            await google.colab.kernel.invokeFunction('convertToInteractive',\n",
              "                                                     [key], {});\n",
              "          if (!dataTable) return;\n",
              "\n",
              "          const docLinkHtml = 'Like what you see? Visit the ' +\n",
              "            '<a target=\"_blank\" href=https://colab.research.google.com/notebooks/data_table.ipynb>data table notebook</a>'\n",
              "            + ' to learn more about interactive tables.';\n",
              "          element.innerHTML = '';\n",
              "          dataTable['output_type'] = 'display_data';\n",
              "          await google.colab.output.renderOutput(dataTable, element);\n",
              "          const docLink = document.createElement('div');\n",
              "          docLink.innerHTML = docLinkHtml;\n",
              "          element.appendChild(docLink);\n",
              "        }\n",
              "      </script>\n",
              "    </div>\n",
              "  </div>\n",
              "  "
            ]
          },
          "metadata": {},
          "execution_count": 39
        }
      ]
    },
    {
      "cell_type": "markdown",
      "source": [
        "**4. Variable coefficient of vocalic intervals (VarcoV):** DeltaV divided by average vowel duration."
      ],
      "metadata": {
        "id": "KRvHrV-69I_y"
      }
    },
    {
      "cell_type": "markdown",
      "source": [
        "4.1 Calculate Average Vowel Duration in Breath Group"
      ],
      "metadata": {
        "id": "rSqn5GTw9WnC"
      }
    },
    {
      "cell_type": "code",
      "source": [
        "grouped_df1 = df1.groupby(\"Breath.Group\")\n",
        "grouped_lists = grouped_df1[\"Duration\"].apply(list)\n",
        "grouped_lists = grouped_lists.reset_index()"
      ],
      "metadata": {
        "id": "EwQOAN_e9ePC"
      },
      "execution_count": 40,
      "outputs": []
    },
    {
      "cell_type": "code",
      "source": [
        "Vavg = np.zeros(len(grouped_lists))"
      ],
      "metadata": {
        "id": "8a9P1WeG9kdJ"
      },
      "execution_count": 41,
      "outputs": []
    },
    {
      "cell_type": "code",
      "source": [
        "for i in range(0,len(grouped_lists)):\n",
        "  Vavg[i] = np.mean(grouped_lists[\"Duration\"][i])"
      ],
      "metadata": {
        "id": "KuKcCBRj9nTw"
      },
      "execution_count": 42,
      "outputs": []
    },
    {
      "cell_type": "code",
      "source": [
        "len(Vavg)"
      ],
      "metadata": {
        "colab": {
          "base_uri": "https://localhost:8080/"
        },
        "id": "d8uh2twf9p2q",
        "outputId": "aeea9e01-62ea-4b86-a95e-135e0308822e"
      },
      "execution_count": 43,
      "outputs": [
        {
          "output_type": "execute_result",
          "data": {
            "text/plain": [
              "125"
            ]
          },
          "metadata": {},
          "execution_count": 43
        }
      ]
    },
    {
      "cell_type": "code",
      "source": [
        "len(Vstd)"
      ],
      "metadata": {
        "colab": {
          "base_uri": "https://localhost:8080/"
        },
        "id": "P7FGWxCIUl18",
        "outputId": "ec0ed185-c120-45bc-ce94-50f5219435ae"
      },
      "execution_count": 44,
      "outputs": [
        {
          "output_type": "execute_result",
          "data": {
            "text/plain": [
              "125"
            ]
          },
          "metadata": {},
          "execution_count": 44
        }
      ]
    },
    {
      "cell_type": "markdown",
      "source": [
        "4.2 Divide Vowel Duration std by Average Vowel Duration"
      ],
      "metadata": {
        "id": "PnTCg1pG9xGh"
      }
    },
    {
      "cell_type": "code",
      "source": [
        "VarcoV = Vstd/Vavg"
      ],
      "metadata": {
        "id": "Nu-IVpuM95Zb"
      },
      "execution_count": 45,
      "outputs": []
    },
    {
      "cell_type": "markdown",
      "source": [
        "4.3 Add to Result Data Frame"
      ],
      "metadata": {
        "id": "3z1BjZSr98ZR"
      }
    },
    {
      "cell_type": "code",
      "source": [
        "result_df[\"AvgV\"] = Vavg\n",
        "result_df[\"CoeffV\"] = VarcoV"
      ],
      "metadata": {
        "id": "DRci2RX5-CPJ"
      },
      "execution_count": 46,
      "outputs": []
    },
    {
      "cell_type": "code",
      "source": [
        "result_df"
      ],
      "metadata": {
        "colab": {
          "base_uri": "https://localhost:8080/",
          "height": 423
        },
        "id": "rbbomkb6-GXa",
        "outputId": "9b3b18a1-1d2b-4491-9506-b1686b80ca50"
      },
      "execution_count": 47,
      "outputs": [
        {
          "output_type": "execute_result",
          "data": {
            "text/plain": [
              "      BG  VDuration  VCDuration     PrecV    DeltaV    DeltaC      AvgV AvgC  \\\n",
              "0      1      1.180       2.409  0.489830  0.050048  0.045225  0.084286  NaN   \n",
              "1      2      0.450       0.980  0.459184  0.064220  0.059970  0.112500  NaN   \n",
              "2      3      0.500       0.560  0.892857  0.069442  0.000000  0.166667  NaN   \n",
              "3      4      0.470       1.019  0.461237  0.065084  0.021496  0.058750  NaN   \n",
              "4      5      0.938       1.469  0.638530  0.055208  0.020521  0.093800  NaN   \n",
              "..   ...        ...         ...       ...       ...       ...       ...  ...   \n",
              "120  121      0.378       1.049  0.360343  0.040000  0.009672  0.121000  NaN   \n",
              "121  122      0.320       0.670  0.477612  0.062198  0.036177  0.147875  NaN   \n",
              "122  123      0.250       0.499  0.501002  0.066346  0.038468  0.099000  NaN   \n",
              "123  124      0.000       0.128  0.000000  0.070158  0.022264  0.083800  NaN   \n",
              "124  125      0.000       0.588  0.000000  0.122958  0.036426  0.157500  NaN   \n",
              "\n",
              "       CoeffV CoeffC  \n",
              "0    0.593787    NaN  \n",
              "1    0.570847    NaN  \n",
              "2    0.416653    NaN  \n",
              "3    1.107814    NaN  \n",
              "4    0.588575    NaN  \n",
              "..        ...    ...  \n",
              "120  0.330579    NaN  \n",
              "121  0.420613    NaN  \n",
              "122  0.670158    NaN  \n",
              "123  0.837209    NaN  \n",
              "124  0.780688    NaN  \n",
              "\n",
              "[125 rows x 10 columns]"
            ],
            "text/html": [
              "\n",
              "  <div id=\"df-223e3832-93e2-4069-b7a8-9216892f7c60\">\n",
              "    <div class=\"colab-df-container\">\n",
              "      <div>\n",
              "<style scoped>\n",
              "    .dataframe tbody tr th:only-of-type {\n",
              "        vertical-align: middle;\n",
              "    }\n",
              "\n",
              "    .dataframe tbody tr th {\n",
              "        vertical-align: top;\n",
              "    }\n",
              "\n",
              "    .dataframe thead th {\n",
              "        text-align: right;\n",
              "    }\n",
              "</style>\n",
              "<table border=\"1\" class=\"dataframe\">\n",
              "  <thead>\n",
              "    <tr style=\"text-align: right;\">\n",
              "      <th></th>\n",
              "      <th>BG</th>\n",
              "      <th>VDuration</th>\n",
              "      <th>VCDuration</th>\n",
              "      <th>PrecV</th>\n",
              "      <th>DeltaV</th>\n",
              "      <th>DeltaC</th>\n",
              "      <th>AvgV</th>\n",
              "      <th>AvgC</th>\n",
              "      <th>CoeffV</th>\n",
              "      <th>CoeffC</th>\n",
              "    </tr>\n",
              "  </thead>\n",
              "  <tbody>\n",
              "    <tr>\n",
              "      <th>0</th>\n",
              "      <td>1</td>\n",
              "      <td>1.180</td>\n",
              "      <td>2.409</td>\n",
              "      <td>0.489830</td>\n",
              "      <td>0.050048</td>\n",
              "      <td>0.045225</td>\n",
              "      <td>0.084286</td>\n",
              "      <td>NaN</td>\n",
              "      <td>0.593787</td>\n",
              "      <td>NaN</td>\n",
              "    </tr>\n",
              "    <tr>\n",
              "      <th>1</th>\n",
              "      <td>2</td>\n",
              "      <td>0.450</td>\n",
              "      <td>0.980</td>\n",
              "      <td>0.459184</td>\n",
              "      <td>0.064220</td>\n",
              "      <td>0.059970</td>\n",
              "      <td>0.112500</td>\n",
              "      <td>NaN</td>\n",
              "      <td>0.570847</td>\n",
              "      <td>NaN</td>\n",
              "    </tr>\n",
              "    <tr>\n",
              "      <th>2</th>\n",
              "      <td>3</td>\n",
              "      <td>0.500</td>\n",
              "      <td>0.560</td>\n",
              "      <td>0.892857</td>\n",
              "      <td>0.069442</td>\n",
              "      <td>0.000000</td>\n",
              "      <td>0.166667</td>\n",
              "      <td>NaN</td>\n",
              "      <td>0.416653</td>\n",
              "      <td>NaN</td>\n",
              "    </tr>\n",
              "    <tr>\n",
              "      <th>3</th>\n",
              "      <td>4</td>\n",
              "      <td>0.470</td>\n",
              "      <td>1.019</td>\n",
              "      <td>0.461237</td>\n",
              "      <td>0.065084</td>\n",
              "      <td>0.021496</td>\n",
              "      <td>0.058750</td>\n",
              "      <td>NaN</td>\n",
              "      <td>1.107814</td>\n",
              "      <td>NaN</td>\n",
              "    </tr>\n",
              "    <tr>\n",
              "      <th>4</th>\n",
              "      <td>5</td>\n",
              "      <td>0.938</td>\n",
              "      <td>1.469</td>\n",
              "      <td>0.638530</td>\n",
              "      <td>0.055208</td>\n",
              "      <td>0.020521</td>\n",
              "      <td>0.093800</td>\n",
              "      <td>NaN</td>\n",
              "      <td>0.588575</td>\n",
              "      <td>NaN</td>\n",
              "    </tr>\n",
              "    <tr>\n",
              "      <th>...</th>\n",
              "      <td>...</td>\n",
              "      <td>...</td>\n",
              "      <td>...</td>\n",
              "      <td>...</td>\n",
              "      <td>...</td>\n",
              "      <td>...</td>\n",
              "      <td>...</td>\n",
              "      <td>...</td>\n",
              "      <td>...</td>\n",
              "      <td>...</td>\n",
              "    </tr>\n",
              "    <tr>\n",
              "      <th>120</th>\n",
              "      <td>121</td>\n",
              "      <td>0.378</td>\n",
              "      <td>1.049</td>\n",
              "      <td>0.360343</td>\n",
              "      <td>0.040000</td>\n",
              "      <td>0.009672</td>\n",
              "      <td>0.121000</td>\n",
              "      <td>NaN</td>\n",
              "      <td>0.330579</td>\n",
              "      <td>NaN</td>\n",
              "    </tr>\n",
              "    <tr>\n",
              "      <th>121</th>\n",
              "      <td>122</td>\n",
              "      <td>0.320</td>\n",
              "      <td>0.670</td>\n",
              "      <td>0.477612</td>\n",
              "      <td>0.062198</td>\n",
              "      <td>0.036177</td>\n",
              "      <td>0.147875</td>\n",
              "      <td>NaN</td>\n",
              "      <td>0.420613</td>\n",
              "      <td>NaN</td>\n",
              "    </tr>\n",
              "    <tr>\n",
              "      <th>122</th>\n",
              "      <td>123</td>\n",
              "      <td>0.250</td>\n",
              "      <td>0.499</td>\n",
              "      <td>0.501002</td>\n",
              "      <td>0.066346</td>\n",
              "      <td>0.038468</td>\n",
              "      <td>0.099000</td>\n",
              "      <td>NaN</td>\n",
              "      <td>0.670158</td>\n",
              "      <td>NaN</td>\n",
              "    </tr>\n",
              "    <tr>\n",
              "      <th>123</th>\n",
              "      <td>124</td>\n",
              "      <td>0.000</td>\n",
              "      <td>0.128</td>\n",
              "      <td>0.000000</td>\n",
              "      <td>0.070158</td>\n",
              "      <td>0.022264</td>\n",
              "      <td>0.083800</td>\n",
              "      <td>NaN</td>\n",
              "      <td>0.837209</td>\n",
              "      <td>NaN</td>\n",
              "    </tr>\n",
              "    <tr>\n",
              "      <th>124</th>\n",
              "      <td>125</td>\n",
              "      <td>0.000</td>\n",
              "      <td>0.588</td>\n",
              "      <td>0.000000</td>\n",
              "      <td>0.122958</td>\n",
              "      <td>0.036426</td>\n",
              "      <td>0.157500</td>\n",
              "      <td>NaN</td>\n",
              "      <td>0.780688</td>\n",
              "      <td>NaN</td>\n",
              "    </tr>\n",
              "  </tbody>\n",
              "</table>\n",
              "<p>125 rows × 10 columns</p>\n",
              "</div>\n",
              "      <button class=\"colab-df-convert\" onclick=\"convertToInteractive('df-223e3832-93e2-4069-b7a8-9216892f7c60')\"\n",
              "              title=\"Convert this dataframe to an interactive table.\"\n",
              "              style=\"display:none;\">\n",
              "        \n",
              "  <svg xmlns=\"http://www.w3.org/2000/svg\" height=\"24px\"viewBox=\"0 0 24 24\"\n",
              "       width=\"24px\">\n",
              "    <path d=\"M0 0h24v24H0V0z\" fill=\"none\"/>\n",
              "    <path d=\"M18.56 5.44l.94 2.06.94-2.06 2.06-.94-2.06-.94-.94-2.06-.94 2.06-2.06.94zm-11 1L8.5 8.5l.94-2.06 2.06-.94-2.06-.94L8.5 2.5l-.94 2.06-2.06.94zm10 10l.94 2.06.94-2.06 2.06-.94-2.06-.94-.94-2.06-.94 2.06-2.06.94z\"/><path d=\"M17.41 7.96l-1.37-1.37c-.4-.4-.92-.59-1.43-.59-.52 0-1.04.2-1.43.59L10.3 9.45l-7.72 7.72c-.78.78-.78 2.05 0 2.83L4 21.41c.39.39.9.59 1.41.59.51 0 1.02-.2 1.41-.59l7.78-7.78 2.81-2.81c.8-.78.8-2.07 0-2.86zM5.41 20L4 18.59l7.72-7.72 1.47 1.35L5.41 20z\"/>\n",
              "  </svg>\n",
              "      </button>\n",
              "      \n",
              "  <style>\n",
              "    .colab-df-container {\n",
              "      display:flex;\n",
              "      flex-wrap:wrap;\n",
              "      gap: 12px;\n",
              "    }\n",
              "\n",
              "    .colab-df-convert {\n",
              "      background-color: #E8F0FE;\n",
              "      border: none;\n",
              "      border-radius: 50%;\n",
              "      cursor: pointer;\n",
              "      display: none;\n",
              "      fill: #1967D2;\n",
              "      height: 32px;\n",
              "      padding: 0 0 0 0;\n",
              "      width: 32px;\n",
              "    }\n",
              "\n",
              "    .colab-df-convert:hover {\n",
              "      background-color: #E2EBFA;\n",
              "      box-shadow: 0px 1px 2px rgba(60, 64, 67, 0.3), 0px 1px 3px 1px rgba(60, 64, 67, 0.15);\n",
              "      fill: #174EA6;\n",
              "    }\n",
              "\n",
              "    [theme=dark] .colab-df-convert {\n",
              "      background-color: #3B4455;\n",
              "      fill: #D2E3FC;\n",
              "    }\n",
              "\n",
              "    [theme=dark] .colab-df-convert:hover {\n",
              "      background-color: #434B5C;\n",
              "      box-shadow: 0px 1px 3px 1px rgba(0, 0, 0, 0.15);\n",
              "      filter: drop-shadow(0px 1px 2px rgba(0, 0, 0, 0.3));\n",
              "      fill: #FFFFFF;\n",
              "    }\n",
              "  </style>\n",
              "\n",
              "      <script>\n",
              "        const buttonEl =\n",
              "          document.querySelector('#df-223e3832-93e2-4069-b7a8-9216892f7c60 button.colab-df-convert');\n",
              "        buttonEl.style.display =\n",
              "          google.colab.kernel.accessAllowed ? 'block' : 'none';\n",
              "\n",
              "        async function convertToInteractive(key) {\n",
              "          const element = document.querySelector('#df-223e3832-93e2-4069-b7a8-9216892f7c60');\n",
              "          const dataTable =\n",
              "            await google.colab.kernel.invokeFunction('convertToInteractive',\n",
              "                                                     [key], {});\n",
              "          if (!dataTable) return;\n",
              "\n",
              "          const docLinkHtml = 'Like what you see? Visit the ' +\n",
              "            '<a target=\"_blank\" href=https://colab.research.google.com/notebooks/data_table.ipynb>data table notebook</a>'\n",
              "            + ' to learn more about interactive tables.';\n",
              "          element.innerHTML = '';\n",
              "          dataTable['output_type'] = 'display_data';\n",
              "          await google.colab.output.renderOutput(dataTable, element);\n",
              "          const docLink = document.createElement('div');\n",
              "          docLink.innerHTML = docLinkHtml;\n",
              "          element.appendChild(docLink);\n",
              "        }\n",
              "      </script>\n",
              "    </div>\n",
              "  </div>\n",
              "  "
            ]
          },
          "metadata": {},
          "execution_count": 47
        }
      ]
    },
    {
      "cell_type": "markdown",
      "source": [
        "**5. Variable coefficient of consonantal intervals (VarcoC):** DeltaC divided by average consonant duration."
      ],
      "metadata": {
        "id": "P-AGvDQ0-OwO"
      }
    },
    {
      "cell_type": "markdown",
      "source": [
        "5.1 Calculate Average Consonant Duration in Breath Group"
      ],
      "metadata": {
        "id": "RdSa_SO0-gbZ"
      }
    },
    {
      "cell_type": "code",
      "source": [
        "grouped_df2 = df2.groupby(\"Breath.Group\")\n",
        "grouped_lists2 = grouped_df2[\"Duration\"].apply(list)\n",
        "grouped_lists2 = grouped_lists2.reset_index()"
      ],
      "metadata": {
        "id": "7CyYNA6s-nf5"
      },
      "execution_count": 48,
      "outputs": []
    },
    {
      "cell_type": "code",
      "source": [
        "Cavg = np.zeros(len(grouped_lists2)) "
      ],
      "metadata": {
        "id": "KZ2H43Xt-oR5"
      },
      "execution_count": 49,
      "outputs": []
    },
    {
      "cell_type": "code",
      "source": [
        "for i in range(0,len(grouped_lists2)):\n",
        "  Cavg[i] = np.mean(grouped_lists2[\"Duration\"][i])"
      ],
      "metadata": {
        "id": "ou6HKA61-rLp"
      },
      "execution_count": 50,
      "outputs": []
    },
    {
      "cell_type": "code",
      "source": [
        "len(Cavg)"
      ],
      "metadata": {
        "colab": {
          "base_uri": "https://localhost:8080/"
        },
        "id": "QAEXesl_-t16",
        "outputId": "d454496a-3dd9-40cf-9e7e-e8157e3ef39c"
      },
      "execution_count": 51,
      "outputs": [
        {
          "output_type": "execute_result",
          "data": {
            "text/plain": [
              "125"
            ]
          },
          "metadata": {},
          "execution_count": 51
        }
      ]
    },
    {
      "cell_type": "markdown",
      "source": [
        "5.2 Divide Consonant Duration std by Average Consonant Duration "
      ],
      "metadata": {
        "id": "6h3aNTLK-xrC"
      }
    },
    {
      "cell_type": "code",
      "source": [
        "VarcoC = Cstd/Cavg"
      ],
      "metadata": {
        "id": "syJNZ49l_Ca5"
      },
      "execution_count": 52,
      "outputs": []
    },
    {
      "cell_type": "markdown",
      "source": [
        "5.3 Add to Result Data Frame"
      ],
      "metadata": {
        "id": "XJBeqfzm_GQ6"
      }
    },
    {
      "cell_type": "code",
      "source": [
        "result_df[\"AvgC\"] = Cavg\n",
        "result_df[\"CoeffC\"] = VarcoC"
      ],
      "metadata": {
        "id": "WppeDhHJ_JNy"
      },
      "execution_count": 53,
      "outputs": []
    },
    {
      "cell_type": "code",
      "source": [
        "result_df"
      ],
      "metadata": {
        "colab": {
          "base_uri": "https://localhost:8080/",
          "height": 423
        },
        "id": "EVwyzWBN_L2R",
        "outputId": "7cf62414-53d7-4e73-b2ac-4a41bb54885f"
      },
      "execution_count": 54,
      "outputs": [
        {
          "output_type": "execute_result",
          "data": {
            "text/plain": [
              "      BG  VDuration  VCDuration     PrecV    DeltaV    DeltaC      AvgV  \\\n",
              "0      1      1.180       2.409  0.489830  0.050048  0.045225  0.084286   \n",
              "1      2      0.450       0.980  0.459184  0.064220  0.059970  0.112500   \n",
              "2      3      0.500       0.560  0.892857  0.069442  0.000000  0.166667   \n",
              "3      4      0.470       1.019  0.461237  0.065084  0.021496  0.058750   \n",
              "4      5      0.938       1.469  0.638530  0.055208  0.020521  0.093800   \n",
              "..   ...        ...         ...       ...       ...       ...       ...   \n",
              "120  121      0.378       1.049  0.360343  0.040000  0.009672  0.121000   \n",
              "121  122      0.320       0.670  0.477612  0.062198  0.036177  0.147875   \n",
              "122  123      0.250       0.499  0.501002  0.066346  0.038468  0.099000   \n",
              "123  124      0.000       0.128  0.000000  0.070158  0.022264  0.083800   \n",
              "124  125      0.000       0.588  0.000000  0.122958  0.036426  0.157500   \n",
              "\n",
              "         AvgC    CoeffV    CoeffC  \n",
              "0    0.076813  0.593787  0.588768  \n",
              "1    0.106000  0.570847  0.565755  \n",
              "2    0.030000  0.416653  0.000000  \n",
              "3    0.054900  1.107814  0.391553  \n",
              "4    0.048273  0.588575  0.425103  \n",
              "..        ...       ...       ...  \n",
              "120  0.042667  0.330579  0.226697  \n",
              "121  0.058800  0.420613  0.615251  \n",
              "122  0.060818  0.670158  0.632508  \n",
              "123  0.058571  0.837209  0.380112  \n",
              "124  0.076333  0.780688  0.477203  \n",
              "\n",
              "[125 rows x 10 columns]"
            ],
            "text/html": [
              "\n",
              "  <div id=\"df-f5fa4042-3d4f-40bc-8db7-0964ccce1cbe\">\n",
              "    <div class=\"colab-df-container\">\n",
              "      <div>\n",
              "<style scoped>\n",
              "    .dataframe tbody tr th:only-of-type {\n",
              "        vertical-align: middle;\n",
              "    }\n",
              "\n",
              "    .dataframe tbody tr th {\n",
              "        vertical-align: top;\n",
              "    }\n",
              "\n",
              "    .dataframe thead th {\n",
              "        text-align: right;\n",
              "    }\n",
              "</style>\n",
              "<table border=\"1\" class=\"dataframe\">\n",
              "  <thead>\n",
              "    <tr style=\"text-align: right;\">\n",
              "      <th></th>\n",
              "      <th>BG</th>\n",
              "      <th>VDuration</th>\n",
              "      <th>VCDuration</th>\n",
              "      <th>PrecV</th>\n",
              "      <th>DeltaV</th>\n",
              "      <th>DeltaC</th>\n",
              "      <th>AvgV</th>\n",
              "      <th>AvgC</th>\n",
              "      <th>CoeffV</th>\n",
              "      <th>CoeffC</th>\n",
              "    </tr>\n",
              "  </thead>\n",
              "  <tbody>\n",
              "    <tr>\n",
              "      <th>0</th>\n",
              "      <td>1</td>\n",
              "      <td>1.180</td>\n",
              "      <td>2.409</td>\n",
              "      <td>0.489830</td>\n",
              "      <td>0.050048</td>\n",
              "      <td>0.045225</td>\n",
              "      <td>0.084286</td>\n",
              "      <td>0.076813</td>\n",
              "      <td>0.593787</td>\n",
              "      <td>0.588768</td>\n",
              "    </tr>\n",
              "    <tr>\n",
              "      <th>1</th>\n",
              "      <td>2</td>\n",
              "      <td>0.450</td>\n",
              "      <td>0.980</td>\n",
              "      <td>0.459184</td>\n",
              "      <td>0.064220</td>\n",
              "      <td>0.059970</td>\n",
              "      <td>0.112500</td>\n",
              "      <td>0.106000</td>\n",
              "      <td>0.570847</td>\n",
              "      <td>0.565755</td>\n",
              "    </tr>\n",
              "    <tr>\n",
              "      <th>2</th>\n",
              "      <td>3</td>\n",
              "      <td>0.500</td>\n",
              "      <td>0.560</td>\n",
              "      <td>0.892857</td>\n",
              "      <td>0.069442</td>\n",
              "      <td>0.000000</td>\n",
              "      <td>0.166667</td>\n",
              "      <td>0.030000</td>\n",
              "      <td>0.416653</td>\n",
              "      <td>0.000000</td>\n",
              "    </tr>\n",
              "    <tr>\n",
              "      <th>3</th>\n",
              "      <td>4</td>\n",
              "      <td>0.470</td>\n",
              "      <td>1.019</td>\n",
              "      <td>0.461237</td>\n",
              "      <td>0.065084</td>\n",
              "      <td>0.021496</td>\n",
              "      <td>0.058750</td>\n",
              "      <td>0.054900</td>\n",
              "      <td>1.107814</td>\n",
              "      <td>0.391553</td>\n",
              "    </tr>\n",
              "    <tr>\n",
              "      <th>4</th>\n",
              "      <td>5</td>\n",
              "      <td>0.938</td>\n",
              "      <td>1.469</td>\n",
              "      <td>0.638530</td>\n",
              "      <td>0.055208</td>\n",
              "      <td>0.020521</td>\n",
              "      <td>0.093800</td>\n",
              "      <td>0.048273</td>\n",
              "      <td>0.588575</td>\n",
              "      <td>0.425103</td>\n",
              "    </tr>\n",
              "    <tr>\n",
              "      <th>...</th>\n",
              "      <td>...</td>\n",
              "      <td>...</td>\n",
              "      <td>...</td>\n",
              "      <td>...</td>\n",
              "      <td>...</td>\n",
              "      <td>...</td>\n",
              "      <td>...</td>\n",
              "      <td>...</td>\n",
              "      <td>...</td>\n",
              "      <td>...</td>\n",
              "    </tr>\n",
              "    <tr>\n",
              "      <th>120</th>\n",
              "      <td>121</td>\n",
              "      <td>0.378</td>\n",
              "      <td>1.049</td>\n",
              "      <td>0.360343</td>\n",
              "      <td>0.040000</td>\n",
              "      <td>0.009672</td>\n",
              "      <td>0.121000</td>\n",
              "      <td>0.042667</td>\n",
              "      <td>0.330579</td>\n",
              "      <td>0.226697</td>\n",
              "    </tr>\n",
              "    <tr>\n",
              "      <th>121</th>\n",
              "      <td>122</td>\n",
              "      <td>0.320</td>\n",
              "      <td>0.670</td>\n",
              "      <td>0.477612</td>\n",
              "      <td>0.062198</td>\n",
              "      <td>0.036177</td>\n",
              "      <td>0.147875</td>\n",
              "      <td>0.058800</td>\n",
              "      <td>0.420613</td>\n",
              "      <td>0.615251</td>\n",
              "    </tr>\n",
              "    <tr>\n",
              "      <th>122</th>\n",
              "      <td>123</td>\n",
              "      <td>0.250</td>\n",
              "      <td>0.499</td>\n",
              "      <td>0.501002</td>\n",
              "      <td>0.066346</td>\n",
              "      <td>0.038468</td>\n",
              "      <td>0.099000</td>\n",
              "      <td>0.060818</td>\n",
              "      <td>0.670158</td>\n",
              "      <td>0.632508</td>\n",
              "    </tr>\n",
              "    <tr>\n",
              "      <th>123</th>\n",
              "      <td>124</td>\n",
              "      <td>0.000</td>\n",
              "      <td>0.128</td>\n",
              "      <td>0.000000</td>\n",
              "      <td>0.070158</td>\n",
              "      <td>0.022264</td>\n",
              "      <td>0.083800</td>\n",
              "      <td>0.058571</td>\n",
              "      <td>0.837209</td>\n",
              "      <td>0.380112</td>\n",
              "    </tr>\n",
              "    <tr>\n",
              "      <th>124</th>\n",
              "      <td>125</td>\n",
              "      <td>0.000</td>\n",
              "      <td>0.588</td>\n",
              "      <td>0.000000</td>\n",
              "      <td>0.122958</td>\n",
              "      <td>0.036426</td>\n",
              "      <td>0.157500</td>\n",
              "      <td>0.076333</td>\n",
              "      <td>0.780688</td>\n",
              "      <td>0.477203</td>\n",
              "    </tr>\n",
              "  </tbody>\n",
              "</table>\n",
              "<p>125 rows × 10 columns</p>\n",
              "</div>\n",
              "      <button class=\"colab-df-convert\" onclick=\"convertToInteractive('df-f5fa4042-3d4f-40bc-8db7-0964ccce1cbe')\"\n",
              "              title=\"Convert this dataframe to an interactive table.\"\n",
              "              style=\"display:none;\">\n",
              "        \n",
              "  <svg xmlns=\"http://www.w3.org/2000/svg\" height=\"24px\"viewBox=\"0 0 24 24\"\n",
              "       width=\"24px\">\n",
              "    <path d=\"M0 0h24v24H0V0z\" fill=\"none\"/>\n",
              "    <path d=\"M18.56 5.44l.94 2.06.94-2.06 2.06-.94-2.06-.94-.94-2.06-.94 2.06-2.06.94zm-11 1L8.5 8.5l.94-2.06 2.06-.94-2.06-.94L8.5 2.5l-.94 2.06-2.06.94zm10 10l.94 2.06.94-2.06 2.06-.94-2.06-.94-.94-2.06-.94 2.06-2.06.94z\"/><path d=\"M17.41 7.96l-1.37-1.37c-.4-.4-.92-.59-1.43-.59-.52 0-1.04.2-1.43.59L10.3 9.45l-7.72 7.72c-.78.78-.78 2.05 0 2.83L4 21.41c.39.39.9.59 1.41.59.51 0 1.02-.2 1.41-.59l7.78-7.78 2.81-2.81c.8-.78.8-2.07 0-2.86zM5.41 20L4 18.59l7.72-7.72 1.47 1.35L5.41 20z\"/>\n",
              "  </svg>\n",
              "      </button>\n",
              "      \n",
              "  <style>\n",
              "    .colab-df-container {\n",
              "      display:flex;\n",
              "      flex-wrap:wrap;\n",
              "      gap: 12px;\n",
              "    }\n",
              "\n",
              "    .colab-df-convert {\n",
              "      background-color: #E8F0FE;\n",
              "      border: none;\n",
              "      border-radius: 50%;\n",
              "      cursor: pointer;\n",
              "      display: none;\n",
              "      fill: #1967D2;\n",
              "      height: 32px;\n",
              "      padding: 0 0 0 0;\n",
              "      width: 32px;\n",
              "    }\n",
              "\n",
              "    .colab-df-convert:hover {\n",
              "      background-color: #E2EBFA;\n",
              "      box-shadow: 0px 1px 2px rgba(60, 64, 67, 0.3), 0px 1px 3px 1px rgba(60, 64, 67, 0.15);\n",
              "      fill: #174EA6;\n",
              "    }\n",
              "\n",
              "    [theme=dark] .colab-df-convert {\n",
              "      background-color: #3B4455;\n",
              "      fill: #D2E3FC;\n",
              "    }\n",
              "\n",
              "    [theme=dark] .colab-df-convert:hover {\n",
              "      background-color: #434B5C;\n",
              "      box-shadow: 0px 1px 3px 1px rgba(0, 0, 0, 0.15);\n",
              "      filter: drop-shadow(0px 1px 2px rgba(0, 0, 0, 0.3));\n",
              "      fill: #FFFFFF;\n",
              "    }\n",
              "  </style>\n",
              "\n",
              "      <script>\n",
              "        const buttonEl =\n",
              "          document.querySelector('#df-f5fa4042-3d4f-40bc-8db7-0964ccce1cbe button.colab-df-convert');\n",
              "        buttonEl.style.display =\n",
              "          google.colab.kernel.accessAllowed ? 'block' : 'none';\n",
              "\n",
              "        async function convertToInteractive(key) {\n",
              "          const element = document.querySelector('#df-f5fa4042-3d4f-40bc-8db7-0964ccce1cbe');\n",
              "          const dataTable =\n",
              "            await google.colab.kernel.invokeFunction('convertToInteractive',\n",
              "                                                     [key], {});\n",
              "          if (!dataTable) return;\n",
              "\n",
              "          const docLinkHtml = 'Like what you see? Visit the ' +\n",
              "            '<a target=\"_blank\" href=https://colab.research.google.com/notebooks/data_table.ipynb>data table notebook</a>'\n",
              "            + ' to learn more about interactive tables.';\n",
              "          element.innerHTML = '';\n",
              "          dataTable['output_type'] = 'display_data';\n",
              "          await google.colab.output.renderOutput(dataTable, element);\n",
              "          const docLink = document.createElement('div');\n",
              "          docLink.innerHTML = docLinkHtml;\n",
              "          element.appendChild(docLink);\n",
              "        }\n",
              "      </script>\n",
              "    </div>\n",
              "  </div>\n",
              "  "
            ]
          },
          "metadata": {},
          "execution_count": 54
        }
      ]
    },
    {
      "cell_type": "markdown",
      "source": [
        "**6. Get the Means for Each Value Across Breath Groups**"
      ],
      "metadata": {
        "id": "b6RO9Wk__VOR"
      }
    },
    {
      "cell_type": "code",
      "source": [
        "result_df.mean();"
      ],
      "metadata": {
        "colab": {
          "base_uri": "https://localhost:8080/"
        },
        "id": "pMfiHM0w_hZj",
        "outputId": "71fa5771-ca6e-4b75-c87f-94d750a65801"
      },
      "execution_count": 60,
      "outputs": [
        {
          "output_type": "stream",
          "name": "stderr",
          "text": [
            "/usr/local/lib/python3.7/dist-packages/ipykernel_launcher.py:1: FutureWarning: Dropping of nuisance columns in DataFrame reductions (with 'numeric_only=None') is deprecated; in a future version this will raise TypeError.  Select only valid columns before calling the reduction.\n",
            "  \"\"\"Entry point for launching an IPython kernel.\n"
          ]
        }
      ]
    },
    {
      "cell_type": "markdown",
      "source": [
        "Add to Result Data Frame"
      ],
      "metadata": {
        "id": "ZrYY9qpA_i_a"
      }
    },
    {
      "cell_type": "code",
      "source": [
        "result_df[\"M_VDuration\"] = result_df.mean()[1]\n",
        "result_df[\"M_VCDuration\"] = result_df.mean()[2]\n",
        "result_df[\"M_PercV\"] = result_df.mean()[3]\n",
        "result_df[\"M_DeltaV\"] = result_df.mean()[4]\n",
        "result_df[\"M_DeltaC\"] = result_df.mean()[5]\n",
        "result_df[\"M_AvgV\"] = result_df.mean()[6]\n",
        "result_df[\"M_AvgC\"] = result_df.mean()[7]\n",
        "result_df[\"M_CoeffV\"] = result_df.mean()[8]\n",
        "result_df[\"M_CoeffC\"] = result_df.mean()[9]"
      ],
      "metadata": {
        "id": "sM8OPZYo_oMa"
      },
      "execution_count": 56,
      "outputs": []
    },
    {
      "cell_type": "markdown",
      "source": [
        "**7. Finalize Result Data Frame & Export**"
      ],
      "metadata": {
        "id": "eTlenA6AAayq"
      }
    },
    {
      "cell_type": "code",
      "source": [
        "result_df[\"ID\"] = \"24fa\" \n",
        "first_column = result_df.pop('ID')\n",
        "result_df.insert(0, 'ID', first_column)"
      ],
      "metadata": {
        "id": "DfN5N_jIAkMb"
      },
      "execution_count": 57,
      "outputs": []
    },
    {
      "cell_type": "code",
      "source": [
        "result_df"
      ],
      "metadata": {
        "colab": {
          "base_uri": "https://localhost:8080/",
          "height": 423
        },
        "id": "f2DUTgEXAlq5",
        "outputId": "0f1466cd-a85a-4c75-b695-5dd5ef50fac7"
      },
      "execution_count": 58,
      "outputs": [
        {
          "output_type": "execute_result",
          "data": {
            "text/plain": [
              "       ID   BG  VDuration  VCDuration     PrecV    DeltaV    DeltaC      AvgV  \\\n",
              "0    24fa    1      1.180       2.409  0.489830  0.050048  0.045225  0.084286   \n",
              "1    24fa    2      0.450       0.980  0.459184  0.064220  0.059970  0.112500   \n",
              "2    24fa    3      0.500       0.560  0.892857  0.069442  0.000000  0.166667   \n",
              "3    24fa    4      0.470       1.019  0.461237  0.065084  0.021496  0.058750   \n",
              "4    24fa    5      0.938       1.469  0.638530  0.055208  0.020521  0.093800   \n",
              "..    ...  ...        ...         ...       ...       ...       ...       ...   \n",
              "120  24fa  121      0.378       1.049  0.360343  0.040000  0.009672  0.121000   \n",
              "121  24fa  122      0.320       0.670  0.477612  0.062198  0.036177  0.147875   \n",
              "122  24fa  123      0.250       0.499  0.501002  0.066346  0.038468  0.099000   \n",
              "123  24fa  124      0.000       0.128  0.000000  0.070158  0.022264  0.083800   \n",
              "124  24fa  125      0.000       0.588  0.000000  0.122958  0.036426  0.157500   \n",
              "\n",
              "         AvgC    CoeffV    CoeffC  M_VDuration  M_VCDuration   M_PercV  \\\n",
              "0    0.076813  0.593787  0.588768     0.541232      1.050584  0.529691   \n",
              "1    0.106000  0.570847  0.565755     0.541232      1.050584  0.529691   \n",
              "2    0.030000  0.416653  0.000000     0.541232      1.050584  0.529691   \n",
              "3    0.054900  1.107814  0.391553     0.541232      1.050584  0.529691   \n",
              "4    0.048273  0.588575  0.425103     0.541232      1.050584  0.529691   \n",
              "..        ...       ...       ...          ...           ...       ...   \n",
              "120  0.042667  0.330579  0.226697     0.541232      1.050584  0.529691   \n",
              "121  0.058800  0.420613  0.615251     0.541232      1.050584  0.529691   \n",
              "122  0.060818  0.670158  0.632508     0.541232      1.050584  0.529691   \n",
              "123  0.058571  0.837209  0.380112     0.541232      1.050584  0.529691   \n",
              "124  0.076333  0.780688  0.477203     0.541232      1.050584  0.529691   \n",
              "\n",
              "     M_DeltaV  M_DeltaC    M_AvgV    M_AvgC  M_CoeffV  M_CoeffC  \n",
              "0    0.052294  0.033716  0.094665  0.062934  0.549161  0.505504  \n",
              "1    0.052294  0.033716  0.094665  0.062934  0.549161  0.505504  \n",
              "2    0.052294  0.033716  0.094665  0.062934  0.549161  0.505504  \n",
              "3    0.052294  0.033716  0.094665  0.062934  0.549161  0.505504  \n",
              "4    0.052294  0.033716  0.094665  0.062934  0.549161  0.505504  \n",
              "..        ...       ...       ...       ...       ...       ...  \n",
              "120  0.052294  0.033716  0.094665  0.062934  0.549161  0.505504  \n",
              "121  0.052294  0.033716  0.094665  0.062934  0.549161  0.505504  \n",
              "122  0.052294  0.033716  0.094665  0.062934  0.549161  0.505504  \n",
              "123  0.052294  0.033716  0.094665  0.062934  0.549161  0.505504  \n",
              "124  0.052294  0.033716  0.094665  0.062934  0.549161  0.505504  \n",
              "\n",
              "[125 rows x 20 columns]"
            ],
            "text/html": [
              "\n",
              "  <div id=\"df-64325aec-d10b-4f5e-a274-8ffe096a00f4\">\n",
              "    <div class=\"colab-df-container\">\n",
              "      <div>\n",
              "<style scoped>\n",
              "    .dataframe tbody tr th:only-of-type {\n",
              "        vertical-align: middle;\n",
              "    }\n",
              "\n",
              "    .dataframe tbody tr th {\n",
              "        vertical-align: top;\n",
              "    }\n",
              "\n",
              "    .dataframe thead th {\n",
              "        text-align: right;\n",
              "    }\n",
              "</style>\n",
              "<table border=\"1\" class=\"dataframe\">\n",
              "  <thead>\n",
              "    <tr style=\"text-align: right;\">\n",
              "      <th></th>\n",
              "      <th>ID</th>\n",
              "      <th>BG</th>\n",
              "      <th>VDuration</th>\n",
              "      <th>VCDuration</th>\n",
              "      <th>PrecV</th>\n",
              "      <th>DeltaV</th>\n",
              "      <th>DeltaC</th>\n",
              "      <th>AvgV</th>\n",
              "      <th>AvgC</th>\n",
              "      <th>CoeffV</th>\n",
              "      <th>CoeffC</th>\n",
              "      <th>M_VDuration</th>\n",
              "      <th>M_VCDuration</th>\n",
              "      <th>M_PercV</th>\n",
              "      <th>M_DeltaV</th>\n",
              "      <th>M_DeltaC</th>\n",
              "      <th>M_AvgV</th>\n",
              "      <th>M_AvgC</th>\n",
              "      <th>M_CoeffV</th>\n",
              "      <th>M_CoeffC</th>\n",
              "    </tr>\n",
              "  </thead>\n",
              "  <tbody>\n",
              "    <tr>\n",
              "      <th>0</th>\n",
              "      <td>24fa</td>\n",
              "      <td>1</td>\n",
              "      <td>1.180</td>\n",
              "      <td>2.409</td>\n",
              "      <td>0.489830</td>\n",
              "      <td>0.050048</td>\n",
              "      <td>0.045225</td>\n",
              "      <td>0.084286</td>\n",
              "      <td>0.076813</td>\n",
              "      <td>0.593787</td>\n",
              "      <td>0.588768</td>\n",
              "      <td>0.541232</td>\n",
              "      <td>1.050584</td>\n",
              "      <td>0.529691</td>\n",
              "      <td>0.052294</td>\n",
              "      <td>0.033716</td>\n",
              "      <td>0.094665</td>\n",
              "      <td>0.062934</td>\n",
              "      <td>0.549161</td>\n",
              "      <td>0.505504</td>\n",
              "    </tr>\n",
              "    <tr>\n",
              "      <th>1</th>\n",
              "      <td>24fa</td>\n",
              "      <td>2</td>\n",
              "      <td>0.450</td>\n",
              "      <td>0.980</td>\n",
              "      <td>0.459184</td>\n",
              "      <td>0.064220</td>\n",
              "      <td>0.059970</td>\n",
              "      <td>0.112500</td>\n",
              "      <td>0.106000</td>\n",
              "      <td>0.570847</td>\n",
              "      <td>0.565755</td>\n",
              "      <td>0.541232</td>\n",
              "      <td>1.050584</td>\n",
              "      <td>0.529691</td>\n",
              "      <td>0.052294</td>\n",
              "      <td>0.033716</td>\n",
              "      <td>0.094665</td>\n",
              "      <td>0.062934</td>\n",
              "      <td>0.549161</td>\n",
              "      <td>0.505504</td>\n",
              "    </tr>\n",
              "    <tr>\n",
              "      <th>2</th>\n",
              "      <td>24fa</td>\n",
              "      <td>3</td>\n",
              "      <td>0.500</td>\n",
              "      <td>0.560</td>\n",
              "      <td>0.892857</td>\n",
              "      <td>0.069442</td>\n",
              "      <td>0.000000</td>\n",
              "      <td>0.166667</td>\n",
              "      <td>0.030000</td>\n",
              "      <td>0.416653</td>\n",
              "      <td>0.000000</td>\n",
              "      <td>0.541232</td>\n",
              "      <td>1.050584</td>\n",
              "      <td>0.529691</td>\n",
              "      <td>0.052294</td>\n",
              "      <td>0.033716</td>\n",
              "      <td>0.094665</td>\n",
              "      <td>0.062934</td>\n",
              "      <td>0.549161</td>\n",
              "      <td>0.505504</td>\n",
              "    </tr>\n",
              "    <tr>\n",
              "      <th>3</th>\n",
              "      <td>24fa</td>\n",
              "      <td>4</td>\n",
              "      <td>0.470</td>\n",
              "      <td>1.019</td>\n",
              "      <td>0.461237</td>\n",
              "      <td>0.065084</td>\n",
              "      <td>0.021496</td>\n",
              "      <td>0.058750</td>\n",
              "      <td>0.054900</td>\n",
              "      <td>1.107814</td>\n",
              "      <td>0.391553</td>\n",
              "      <td>0.541232</td>\n",
              "      <td>1.050584</td>\n",
              "      <td>0.529691</td>\n",
              "      <td>0.052294</td>\n",
              "      <td>0.033716</td>\n",
              "      <td>0.094665</td>\n",
              "      <td>0.062934</td>\n",
              "      <td>0.549161</td>\n",
              "      <td>0.505504</td>\n",
              "    </tr>\n",
              "    <tr>\n",
              "      <th>4</th>\n",
              "      <td>24fa</td>\n",
              "      <td>5</td>\n",
              "      <td>0.938</td>\n",
              "      <td>1.469</td>\n",
              "      <td>0.638530</td>\n",
              "      <td>0.055208</td>\n",
              "      <td>0.020521</td>\n",
              "      <td>0.093800</td>\n",
              "      <td>0.048273</td>\n",
              "      <td>0.588575</td>\n",
              "      <td>0.425103</td>\n",
              "      <td>0.541232</td>\n",
              "      <td>1.050584</td>\n",
              "      <td>0.529691</td>\n",
              "      <td>0.052294</td>\n",
              "      <td>0.033716</td>\n",
              "      <td>0.094665</td>\n",
              "      <td>0.062934</td>\n",
              "      <td>0.549161</td>\n",
              "      <td>0.505504</td>\n",
              "    </tr>\n",
              "    <tr>\n",
              "      <th>...</th>\n",
              "      <td>...</td>\n",
              "      <td>...</td>\n",
              "      <td>...</td>\n",
              "      <td>...</td>\n",
              "      <td>...</td>\n",
              "      <td>...</td>\n",
              "      <td>...</td>\n",
              "      <td>...</td>\n",
              "      <td>...</td>\n",
              "      <td>...</td>\n",
              "      <td>...</td>\n",
              "      <td>...</td>\n",
              "      <td>...</td>\n",
              "      <td>...</td>\n",
              "      <td>...</td>\n",
              "      <td>...</td>\n",
              "      <td>...</td>\n",
              "      <td>...</td>\n",
              "      <td>...</td>\n",
              "      <td>...</td>\n",
              "    </tr>\n",
              "    <tr>\n",
              "      <th>120</th>\n",
              "      <td>24fa</td>\n",
              "      <td>121</td>\n",
              "      <td>0.378</td>\n",
              "      <td>1.049</td>\n",
              "      <td>0.360343</td>\n",
              "      <td>0.040000</td>\n",
              "      <td>0.009672</td>\n",
              "      <td>0.121000</td>\n",
              "      <td>0.042667</td>\n",
              "      <td>0.330579</td>\n",
              "      <td>0.226697</td>\n",
              "      <td>0.541232</td>\n",
              "      <td>1.050584</td>\n",
              "      <td>0.529691</td>\n",
              "      <td>0.052294</td>\n",
              "      <td>0.033716</td>\n",
              "      <td>0.094665</td>\n",
              "      <td>0.062934</td>\n",
              "      <td>0.549161</td>\n",
              "      <td>0.505504</td>\n",
              "    </tr>\n",
              "    <tr>\n",
              "      <th>121</th>\n",
              "      <td>24fa</td>\n",
              "      <td>122</td>\n",
              "      <td>0.320</td>\n",
              "      <td>0.670</td>\n",
              "      <td>0.477612</td>\n",
              "      <td>0.062198</td>\n",
              "      <td>0.036177</td>\n",
              "      <td>0.147875</td>\n",
              "      <td>0.058800</td>\n",
              "      <td>0.420613</td>\n",
              "      <td>0.615251</td>\n",
              "      <td>0.541232</td>\n",
              "      <td>1.050584</td>\n",
              "      <td>0.529691</td>\n",
              "      <td>0.052294</td>\n",
              "      <td>0.033716</td>\n",
              "      <td>0.094665</td>\n",
              "      <td>0.062934</td>\n",
              "      <td>0.549161</td>\n",
              "      <td>0.505504</td>\n",
              "    </tr>\n",
              "    <tr>\n",
              "      <th>122</th>\n",
              "      <td>24fa</td>\n",
              "      <td>123</td>\n",
              "      <td>0.250</td>\n",
              "      <td>0.499</td>\n",
              "      <td>0.501002</td>\n",
              "      <td>0.066346</td>\n",
              "      <td>0.038468</td>\n",
              "      <td>0.099000</td>\n",
              "      <td>0.060818</td>\n",
              "      <td>0.670158</td>\n",
              "      <td>0.632508</td>\n",
              "      <td>0.541232</td>\n",
              "      <td>1.050584</td>\n",
              "      <td>0.529691</td>\n",
              "      <td>0.052294</td>\n",
              "      <td>0.033716</td>\n",
              "      <td>0.094665</td>\n",
              "      <td>0.062934</td>\n",
              "      <td>0.549161</td>\n",
              "      <td>0.505504</td>\n",
              "    </tr>\n",
              "    <tr>\n",
              "      <th>123</th>\n",
              "      <td>24fa</td>\n",
              "      <td>124</td>\n",
              "      <td>0.000</td>\n",
              "      <td>0.128</td>\n",
              "      <td>0.000000</td>\n",
              "      <td>0.070158</td>\n",
              "      <td>0.022264</td>\n",
              "      <td>0.083800</td>\n",
              "      <td>0.058571</td>\n",
              "      <td>0.837209</td>\n",
              "      <td>0.380112</td>\n",
              "      <td>0.541232</td>\n",
              "      <td>1.050584</td>\n",
              "      <td>0.529691</td>\n",
              "      <td>0.052294</td>\n",
              "      <td>0.033716</td>\n",
              "      <td>0.094665</td>\n",
              "      <td>0.062934</td>\n",
              "      <td>0.549161</td>\n",
              "      <td>0.505504</td>\n",
              "    </tr>\n",
              "    <tr>\n",
              "      <th>124</th>\n",
              "      <td>24fa</td>\n",
              "      <td>125</td>\n",
              "      <td>0.000</td>\n",
              "      <td>0.588</td>\n",
              "      <td>0.000000</td>\n",
              "      <td>0.122958</td>\n",
              "      <td>0.036426</td>\n",
              "      <td>0.157500</td>\n",
              "      <td>0.076333</td>\n",
              "      <td>0.780688</td>\n",
              "      <td>0.477203</td>\n",
              "      <td>0.541232</td>\n",
              "      <td>1.050584</td>\n",
              "      <td>0.529691</td>\n",
              "      <td>0.052294</td>\n",
              "      <td>0.033716</td>\n",
              "      <td>0.094665</td>\n",
              "      <td>0.062934</td>\n",
              "      <td>0.549161</td>\n",
              "      <td>0.505504</td>\n",
              "    </tr>\n",
              "  </tbody>\n",
              "</table>\n",
              "<p>125 rows × 20 columns</p>\n",
              "</div>\n",
              "      <button class=\"colab-df-convert\" onclick=\"convertToInteractive('df-64325aec-d10b-4f5e-a274-8ffe096a00f4')\"\n",
              "              title=\"Convert this dataframe to an interactive table.\"\n",
              "              style=\"display:none;\">\n",
              "        \n",
              "  <svg xmlns=\"http://www.w3.org/2000/svg\" height=\"24px\"viewBox=\"0 0 24 24\"\n",
              "       width=\"24px\">\n",
              "    <path d=\"M0 0h24v24H0V0z\" fill=\"none\"/>\n",
              "    <path d=\"M18.56 5.44l.94 2.06.94-2.06 2.06-.94-2.06-.94-.94-2.06-.94 2.06-2.06.94zm-11 1L8.5 8.5l.94-2.06 2.06-.94-2.06-.94L8.5 2.5l-.94 2.06-2.06.94zm10 10l.94 2.06.94-2.06 2.06-.94-2.06-.94-.94-2.06-.94 2.06-2.06.94z\"/><path d=\"M17.41 7.96l-1.37-1.37c-.4-.4-.92-.59-1.43-.59-.52 0-1.04.2-1.43.59L10.3 9.45l-7.72 7.72c-.78.78-.78 2.05 0 2.83L4 21.41c.39.39.9.59 1.41.59.51 0 1.02-.2 1.41-.59l7.78-7.78 2.81-2.81c.8-.78.8-2.07 0-2.86zM5.41 20L4 18.59l7.72-7.72 1.47 1.35L5.41 20z\"/>\n",
              "  </svg>\n",
              "      </button>\n",
              "      \n",
              "  <style>\n",
              "    .colab-df-container {\n",
              "      display:flex;\n",
              "      flex-wrap:wrap;\n",
              "      gap: 12px;\n",
              "    }\n",
              "\n",
              "    .colab-df-convert {\n",
              "      background-color: #E8F0FE;\n",
              "      border: none;\n",
              "      border-radius: 50%;\n",
              "      cursor: pointer;\n",
              "      display: none;\n",
              "      fill: #1967D2;\n",
              "      height: 32px;\n",
              "      padding: 0 0 0 0;\n",
              "      width: 32px;\n",
              "    }\n",
              "\n",
              "    .colab-df-convert:hover {\n",
              "      background-color: #E2EBFA;\n",
              "      box-shadow: 0px 1px 2px rgba(60, 64, 67, 0.3), 0px 1px 3px 1px rgba(60, 64, 67, 0.15);\n",
              "      fill: #174EA6;\n",
              "    }\n",
              "\n",
              "    [theme=dark] .colab-df-convert {\n",
              "      background-color: #3B4455;\n",
              "      fill: #D2E3FC;\n",
              "    }\n",
              "\n",
              "    [theme=dark] .colab-df-convert:hover {\n",
              "      background-color: #434B5C;\n",
              "      box-shadow: 0px 1px 3px 1px rgba(0, 0, 0, 0.15);\n",
              "      filter: drop-shadow(0px 1px 2px rgba(0, 0, 0, 0.3));\n",
              "      fill: #FFFFFF;\n",
              "    }\n",
              "  </style>\n",
              "\n",
              "      <script>\n",
              "        const buttonEl =\n",
              "          document.querySelector('#df-64325aec-d10b-4f5e-a274-8ffe096a00f4 button.colab-df-convert');\n",
              "        buttonEl.style.display =\n",
              "          google.colab.kernel.accessAllowed ? 'block' : 'none';\n",
              "\n",
              "        async function convertToInteractive(key) {\n",
              "          const element = document.querySelector('#df-64325aec-d10b-4f5e-a274-8ffe096a00f4');\n",
              "          const dataTable =\n",
              "            await google.colab.kernel.invokeFunction('convertToInteractive',\n",
              "                                                     [key], {});\n",
              "          if (!dataTable) return;\n",
              "\n",
              "          const docLinkHtml = 'Like what you see? Visit the ' +\n",
              "            '<a target=\"_blank\" href=https://colab.research.google.com/notebooks/data_table.ipynb>data table notebook</a>'\n",
              "            + ' to learn more about interactive tables.';\n",
              "          element.innerHTML = '';\n",
              "          dataTable['output_type'] = 'display_data';\n",
              "          await google.colab.output.renderOutput(dataTable, element);\n",
              "          const docLink = document.createElement('div');\n",
              "          docLink.innerHTML = docLinkHtml;\n",
              "          element.appendChild(docLink);\n",
              "        }\n",
              "      </script>\n",
              "    </div>\n",
              "  </div>\n",
              "  "
            ]
          },
          "metadata": {},
          "execution_count": 58
        }
      ]
    },
    {
      "cell_type": "code",
      "source": [
        "result_df.to_excel(\"PercDeltaOutput_24fa.xlsx\")"
      ],
      "metadata": {
        "id": "uc-M5mJQAr-n"
      },
      "execution_count": 59,
      "outputs": []
    }
  ]
}