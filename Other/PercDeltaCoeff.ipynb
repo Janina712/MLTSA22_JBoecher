{
  "nbformat": 4,
  "nbformat_minor": 0,
  "metadata": {
    "colab": {
      "name": "PercDeltaCoeff.ipynb",
      "provenance": [],
      "authorship_tag": "ABX9TyND2snYJhM1AzrYPjESr1zO",
      "include_colab_link": true
    },
    "kernelspec": {
      "name": "python3",
      "display_name": "Python 3"
    },
    "language_info": {
      "name": "python"
    }
  },
  "cells": [
    {
      "cell_type": "markdown",
      "metadata": {
        "id": "view-in-github",
        "colab_type": "text"
      },
      "source": [
        "<a href=\"https://colab.research.google.com/github/Janina712/MLTSA22_JBoecher/blob/main/Other/PercDeltaCoeff.ipynb\" target=\"_parent\"><img src=\"https://colab.research.google.com/assets/colab-badge.svg\" alt=\"Open In Colab\"/></a>"
      ]
    },
    {
      "cell_type": "markdown",
      "source": [
        "# **Percentage of Vocalic Intervals (PercV)**"
      ],
      "metadata": {
        "id": "cGCFrQMP7WVT"
      }
    },
    {
      "cell_type": "markdown",
      "source": [
        "Total vowel durations divided by sum of vowel and consonant durations. "
      ],
      "metadata": {
        "id": "5RkLNxHanCi-"
      }
    },
    {
      "cell_type": "markdown",
      "source": [
        "∑ⱽ\\∑ⱽ(V+C)"
      ],
      "metadata": {
        "id": "-zp_5MaenLfY"
      }
    },
    {
      "cell_type": "markdown",
      "source": [
        "**Imports and Set-Up**"
      ],
      "metadata": {
        "id": "-2yrY8Rj6udl"
      }
    },
    {
      "cell_type": "code",
      "source": [
        "import pandas as pd\n",
        "import numpy as np"
      ],
      "metadata": {
        "id": "aGMlEjrswJFV"
      },
      "execution_count": 8,
      "outputs": []
    },
    {
      "cell_type": "code",
      "source": [
        "from google.colab import files\n",
        "files.upload() "
      ],
      "metadata": {
        "colab": {
          "resources": {
            "http://localhost:8080/nbextensions/google.colab/files.js": {
              "data": "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",
              "ok": true,
              "headers": [
                [
                  "content-type",
                  "application/javascript"
                ]
              ],
              "status": 200,
              "status_text": ""
            }
          },
          "base_uri": "https://localhost:8080/",
          "height": 111
        },
        "id": "_TZDjkW4voQe",
        "outputId": "a9f2e9d5-a7f8-4162-ee5e-7d0ff11504b8"
      },
      "execution_count": 5,
      "outputs": [
        {
          "output_type": "display_data",
          "data": {
            "text/plain": [
              "<IPython.core.display.HTML object>"
            ],
            "text/html": [
              "\n",
              "     <input type=\"file\" id=\"files-696b8c6b-0965-4f98-a536-16d8aa74eed3\" name=\"files[]\" multiple disabled\n",
              "        style=\"border:none\" />\n",
              "     <output id=\"result-696b8c6b-0965-4f98-a536-16d8aa74eed3\">\n",
              "      Upload widget is only available when the cell has been executed in the\n",
              "      current browser session. Please rerun this cell to enable.\n",
              "      </output>\n",
              "      <script src=\"/nbextensions/google.colab/files.js\"></script> "
            ]
          },
          "metadata": {}
        },
        {
          "output_type": "stream",
          "name": "stdout",
          "text": [
            "Saving RG_nPVI_Check.csv to RG_nPVI_Check.csv\n"
          ]
        },
        {
          "output_type": "execute_result",
          "data": {
            "text/plain": [
              "{'RG_nPVI_Check.csv': b'\"vowel\",\"Duration\",\"Breath.Group\",\"m\"\\r\\n\" \"\"OW1\"\"\",0.149,1,5\\r\\n\" \"\"IH1\"\"\",0.1,1,5\\r\\n\" \"\"IY1\"\"\",0.14,1,5\\r\\n\" \"\"AA1\"\"\",0.209,1,5\\r\\n\" \"\"IH1\"\"\",0.19,1,5\\r\\n\" \"\"AH1\"\"\",0.08,2,9\\r\\n\" \"\"AH0\"\"\",0.059,2,9\\r\\n\" \"\"EY1\"\"\",0.17,2,9\\r\\n\" \"\"IH1\"\"\",0.09,2,9\\r\\n\" \"\"AH0\"\"\",0.03,2,9\\r\\n\" \"\"AH0\"\"\",0.03,2,9\\r\\n\" \"\"OW1\"\"\",0.159,2,9\\r\\n\" \"\"AO1\"\"\",0.13,2,9\\r\\n\" \"\"ER0\"\"\",0.211,2,9\\r\\n\" \"\"AH0\"\"\",0.08,3,5\\r\\n\" \"\"IY0\"\"\",0.11,3,5\\r\\n\" \"\"AE1\"\"\",0.029,3,5\\r\\n\" \"\"AY2\"\"\",0.13,3,5\\r\\n\" \"\"UH1\"\"\",0.09,3,5\\r\\n\" \"\"IH1\"\"\",0.09,4,7\\r\\n\" \"\"AO2\"\"\",0.079,4,7\\r\\n\" \"\"IY1\"\"\",0.15,4,7\\r\\n\" \"\"ER0\"\"\",0.07,4,7\\r\\n\" \"\"IH1\"\"\",0.1,4,7\\r\\n\" \"\"AH0\"\"\",0.03,4,7\\r\\n\" \"\"IY0\"\"\",0.25,4,7\\r\\n\" \"\"AH0\"\"\",0.091,5,6\\r\\n\" \"\"AH0\"\"\",0.03,5,6\\r\\n\" \"\"IH1\"\"\",0.04,5,6\\r\\n\" \"\"AH0\"\"\",0.031,5,6\\r\\n\" \"\"EH1\"\"\",0.04,5,6\\r\\n\" \"\"AA2\"\"\",0.12,5,6\\r\\n\" \"\"AY1\"\"\",0.08,6,10\\r\\n\" \"\"AE1\"\"\",0.08,6,10\\r\\n\" \"\"UW1\"\"\",0.059,6,10\\r\\n\" \"\"AH0\"\"\",0.03,6,10\\r\\n\" \"\"IH1\"\"\",0.189,6,10\\r\\n\" \"\"AH0\"\"\",0.051,6,10\\r\\n\" \"\"EH1\"\"\",0.04,6,10\\r\\n\" \"\"AY1\"\"\",0.111,6,10\\r\\n\" \"\"AE1\"\"\",0.129,6,10\\r\\n\" \"\"AH0\"\"\",0.03,6,10\\r\\n\" \"\"IH1\"\"\",0.05,7,10\\r\\n\" \"\"IY0\"\"\",0.07,7,10\\r\\n\" \"\"IH1\"\"\",0.03,7,10\\r\\n\" \"\"AA1\"\"\",0.12,7,10\\r\\n\" \"\"AH0\"\"\",0.03,7,10\\r\\n\" \"\"ER1\"\"\",0.15,7,10\\r\\n\" \"\"IH1\"\"\",0.03,7,10\\r\\n\" \"\"AA1\"\"\",0.089,7,10\\r\\n\" \"\"AY1\"\"\",0.1,7,10\\r\\n\" \"\"AY1\"\"\",0.25,7,10\\r\\n\" \"\"UW1\"\"\",0.179,8,4\\r\\n\" \"\"AH0\"\"\",0.04,8,4\\r\\n\" \"\"AY1\"\"\",0.14,8,4\\r\\n\" \"\"AA1\"\"\",0.171,8,4\\r\\n\" \"\"AE1\"\"\",0.079,9,9\\r\\n\" \"\"AE1\"\"\",0.059,9,9\\r\\n\" \"\"AH1\"\"\",0.08,9,9\\r\\n\" \"\"OW1\"\"\",0.12,9,9\\r\\n\" \"\"IY1\"\"\",0.141,9,9\\r\\n\" \"\"AA1\"\"\",0.179,9,9\\r\\n\" \"\"IY1\"\"\",0.08,9,9\\r\\n\" \"\"UH0\"\"\",0.03,9,9\\r\\n\" \"\"IY1\"\"\",0.21,9,9\\r\\n\" \"\"AH0\"\"\",0.07,10,5\\r\\n\" \"\"AH0\"\"\",0.031,10,5\\r\\n\" \"\"EY1\"\"\",0.17,10,5\\r\\n\" \"\"AH0\"\"\",0.061,10,5\\r\\n\" \"\"AE1\"\"\",0.121,10,5\\r\\n\" \"\"IY1\"\"\",0.06,11,13\\r\\n\" \"\"EH1\"\"\",0.09,11,13\\r\\n\" \"\"AY0\"\"\",0.059,11,13\\r\\n\" \"\"EH1\"\"\",0.08,11,13\\r\\n\" \"\"AH0\"\"\",0.03,11,13\\r\\n\" \"\"IY0\"\"\",0.079,11,13\\r\\n\" \"\"IH1\"\"\",0.03,11,13\\r\\n\" \"\"ER1\"\"\",0.181,11,13\\r\\n\" \"\"AH0\"\"\",0.06,11,13\\r\\n\" \"\"AY1\"\"\",0.271,11,13\\r\\n\" \"\"AH2\"\"\",0.11,11,13\\r\\n\" \"\"AH0\"\"\",0.09,11,13\\r\\n\" \"\"EH1\"\"\",0.16,11,13\\r\\n\" \"\"AH0\"\"\",0.089,12,12\\r\\n\" \"\"IY1\"\"\",0.08,12,12\\r\\n\" \"\"UW1\"\"\",0.13,12,12\\r\\n\" \"\"UH1\"\"\",0.041,12,12\\r\\n\" \"\"EY1\"\"\",0.161,12,12\\r\\n\" \"\"AH0\"\"\",0.09,12,12\\r\\n\" \"\"UW1\"\"\",0.03,12,12\\r\\n\" \"\"AH0\"\"\",0.029,12,12\\r\\n\" \"\"EH2\"\"\",0.07,12,12\\r\\n\" \"\"IY0\"\"\",0.13,12,12\\r\\n\" \"\"IH2\"\"\",0.12,12,12\\r\\n\" \"\"UH1\"\"\",0.14,12,12\\r\\n\" \"\"AA1\"\"\",0.14,13,15\\r\\n\" \"\"AH0\"\"\",0.04,13,15\\r\\n\" \"\"AY2\"\"\",0.181,13,15\\r\\n\" \"\"IH0\"\"\",0.049,13,15\\r\\n\" \"\"IY0\"\"\",0.071,13,15\\r\\n\" \"\"IH0\"\"\",0.06,13,15\\r\\n\" \"\"IY1\"\"\",0.151,13,15\\r\\n\" \"\"AO2\"\"\",0.07,13,15\\r\\n\" \"\"IY1\"\"\",0.14,13,15\\r\\n\" \"\"AO1\"\"\",0.17,13,15\\r\\n\" \"\"ER0\"\"\",0.17,13,15\\r\\n\" \"\"AH0\"\"\",0.04,13,15\\r\\n\" \"\"IH1\"\"\",0.09,13,15\\r\\n\" \"\"AH0\"\"\",0.031,13,15\\r\\n\" \"\"IY0\"\"\",0.29,13,15\\r\\n\" \"\"IY1\"\"\",0.11,14,20\\r\\n\" \"\"UH0\"\"\",0.029,14,20\\r\\n\" \"\"IY1\"\"\",0.141,14,20\\r\\n\" \"\"IY1\"\"\",0.129,14,20\\r\\n\" \"\"ER0\"\"\",0.139,14,20\\r\\n\" \"\"IY0\"\"\",0.08,14,20\\r\\n\" \"\"EY1\"\"\",0.151,14,20\\r\\n\" \"\"AH0\"\"\",0.03,14,20\\r\\n\" \"\"ER0\"\"\",0.21,14,20\\r\\n\" \"\"AH1\"\"\",0.04,14,20\\r\\n\" \"\"AH0\"\"\",0.05,14,20\\r\\n\" \"\"OW1\"\"\",0.129,14,20\\r\\n\" \"\"AY2\"\"\",0.1,14,20\\r\\n\" \"\"AH0\"\"\",0.03,14,20\\r\\n\" \"\"AO1\"\"\",0.149,14,20\\r\\n\" \"\"IY0\"\"\",0.111,14,20\\r\\n\" \"\"IY1\"\"\",0.11,14,20\\r\\n\" \"\"ER0\"\"\",0.04,14,20\\r\\n\" \"\"AO1\"\"\",0.129,14,20\\r\\n\" \"\"ER0\"\"\",0.15,14,20\\r\\n\" \"\"UW1\"\"\",0.14,15,7\\r\\n\" \"\"AE1\"\"\",0.109,15,7\\r\\n\" \"\"AH0\"\"\",0.04,15,7\\r\\n\" \"\"EY1\"\"\",0.211,15,7\\r\\n\" \"\"AH0\"\"\",0.03,15,7\\r\\n\" \"\"AH0\"\"\",0.049,15,7\\r\\n\" \"\"EH1\"\"\",0.189,15,7\\r\\n\" \"\"AH0\"\"\",0.06,16,9\\r\\n\" \"\"AH0\"\"\",0.031,16,9\\r\\n\" \"\"AH0\"\"\",0.039,16,9\\r\\n\" \"\"EH1\"\"\",0.06,16,9\\r\\n\" \"\"IH0\"\"\",0.061,16,9\\r\\n\" \"\"AE1\"\"\",0.16,16,9\\r\\n\" \"\"AH0\"\"\",0.071,16,9\\r\\n\" \"\"AH0\"\"\",0.03,16,9\\r\\n\" \"\"AO1\"\"\",0.14,16,9\\r\\n\" \"\"EH1\"\"\",0.031,17,8\\r\\n\" \"\"IH1\"\"\",0.08,17,8\\r\\n\" \"\"AH0\"\"\",0.03,17,8\\r\\n\" \"\"IY0\"\"\",0.169,17,8\\r\\n\" \"\"AH1\"\"\",0.111,17,8\\r\\n\" \"\"AH1\"\"\",0.121,17,8\\r\\n\" \"\"AH0\"\"\",0.08,17,8\\r\\n\" \"\"EH1\"\"\",0.109,17,8\\r\\n\" \"\"ER0\"\"\",0.171,18,9\\r\\n\" \"\"EH1\"\"\",0.049,18,9\\r\\n\" \"\"IY0\"\"\",0.27,18,9\\r\\n\" \"\"IH0\"\"\",0.03,18,9\\r\\n\" \"\"AH0\"\"\",0.04,18,9\\r\\n\" \"\"AW1\"\"\",0.25,18,9\\r\\n\" \"\"AH0\"\"\",0.09,18,9\\r\\n\" \"\"EH1\"\"\",0.131,18,9\\r\\n\" \"\"IH2\"\"\",0.06,18,9\\r\\n\" \"\"AH0\"\"\",0.03,19,5\\r\\n\" \"\"AH0\"\"\",0.07,19,5\\r\\n\" \"\"IH1\"\"\",0.029,19,5\\r\\n\" \"\"AH0\"\"\",0.03,19,5\\r\\n\" \"\"AO1\"\"\",0.2,19,5\\r\\n\" \"\"OW1\"\"\",0.339,20,8\\r\\n\" \"\"AO1\"\"\",0.241,20,8\\r\\n\" \"\"AH0\"\"\",0.04,20,8\\r\\n\" \"\"IY1\"\"\",0.2,20,8\\r\\n\" \"\"AH0\"\"\",0.03,20,8\\r\\n\" \"\"UH1\"\"\",0.15,20,8\\r\\n\" \"\"AH0\"\"\",0.03,20,8\\r\\n\" \"\"AE1\"\"\",0.1,20,8\\r\\n\" \"\"IY1\"\"\",0.08,21,12\\r\\n\" \"\"UH0\"\"\",0.03,21,12\\r\\n\" \"\"IY1\"\"\",0.17,21,12\\r\\n\" \"\"IH1\"\"\",0.041,21,12\\r\\n\" \"\"AA1\"\"\",0.121,21,12\\r\\n\" \"\"IH1\"\"\",0.09,21,12\\r\\n\" \"\"AH0\"\"\",0.08,21,12\\r\\n\" \"\"AE1\"\"\",0.17,21,12\\r\\n\" \"\"AH0\"\"\",0.05,21,12\\r\\n\" \"\"IH1\"\"\",0.039,21,12\\r\\n\" \"\"ER0\"\"\",0.09,21,12\\r\\n\" \"\"IY0\"\"\",0.21,21,12\\r\\n\" \"\"AE1\"\"\",0.15,22,19\\r\\n\" \"\"IH0\"\"\",0.05,22,19\\r\\n\" \"\"AE1\"\"\",0.08,22,19\\r\\n\" \"\"AH1\"\"\",0.04,22,19\\r\\n\" \"\"AH1\"\"\",0.049,22,19\\r\\n\" \"\"AH0\"\"\",0.041,22,19\\r\\n\" \"\"EY1\"\"\",0.141,22,19\\r\\n\" \"\"ER0\"\"\",0.081,22,19\\r\\n\" \"\"AO1\"\"\",0.04,22,19\\r\\n\" \"\"OW2\"\"\",0.03,22,19\\r\\n\" \"\"IY0\"\"\",0.06,22,19\\r\\n\" \"\"IY1\"\"\",0.06,22,19\\r\\n\" \"\"EH1\"\"\",0.05,22,19\\r\\n\" \"\"ER0\"\"\",0.13,22,19\\r\\n\" \"\"UH1\"\"\",0.059,22,19\\r\\n\" \"\"AH0\"\"\",0.03,22,19\\r\\n\" \"\"AH0\"\"\",0.041,22,19\\r\\n\" \"\"IY0\"\"\",0.13,22,19\\r\\n\" \"\"IY1\"\"\",0.25,22,19\\r\\n\" \"\"AH0\"\"\",0.03,23,14\\r\\n\" \"\"AH0\"\"\",0.031,23,14\\r\\n\" \"\"AA1\"\"\",0.15,23,14\\r\\n\" \"\"ER0\"\"\",0.191,23,14\\r\\n\" \"\"AY1\"\"\",0.149,23,14\\r\\n\" \"\"AH0\"\"\",0.03,23,14\\r\\n\" \"\"AH0\"\"\",0.049,23,14\\r\\n\" \"\"AW1\"\"\",0.1,23,14\\r\\n\" \"\"EH1\"\"\",0.12,23,14\\r\\n\" \"\"IY0\"\"\",0.03,23,14\\r\\n\" \"\"AH2\"\"\",0.04,23,14\\r\\n\" \"\"UW1\"\"\",0.04,23,14\\r\\n\" \"\"AE1\"\"\",0.15,23,14\\r\\n\" \"\"AY1\"\"\",0.34,23,14\\r\\n\" \"\"AH0\"\"\",0.09,24,4\\r\\n\" \"\"AH0\"\"\",0.029,24,4\\r\\n\" \"\"AH0\"\"\",0.029,24,4\\r\\n\" \"\"AH1\"\"\",0.06,24,4\\r\\n\" \"\"IH1\"\"\",0.03,25,5\\r\\n\" \"\"UH1\"\"\",0.1,25,5\\r\\n\" \"\"IH1\"\"\",0.059,25,5\\r\\n\" \"\"AH0\"\"\",0.03,25,5\\r\\n\" \"\"IH1\"\"\",0.12,25,5\\r\\n\" \"\"AH1\"\"\",0.05,26,19\\r\\n\" \"\"ER0\"\"\",0.12,26,19\\r\\n\" \"\"AE1\"\"\",0.08,26,19\\r\\n\" \"\"AH0\"\"\",0.04,26,19\\r\\n\" \"\"AH0\"\"\",0.05,26,19\\r\\n\" \"\"IH1\"\"\",0.05,26,19\\r\\n\" \"\"ER0\"\"\",0.131,26,19\\r\\n\" \"\"AH1\"\"\",0.03,26,19\\r\\n\" \"\"ER0\"\"\",0.08,26,19\\r\\n\" \"\"AH0\"\"\",0.03,26,19\\r\\n\" \"\"OW1\"\"\",0.13,26,19\\r\\n\" \"\"ER0\"\"\",0.069,26,19\\r\\n\" \"\"EY2\"\"\",0.14,26,19\\r\\n\" \"\"AH0\"\"\",0.05,26,19\\r\\n\" \"\"OW1\"\"\",0.16,26,19\\r\\n\" \"\"AH0\"\"\",0.11,26,19\\r\\n\" \"\"IH1\"\"\",0.08,26,19\\r\\n\" \"\"AH0\"\"\",0.03,26,19\\r\\n\" \"\"IY0\"\"\",0.221,26,19\\r\\n\" \"\"IY0\"\"\",0.08,27,6\\r\\n\" \"\"AA1\"\"\",0.07,27,6\\r\\n\" \"\"AH0\"\"\",0.03,27,6\\r\\n\" \"\"EH2\"\"\",0.08,27,6\\r\\n\" \"\"ER0\"\"\",0.07,27,6\\r\\n\" \"\"EH1\"\"\",0.089,27,6\\r\\n\" \"\"AO1\"\"\",0.08,28,7\\r\\n\" \"\"AO1\"\"\",0.119,28,7\\r\\n\" \"\"AO1\"\"\",0.15,28,7\\r\\n\" \"\"IY0\"\"\",0.1,28,7\\r\\n\" \"\"AH0\"\"\",0.03,28,7\\r\\n\" \"\"AE0\"\"\",0.079,28,7\\r\\n\" \"\"UW1\"\"\",0.04,28,7\\r\\n\" \"\"AH0\"\"\",0.081,29,7\\r\\n\" \"\"AH1\"\"\",0.06,29,7\\r\\n\" \"\"AH0\"\"\",0.06,29,7\\r\\n\" \"\"IH2\"\"\",0.04,29,7\\r\\n\" \"\"IH1\"\"\",0.029,29,7\\r\\n\" \"\"AH0\"\"\",0.041,29,7\\r\\n\" \"\"IY0\"\"\",0.21,29,7\\r\\n\" \"\"IH1\"\"\",0.071,30,7\\r\\n\" \"\"UW1\"\"\",0.04,30,7\\r\\n\" \"\"AY1\"\"\",0.201,30,7\\r\\n\" \"\"EY1\"\"\",0.1,30,7\\r\\n\" \"\"OW1\"\"\",0.171,30,7\\r\\n\" \"\"AE1\"\"\",0.19,30,7\\r\\n\" \"\"AH0\"\"\",0.03,30,7\\r\\n\" \"\"AH1\"\"\",0.069,31,7\\r\\n\" \"\"ER0\"\"\",0.09,31,7\\r\\n\" \"\"AE1\"\"\",0.15,31,7\\r\\n\" \"\"AH1\"\"\",0.089,31,7\\r\\n\" \"\"EH1\"\"\",0.06,31,7\\r\\n\" \"\"IH1\"\"\",0.071,31,7\\r\\n\" \"\"AH0\"\"\",0.03,31,7\\r\\n\" \"\"AH0\"\"\",0.109,32,7\\r\\n\" \"\"IY1\"\"\",0.11,32,7\\r\\n\" \"\"AH0\"\"\",0.04,32,7\\r\\n\" \"\"UH1\"\"\",0.089,32,7\\r\\n\" \"\"IH1\"\"\",0.04,32,7\\r\\n\" \"\"AH0\"\"\",0.03,32,7\\r\\n\" \"\"UW1\"\"\",0.27,32,7\\r\\n\" \"\"AO1\"\"\",0.119,33,11\\r\\n\" \"\"ER0\"\"\",0.15,33,11\\r\\n\" \"\"AH0\"\"\",0.03,33,11\\r\\n\" \"\"AA1\"\"\",0.161,33,11\\r\\n\" \"\"ER0\"\"\",0.25,33,11\\r\\n\" \"\"AE1\"\"\",0.111,33,11\\r\\n\" \"\"AH1\"\"\",0.09,33,11\\r\\n\" \"\"ER0\"\"\",0.09,33,11\\r\\n\" \"\"AH0\"\"\",0.04,33,11\\r\\n\" \"\"AE1\"\"\",0.1,33,11\\r\\n\" \"\"AH0\"\"\",0.03,33,11\\r\\n\" \"\"AH0\"\"\",0.08,34,16\\r\\n\" \"\"IH1\"\"\",0.031,34,16\\r\\n\" \"\"EH1\"\"\",0.05,34,16\\r\\n\" \"\"IY0\"\"\",0.129,34,16\\r\\n\" \"\"AH0\"\"\",0.04,34,16\\r\\n\" \"\"ER1\"\"\",0.171,34,16\\r\\n\" \"\"AH0\"\"\",0.03,34,16\\r\\n\" \"\"AE1\"\"\",0.099,34,16\\r\\n\" \"\"EH1\"\"\",0.059,34,16\\r\\n\" \"\"AH0\"\"\",0.03,34,16\\r\\n\" \"\"UH2\"\"\",0.04,34,16\\r\\n\" \"\"AH0\"\"\",0.03,34,16\\r\\n\" \"\"IY1\"\"\",0.129,34,16\\r\\n\" \"\"AH0\"\"\",0.071,34,16\\r\\n\" \"\"ER1\"\"\",0.19,34,16\\r\\n\" \"\"EY2\"\"\",0.171,34,16\\r\\n'}"
            ]
          },
          "metadata": {},
          "execution_count": 5
        }
      ]
    },
    {
      "cell_type": "code",
      "source": [
        "df = pd.read_csv(\"RG_nPVI_Check.csv\")"
      ],
      "metadata": {
        "id": "8QIWzMzcwEq6"
      },
      "execution_count": 55,
      "outputs": []
    },
    {
      "cell_type": "code",
      "source": [
        "df"
      ],
      "metadata": {
        "colab": {
          "base_uri": "https://localhost:8080/",
          "height": 423
        },
        "id": "lmCKENhOwTHE",
        "outputId": "4437e687-946f-43ea-8e95-62f309d0580d"
      },
      "execution_count": 56,
      "outputs": [
        {
          "output_type": "execute_result",
          "data": {
            "text/plain": [
              "      vowel  Duration  Breath.Group   m\n",
              "0     \"OW1\"     0.149             1   5\n",
              "1     \"IH1\"     0.100             1   5\n",
              "2     \"IY1\"     0.140             1   5\n",
              "3     \"AA1\"     0.209             1   5\n",
              "4     \"IH1\"     0.190             1   5\n",
              "..      ...       ...           ...  ..\n",
              "312   \"AH0\"     0.030            34  16\n",
              "313   \"IY1\"     0.129            34  16\n",
              "314   \"AH0\"     0.071            34  16\n",
              "315   \"ER1\"     0.190            34  16\n",
              "316   \"EY2\"     0.171            34  16\n",
              "\n",
              "[317 rows x 4 columns]"
            ],
            "text/html": [
              "\n",
              "  <div id=\"df-1be18c6d-5ed0-42a1-b107-6e9dfaaca56c\">\n",
              "    <div class=\"colab-df-container\">\n",
              "      <div>\n",
              "<style scoped>\n",
              "    .dataframe tbody tr th:only-of-type {\n",
              "        vertical-align: middle;\n",
              "    }\n",
              "\n",
              "    .dataframe tbody tr th {\n",
              "        vertical-align: top;\n",
              "    }\n",
              "\n",
              "    .dataframe thead th {\n",
              "        text-align: right;\n",
              "    }\n",
              "</style>\n",
              "<table border=\"1\" class=\"dataframe\">\n",
              "  <thead>\n",
              "    <tr style=\"text-align: right;\">\n",
              "      <th></th>\n",
              "      <th>vowel</th>\n",
              "      <th>Duration</th>\n",
              "      <th>Breath.Group</th>\n",
              "      <th>m</th>\n",
              "    </tr>\n",
              "  </thead>\n",
              "  <tbody>\n",
              "    <tr>\n",
              "      <th>0</th>\n",
              "      <td>\"OW1\"</td>\n",
              "      <td>0.149</td>\n",
              "      <td>1</td>\n",
              "      <td>5</td>\n",
              "    </tr>\n",
              "    <tr>\n",
              "      <th>1</th>\n",
              "      <td>\"IH1\"</td>\n",
              "      <td>0.100</td>\n",
              "      <td>1</td>\n",
              "      <td>5</td>\n",
              "    </tr>\n",
              "    <tr>\n",
              "      <th>2</th>\n",
              "      <td>\"IY1\"</td>\n",
              "      <td>0.140</td>\n",
              "      <td>1</td>\n",
              "      <td>5</td>\n",
              "    </tr>\n",
              "    <tr>\n",
              "      <th>3</th>\n",
              "      <td>\"AA1\"</td>\n",
              "      <td>0.209</td>\n",
              "      <td>1</td>\n",
              "      <td>5</td>\n",
              "    </tr>\n",
              "    <tr>\n",
              "      <th>4</th>\n",
              "      <td>\"IH1\"</td>\n",
              "      <td>0.190</td>\n",
              "      <td>1</td>\n",
              "      <td>5</td>\n",
              "    </tr>\n",
              "    <tr>\n",
              "      <th>...</th>\n",
              "      <td>...</td>\n",
              "      <td>...</td>\n",
              "      <td>...</td>\n",
              "      <td>...</td>\n",
              "    </tr>\n",
              "    <tr>\n",
              "      <th>312</th>\n",
              "      <td>\"AH0\"</td>\n",
              "      <td>0.030</td>\n",
              "      <td>34</td>\n",
              "      <td>16</td>\n",
              "    </tr>\n",
              "    <tr>\n",
              "      <th>313</th>\n",
              "      <td>\"IY1\"</td>\n",
              "      <td>0.129</td>\n",
              "      <td>34</td>\n",
              "      <td>16</td>\n",
              "    </tr>\n",
              "    <tr>\n",
              "      <th>314</th>\n",
              "      <td>\"AH0\"</td>\n",
              "      <td>0.071</td>\n",
              "      <td>34</td>\n",
              "      <td>16</td>\n",
              "    </tr>\n",
              "    <tr>\n",
              "      <th>315</th>\n",
              "      <td>\"ER1\"</td>\n",
              "      <td>0.190</td>\n",
              "      <td>34</td>\n",
              "      <td>16</td>\n",
              "    </tr>\n",
              "    <tr>\n",
              "      <th>316</th>\n",
              "      <td>\"EY2\"</td>\n",
              "      <td>0.171</td>\n",
              "      <td>34</td>\n",
              "      <td>16</td>\n",
              "    </tr>\n",
              "  </tbody>\n",
              "</table>\n",
              "<p>317 rows × 4 columns</p>\n",
              "</div>\n",
              "      <button class=\"colab-df-convert\" onclick=\"convertToInteractive('df-1be18c6d-5ed0-42a1-b107-6e9dfaaca56c')\"\n",
              "              title=\"Convert this dataframe to an interactive table.\"\n",
              "              style=\"display:none;\">\n",
              "        \n",
              "  <svg xmlns=\"http://www.w3.org/2000/svg\" height=\"24px\"viewBox=\"0 0 24 24\"\n",
              "       width=\"24px\">\n",
              "    <path d=\"M0 0h24v24H0V0z\" fill=\"none\"/>\n",
              "    <path d=\"M18.56 5.44l.94 2.06.94-2.06 2.06-.94-2.06-.94-.94-2.06-.94 2.06-2.06.94zm-11 1L8.5 8.5l.94-2.06 2.06-.94-2.06-.94L8.5 2.5l-.94 2.06-2.06.94zm10 10l.94 2.06.94-2.06 2.06-.94-2.06-.94-.94-2.06-.94 2.06-2.06.94z\"/><path d=\"M17.41 7.96l-1.37-1.37c-.4-.4-.92-.59-1.43-.59-.52 0-1.04.2-1.43.59L10.3 9.45l-7.72 7.72c-.78.78-.78 2.05 0 2.83L4 21.41c.39.39.9.59 1.41.59.51 0 1.02-.2 1.41-.59l7.78-7.78 2.81-2.81c.8-.78.8-2.07 0-2.86zM5.41 20L4 18.59l7.72-7.72 1.47 1.35L5.41 20z\"/>\n",
              "  </svg>\n",
              "      </button>\n",
              "      \n",
              "  <style>\n",
              "    .colab-df-container {\n",
              "      display:flex;\n",
              "      flex-wrap:wrap;\n",
              "      gap: 12px;\n",
              "    }\n",
              "\n",
              "    .colab-df-convert {\n",
              "      background-color: #E8F0FE;\n",
              "      border: none;\n",
              "      border-radius: 50%;\n",
              "      cursor: pointer;\n",
              "      display: none;\n",
              "      fill: #1967D2;\n",
              "      height: 32px;\n",
              "      padding: 0 0 0 0;\n",
              "      width: 32px;\n",
              "    }\n",
              "\n",
              "    .colab-df-convert:hover {\n",
              "      background-color: #E2EBFA;\n",
              "      box-shadow: 0px 1px 2px rgba(60, 64, 67, 0.3), 0px 1px 3px 1px rgba(60, 64, 67, 0.15);\n",
              "      fill: #174EA6;\n",
              "    }\n",
              "\n",
              "    [theme=dark] .colab-df-convert {\n",
              "      background-color: #3B4455;\n",
              "      fill: #D2E3FC;\n",
              "    }\n",
              "\n",
              "    [theme=dark] .colab-df-convert:hover {\n",
              "      background-color: #434B5C;\n",
              "      box-shadow: 0px 1px 3px 1px rgba(0, 0, 0, 0.15);\n",
              "      filter: drop-shadow(0px 1px 2px rgba(0, 0, 0, 0.3));\n",
              "      fill: #FFFFFF;\n",
              "    }\n",
              "  </style>\n",
              "\n",
              "      <script>\n",
              "        const buttonEl =\n",
              "          document.querySelector('#df-1be18c6d-5ed0-42a1-b107-6e9dfaaca56c button.colab-df-convert');\n",
              "        buttonEl.style.display =\n",
              "          google.colab.kernel.accessAllowed ? 'block' : 'none';\n",
              "\n",
              "        async function convertToInteractive(key) {\n",
              "          const element = document.querySelector('#df-1be18c6d-5ed0-42a1-b107-6e9dfaaca56c');\n",
              "          const dataTable =\n",
              "            await google.colab.kernel.invokeFunction('convertToInteractive',\n",
              "                                                     [key], {});\n",
              "          if (!dataTable) return;\n",
              "\n",
              "          const docLinkHtml = 'Like what you see? Visit the ' +\n",
              "            '<a target=\"_blank\" href=https://colab.research.google.com/notebooks/data_table.ipynb>data table notebook</a>'\n",
              "            + ' to learn more about interactive tables.';\n",
              "          element.innerHTML = '';\n",
              "          dataTable['output_type'] = 'display_data';\n",
              "          await google.colab.output.renderOutput(dataTable, element);\n",
              "          const docLink = document.createElement('div');\n",
              "          docLink.innerHTML = docLinkHtml;\n",
              "          element.appendChild(docLink);\n",
              "        }\n",
              "      </script>\n",
              "    </div>\n",
              "  </div>\n",
              "  "
            ]
          },
          "metadata": {},
          "execution_count": 56
        }
      ]
    },
    {
      "cell_type": "markdown",
      "source": [
        "**Calculate total vowel duration of breath group**"
      ],
      "metadata": {
        "id": "q9DDLky96jC1"
      }
    },
    {
      "cell_type": "code",
      "source": [
        "numberBG = np.max(df[\"Breath.Group\"])"
      ],
      "metadata": {
        "id": "O-l4lSJSwhjG"
      },
      "execution_count": 57,
      "outputs": []
    },
    {
      "cell_type": "code",
      "source": [
        "Vsums = np.zeros(numberBG)"
      ],
      "metadata": {
        "id": "cibkjQ-_2mOW"
      },
      "execution_count": 58,
      "outputs": []
    },
    {
      "cell_type": "code",
      "source": [
        "for i in range(1,numberBG+1):\n",
        "  for j in range(0, len(df)):\n",
        "    if df[\"Breath.Group\"][j] == i:\n",
        "      Vsums[i-1] = Vsums[i-1] + df[\"Duration\"][j]"
      ],
      "metadata": {
        "id": "rEQ7_Nhewz4p"
      },
      "execution_count": 75,
      "outputs": []
    },
    {
      "cell_type": "code",
      "source": [
        "Vsums"
      ],
      "metadata": {
        "colab": {
          "base_uri": "https://localhost:8080/"
        },
        "id": "uGN8zazlzns2",
        "outputId": "f9d41d66-905c-4b7d-d1d3-6e6854750ee3"
      },
      "execution_count": 76,
      "outputs": [
        {
          "output_type": "execute_result",
          "data": {
            "text/plain": [
              "array([0.788, 2.535, 3.145, 2.606, 2.329, 2.272, 2.869, 3.167, 2.957,\n",
              "       2.939, 3.184, 4.163, 5.213, 6.553, 6.575, 4.245, 2.803, 3.205,\n",
              "       3.272, 2.939, 3.79 , 4.984, 5.645, 4.62 , 2.205, 2.537, 4.06 ,\n",
              "       3.087, 2.136, 2.443, 2.686, 2.609, 3.106, 4.38 ])"
            ]
          },
          "metadata": {},
          "execution_count": 76
        }
      ]
    },
    {
      "cell_type": "markdown",
      "source": [
        "**Add result to new dataframe**"
      ],
      "metadata": {
        "id": "JeHaYUBx6qQ9"
      }
    },
    {
      "cell_type": "code",
      "source": [
        "newdf = pd.DataFrame(columns = [\"BG\", \"VDuration\",\"VCDuration\",\"PrecV\"])"
      ],
      "metadata": {
        "id": "BT5H8toH2CTP"
      },
      "execution_count": 77,
      "outputs": []
    },
    {
      "cell_type": "code",
      "source": [
        "BGnumbered = list(range(1, numberBG+1))"
      ],
      "metadata": {
        "id": "Lf_VBAkX5cdo"
      },
      "execution_count": 95,
      "outputs": []
    },
    {
      "cell_type": "code",
      "source": [
        "newdf[\"BG\"] = BGnumbered"
      ],
      "metadata": {
        "id": "2cUBZeAa4boL"
      },
      "execution_count": 96,
      "outputs": []
    },
    {
      "cell_type": "code",
      "source": [
        "newdf[\"VDuration\"] = Vsums"
      ],
      "metadata": {
        "id": "Ki7PN_dW4NiF"
      },
      "execution_count": 78,
      "outputs": []
    },
    {
      "cell_type": "code",
      "source": [
        "newdf"
      ],
      "metadata": {
        "id": "EdCj5rLs6LOp"
      },
      "execution_count": null,
      "outputs": []
    }
  ]
}