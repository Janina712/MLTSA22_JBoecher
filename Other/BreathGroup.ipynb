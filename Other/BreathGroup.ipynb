{
  "nbformat": 4,
  "nbformat_minor": 0,
  "metadata": {
    "colab": {
      "name": "BreathGroup.ipynb",
      "provenance": [],
      "collapsed_sections": [],
      "authorship_tag": "ABX9TyOhXJeM/xwMja91eicctrkp",
      "include_colab_link": true
    },
    "kernelspec": {
      "name": "python3",
      "display_name": "Python 3"
    },
    "language_info": {
      "name": "python"
    }
  },
  "cells": [
    {
      "cell_type": "markdown",
      "metadata": {
        "id": "view-in-github",
        "colab_type": "text"
      },
      "source": [
        "<a href=\"https://colab.research.google.com/github/Janina712/MLTSA22_JBoecher/blob/main/Other/BreathGroup.ipynb\" target=\"_parent\"><img src=\"https://colab.research.google.com/assets/colab-badge.svg\" alt=\"Open In Colab\"/></a>"
      ]
    },
    {
      "cell_type": "markdown",
      "source": [
        "**0. Imports & Set-Up**"
      ],
      "metadata": {
        "id": "M_pQxLwbr8Ia"
      }
    },
    {
      "cell_type": "code",
      "execution_count": 82,
      "metadata": {
        "id": "hciE536JqxMa"
      },
      "outputs": [],
      "source": [
        "import pandas as pd\n",
        "import numpy as np \n",
        "import os"
      ]
    },
    {
      "cell_type": "code",
      "source": [
        "from google.colab import drive\n",
        "drive.mount(\"/content/gdrive\")"
      ],
      "metadata": {
        "colab": {
          "base_uri": "https://localhost:8080/"
        },
        "id": "CXrAmWgiq2w6",
        "outputId": "d7ffd760-de26-419a-8e48-f342aa99b269"
      },
      "execution_count": 83,
      "outputs": [
        {
          "output_type": "stream",
          "name": "stdout",
          "text": [
            "Drive already mounted at /content/gdrive; to attempt to forcibly remount, call drive.mount(\"/content/gdrive\", force_remount=True).\n"
          ]
        }
      ]
    },
    {
      "cell_type": "code",
      "source": [
        "%cd /content/gdrive/MyDrive/RhythmAnalysisPipeline/1.CombinedInputFiles/"
      ],
      "metadata": {
        "colab": {
          "base_uri": "https://localhost:8080/"
        },
        "id": "h49Pxtneq4pi",
        "outputId": "967e84fa-f40c-45bd-d051-560eeb331622"
      },
      "execution_count": 186,
      "outputs": [
        {
          "output_type": "stream",
          "name": "stdout",
          "text": [
            "/content/gdrive/MyDrive/RhythmAnalysisPipeline/1.CombinedInputFiles\n"
          ]
        }
      ]
    },
    {
      "cell_type": "code",
      "source": [
        "read_TextGrid_duration = pd.read_excel(\"read_TextGrid_comb.xlsx\")\n",
        "df_read_txt_wide = pd.read_excel(\"read_txt_comb.xlsx\")"
      ],
      "metadata": {
        "id": "XfXbHjqGrAlS"
      },
      "execution_count": 187,
      "outputs": []
    },
    {
      "cell_type": "markdown",
      "source": [
        "**1. Create empty dataframe row to store BG assignment**"
      ],
      "metadata": {
        "id": "HQh4Xvm8sElx"
      }
    },
    {
      "cell_type": "code",
      "source": [
        "BG_col = pd.DataFrame()"
      ],
      "metadata": {
        "id": "BKAogp6BsLID"
      },
      "execution_count": 188,
      "outputs": []
    },
    {
      "cell_type": "markdown",
      "source": [
        "**2. Create variables needed inside loop**"
      ],
      "metadata": {
        "id": "UYmFeNphsW5x"
      }
    },
    {
      "cell_type": "code",
      "source": [
        "IDs = ['24fa', '24ma', '24mb', '26f', '29ma', '29mb', '29mc', '32m', '34m', '35mb', '46ma', '50fa', '50fb', '54f', '57m', '60m', '62f', '62m', 'C10_KS', 'C11_NP', 'C12_CC', 'C13_RG','C1_DS', 'C2_JH', 'C3_MD', 'C4_ZO', 'C5_HL', 'C6_LH', 'C7_SH', 'C9_RD']"
      ],
      "metadata": {
        "id": "KbM6M0Mjshwg"
      },
      "execution_count": 189,
      "outputs": []
    },
    {
      "cell_type": "code",
      "source": [
        "IntervalTimes = df_read_txt_wide[['ID', 'Offset']] "
      ],
      "metadata": {
        "id": "PsX09N5_t6jB"
      },
      "execution_count": 190,
      "outputs": []
    },
    {
      "cell_type": "code",
      "source": [
        "Offsets_all = read_TextGrid_duration[['ID', 'Offset']]"
      ],
      "metadata": {
        "id": "j9VU1TISt_W4"
      },
      "execution_count": 191,
      "outputs": []
    },
    {
      "cell_type": "code",
      "source": [
        "ID_freq_sound = read_TextGrid_duration['ID'].value_counts().sort_index()"
      ],
      "metadata": {
        "id": "4Rr457rLB3JF"
      },
      "execution_count": 192,
      "outputs": []
    },
    {
      "cell_type": "markdown",
      "source": [
        "**3. Assign Breath Groups for All Participants in a Loop**"
      ],
      "metadata": {
        "id": "aoYITrAdLRcJ"
      }
    },
    {
      "cell_type": "code",
      "source": [
        "n = -1"
      ],
      "metadata": {
        "id": "Ccs6PWEGLLUQ"
      },
      "execution_count": 193,
      "outputs": []
    },
    {
      "cell_type": "code",
      "source": [
        "for ID in IDs:\n",
        "  n = n + 1\n",
        "  BG_current = pd.DataFrame(index=range(int(ID_freq_sound[n])),columns=[\"Breath.Group\"])\n",
        "  subset_IT = IntervalTimes[IntervalTimes[\"ID\"] == ID]\n",
        "  subset_IT.index = range(len(subset_IT.index))\n",
        "  subset_sounds = Offsets_all[Offsets_all[\"ID\"] == ID]\n",
        "  subset_sounds.index = range(len(subset_sounds.index))\n",
        "  for j in range(0,len(subset_IT)): # index over range of utterances from participant\n",
        "    for i in range(0,len(subset_sounds)-1): # index over sounds from participant\n",
        "      if subset_sounds[\"Offset\"][i] <= subset_IT[\"Offset\"][j]:\n",
        "        if pd.isna(BG_current[\"Breath.Group\"][i]) == True:\n",
        "          BG_current[\"Breath.Group\"][i] = j+1 # assign number of breath group to corresponding row\n",
        "  BG_col = BG_col.append([BG_current], ignore_index=True)\n"
      ],
      "metadata": {
        "id": "ScTqncKTLIxI"
      },
      "execution_count": 194,
      "outputs": []
    },
    {
      "cell_type": "code",
      "source": [
        "read_TextGrid_duration = pd.concat([read_TextGrid_duration, BG_col], axis=1)"
      ],
      "metadata": {
        "id": "6wsYmoPXLc32"
      },
      "execution_count": 195,
      "outputs": []
    },
    {
      "cell_type": "code",
      "source": [
        "read_TextGrid_duration.drop(['Unnamed: 0'], axis=1 , inplace = True)"
      ],
      "metadata": {
        "id": "9Bb5VC-nLfZN"
      },
      "execution_count": 197,
      "outputs": []
    },
    {
      "cell_type": "code",
      "source": [
        "read_TextGrid_duration"
      ],
      "metadata": {
        "colab": {
          "base_uri": "https://localhost:8080/",
          "height": 423
        },
        "id": "y_6RNvRcLoFU",
        "outputId": "7d24b653-4b6f-4c75-f51d-1b5e5b287647"
      },
      "execution_count": 198,
      "outputs": [
        {
          "output_type": "execute_result",
          "data": {
            "text/plain": [
              "           ID       Type  Sound   Onset  Offset  Duration Breath.Group\n",
              "0        24fa    silence   \"sp\"   0.000   0.013     0.013            1\n",
              "1        24fa    silence   \"sp\"   0.013   0.143     0.130            1\n",
              "2        24fa  consonant    \"S\"   0.143   0.263     0.120            1\n",
              "3        24fa      vowel  \"OW1\"   0.263   0.343     0.080            1\n",
              "4        24fa  consonant   \"HH\"   0.343   0.482     0.139            1\n",
              "...       ...        ...    ...     ...     ...       ...          ...\n",
              "24338  C13_RG  consonant    \"N\"  87.881  87.910     0.029           28\n",
              "24339  C13_RG      vowel  \"EY2\"  87.910  88.081     0.171           28\n",
              "24340  C13_RG  consonant    \"M\"  88.081  88.191     0.110           28\n",
              "24341  C13_RG  consonant    \"Z\"  88.191  88.281     0.090           28\n",
              "24342  C13_RG    silence   \"sp\"  88.281  88.293     0.012          NaN\n",
              "\n",
              "[24343 rows x 7 columns]"
            ],
            "text/html": [
              "\n",
              "  <div id=\"df-1d600abe-d047-4576-84d1-4dda757d60c3\">\n",
              "    <div class=\"colab-df-container\">\n",
              "      <div>\n",
              "<style scoped>\n",
              "    .dataframe tbody tr th:only-of-type {\n",
              "        vertical-align: middle;\n",
              "    }\n",
              "\n",
              "    .dataframe tbody tr th {\n",
              "        vertical-align: top;\n",
              "    }\n",
              "\n",
              "    .dataframe thead th {\n",
              "        text-align: right;\n",
              "    }\n",
              "</style>\n",
              "<table border=\"1\" class=\"dataframe\">\n",
              "  <thead>\n",
              "    <tr style=\"text-align: right;\">\n",
              "      <th></th>\n",
              "      <th>ID</th>\n",
              "      <th>Type</th>\n",
              "      <th>Sound</th>\n",
              "      <th>Onset</th>\n",
              "      <th>Offset</th>\n",
              "      <th>Duration</th>\n",
              "      <th>Breath.Group</th>\n",
              "    </tr>\n",
              "  </thead>\n",
              "  <tbody>\n",
              "    <tr>\n",
              "      <th>0</th>\n",
              "      <td>24fa</td>\n",
              "      <td>silence</td>\n",
              "      <td>\"sp\"</td>\n",
              "      <td>0.000</td>\n",
              "      <td>0.013</td>\n",
              "      <td>0.013</td>\n",
              "      <td>1</td>\n",
              "    </tr>\n",
              "    <tr>\n",
              "      <th>1</th>\n",
              "      <td>24fa</td>\n",
              "      <td>silence</td>\n",
              "      <td>\"sp\"</td>\n",
              "      <td>0.013</td>\n",
              "      <td>0.143</td>\n",
              "      <td>0.130</td>\n",
              "      <td>1</td>\n",
              "    </tr>\n",
              "    <tr>\n",
              "      <th>2</th>\n",
              "      <td>24fa</td>\n",
              "      <td>consonant</td>\n",
              "      <td>\"S\"</td>\n",
              "      <td>0.143</td>\n",
              "      <td>0.263</td>\n",
              "      <td>0.120</td>\n",
              "      <td>1</td>\n",
              "    </tr>\n",
              "    <tr>\n",
              "      <th>3</th>\n",
              "      <td>24fa</td>\n",
              "      <td>vowel</td>\n",
              "      <td>\"OW1\"</td>\n",
              "      <td>0.263</td>\n",
              "      <td>0.343</td>\n",
              "      <td>0.080</td>\n",
              "      <td>1</td>\n",
              "    </tr>\n",
              "    <tr>\n",
              "      <th>4</th>\n",
              "      <td>24fa</td>\n",
              "      <td>consonant</td>\n",
              "      <td>\"HH\"</td>\n",
              "      <td>0.343</td>\n",
              "      <td>0.482</td>\n",
              "      <td>0.139</td>\n",
              "      <td>1</td>\n",
              "    </tr>\n",
              "    <tr>\n",
              "      <th>...</th>\n",
              "      <td>...</td>\n",
              "      <td>...</td>\n",
              "      <td>...</td>\n",
              "      <td>...</td>\n",
              "      <td>...</td>\n",
              "      <td>...</td>\n",
              "      <td>...</td>\n",
              "    </tr>\n",
              "    <tr>\n",
              "      <th>24338</th>\n",
              "      <td>C13_RG</td>\n",
              "      <td>consonant</td>\n",
              "      <td>\"N\"</td>\n",
              "      <td>87.881</td>\n",
              "      <td>87.910</td>\n",
              "      <td>0.029</td>\n",
              "      <td>28</td>\n",
              "    </tr>\n",
              "    <tr>\n",
              "      <th>24339</th>\n",
              "      <td>C13_RG</td>\n",
              "      <td>vowel</td>\n",
              "      <td>\"EY2\"</td>\n",
              "      <td>87.910</td>\n",
              "      <td>88.081</td>\n",
              "      <td>0.171</td>\n",
              "      <td>28</td>\n",
              "    </tr>\n",
              "    <tr>\n",
              "      <th>24340</th>\n",
              "      <td>C13_RG</td>\n",
              "      <td>consonant</td>\n",
              "      <td>\"M\"</td>\n",
              "      <td>88.081</td>\n",
              "      <td>88.191</td>\n",
              "      <td>0.110</td>\n",
              "      <td>28</td>\n",
              "    </tr>\n",
              "    <tr>\n",
              "      <th>24341</th>\n",
              "      <td>C13_RG</td>\n",
              "      <td>consonant</td>\n",
              "      <td>\"Z\"</td>\n",
              "      <td>88.191</td>\n",
              "      <td>88.281</td>\n",
              "      <td>0.090</td>\n",
              "      <td>28</td>\n",
              "    </tr>\n",
              "    <tr>\n",
              "      <th>24342</th>\n",
              "      <td>C13_RG</td>\n",
              "      <td>silence</td>\n",
              "      <td>\"sp\"</td>\n",
              "      <td>88.281</td>\n",
              "      <td>88.293</td>\n",
              "      <td>0.012</td>\n",
              "      <td>NaN</td>\n",
              "    </tr>\n",
              "  </tbody>\n",
              "</table>\n",
              "<p>24343 rows × 7 columns</p>\n",
              "</div>\n",
              "      <button class=\"colab-df-convert\" onclick=\"convertToInteractive('df-1d600abe-d047-4576-84d1-4dda757d60c3')\"\n",
              "              title=\"Convert this dataframe to an interactive table.\"\n",
              "              style=\"display:none;\">\n",
              "        \n",
              "  <svg xmlns=\"http://www.w3.org/2000/svg\" height=\"24px\"viewBox=\"0 0 24 24\"\n",
              "       width=\"24px\">\n",
              "    <path d=\"M0 0h24v24H0V0z\" fill=\"none\"/>\n",
              "    <path d=\"M18.56 5.44l.94 2.06.94-2.06 2.06-.94-2.06-.94-.94-2.06-.94 2.06-2.06.94zm-11 1L8.5 8.5l.94-2.06 2.06-.94-2.06-.94L8.5 2.5l-.94 2.06-2.06.94zm10 10l.94 2.06.94-2.06 2.06-.94-2.06-.94-.94-2.06-.94 2.06-2.06.94z\"/><path d=\"M17.41 7.96l-1.37-1.37c-.4-.4-.92-.59-1.43-.59-.52 0-1.04.2-1.43.59L10.3 9.45l-7.72 7.72c-.78.78-.78 2.05 0 2.83L4 21.41c.39.39.9.59 1.41.59.51 0 1.02-.2 1.41-.59l7.78-7.78 2.81-2.81c.8-.78.8-2.07 0-2.86zM5.41 20L4 18.59l7.72-7.72 1.47 1.35L5.41 20z\"/>\n",
              "  </svg>\n",
              "      </button>\n",
              "      \n",
              "  <style>\n",
              "    .colab-df-container {\n",
              "      display:flex;\n",
              "      flex-wrap:wrap;\n",
              "      gap: 12px;\n",
              "    }\n",
              "\n",
              "    .colab-df-convert {\n",
              "      background-color: #E8F0FE;\n",
              "      border: none;\n",
              "      border-radius: 50%;\n",
              "      cursor: pointer;\n",
              "      display: none;\n",
              "      fill: #1967D2;\n",
              "      height: 32px;\n",
              "      padding: 0 0 0 0;\n",
              "      width: 32px;\n",
              "    }\n",
              "\n",
              "    .colab-df-convert:hover {\n",
              "      background-color: #E2EBFA;\n",
              "      box-shadow: 0px 1px 2px rgba(60, 64, 67, 0.3), 0px 1px 3px 1px rgba(60, 64, 67, 0.15);\n",
              "      fill: #174EA6;\n",
              "    }\n",
              "\n",
              "    [theme=dark] .colab-df-convert {\n",
              "      background-color: #3B4455;\n",
              "      fill: #D2E3FC;\n",
              "    }\n",
              "\n",
              "    [theme=dark] .colab-df-convert:hover {\n",
              "      background-color: #434B5C;\n",
              "      box-shadow: 0px 1px 3px 1px rgba(0, 0, 0, 0.15);\n",
              "      filter: drop-shadow(0px 1px 2px rgba(0, 0, 0, 0.3));\n",
              "      fill: #FFFFFF;\n",
              "    }\n",
              "  </style>\n",
              "\n",
              "      <script>\n",
              "        const buttonEl =\n",
              "          document.querySelector('#df-1d600abe-d047-4576-84d1-4dda757d60c3 button.colab-df-convert');\n",
              "        buttonEl.style.display =\n",
              "          google.colab.kernel.accessAllowed ? 'block' : 'none';\n",
              "\n",
              "        async function convertToInteractive(key) {\n",
              "          const element = document.querySelector('#df-1d600abe-d047-4576-84d1-4dda757d60c3');\n",
              "          const dataTable =\n",
              "            await google.colab.kernel.invokeFunction('convertToInteractive',\n",
              "                                                     [key], {});\n",
              "          if (!dataTable) return;\n",
              "\n",
              "          const docLinkHtml = 'Like what you see? Visit the ' +\n",
              "            '<a target=\"_blank\" href=https://colab.research.google.com/notebooks/data_table.ipynb>data table notebook</a>'\n",
              "            + ' to learn more about interactive tables.';\n",
              "          element.innerHTML = '';\n",
              "          dataTable['output_type'] = 'display_data';\n",
              "          await google.colab.output.renderOutput(dataTable, element);\n",
              "          const docLink = document.createElement('div');\n",
              "          docLink.innerHTML = docLinkHtml;\n",
              "          element.appendChild(docLink);\n",
              "        }\n",
              "      </script>\n",
              "    </div>\n",
              "  </div>\n",
              "  "
            ]
          },
          "metadata": {},
          "execution_count": 198
        }
      ]
    },
    {
      "cell_type": "markdown",
      "source": [
        "**4. Count Number of Sounds in a BreathGroup (m)**"
      ],
      "metadata": {
        "id": "PeeX3754N32U"
      }
    },
    {
      "cell_type": "code",
      "source": [
        "m_col = pd.DataFrame()  ## initialize group-level dataframe\n",
        "for ID in IDs: ## loop over participnts\n",
        "  m_current_ID = pd.DataFrame()   ## initialize participant-level dataframe\n",
        "  subset_sounds = read_TextGrid_duration[read_TextGrid_duration[\"ID\"] == ID]  # get subset of sound dataframe that corresponds to current participant\n",
        "  subset_sounds.index = range(len(subset_sounds.index)) # reset index\n",
        "  m = subset_sounds[\"Breath.Group\"].value_counts().sort_index() # count how often a certain Breath group occurs for this participant\n",
        "  m.index = range(len(m.index)) # reset index\n",
        "  for a in range (0,len(m)): # go through all breath groups that this participant produced\n",
        "    m_current_BG = pd.DataFrame()  ## initialize BG-level dataframe\n",
        "    m_current_BG = pd.DataFrame(np.repeat(m.iloc[a], m.iloc[a], axis=0)) #replicate the sum sum times\n",
        "    m_current_ID = m_current_ID.append([m_current_BG], ignore_index = True) # add BG-level dataframe to participant-level dataframe \n",
        "  m_col = m_col.append([m_current_ID], ignore_index = True) # add participant-level dataframe to group-level dataframe"
      ],
      "metadata": {
        "id": "a0Z7ZaXkbdTu"
      },
      "execution_count": 199,
      "outputs": []
    },
    {
      "cell_type": "code",
      "source": [
        "read_TextGrid_duration = read_TextGrid_duration.dropna() # drop NaNs to make it match with m_col"
      ],
      "metadata": {
        "id": "v0UvYKQjiQyM"
      },
      "execution_count": 202,
      "outputs": []
    },
    {
      "cell_type": "code",
      "source": [
        "read_TextGrid_duration.index = range(len(read_TextGrid_duration.index)) # reset index"
      ],
      "metadata": {
        "id": "mKZtshdxn-dd"
      },
      "execution_count": 204,
      "outputs": []
    },
    {
      "cell_type": "code",
      "source": [
        "read_TextGrid_duration = pd.concat([read_TextGrid_duration, m_col], axis=1) # concatenate main df with m_col"
      ],
      "metadata": {
        "id": "OB9HhdENh_CP"
      },
      "execution_count": 206,
      "outputs": []
    },
    {
      "cell_type": "code",
      "source": [
        "read_TextGrid_duration.rename(columns = {0:'m'}, inplace = True) # rename new column"
      ],
      "metadata": {
        "id": "CmtmzJ3xiH9E"
      },
      "execution_count": 207,
      "outputs": []
    },
    {
      "cell_type": "code",
      "source": [
        "read_TextGrid_duration"
      ],
      "metadata": {
        "colab": {
          "base_uri": "https://localhost:8080/",
          "height": 423
        },
        "id": "5Q9AUgrlevqT",
        "outputId": "21d77c4d-cbcf-4b27-9f9b-6a9adadeb480"
      },
      "execution_count": 208,
      "outputs": [
        {
          "output_type": "execute_result",
          "data": {
            "text/plain": [
              "           ID       Type  Sound   Onset  Offset  Duration Breath.Group   m\n",
              "0        24fa    silence   \"sp\"   0.000   0.013     0.013            1  33\n",
              "1        24fa    silence   \"sp\"   0.013   0.143     0.130            1  33\n",
              "2        24fa  consonant    \"S\"   0.143   0.263     0.120            1  33\n",
              "3        24fa      vowel  \"OW1\"   0.263   0.343     0.080            1  33\n",
              "4        24fa  consonant   \"HH\"   0.343   0.482     0.139            1  33\n",
              "...       ...        ...    ...     ...     ...       ...          ...  ..\n",
              "24281  C13_RG      vowel  \"ER1\"  87.691  87.881     0.190           28  38\n",
              "24282  C13_RG  consonant    \"N\"  87.881  87.910     0.029           28  38\n",
              "24283  C13_RG      vowel  \"EY2\"  87.910  88.081     0.171           28  38\n",
              "24284  C13_RG  consonant    \"M\"  88.081  88.191     0.110           28  38\n",
              "24285  C13_RG  consonant    \"Z\"  88.191  88.281     0.090           28  38\n",
              "\n",
              "[24286 rows x 8 columns]"
            ],
            "text/html": [
              "\n",
              "  <div id=\"df-685cde30-39aa-41a0-86b8-ea456006f3e2\">\n",
              "    <div class=\"colab-df-container\">\n",
              "      <div>\n",
              "<style scoped>\n",
              "    .dataframe tbody tr th:only-of-type {\n",
              "        vertical-align: middle;\n",
              "    }\n",
              "\n",
              "    .dataframe tbody tr th {\n",
              "        vertical-align: top;\n",
              "    }\n",
              "\n",
              "    .dataframe thead th {\n",
              "        text-align: right;\n",
              "    }\n",
              "</style>\n",
              "<table border=\"1\" class=\"dataframe\">\n",
              "  <thead>\n",
              "    <tr style=\"text-align: right;\">\n",
              "      <th></th>\n",
              "      <th>ID</th>\n",
              "      <th>Type</th>\n",
              "      <th>Sound</th>\n",
              "      <th>Onset</th>\n",
              "      <th>Offset</th>\n",
              "      <th>Duration</th>\n",
              "      <th>Breath.Group</th>\n",
              "      <th>m</th>\n",
              "    </tr>\n",
              "  </thead>\n",
              "  <tbody>\n",
              "    <tr>\n",
              "      <th>0</th>\n",
              "      <td>24fa</td>\n",
              "      <td>silence</td>\n",
              "      <td>\"sp\"</td>\n",
              "      <td>0.000</td>\n",
              "      <td>0.013</td>\n",
              "      <td>0.013</td>\n",
              "      <td>1</td>\n",
              "      <td>33</td>\n",
              "    </tr>\n",
              "    <tr>\n",
              "      <th>1</th>\n",
              "      <td>24fa</td>\n",
              "      <td>silence</td>\n",
              "      <td>\"sp\"</td>\n",
              "      <td>0.013</td>\n",
              "      <td>0.143</td>\n",
              "      <td>0.130</td>\n",
              "      <td>1</td>\n",
              "      <td>33</td>\n",
              "    </tr>\n",
              "    <tr>\n",
              "      <th>2</th>\n",
              "      <td>24fa</td>\n",
              "      <td>consonant</td>\n",
              "      <td>\"S\"</td>\n",
              "      <td>0.143</td>\n",
              "      <td>0.263</td>\n",
              "      <td>0.120</td>\n",
              "      <td>1</td>\n",
              "      <td>33</td>\n",
              "    </tr>\n",
              "    <tr>\n",
              "      <th>3</th>\n",
              "      <td>24fa</td>\n",
              "      <td>vowel</td>\n",
              "      <td>\"OW1\"</td>\n",
              "      <td>0.263</td>\n",
              "      <td>0.343</td>\n",
              "      <td>0.080</td>\n",
              "      <td>1</td>\n",
              "      <td>33</td>\n",
              "    </tr>\n",
              "    <tr>\n",
              "      <th>4</th>\n",
              "      <td>24fa</td>\n",
              "      <td>consonant</td>\n",
              "      <td>\"HH\"</td>\n",
              "      <td>0.343</td>\n",
              "      <td>0.482</td>\n",
              "      <td>0.139</td>\n",
              "      <td>1</td>\n",
              "      <td>33</td>\n",
              "    </tr>\n",
              "    <tr>\n",
              "      <th>...</th>\n",
              "      <td>...</td>\n",
              "      <td>...</td>\n",
              "      <td>...</td>\n",
              "      <td>...</td>\n",
              "      <td>...</td>\n",
              "      <td>...</td>\n",
              "      <td>...</td>\n",
              "      <td>...</td>\n",
              "    </tr>\n",
              "    <tr>\n",
              "      <th>24281</th>\n",
              "      <td>C13_RG</td>\n",
              "      <td>vowel</td>\n",
              "      <td>\"ER1\"</td>\n",
              "      <td>87.691</td>\n",
              "      <td>87.881</td>\n",
              "      <td>0.190</td>\n",
              "      <td>28</td>\n",
              "      <td>38</td>\n",
              "    </tr>\n",
              "    <tr>\n",
              "      <th>24282</th>\n",
              "      <td>C13_RG</td>\n",
              "      <td>consonant</td>\n",
              "      <td>\"N\"</td>\n",
              "      <td>87.881</td>\n",
              "      <td>87.910</td>\n",
              "      <td>0.029</td>\n",
              "      <td>28</td>\n",
              "      <td>38</td>\n",
              "    </tr>\n",
              "    <tr>\n",
              "      <th>24283</th>\n",
              "      <td>C13_RG</td>\n",
              "      <td>vowel</td>\n",
              "      <td>\"EY2\"</td>\n",
              "      <td>87.910</td>\n",
              "      <td>88.081</td>\n",
              "      <td>0.171</td>\n",
              "      <td>28</td>\n",
              "      <td>38</td>\n",
              "    </tr>\n",
              "    <tr>\n",
              "      <th>24284</th>\n",
              "      <td>C13_RG</td>\n",
              "      <td>consonant</td>\n",
              "      <td>\"M\"</td>\n",
              "      <td>88.081</td>\n",
              "      <td>88.191</td>\n",
              "      <td>0.110</td>\n",
              "      <td>28</td>\n",
              "      <td>38</td>\n",
              "    </tr>\n",
              "    <tr>\n",
              "      <th>24285</th>\n",
              "      <td>C13_RG</td>\n",
              "      <td>consonant</td>\n",
              "      <td>\"Z\"</td>\n",
              "      <td>88.191</td>\n",
              "      <td>88.281</td>\n",
              "      <td>0.090</td>\n",
              "      <td>28</td>\n",
              "      <td>38</td>\n",
              "    </tr>\n",
              "  </tbody>\n",
              "</table>\n",
              "<p>24286 rows × 8 columns</p>\n",
              "</div>\n",
              "      <button class=\"colab-df-convert\" onclick=\"convertToInteractive('df-685cde30-39aa-41a0-86b8-ea456006f3e2')\"\n",
              "              title=\"Convert this dataframe to an interactive table.\"\n",
              "              style=\"display:none;\">\n",
              "        \n",
              "  <svg xmlns=\"http://www.w3.org/2000/svg\" height=\"24px\"viewBox=\"0 0 24 24\"\n",
              "       width=\"24px\">\n",
              "    <path d=\"M0 0h24v24H0V0z\" fill=\"none\"/>\n",
              "    <path d=\"M18.56 5.44l.94 2.06.94-2.06 2.06-.94-2.06-.94-.94-2.06-.94 2.06-2.06.94zm-11 1L8.5 8.5l.94-2.06 2.06-.94-2.06-.94L8.5 2.5l-.94 2.06-2.06.94zm10 10l.94 2.06.94-2.06 2.06-.94-2.06-.94-.94-2.06-.94 2.06-2.06.94z\"/><path d=\"M17.41 7.96l-1.37-1.37c-.4-.4-.92-.59-1.43-.59-.52 0-1.04.2-1.43.59L10.3 9.45l-7.72 7.72c-.78.78-.78 2.05 0 2.83L4 21.41c.39.39.9.59 1.41.59.51 0 1.02-.2 1.41-.59l7.78-7.78 2.81-2.81c.8-.78.8-2.07 0-2.86zM5.41 20L4 18.59l7.72-7.72 1.47 1.35L5.41 20z\"/>\n",
              "  </svg>\n",
              "      </button>\n",
              "      \n",
              "  <style>\n",
              "    .colab-df-container {\n",
              "      display:flex;\n",
              "      flex-wrap:wrap;\n",
              "      gap: 12px;\n",
              "    }\n",
              "\n",
              "    .colab-df-convert {\n",
              "      background-color: #E8F0FE;\n",
              "      border: none;\n",
              "      border-radius: 50%;\n",
              "      cursor: pointer;\n",
              "      display: none;\n",
              "      fill: #1967D2;\n",
              "      height: 32px;\n",
              "      padding: 0 0 0 0;\n",
              "      width: 32px;\n",
              "    }\n",
              "\n",
              "    .colab-df-convert:hover {\n",
              "      background-color: #E2EBFA;\n",
              "      box-shadow: 0px 1px 2px rgba(60, 64, 67, 0.3), 0px 1px 3px 1px rgba(60, 64, 67, 0.15);\n",
              "      fill: #174EA6;\n",
              "    }\n",
              "\n",
              "    [theme=dark] .colab-df-convert {\n",
              "      background-color: #3B4455;\n",
              "      fill: #D2E3FC;\n",
              "    }\n",
              "\n",
              "    [theme=dark] .colab-df-convert:hover {\n",
              "      background-color: #434B5C;\n",
              "      box-shadow: 0px 1px 3px 1px rgba(0, 0, 0, 0.15);\n",
              "      filter: drop-shadow(0px 1px 2px rgba(0, 0, 0, 0.3));\n",
              "      fill: #FFFFFF;\n",
              "    }\n",
              "  </style>\n",
              "\n",
              "      <script>\n",
              "        const buttonEl =\n",
              "          document.querySelector('#df-685cde30-39aa-41a0-86b8-ea456006f3e2 button.colab-df-convert');\n",
              "        buttonEl.style.display =\n",
              "          google.colab.kernel.accessAllowed ? 'block' : 'none';\n",
              "\n",
              "        async function convertToInteractive(key) {\n",
              "          const element = document.querySelector('#df-685cde30-39aa-41a0-86b8-ea456006f3e2');\n",
              "          const dataTable =\n",
              "            await google.colab.kernel.invokeFunction('convertToInteractive',\n",
              "                                                     [key], {});\n",
              "          if (!dataTable) return;\n",
              "\n",
              "          const docLinkHtml = 'Like what you see? Visit the ' +\n",
              "            '<a target=\"_blank\" href=https://colab.research.google.com/notebooks/data_table.ipynb>data table notebook</a>'\n",
              "            + ' to learn more about interactive tables.';\n",
              "          element.innerHTML = '';\n",
              "          dataTable['output_type'] = 'display_data';\n",
              "          await google.colab.output.renderOutput(dataTable, element);\n",
              "          const docLink = document.createElement('div');\n",
              "          docLink.innerHTML = docLinkHtml;\n",
              "          element.appendChild(docLink);\n",
              "        }\n",
              "      </script>\n",
              "    </div>\n",
              "  </div>\n",
              "  "
            ]
          },
          "metadata": {},
          "execution_count": 208
        }
      ]
    },
    {
      "cell_type": "markdown",
      "source": [
        "**5. Save Results Created by Loop**"
      ],
      "metadata": {
        "id": "MOROZ6_JN4J2"
      }
    },
    {
      "cell_type": "code",
      "source": [
        "%cd /content/gdrive/MyDrive/RhythmAnalysisPipeline/"
      ],
      "metadata": {
        "id": "DRYEZzprNmy1",
        "colab": {
          "base_uri": "https://localhost:8080/"
        },
        "outputId": "8c14cb00-b2a5-4e02-9a43-e7ddf5d1d5e5"
      },
      "execution_count": 183,
      "outputs": [
        {
          "output_type": "stream",
          "name": "stdout",
          "text": [
            "/content/gdrive/MyDrive/RhythmAnalysisPipeline\n"
          ]
        }
      ]
    },
    {
      "cell_type": "code",
      "source": [
        "dir = \"2.BreathGroups_Assigned\"\n",
        "\n",
        "if os.path.exists(dir) == False:\n",
        "  os.mkdir(dir)"
      ],
      "metadata": {
        "id": "oAP5Q1oENmD2"
      },
      "execution_count": 103,
      "outputs": []
    },
    {
      "cell_type": "code",
      "source": [
        "%cd /content/gdrive/MyDrive/RhythmAnalysisPipeline/2.BreathGroups_Assigned/"
      ],
      "metadata": {
        "id": "z35Y-3SvNx3u",
        "colab": {
          "base_uri": "https://localhost:8080/"
        },
        "outputId": "10edcd88-350c-4bff-e3be-cf2075fdc83d"
      },
      "execution_count": 209,
      "outputs": [
        {
          "output_type": "stream",
          "name": "stdout",
          "text": [
            "/content/gdrive/MyDrive/RhythmAnalysisPipeline/2.BreathGroups_Assigned\n"
          ]
        }
      ]
    },
    {
      "cell_type": "code",
      "source": [
        "read_TextGrid_duration.to_excel(\"reading_TextGrid_comb_BG_loop.xlsx\")"
      ],
      "metadata": {
        "id": "yd_crWIbNnlz"
      },
      "execution_count": 210,
      "outputs": []
    },
    {
      "cell_type": "code",
      "source": [
        "%cd /content/gdrive/MyDrive/RhythmAnalysisPipeline/"
      ],
      "metadata": {
        "id": "vBZA3CW0NnZe",
        "colab": {
          "base_uri": "https://localhost:8080/"
        },
        "outputId": "0755c065-449e-45ca-8373-0bb5232d8839"
      },
      "execution_count": 106,
      "outputs": [
        {
          "output_type": "stream",
          "name": "stdout",
          "text": [
            "/content/gdrive/MyDrive/RhythmAnalysisPipeline\n"
          ]
        }
      ]
    },
    {
      "cell_type": "markdown",
      "source": [
        "# **Go Through Participants Individually**"
      ],
      "metadata": {
        "id": "a1gaps25ixAd"
      }
    },
    {
      "cell_type": "markdown",
      "source": [
        "**1. Assign Breath Groups for one Participant at a Time**"
      ],
      "metadata": {
        "id": "2YEU1Uycsiig"
      }
    },
    {
      "cell_type": "code",
      "source": [
        "BG_24fa = pd.DataFrame(index=range(int(ID_freq_sound[0])),columns=[\"Breath.Group\"])\n",
        "subset_IT = IntervalTimes[IntervalTimes[\"ID\"] == \"24fa\"]\n",
        "subset_IT.index = range(len(subset_IT.index))\n",
        "subset_sounds = Offsets_all[Offsets_all[\"ID\"] == \"24fa\"]\n",
        "subset_sounds.index = range(len(subset_sounds.index))\n",
        "for j in range(0,len(subset_IT)):\n",
        "  for i in range(0,len(subset_sounds)-1):\n",
        "    if subset_sounds[\"Offset\"][i] <= subset_IT[\"Offset\"][j]:\n",
        "      if pd.isna(BG_24fa[\"Breath.Group\"][i]) == True:\n",
        "        BG_24fa[\"Breath.Group\"][i] = j+1"
      ],
      "metadata": {
        "id": "689IW9s9jow4"
      },
      "execution_count": 28,
      "outputs": []
    },
    {
      "cell_type": "code",
      "source": [
        "m_24fa = pd.DataFrame()  \n",
        "m = BG_24fa[\"Breath.Group\"].value_counts().sort_index()\n",
        "subset_IT = IntervalTimes[IntervalTimes[\"ID\"] == \"24fa\"]\n",
        "subset_IT.index = range(len(subset_IT.index))\n",
        "for a in range (0,len(subset_IT)):\n",
        "  m_current = pd.DataFrame(np.repeat(m.iloc[a], m.iloc[a], axis=0))\n",
        "  m_24fa = m_24fa.append([m_current], ignore_index = True)\n",
        "BG_24fa = pd.concat([BG_24fa, m_24fa], axis=1).astype('Int64')\n",
        "BG_24fa.rename(columns = {0:'m'}, inplace = True)"
      ],
      "metadata": {
        "id": "qEDxBo30Epyf"
      },
      "execution_count": 203,
      "outputs": []
    },
    {
      "cell_type": "code",
      "source": [
        "BG_24ma = pd.DataFrame(index=range(int(ID_freq_sound[1])),columns = [\"Breath.Group\"])\n",
        "subset_IT = IntervalTimes[IntervalTimes[\"ID\"] == \"24ma\"]\n",
        "subset_IT.index = range(len(subset_IT.index))\n",
        "subset_sounds = Offsets_all[Offsets_all[\"ID\"] == \"24ma\"]\n",
        "subset_sounds.index = range(len(subset_sounds.index))\n",
        "for j in range(0,len(subset_IT)):\n",
        "  for i in range(0,len(subset_sounds)-1):\n",
        "    if subset_sounds[\"Offset\"][i] <= subset_IT[\"Offset\"][j]:\n",
        "      if pd.isna(BG_24ma[\"Breath.Group\"][i]) == True:\n",
        "        BG_24ma[\"Breath.Group\"][i] = j+1"
      ],
      "metadata": {
        "id": "z-pQEkpBjou6"
      },
      "execution_count": 208,
      "outputs": []
    },
    {
      "cell_type": "code",
      "source": [
        "BG_24mb = pd.DataFrame(index=range(int(ID_freq_sound[2])),columns=[\"Breath.Group\"])\n",
        "subset_IT = IntervalTimes[IntervalTimes[\"ID\"] == \"24mb\"]\n",
        "subset_IT.index = range(len(subset_IT.index))\n",
        "subset_sounds = Offsets_all[Offsets_all[\"ID\"] == \"24mb\"]\n",
        "subset_sounds.index = range(len(subset_sounds.index))\n",
        "for j in range(0,len(subset_IT)):\n",
        "  for i in range(0,len(subset_sounds)-1):\n",
        "    if subset_sounds[\"Offset\"][i] <= subset_IT[\"Offset\"][j]:\n",
        "      if pd.isna(BG_24mb[\"Breath.Group\"][i]) == True:\n",
        "        BG_24mb[\"Breath.Group\"][i] = j+1"
      ],
      "metadata": {
        "id": "nk2BaZxTjorR"
      },
      "execution_count": 209,
      "outputs": []
    },
    {
      "cell_type": "code",
      "source": [
        "BG_26f = pd.DataFrame(index=range(int(ID_freq_sound[3])),columns=[\"Breath.Group\"])\n",
        "subset_IT = IntervalTimes[IntervalTimes[\"ID\"] == \"26f\"]\n",
        "subset_IT.index = range(len(subset_IT.index))\n",
        "subset_sounds = Offsets_all[Offsets_all[\"ID\"] == \"26f\"]\n",
        "subset_sounds.index = range(len(subset_sounds.index))\n",
        "for j in range(0,len(subset_IT)):\n",
        "  for i in range(0,len(subset_sounds)-1):\n",
        "    if subset_sounds[\"Offset\"][i] <= subset_IT[\"Offset\"][j]:\n",
        "      if pd.isna(BG_26f[\"Breath.Group\"][i]) == True:\n",
        "        BG_26f[\"Breath.Group\"][i] = j+1"
      ],
      "metadata": {
        "id": "q8wOC3jWjons"
      },
      "execution_count": 210,
      "outputs": []
    },
    {
      "cell_type": "code",
      "source": [
        "BG_29ma = pd.DataFrame(index=range(int(ID_freq_sound[4])),columns=[\"Breath.Group\"])     # range(1)\n",
        "subset_IT = IntervalTimes[IntervalTimes[\"ID\"] == \"29ma\"]\n",
        "subset_IT.index = range(len(subset_IT.index))\n",
        "subset_sounds = Offsets_all[Offsets_all[\"ID\"] == \"29ma\"]\n",
        "subset_sounds.index = range(len(subset_sounds.index))\n",
        "for j in range(0,len(subset_IT)):\n",
        "  for i in range(0,len(subset_sounds)-1):\n",
        "    if subset_sounds[\"Offset\"][i] <= subset_IT[\"Offset\"][j]:\n",
        "      if pd.isna(BG_29ma[\"Breath.Group\"][i]) == True:\n",
        "        BG_29ma[\"Breath.Group\"][i] = j+1"
      ],
      "metadata": {
        "id": "RNJUIVIHjokg"
      },
      "execution_count": 211,
      "outputs": []
    },
    {
      "cell_type": "code",
      "source": [
        "BG_29mb = pd.DataFrame(index=range(int(ID_freq_sound[5])),columns=[\"Breath.Group\"])\n",
        "subset_IT = IntervalTimes[IntervalTimes[\"ID\"] == \"29mb\"]\n",
        "subset_IT.index = range(len(subset_IT.index))\n",
        "subset_sounds = Offsets_all[Offsets_all[\"ID\"] == \"29mb\"]\n",
        "subset_sounds.index = range(len(subset_sounds.index))\n",
        "for j in range(0,len(subset_IT)):\n",
        "  for i in range(0,len(subset_sounds)-1):\n",
        "    if subset_sounds[\"Offset\"][i] <= subset_IT[\"Offset\"][j]:\n",
        "      if pd.isna(BG_29mb[\"Breath.Group\"][i]) == True:\n",
        "        BG_29mb[\"Breath.Group\"][i] = j+1"
      ],
      "metadata": {
        "id": "JULyVwq_jogK"
      },
      "execution_count": 212,
      "outputs": []
    },
    {
      "cell_type": "code",
      "source": [
        "BG_29mc = pd.DataFrame(index=range(int(ID_freq_sound[6])),columns=[\"Breath.Group\"])\n",
        "subset_IT = IntervalTimes[IntervalTimes[\"ID\"] == \"29mc\"]\n",
        "subset_IT.index = range(len(subset_IT.index))\n",
        "subset_sounds = Offsets_all[Offsets_all[\"ID\"] == \"29mc\"]\n",
        "subset_sounds.index = range(len(subset_sounds.index))\n",
        "for j in range(0,len(subset_IT)):\n",
        "  for i in range(0,len(subset_sounds)-1):\n",
        "    if subset_sounds[\"Offset\"][i] <= subset_IT[\"Offset\"][j]:\n",
        "      if pd.isna(BG_29mc[\"Breath.Group\"][i]) == True:\n",
        "        BG_29mc[\"Breath.Group\"][i] = j+1"
      ],
      "metadata": {
        "id": "rdqm9bxljobQ"
      },
      "execution_count": 213,
      "outputs": []
    },
    {
      "cell_type": "code",
      "source": [
        "BG_32m = pd.DataFrame(index=range(int(ID_freq_sound[7])),columns=[\"Breath.Group\"])\n",
        "subset_IT = IntervalTimes[IntervalTimes[\"ID\"] == \"32m\"]\n",
        "subset_IT.index = range(len(subset_IT.index))\n",
        "subset_sounds = Offsets_all[Offsets_all[\"ID\"] == \"32m\"]\n",
        "subset_sounds.index = range(len(subset_sounds.index))\n",
        "for j in range(0,len(subset_IT)):\n",
        "  for i in range(0,len(subset_sounds)-1):\n",
        "    if subset_sounds[\"Offset\"][i] <= subset_IT[\"Offset\"][j]:\n",
        "      if pd.isna(BG_32m[\"Breath.Group\"][i]) == True:\n",
        "        BG_32m[\"Breath.Group\"][i] = j+1"
      ],
      "metadata": {
        "id": "T8NMJ8jB1aIE"
      },
      "execution_count": 214,
      "outputs": []
    },
    {
      "cell_type": "code",
      "source": [
        "BG_34m = pd.DataFrame(index=range(int(ID_freq_sound[8])),columns=[\"Breath.Group\"])\n",
        "subset_IT = IntervalTimes[IntervalTimes[\"ID\"] == \"34m\"]\n",
        "subset_IT.index = range(len(subset_IT.index))\n",
        "subset_sounds = Offsets_all[Offsets_all[\"ID\"] == \"34m\"]\n",
        "subset_sounds.index = range(len(subset_sounds.index))\n",
        "for j in range(0,len(subset_IT)):\n",
        "  for i in range(0,len(subset_sounds)-1):\n",
        "    if subset_sounds[\"Offset\"][i] <= subset_IT[\"Offset\"][j]:\n",
        "      if pd.isna(BG_34m[\"Breath.Group\"][i]) == True:\n",
        "        BG_34m[\"Breath.Group\"][i] = j+1"
      ],
      "metadata": {
        "id": "QLTUguOojoQI"
      },
      "execution_count": 215,
      "outputs": []
    },
    {
      "cell_type": "code",
      "source": [
        "BG_35mb = pd.DataFrame(index=range(int(ID_freq_sound[9])),columns=[\"Breath.Group\"])\n",
        "subset_IT = IntervalTimes[IntervalTimes[\"ID\"] == \"35mb\"]\n",
        "subset_IT.index = range(len(subset_IT.index))\n",
        "subset_sounds = Offsets_all[Offsets_all[\"ID\"] == \"35mb\"]\n",
        "subset_sounds.index = range(len(subset_sounds.index))\n",
        "for j in range(0,len(subset_IT)):\n",
        "  for i in range(0,len(subset_sounds)-1):\n",
        "    if subset_sounds[\"Offset\"][i] <= subset_IT[\"Offset\"][j]:\n",
        "      if pd.isna(BG_35mb[\"Breath.Group\"][i]) == True:\n",
        "        BG_35mb[\"Breath.Group\"][i] = j+1"
      ],
      "metadata": {
        "id": "S1LQyPfAkq3B"
      },
      "execution_count": 216,
      "outputs": []
    },
    {
      "cell_type": "code",
      "source": [
        "BG_46ma = pd.DataFrame(index=range(int(ID_freq_sound[10])),columns=[\"Breath.Group\"])\n",
        "subset_IT = IntervalTimes[IntervalTimes[\"ID\"] == \"46ma\"]\n",
        "subset_IT.index = range(len(subset_IT.index))\n",
        "subset_sounds = Offsets_all[Offsets_all[\"ID\"] == \"46ma\"]\n",
        "subset_sounds.index = range(len(subset_sounds.index))\n",
        "for j in range(0,len(subset_IT)):\n",
        "  for i in range(0,len(subset_sounds)-1):\n",
        "    if subset_sounds[\"Offset\"][i] <= subset_IT[\"Offset\"][j]:\n",
        "      if pd.isna(BG_46ma[\"Breath.Group\"][i]) == True:\n",
        "        BG_46ma[\"Breath.Group\"][i] = j+1"
      ],
      "metadata": {
        "id": "1EXu0t0fkqzi"
      },
      "execution_count": 217,
      "outputs": []
    },
    {
      "cell_type": "code",
      "source": [
        "BG_50fa = pd.DataFrame(index=range(int(ID_freq_sound[11])),columns=[\"Breath.Group\"])\n",
        "subset_IT = IntervalTimes[IntervalTimes[\"ID\"] == \"50fa\"]\n",
        "subset_IT.index = range(len(subset_IT.index))\n",
        "subset_sounds = Offsets_all[Offsets_all[\"ID\"] == \"50fa\"]\n",
        "subset_sounds.index = range(len(subset_sounds.index))\n",
        "for j in range(0,len(subset_IT)):\n",
        "  for i in range(0,len(subset_sounds)-1):\n",
        "    if subset_sounds[\"Offset\"][i] <= subset_IT[\"Offset\"][j]:\n",
        "      if pd.isna(BG_50fa[\"Breath.Group\"][i]) == True:\n",
        "        BG_50fa[\"Breath.Group\"][i] = j+1"
      ],
      "metadata": {
        "id": "oFhdXo8mkqwC"
      },
      "execution_count": 218,
      "outputs": []
    },
    {
      "cell_type": "code",
      "source": [
        "BG_50fb = pd.DataFrame(index=range(int(ID_freq_sound[12])),columns=[\"Breath.Group\"])\n",
        "subset_IT = IntervalTimes[IntervalTimes[\"ID\"] == \"50fb\"]\n",
        "subset_IT.index = range(len(subset_IT.index))\n",
        "subset_sounds = Offsets_all[Offsets_all[\"ID\"] == \"50fb\"]\n",
        "subset_sounds.index = range(len(subset_sounds.index))\n",
        "for j in range(0,len(subset_IT)):\n",
        "  for i in range(0,len(subset_sounds)-1):\n",
        "    if subset_sounds[\"Offset\"][i] <= subset_IT[\"Offset\"][j]:\n",
        "      if pd.isna(BG_50fb[\"Breath.Group\"][i]) == True:\n",
        "        BG_50fb[\"Breath.Group\"][i] = j+1"
      ],
      "metadata": {
        "id": "YJ8GDdBSkqsC"
      },
      "execution_count": 219,
      "outputs": []
    },
    {
      "cell_type": "code",
      "source": [
        "BG_54f = pd.DataFrame(index=range(int(ID_freq_sound[13])),columns=[\"Breath.Group\"])\n",
        "subset_IT = IntervalTimes[IntervalTimes[\"ID\"] == \"54f\"]\n",
        "subset_IT.index = range(len(subset_IT.index))\n",
        "subset_sounds = Offsets_all[Offsets_all[\"ID\"] == \"54f\"]\n",
        "subset_sounds.index = range(len(subset_sounds.index))\n",
        "for j in range(0,len(subset_IT)):\n",
        "  for i in range(0,len(subset_sounds)-1):\n",
        "    if subset_sounds[\"Offset\"][i] <= subset_IT[\"Offset\"][j]:\n",
        "      if pd.isna(BG_54f[\"Breath.Group\"][i]) == True:\n",
        "        BG_54f[\"Breath.Group\"][i] = j+1"
      ],
      "metadata": {
        "id": "bG8gwPs_kqoK"
      },
      "execution_count": 220,
      "outputs": []
    },
    {
      "cell_type": "code",
      "source": [
        "BG_57m = pd.DataFrame(index=range(int(ID_freq_sound[14])),columns=[\"Breath.Group\"])\n",
        "subset_IT = IntervalTimes[IntervalTimes[\"ID\"] == \"57m\"]\n",
        "subset_IT.index = range(len(subset_IT.index))\n",
        "subset_sounds = Offsets_all[Offsets_all[\"ID\"] == \"57m\"]\n",
        "subset_sounds.index = range(len(subset_sounds.index))\n",
        "for j in range(0,len(subset_IT)):\n",
        "  for i in range(0,len(subset_sounds)-1):\n",
        "    if subset_sounds[\"Offset\"][i] <= subset_IT[\"Offset\"][j]:\n",
        "      if pd.isna(BG_57m[\"Breath.Group\"][i]) == True:\n",
        "        BG_57m[\"Breath.Group\"][i] = j+1"
      ],
      "metadata": {
        "id": "gdURmHC2kqj5"
      },
      "execution_count": 221,
      "outputs": []
    },
    {
      "cell_type": "code",
      "source": [
        "BG_60m = pd.DataFrame(index=range(int(ID_freq_sound[15])),columns= [\"Breath.Group\"])\n",
        "subset_IT = IntervalTimes[IntervalTimes[\"ID\"] == \"60m\"]\n",
        "subset_IT.index = range(len(subset_IT.index))\n",
        "subset_sounds = Offsets_all[Offsets_all[\"ID\"] == \"60m\"]\n",
        "subset_sounds.index = range(len(subset_sounds.index))\n",
        "for j in range(0,len(subset_IT)):\n",
        "  for i in range(0,len(subset_sounds)-1):\n",
        "    if subset_sounds[\"Offset\"][i] <= subset_IT[\"Offset\"][j]:\n",
        "      if pd.isna(BG_60m[\"Breath.Group\"][i]) == True:\n",
        "        BG_60m[\"Breath.Group\"][i] = j+1"
      ],
      "metadata": {
        "id": "Gk4QohtJkqQB"
      },
      "execution_count": 222,
      "outputs": []
    },
    {
      "cell_type": "code",
      "source": [
        "BG_62f = pd.DataFrame(index=range(int(ID_freq_sound[16])),columns=[\"Breath.Group\"])\n",
        "subset_IT = IntervalTimes[IntervalTimes[\"ID\"] == \"62f\"]\n",
        "subset_IT.index = range(len(subset_IT.index))\n",
        "subset_sounds = Offsets_all[Offsets_all[\"ID\"] == \"62f\"]\n",
        "subset_sounds.index = range(len(subset_sounds.index))\n",
        "for j in range(0,len(subset_IT)):\n",
        "  for i in range(0,len(subset_sounds)-1):\n",
        "    if subset_sounds[\"Offset\"][i] <= subset_IT[\"Offset\"][j]:\n",
        "      if pd.isna(BG_62f[\"Breath.Group\"][i]) == True:\n",
        "        BG_62f[\"Breath.Group\"][i] = j+1"
      ],
      "metadata": {
        "id": "lkiivP5UllSk"
      },
      "execution_count": 223,
      "outputs": []
    },
    {
      "cell_type": "code",
      "source": [
        "BG_62m = pd.DataFrame(index=range(int(ID_freq_sound[17])),columns=[\"Breath.Group\"])\n",
        "subset_IT = IntervalTimes[IntervalTimes[\"ID\"] == \"62m\"]\n",
        "subset_IT.index = range(len(subset_IT.index))\n",
        "subset_sounds = Offsets_all[Offsets_all[\"ID\"] == \"62m\"]\n",
        "subset_sounds.index = range(len(subset_sounds.index))\n",
        "for j in range(0,len(subset_IT)):\n",
        "  for i in range(0,len(subset_sounds)-1):\n",
        "    if subset_sounds[\"Offset\"][i] <= subset_IT[\"Offset\"][j]:\n",
        "      if pd.isna(BG_62m[\"Breath.Group\"][i]) == True:\n",
        "        BG_62m[\"Breath.Group\"][i] = j+1"
      ],
      "metadata": {
        "id": "-F7o5WLrllLh"
      },
      "execution_count": 224,
      "outputs": []
    },
    {
      "cell_type": "code",
      "source": [
        "BG_C10_KS = pd.DataFrame(index=range((int(ID_freq_sound[18]))),columns = [\"Breath.Group\"])\n",
        "subset_IT = IntervalTimes[IntervalTimes[\"ID\"] == \"C10_KS\"]\n",
        "subset_IT.index = range(len(subset_IT.index))\n",
        "subset_sounds = Offsets_all[Offsets_all[\"ID\"] == \"C10_KS\"]\n",
        "subset_sounds.index = range(len(subset_sounds.index))\n",
        "for j in range(0,len(subset_IT)):\n",
        "  for i in range(0,len(subset_sounds)-1):\n",
        "    if subset_sounds[\"Offset\"][i] <= subset_IT[\"Offset\"][j]:\n",
        "      if pd.isna(BG_C10_KS[\"Breath.Group\"][i]) == True:\n",
        "        BG_C10_KS[\"Breath.Group\"][i] = j+1"
      ],
      "metadata": {
        "id": "qrrXHMUhmQDr"
      },
      "execution_count": 225,
      "outputs": []
    },
    {
      "cell_type": "code",
      "source": [
        "BG_C11_NP = pd.DataFrame(index=range(int(ID_freq_sound[19])),columns=[\"Breath.Group\"])\n",
        "subset_IT = IntervalTimes[IntervalTimes[\"ID\"] == \"C11_NP\"]\n",
        "subset_IT.index = range(len(subset_IT.index))\n",
        "subset_sounds = Offsets_all[Offsets_all[\"ID\"] == \"C11_NP\"]\n",
        "subset_sounds.index = range(len(subset_sounds.index))\n",
        "for j in range(0,len(subset_IT)):\n",
        "  for i in range(0,len(subset_sounds)-1):\n",
        "    if subset_sounds[\"Offset\"][i] <= subset_IT[\"Offset\"][j]:\n",
        "      if pd.isna(BG_C11_NP[\"Breath.Group\"][i]) == True:\n",
        "        BG_C11_NP[\"Breath.Group\"][i] = j+1"
      ],
      "metadata": {
        "id": "lZHbUgDpmVsP"
      },
      "execution_count": 226,
      "outputs": []
    },
    {
      "cell_type": "code",
      "source": [
        "BG_C12_CC = pd.DataFrame(index=range(int(ID_freq_sound[20])),columns=[\"Breath.Group\"])\n",
        "subset_IT = IntervalTimes[IntervalTimes[\"ID\"] == \"C12_CC\"]\n",
        "subset_IT.index = range(len(subset_IT.index))\n",
        "subset_sounds = Offsets_all[Offsets_all[\"ID\"] == \"C12_CC\"]\n",
        "subset_sounds.index = range(len(subset_sounds.index))\n",
        "for j in range(0,len(subset_IT)):\n",
        "  for i in range(0,len(subset_sounds)-1):\n",
        "    if subset_sounds[\"Offset\"][i] <= subset_IT[\"Offset\"][j]:\n",
        "      if pd.isna(BG_C12_CC[\"Breath.Group\"][i]) == True:\n",
        "        BG_C12_CC[\"Breath.Group\"][i] = j+1"
      ],
      "metadata": {
        "id": "-oYRQHODmWSr"
      },
      "execution_count": 227,
      "outputs": []
    },
    {
      "cell_type": "code",
      "source": [
        "BG_C13_RG = pd.DataFrame(index=range(int(ID_freq_sound[21])),columns=[\"Breath.Group\"])\n",
        "subset_IT = IntervalTimes[IntervalTimes[\"ID\"] == \"C13_RG\"]\n",
        "subset_IT.index = range(len(subset_IT.index))\n",
        "subset_sounds = Offsets_all[Offsets_all[\"ID\"] == \"C13_RG\"]\n",
        "subset_sounds.index = range(len(subset_sounds.index))\n",
        "for j in range(0,len(subset_IT)):\n",
        "  for i in range(0,len(subset_sounds)-1):\n",
        "    if subset_sounds[\"Offset\"][i] <= subset_IT[\"Offset\"][j]:\n",
        "      if pd.isna(BG_C13_RG[\"Breath.Group\"][i]) == True:\n",
        "        BG_C13_RG[\"Breath.Group\"][i] = j+1"
      ],
      "metadata": {
        "id": "gZyXTxXFmcdj"
      },
      "execution_count": 228,
      "outputs": []
    },
    {
      "cell_type": "code",
      "source": [
        "BG_C1_DS = pd.DataFrame(index=range(int(ID_freq_sound[22])),columns=[\"Breath.Group\"])\n",
        "subset_IT = IntervalTimes[IntervalTimes[\"ID\"] == \"C1_DS\"]\n",
        "subset_IT.index = range(len(subset_IT.index))\n",
        "subset_sounds = Offsets_all[Offsets_all[\"ID\"] == \"C1_DS\"]\n",
        "subset_sounds.index = range(len(subset_sounds.index))\n",
        "for j in range(0,len(subset_IT)):\n",
        "  for i in range(0,len(subset_sounds)-1):\n",
        "    if subset_sounds[\"Offset\"][i] <= subset_IT[\"Offset\"][j]:\n",
        "      if pd.isna(BG_C1_DS[\"Breath.Group\"][i]) == True:\n",
        "        BG_C1_DS[\"Breath.Group\"][i] = j+1"
      ],
      "metadata": {
        "id": "o0l2DrWSllED"
      },
      "execution_count": 229,
      "outputs": []
    },
    {
      "cell_type": "code",
      "source": [
        "BG_C2_JH = pd.DataFrame(index=range(int(ID_freq_sound[23])),columns=[\"Breath.Group\"])\n",
        "subset_IT = IntervalTimes[IntervalTimes[\"ID\"] == \"C2_JH\"]\n",
        "subset_IT.index = range(len(subset_IT.index))\n",
        "subset_sounds = Offsets_all[Offsets_all[\"ID\"] == \"C2_JH\"]\n",
        "subset_sounds.index = range(len(subset_sounds.index))\n",
        "for j in range(0,len(subset_IT)):\n",
        "  for i in range(0,len(subset_sounds)-1):\n",
        "    if subset_sounds[\"Offset\"][i] <= subset_IT[\"Offset\"][j]:\n",
        "      if pd.isna(BG_C2_JH[\"Breath.Group\"][i]) == True:\n",
        "        BG_C2_JH[\"Breath.Group\"][i] = j+1"
      ],
      "metadata": {
        "id": "GUQ9p0THmCKq"
      },
      "execution_count": 230,
      "outputs": []
    },
    {
      "cell_type": "code",
      "source": [
        "BG_C3_MD = pd.DataFrame(index=range((int(ID_freq_sound[24]))),columns=[\"Breath.Group\"])\n",
        "subset_IT = IntervalTimes[IntervalTimes[\"ID\"] == \"C3_MD\"]\n",
        "subset_IT.index = range(len(subset_IT.index))\n",
        "subset_sounds = Offsets_all[Offsets_all[\"ID\"] == \"C3_MD\"]\n",
        "subset_sounds.index = range(len(subset_sounds.index))\n",
        "for j in range(0,len(subset_IT)):\n",
        "  for i in range(0,len(subset_sounds)-1):\n",
        "    if subset_sounds[\"Offset\"][i] <= subset_IT[\"Offset\"][j]:\n",
        "      if pd.isna(BG_C3_MD[\"Breath.Group\"][i]) == True:\n",
        "        BG_C3_MD[\"Breath.Group\"][i] = j+1"
      ],
      "metadata": {
        "id": "sYTrD_m9mCGK"
      },
      "execution_count": 232,
      "outputs": []
    },
    {
      "cell_type": "code",
      "source": [
        "BG_C4_ZO = pd.DataFrame(index=range((int(ID_freq_sound[25]))),columns=[\"Breath.Group\"])\n",
        "subset_IT = IntervalTimes[IntervalTimes[\"ID\"] == \"C4_ZO\"]\n",
        "subset_IT.index = range(len(subset_IT.index))\n",
        "subset_sounds = Offsets_all[Offsets_all[\"ID\"] == \"C4_ZO\"]\n",
        "subset_sounds.index = range(len(subset_sounds.index))\n",
        "for j in range(0,len(subset_IT)):\n",
        "  for i in range(0,len(subset_sounds)-1):\n",
        "    if subset_sounds[\"Offset\"][i] <= subset_IT[\"Offset\"][j]:\n",
        "      if pd.isna(BG_C4_ZO[\"Breath.Group\"][i]) == True:\n",
        "        BG_C4_ZO[\"Breath.Group\"][i] = j+1"
      ],
      "metadata": {
        "id": "J9YI9giWmCC5"
      },
      "execution_count": 233,
      "outputs": []
    },
    {
      "cell_type": "code",
      "source": [
        "BG_C5_HL = pd.DataFrame(index=range((int(ID_freq_sound[26]))),columns=[\"Breath.Group\"])\n",
        "subset_IT = IntervalTimes[IntervalTimes[\"ID\"] == \"C5_HL\"]\n",
        "subset_IT.index = range(len(subset_IT.index))\n",
        "subset_sounds = Offsets_all[Offsets_all[\"ID\"] == \"C5_HL\"]\n",
        "subset_sounds.index = range(len(subset_sounds.index))\n",
        "for j in range(0,len(subset_IT)):\n",
        "  for i in range(0,len(subset_sounds)-1):\n",
        "    if subset_sounds[\"Offset\"][i] <= subset_IT[\"Offset\"][j]:\n",
        "      if pd.isna(BG_C5_HL[\"Breath.Group\"][i]) == True:\n",
        "        BG_C5_HL[\"Breath.Group\"][i] = j+1"
      ],
      "metadata": {
        "id": "up_Z1Hn4mB_q"
      },
      "execution_count": 234,
      "outputs": []
    },
    {
      "cell_type": "code",
      "source": [
        "BG_C6_LH = pd.DataFrame(index=range((int(ID_freq_sound[27]))),columns=[\"Breath.Group\"])\n",
        "subset_IT = IntervalTimes[IntervalTimes[\"ID\"] == \"C6_LH\"]\n",
        "subset_IT.index = range(len(subset_IT.index))\n",
        "subset_sounds = Offsets_all[Offsets_all[\"ID\"] == \"C6_LH\"]\n",
        "subset_sounds.index = range(len(subset_sounds.index))\n",
        "for j in range(0,len(subset_IT)):\n",
        "  for i in range(0,len(subset_sounds)-1):\n",
        "    if subset_sounds[\"Offset\"][i] <= subset_IT[\"Offset\"][j]:\n",
        "      if pd.isna(BG_C6_LH[\"Breath.Group\"][i]) == True:\n",
        "        BG_C6_LH[\"Breath.Group\"][i] = j+1"
      ],
      "metadata": {
        "id": "oCiXgdk7mB8h"
      },
      "execution_count": 235,
      "outputs": []
    },
    {
      "cell_type": "code",
      "source": [
        "BG_C7_SH = pd.DataFrame(index=range(int(ID_freq_sound[28])),columns=[\"Breath.Group\"])\n",
        "subset_IT = IntervalTimes[IntervalTimes[\"ID\"] == \"C7_SH\"]\n",
        "subset_IT.index = range(len(subset_IT.index))\n",
        "subset_sounds = Offsets_all[Offsets_all[\"ID\"] == \"C7_SH\"]\n",
        "subset_sounds.index = range(len(subset_sounds.index))\n",
        "for j in range(0,len(subset_IT)):\n",
        "  for i in range(0,len(subset_sounds)-1):\n",
        "    if subset_sounds[\"Offset\"][i] <= subset_IT[\"Offset\"][j]:\n",
        "      if pd.isna(BG_C7_SH[\"Breath.Group\"][i]) == True:\n",
        "        BG_C7_SH[\"Breath.Group\"][i] = j+1"
      ],
      "metadata": {
        "id": "6e0r0iVGmB5h"
      },
      "execution_count": 236,
      "outputs": []
    },
    {
      "cell_type": "code",
      "source": [
        "BG_C9_RD = pd.DataFrame(index=range((int(ID_freq_sound[29]))),columns=[\"Breath.Group\"])\n",
        "subset_IT = IntervalTimes[IntervalTimes[\"ID\"] == \"C9_RD\"]\n",
        "subset_IT.index = range(len(subset_IT.index))\n",
        "subset_sounds = Offsets_all[Offsets_all[\"ID\"] == \"C9_RD\"]\n",
        "subset_sounds.index = range(len(subset_sounds.index))\n",
        "for j in range(0,len(subset_IT)):\n",
        "  for i in range(0,len(subset_sounds)-1):\n",
        "    if subset_sounds[\"Offset\"][i] <= subset_IT[\"Offset\"][j]:\n",
        "      if pd.isna(BG_C9_RD[\"Breath.Group\"][i]) == True:\n",
        "        BG_C9_RD[\"Breath.Group\"][i] = j+1"
      ],
      "metadata": {
        "id": "LmSru8BvmB1h"
      },
      "execution_count": 237,
      "outputs": []
    },
    {
      "cell_type": "markdown",
      "source": [
        "**2. Assign number of items in a BreathGroup**"
      ],
      "metadata": {
        "id": "YJ3Z73s8JbuD"
      }
    },
    {
      "cell_type": "code",
      "source": [
        "m_24fa = pd.DataFrame()  \n",
        "m = BG_24fa[\"Breath.Group\"].value_counts().sort_index()\n",
        "subset_IT = IntervalTimes[IntervalTimes[\"ID\"] == \"24fa\"]\n",
        "subset_IT.index = range(len(subset_IT.index))\n",
        "for a in range (0,len(subset_IT)):\n",
        "  m_current = pd.DataFrame(np.repeat(m.iloc[a], m.iloc[a], axis=0))\n",
        "  m_24fa = m_24fa.append([m_current], ignore_index = True)\n",
        "BG_24fa = pd.concat([BG_24fa, m_24fa], axis=1).astype('Int64')\n",
        "BG_24fa.rename(columns = {0:'m'}, inplace = True)"
      ],
      "metadata": {
        "id": "EWSywbwuJa-o"
      },
      "execution_count": 29,
      "outputs": []
    },
    {
      "cell_type": "code",
      "source": [
        "m_24ma = pd.DataFrame()  \n",
        "m = BG_24ma[\"Breath.Group\"].value_counts().sort_index()\n",
        "subset_IT = IntervalTimes[IntervalTimes[\"ID\"] == \"24ma\"]\n",
        "subset_IT.index = range(len(subset_IT.index))\n",
        "for a in range (0,len(subset_IT)):\n",
        "  m_current = pd.DataFrame(np.repeat(m.iloc[a], m.iloc[a], axis=0))\n",
        "  m_24ma = m_24fa.append([m_current], ignore_index = True)\n",
        "BG_24ma = pd.concat([BG_24ma, m_24ma], axis=1).astype('Int64')\n",
        "BG_24ma.rename(columns = {0:'m'}, inplace = True)"
      ],
      "metadata": {
        "id": "b3ufJM0iJgcE"
      },
      "execution_count": 239,
      "outputs": []
    },
    {
      "cell_type": "code",
      "source": [
        "m_24mb = pd.DataFrame()  \n",
        "m = BG_24mb[\"Breath.Group\"].value_counts().sort_index()\n",
        "subset_IT = IntervalTimes[IntervalTimes[\"ID\"] == \"24mb\"]\n",
        "subset_IT.index = range(len(subset_IT.index))\n",
        "for a in range (0,len(subset_IT)):\n",
        "  m_current = pd.DataFrame(np.repeat(m.iloc[a], m.iloc[a], axis=0))\n",
        "  m_24mb = m_24mb.append([m_current], ignore_index = True)\n",
        "BG_24mb = pd.concat([BG_24mb, m_24mb], axis=1).astype('Int64')\n",
        "BG_24mb.rename(columns = {0:'m'}, inplace = True)"
      ],
      "metadata": {
        "id": "CsdhNgHMJgYs"
      },
      "execution_count": 240,
      "outputs": []
    },
    {
      "cell_type": "code",
      "source": [
        "m_26f = pd.DataFrame()  \n",
        "m = BG_26f[\"Breath.Group\"].value_counts().sort_index()\n",
        "subset_IT = IntervalTimes[IntervalTimes[\"ID\"] == \"26f\"]\n",
        "subset_IT.index = range(len(subset_IT.index))\n",
        "for a in range (0,len(subset_IT)):\n",
        "  m_current = pd.DataFrame(np.repeat(m.iloc[a], m.iloc[a], axis=0))\n",
        "  m_26f = m_26f.append([m_current], ignore_index = True)\n",
        "BG_26f = pd.concat([BG_26f, m_26f], axis=1).astype('Int64')\n",
        "BG_26f.rename(columns = {0:'m'}, inplace = True)"
      ],
      "metadata": {
        "id": "9dlH0W65JgWT"
      },
      "execution_count": 241,
      "outputs": []
    },
    {
      "cell_type": "code",
      "source": [
        "m_29ma = pd.DataFrame()  \n",
        "m = BG_29ma[\"Breath.Group\"].value_counts().sort_index()\n",
        "subset_IT = IntervalTimes[IntervalTimes[\"ID\"] == \"29ma\"]\n",
        "subset_IT.index = range(len(subset_IT.index))\n",
        "for a in range (0,len(subset_IT)):\n",
        "  m_current = pd.DataFrame(np.repeat(m.iloc[a], m.iloc[a], axis=0))\n",
        "  m_29ma = m_29ma.append([m_current], ignore_index = True)\n",
        "BG_29ma = pd.concat([BG_29ma, m_29ma], axis=1).astype('Int64')\n",
        "BG_29ma.rename(columns = {0:'m'}, inplace = True)"
      ],
      "metadata": {
        "id": "VG1EgMk6JgT2"
      },
      "execution_count": 242,
      "outputs": []
    },
    {
      "cell_type": "code",
      "source": [
        "m_29mb = pd.DataFrame()  \n",
        "m = BG_29mb[\"Breath.Group\"].value_counts().sort_index()\n",
        "m.index = range(len(m.index))\n",
        "subset_IT = IntervalTimes[IntervalTimes[\"ID\"] == \"29mb\"]\n",
        "subset_IT.index = range(len(subset_IT.index))\n",
        "for a in range (0,len(m)):                        \n",
        "  m_current = pd.DataFrame(np.repeat(m.iloc[a], m.iloc[a], axis=0))\n",
        "  m_29mb = m_29mb.append([m_current], ignore_index = True)\n",
        "BG_29mb = pd.concat([BG_29mb, m_29mb], axis=1).astype('Int64')\n",
        "BG_29mb.rename(columns = {0:'m'}, inplace = True)"
      ],
      "metadata": {
        "id": "5AypbqdjJgRW"
      },
      "execution_count": 298,
      "outputs": []
    },
    {
      "cell_type": "code",
      "source": [
        "m_29mc = pd.DataFrame()  \n",
        "m = BG_29mc[\"Breath.Group\"].value_counts().sort_index()\n",
        "subset_IT = IntervalTimes[IntervalTimes[\"ID\"] == \"29mc\"]\n",
        "subset_IT.index = range(len(subset_IT.index))\n",
        "for a in range (0,len(subset_IT)):\n",
        "  m_current = pd.DataFrame(np.repeat(m.iloc[a], m.iloc[a], axis=0))\n",
        "  m_29mc = m_29mc.append([m_current], ignore_index = True)\n",
        "BG_29mc = pd.concat([BG_29mc, m_29mc], axis=1).astype('Int64')\n",
        "BG_29mc.rename(columns = {0:'m'}, inplace = True)"
      ],
      "metadata": {
        "id": "ZZMCwY-bJgOz"
      },
      "execution_count": 251,
      "outputs": []
    },
    {
      "cell_type": "code",
      "source": [
        "m_32m = pd.DataFrame()  \n",
        "m = BG_32m[\"Breath.Group\"].value_counts().sort_index()\n",
        "subset_IT = IntervalTimes[IntervalTimes[\"ID\"] == \"32m\"]\n",
        "subset_IT.index = range(len(subset_IT.index))\n",
        "for a in range (0,len(subset_IT)):\n",
        "  m_current = pd.DataFrame(np.repeat(m.iloc[a], m.iloc[a], axis=0))\n",
        "  m_32m = m_32m.append([m_current], ignore_index = True)\n",
        "BG_32m = pd.concat([BG_32m, m_32m], axis=1).astype('Int64')\n",
        "BG_32m.rename(columns = {0:'m'}, inplace = True)"
      ],
      "metadata": {
        "id": "0vOoHzXfJgMj"
      },
      "execution_count": 252,
      "outputs": []
    },
    {
      "cell_type": "code",
      "source": [
        "m_34m = pd.DataFrame()  \n",
        "m = BG_34m[\"Breath.Group\"].value_counts().sort_index()\n",
        "subset_IT = IntervalTimes[IntervalTimes[\"ID\"] == \"34m\"]\n",
        "subset_IT.index = range(len(subset_IT.index))\n",
        "for a in range (0,len(subset_IT)):\n",
        "  m_current = pd.DataFrame(np.repeat(m.iloc[a], m.iloc[a], axis=0))\n",
        "  m_34m = m_34m.append([m_current], ignore_index = True)\n",
        "BG_34m = pd.concat([BG_34m, m_34m], axis=1).astype('Int64')\n",
        "BG_34m.rename(columns = {0:'m'}, inplace = True)"
      ],
      "metadata": {
        "id": "67vdGVYBJgJ_"
      },
      "execution_count": 253,
      "outputs": []
    },
    {
      "cell_type": "code",
      "source": [
        "m_35mb = pd.DataFrame()  \n",
        "m = BG_35mb[\"Breath.Group\"].value_counts().sort_index()\n",
        "subset_IT = IntervalTimes[IntervalTimes[\"ID\"] == \"35mb\"]\n",
        "subset_IT.index = range(len(subset_IT.index))\n",
        "for a in range (0,len(subset_IT)):\n",
        "  m_current = pd.DataFrame(np.repeat(m.iloc[a], m.iloc[a], axis=0))\n",
        "  m_35mb = m_35mb.append([m_current], ignore_index = True)\n",
        "BG_35mb = pd.concat([BG_35mb, m_35mb], axis=1).astype('Int64')\n",
        "BG_35mb.rename(columns = {0:'m'}, inplace = True)"
      ],
      "metadata": {
        "id": "J69lKdGUJgH_"
      },
      "execution_count": 254,
      "outputs": []
    },
    {
      "cell_type": "code",
      "source": [
        "m_46ma = pd.DataFrame()  \n",
        "m = BG_46ma[\"Breath.Group\"].value_counts().sort_index()\n",
        "subset_IT = IntervalTimes[IntervalTimes[\"ID\"] == \"46ma\"]\n",
        "subset_IT.index = range(len(subset_IT.index))\n",
        "for a in range (0,len(subset_IT)):\n",
        "  m_current = pd.DataFrame(np.repeat(m.iloc[a], m.iloc[a], axis=0))\n",
        "  m_46ma = m_46ma.append([m_current], ignore_index = True)\n",
        "BG_46ma = pd.concat([BG_46ma, m_46ma], axis=1).astype('Int64')\n",
        "BG_46ma.rename(columns = {0:'m'}, inplace = True)"
      ],
      "metadata": {
        "id": "FQCvkZbwJgFr"
      },
      "execution_count": 255,
      "outputs": []
    },
    {
      "cell_type": "code",
      "source": [
        "m_50fa = pd.DataFrame()  \n",
        "m = BG_50fa[\"Breath.Group\"].value_counts().sort_index()\n",
        "subset_IT = IntervalTimes[IntervalTimes[\"ID\"] == \"50fa\"]\n",
        "subset_IT.index = range(len(subset_IT.index))\n",
        "for a in range (0,len(subset_IT)):\n",
        "  m_current = pd.DataFrame(np.repeat(m.iloc[a], m.iloc[a], axis=0))\n",
        "  m_50fa = m_50fa.append([m_current], ignore_index = True)\n",
        "BG_50fa = pd.concat([BG_50fa, m_50fa], axis=1).astype('Int64')\n",
        "BG_50fa.rename(columns = {0:'m'}, inplace = True)"
      ],
      "metadata": {
        "id": "-wOTVmVQJgDO"
      },
      "execution_count": 256,
      "outputs": []
    },
    {
      "cell_type": "code",
      "source": [
        "m_50fb = pd.DataFrame()  \n",
        "m = BG_50fb[\"Breath.Group\"].value_counts().sort_index()\n",
        "subset_IT = IntervalTimes[IntervalTimes[\"ID\"] == \"50fb\"]\n",
        "subset_IT.index = range(len(subset_IT.index))\n",
        "for a in range (0,len(subset_IT)):\n",
        "  m_current = pd.DataFrame(np.repeat(m.iloc[a], m.iloc[a], axis=0))\n",
        "  m_50fb = m_50fb.append([m_current], ignore_index = True)\n",
        "BG_50fb = pd.concat([BG_50fb, m_50fb], axis=1).astype('Int64')\n",
        "BG_50fb.rename(columns = {0:'m'}, inplace = True)"
      ],
      "metadata": {
        "id": "vGyz3WtMJgAs"
      },
      "execution_count": 257,
      "outputs": []
    },
    {
      "cell_type": "code",
      "source": [
        "m_54f = pd.DataFrame()  \n",
        "m = BG_54f[\"Breath.Group\"].value_counts().sort_index()\n",
        "subset_IT = IntervalTimes[IntervalTimes[\"ID\"] == \"54f\"]\n",
        "subset_IT.index = range(len(subset_IT.index))\n",
        "for a in range (0,len(subset_IT)):\n",
        "  m_current = pd.DataFrame(np.repeat(m.iloc[a], m.iloc[a], axis=0))\n",
        "  m_54f = m_54f.append([m_current], ignore_index = True)\n",
        "BG_54f = pd.concat([BG_54f, m_54f], axis=1).astype('Int64')\n",
        "BG_54f.rename(columns = {0:'m'}, inplace = True)"
      ],
      "metadata": {
        "id": "gbeZ5lLVJf70"
      },
      "execution_count": 258,
      "outputs": []
    },
    {
      "cell_type": "code",
      "source": [
        "m_57m = pd.DataFrame()  \n",
        "m = BG_57m[\"Breath.Group\"].value_counts().sort_index()\n",
        "subset_IT = IntervalTimes[IntervalTimes[\"ID\"] == \"57m\"]\n",
        "subset_IT.index = range(len(subset_IT.index))\n",
        "for a in range (0,len(subset_IT)):\n",
        "  m_current = pd.DataFrame(np.repeat(m.iloc[a], m.iloc[a], axis=0))\n",
        "  m_57m = m_57m.append([m_current], ignore_index = True)\n",
        "BG_57m = pd.concat([BG_57m, m_57m], axis=1).astype('Int64')\n",
        "BG_57m.rename(columns = {0:'m'}, inplace = True)"
      ],
      "metadata": {
        "id": "jEF0g6FvLtVw"
      },
      "execution_count": 259,
      "outputs": []
    },
    {
      "cell_type": "code",
      "source": [
        "m_60m = pd.DataFrame()  \n",
        "m = BG_60m[\"Breath.Group\"].value_counts().sort_index()\n",
        "subset_IT = IntervalTimes[IntervalTimes[\"ID\"] == \"60m\"]\n",
        "subset_IT.index = range(len(subset_IT.index))\n",
        "for a in range (0,len(subset_IT)):\n",
        "  m_current = pd.DataFrame(np.repeat(m.iloc[a], m.iloc[a], axis=0))\n",
        "  m_60m = m_60m.append([m_current], ignore_index = True)\n",
        "BG_60m = pd.concat([BG_60m, m_60m], axis=1).astype('Int64')\n",
        "BG_60m.rename(columns = {0:'m'}, inplace = True)"
      ],
      "metadata": {
        "id": "-eiuiO2GLtSO"
      },
      "execution_count": 260,
      "outputs": []
    },
    {
      "cell_type": "code",
      "source": [
        "m_62f = pd.DataFrame()  \n",
        "m = BG_62f[\"Breath.Group\"].value_counts().sort_index()\n",
        "subset_IT = IntervalTimes[IntervalTimes[\"ID\"] == \"62f\"]\n",
        "subset_IT.index = range(len(subset_IT.index))\n",
        "for a in range (0,len(subset_IT)):\n",
        "  m_current = pd.DataFrame(np.repeat(m.iloc[a], m.iloc[a], axis=0))\n",
        "  m_62f = m_62f.append([m_current], ignore_index = True)\n",
        "BG_62f = pd.concat([BG_62f, m_62f], axis=1).astype('Int64')\n",
        "BG_62f.rename(columns = {0:'m'}, inplace = True)"
      ],
      "metadata": {
        "id": "-pUGUKNZLtPe"
      },
      "execution_count": 283,
      "outputs": []
    },
    {
      "cell_type": "code",
      "source": [
        "m_62m = pd.DataFrame()  \n",
        "m = BG_62m[\"Breath.Group\"].value_counts().sort_index()\n",
        "m.index = range(len(m.index))\n",
        "subset_IT = IntervalTimes[IntervalTimes[\"ID\"] == \"62m\"]\n",
        "subset_IT.index = range(len(subset_IT.index))\n",
        "for a in range (0,len(m)):\n",
        "  m_current = pd.DataFrame(np.repeat(m.iloc[a], m.iloc[a], axis=0))\n",
        "  m_62m = m_62m.append([m_current], ignore_index=True)\n",
        "BG_62m = pd.concat([BG_62m, m_62m], axis=1).astype('Int64')\n",
        "BG_62m.rename(columns = {0:'m'}, inplace = True)"
      ],
      "metadata": {
        "id": "ds1ZQHU9LtM2"
      },
      "execution_count": null,
      "outputs": []
    },
    {
      "cell_type": "code",
      "source": [
        "m_C10_KS = pd.DataFrame()  \n",
        "m = BG_C10_KS[\"Breath.Group\"].value_counts().sort_index()\n",
        "subset_IT = IntervalTimes[IntervalTimes[\"ID\"] == \"C10_KS\"]\n",
        "subset_IT.index = range(len(subset_IT.index))\n",
        "for a in range (0,len(subset_IT)):\n",
        "  m_current = pd.DataFrame(np.repeat(m.iloc[a], m.iloc[a], axis=0))\n",
        "  m_C10_KS = m_C10_KS.append([m_current], ignore_index = True)\n",
        "BG_C10_KS = pd.concat([BG_C10_KS, m_C10_KS], axis=1).astype('Int64')\n",
        "BG_C10_KS.rename(columns = {0:'m'}, inplace = True)"
      ],
      "metadata": {
        "id": "KlmXi9b8LtKa"
      },
      "execution_count": 265,
      "outputs": []
    },
    {
      "cell_type": "code",
      "source": [
        "m_C11_NP = pd.DataFrame()  \n",
        "m = BG_C11_NP[\"Breath.Group\"].value_counts().sort_index()\n",
        "subset_IT = IntervalTimes[IntervalTimes[\"ID\"] == \"C11_NP\"]\n",
        "subset_IT.index = range(len(subset_IT.index))\n",
        "for a in range (0,len(subset_IT)):\n",
        "  m_current = pd.DataFrame(np.repeat(m.iloc[a], m.iloc[a], axis=0))\n",
        "  m_C11_NP = m_C10_KS.append([m_current], ignore_index = True)\n",
        "BG_C11_NP = pd.concat([BG_C11_NP, m_C11_NP], axis=1).astype('Int64')\n",
        "BG_C11_NP.rename(columns = {0:'m'}, inplace = True)"
      ],
      "metadata": {
        "id": "1Af0yH0TLtHu"
      },
      "execution_count": 266,
      "outputs": []
    },
    {
      "cell_type": "code",
      "source": [
        "m_C12_CC = pd.DataFrame()  \n",
        "m = BG_C12_CC[\"Breath.Group\"].value_counts().sort_index()\n",
        "subset_IT = IntervalTimes[IntervalTimes[\"ID\"] == \"C12_CC\"]\n",
        "subset_IT.index = range(len(subset_IT.index))\n",
        "for a in range (0,len(subset_IT)):\n",
        "  m_current = pd.DataFrame(np.repeat(m.iloc[a], m.iloc[a], axis=0))\n",
        "  m_C12_CC = m_C12_CC.append([m_current], ignore_index = True)\n",
        "BG_C12_CC = pd.concat([BG_C12_CC, m_C12_CC], axis=1).astype('Int64')\n",
        "BG_C12_CC.rename(columns = {0:'m'}, inplace = True)"
      ],
      "metadata": {
        "id": "D1cxuQTKLtFU"
      },
      "execution_count": 267,
      "outputs": []
    },
    {
      "cell_type": "code",
      "source": [
        "m_C13_RG = pd.DataFrame()  \n",
        "m = BG_C13_RG[\"Breath.Group\"].value_counts().sort_index()\n",
        "subset_IT = IntervalTimes[IntervalTimes[\"ID\"] == \"C13_RG\"]\n",
        "subset_IT.index = range(len(subset_IT.index))\n",
        "for a in range (0,len(subset_IT)):\n",
        "  m_current = pd.DataFrame(np.repeat(m.iloc[a], m.iloc[a], axis=0))\n",
        "  m_C13_RG = m_C10_KS.append([m_current], ignore_index = True)\n",
        "BG_C13_RG = pd.concat([BG_C13_RG, m_C13_RG], axis=1).astype('Int64')\n",
        "BG_C13_RG.rename(columns = {0:'m'}, inplace = True)"
      ],
      "metadata": {
        "id": "mhGSPvdDND_d"
      },
      "execution_count": 268,
      "outputs": []
    },
    {
      "cell_type": "code",
      "source": [
        "m_C1_DS = pd.DataFrame()  \n",
        "m = BG_C1_DS[\"Breath.Group\"].value_counts().sort_index()\n",
        "subset_IT = IntervalTimes[IntervalTimes[\"ID\"] == \"C1_DS\"]\n",
        "subset_IT.index = range(len(subset_IT.index))\n",
        "for a in range (0,len(subset_IT)):\n",
        "  m_current = pd.DataFrame(np.repeat(m.iloc[a], m.iloc[a], axis=0))\n",
        "  m_C1_DS = m_C1_DS.append([m_current], ignore_index = True)\n",
        "BG_C1_DS = pd.concat([BG_C1_DS, m_C1_DS], axis=1).astype('Int64')\n",
        "BG_C1_DS.rename(columns = {0:'m'}, inplace = True)"
      ],
      "metadata": {
        "id": "InwjD6PXNQ4G"
      },
      "execution_count": 269,
      "outputs": []
    },
    {
      "cell_type": "code",
      "source": [
        "m_C2_JH = pd.DataFrame()  \n",
        "m = BG_C2_JH[\"Breath.Group\"].value_counts().sort_index()\n",
        "subset_IT = IntervalTimes[IntervalTimes[\"ID\"] == \"C2_JH\"]\n",
        "subset_IT.index = range(len(subset_IT.index))\n",
        "for a in range (0,len(subset_IT)):\n",
        "  m_current = pd.DataFrame(np.repeat(m.iloc[a], m.iloc[a], axis=0))\n",
        "  m_C2_JH = m_C2_JH.append([m_current], ignore_index = True)\n",
        "BG_C2_JH = pd.concat([BG_C2_JH, m_C2_JH], axis=1).astype('Int64')\n",
        "BG_C2_JH.rename(columns = {0:'m'}, inplace = True)"
      ],
      "metadata": {
        "id": "XNuenl7ENbOa"
      },
      "execution_count": 272,
      "outputs": []
    },
    {
      "cell_type": "code",
      "source": [
        "m_C3_MD = pd.DataFrame()  \n",
        "m = BG_C3_MD[\"Breath.Group\"].value_counts().sort_index()\n",
        "subset_IT = IntervalTimes[IntervalTimes[\"ID\"] == \"C3_MD\"]\n",
        "subset_IT.index = range(len(subset_IT.index))\n",
        "for a in range (0,len(subset_IT)):\n",
        "  m_current = pd.DataFrame(np.repeat(m.iloc[a], m.iloc[a], axis=0))\n",
        "  m_C3_MD = m_C3_MD.append([m_current], ignore_index = True)\n",
        "BG_C3_MD = pd.concat([BG_C3_MD, m_C3_MD], axis=1).astype('Int64')\n",
        "BG_C3_MD.rename(columns = {0:'m'}, inplace = True)"
      ],
      "metadata": {
        "id": "QgSvauCMNbD-"
      },
      "execution_count": 274,
      "outputs": []
    },
    {
      "cell_type": "code",
      "source": [
        "m_C4_ZO = pd.DataFrame()  \n",
        "m = BG_C4_ZO[\"Breath.Group\"].value_counts().sort_index()\n",
        "subset_IT = IntervalTimes[IntervalTimes[\"ID\"] == \"C4_ZO\"]\n",
        "subset_IT.index = range(len(subset_IT.index))\n",
        "for a in range (0,len(subset_IT)):\n",
        "  m_current = pd.DataFrame(np.repeat(m.iloc[a], m.iloc[a], axis=0))\n",
        "  m_C4_ZO = m_C4_ZO.append([m_current], ignore_index = True)\n",
        "BG_C4_ZO = pd.concat([BG_C4_ZO, m_C4_ZO], axis=1).astype('Int64')\n",
        "BG_C4_ZO.rename(columns = {0:'m'}, inplace = True)"
      ],
      "metadata": {
        "id": "f82mq7BFNbAe"
      },
      "execution_count": 275,
      "outputs": []
    },
    {
      "cell_type": "code",
      "source": [
        "m_C5_HL = pd.DataFrame()  \n",
        "m = BG_C5_HL[\"Breath.Group\"].value_counts().sort_index()\n",
        "subset_IT = IntervalTimes[IntervalTimes[\"ID\"] == \"C5_HL\"]\n",
        "subset_IT.index = range(len(subset_IT.index))\n",
        "for a in range (0,len(subset_IT)):\n",
        "  m_current = pd.DataFrame(np.repeat(m.iloc[a], m.iloc[a], axis=0))\n",
        "  m_C5_HL = m_C5_HL.append([m_current], ignore_index = True)\n",
        "BG_C5_HL = pd.concat([BG_C5_HL, m_C5_HL], axis=1).astype('Int64')\n",
        "BG_C5_HL.rename(columns = {0:'m'}, inplace = True)"
      ],
      "metadata": {
        "id": "GH-q9IS3Na-A"
      },
      "execution_count": 276,
      "outputs": []
    },
    {
      "cell_type": "code",
      "source": [
        "m_C6_LH = pd.DataFrame()  \n",
        "m = BG_C6_LH[\"Breath.Group\"].value_counts().sort_index()\n",
        "subset_IT = IntervalTimes[IntervalTimes[\"ID\"] == \"C6_LH\"]\n",
        "subset_IT.index = range(len(subset_IT.index))\n",
        "for a in range (0,len(subset_IT)):\n",
        "  m_current = pd.DataFrame(np.repeat(m.iloc[a], m.iloc[a], axis=0))\n",
        "  m_C6_LH = m_C6_LH.append([m_current], ignore_index = True)\n",
        "BG_C6_LH = pd.concat([BG_C6_LH, m_C6_LH], axis=1).astype('Int64')\n",
        "BG_C6_LH.rename(columns = {0:'m'}, inplace = True)"
      ],
      "metadata": {
        "id": "xpZezFJ0Na7Z"
      },
      "execution_count": 277,
      "outputs": []
    },
    {
      "cell_type": "code",
      "source": [
        "m_C7_SH = pd.DataFrame()  \n",
        "m = BG_C7_SH[\"Breath.Group\"].value_counts().sort_index()\n",
        "subset_IT = IntervalTimes[IntervalTimes[\"ID\"] == \"C7_SH\"]\n",
        "subset_IT.index = range(len(subset_IT.index))\n",
        "for a in range (0,len(subset_IT)):\n",
        "  m_current = pd.DataFrame(np.repeat(m.iloc[a], m.iloc[a], axis=0))\n",
        "  m_C7_SH = m_C7_SH.append([m_current], ignore_index = True)\n",
        "BG_C7_SH = pd.concat([BG_C7_SH, m_C7_SH], axis=1).astype('Int64')\n",
        "BG_C7_SH.rename(columns = {0:'m'}, inplace = True)"
      ],
      "metadata": {
        "id": "RyxrgoMyNa5C"
      },
      "execution_count": 278,
      "outputs": []
    },
    {
      "cell_type": "code",
      "source": [
        "m_C9_RD = pd.DataFrame()  \n",
        "m = BG_C9_RD[\"Breath.Group\"].value_counts().sort_index()\n",
        "subset_IT = IntervalTimes[IntervalTimes[\"ID\"] == \"C9_RD\"]\n",
        "subset_IT.index = range(len(subset_IT.index))\n",
        "for a in range (0,len(subset_IT)):\n",
        "  m_current = pd.DataFrame(np.repeat(m.iloc[a], m.iloc[a], axis=0))\n",
        "  m_C9_RD = m_C9_RD.append([m_current], ignore_index = True)\n",
        "BG_C9_RD = pd.concat([BG_C9_RD, m_C9_RD], axis=1).astype('Int64')\n",
        "BG_C9_RD.rename(columns = {0:'m'}, inplace = True)"
      ],
      "metadata": {
        "id": "oQXKYcyRNa2h"
      },
      "execution_count": 279,
      "outputs": []
    },
    {
      "cell_type": "code",
      "source": [
        "read_TextGrid_duration = pd.concat([read_TextGrid_duration, all], axis=1)"
      ],
      "metadata": {
        "id": "xCmg4v6VrfsN"
      },
      "execution_count": null,
      "outputs": []
    },
    {
      "cell_type": "code",
      "source": [
        "read_TextGrid_duration.rename(columns = {0:'Breath.Group'}, inplace = True)"
      ],
      "metadata": {
        "id": "AS9scta5tlhm"
      },
      "execution_count": null,
      "outputs": []
    },
    {
      "cell_type": "code",
      "source": [
        "read_TextGrid_duration.drop(['Unnamed: 0'], axis=1 , inplace = True)"
      ],
      "metadata": {
        "id": "jxp5GwHJujcu"
      },
      "execution_count": null,
      "outputs": []
    },
    {
      "cell_type": "code",
      "source": [
        "read_TextGrid_duration"
      ],
      "metadata": {
        "colab": {
          "base_uri": "https://localhost:8080/",
          "height": 423
        },
        "id": "Yuvs7C0yrjV9",
        "outputId": "2e91b16b-911c-4ed2-cf10-fb0c3e911913"
      },
      "execution_count": null,
      "outputs": [
        {
          "output_type": "execute_result",
          "data": {
            "text/plain": [
              "           ID       Type  Sound   Onset  Offset  Duration Breath.Group\n",
              "0        24fa    silence   \"sp\"   0.000   0.013     0.013            1\n",
              "1        24fa    silence   \"sp\"   0.013   0.143     0.130            1\n",
              "2        24fa  consonant    \"S\"   0.143   0.263     0.120            1\n",
              "3        24fa      vowel  \"OW1\"   0.263   0.343     0.080            1\n",
              "4        24fa  consonant   \"HH\"   0.343   0.482     0.139            1\n",
              "...       ...        ...    ...     ...     ...       ...          ...\n",
              "24338  C13_RG  consonant    \"N\"  87.881  87.910     0.029           33\n",
              "24339  C13_RG      vowel  \"EY2\"  87.910  88.081     0.171           33\n",
              "24340  C13_RG  consonant    \"M\"  88.081  88.191     0.110           33\n",
              "24341  C13_RG  consonant    \"Z\"  88.191  88.281     0.090           33\n",
              "24342  C13_RG    silence   \"sp\"  88.281  88.293     0.012          NaN\n",
              "\n",
              "[24343 rows x 7 columns]"
            ],
            "text/html": [
              "\n",
              "  <div id=\"df-44ca85c3-c0a5-465a-bdf5-1f63e67effa7\">\n",
              "    <div class=\"colab-df-container\">\n",
              "      <div>\n",
              "<style scoped>\n",
              "    .dataframe tbody tr th:only-of-type {\n",
              "        vertical-align: middle;\n",
              "    }\n",
              "\n",
              "    .dataframe tbody tr th {\n",
              "        vertical-align: top;\n",
              "    }\n",
              "\n",
              "    .dataframe thead th {\n",
              "        text-align: right;\n",
              "    }\n",
              "</style>\n",
              "<table border=\"1\" class=\"dataframe\">\n",
              "  <thead>\n",
              "    <tr style=\"text-align: right;\">\n",
              "      <th></th>\n",
              "      <th>ID</th>\n",
              "      <th>Type</th>\n",
              "      <th>Sound</th>\n",
              "      <th>Onset</th>\n",
              "      <th>Offset</th>\n",
              "      <th>Duration</th>\n",
              "      <th>Breath.Group</th>\n",
              "    </tr>\n",
              "  </thead>\n",
              "  <tbody>\n",
              "    <tr>\n",
              "      <th>0</th>\n",
              "      <td>24fa</td>\n",
              "      <td>silence</td>\n",
              "      <td>\"sp\"</td>\n",
              "      <td>0.000</td>\n",
              "      <td>0.013</td>\n",
              "      <td>0.013</td>\n",
              "      <td>1</td>\n",
              "    </tr>\n",
              "    <tr>\n",
              "      <th>1</th>\n",
              "      <td>24fa</td>\n",
              "      <td>silence</td>\n",
              "      <td>\"sp\"</td>\n",
              "      <td>0.013</td>\n",
              "      <td>0.143</td>\n",
              "      <td>0.130</td>\n",
              "      <td>1</td>\n",
              "    </tr>\n",
              "    <tr>\n",
              "      <th>2</th>\n",
              "      <td>24fa</td>\n",
              "      <td>consonant</td>\n",
              "      <td>\"S\"</td>\n",
              "      <td>0.143</td>\n",
              "      <td>0.263</td>\n",
              "      <td>0.120</td>\n",
              "      <td>1</td>\n",
              "    </tr>\n",
              "    <tr>\n",
              "      <th>3</th>\n",
              "      <td>24fa</td>\n",
              "      <td>vowel</td>\n",
              "      <td>\"OW1\"</td>\n",
              "      <td>0.263</td>\n",
              "      <td>0.343</td>\n",
              "      <td>0.080</td>\n",
              "      <td>1</td>\n",
              "    </tr>\n",
              "    <tr>\n",
              "      <th>4</th>\n",
              "      <td>24fa</td>\n",
              "      <td>consonant</td>\n",
              "      <td>\"HH\"</td>\n",
              "      <td>0.343</td>\n",
              "      <td>0.482</td>\n",
              "      <td>0.139</td>\n",
              "      <td>1</td>\n",
              "    </tr>\n",
              "    <tr>\n",
              "      <th>...</th>\n",
              "      <td>...</td>\n",
              "      <td>...</td>\n",
              "      <td>...</td>\n",
              "      <td>...</td>\n",
              "      <td>...</td>\n",
              "      <td>...</td>\n",
              "      <td>...</td>\n",
              "    </tr>\n",
              "    <tr>\n",
              "      <th>24338</th>\n",
              "      <td>C13_RG</td>\n",
              "      <td>consonant</td>\n",
              "      <td>\"N\"</td>\n",
              "      <td>87.881</td>\n",
              "      <td>87.910</td>\n",
              "      <td>0.029</td>\n",
              "      <td>33</td>\n",
              "    </tr>\n",
              "    <tr>\n",
              "      <th>24339</th>\n",
              "      <td>C13_RG</td>\n",
              "      <td>vowel</td>\n",
              "      <td>\"EY2\"</td>\n",
              "      <td>87.910</td>\n",
              "      <td>88.081</td>\n",
              "      <td>0.171</td>\n",
              "      <td>33</td>\n",
              "    </tr>\n",
              "    <tr>\n",
              "      <th>24340</th>\n",
              "      <td>C13_RG</td>\n",
              "      <td>consonant</td>\n",
              "      <td>\"M\"</td>\n",
              "      <td>88.081</td>\n",
              "      <td>88.191</td>\n",
              "      <td>0.110</td>\n",
              "      <td>33</td>\n",
              "    </tr>\n",
              "    <tr>\n",
              "      <th>24341</th>\n",
              "      <td>C13_RG</td>\n",
              "      <td>consonant</td>\n",
              "      <td>\"Z\"</td>\n",
              "      <td>88.191</td>\n",
              "      <td>88.281</td>\n",
              "      <td>0.090</td>\n",
              "      <td>33</td>\n",
              "    </tr>\n",
              "    <tr>\n",
              "      <th>24342</th>\n",
              "      <td>C13_RG</td>\n",
              "      <td>silence</td>\n",
              "      <td>\"sp\"</td>\n",
              "      <td>88.281</td>\n",
              "      <td>88.293</td>\n",
              "      <td>0.012</td>\n",
              "      <td>NaN</td>\n",
              "    </tr>\n",
              "  </tbody>\n",
              "</table>\n",
              "<p>24343 rows × 7 columns</p>\n",
              "</div>\n",
              "      <button class=\"colab-df-convert\" onclick=\"convertToInteractive('df-44ca85c3-c0a5-465a-bdf5-1f63e67effa7')\"\n",
              "              title=\"Convert this dataframe to an interactive table.\"\n",
              "              style=\"display:none;\">\n",
              "        \n",
              "  <svg xmlns=\"http://www.w3.org/2000/svg\" height=\"24px\"viewBox=\"0 0 24 24\"\n",
              "       width=\"24px\">\n",
              "    <path d=\"M0 0h24v24H0V0z\" fill=\"none\"/>\n",
              "    <path d=\"M18.56 5.44l.94 2.06.94-2.06 2.06-.94-2.06-.94-.94-2.06-.94 2.06-2.06.94zm-11 1L8.5 8.5l.94-2.06 2.06-.94-2.06-.94L8.5 2.5l-.94 2.06-2.06.94zm10 10l.94 2.06.94-2.06 2.06-.94-2.06-.94-.94-2.06-.94 2.06-2.06.94z\"/><path d=\"M17.41 7.96l-1.37-1.37c-.4-.4-.92-.59-1.43-.59-.52 0-1.04.2-1.43.59L10.3 9.45l-7.72 7.72c-.78.78-.78 2.05 0 2.83L4 21.41c.39.39.9.59 1.41.59.51 0 1.02-.2 1.41-.59l7.78-7.78 2.81-2.81c.8-.78.8-2.07 0-2.86zM5.41 20L4 18.59l7.72-7.72 1.47 1.35L5.41 20z\"/>\n",
              "  </svg>\n",
              "      </button>\n",
              "      \n",
              "  <style>\n",
              "    .colab-df-container {\n",
              "      display:flex;\n",
              "      flex-wrap:wrap;\n",
              "      gap: 12px;\n",
              "    }\n",
              "\n",
              "    .colab-df-convert {\n",
              "      background-color: #E8F0FE;\n",
              "      border: none;\n",
              "      border-radius: 50%;\n",
              "      cursor: pointer;\n",
              "      display: none;\n",
              "      fill: #1967D2;\n",
              "      height: 32px;\n",
              "      padding: 0 0 0 0;\n",
              "      width: 32px;\n",
              "    }\n",
              "\n",
              "    .colab-df-convert:hover {\n",
              "      background-color: #E2EBFA;\n",
              "      box-shadow: 0px 1px 2px rgba(60, 64, 67, 0.3), 0px 1px 3px 1px rgba(60, 64, 67, 0.15);\n",
              "      fill: #174EA6;\n",
              "    }\n",
              "\n",
              "    [theme=dark] .colab-df-convert {\n",
              "      background-color: #3B4455;\n",
              "      fill: #D2E3FC;\n",
              "    }\n",
              "\n",
              "    [theme=dark] .colab-df-convert:hover {\n",
              "      background-color: #434B5C;\n",
              "      box-shadow: 0px 1px 3px 1px rgba(0, 0, 0, 0.15);\n",
              "      filter: drop-shadow(0px 1px 2px rgba(0, 0, 0, 0.3));\n",
              "      fill: #FFFFFF;\n",
              "    }\n",
              "  </style>\n",
              "\n",
              "      <script>\n",
              "        const buttonEl =\n",
              "          document.querySelector('#df-44ca85c3-c0a5-465a-bdf5-1f63e67effa7 button.colab-df-convert');\n",
              "        buttonEl.style.display =\n",
              "          google.colab.kernel.accessAllowed ? 'block' : 'none';\n",
              "\n",
              "        async function convertToInteractive(key) {\n",
              "          const element = document.querySelector('#df-44ca85c3-c0a5-465a-bdf5-1f63e67effa7');\n",
              "          const dataTable =\n",
              "            await google.colab.kernel.invokeFunction('convertToInteractive',\n",
              "                                                     [key], {});\n",
              "          if (!dataTable) return;\n",
              "\n",
              "          const docLinkHtml = 'Like what you see? Visit the ' +\n",
              "            '<a target=\"_blank\" href=https://colab.research.google.com/notebooks/data_table.ipynb>data table notebook</a>'\n",
              "            + ' to learn more about interactive tables.';\n",
              "          element.innerHTML = '';\n",
              "          dataTable['output_type'] = 'display_data';\n",
              "          await google.colab.output.renderOutput(dataTable, element);\n",
              "          const docLink = document.createElement('div');\n",
              "          docLink.innerHTML = docLinkHtml;\n",
              "          element.appendChild(docLink);\n",
              "        }\n",
              "      </script>\n",
              "    </div>\n",
              "  </div>\n",
              "  "
            ]
          },
          "metadata": {},
          "execution_count": 45
        }
      ]
    },
    {
      "cell_type": "markdown",
      "source": [
        "**6. Save File Created by Going Through Participants Individually**"
      ],
      "metadata": {
        "id": "yk0Uuyb5urLw"
      }
    },
    {
      "cell_type": "code",
      "source": [
        "%cd /content/gdrive/MyDrive/RhythmAnalysisPipeline/"
      ],
      "metadata": {
        "colab": {
          "base_uri": "https://localhost:8080/"
        },
        "id": "fV0RabSdvTKu",
        "outputId": "9d582202-d1fd-4861-e8d0-3ad137751d9d"
      },
      "execution_count": null,
      "outputs": [
        {
          "output_type": "stream",
          "name": "stdout",
          "text": [
            "/content/gdrive/MyDrive/RhythmAnalysisPipeline\n"
          ]
        }
      ]
    },
    {
      "cell_type": "code",
      "source": [
        "dir = \"2.BreathGroups_Assigned\"\n",
        "\n",
        "if os.path.exists(dir) == False:\n",
        "  os.mkdir(dir)"
      ],
      "metadata": {
        "id": "4AlmKk8huzlG"
      },
      "execution_count": null,
      "outputs": []
    },
    {
      "cell_type": "code",
      "source": [
        "%cd /content/gdrive/MyDrive/RhythmAnalysisPipeline/2.BreathGroups_Assigned/"
      ],
      "metadata": {
        "colab": {
          "base_uri": "https://localhost:8080/"
        },
        "id": "cDgOWplou6bn",
        "outputId": "6e8a1fe9-6f97-4c94-f769-037d59b819b2"
      },
      "execution_count": null,
      "outputs": [
        {
          "output_type": "stream",
          "name": "stdout",
          "text": [
            "/content/gdrive/MyDrive/RhythmAnalysisPipeline/2.BreathGroups_Assigned\n"
          ]
        }
      ]
    },
    {
      "cell_type": "code",
      "source": [
        "read_TextGrid_duration.to_excel(\"reading_TextGrid_comb_BG.xlsx\")"
      ],
      "metadata": {
        "id": "Z-KCpucnu68m"
      },
      "execution_count": null,
      "outputs": []
    },
    {
      "cell_type": "code",
      "source": [
        "%cd /content/gdrive/MyDrive/RhythmAnalysisPipeline/"
      ],
      "metadata": {
        "colab": {
          "base_uri": "https://localhost:8080/"
        },
        "id": "TNSaoFGIu9xO",
        "outputId": "4a945541-57cb-4d88-eaac-b9b65a82a833"
      },
      "execution_count": null,
      "outputs": [
        {
          "output_type": "stream",
          "name": "stdout",
          "text": [
            "/content/gdrive/MyDrive/RhythmAnalysisPipeline\n"
          ]
        }
      ]
    }
  ]
}