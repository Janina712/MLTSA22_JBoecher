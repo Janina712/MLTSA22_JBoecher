{
  "nbformat": 4,
  "nbformat_minor": 0,
  "metadata": {
    "colab": {
      "name": "BreathGroup.ipynb",
      "provenance": [],
      "collapsed_sections": [],
      "authorship_tag": "ABX9TyN1cal6g0nR/YgcgWhqrugz",
      "include_colab_link": true
    },
    "kernelspec": {
      "name": "python3",
      "display_name": "Python 3"
    },
    "language_info": {
      "name": "python"
    }
  },
  "cells": [
    {
      "cell_type": "markdown",
      "metadata": {
        "id": "view-in-github",
        "colab_type": "text"
      },
      "source": [
        "<a href=\"https://colab.research.google.com/github/Janina712/MLTSA22_JBoecher/blob/main/Other/BreathGroup.ipynb\" target=\"_parent\"><img src=\"https://colab.research.google.com/assets/colab-badge.svg\" alt=\"Open In Colab\"/></a>"
      ]
    },
    {
      "cell_type": "markdown",
      "source": [
        "**0. Imports & Set-Up**"
      ],
      "metadata": {
        "id": "M_pQxLwbr8Ia"
      }
    },
    {
      "cell_type": "code",
      "execution_count": 1,
      "metadata": {
        "id": "hciE536JqxMa"
      },
      "outputs": [],
      "source": [
        "import pandas as pd\n",
        "import numpy as np \n",
        "import os"
      ]
    },
    {
      "cell_type": "code",
      "source": [
        "from google.colab import drive\n",
        "drive.mount(\"/content/gdrive\")"
      ],
      "metadata": {
        "colab": {
          "base_uri": "https://localhost:8080/"
        },
        "id": "CXrAmWgiq2w6",
        "outputId": "76f9fa4d-e4be-450e-d5d9-7c65594da6fb"
      },
      "execution_count": 2,
      "outputs": [
        {
          "output_type": "stream",
          "name": "stdout",
          "text": [
            "Drive already mounted at /content/gdrive; to attempt to forcibly remount, call drive.mount(\"/content/gdrive\", force_remount=True).\n"
          ]
        }
      ]
    },
    {
      "cell_type": "code",
      "source": [
        "%cd /content/gdrive/MyDrive/RhythmAnalysisPipeline/1.CombinedInputFiles/"
      ],
      "metadata": {
        "colab": {
          "base_uri": "https://localhost:8080/"
        },
        "id": "h49Pxtneq4pi",
        "outputId": "6d3399ef-fd42-4177-ca51-cf1e72113d14"
      },
      "execution_count": 97,
      "outputs": [
        {
          "output_type": "stream",
          "name": "stdout",
          "text": [
            "/content/gdrive/MyDrive/RhythmAnalysisPipeline/1.CombinedInputFiles\n"
          ]
        }
      ]
    },
    {
      "cell_type": "code",
      "source": [
        "read_TextGrid_duration = pd.read_excel(\"read_TextGrid_comb.xlsx\")\n",
        "df_read_txt_wide = pd.read_excel(\"read_txt_comb.xlsx\")"
      ],
      "metadata": {
        "id": "XfXbHjqGrAlS"
      },
      "execution_count": 98,
      "outputs": []
    },
    {
      "cell_type": "markdown",
      "source": [
        "**1. Create empty dataframe row to store BG assignment**"
      ],
      "metadata": {
        "id": "HQh4Xvm8sElx"
      }
    },
    {
      "cell_type": "code",
      "source": [
        "BG_col = pd.DataFrame()"
      ],
      "metadata": {
        "id": "BKAogp6BsLID"
      },
      "execution_count": 99,
      "outputs": []
    },
    {
      "cell_type": "markdown",
      "source": [
        "**2. Create variables needed inside loop**"
      ],
      "metadata": {
        "id": "UYmFeNphsW5x"
      }
    },
    {
      "cell_type": "code",
      "source": [
        "IDs = ['24fa', '24ma', '24mb', '26f', '29ma', '29mb', '29mc', '32m', '34m', '35mb', '46ma', '50fa', '50fb', '54f', '57m', '60m', '62f', '62m', 'C10_KS', 'C11_NP', 'C12_CC', 'C13_RG','C1_DS', 'C2_JH', 'C3_MD', 'C4_ZO', 'C5_HL', 'C6_LH', 'C7_SH', 'C9_RD']"
      ],
      "metadata": {
        "id": "KbM6M0Mjshwg"
      },
      "execution_count": 100,
      "outputs": []
    },
    {
      "cell_type": "code",
      "source": [
        "IntervalTimes = df_read_txt_wide[['ID', 'Offset']] "
      ],
      "metadata": {
        "id": "PsX09N5_t6jB"
      },
      "execution_count": 101,
      "outputs": []
    },
    {
      "cell_type": "code",
      "source": [
        "Offsets_all = read_TextGrid_duration[['ID', 'Offset']]"
      ],
      "metadata": {
        "id": "j9VU1TISt_W4"
      },
      "execution_count": 102,
      "outputs": []
    },
    {
      "cell_type": "code",
      "source": [
        "ID_freq_sound = read_TextGrid_duration['ID'].value_counts().sort_index()"
      ],
      "metadata": {
        "id": "4Rr457rLB3JF"
      },
      "execution_count": 103,
      "outputs": []
    },
    {
      "cell_type": "markdown",
      "source": [
        "**3. Assign Breath Groups for All Participants in a Loop**"
      ],
      "metadata": {
        "id": "aoYITrAdLRcJ"
      }
    },
    {
      "cell_type": "code",
      "source": [
        "n = -1"
      ],
      "metadata": {
        "id": "Ccs6PWEGLLUQ"
      },
      "execution_count": 104,
      "outputs": []
    },
    {
      "cell_type": "code",
      "source": [
        "for ID in IDs:\n",
        "  n = n + 1\n",
        "  BG_current = pd.DataFrame(index=range(int(ID_freq_sound[n])),columns=range(1))\n",
        "  subset_IT = IntervalTimes[IntervalTimes[\"ID\"] == ID]\n",
        "  subset_IT.index = range(len(subset_IT.index))\n",
        "  subset_sounds = Offsets_all[Offsets_all[\"ID\"] == ID]\n",
        "  subset_sounds.index = range(len(subset_sounds.index))\n",
        "  for j in range(0,len(subset_IT)): # index over range of utterances from participant\n",
        "    for i in range(0,len(subset_sounds)-1): # index over sounds from participant\n",
        "      if subset_sounds[\"Offset\"][i] <= subset_IT[\"Offset\"][j]:\n",
        "        if pd.isna(BG_current[0][i]) == True:\n",
        "          BG_current[0][i] = j+1 # assign number of breath group to corresponding row\n",
        "  BG_col = BG_col.append([BG_current], ignore_index=True)\n"
      ],
      "metadata": {
        "id": "ScTqncKTLIxI"
      },
      "execution_count": 105,
      "outputs": []
    },
    {
      "cell_type": "code",
      "source": [
        "read_TextGrid_duration = pd.concat([read_TextGrid_duration, BG_col], axis=1)"
      ],
      "metadata": {
        "id": "6wsYmoPXLc32"
      },
      "execution_count": 106,
      "outputs": []
    },
    {
      "cell_type": "code",
      "source": [
        "read_TextGrid_duration.rename(columns = {0:'Breath.Group'}, inplace = True)"
      ],
      "metadata": {
        "id": "qHrevmFJLflJ"
      },
      "execution_count": 108,
      "outputs": []
    },
    {
      "cell_type": "code",
      "source": [
        "read_TextGrid_duration.drop(['Unnamed: 0'], axis=1 , inplace = True)"
      ],
      "metadata": {
        "id": "9Bb5VC-nLfZN"
      },
      "execution_count": 109,
      "outputs": []
    },
    {
      "cell_type": "code",
      "source": [
        "read_TextGrid_duration"
      ],
      "metadata": {
        "colab": {
          "base_uri": "https://localhost:8080/",
          "height": 423
        },
        "id": "y_6RNvRcLoFU",
        "outputId": "82071a14-1b55-4cd4-9701-d07b838a7ea0"
      },
      "execution_count": 110,
      "outputs": [
        {
          "output_type": "execute_result",
          "data": {
            "text/plain": [
              "           ID       Type  Sound   Onset  Offset  Duration Breath.Group\n",
              "0        24fa    silence   \"sp\"   0.000   0.013     0.013            1\n",
              "1        24fa    silence   \"sp\"   0.013   0.143     0.130            1\n",
              "2        24fa  consonant    \"S\"   0.143   0.263     0.120            1\n",
              "3        24fa      vowel  \"OW1\"   0.263   0.343     0.080            1\n",
              "4        24fa  consonant   \"HH\"   0.343   0.482     0.139            1\n",
              "...       ...        ...    ...     ...     ...       ...          ...\n",
              "24338  C13_RG  consonant    \"N\"  87.881  87.910     0.029           28\n",
              "24339  C13_RG      vowel  \"EY2\"  87.910  88.081     0.171           28\n",
              "24340  C13_RG  consonant    \"M\"  88.081  88.191     0.110           28\n",
              "24341  C13_RG  consonant    \"Z\"  88.191  88.281     0.090           28\n",
              "24342  C13_RG    silence   \"sp\"  88.281  88.293     0.012          NaN\n",
              "\n",
              "[24343 rows x 7 columns]"
            ],
            "text/html": [
              "\n",
              "  <div id=\"df-6d1acbad-647c-4d8f-a26c-79a18a12015a\">\n",
              "    <div class=\"colab-df-container\">\n",
              "      <div>\n",
              "<style scoped>\n",
              "    .dataframe tbody tr th:only-of-type {\n",
              "        vertical-align: middle;\n",
              "    }\n",
              "\n",
              "    .dataframe tbody tr th {\n",
              "        vertical-align: top;\n",
              "    }\n",
              "\n",
              "    .dataframe thead th {\n",
              "        text-align: right;\n",
              "    }\n",
              "</style>\n",
              "<table border=\"1\" class=\"dataframe\">\n",
              "  <thead>\n",
              "    <tr style=\"text-align: right;\">\n",
              "      <th></th>\n",
              "      <th>ID</th>\n",
              "      <th>Type</th>\n",
              "      <th>Sound</th>\n",
              "      <th>Onset</th>\n",
              "      <th>Offset</th>\n",
              "      <th>Duration</th>\n",
              "      <th>Breath.Group</th>\n",
              "    </tr>\n",
              "  </thead>\n",
              "  <tbody>\n",
              "    <tr>\n",
              "      <th>0</th>\n",
              "      <td>24fa</td>\n",
              "      <td>silence</td>\n",
              "      <td>\"sp\"</td>\n",
              "      <td>0.000</td>\n",
              "      <td>0.013</td>\n",
              "      <td>0.013</td>\n",
              "      <td>1</td>\n",
              "    </tr>\n",
              "    <tr>\n",
              "      <th>1</th>\n",
              "      <td>24fa</td>\n",
              "      <td>silence</td>\n",
              "      <td>\"sp\"</td>\n",
              "      <td>0.013</td>\n",
              "      <td>0.143</td>\n",
              "      <td>0.130</td>\n",
              "      <td>1</td>\n",
              "    </tr>\n",
              "    <tr>\n",
              "      <th>2</th>\n",
              "      <td>24fa</td>\n",
              "      <td>consonant</td>\n",
              "      <td>\"S\"</td>\n",
              "      <td>0.143</td>\n",
              "      <td>0.263</td>\n",
              "      <td>0.120</td>\n",
              "      <td>1</td>\n",
              "    </tr>\n",
              "    <tr>\n",
              "      <th>3</th>\n",
              "      <td>24fa</td>\n",
              "      <td>vowel</td>\n",
              "      <td>\"OW1\"</td>\n",
              "      <td>0.263</td>\n",
              "      <td>0.343</td>\n",
              "      <td>0.080</td>\n",
              "      <td>1</td>\n",
              "    </tr>\n",
              "    <tr>\n",
              "      <th>4</th>\n",
              "      <td>24fa</td>\n",
              "      <td>consonant</td>\n",
              "      <td>\"HH\"</td>\n",
              "      <td>0.343</td>\n",
              "      <td>0.482</td>\n",
              "      <td>0.139</td>\n",
              "      <td>1</td>\n",
              "    </tr>\n",
              "    <tr>\n",
              "      <th>...</th>\n",
              "      <td>...</td>\n",
              "      <td>...</td>\n",
              "      <td>...</td>\n",
              "      <td>...</td>\n",
              "      <td>...</td>\n",
              "      <td>...</td>\n",
              "      <td>...</td>\n",
              "    </tr>\n",
              "    <tr>\n",
              "      <th>24338</th>\n",
              "      <td>C13_RG</td>\n",
              "      <td>consonant</td>\n",
              "      <td>\"N\"</td>\n",
              "      <td>87.881</td>\n",
              "      <td>87.910</td>\n",
              "      <td>0.029</td>\n",
              "      <td>28</td>\n",
              "    </tr>\n",
              "    <tr>\n",
              "      <th>24339</th>\n",
              "      <td>C13_RG</td>\n",
              "      <td>vowel</td>\n",
              "      <td>\"EY2\"</td>\n",
              "      <td>87.910</td>\n",
              "      <td>88.081</td>\n",
              "      <td>0.171</td>\n",
              "      <td>28</td>\n",
              "    </tr>\n",
              "    <tr>\n",
              "      <th>24340</th>\n",
              "      <td>C13_RG</td>\n",
              "      <td>consonant</td>\n",
              "      <td>\"M\"</td>\n",
              "      <td>88.081</td>\n",
              "      <td>88.191</td>\n",
              "      <td>0.110</td>\n",
              "      <td>28</td>\n",
              "    </tr>\n",
              "    <tr>\n",
              "      <th>24341</th>\n",
              "      <td>C13_RG</td>\n",
              "      <td>consonant</td>\n",
              "      <td>\"Z\"</td>\n",
              "      <td>88.191</td>\n",
              "      <td>88.281</td>\n",
              "      <td>0.090</td>\n",
              "      <td>28</td>\n",
              "    </tr>\n",
              "    <tr>\n",
              "      <th>24342</th>\n",
              "      <td>C13_RG</td>\n",
              "      <td>silence</td>\n",
              "      <td>\"sp\"</td>\n",
              "      <td>88.281</td>\n",
              "      <td>88.293</td>\n",
              "      <td>0.012</td>\n",
              "      <td>NaN</td>\n",
              "    </tr>\n",
              "  </tbody>\n",
              "</table>\n",
              "<p>24343 rows × 7 columns</p>\n",
              "</div>\n",
              "      <button class=\"colab-df-convert\" onclick=\"convertToInteractive('df-6d1acbad-647c-4d8f-a26c-79a18a12015a')\"\n",
              "              title=\"Convert this dataframe to an interactive table.\"\n",
              "              style=\"display:none;\">\n",
              "        \n",
              "  <svg xmlns=\"http://www.w3.org/2000/svg\" height=\"24px\"viewBox=\"0 0 24 24\"\n",
              "       width=\"24px\">\n",
              "    <path d=\"M0 0h24v24H0V0z\" fill=\"none\"/>\n",
              "    <path d=\"M18.56 5.44l.94 2.06.94-2.06 2.06-.94-2.06-.94-.94-2.06-.94 2.06-2.06.94zm-11 1L8.5 8.5l.94-2.06 2.06-.94-2.06-.94L8.5 2.5l-.94 2.06-2.06.94zm10 10l.94 2.06.94-2.06 2.06-.94-2.06-.94-.94-2.06-.94 2.06-2.06.94z\"/><path d=\"M17.41 7.96l-1.37-1.37c-.4-.4-.92-.59-1.43-.59-.52 0-1.04.2-1.43.59L10.3 9.45l-7.72 7.72c-.78.78-.78 2.05 0 2.83L4 21.41c.39.39.9.59 1.41.59.51 0 1.02-.2 1.41-.59l7.78-7.78 2.81-2.81c.8-.78.8-2.07 0-2.86zM5.41 20L4 18.59l7.72-7.72 1.47 1.35L5.41 20z\"/>\n",
              "  </svg>\n",
              "      </button>\n",
              "      \n",
              "  <style>\n",
              "    .colab-df-container {\n",
              "      display:flex;\n",
              "      flex-wrap:wrap;\n",
              "      gap: 12px;\n",
              "    }\n",
              "\n",
              "    .colab-df-convert {\n",
              "      background-color: #E8F0FE;\n",
              "      border: none;\n",
              "      border-radius: 50%;\n",
              "      cursor: pointer;\n",
              "      display: none;\n",
              "      fill: #1967D2;\n",
              "      height: 32px;\n",
              "      padding: 0 0 0 0;\n",
              "      width: 32px;\n",
              "    }\n",
              "\n",
              "    .colab-df-convert:hover {\n",
              "      background-color: #E2EBFA;\n",
              "      box-shadow: 0px 1px 2px rgba(60, 64, 67, 0.3), 0px 1px 3px 1px rgba(60, 64, 67, 0.15);\n",
              "      fill: #174EA6;\n",
              "    }\n",
              "\n",
              "    [theme=dark] .colab-df-convert {\n",
              "      background-color: #3B4455;\n",
              "      fill: #D2E3FC;\n",
              "    }\n",
              "\n",
              "    [theme=dark] .colab-df-convert:hover {\n",
              "      background-color: #434B5C;\n",
              "      box-shadow: 0px 1px 3px 1px rgba(0, 0, 0, 0.15);\n",
              "      filter: drop-shadow(0px 1px 2px rgba(0, 0, 0, 0.3));\n",
              "      fill: #FFFFFF;\n",
              "    }\n",
              "  </style>\n",
              "\n",
              "      <script>\n",
              "        const buttonEl =\n",
              "          document.querySelector('#df-6d1acbad-647c-4d8f-a26c-79a18a12015a button.colab-df-convert');\n",
              "        buttonEl.style.display =\n",
              "          google.colab.kernel.accessAllowed ? 'block' : 'none';\n",
              "\n",
              "        async function convertToInteractive(key) {\n",
              "          const element = document.querySelector('#df-6d1acbad-647c-4d8f-a26c-79a18a12015a');\n",
              "          const dataTable =\n",
              "            await google.colab.kernel.invokeFunction('convertToInteractive',\n",
              "                                                     [key], {});\n",
              "          if (!dataTable) return;\n",
              "\n",
              "          const docLinkHtml = 'Like what you see? Visit the ' +\n",
              "            '<a target=\"_blank\" href=https://colab.research.google.com/notebooks/data_table.ipynb>data table notebook</a>'\n",
              "            + ' to learn more about interactive tables.';\n",
              "          element.innerHTML = '';\n",
              "          dataTable['output_type'] = 'display_data';\n",
              "          await google.colab.output.renderOutput(dataTable, element);\n",
              "          const docLink = document.createElement('div');\n",
              "          docLink.innerHTML = docLinkHtml;\n",
              "          element.appendChild(docLink);\n",
              "        }\n",
              "      </script>\n",
              "    </div>\n",
              "  </div>\n",
              "  "
            ]
          },
          "metadata": {},
          "execution_count": 110
        }
      ]
    },
    {
      "cell_type": "markdown",
      "source": [
        "**4. Save Results Created by Loop**"
      ],
      "metadata": {
        "id": "MOROZ6_JN4J2"
      }
    },
    {
      "cell_type": "code",
      "source": [
        "%cd /content/gdrive/MyDrive/RhythmAnalysisPipeline/"
      ],
      "metadata": {
        "id": "DRYEZzprNmy1"
      },
      "execution_count": null,
      "outputs": []
    },
    {
      "cell_type": "code",
      "source": [
        "dir = \"2.BreathGroups_Assigned\"\n",
        "\n",
        "if os.path.exists(dir) == False:\n",
        "  os.mkdir(dir)"
      ],
      "metadata": {
        "id": "oAP5Q1oENmD2"
      },
      "execution_count": null,
      "outputs": []
    },
    {
      "cell_type": "code",
      "source": [
        "%cd /content/gdrive/MyDrive/RhythmAnalysisPipeline/2.BreathGroups_Assigned/"
      ],
      "metadata": {
        "id": "z35Y-3SvNx3u"
      },
      "execution_count": null,
      "outputs": []
    },
    {
      "cell_type": "code",
      "source": [
        "read_TextGrid_duration.to_excel(\"reading_TextGrid_comb_BG_loop.xlsx\")"
      ],
      "metadata": {
        "id": "yd_crWIbNnlz"
      },
      "execution_count": null,
      "outputs": []
    },
    {
      "cell_type": "code",
      "source": [
        "%cd /content/gdrive/MyDrive/RhythmAnalysisPipeline/"
      ],
      "metadata": {
        "id": "vBZA3CW0NnZe"
      },
      "execution_count": null,
      "outputs": []
    },
    {
      "cell_type": "markdown",
      "source": [
        "**5. Assign Breath Groups for one Participant at a Time**"
      ],
      "metadata": {
        "id": "2YEU1Uycsiig"
      }
    },
    {
      "cell_type": "code",
      "source": [
        "BG_24fa = pd.DataFrame(index=range(int(ID_freq_sound[0])),columns=range(1))\n",
        "subset_IT = IntervalTimes[IntervalTimes[\"ID\"] == \"24fa\"]\n",
        "subset_IT.index = range(len(subset_IT.index))\n",
        "subset_sounds = Offsets_all[Offsets_all[\"ID\"] == \"24fa\"]\n",
        "subset_sounds.index = range(len(subset_sounds.index))\n",
        "for j in range(0,len(subset_IT)):\n",
        "  for i in range(0,len(subset_sounds)-1):\n",
        "    if subset_sounds[\"Offset\"][i] <= subset_IT[\"Offset\"][j]:\n",
        "      if pd.isna(BG_24fa[0][i]) == True:\n",
        "        BG_24fa[0][i] = j+1"
      ],
      "metadata": {
        "id": "689IW9s9jow4"
      },
      "execution_count": 10,
      "outputs": []
    },
    {
      "cell_type": "code",
      "source": [
        "BG_24ma = pd.DataFrame(index=range(int(ID_freq_sound[1])),columns=range(1))\n",
        "subset_IT = IntervalTimes[IntervalTimes[\"ID\"] == \"24ma\"]\n",
        "subset_IT.index = range(len(subset_IT.index))\n",
        "subset_sounds = Offsets_all[Offsets_all[\"ID\"] == \"24ma\"]\n",
        "subset_sounds.index = range(len(subset_sounds.index))\n",
        "for j in range(0,len(subset_IT)):\n",
        "  for i in range(0,len(subset_sounds)-1):\n",
        "    if subset_sounds[\"Offset\"][i] <= subset_IT[\"Offset\"][j]:\n",
        "      if pd.isna(BG_24ma[0][i]) == True:\n",
        "        BG_24ma[0][i] = j+1"
      ],
      "metadata": {
        "id": "z-pQEkpBjou6"
      },
      "execution_count": 11,
      "outputs": []
    },
    {
      "cell_type": "code",
      "source": [
        "BG_24mb = pd.DataFrame(index=range(int(ID_freq_sound[2])),columns=range(1))\n",
        "subset_IT = IntervalTimes[IntervalTimes[\"ID\"] == \"24mb\"]\n",
        "subset_IT.index = range(len(subset_IT.index))\n",
        "subset_sounds = Offsets_all[Offsets_all[\"ID\"] == \"24mb\"]\n",
        "subset_sounds.index = range(len(subset_sounds.index))\n",
        "for j in range(0,len(subset_IT)):\n",
        "  for i in range(0,len(subset_sounds)-1):\n",
        "    if subset_sounds[\"Offset\"][i] <= subset_IT[\"Offset\"][j]:\n",
        "      if pd.isna(BG_24mb[0][i]) == True:\n",
        "        BG_24mb[0][i] = j+1"
      ],
      "metadata": {
        "id": "nk2BaZxTjorR"
      },
      "execution_count": 12,
      "outputs": []
    },
    {
      "cell_type": "code",
      "source": [
        "BG_26f = pd.DataFrame(index=range(int(ID_freq_sound[3])),columns=range(1))\n",
        "subset_IT = IntervalTimes[IntervalTimes[\"ID\"] == \"26f\"]\n",
        "subset_IT.index = range(len(subset_IT.index))\n",
        "subset_sounds = Offsets_all[Offsets_all[\"ID\"] == \"26f\"]\n",
        "subset_sounds.index = range(len(subset_sounds.index))\n",
        "for j in range(0,len(subset_IT)):\n",
        "  for i in range(0,len(subset_sounds)-1):\n",
        "    if subset_sounds[\"Offset\"][i] <= subset_IT[\"Offset\"][j]:\n",
        "      if pd.isna(BG_26f[0][i]) == True:\n",
        "        BG_26f[0][i] = j+1"
      ],
      "metadata": {
        "id": "q8wOC3jWjons"
      },
      "execution_count": 13,
      "outputs": []
    },
    {
      "cell_type": "code",
      "source": [
        "BG_29ma = pd.DataFrame(index=range(int(ID_freq_sound[4])),columns=range(1))\n",
        "subset_IT = IntervalTimes[IntervalTimes[\"ID\"] == \"29ma\"]\n",
        "subset_IT.index = range(len(subset_IT.index))\n",
        "subset_sounds = Offsets_all[Offsets_all[\"ID\"] == \"29ma\"]\n",
        "subset_sounds.index = range(len(subset_sounds.index))\n",
        "for j in range(0,len(subset_IT)):\n",
        "  for i in range(0,len(subset_sounds)-1):\n",
        "    if subset_sounds[\"Offset\"][i] <= subset_IT[\"Offset\"][j]:\n",
        "      if pd.isna(BG_29ma[0][i]) == True:\n",
        "        BG_29ma[0][i] = j+1"
      ],
      "metadata": {
        "id": "RNJUIVIHjokg"
      },
      "execution_count": 14,
      "outputs": []
    },
    {
      "cell_type": "code",
      "source": [
        "BG_29mb = pd.DataFrame(index=range(int(ID_freq_sound[5])),columns=range(1))\n",
        "subset_IT = IntervalTimes[IntervalTimes[\"ID\"] == \"29mb\"]\n",
        "subset_IT.index = range(len(subset_IT.index))\n",
        "subset_sounds = Offsets_all[Offsets_all[\"ID\"] == \"29mb\"]\n",
        "subset_sounds.index = range(len(subset_sounds.index))\n",
        "for j in range(0,len(subset_IT)):\n",
        "  for i in range(0,len(subset_sounds)-1):\n",
        "    if subset_sounds[\"Offset\"][i] <= subset_IT[\"Offset\"][j]:\n",
        "      if pd.isna(BG_29mb[0][i]) == True:\n",
        "        BG_29mb[0][i] = j+1"
      ],
      "metadata": {
        "id": "JULyVwq_jogK"
      },
      "execution_count": 15,
      "outputs": []
    },
    {
      "cell_type": "code",
      "source": [
        "BG_29mc = pd.DataFrame(index=range(int(ID_freq_sound[6])),columns=range(1))\n",
        "subset_IT = IntervalTimes[IntervalTimes[\"ID\"] == \"29mc\"]\n",
        "subset_IT.index = range(len(subset_IT.index))\n",
        "subset_sounds = Offsets_all[Offsets_all[\"ID\"] == \"29mc\"]\n",
        "subset_sounds.index = range(len(subset_sounds.index))\n",
        "for j in range(0,len(subset_IT)):\n",
        "  for i in range(0,len(subset_sounds)-1):\n",
        "    if subset_sounds[\"Offset\"][i] <= subset_IT[\"Offset\"][j]:\n",
        "      if pd.isna(BG_29mc[0][i]) == True:\n",
        "        BG_29mc[0][i] = j+1"
      ],
      "metadata": {
        "id": "rdqm9bxljobQ"
      },
      "execution_count": 16,
      "outputs": []
    },
    {
      "cell_type": "code",
      "source": [
        "BG_32m = pd.DataFrame(index=range(int(ID_freq_sound[7])),columns=range(1))\n",
        "subset_IT = IntervalTimes[IntervalTimes[\"ID\"] == \"32m\"]\n",
        "subset_IT.index = range(len(subset_IT.index))\n",
        "subset_sounds = Offsets_all[Offsets_all[\"ID\"] == \"32m\"]\n",
        "subset_sounds.index = range(len(subset_sounds.index))\n",
        "for j in range(0,len(subset_IT)):\n",
        "  for i in range(0,len(subset_sounds)-1):\n",
        "    if subset_sounds[\"Offset\"][i] <= subset_IT[\"Offset\"][j]:\n",
        "      if pd.isna(BG_32m[0][i]) == True:\n",
        "        BG_32m[0][i] = j+1"
      ],
      "metadata": {
        "id": "T8NMJ8jB1aIE"
      },
      "execution_count": 17,
      "outputs": []
    },
    {
      "cell_type": "code",
      "source": [
        "BG_34m = pd.DataFrame(index=range(int(ID_freq_sound[8])),columns=range(1))\n",
        "subset_IT = IntervalTimes[IntervalTimes[\"ID\"] == \"34m\"]\n",
        "subset_IT.index = range(len(subset_IT.index))\n",
        "subset_sounds = Offsets_all[Offsets_all[\"ID\"] == \"34m\"]\n",
        "subset_sounds.index = range(len(subset_sounds.index))\n",
        "for j in range(0,len(subset_IT)):\n",
        "  for i in range(0,len(subset_sounds)-1):\n",
        "    if subset_sounds[\"Offset\"][i] <= subset_IT[\"Offset\"][j]:\n",
        "      if pd.isna(BG_34m[0][i]) == True:\n",
        "        BG_34m[0][i] = j+1"
      ],
      "metadata": {
        "id": "QLTUguOojoQI"
      },
      "execution_count": 18,
      "outputs": []
    },
    {
      "cell_type": "code",
      "source": [
        "BG_35mb = pd.DataFrame(index=range(int(ID_freq_sound[9])),columns=range(1))\n",
        "subset_IT = IntervalTimes[IntervalTimes[\"ID\"] == \"35mb\"]\n",
        "subset_IT.index = range(len(subset_IT.index))\n",
        "subset_sounds = Offsets_all[Offsets_all[\"ID\"] == \"35mb\"]\n",
        "subset_sounds.index = range(len(subset_sounds.index))\n",
        "for j in range(0,len(subset_IT)):\n",
        "  for i in range(0,len(subset_sounds)-1):\n",
        "    if subset_sounds[\"Offset\"][i] <= subset_IT[\"Offset\"][j]:\n",
        "      if pd.isna(BG_35mb[0][i]) == True:\n",
        "        BG_35mb[0][i] = j+1"
      ],
      "metadata": {
        "id": "S1LQyPfAkq3B"
      },
      "execution_count": 19,
      "outputs": []
    },
    {
      "cell_type": "code",
      "source": [
        "BG_46ma = pd.DataFrame(index=range(int(ID_freq_sound[10])),columns=range(1))\n",
        "subset_IT = IntervalTimes[IntervalTimes[\"ID\"] == \"46ma\"]\n",
        "subset_IT.index = range(len(subset_IT.index))\n",
        "subset_sounds = Offsets_all[Offsets_all[\"ID\"] == \"46ma\"]\n",
        "subset_sounds.index = range(len(subset_sounds.index))\n",
        "for j in range(0,len(subset_IT)):\n",
        "  for i in range(0,len(subset_sounds)-1):\n",
        "    if subset_sounds[\"Offset\"][i] <= subset_IT[\"Offset\"][j]:\n",
        "      if pd.isna(BG_46ma[0][i]) == True:\n",
        "        BG_46ma[0][i] = j+1"
      ],
      "metadata": {
        "id": "1EXu0t0fkqzi"
      },
      "execution_count": 20,
      "outputs": []
    },
    {
      "cell_type": "code",
      "source": [
        "BG_50fa = pd.DataFrame(index=range(int(ID_freq_sound[11])),columns=range(1))\n",
        "subset_IT = IntervalTimes[IntervalTimes[\"ID\"] == \"50fa\"]\n",
        "subset_IT.index = range(len(subset_IT.index))\n",
        "subset_sounds = Offsets_all[Offsets_all[\"ID\"] == \"50fa\"]\n",
        "subset_sounds.index = range(len(subset_sounds.index))\n",
        "for j in range(0,len(subset_IT)):\n",
        "  for i in range(0,len(subset_sounds)-1):\n",
        "    if subset_sounds[\"Offset\"][i] <= subset_IT[\"Offset\"][j]:\n",
        "      if pd.isna(BG_50fa[0][i]) == True:\n",
        "        BG_50fa[0][i] = j+1"
      ],
      "metadata": {
        "id": "oFhdXo8mkqwC"
      },
      "execution_count": 21,
      "outputs": []
    },
    {
      "cell_type": "code",
      "source": [
        "BG_50fb = pd.DataFrame(index=range(int(ID_freq_sound[12])),columns=range(1))\n",
        "subset_IT = IntervalTimes[IntervalTimes[\"ID\"] == \"50fb\"]\n",
        "subset_IT.index = range(len(subset_IT.index))\n",
        "subset_sounds = Offsets_all[Offsets_all[\"ID\"] == \"50fb\"]\n",
        "subset_sounds.index = range(len(subset_sounds.index))\n",
        "for j in range(0,len(subset_IT)):\n",
        "  for i in range(0,len(subset_sounds)-1):\n",
        "    if subset_sounds[\"Offset\"][i] <= subset_IT[\"Offset\"][j]:\n",
        "      if pd.isna(BG_50fb[0][i]) == True:\n",
        "        BG_50fb[0][i] = j+1"
      ],
      "metadata": {
        "id": "YJ8GDdBSkqsC"
      },
      "execution_count": 22,
      "outputs": []
    },
    {
      "cell_type": "code",
      "source": [
        "BG_54f = pd.DataFrame(index=range(int(ID_freq_sound[13])),columns=range(1))\n",
        "subset_IT = IntervalTimes[IntervalTimes[\"ID\"] == \"54f\"]\n",
        "subset_IT.index = range(len(subset_IT.index))\n",
        "subset_sounds = Offsets_all[Offsets_all[\"ID\"] == \"54f\"]\n",
        "subset_sounds.index = range(len(subset_sounds.index))\n",
        "for j in range(0,len(subset_IT)):\n",
        "  for i in range(0,len(subset_sounds)-1):\n",
        "    if subset_sounds[\"Offset\"][i] <= subset_IT[\"Offset\"][j]:\n",
        "      if pd.isna(BG_54f[0][i]) == True:\n",
        "        BG_54f[0][i] = j+1"
      ],
      "metadata": {
        "id": "bG8gwPs_kqoK"
      },
      "execution_count": 23,
      "outputs": []
    },
    {
      "cell_type": "code",
      "source": [
        "BG_57m = pd.DataFrame(index=range(int(ID_freq_sound[14])),columns=range(1))\n",
        "subset_IT = IntervalTimes[IntervalTimes[\"ID\"] == \"57m\"]\n",
        "subset_IT.index = range(len(subset_IT.index))\n",
        "subset_sounds = Offsets_all[Offsets_all[\"ID\"] == \"57m\"]\n",
        "subset_sounds.index = range(len(subset_sounds.index))\n",
        "for j in range(0,len(subset_IT)):\n",
        "  for i in range(0,len(subset_sounds)-1):\n",
        "    if subset_sounds[\"Offset\"][i] <= subset_IT[\"Offset\"][j]:\n",
        "      if pd.isna(BG_57m[0][i]) == True:\n",
        "        BG_57m[0][i] = j+1"
      ],
      "metadata": {
        "id": "gdURmHC2kqj5"
      },
      "execution_count": 24,
      "outputs": []
    },
    {
      "cell_type": "code",
      "source": [
        "BG_60m = pd.DataFrame(index=range(int(ID_freq_sound[15])),columns=range(1))\n",
        "subset_IT = IntervalTimes[IntervalTimes[\"ID\"] == \"60m\"]\n",
        "subset_IT.index = range(len(subset_IT.index))\n",
        "subset_sounds = Offsets_all[Offsets_all[\"ID\"] == \"60m\"]\n",
        "subset_sounds.index = range(len(subset_sounds.index))\n",
        "for j in range(0,len(subset_IT)):\n",
        "  for i in range(0,len(subset_sounds)-1):\n",
        "    if subset_sounds[\"Offset\"][i] <= subset_IT[\"Offset\"][j]:\n",
        "      if pd.isna(BG_60m[0][i]) == True:\n",
        "        BG_60m[0][i] = j+1"
      ],
      "metadata": {
        "id": "Gk4QohtJkqQB"
      },
      "execution_count": 25,
      "outputs": []
    },
    {
      "cell_type": "code",
      "source": [
        "BG_62f = pd.DataFrame(index=range(int(ID_freq_sound[16])),columns=range(1))\n",
        "subset_IT = IntervalTimes[IntervalTimes[\"ID\"] == \"62f\"]\n",
        "subset_IT.index = range(len(subset_IT.index))\n",
        "subset_sounds = Offsets_all[Offsets_all[\"ID\"] == \"62f\"]\n",
        "subset_sounds.index = range(len(subset_sounds.index))\n",
        "for j in range(0,len(subset_IT)):\n",
        "  for i in range(0,len(subset_sounds)-1):\n",
        "    if subset_sounds[\"Offset\"][i] <= subset_IT[\"Offset\"][j]:\n",
        "      if pd.isna(BG_62f[0][i]) == True:\n",
        "        BG_62f[0][i] = j+1"
      ],
      "metadata": {
        "id": "lkiivP5UllSk"
      },
      "execution_count": 26,
      "outputs": []
    },
    {
      "cell_type": "code",
      "source": [
        "BG_62m = pd.DataFrame(index=range(int(ID_freq_sound[17])),columns=range(1))\n",
        "subset_IT = IntervalTimes[IntervalTimes[\"ID\"] == \"62m\"]\n",
        "subset_IT.index = range(len(subset_IT.index))\n",
        "subset_sounds = Offsets_all[Offsets_all[\"ID\"] == \"62m\"]\n",
        "subset_sounds.index = range(len(subset_sounds.index))\n",
        "for j in range(0,len(subset_IT)):\n",
        "  for i in range(0,len(subset_sounds)-1):\n",
        "    if subset_sounds[\"Offset\"][i] <= subset_IT[\"Offset\"][j]:\n",
        "      if pd.isna(BG_62m[0][i]) == True:\n",
        "        BG_62m[0][i] = j+1"
      ],
      "metadata": {
        "id": "-F7o5WLrllLh"
      },
      "execution_count": 27,
      "outputs": []
    },
    {
      "cell_type": "code",
      "source": [
        "BG_C10_KS = pd.DataFrame(index=range((int(ID_freq_sound[18]))),columns=range(1))\n",
        "subset_IT = IntervalTimes[IntervalTimes[\"ID\"] == \"C10_KS\"]\n",
        "subset_IT.index = range(len(subset_IT.index))\n",
        "subset_sounds = Offsets_all[Offsets_all[\"ID\"] == \"C10_KS\"]\n",
        "subset_sounds.index = range(len(subset_sounds.index))\n",
        "for j in range(0,len(subset_IT)):\n",
        "  for i in range(0,len(subset_sounds)-1):\n",
        "    if subset_sounds[\"Offset\"][i] <= subset_IT[\"Offset\"][j]:\n",
        "      if pd.isna(BG_C10_KS[0][i]) == True:\n",
        "        BG_C10_KS[0][i] = j+1"
      ],
      "metadata": {
        "id": "qrrXHMUhmQDr"
      },
      "execution_count": 28,
      "outputs": []
    },
    {
      "cell_type": "code",
      "source": [
        "BG_C11_NP = pd.DataFrame(index=range(int(ID_freq_sound[19])),columns=range(1))\n",
        "subset_IT = IntervalTimes[IntervalTimes[\"ID\"] == \"C11_NP\"]\n",
        "subset_IT.index = range(len(subset_IT.index))\n",
        "subset_sounds = Offsets_all[Offsets_all[\"ID\"] == \"C11_NP\"]\n",
        "subset_sounds.index = range(len(subset_sounds.index))\n",
        "for j in range(0,len(subset_IT)):\n",
        "  for i in range(0,len(subset_sounds)-1):\n",
        "    if subset_sounds[\"Offset\"][i] <= subset_IT[\"Offset\"][j]:\n",
        "      if pd.isna(BG_C11_NP[0][i]) == True:\n",
        "        BG_C11_NP[0][i] = j+1"
      ],
      "metadata": {
        "id": "lZHbUgDpmVsP"
      },
      "execution_count": 29,
      "outputs": []
    },
    {
      "cell_type": "code",
      "source": [
        "BG_C12_CC = pd.DataFrame(index=range(int(ID_freq_sound[20])),columns=range(1))\n",
        "subset_IT = IntervalTimes[IntervalTimes[\"ID\"] == \"C12_CC\"]\n",
        "subset_IT.index = range(len(subset_IT.index))\n",
        "subset_sounds = Offsets_all[Offsets_all[\"ID\"] == \"C12_CC\"]\n",
        "subset_sounds.index = range(len(subset_sounds.index))\n",
        "for j in range(0,len(subset_IT)):\n",
        "  for i in range(0,len(subset_sounds)-1):\n",
        "    if subset_sounds[\"Offset\"][i] <= subset_IT[\"Offset\"][j]:\n",
        "      if pd.isna(BG_C12_CC[0][i]) == True:\n",
        "        BG_C12_CC[0][i] = j+1"
      ],
      "metadata": {
        "id": "-oYRQHODmWSr"
      },
      "execution_count": 30,
      "outputs": []
    },
    {
      "cell_type": "code",
      "source": [
        "BG_C13_RG = pd.DataFrame(index=range(int(ID_freq_sound[21])),columns=range(1))\n",
        "subset_IT = IntervalTimes[IntervalTimes[\"ID\"] == \"C13_RG\"]\n",
        "subset_IT.index = range(len(subset_IT.index))\n",
        "subset_sounds = Offsets_all[Offsets_all[\"ID\"] == \"C13_RG\"]\n",
        "subset_sounds.index = range(len(subset_sounds.index))\n",
        "for j in range(0,len(subset_IT)):\n",
        "  for i in range(0,len(subset_sounds)-1):\n",
        "    if subset_sounds[\"Offset\"][i] <= subset_IT[\"Offset\"][j]:\n",
        "      if pd.isna(BG_C13_RG[0][i]) == True:\n",
        "        BG_C13_RG[0][i] = j+1"
      ],
      "metadata": {
        "id": "gZyXTxXFmcdj"
      },
      "execution_count": 31,
      "outputs": []
    },
    {
      "cell_type": "code",
      "source": [
        "BG_C1_DS = pd.DataFrame(index=range(int(ID_freq_sound[22])),columns=range(1))\n",
        "subset_IT = IntervalTimes[IntervalTimes[\"ID\"] == \"C1_DS\"]\n",
        "subset_IT.index = range(len(subset_IT.index))\n",
        "subset_sounds = Offsets_all[Offsets_all[\"ID\"] == \"C1_DS\"]\n",
        "subset_sounds.index = range(len(subset_sounds.index))\n",
        "for j in range(0,len(subset_IT)):\n",
        "  for i in range(0,len(subset_sounds)-1):\n",
        "    if subset_sounds[\"Offset\"][i] <= subset_IT[\"Offset\"][j]:\n",
        "      if pd.isna(BG_C1_DS[0][i]) == True:\n",
        "        BG_C1_DS[0][i] = j+1"
      ],
      "metadata": {
        "id": "o0l2DrWSllED"
      },
      "execution_count": 32,
      "outputs": []
    },
    {
      "cell_type": "code",
      "source": [
        "BG_C2_JH = pd.DataFrame(index=range(int(ID_freq_sound[23])),columns=range(1))\n",
        "subset_IT = IntervalTimes[IntervalTimes[\"ID\"] == \"C2_JH\"]\n",
        "subset_IT.index = range(len(subset_IT.index))\n",
        "subset_sounds = Offsets_all[Offsets_all[\"ID\"] == \"C2_JH\"]\n",
        "subset_sounds.index = range(len(subset_sounds.index))\n",
        "for j in range(0,len(subset_IT)):\n",
        "  for i in range(0,len(subset_sounds)-1):\n",
        "    if subset_sounds[\"Offset\"][i] <= subset_IT[\"Offset\"][j]:\n",
        "      if pd.isna(BG_C2_JH[0][i]) == True:\n",
        "        BG_C2_JH[0][i] = j+1"
      ],
      "metadata": {
        "id": "GUQ9p0THmCKq"
      },
      "execution_count": 33,
      "outputs": []
    },
    {
      "cell_type": "code",
      "source": [
        "BG_C3_MD = pd.DataFrame(index=range((int(ID_freq_sound[24]))),columns=range(1))\n",
        "subset_IT = IntervalTimes[IntervalTimes[\"ID\"] == \"C3_MD\"]\n",
        "subset_IT.index = range(len(subset_IT.index))\n",
        "subset_sounds = Offsets_all[Offsets_all[\"ID\"] == \"C3_MD\"]\n",
        "subset_sounds.index = range(len(subset_sounds.index))\n",
        "BG_C3_MD = pd.DataFrame(index=range(len(subset_sounds.index)),columns=range(1))\n",
        "for j in range(0,len(subset_IT)):\n",
        "  for i in range(0,len(subset_sounds)-1):\n",
        "    if subset_sounds[\"Offset\"][i] <= subset_IT[\"Offset\"][j]:\n",
        "      if pd.isna(BG_C3_MD[0][i]) == True:\n",
        "        BG_C3_MD[0][i] = j+1"
      ],
      "metadata": {
        "id": "sYTrD_m9mCGK"
      },
      "execution_count": 34,
      "outputs": []
    },
    {
      "cell_type": "code",
      "source": [
        "BG_C4_ZO = pd.DataFrame(index=range((int(ID_freq_sound[25]))),columns=range(1))\n",
        "subset_IT = IntervalTimes[IntervalTimes[\"ID\"] == \"C4_ZO\"]\n",
        "subset_IT.index = range(len(subset_IT.index))\n",
        "subset_sounds = Offsets_all[Offsets_all[\"ID\"] == \"C4_ZO\"]\n",
        "subset_sounds.index = range(len(subset_sounds.index))\n",
        "for j in range(0,len(subset_IT)):\n",
        "  for i in range(0,len(subset_sounds)-1):\n",
        "    if subset_sounds[\"Offset\"][i] <= subset_IT[\"Offset\"][j]:\n",
        "      if pd.isna(BG_C4_ZO[0][i]) == True:\n",
        "        BG_C4_ZO[0][i] = j+1"
      ],
      "metadata": {
        "id": "J9YI9giWmCC5"
      },
      "execution_count": 35,
      "outputs": []
    },
    {
      "cell_type": "code",
      "source": [
        "BG_C5_HL = pd.DataFrame(index=range((int(ID_freq_sound[26]))),columns=range(1))\n",
        "subset_IT = IntervalTimes[IntervalTimes[\"ID\"] == \"C5_HL\"]\n",
        "subset_IT.index = range(len(subset_IT.index))\n",
        "subset_sounds = Offsets_all[Offsets_all[\"ID\"] == \"C5_HL\"]\n",
        "subset_sounds.index = range(len(subset_sounds.index))\n",
        "for j in range(0,len(subset_IT)):\n",
        "  for i in range(0,len(subset_sounds)-1):\n",
        "    if subset_sounds[\"Offset\"][i] <= subset_IT[\"Offset\"][j]:\n",
        "      if pd.isna(BG_C5_HL[0][i]) == True:\n",
        "        BG_C5_HL[0][i] = j+1"
      ],
      "metadata": {
        "id": "up_Z1Hn4mB_q"
      },
      "execution_count": 36,
      "outputs": []
    },
    {
      "cell_type": "code",
      "source": [
        "BG_C6_LH = pd.DataFrame(index=range((int(ID_freq_sound[27]))),columns=range(1))\n",
        "subset_IT = IntervalTimes[IntervalTimes[\"ID\"] == \"C6_LH\"]\n",
        "subset_IT.index = range(len(subset_IT.index))\n",
        "subset_sounds = Offsets_all[Offsets_all[\"ID\"] == \"C6_LH\"]\n",
        "subset_sounds.index = range(len(subset_sounds.index))\n",
        "for j in range(0,len(subset_IT)):\n",
        "  for i in range(0,len(subset_sounds)-1):\n",
        "    if subset_sounds[\"Offset\"][i] <= subset_IT[\"Offset\"][j]:\n",
        "      if pd.isna(BG_C6_LH[0][i]) == True:\n",
        "        BG_C6_LH[0][i] = j+1"
      ],
      "metadata": {
        "id": "oCiXgdk7mB8h"
      },
      "execution_count": 37,
      "outputs": []
    },
    {
      "cell_type": "code",
      "source": [
        "BG_C7_SH = pd.DataFrame(index=range(int(ID_freq_sound[28])),columns=range(1))\n",
        "subset_IT = IntervalTimes[IntervalTimes[\"ID\"] == \"C7_SH\"]\n",
        "subset_IT.index = range(len(subset_IT.index))\n",
        "subset_sounds = Offsets_all[Offsets_all[\"ID\"] == \"C7_SH\"]\n",
        "subset_sounds.index = range(len(subset_sounds.index))\n",
        "for j in range(0,len(subset_IT)):\n",
        "  for i in range(0,len(subset_sounds)-1):\n",
        "    if subset_sounds[\"Offset\"][i] <= subset_IT[\"Offset\"][j]:\n",
        "      if pd.isna(BG_C7_SH[0][i]) == True:\n",
        "        BG_C7_SH[0][i] = j+1"
      ],
      "metadata": {
        "id": "6e0r0iVGmB5h"
      },
      "execution_count": 38,
      "outputs": []
    },
    {
      "cell_type": "code",
      "source": [
        "BG_C9_RD = pd.DataFrame(index=range((int(ID_freq_sound[29]))),columns=range(1))\n",
        "subset_IT = IntervalTimes[IntervalTimes[\"ID\"] == \"C9_RD\"]\n",
        "subset_IT.index = range(len(subset_IT.index))\n",
        "subset_sounds = Offsets_all[Offsets_all[\"ID\"] == \"C9_RD\"]\n",
        "subset_sounds.index = range(len(subset_sounds.index))\n",
        "for j in range(0,len(subset_IT)):\n",
        "  for i in range(0,len(subset_sounds)-1):\n",
        "    if subset_sounds[\"Offset\"][i] <= subset_IT[\"Offset\"][j]:\n",
        "      if pd.isna(BG_C9_RD[0][i]) == True:\n",
        "        BG_C9_RD[0][i] = j+1"
      ],
      "metadata": {
        "id": "LmSru8BvmB1h"
      },
      "execution_count": 39,
      "outputs": []
    },
    {
      "cell_type": "code",
      "source": [
        "all = pd.DataFrame()"
      ],
      "metadata": {
        "id": "R4Fuzg-gtLPG"
      },
      "execution_count": 40,
      "outputs": []
    },
    {
      "cell_type": "code",
      "source": [
        "all = all.append([BG_24fa, BG_24ma, BG_24mb, BG_26f,BG_29ma, BG_29mb, BG_29mc, BG_32m, BG_34m, BG_35mb, BG_46ma, BG_50fa, BG_50fb, BG_54f, BG_57m, BG_60m, BG_62f, BG_62m, BG_C1_DS, BG_C2_JH, BG_C3_MD, BG_C4_ZO, BG_C5_HL, BG_C6_LH, BG_C7_SH, BG_C9_RD, BG_C10_KS, BG_C11_NP, BG_C12_CC, BG_C13_RG], ignore_index=True)\n"
      ],
      "metadata": {
        "id": "3XaERZqarchW"
      },
      "execution_count": 41,
      "outputs": []
    },
    {
      "cell_type": "code",
      "source": [
        "read_TextGrid_duration = pd.concat([read_TextGrid_duration, all], axis=1)"
      ],
      "metadata": {
        "id": "xCmg4v6VrfsN"
      },
      "execution_count": 42,
      "outputs": []
    },
    {
      "cell_type": "code",
      "source": [
        "read_TextGrid_duration.rename(columns = {0:'Breath.Group'}, inplace = True)"
      ],
      "metadata": {
        "id": "AS9scta5tlhm"
      },
      "execution_count": 43,
      "outputs": []
    },
    {
      "cell_type": "code",
      "source": [
        "read_TextGrid_duration.drop(['Unnamed: 0'], axis=1 , inplace = True)"
      ],
      "metadata": {
        "id": "jxp5GwHJujcu"
      },
      "execution_count": 44,
      "outputs": []
    },
    {
      "cell_type": "code",
      "source": [
        "read_TextGrid_duration"
      ],
      "metadata": {
        "colab": {
          "base_uri": "https://localhost:8080/",
          "height": 423
        },
        "id": "Yuvs7C0yrjV9",
        "outputId": "2e91b16b-911c-4ed2-cf10-fb0c3e911913"
      },
      "execution_count": 45,
      "outputs": [
        {
          "output_type": "execute_result",
          "data": {
            "text/plain": [
              "           ID       Type  Sound   Onset  Offset  Duration Breath.Group\n",
              "0        24fa    silence   \"sp\"   0.000   0.013     0.013            1\n",
              "1        24fa    silence   \"sp\"   0.013   0.143     0.130            1\n",
              "2        24fa  consonant    \"S\"   0.143   0.263     0.120            1\n",
              "3        24fa      vowel  \"OW1\"   0.263   0.343     0.080            1\n",
              "4        24fa  consonant   \"HH\"   0.343   0.482     0.139            1\n",
              "...       ...        ...    ...     ...     ...       ...          ...\n",
              "24338  C13_RG  consonant    \"N\"  87.881  87.910     0.029           33\n",
              "24339  C13_RG      vowel  \"EY2\"  87.910  88.081     0.171           33\n",
              "24340  C13_RG  consonant    \"M\"  88.081  88.191     0.110           33\n",
              "24341  C13_RG  consonant    \"Z\"  88.191  88.281     0.090           33\n",
              "24342  C13_RG    silence   \"sp\"  88.281  88.293     0.012          NaN\n",
              "\n",
              "[24343 rows x 7 columns]"
            ],
            "text/html": [
              "\n",
              "  <div id=\"df-44ca85c3-c0a5-465a-bdf5-1f63e67effa7\">\n",
              "    <div class=\"colab-df-container\">\n",
              "      <div>\n",
              "<style scoped>\n",
              "    .dataframe tbody tr th:only-of-type {\n",
              "        vertical-align: middle;\n",
              "    }\n",
              "\n",
              "    .dataframe tbody tr th {\n",
              "        vertical-align: top;\n",
              "    }\n",
              "\n",
              "    .dataframe thead th {\n",
              "        text-align: right;\n",
              "    }\n",
              "</style>\n",
              "<table border=\"1\" class=\"dataframe\">\n",
              "  <thead>\n",
              "    <tr style=\"text-align: right;\">\n",
              "      <th></th>\n",
              "      <th>ID</th>\n",
              "      <th>Type</th>\n",
              "      <th>Sound</th>\n",
              "      <th>Onset</th>\n",
              "      <th>Offset</th>\n",
              "      <th>Duration</th>\n",
              "      <th>Breath.Group</th>\n",
              "    </tr>\n",
              "  </thead>\n",
              "  <tbody>\n",
              "    <tr>\n",
              "      <th>0</th>\n",
              "      <td>24fa</td>\n",
              "      <td>silence</td>\n",
              "      <td>\"sp\"</td>\n",
              "      <td>0.000</td>\n",
              "      <td>0.013</td>\n",
              "      <td>0.013</td>\n",
              "      <td>1</td>\n",
              "    </tr>\n",
              "    <tr>\n",
              "      <th>1</th>\n",
              "      <td>24fa</td>\n",
              "      <td>silence</td>\n",
              "      <td>\"sp\"</td>\n",
              "      <td>0.013</td>\n",
              "      <td>0.143</td>\n",
              "      <td>0.130</td>\n",
              "      <td>1</td>\n",
              "    </tr>\n",
              "    <tr>\n",
              "      <th>2</th>\n",
              "      <td>24fa</td>\n",
              "      <td>consonant</td>\n",
              "      <td>\"S\"</td>\n",
              "      <td>0.143</td>\n",
              "      <td>0.263</td>\n",
              "      <td>0.120</td>\n",
              "      <td>1</td>\n",
              "    </tr>\n",
              "    <tr>\n",
              "      <th>3</th>\n",
              "      <td>24fa</td>\n",
              "      <td>vowel</td>\n",
              "      <td>\"OW1\"</td>\n",
              "      <td>0.263</td>\n",
              "      <td>0.343</td>\n",
              "      <td>0.080</td>\n",
              "      <td>1</td>\n",
              "    </tr>\n",
              "    <tr>\n",
              "      <th>4</th>\n",
              "      <td>24fa</td>\n",
              "      <td>consonant</td>\n",
              "      <td>\"HH\"</td>\n",
              "      <td>0.343</td>\n",
              "      <td>0.482</td>\n",
              "      <td>0.139</td>\n",
              "      <td>1</td>\n",
              "    </tr>\n",
              "    <tr>\n",
              "      <th>...</th>\n",
              "      <td>...</td>\n",
              "      <td>...</td>\n",
              "      <td>...</td>\n",
              "      <td>...</td>\n",
              "      <td>...</td>\n",
              "      <td>...</td>\n",
              "      <td>...</td>\n",
              "    </tr>\n",
              "    <tr>\n",
              "      <th>24338</th>\n",
              "      <td>C13_RG</td>\n",
              "      <td>consonant</td>\n",
              "      <td>\"N\"</td>\n",
              "      <td>87.881</td>\n",
              "      <td>87.910</td>\n",
              "      <td>0.029</td>\n",
              "      <td>33</td>\n",
              "    </tr>\n",
              "    <tr>\n",
              "      <th>24339</th>\n",
              "      <td>C13_RG</td>\n",
              "      <td>vowel</td>\n",
              "      <td>\"EY2\"</td>\n",
              "      <td>87.910</td>\n",
              "      <td>88.081</td>\n",
              "      <td>0.171</td>\n",
              "      <td>33</td>\n",
              "    </tr>\n",
              "    <tr>\n",
              "      <th>24340</th>\n",
              "      <td>C13_RG</td>\n",
              "      <td>consonant</td>\n",
              "      <td>\"M\"</td>\n",
              "      <td>88.081</td>\n",
              "      <td>88.191</td>\n",
              "      <td>0.110</td>\n",
              "      <td>33</td>\n",
              "    </tr>\n",
              "    <tr>\n",
              "      <th>24341</th>\n",
              "      <td>C13_RG</td>\n",
              "      <td>consonant</td>\n",
              "      <td>\"Z\"</td>\n",
              "      <td>88.191</td>\n",
              "      <td>88.281</td>\n",
              "      <td>0.090</td>\n",
              "      <td>33</td>\n",
              "    </tr>\n",
              "    <tr>\n",
              "      <th>24342</th>\n",
              "      <td>C13_RG</td>\n",
              "      <td>silence</td>\n",
              "      <td>\"sp\"</td>\n",
              "      <td>88.281</td>\n",
              "      <td>88.293</td>\n",
              "      <td>0.012</td>\n",
              "      <td>NaN</td>\n",
              "    </tr>\n",
              "  </tbody>\n",
              "</table>\n",
              "<p>24343 rows × 7 columns</p>\n",
              "</div>\n",
              "      <button class=\"colab-df-convert\" onclick=\"convertToInteractive('df-44ca85c3-c0a5-465a-bdf5-1f63e67effa7')\"\n",
              "              title=\"Convert this dataframe to an interactive table.\"\n",
              "              style=\"display:none;\">\n",
              "        \n",
              "  <svg xmlns=\"http://www.w3.org/2000/svg\" height=\"24px\"viewBox=\"0 0 24 24\"\n",
              "       width=\"24px\">\n",
              "    <path d=\"M0 0h24v24H0V0z\" fill=\"none\"/>\n",
              "    <path d=\"M18.56 5.44l.94 2.06.94-2.06 2.06-.94-2.06-.94-.94-2.06-.94 2.06-2.06.94zm-11 1L8.5 8.5l.94-2.06 2.06-.94-2.06-.94L8.5 2.5l-.94 2.06-2.06.94zm10 10l.94 2.06.94-2.06 2.06-.94-2.06-.94-.94-2.06-.94 2.06-2.06.94z\"/><path d=\"M17.41 7.96l-1.37-1.37c-.4-.4-.92-.59-1.43-.59-.52 0-1.04.2-1.43.59L10.3 9.45l-7.72 7.72c-.78.78-.78 2.05 0 2.83L4 21.41c.39.39.9.59 1.41.59.51 0 1.02-.2 1.41-.59l7.78-7.78 2.81-2.81c.8-.78.8-2.07 0-2.86zM5.41 20L4 18.59l7.72-7.72 1.47 1.35L5.41 20z\"/>\n",
              "  </svg>\n",
              "      </button>\n",
              "      \n",
              "  <style>\n",
              "    .colab-df-container {\n",
              "      display:flex;\n",
              "      flex-wrap:wrap;\n",
              "      gap: 12px;\n",
              "    }\n",
              "\n",
              "    .colab-df-convert {\n",
              "      background-color: #E8F0FE;\n",
              "      border: none;\n",
              "      border-radius: 50%;\n",
              "      cursor: pointer;\n",
              "      display: none;\n",
              "      fill: #1967D2;\n",
              "      height: 32px;\n",
              "      padding: 0 0 0 0;\n",
              "      width: 32px;\n",
              "    }\n",
              "\n",
              "    .colab-df-convert:hover {\n",
              "      background-color: #E2EBFA;\n",
              "      box-shadow: 0px 1px 2px rgba(60, 64, 67, 0.3), 0px 1px 3px 1px rgba(60, 64, 67, 0.15);\n",
              "      fill: #174EA6;\n",
              "    }\n",
              "\n",
              "    [theme=dark] .colab-df-convert {\n",
              "      background-color: #3B4455;\n",
              "      fill: #D2E3FC;\n",
              "    }\n",
              "\n",
              "    [theme=dark] .colab-df-convert:hover {\n",
              "      background-color: #434B5C;\n",
              "      box-shadow: 0px 1px 3px 1px rgba(0, 0, 0, 0.15);\n",
              "      filter: drop-shadow(0px 1px 2px rgba(0, 0, 0, 0.3));\n",
              "      fill: #FFFFFF;\n",
              "    }\n",
              "  </style>\n",
              "\n",
              "      <script>\n",
              "        const buttonEl =\n",
              "          document.querySelector('#df-44ca85c3-c0a5-465a-bdf5-1f63e67effa7 button.colab-df-convert');\n",
              "        buttonEl.style.display =\n",
              "          google.colab.kernel.accessAllowed ? 'block' : 'none';\n",
              "\n",
              "        async function convertToInteractive(key) {\n",
              "          const element = document.querySelector('#df-44ca85c3-c0a5-465a-bdf5-1f63e67effa7');\n",
              "          const dataTable =\n",
              "            await google.colab.kernel.invokeFunction('convertToInteractive',\n",
              "                                                     [key], {});\n",
              "          if (!dataTable) return;\n",
              "\n",
              "          const docLinkHtml = 'Like what you see? Visit the ' +\n",
              "            '<a target=\"_blank\" href=https://colab.research.google.com/notebooks/data_table.ipynb>data table notebook</a>'\n",
              "            + ' to learn more about interactive tables.';\n",
              "          element.innerHTML = '';\n",
              "          dataTable['output_type'] = 'display_data';\n",
              "          await google.colab.output.renderOutput(dataTable, element);\n",
              "          const docLink = document.createElement('div');\n",
              "          docLink.innerHTML = docLinkHtml;\n",
              "          element.appendChild(docLink);\n",
              "        }\n",
              "      </script>\n",
              "    </div>\n",
              "  </div>\n",
              "  "
            ]
          },
          "metadata": {},
          "execution_count": 45
        }
      ]
    },
    {
      "cell_type": "markdown",
      "source": [
        "**6. Save File Created by Going Through Participants Individually**"
      ],
      "metadata": {
        "id": "yk0Uuyb5urLw"
      }
    },
    {
      "cell_type": "code",
      "source": [
        "%cd /content/gdrive/MyDrive/RhythmAnalysisPipeline/"
      ],
      "metadata": {
        "colab": {
          "base_uri": "https://localhost:8080/"
        },
        "id": "fV0RabSdvTKu",
        "outputId": "9d582202-d1fd-4861-e8d0-3ad137751d9d"
      },
      "execution_count": 46,
      "outputs": [
        {
          "output_type": "stream",
          "name": "stdout",
          "text": [
            "/content/gdrive/MyDrive/RhythmAnalysisPipeline\n"
          ]
        }
      ]
    },
    {
      "cell_type": "code",
      "source": [
        "dir = \"2.BreathGroups_Assigned\"\n",
        "\n",
        "if os.path.exists(dir) == False:\n",
        "  os.mkdir(dir)"
      ],
      "metadata": {
        "id": "4AlmKk8huzlG"
      },
      "execution_count": 47,
      "outputs": []
    },
    {
      "cell_type": "code",
      "source": [
        "%cd /content/gdrive/MyDrive/RhythmAnalysisPipeline/2.BreathGroups_Assigned/"
      ],
      "metadata": {
        "colab": {
          "base_uri": "https://localhost:8080/"
        },
        "id": "cDgOWplou6bn",
        "outputId": "6e8a1fe9-6f97-4c94-f769-037d59b819b2"
      },
      "execution_count": 111,
      "outputs": [
        {
          "output_type": "stream",
          "name": "stdout",
          "text": [
            "/content/gdrive/MyDrive/RhythmAnalysisPipeline/2.BreathGroups_Assigned\n"
          ]
        }
      ]
    },
    {
      "cell_type": "code",
      "source": [
        "read_TextGrid_duration.to_excel(\"reading_TextGrid_comb_BG.xlsx\")"
      ],
      "metadata": {
        "id": "Z-KCpucnu68m"
      },
      "execution_count": 112,
      "outputs": []
    },
    {
      "cell_type": "code",
      "source": [
        "%cd /content/gdrive/MyDrive/RhythmAnalysisPipeline/"
      ],
      "metadata": {
        "colab": {
          "base_uri": "https://localhost:8080/"
        },
        "id": "TNSaoFGIu9xO",
        "outputId": "4a945541-57cb-4d88-eaac-b9b65a82a833"
      },
      "execution_count": 113,
      "outputs": [
        {
          "output_type": "stream",
          "name": "stdout",
          "text": [
            "/content/gdrive/MyDrive/RhythmAnalysisPipeline\n"
          ]
        }
      ]
    }
  ]
}