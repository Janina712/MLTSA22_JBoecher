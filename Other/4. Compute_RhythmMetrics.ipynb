{
  "nbformat": 4,
  "nbformat_minor": 0,
  "metadata": {
    "colab": {
      "name": "4. Compute_RhythmMetrics.ipynb",
      "provenance": [],
      "collapsed_sections": [],
      "authorship_tag": "ABX9TyNIyJBPLa29dVuyD9uKgyxf",
      "include_colab_link": true
    },
    "kernelspec": {
      "name": "python3",
      "display_name": "Python 3"
    },
    "language_info": {
      "name": "python"
    }
  },
  "cells": [
    {
      "cell_type": "markdown",
      "metadata": {
        "id": "view-in-github",
        "colab_type": "text"
      },
      "source": [
        "<a href=\"https://colab.research.google.com/github/Janina712/MLTSA22_JBoecher/blob/main/Other/4.%20Compute_RhythmMetrics.ipynb\" target=\"_parent\"><img src=\"https://colab.research.google.com/assets/colab-badge.svg\" alt=\"Open In Colab\"/></a>"
      ]
    },
    {
      "cell_type": "markdown",
      "source": [
        "**0. Imports & Set-Up**"
      ],
      "metadata": {
        "id": "LwZVbxjDkKB9"
      }
    },
    {
      "cell_type": "code",
      "execution_count": null,
      "metadata": {
        "id": "vP_zg8dRjLgp"
      },
      "outputs": [],
      "source": [
        "import pandas as pd\n",
        "import numpy as np\n",
        "import os\n",
        "import plotly.graph_objects as go\n",
        "import matplotlib.pyplot as plt\n",
        "import warnings\n",
        "warnings.filterwarnings('ignore')"
      ]
    },
    {
      "cell_type": "code",
      "source": [
        "from google.colab import drive\n",
        "drive.mount(\"/content/gdrive\")"
      ],
      "metadata": {
        "colab": {
          "base_uri": "https://localhost:8080/"
        },
        "id": "X6QnqvpWjeEF",
        "outputId": "487f3f84-04a9-4d62-be71-5ff5f945bb3e"
      },
      "execution_count": null,
      "outputs": [
        {
          "output_type": "stream",
          "name": "stdout",
          "text": [
            "Mounted at /content/gdrive\n"
          ]
        }
      ]
    },
    {
      "cell_type": "code",
      "source": [
        "%cd /content/gdrive/MyDrive/RhythmAnalysisPipeline/3.MLU_Matched/"
      ],
      "metadata": {
        "colab": {
          "base_uri": "https://localhost:8080/"
        },
        "id": "p5RXvbrQjj_d",
        "outputId": "8681b2d4-58d3-466c-c1f2-348a3a8a96d2"
      },
      "execution_count": null,
      "outputs": [
        {
          "output_type": "stream",
          "name": "stdout",
          "text": [
            "/content/gdrive/MyDrive/RhythmAnalysisPipeline/3.MLU_Matched\n"
          ]
        }
      ]
    },
    {
      "cell_type": "code",
      "source": [
        "reading_vowels = pd.read_excel(\"reading_TextGrid_comb_BG_vowelsMatched.xlsx\")\n",
        "interview_vowels = pd.read_excel(\"interview_TextGrid_comb_BG_vowelsMatched.xlsx\")\n",
        "reading_consonants = pd.read_excel(\"reading_TextGrid_comb_BG_consonantsMatched.xlsx\")\n",
        "interview_consonants = pd.read_excel(\"interview_TextGrid_comb_BG_consonantsMatched.xlsx\")"
      ],
      "metadata": {
        "id": "38VyuR1DjrON"
      },
      "execution_count": null,
      "outputs": []
    },
    {
      "cell_type": "code",
      "source": [
        "result_reading_pws = pd.DataFrame(columns = [\"ID\",\"nPVI\", \"rPVI\",\"%V\",\"DeltaC\", \"DeltaV\", \"VarcoC\", \"VarcoV\"])\n",
        "result_interview_pws = pd.DataFrame(columns = [\"ID\",\"nPVI\", \"rPVI\",\"%V\",\"DeltaC\", \"DeltaV\", \"VarcoC\", \"VarcoV\"])\n",
        "result_reading_control = pd.DataFrame(columns = [\"ID\",\"nPVI\",\"rPVI\",\"%V\",\"DeltaC\", \"DeltaV\", \"VarcoC\", \"VarcoV\"])\n",
        "result_interview_control = pd.DataFrame(columns = [\"ID\",\"nPVI\",\"rPVI\",\"%V\",\"DeltaC\", \"DeltaV\", \"VarcoC\", \"VarcoV\"])"
      ],
      "metadata": {
        "id": "ZSE8K0-ajkrl"
      },
      "execution_count": null,
      "outputs": []
    },
    {
      "cell_type": "code",
      "source": [
        "pws_IDs = ['24fa', '24ma', '24mb', '26f', '29ma', '29mb', '29mc', '32m', '34m', '35mb', '46ma', '50fa', '50fb', '54f', '57m', '60m', '62f', '62m']"
      ],
      "metadata": {
        "id": "b2KIt8k-ryUo"
      },
      "execution_count": null,
      "outputs": []
    },
    {
      "cell_type": "code",
      "source": [
        "control_IDs = ['C10_KS', 'C11_NP', 'C12_CC', 'C13_RG','C1_DS', 'C2_JH', 'C3_MD', 'C4_ZO', 'C5_HL', 'C6_LH', 'C7_SH', 'C9_RD']"
      ],
      "metadata": {
        "id": "LnZEfdteVzIa"
      },
      "execution_count": null,
      "outputs": []
    },
    {
      "cell_type": "code",
      "source": [
        "#set up result path to save along the way\n",
        "%cd /content/gdrive/MyDrive/RhythmAnalysisPipeline/\n",
        "\n",
        "dir = \"4.MetricsResults\"\n",
        "if os.path.exists(dir) == False:\n",
        "  os.mkdir(dir)\n",
        "\n",
        "%cd /content/gdrive/MyDrive/RhythmAnalysisPipeline/4.MetricsResults/"
      ],
      "metadata": {
        "colab": {
          "base_uri": "https://localhost:8080/"
        },
        "id": "ydrih3Yn5bDR",
        "outputId": "05a01e88-de59-4787-9188-ecb00e5010e9"
      },
      "execution_count": null,
      "outputs": [
        {
          "output_type": "stream",
          "name": "stdout",
          "text": [
            "/content/gdrive/MyDrive/RhythmAnalysisPipeline\n",
            "/content/gdrive/MyDrive/RhythmAnalysisPipeline/4.MetricsResults\n"
          ]
        }
      ]
    },
    {
      "cell_type": "markdown",
      "source": [
        "# **Define Functions**"
      ],
      "metadata": {
        "id": "4iePNX7ymp2t"
      }
    },
    {
      "cell_type": "code",
      "source": [
        "def split_groups(df):\n",
        "  pws = df[df[\"Group\"] == \"PWS\"]  # get subset of sound dataframe that corresponds to current participant\n",
        "  pws.index = range(len(pws.index)) # reset index\n",
        "  pws.drop(['Unnamed: 0'], axis=1 , inplace = True)\n",
        "  \n",
        "  control = df[df[\"Group\"] == \"Control\"]  # get subset of sound dataframe that corresponds to current participant\n",
        "  control.index = range(len(control.index)) # reset index\n",
        "  control.drop(['Unnamed: 0'], axis=1 , inplace = True)\n",
        "  return(pws, control)"
      ],
      "metadata": {
        "id": "-tMawwcO3Eom"
      },
      "execution_count": null,
      "outputs": []
    },
    {
      "cell_type": "code",
      "source": [
        "def split_fluency(df):\n",
        "  fluent = df[df[\"FluencyStatus\"] == \"Fluent\"]  # get subset of sound dataframe that corresponds to current participant\n",
        "  fluent.index = range(len(fluent.index)) # reset index\n",
        "  fluent.drop(['Unnamed: 0'], axis=1 , inplace = True)\n",
        "  \n",
        "  disfluent = df[df[\"FluencyStatus\"] == \"Disfluent\"]  # get subset of sound dataframe that corresponds to current participant\n",
        "  disfluent.index = range(len(disfluent.index)) # reset index\n",
        "  disfluent.drop(['Unnamed: 0'], axis=1 , inplace = True)\n",
        "  return(fluent, disfluent)"
      ],
      "metadata": {
        "id": "sfX8GRSDLYI_"
      },
      "execution_count": null,
      "outputs": []
    },
    {
      "cell_type": "code",
      "source": [
        "def computenPVI(df_vowels):\n",
        "  participant = []                                                                                                                                                ## group  -\n",
        "  for p in df_vowels[\"ID\"].unique():                                                                                                                              ## participant  --                                                                                                                                            \n",
        "      subset_ID = df_vowels[df_vowels[\"ID\"] == p]  # get subset of sound dataframe that corresponds to current participant\n",
        "      subset_ID.index = range(len(subset_ID.index)) # reset index\n",
        "      breath_group = []\n",
        "      for BG in subset_ID[\"Breath.Group\"].unique():                                                                                                               ## Breath Group  ---\n",
        "        subset_BG = subset_ID[subset_ID[\"Breath.Group\"] == BG]\n",
        "        subset_BG.index = range(len(subset_BG.index)) \n",
        "        sum = 0   \n",
        "        for m in range(1, len(subset_BG)):                                                                                                                        ## vowel            ----\n",
        "          subsum = (subset_BG[\"Duration\"][m-1] - subset_BG[\"Duration\"][m])/((subset_BG[\"Duration\"][m-1] + subset_BG[\"Duration\"][m])/2)\n",
        "          sum = sum + abs(subsum)                                                                                                                                 ## vowel            ----\n",
        "        if len(subset_BG) < 2:                                                                                                                                    ## Breath Group    ---\n",
        "          continue\n",
        "        else:\n",
        "          BG_nPVI = 100 * (sum/(len(subset_BG)-1))\n",
        "          breath_group.append(BG_nPVI)                                                                                                                          \n",
        "      participant.append(breath_group)                                                                                                                            ## participant  --                                                                                                                                    ## group   -\n",
        "  participant = pd.DataFrame(participant)\n",
        "  group = []  \n",
        "  for k in range(0, len(participant)):\n",
        "    participant_avg = participant.iloc[k].mean()\n",
        "    group.append(participant_avg)\n",
        "  group = pd.DataFrame(group, columns = [\"nPVI\"])\n",
        "  return(group)"
      ],
      "metadata": {
        "id": "ji_mZbRLJD2w"
      },
      "execution_count": null,
      "outputs": []
    },
    {
      "cell_type": "code",
      "source": [
        "def computerPVI(df_consonants):\n",
        "  participant = []                                                                                                                                                ## group  -\n",
        "  for p in df_consonants[\"ID\"].unique():                                                                                                                              ## participant  --                                                                                                                                            \n",
        "      subset_ID = df_consonants[df_consonants[\"ID\"] == p]  # get subset of sound dataframe that corresponds to current participant\n",
        "      subset_ID.index = range(len(subset_ID.index)) # reset index\n",
        "      breath_group = []\n",
        "      for BG in subset_ID[\"Breath.Group\"].unique():                                                                                                               ## Breath Group  ---\n",
        "        subset_BG = subset_ID[subset_ID[\"Breath.Group\"] == BG]\n",
        "        subset_BG.index = range(len(subset_BG.index)) \n",
        "        sum = 0   \n",
        "        for m in range(1, len(subset_BG)):                                                                                                                        ## vowel            ----\n",
        "          subsum = subset_BG[\"Duration\"][m-1] - subset_BG[\"Duration\"][m]\n",
        "          sum = sum + abs(subsum)                                                                                                                                 ## vowel            ----\n",
        "        if len(subset_BG) < 2:                                                                                                                                    ## Breath Group    ---\n",
        "          continue\n",
        "        else:\n",
        "          BG_rPVI = sum/(len(subset_BG)-1)\n",
        "          breath_group.append(BG_rPVI)                                                                                                                          \n",
        "      participant.append(breath_group)                                                                                                                            ## participant  --                                                                                                                                    ## group   -\n",
        "  participant = pd.DataFrame(participant)\n",
        "  group = []  \n",
        "  for k in range(0, len(participant)):\n",
        "    participant_avg = participant.iloc[k].mean()\n",
        "    group.append(participant_avg)\n",
        "  group = pd.DataFrame(group, columns = [\"rPVI\"])\n",
        "  return(group)"
      ],
      "metadata": {
        "id": "FCyM9yDLXrON"
      },
      "execution_count": null,
      "outputs": []
    },
    {
      "cell_type": "code",
      "source": [
        "def computePercV(df_vowels, df_consonants):\n",
        "  participant = []\n",
        "  for p in df_vowels[\"ID\"].unique():\n",
        "      subset_ID = df_vowels[df_vowels[\"ID\"] == p]  # get subset of sound dataframe that corresponds to current participant\n",
        "      subset_ID.index = range(len(subset_ID.index)) # reset index\n",
        "      numberBG = len(subset_ID[\"Breath.Group\"].unique())\n",
        "      subset_cons = df_consonants[df_consonants[\"ID\"] == p]\n",
        "      subset_cons.index = range(len(subset_cons.index))\n",
        "      Vsums = np.zeros(numberBG)\n",
        "      Csums = np.zeros(numberBG)\n",
        "      for i in range(1,numberBG+1):\n",
        "        for j in range(0, len(subset_ID)):\n",
        "          if subset_ID[\"Breath.Group\"][j] == i:\n",
        "            Vsums[i-1] = Vsums[i-1] + df_vowels[\"Duration\"][j]  \n",
        "      for i in range(1,numberBG+1):\n",
        "        for j in range(0, len(subset_cons)):\n",
        "          if subset_cons[\"Breath.Group\"][j] == i:\n",
        "            Csums[i-1] = Csums[i-1] + subset_cons[\"Duration\"][j] \n",
        "      VCsums = Vsums + Csums\n",
        "      percV = Vsums/VCsums\n",
        "      percV = percV[~np.isnan(percV)]\n",
        "      percV_avg = percV.mean()\n",
        "      participant.append([percV_avg])\n",
        "  participant = pd.DataFrame (participant, columns = ['%V'])  \n",
        "  return(participant)"
      ],
      "metadata": {
        "id": "qda8hfU1Ngbp"
      },
      "execution_count": null,
      "outputs": []
    },
    {
      "cell_type": "code",
      "source": [
        "def computeDeltaC(df_consonants):\n",
        "  participant = []\n",
        "  for p in df_consonants[\"ID\"].unique():      \n",
        "    subset_ID = df_consonants[df_consonants[\"ID\"] == p]  # get subset of sound dataframe that corresponds to current participant\n",
        "    subset_ID.index = range(len(subset_ID.index)) # reset index\n",
        "    numberBG = len(subset_ID[\"Breath.Group\"].unique())\n",
        "    grouped_cons = subset_ID.groupby(\"Breath.Group\")                      \n",
        "    grouped_lists = grouped_cons[\"Duration\"].apply(list)\n",
        "    grouped_lists = grouped_lists.reset_index()\n",
        "    deltaC = np.zeros(len(grouped_lists))\n",
        "    for i in range(0,len(grouped_lists)):\n",
        "      deltaC[i] = np.std(grouped_lists[\"Duration\"][i])\n",
        "    deltaC_avg = deltaC.mean()\n",
        "    participant.append([deltaC_avg])\n",
        "  participant = pd.DataFrame (participant, columns = ['DeltaC'])  \n",
        "  return(participant)"
      ],
      "metadata": {
        "id": "yLlTtT43nlaO"
      },
      "execution_count": null,
      "outputs": []
    },
    {
      "cell_type": "code",
      "source": [
        "def computeDeltaV(df_vowels):\n",
        "    participant = []\n",
        "    for p in df_vowels[\"ID\"].unique():      \n",
        "      subset_ID = df_vowels[df_vowels[\"ID\"] == p]  # get subset of sound dataframe that corresponds to current participant\n",
        "      subset_ID.index = range(len(subset_ID.index)) # reset index\n",
        "      numberBG = len(subset_ID[\"Breath.Group\"].unique())\n",
        "      grouped_vowels = subset_ID.groupby(\"Breath.Group\")\n",
        "      grouped_lists = grouped_vowels[\"Duration\"].apply(list)\n",
        "      grouped_lists = grouped_lists.reset_index()\n",
        "      deltaV = np.zeros(len(grouped_lists))\n",
        "      for i in range(0,len(grouped_lists)):\n",
        "        deltaV[i] = np.std(grouped_lists[\"Duration\"][i])\n",
        "      deltaV_avg = deltaV.mean()\n",
        "      participant.append([deltaV_avg])\n",
        "    participant = pd.DataFrame (participant, columns = ['DeltaV'])  \n",
        "    return(participant)"
      ],
      "metadata": {
        "id": "zfY7v93am2-X"
      },
      "execution_count": null,
      "outputs": []
    },
    {
      "cell_type": "code",
      "source": [
        "def computeVarcoC(df_consonants, deltaC):\n",
        "    n = -1\n",
        "    participant = []\n",
        "    for p in df_consonants[\"ID\"].unique(): \n",
        "      n = n +1     \n",
        "      subset_ID = df_consonants[df_consonants[\"ID\"] == p]  # get subset of sound dataframe that corresponds to current participant\n",
        "      subset_ID.index = range(len(subset_ID.index)) # reset \n",
        "      numberBG = len(subset_ID[\"Breath.Group\"].unique())\n",
        "      grouped_consonants = subset_ID.groupby(\"Breath.Group\")\n",
        "      grouped_lists = grouped_consonants[\"Duration\"].apply(list)\n",
        "      grouped_lists = grouped_lists.reset_index()\n",
        "      Cavg = np.zeros(len(grouped_lists))\n",
        "      for i in range(0,len(grouped_lists)):\n",
        "        Cavg[i] = np.mean(grouped_lists[\"Duration\"][i])\n",
        "      VarcoC = deltaC[\"DeltaC\"][n]/Cavg\n",
        "      VarcoC_avg = VarcoC.mean()\n",
        "      participant.append([VarcoC_avg])\n",
        "    participant = pd.DataFrame (participant, columns = ['VarcoC'])\n",
        "    return(participant)"
      ],
      "metadata": {
        "id": "FwKR6uw_owNu"
      },
      "execution_count": null,
      "outputs": []
    },
    {
      "cell_type": "code",
      "source": [
        "def computeVarcoV(df_vowels, deltaV):\n",
        "    n = -1\n",
        "    participant = []\n",
        "    for p in df_vowels[\"ID\"].unique(): \n",
        "      n = n +1     \n",
        "      subset_ID = df_vowels[df_vowels[\"ID\"] == p]  # get subset of sound dataframe that corresponds to current participant\n",
        "      subset_ID.index = range(len(subset_ID.index)) # reset index\n",
        "      numberBG = len(subset_ID[\"Breath.Group\"].unique())\n",
        "      grouped_vowels = subset_ID.groupby(\"Breath.Group\")\n",
        "      grouped_lists = grouped_vowels[\"Duration\"].apply(list)\n",
        "      grouped_lists = grouped_lists.reset_index()\n",
        "      Vavg = np.zeros(len(grouped_lists))\n",
        "      for i in range(0,len(grouped_lists)):       \n",
        "        Vavg[i] = np.mean(grouped_lists[\"Duration\"][i])\n",
        "      VarcoV = deltaV[\"DeltaV\"][n]/Vavg                          \n",
        "      VarcoV_avg = VarcoV.mean()\n",
        "      participant.append([VarcoV_avg]) \n",
        "    participant = pd.DataFrame (participant, columns = ['VarcoV'])\n",
        "    return(participant)"
      ],
      "metadata": {
        "id": "8Gi8TwkNoBRn"
      },
      "execution_count": null,
      "outputs": []
    },
    {
      "cell_type": "markdown",
      "source": [
        "**Calculate Metrics Using Functions**"
      ],
      "metadata": {
        "id": "bo8dnOG2ppH_"
      }
    },
    {
      "cell_type": "code",
      "source": [
        "reading_vowels_pws, reading_vowels_control = split_groups(reading_vowels)\n",
        "reading_consonants_pws, reading_consonants_control = split_groups(reading_consonants)\n",
        "interview_vowels_pws, interview_vowels_control = split_groups(interview_vowels)\n",
        "interview_consonants_pws, interview_consonants_control = split_groups(interview_consonants)"
      ],
      "metadata": {
        "id": "7pvi2fVX3Hj1"
      },
      "execution_count": null,
      "outputs": []
    },
    {
      "cell_type": "code",
      "source": [
        "nPVI_reading_pws = computenPVI(reading_vowels_pws)\n",
        "nPVI_reading_control = computenPVI(reading_vowels_control)\n",
        "nPVI_interview_pws = computenPVI(interview_vowels_pws)\n",
        "nPVI_interview_control = computenPVI(interview_vowels_control)"
      ],
      "metadata": {
        "id": "eBRQCOYSkFY8"
      },
      "execution_count": null,
      "outputs": []
    },
    {
      "cell_type": "code",
      "source": [
        "rPVI_reading_pws = computerPVI(reading_consonants_pws)\n",
        "rPVI_reading_control = computerPVI(reading_consonants_control)\n",
        "rPVI_interview_pws = computerPVI(interview_consonants_pws)\n",
        "rPVI_interview_control = computerPVI(interview_consonants_control)"
      ],
      "metadata": {
        "id": "AQKvkw5rYDzE"
      },
      "execution_count": null,
      "outputs": []
    },
    {
      "cell_type": "code",
      "source": [
        "percV_reading_pws = computePercV(reading_vowels_pws, reading_consonants_pws)\n",
        "percV_interview_pws = computePercV(interview_vowels_pws, interview_consonants_pws)\n",
        "percV_reading_control = computePercV(reading_vowels_control, reading_consonants_control)\n",
        "percV_interview_control = computePercV(interview_vowels_control, interview_consonants_control)"
      ],
      "metadata": {
        "id": "DgSuLWeupwG3"
      },
      "execution_count": null,
      "outputs": []
    },
    {
      "cell_type": "code",
      "source": [
        "deltaC_reading_pws = computeDeltaC(reading_consonants_pws)\n",
        "deltaC_interview_pws = computeDeltaC(interview_consonants_pws)\n",
        "deltaC_reading_control = computeDeltaC(reading_consonants_control)\n",
        "deltaC_interview_control = computeDeltaC(interview_consonants_control)"
      ],
      "metadata": {
        "id": "Zs19HNhoqN8J"
      },
      "execution_count": null,
      "outputs": []
    },
    {
      "cell_type": "code",
      "source": [
        "deltaV_reading_pws = computeDeltaV(reading_vowels_pws)\n",
        "deltaV_interview_pws = computeDeltaV(interview_vowels_pws)\n",
        "deltaV_reading_control = computeDeltaV(reading_vowels_control)\n",
        "deltaV_interview_control = computeDeltaV(interview_vowels_control)"
      ],
      "metadata": {
        "id": "UzSTw1vnpLIn"
      },
      "execution_count": null,
      "outputs": []
    },
    {
      "cell_type": "code",
      "source": [
        "varcoC_reading_pws = computeVarcoC(reading_consonants_pws, deltaC_reading_pws)\n",
        "varcoC_interview_pws = computeVarcoC(interview_consonants_pws, deltaC_interview_pws)\n",
        "varcoC_reading_control = computeVarcoC(reading_consonants_control, deltaC_reading_control)\n",
        "varcoC_interview_control = computeVarcoC(interview_consonants_control, deltaC_interview_control)"
      ],
      "metadata": {
        "id": "i243lIeeqf1n"
      },
      "execution_count": null,
      "outputs": []
    },
    {
      "cell_type": "code",
      "source": [
        "varcoV_reading_pws = computeVarcoV(reading_vowels_pws, deltaV_reading_pws)\n",
        "varcoV_interview_pws = computeVarcoV(interview_vowels_pws, deltaV_interview_pws)\n",
        "varcoV_reading_control = computeVarcoV(reading_vowels_control, deltaV_reading_control)\n",
        "varcoV_interview_control = computeVarcoV(interview_vowels_control, deltaV_interview_control)"
      ],
      "metadata": {
        "id": "9aOFKK7MqwIA"
      },
      "execution_count": null,
      "outputs": []
    },
    {
      "cell_type": "markdown",
      "source": [
        "**Assign to DataFrame**"
      ],
      "metadata": {
        "id": "mUhQ96bRq7fY"
      }
    },
    {
      "cell_type": "code",
      "source": [
        "result_reading_pws[\"ID\"] = pws_IDs\n",
        "result_reading_pws[\"nPVI\"] = nPVI_reading_pws\n",
        "result_reading_pws[\"rPVI\"] = rPVI_reading_pws\n",
        "result_reading_pws[\"%V\"] = percV_reading_pws*100\n",
        "result_reading_pws[\"DeltaC\"] = deltaC_reading_pws\n",
        "result_reading_pws[\"DeltaV\"] = deltaV_reading_pws\n",
        "result_reading_pws[\"VarcoC\"] = varcoC_reading_pws*100\n",
        "result_reading_pws[\"VarcoV\"] = varcoV_reading_pws*100"
      ],
      "metadata": {
        "id": "1yPZyxcaq-fI"
      },
      "execution_count": null,
      "outputs": []
    },
    {
      "cell_type": "code",
      "source": [
        "result_reading_control[\"ID\"] = control_IDs\n",
        "result_reading_control[\"nPVI\"] = nPVI_reading_control\n",
        "result_reading_control[\"rPVI\"] = rPVI_reading_control\n",
        "result_reading_control[\"%V\"] = percV_reading_control*100\n",
        "result_reading_control[\"DeltaC\"] = deltaC_reading_control\n",
        "result_reading_control[\"DeltaV\"] = deltaV_reading_control\n",
        "result_reading_control[\"VarcoC\"] = varcoC_reading_control*100\n",
        "result_reading_control[\"VarcoV\"] = varcoV_reading_control*100"
      ],
      "metadata": {
        "id": "IPwXcE2e6_RW"
      },
      "execution_count": null,
      "outputs": []
    },
    {
      "cell_type": "code",
      "source": [
        "result_interview_pws[\"ID\"] = pws_IDs\n",
        "result_interview_pws[\"nPVI\"] = nPVI_interview_pws\n",
        "result_interview_pws[\"rPVI\"] = rPVI_interview_pws\n",
        "result_interview_pws[\"%V\"] = percV_interview_pws*100\n",
        "result_interview_pws[\"DeltaC\"] = deltaC_interview_pws\n",
        "result_interview_pws[\"DeltaV\"] = deltaV_interview_pws\n",
        "result_interview_pws[\"VarcoC\"] = varcoC_interview_pws*100\n",
        "result_interview_pws[\"VarcoV\"] = varcoV_interview_pws*100"
      ],
      "metadata": {
        "id": "UFyLuGREs84p"
      },
      "execution_count": null,
      "outputs": []
    },
    {
      "cell_type": "code",
      "source": [
        "result_interview_control[\"ID\"] = control_IDs\n",
        "result_interview_control[\"nPVI\"] = nPVI_interview_control\n",
        "result_interview_control[\"rPVI\"] = rPVI_interview_control\n",
        "result_interview_control[\"%V\"] = percV_interview_control*100\n",
        "result_interview_control[\"DeltaC\"] = deltaC_interview_control\n",
        "result_interview_control[\"DeltaV\"] = deltaV_interview_control\n",
        "result_interview_control[\"VarcoC\"] = varcoC_interview_control*100\n",
        "result_interview_control[\"VarcoV\"] = varcoV_interview_control*100"
      ],
      "metadata": {
        "id": "TgWZDY-Z7Pfv"
      },
      "execution_count": null,
      "outputs": []
    },
    {
      "cell_type": "code",
      "source": [
        "# there are more consonants in BG than there are vowels, there are in general more even in the unmatched version... how should I match to maintain the same ratio??"
      ],
      "metadata": {
        "id": "EsYqsRvz74TA"
      },
      "execution_count": null,
      "outputs": []
    },
    {
      "cell_type": "markdown",
      "source": [
        "**Show DataFrames**"
      ],
      "metadata": {
        "id": "J0uAe3KT08DL"
      }
    },
    {
      "cell_type": "code",
      "source": [
        "result_reading_pws"
      ],
      "metadata": {
        "colab": {
          "base_uri": "https://localhost:8080/",
          "height": 613
        },
        "id": "2qWRJFL5lmKB",
        "outputId": "d754af42-0184-4578-e912-131974a21cef"
      },
      "execution_count": null,
      "outputs": [
        {
          "output_type": "execute_result",
          "data": {
            "text/plain": [
              "      ID       nPVI      rPVI         %V    DeltaC    DeltaV     VarcoC  \\\n",
              "0   24fa  69.769462  0.040859  45.924211  0.035260  0.045339  55.168310   \n",
              "1   24ma  56.387716  0.047686  45.600908  0.037927  0.038741  59.578517   \n",
              "2   24mb  63.740165  0.047549  43.699241  0.038580  0.042046  55.247254   \n",
              "3    26f  64.437853  0.036429  47.067472  0.033425  0.040893  53.802195   \n",
              "4   29ma  60.912200  0.047081  43.285759  0.041163  0.040380  58.445596   \n",
              "5   29mb  60.983703  0.057130  38.428403  0.045336  0.046911  53.773158   \n",
              "6   29mc  71.044822  0.055101  41.036346  0.043939  0.053907  55.523338   \n",
              "7    32m  66.865079  0.057120  40.334968  0.050460  0.053180  67.028375   \n",
              "8    34m  68.052404  0.057341  38.835144  0.046995  0.068345  56.789016   \n",
              "9   35mb  70.025958  0.073860  41.694468  0.059158  0.063924  73.448715   \n",
              "10  46ma  67.314946  0.046483  43.987246  0.040010  0.046613  57.578904   \n",
              "11  50fa  64.202145  0.045439  42.337390  0.038993  0.041372  52.521982   \n",
              "12  50fb  67.220541  0.061333  36.178534  0.050179  0.076947  54.361104   \n",
              "13   54f  70.793083  0.060962  36.941538  0.049609  0.065325  51.564464   \n",
              "14   57m  70.186730  0.051711  41.474118  0.042645  0.053830  52.524665   \n",
              "15   60m  71.339429  0.058478  41.747331  0.048791  0.058072  65.967223   \n",
              "16   62f  72.415608  0.051520  41.450246  0.041318  0.055393  53.711726   \n",
              "17   62m  68.604319  0.043527  45.618495  0.037582  0.040818  56.229818   \n",
              "\n",
              "       VarcoV  \n",
              "0   56.752833  \n",
              "1   51.734821  \n",
              "2   58.470099  \n",
              "3   52.414349  \n",
              "4   54.845454  \n",
              "5   49.490862  \n",
              "6   57.399689  \n",
              "7   67.626719  \n",
              "8   62.660243  \n",
              "9   56.942923  \n",
              "10  59.981644  \n",
              "11  55.177323  \n",
              "12  57.344454  \n",
              "13  53.118609  \n",
              "14  62.275546  \n",
              "15  62.057964  \n",
              "16  61.808156  \n",
              "17  63.705974  "
            ],
            "text/html": [
              "\n",
              "  <div id=\"df-624eee77-42b1-4d6b-b8fc-3bb11fe45af8\">\n",
              "    <div class=\"colab-df-container\">\n",
              "      <div>\n",
              "<style scoped>\n",
              "    .dataframe tbody tr th:only-of-type {\n",
              "        vertical-align: middle;\n",
              "    }\n",
              "\n",
              "    .dataframe tbody tr th {\n",
              "        vertical-align: top;\n",
              "    }\n",
              "\n",
              "    .dataframe thead th {\n",
              "        text-align: right;\n",
              "    }\n",
              "</style>\n",
              "<table border=\"1\" class=\"dataframe\">\n",
              "  <thead>\n",
              "    <tr style=\"text-align: right;\">\n",
              "      <th></th>\n",
              "      <th>ID</th>\n",
              "      <th>nPVI</th>\n",
              "      <th>rPVI</th>\n",
              "      <th>%V</th>\n",
              "      <th>DeltaC</th>\n",
              "      <th>DeltaV</th>\n",
              "      <th>VarcoC</th>\n",
              "      <th>VarcoV</th>\n",
              "    </tr>\n",
              "  </thead>\n",
              "  <tbody>\n",
              "    <tr>\n",
              "      <th>0</th>\n",
              "      <td>24fa</td>\n",
              "      <td>69.769462</td>\n",
              "      <td>0.040859</td>\n",
              "      <td>45.924211</td>\n",
              "      <td>0.035260</td>\n",
              "      <td>0.045339</td>\n",
              "      <td>55.168310</td>\n",
              "      <td>56.752833</td>\n",
              "    </tr>\n",
              "    <tr>\n",
              "      <th>1</th>\n",
              "      <td>24ma</td>\n",
              "      <td>56.387716</td>\n",
              "      <td>0.047686</td>\n",
              "      <td>45.600908</td>\n",
              "      <td>0.037927</td>\n",
              "      <td>0.038741</td>\n",
              "      <td>59.578517</td>\n",
              "      <td>51.734821</td>\n",
              "    </tr>\n",
              "    <tr>\n",
              "      <th>2</th>\n",
              "      <td>24mb</td>\n",
              "      <td>63.740165</td>\n",
              "      <td>0.047549</td>\n",
              "      <td>43.699241</td>\n",
              "      <td>0.038580</td>\n",
              "      <td>0.042046</td>\n",
              "      <td>55.247254</td>\n",
              "      <td>58.470099</td>\n",
              "    </tr>\n",
              "    <tr>\n",
              "      <th>3</th>\n",
              "      <td>26f</td>\n",
              "      <td>64.437853</td>\n",
              "      <td>0.036429</td>\n",
              "      <td>47.067472</td>\n",
              "      <td>0.033425</td>\n",
              "      <td>0.040893</td>\n",
              "      <td>53.802195</td>\n",
              "      <td>52.414349</td>\n",
              "    </tr>\n",
              "    <tr>\n",
              "      <th>4</th>\n",
              "      <td>29ma</td>\n",
              "      <td>60.912200</td>\n",
              "      <td>0.047081</td>\n",
              "      <td>43.285759</td>\n",
              "      <td>0.041163</td>\n",
              "      <td>0.040380</td>\n",
              "      <td>58.445596</td>\n",
              "      <td>54.845454</td>\n",
              "    </tr>\n",
              "    <tr>\n",
              "      <th>5</th>\n",
              "      <td>29mb</td>\n",
              "      <td>60.983703</td>\n",
              "      <td>0.057130</td>\n",
              "      <td>38.428403</td>\n",
              "      <td>0.045336</td>\n",
              "      <td>0.046911</td>\n",
              "      <td>53.773158</td>\n",
              "      <td>49.490862</td>\n",
              "    </tr>\n",
              "    <tr>\n",
              "      <th>6</th>\n",
              "      <td>29mc</td>\n",
              "      <td>71.044822</td>\n",
              "      <td>0.055101</td>\n",
              "      <td>41.036346</td>\n",
              "      <td>0.043939</td>\n",
              "      <td>0.053907</td>\n",
              "      <td>55.523338</td>\n",
              "      <td>57.399689</td>\n",
              "    </tr>\n",
              "    <tr>\n",
              "      <th>7</th>\n",
              "      <td>32m</td>\n",
              "      <td>66.865079</td>\n",
              "      <td>0.057120</td>\n",
              "      <td>40.334968</td>\n",
              "      <td>0.050460</td>\n",
              "      <td>0.053180</td>\n",
              "      <td>67.028375</td>\n",
              "      <td>67.626719</td>\n",
              "    </tr>\n",
              "    <tr>\n",
              "      <th>8</th>\n",
              "      <td>34m</td>\n",
              "      <td>68.052404</td>\n",
              "      <td>0.057341</td>\n",
              "      <td>38.835144</td>\n",
              "      <td>0.046995</td>\n",
              "      <td>0.068345</td>\n",
              "      <td>56.789016</td>\n",
              "      <td>62.660243</td>\n",
              "    </tr>\n",
              "    <tr>\n",
              "      <th>9</th>\n",
              "      <td>35mb</td>\n",
              "      <td>70.025958</td>\n",
              "      <td>0.073860</td>\n",
              "      <td>41.694468</td>\n",
              "      <td>0.059158</td>\n",
              "      <td>0.063924</td>\n",
              "      <td>73.448715</td>\n",
              "      <td>56.942923</td>\n",
              "    </tr>\n",
              "    <tr>\n",
              "      <th>10</th>\n",
              "      <td>46ma</td>\n",
              "      <td>67.314946</td>\n",
              "      <td>0.046483</td>\n",
              "      <td>43.987246</td>\n",
              "      <td>0.040010</td>\n",
              "      <td>0.046613</td>\n",
              "      <td>57.578904</td>\n",
              "      <td>59.981644</td>\n",
              "    </tr>\n",
              "    <tr>\n",
              "      <th>11</th>\n",
              "      <td>50fa</td>\n",
              "      <td>64.202145</td>\n",
              "      <td>0.045439</td>\n",
              "      <td>42.337390</td>\n",
              "      <td>0.038993</td>\n",
              "      <td>0.041372</td>\n",
              "      <td>52.521982</td>\n",
              "      <td>55.177323</td>\n",
              "    </tr>\n",
              "    <tr>\n",
              "      <th>12</th>\n",
              "      <td>50fb</td>\n",
              "      <td>67.220541</td>\n",
              "      <td>0.061333</td>\n",
              "      <td>36.178534</td>\n",
              "      <td>0.050179</td>\n",
              "      <td>0.076947</td>\n",
              "      <td>54.361104</td>\n",
              "      <td>57.344454</td>\n",
              "    </tr>\n",
              "    <tr>\n",
              "      <th>13</th>\n",
              "      <td>54f</td>\n",
              "      <td>70.793083</td>\n",
              "      <td>0.060962</td>\n",
              "      <td>36.941538</td>\n",
              "      <td>0.049609</td>\n",
              "      <td>0.065325</td>\n",
              "      <td>51.564464</td>\n",
              "      <td>53.118609</td>\n",
              "    </tr>\n",
              "    <tr>\n",
              "      <th>14</th>\n",
              "      <td>57m</td>\n",
              "      <td>70.186730</td>\n",
              "      <td>0.051711</td>\n",
              "      <td>41.474118</td>\n",
              "      <td>0.042645</td>\n",
              "      <td>0.053830</td>\n",
              "      <td>52.524665</td>\n",
              "      <td>62.275546</td>\n",
              "    </tr>\n",
              "    <tr>\n",
              "      <th>15</th>\n",
              "      <td>60m</td>\n",
              "      <td>71.339429</td>\n",
              "      <td>0.058478</td>\n",
              "      <td>41.747331</td>\n",
              "      <td>0.048791</td>\n",
              "      <td>0.058072</td>\n",
              "      <td>65.967223</td>\n",
              "      <td>62.057964</td>\n",
              "    </tr>\n",
              "    <tr>\n",
              "      <th>16</th>\n",
              "      <td>62f</td>\n",
              "      <td>72.415608</td>\n",
              "      <td>0.051520</td>\n",
              "      <td>41.450246</td>\n",
              "      <td>0.041318</td>\n",
              "      <td>0.055393</td>\n",
              "      <td>53.711726</td>\n",
              "      <td>61.808156</td>\n",
              "    </tr>\n",
              "    <tr>\n",
              "      <th>17</th>\n",
              "      <td>62m</td>\n",
              "      <td>68.604319</td>\n",
              "      <td>0.043527</td>\n",
              "      <td>45.618495</td>\n",
              "      <td>0.037582</td>\n",
              "      <td>0.040818</td>\n",
              "      <td>56.229818</td>\n",
              "      <td>63.705974</td>\n",
              "    </tr>\n",
              "  </tbody>\n",
              "</table>\n",
              "</div>\n",
              "      <button class=\"colab-df-convert\" onclick=\"convertToInteractive('df-624eee77-42b1-4d6b-b8fc-3bb11fe45af8')\"\n",
              "              title=\"Convert this dataframe to an interactive table.\"\n",
              "              style=\"display:none;\">\n",
              "        \n",
              "  <svg xmlns=\"http://www.w3.org/2000/svg\" height=\"24px\"viewBox=\"0 0 24 24\"\n",
              "       width=\"24px\">\n",
              "    <path d=\"M0 0h24v24H0V0z\" fill=\"none\"/>\n",
              "    <path d=\"M18.56 5.44l.94 2.06.94-2.06 2.06-.94-2.06-.94-.94-2.06-.94 2.06-2.06.94zm-11 1L8.5 8.5l.94-2.06 2.06-.94-2.06-.94L8.5 2.5l-.94 2.06-2.06.94zm10 10l.94 2.06.94-2.06 2.06-.94-2.06-.94-.94-2.06-.94 2.06-2.06.94z\"/><path d=\"M17.41 7.96l-1.37-1.37c-.4-.4-.92-.59-1.43-.59-.52 0-1.04.2-1.43.59L10.3 9.45l-7.72 7.72c-.78.78-.78 2.05 0 2.83L4 21.41c.39.39.9.59 1.41.59.51 0 1.02-.2 1.41-.59l7.78-7.78 2.81-2.81c.8-.78.8-2.07 0-2.86zM5.41 20L4 18.59l7.72-7.72 1.47 1.35L5.41 20z\"/>\n",
              "  </svg>\n",
              "      </button>\n",
              "      \n",
              "  <style>\n",
              "    .colab-df-container {\n",
              "      display:flex;\n",
              "      flex-wrap:wrap;\n",
              "      gap: 12px;\n",
              "    }\n",
              "\n",
              "    .colab-df-convert {\n",
              "      background-color: #E8F0FE;\n",
              "      border: none;\n",
              "      border-radius: 50%;\n",
              "      cursor: pointer;\n",
              "      display: none;\n",
              "      fill: #1967D2;\n",
              "      height: 32px;\n",
              "      padding: 0 0 0 0;\n",
              "      width: 32px;\n",
              "    }\n",
              "\n",
              "    .colab-df-convert:hover {\n",
              "      background-color: #E2EBFA;\n",
              "      box-shadow: 0px 1px 2px rgba(60, 64, 67, 0.3), 0px 1px 3px 1px rgba(60, 64, 67, 0.15);\n",
              "      fill: #174EA6;\n",
              "    }\n",
              "\n",
              "    [theme=dark] .colab-df-convert {\n",
              "      background-color: #3B4455;\n",
              "      fill: #D2E3FC;\n",
              "    }\n",
              "\n",
              "    [theme=dark] .colab-df-convert:hover {\n",
              "      background-color: #434B5C;\n",
              "      box-shadow: 0px 1px 3px 1px rgba(0, 0, 0, 0.15);\n",
              "      filter: drop-shadow(0px 1px 2px rgba(0, 0, 0, 0.3));\n",
              "      fill: #FFFFFF;\n",
              "    }\n",
              "  </style>\n",
              "\n",
              "      <script>\n",
              "        const buttonEl =\n",
              "          document.querySelector('#df-624eee77-42b1-4d6b-b8fc-3bb11fe45af8 button.colab-df-convert');\n",
              "        buttonEl.style.display =\n",
              "          google.colab.kernel.accessAllowed ? 'block' : 'none';\n",
              "\n",
              "        async function convertToInteractive(key) {\n",
              "          const element = document.querySelector('#df-624eee77-42b1-4d6b-b8fc-3bb11fe45af8');\n",
              "          const dataTable =\n",
              "            await google.colab.kernel.invokeFunction('convertToInteractive',\n",
              "                                                     [key], {});\n",
              "          if (!dataTable) return;\n",
              "\n",
              "          const docLinkHtml = 'Like what you see? Visit the ' +\n",
              "            '<a target=\"_blank\" href=https://colab.research.google.com/notebooks/data_table.ipynb>data table notebook</a>'\n",
              "            + ' to learn more about interactive tables.';\n",
              "          element.innerHTML = '';\n",
              "          dataTable['output_type'] = 'display_data';\n",
              "          await google.colab.output.renderOutput(dataTable, element);\n",
              "          const docLink = document.createElement('div');\n",
              "          docLink.innerHTML = docLinkHtml;\n",
              "          element.appendChild(docLink);\n",
              "        }\n",
              "      </script>\n",
              "    </div>\n",
              "  </div>\n",
              "  "
            ]
          },
          "metadata": {},
          "execution_count": 30
        }
      ]
    },
    {
      "cell_type": "code",
      "source": [
        "result_reading_control"
      ],
      "metadata": {
        "colab": {
          "base_uri": "https://localhost:8080/",
          "height": 425
        },
        "id": "H4r5EigunBV5",
        "outputId": "f1ed649e-1cbd-4c39-a7db-ff1fb6385a9b"
      },
      "execution_count": null,
      "outputs": [
        {
          "output_type": "execute_result",
          "data": {
            "text/plain": [
              "        ID       nPVI      rPVI         %V    DeltaC    DeltaV     VarcoC  \\\n",
              "0   C10_KS  68.852290  0.042710  40.736395  0.034617  0.048132  50.175247   \n",
              "1   C11_NP  66.917795  0.051505  35.656482  0.041718  0.058601  52.940281   \n",
              "2   C12_CC  61.479637  0.032102  39.503674  0.026686  0.033072  42.331244   \n",
              "3   C13_RG  62.583076  0.040942  42.759600  0.036751  0.036588  55.635092   \n",
              "4    C1_DS  68.617398  0.051455  35.256398  0.039044  0.040756  51.578556   \n",
              "5    C2_JH  65.815309  0.048965  36.545598  0.037516  0.039234  52.248189   \n",
              "6    C3_MD  63.576180  0.032737  43.907782  0.029212  0.036132  50.358968   \n",
              "7    C4_ZO  59.793407  0.053060  34.286472  0.042230  0.038792  51.418690   \n",
              "8    C5_HL  58.677071  0.035343  42.226845  0.029615  0.031473  49.935975   \n",
              "9    C6_LH  64.682585  0.047838  38.806444  0.038161  0.047157  54.542548   \n",
              "10   C7_SH  51.724905  0.029511  42.984071  0.024637  0.023040  44.365923   \n",
              "11   C9_RD  65.058166  0.047297  35.449120  0.040492  0.037757  56.294014   \n",
              "\n",
              "       VarcoV  \n",
              "0   61.122657  \n",
              "1   62.183480  \n",
              "2   48.588245  \n",
              "3   52.193887  \n",
              "4   52.652741  \n",
              "5   52.575648  \n",
              "6   52.280039  \n",
              "7   51.212773  \n",
              "8   49.518404  \n",
              "9   55.262672  \n",
              "10  43.318403  \n",
              "11  48.575963  "
            ],
            "text/html": [
              "\n",
              "  <div id=\"df-c48cc033-db92-44b7-a295-ea1151338991\">\n",
              "    <div class=\"colab-df-container\">\n",
              "      <div>\n",
              "<style scoped>\n",
              "    .dataframe tbody tr th:only-of-type {\n",
              "        vertical-align: middle;\n",
              "    }\n",
              "\n",
              "    .dataframe tbody tr th {\n",
              "        vertical-align: top;\n",
              "    }\n",
              "\n",
              "    .dataframe thead th {\n",
              "        text-align: right;\n",
              "    }\n",
              "</style>\n",
              "<table border=\"1\" class=\"dataframe\">\n",
              "  <thead>\n",
              "    <tr style=\"text-align: right;\">\n",
              "      <th></th>\n",
              "      <th>ID</th>\n",
              "      <th>nPVI</th>\n",
              "      <th>rPVI</th>\n",
              "      <th>%V</th>\n",
              "      <th>DeltaC</th>\n",
              "      <th>DeltaV</th>\n",
              "      <th>VarcoC</th>\n",
              "      <th>VarcoV</th>\n",
              "    </tr>\n",
              "  </thead>\n",
              "  <tbody>\n",
              "    <tr>\n",
              "      <th>0</th>\n",
              "      <td>C10_KS</td>\n",
              "      <td>68.852290</td>\n",
              "      <td>0.042710</td>\n",
              "      <td>40.736395</td>\n",
              "      <td>0.034617</td>\n",
              "      <td>0.048132</td>\n",
              "      <td>50.175247</td>\n",
              "      <td>61.122657</td>\n",
              "    </tr>\n",
              "    <tr>\n",
              "      <th>1</th>\n",
              "      <td>C11_NP</td>\n",
              "      <td>66.917795</td>\n",
              "      <td>0.051505</td>\n",
              "      <td>35.656482</td>\n",
              "      <td>0.041718</td>\n",
              "      <td>0.058601</td>\n",
              "      <td>52.940281</td>\n",
              "      <td>62.183480</td>\n",
              "    </tr>\n",
              "    <tr>\n",
              "      <th>2</th>\n",
              "      <td>C12_CC</td>\n",
              "      <td>61.479637</td>\n",
              "      <td>0.032102</td>\n",
              "      <td>39.503674</td>\n",
              "      <td>0.026686</td>\n",
              "      <td>0.033072</td>\n",
              "      <td>42.331244</td>\n",
              "      <td>48.588245</td>\n",
              "    </tr>\n",
              "    <tr>\n",
              "      <th>3</th>\n",
              "      <td>C13_RG</td>\n",
              "      <td>62.583076</td>\n",
              "      <td>0.040942</td>\n",
              "      <td>42.759600</td>\n",
              "      <td>0.036751</td>\n",
              "      <td>0.036588</td>\n",
              "      <td>55.635092</td>\n",
              "      <td>52.193887</td>\n",
              "    </tr>\n",
              "    <tr>\n",
              "      <th>4</th>\n",
              "      <td>C1_DS</td>\n",
              "      <td>68.617398</td>\n",
              "      <td>0.051455</td>\n",
              "      <td>35.256398</td>\n",
              "      <td>0.039044</td>\n",
              "      <td>0.040756</td>\n",
              "      <td>51.578556</td>\n",
              "      <td>52.652741</td>\n",
              "    </tr>\n",
              "    <tr>\n",
              "      <th>5</th>\n",
              "      <td>C2_JH</td>\n",
              "      <td>65.815309</td>\n",
              "      <td>0.048965</td>\n",
              "      <td>36.545598</td>\n",
              "      <td>0.037516</td>\n",
              "      <td>0.039234</td>\n",
              "      <td>52.248189</td>\n",
              "      <td>52.575648</td>\n",
              "    </tr>\n",
              "    <tr>\n",
              "      <th>6</th>\n",
              "      <td>C3_MD</td>\n",
              "      <td>63.576180</td>\n",
              "      <td>0.032737</td>\n",
              "      <td>43.907782</td>\n",
              "      <td>0.029212</td>\n",
              "      <td>0.036132</td>\n",
              "      <td>50.358968</td>\n",
              "      <td>52.280039</td>\n",
              "    </tr>\n",
              "    <tr>\n",
              "      <th>7</th>\n",
              "      <td>C4_ZO</td>\n",
              "      <td>59.793407</td>\n",
              "      <td>0.053060</td>\n",
              "      <td>34.286472</td>\n",
              "      <td>0.042230</td>\n",
              "      <td>0.038792</td>\n",
              "      <td>51.418690</td>\n",
              "      <td>51.212773</td>\n",
              "    </tr>\n",
              "    <tr>\n",
              "      <th>8</th>\n",
              "      <td>C5_HL</td>\n",
              "      <td>58.677071</td>\n",
              "      <td>0.035343</td>\n",
              "      <td>42.226845</td>\n",
              "      <td>0.029615</td>\n",
              "      <td>0.031473</td>\n",
              "      <td>49.935975</td>\n",
              "      <td>49.518404</td>\n",
              "    </tr>\n",
              "    <tr>\n",
              "      <th>9</th>\n",
              "      <td>C6_LH</td>\n",
              "      <td>64.682585</td>\n",
              "      <td>0.047838</td>\n",
              "      <td>38.806444</td>\n",
              "      <td>0.038161</td>\n",
              "      <td>0.047157</td>\n",
              "      <td>54.542548</td>\n",
              "      <td>55.262672</td>\n",
              "    </tr>\n",
              "    <tr>\n",
              "      <th>10</th>\n",
              "      <td>C7_SH</td>\n",
              "      <td>51.724905</td>\n",
              "      <td>0.029511</td>\n",
              "      <td>42.984071</td>\n",
              "      <td>0.024637</td>\n",
              "      <td>0.023040</td>\n",
              "      <td>44.365923</td>\n",
              "      <td>43.318403</td>\n",
              "    </tr>\n",
              "    <tr>\n",
              "      <th>11</th>\n",
              "      <td>C9_RD</td>\n",
              "      <td>65.058166</td>\n",
              "      <td>0.047297</td>\n",
              "      <td>35.449120</td>\n",
              "      <td>0.040492</td>\n",
              "      <td>0.037757</td>\n",
              "      <td>56.294014</td>\n",
              "      <td>48.575963</td>\n",
              "    </tr>\n",
              "  </tbody>\n",
              "</table>\n",
              "</div>\n",
              "      <button class=\"colab-df-convert\" onclick=\"convertToInteractive('df-c48cc033-db92-44b7-a295-ea1151338991')\"\n",
              "              title=\"Convert this dataframe to an interactive table.\"\n",
              "              style=\"display:none;\">\n",
              "        \n",
              "  <svg xmlns=\"http://www.w3.org/2000/svg\" height=\"24px\"viewBox=\"0 0 24 24\"\n",
              "       width=\"24px\">\n",
              "    <path d=\"M0 0h24v24H0V0z\" fill=\"none\"/>\n",
              "    <path d=\"M18.56 5.44l.94 2.06.94-2.06 2.06-.94-2.06-.94-.94-2.06-.94 2.06-2.06.94zm-11 1L8.5 8.5l.94-2.06 2.06-.94-2.06-.94L8.5 2.5l-.94 2.06-2.06.94zm10 10l.94 2.06.94-2.06 2.06-.94-2.06-.94-.94-2.06-.94 2.06-2.06.94z\"/><path d=\"M17.41 7.96l-1.37-1.37c-.4-.4-.92-.59-1.43-.59-.52 0-1.04.2-1.43.59L10.3 9.45l-7.72 7.72c-.78.78-.78 2.05 0 2.83L4 21.41c.39.39.9.59 1.41.59.51 0 1.02-.2 1.41-.59l7.78-7.78 2.81-2.81c.8-.78.8-2.07 0-2.86zM5.41 20L4 18.59l7.72-7.72 1.47 1.35L5.41 20z\"/>\n",
              "  </svg>\n",
              "      </button>\n",
              "      \n",
              "  <style>\n",
              "    .colab-df-container {\n",
              "      display:flex;\n",
              "      flex-wrap:wrap;\n",
              "      gap: 12px;\n",
              "    }\n",
              "\n",
              "    .colab-df-convert {\n",
              "      background-color: #E8F0FE;\n",
              "      border: none;\n",
              "      border-radius: 50%;\n",
              "      cursor: pointer;\n",
              "      display: none;\n",
              "      fill: #1967D2;\n",
              "      height: 32px;\n",
              "      padding: 0 0 0 0;\n",
              "      width: 32px;\n",
              "    }\n",
              "\n",
              "    .colab-df-convert:hover {\n",
              "      background-color: #E2EBFA;\n",
              "      box-shadow: 0px 1px 2px rgba(60, 64, 67, 0.3), 0px 1px 3px 1px rgba(60, 64, 67, 0.15);\n",
              "      fill: #174EA6;\n",
              "    }\n",
              "\n",
              "    [theme=dark] .colab-df-convert {\n",
              "      background-color: #3B4455;\n",
              "      fill: #D2E3FC;\n",
              "    }\n",
              "\n",
              "    [theme=dark] .colab-df-convert:hover {\n",
              "      background-color: #434B5C;\n",
              "      box-shadow: 0px 1px 3px 1px rgba(0, 0, 0, 0.15);\n",
              "      filter: drop-shadow(0px 1px 2px rgba(0, 0, 0, 0.3));\n",
              "      fill: #FFFFFF;\n",
              "    }\n",
              "  </style>\n",
              "\n",
              "      <script>\n",
              "        const buttonEl =\n",
              "          document.querySelector('#df-c48cc033-db92-44b7-a295-ea1151338991 button.colab-df-convert');\n",
              "        buttonEl.style.display =\n",
              "          google.colab.kernel.accessAllowed ? 'block' : 'none';\n",
              "\n",
              "        async function convertToInteractive(key) {\n",
              "          const element = document.querySelector('#df-c48cc033-db92-44b7-a295-ea1151338991');\n",
              "          const dataTable =\n",
              "            await google.colab.kernel.invokeFunction('convertToInteractive',\n",
              "                                                     [key], {});\n",
              "          if (!dataTable) return;\n",
              "\n",
              "          const docLinkHtml = 'Like what you see? Visit the ' +\n",
              "            '<a target=\"_blank\" href=https://colab.research.google.com/notebooks/data_table.ipynb>data table notebook</a>'\n",
              "            + ' to learn more about interactive tables.';\n",
              "          element.innerHTML = '';\n",
              "          dataTable['output_type'] = 'display_data';\n",
              "          await google.colab.output.renderOutput(dataTable, element);\n",
              "          const docLink = document.createElement('div');\n",
              "          docLink.innerHTML = docLinkHtml;\n",
              "          element.appendChild(docLink);\n",
              "        }\n",
              "      </script>\n",
              "    </div>\n",
              "  </div>\n",
              "  "
            ]
          },
          "metadata": {},
          "execution_count": 31
        }
      ]
    },
    {
      "cell_type": "code",
      "source": [
        "result_interview_pws"
      ],
      "metadata": {
        "colab": {
          "base_uri": "https://localhost:8080/",
          "height": 613
        },
        "id": "v4Zz6td6nYNn",
        "outputId": "c2238ee5-8eb0-441c-fd0a-aec8e989d211"
      },
      "execution_count": null,
      "outputs": [
        {
          "output_type": "execute_result",
          "data": {
            "text/plain": [
              "      ID       nPVI      rPVI         %V    DeltaC    DeltaV     VarcoC  \\\n",
              "0   24fa  69.537450  0.048982  49.495649  0.045279  0.067058  69.219903   \n",
              "1   24ma  72.012035  0.044075  50.814779  0.039224  0.066617  66.205630   \n",
              "2   24mb  58.574000  0.036660  51.696246  0.034359  0.046838  60.219078   \n",
              "3    26f  70.037693  0.046398  49.332043  0.044605  0.075128  69.596320   \n",
              "4   29ma  68.613415  0.048766  45.647204  0.046413  0.059410  70.351105   \n",
              "5   29mb  71.312694  0.048605  48.910719  0.038726  0.055778  56.830401   \n",
              "6   29mc  73.791678  0.044312  49.952192  0.036357  0.060177  56.625932   \n",
              "7    32m  72.902056  0.065937  42.303913  0.060436  0.071485  75.344708   \n",
              "8    34m  66.779031  0.058965  42.896187  0.054390  0.083258  69.060991   \n",
              "9   35mb  70.206304  0.050762  47.243054  0.043373  0.064853  61.738665   \n",
              "10  46ma  71.378241  0.050118  45.674303  0.045610  0.063753  65.561110   \n",
              "11  50fa  62.069890  0.047245  46.080506  0.041298  0.051423  62.404415   \n",
              "12  50fb  70.059751  0.066589  38.348571  0.054711  0.091880  59.239178   \n",
              "13   54f  69.841753  0.056569  43.575228  0.043440  0.060832  52.730869   \n",
              "14   57m  68.760368  0.040013  46.009745  0.038719  0.060267  58.369922   \n",
              "15   60m  70.215658  0.046185  48.657792  0.041744  0.058303  64.910918   \n",
              "16   62f  74.671628  0.063850  43.367957  0.055918  0.075425  67.285345   \n",
              "17   62m  67.280429  0.044983  49.145903  0.041184  0.046871  63.663975   \n",
              "\n",
              "       VarcoV  \n",
              "0   72.426370  \n",
              "1   80.070490  \n",
              "2   68.003783  \n",
              "3   75.380318  \n",
              "4   73.122706  \n",
              "5   60.668758  \n",
              "6   64.374585  \n",
              "7   80.970753  \n",
              "8   78.860146  \n",
              "9   59.440750  \n",
              "10  71.796549  \n",
              "11  67.762848  \n",
              "12  59.618497  \n",
              "13  56.688453  \n",
              "14  73.230251  \n",
              "15  67.951161  \n",
              "16  66.658728  \n",
              "17  65.033866  "
            ],
            "text/html": [
              "\n",
              "  <div id=\"df-2a4f9f91-1f16-4507-a04e-52575b6f0fae\">\n",
              "    <div class=\"colab-df-container\">\n",
              "      <div>\n",
              "<style scoped>\n",
              "    .dataframe tbody tr th:only-of-type {\n",
              "        vertical-align: middle;\n",
              "    }\n",
              "\n",
              "    .dataframe tbody tr th {\n",
              "        vertical-align: top;\n",
              "    }\n",
              "\n",
              "    .dataframe thead th {\n",
              "        text-align: right;\n",
              "    }\n",
              "</style>\n",
              "<table border=\"1\" class=\"dataframe\">\n",
              "  <thead>\n",
              "    <tr style=\"text-align: right;\">\n",
              "      <th></th>\n",
              "      <th>ID</th>\n",
              "      <th>nPVI</th>\n",
              "      <th>rPVI</th>\n",
              "      <th>%V</th>\n",
              "      <th>DeltaC</th>\n",
              "      <th>DeltaV</th>\n",
              "      <th>VarcoC</th>\n",
              "      <th>VarcoV</th>\n",
              "    </tr>\n",
              "  </thead>\n",
              "  <tbody>\n",
              "    <tr>\n",
              "      <th>0</th>\n",
              "      <td>24fa</td>\n",
              "      <td>69.537450</td>\n",
              "      <td>0.048982</td>\n",
              "      <td>49.495649</td>\n",
              "      <td>0.045279</td>\n",
              "      <td>0.067058</td>\n",
              "      <td>69.219903</td>\n",
              "      <td>72.426370</td>\n",
              "    </tr>\n",
              "    <tr>\n",
              "      <th>1</th>\n",
              "      <td>24ma</td>\n",
              "      <td>72.012035</td>\n",
              "      <td>0.044075</td>\n",
              "      <td>50.814779</td>\n",
              "      <td>0.039224</td>\n",
              "      <td>0.066617</td>\n",
              "      <td>66.205630</td>\n",
              "      <td>80.070490</td>\n",
              "    </tr>\n",
              "    <tr>\n",
              "      <th>2</th>\n",
              "      <td>24mb</td>\n",
              "      <td>58.574000</td>\n",
              "      <td>0.036660</td>\n",
              "      <td>51.696246</td>\n",
              "      <td>0.034359</td>\n",
              "      <td>0.046838</td>\n",
              "      <td>60.219078</td>\n",
              "      <td>68.003783</td>\n",
              "    </tr>\n",
              "    <tr>\n",
              "      <th>3</th>\n",
              "      <td>26f</td>\n",
              "      <td>70.037693</td>\n",
              "      <td>0.046398</td>\n",
              "      <td>49.332043</td>\n",
              "      <td>0.044605</td>\n",
              "      <td>0.075128</td>\n",
              "      <td>69.596320</td>\n",
              "      <td>75.380318</td>\n",
              "    </tr>\n",
              "    <tr>\n",
              "      <th>4</th>\n",
              "      <td>29ma</td>\n",
              "      <td>68.613415</td>\n",
              "      <td>0.048766</td>\n",
              "      <td>45.647204</td>\n",
              "      <td>0.046413</td>\n",
              "      <td>0.059410</td>\n",
              "      <td>70.351105</td>\n",
              "      <td>73.122706</td>\n",
              "    </tr>\n",
              "    <tr>\n",
              "      <th>5</th>\n",
              "      <td>29mb</td>\n",
              "      <td>71.312694</td>\n",
              "      <td>0.048605</td>\n",
              "      <td>48.910719</td>\n",
              "      <td>0.038726</td>\n",
              "      <td>0.055778</td>\n",
              "      <td>56.830401</td>\n",
              "      <td>60.668758</td>\n",
              "    </tr>\n",
              "    <tr>\n",
              "      <th>6</th>\n",
              "      <td>29mc</td>\n",
              "      <td>73.791678</td>\n",
              "      <td>0.044312</td>\n",
              "      <td>49.952192</td>\n",
              "      <td>0.036357</td>\n",
              "      <td>0.060177</td>\n",
              "      <td>56.625932</td>\n",
              "      <td>64.374585</td>\n",
              "    </tr>\n",
              "    <tr>\n",
              "      <th>7</th>\n",
              "      <td>32m</td>\n",
              "      <td>72.902056</td>\n",
              "      <td>0.065937</td>\n",
              "      <td>42.303913</td>\n",
              "      <td>0.060436</td>\n",
              "      <td>0.071485</td>\n",
              "      <td>75.344708</td>\n",
              "      <td>80.970753</td>\n",
              "    </tr>\n",
              "    <tr>\n",
              "      <th>8</th>\n",
              "      <td>34m</td>\n",
              "      <td>66.779031</td>\n",
              "      <td>0.058965</td>\n",
              "      <td>42.896187</td>\n",
              "      <td>0.054390</td>\n",
              "      <td>0.083258</td>\n",
              "      <td>69.060991</td>\n",
              "      <td>78.860146</td>\n",
              "    </tr>\n",
              "    <tr>\n",
              "      <th>9</th>\n",
              "      <td>35mb</td>\n",
              "      <td>70.206304</td>\n",
              "      <td>0.050762</td>\n",
              "      <td>47.243054</td>\n",
              "      <td>0.043373</td>\n",
              "      <td>0.064853</td>\n",
              "      <td>61.738665</td>\n",
              "      <td>59.440750</td>\n",
              "    </tr>\n",
              "    <tr>\n",
              "      <th>10</th>\n",
              "      <td>46ma</td>\n",
              "      <td>71.378241</td>\n",
              "      <td>0.050118</td>\n",
              "      <td>45.674303</td>\n",
              "      <td>0.045610</td>\n",
              "      <td>0.063753</td>\n",
              "      <td>65.561110</td>\n",
              "      <td>71.796549</td>\n",
              "    </tr>\n",
              "    <tr>\n",
              "      <th>11</th>\n",
              "      <td>50fa</td>\n",
              "      <td>62.069890</td>\n",
              "      <td>0.047245</td>\n",
              "      <td>46.080506</td>\n",
              "      <td>0.041298</td>\n",
              "      <td>0.051423</td>\n",
              "      <td>62.404415</td>\n",
              "      <td>67.762848</td>\n",
              "    </tr>\n",
              "    <tr>\n",
              "      <th>12</th>\n",
              "      <td>50fb</td>\n",
              "      <td>70.059751</td>\n",
              "      <td>0.066589</td>\n",
              "      <td>38.348571</td>\n",
              "      <td>0.054711</td>\n",
              "      <td>0.091880</td>\n",
              "      <td>59.239178</td>\n",
              "      <td>59.618497</td>\n",
              "    </tr>\n",
              "    <tr>\n",
              "      <th>13</th>\n",
              "      <td>54f</td>\n",
              "      <td>69.841753</td>\n",
              "      <td>0.056569</td>\n",
              "      <td>43.575228</td>\n",
              "      <td>0.043440</td>\n",
              "      <td>0.060832</td>\n",
              "      <td>52.730869</td>\n",
              "      <td>56.688453</td>\n",
              "    </tr>\n",
              "    <tr>\n",
              "      <th>14</th>\n",
              "      <td>57m</td>\n",
              "      <td>68.760368</td>\n",
              "      <td>0.040013</td>\n",
              "      <td>46.009745</td>\n",
              "      <td>0.038719</td>\n",
              "      <td>0.060267</td>\n",
              "      <td>58.369922</td>\n",
              "      <td>73.230251</td>\n",
              "    </tr>\n",
              "    <tr>\n",
              "      <th>15</th>\n",
              "      <td>60m</td>\n",
              "      <td>70.215658</td>\n",
              "      <td>0.046185</td>\n",
              "      <td>48.657792</td>\n",
              "      <td>0.041744</td>\n",
              "      <td>0.058303</td>\n",
              "      <td>64.910918</td>\n",
              "      <td>67.951161</td>\n",
              "    </tr>\n",
              "    <tr>\n",
              "      <th>16</th>\n",
              "      <td>62f</td>\n",
              "      <td>74.671628</td>\n",
              "      <td>0.063850</td>\n",
              "      <td>43.367957</td>\n",
              "      <td>0.055918</td>\n",
              "      <td>0.075425</td>\n",
              "      <td>67.285345</td>\n",
              "      <td>66.658728</td>\n",
              "    </tr>\n",
              "    <tr>\n",
              "      <th>17</th>\n",
              "      <td>62m</td>\n",
              "      <td>67.280429</td>\n",
              "      <td>0.044983</td>\n",
              "      <td>49.145903</td>\n",
              "      <td>0.041184</td>\n",
              "      <td>0.046871</td>\n",
              "      <td>63.663975</td>\n",
              "      <td>65.033866</td>\n",
              "    </tr>\n",
              "  </tbody>\n",
              "</table>\n",
              "</div>\n",
              "      <button class=\"colab-df-convert\" onclick=\"convertToInteractive('df-2a4f9f91-1f16-4507-a04e-52575b6f0fae')\"\n",
              "              title=\"Convert this dataframe to an interactive table.\"\n",
              "              style=\"display:none;\">\n",
              "        \n",
              "  <svg xmlns=\"http://www.w3.org/2000/svg\" height=\"24px\"viewBox=\"0 0 24 24\"\n",
              "       width=\"24px\">\n",
              "    <path d=\"M0 0h24v24H0V0z\" fill=\"none\"/>\n",
              "    <path d=\"M18.56 5.44l.94 2.06.94-2.06 2.06-.94-2.06-.94-.94-2.06-.94 2.06-2.06.94zm-11 1L8.5 8.5l.94-2.06 2.06-.94-2.06-.94L8.5 2.5l-.94 2.06-2.06.94zm10 10l.94 2.06.94-2.06 2.06-.94-2.06-.94-.94-2.06-.94 2.06-2.06.94z\"/><path d=\"M17.41 7.96l-1.37-1.37c-.4-.4-.92-.59-1.43-.59-.52 0-1.04.2-1.43.59L10.3 9.45l-7.72 7.72c-.78.78-.78 2.05 0 2.83L4 21.41c.39.39.9.59 1.41.59.51 0 1.02-.2 1.41-.59l7.78-7.78 2.81-2.81c.8-.78.8-2.07 0-2.86zM5.41 20L4 18.59l7.72-7.72 1.47 1.35L5.41 20z\"/>\n",
              "  </svg>\n",
              "      </button>\n",
              "      \n",
              "  <style>\n",
              "    .colab-df-container {\n",
              "      display:flex;\n",
              "      flex-wrap:wrap;\n",
              "      gap: 12px;\n",
              "    }\n",
              "\n",
              "    .colab-df-convert {\n",
              "      background-color: #E8F0FE;\n",
              "      border: none;\n",
              "      border-radius: 50%;\n",
              "      cursor: pointer;\n",
              "      display: none;\n",
              "      fill: #1967D2;\n",
              "      height: 32px;\n",
              "      padding: 0 0 0 0;\n",
              "      width: 32px;\n",
              "    }\n",
              "\n",
              "    .colab-df-convert:hover {\n",
              "      background-color: #E2EBFA;\n",
              "      box-shadow: 0px 1px 2px rgba(60, 64, 67, 0.3), 0px 1px 3px 1px rgba(60, 64, 67, 0.15);\n",
              "      fill: #174EA6;\n",
              "    }\n",
              "\n",
              "    [theme=dark] .colab-df-convert {\n",
              "      background-color: #3B4455;\n",
              "      fill: #D2E3FC;\n",
              "    }\n",
              "\n",
              "    [theme=dark] .colab-df-convert:hover {\n",
              "      background-color: #434B5C;\n",
              "      box-shadow: 0px 1px 3px 1px rgba(0, 0, 0, 0.15);\n",
              "      filter: drop-shadow(0px 1px 2px rgba(0, 0, 0, 0.3));\n",
              "      fill: #FFFFFF;\n",
              "    }\n",
              "  </style>\n",
              "\n",
              "      <script>\n",
              "        const buttonEl =\n",
              "          document.querySelector('#df-2a4f9f91-1f16-4507-a04e-52575b6f0fae button.colab-df-convert');\n",
              "        buttonEl.style.display =\n",
              "          google.colab.kernel.accessAllowed ? 'block' : 'none';\n",
              "\n",
              "        async function convertToInteractive(key) {\n",
              "          const element = document.querySelector('#df-2a4f9f91-1f16-4507-a04e-52575b6f0fae');\n",
              "          const dataTable =\n",
              "            await google.colab.kernel.invokeFunction('convertToInteractive',\n",
              "                                                     [key], {});\n",
              "          if (!dataTable) return;\n",
              "\n",
              "          const docLinkHtml = 'Like what you see? Visit the ' +\n",
              "            '<a target=\"_blank\" href=https://colab.research.google.com/notebooks/data_table.ipynb>data table notebook</a>'\n",
              "            + ' to learn more about interactive tables.';\n",
              "          element.innerHTML = '';\n",
              "          dataTable['output_type'] = 'display_data';\n",
              "          await google.colab.output.renderOutput(dataTable, element);\n",
              "          const docLink = document.createElement('div');\n",
              "          docLink.innerHTML = docLinkHtml;\n",
              "          element.appendChild(docLink);\n",
              "        }\n",
              "      </script>\n",
              "    </div>\n",
              "  </div>\n",
              "  "
            ]
          },
          "metadata": {},
          "execution_count": 32
        }
      ]
    },
    {
      "cell_type": "code",
      "source": [
        "result_interview_control"
      ],
      "metadata": {
        "colab": {
          "base_uri": "https://localhost:8080/",
          "height": 425
        },
        "id": "LTKMQibmn5JE",
        "outputId": "47c61e16-6100-46cf-d31f-4c37cf8ba916"
      },
      "execution_count": null,
      "outputs": [
        {
          "output_type": "execute_result",
          "data": {
            "text/plain": [
              "        ID       nPVI      rPVI         %V    DeltaC    DeltaV     VarcoC  \\\n",
              "0   C10_KS  65.590193  0.043720  46.841161  0.036476  0.043312  59.080004   \n",
              "1   C11_NP  69.452211  0.054498  41.099575  0.049588  0.070665  71.012711   \n",
              "2   C12_CC  64.268528  0.044856  42.481980  0.041165  0.048267  61.736118   \n",
              "3   C13_RG  63.808017  0.041980  48.274545  0.034250  0.049638  57.592445   \n",
              "4    C1_DS  68.119123  0.054371  42.909927  0.046939  0.066704  64.388302   \n",
              "5    C2_JH  68.003592  0.050249  43.746125  0.042852  0.065057  62.903718   \n",
              "6    C3_MD  62.588765  0.040650  45.624890  0.035812  0.045693  57.187950   \n",
              "7    C4_ZO  65.209082  0.055766  38.708089  0.047928  0.070130  59.921940   \n",
              "8    C5_HL  54.689048  0.040451  47.167568  0.034993  0.039055  56.648402   \n",
              "9    C6_LH  63.051998  0.039874  46.015939  0.032392  0.038430  52.096197   \n",
              "10   C7_SH  47.473068  0.031977  52.087405  0.027469  0.026535  52.727725   \n",
              "11   C9_RD  62.571461  0.056348  43.918727  0.042790  0.044601  56.978152   \n",
              "\n",
              "       VarcoV  \n",
              "0   62.742000  \n",
              "1   75.370129  \n",
              "2   63.464569  \n",
              "3   65.901860  \n",
              "4   78.846435  \n",
              "5   65.322395  \n",
              "6   58.561654  \n",
              "7   79.034894  \n",
              "8   57.729990  \n",
              "9   51.825660  \n",
              "10  52.072523  \n",
              "11  54.065238  "
            ],
            "text/html": [
              "\n",
              "  <div id=\"df-e909fe39-5806-4e98-86cf-e1c1deba1e49\">\n",
              "    <div class=\"colab-df-container\">\n",
              "      <div>\n",
              "<style scoped>\n",
              "    .dataframe tbody tr th:only-of-type {\n",
              "        vertical-align: middle;\n",
              "    }\n",
              "\n",
              "    .dataframe tbody tr th {\n",
              "        vertical-align: top;\n",
              "    }\n",
              "\n",
              "    .dataframe thead th {\n",
              "        text-align: right;\n",
              "    }\n",
              "</style>\n",
              "<table border=\"1\" class=\"dataframe\">\n",
              "  <thead>\n",
              "    <tr style=\"text-align: right;\">\n",
              "      <th></th>\n",
              "      <th>ID</th>\n",
              "      <th>nPVI</th>\n",
              "      <th>rPVI</th>\n",
              "      <th>%V</th>\n",
              "      <th>DeltaC</th>\n",
              "      <th>DeltaV</th>\n",
              "      <th>VarcoC</th>\n",
              "      <th>VarcoV</th>\n",
              "    </tr>\n",
              "  </thead>\n",
              "  <tbody>\n",
              "    <tr>\n",
              "      <th>0</th>\n",
              "      <td>C10_KS</td>\n",
              "      <td>65.590193</td>\n",
              "      <td>0.043720</td>\n",
              "      <td>46.841161</td>\n",
              "      <td>0.036476</td>\n",
              "      <td>0.043312</td>\n",
              "      <td>59.080004</td>\n",
              "      <td>62.742000</td>\n",
              "    </tr>\n",
              "    <tr>\n",
              "      <th>1</th>\n",
              "      <td>C11_NP</td>\n",
              "      <td>69.452211</td>\n",
              "      <td>0.054498</td>\n",
              "      <td>41.099575</td>\n",
              "      <td>0.049588</td>\n",
              "      <td>0.070665</td>\n",
              "      <td>71.012711</td>\n",
              "      <td>75.370129</td>\n",
              "    </tr>\n",
              "    <tr>\n",
              "      <th>2</th>\n",
              "      <td>C12_CC</td>\n",
              "      <td>64.268528</td>\n",
              "      <td>0.044856</td>\n",
              "      <td>42.481980</td>\n",
              "      <td>0.041165</td>\n",
              "      <td>0.048267</td>\n",
              "      <td>61.736118</td>\n",
              "      <td>63.464569</td>\n",
              "    </tr>\n",
              "    <tr>\n",
              "      <th>3</th>\n",
              "      <td>C13_RG</td>\n",
              "      <td>63.808017</td>\n",
              "      <td>0.041980</td>\n",
              "      <td>48.274545</td>\n",
              "      <td>0.034250</td>\n",
              "      <td>0.049638</td>\n",
              "      <td>57.592445</td>\n",
              "      <td>65.901860</td>\n",
              "    </tr>\n",
              "    <tr>\n",
              "      <th>4</th>\n",
              "      <td>C1_DS</td>\n",
              "      <td>68.119123</td>\n",
              "      <td>0.054371</td>\n",
              "      <td>42.909927</td>\n",
              "      <td>0.046939</td>\n",
              "      <td>0.066704</td>\n",
              "      <td>64.388302</td>\n",
              "      <td>78.846435</td>\n",
              "    </tr>\n",
              "    <tr>\n",
              "      <th>5</th>\n",
              "      <td>C2_JH</td>\n",
              "      <td>68.003592</td>\n",
              "      <td>0.050249</td>\n",
              "      <td>43.746125</td>\n",
              "      <td>0.042852</td>\n",
              "      <td>0.065057</td>\n",
              "      <td>62.903718</td>\n",
              "      <td>65.322395</td>\n",
              "    </tr>\n",
              "    <tr>\n",
              "      <th>6</th>\n",
              "      <td>C3_MD</td>\n",
              "      <td>62.588765</td>\n",
              "      <td>0.040650</td>\n",
              "      <td>45.624890</td>\n",
              "      <td>0.035812</td>\n",
              "      <td>0.045693</td>\n",
              "      <td>57.187950</td>\n",
              "      <td>58.561654</td>\n",
              "    </tr>\n",
              "    <tr>\n",
              "      <th>7</th>\n",
              "      <td>C4_ZO</td>\n",
              "      <td>65.209082</td>\n",
              "      <td>0.055766</td>\n",
              "      <td>38.708089</td>\n",
              "      <td>0.047928</td>\n",
              "      <td>0.070130</td>\n",
              "      <td>59.921940</td>\n",
              "      <td>79.034894</td>\n",
              "    </tr>\n",
              "    <tr>\n",
              "      <th>8</th>\n",
              "      <td>C5_HL</td>\n",
              "      <td>54.689048</td>\n",
              "      <td>0.040451</td>\n",
              "      <td>47.167568</td>\n",
              "      <td>0.034993</td>\n",
              "      <td>0.039055</td>\n",
              "      <td>56.648402</td>\n",
              "      <td>57.729990</td>\n",
              "    </tr>\n",
              "    <tr>\n",
              "      <th>9</th>\n",
              "      <td>C6_LH</td>\n",
              "      <td>63.051998</td>\n",
              "      <td>0.039874</td>\n",
              "      <td>46.015939</td>\n",
              "      <td>0.032392</td>\n",
              "      <td>0.038430</td>\n",
              "      <td>52.096197</td>\n",
              "      <td>51.825660</td>\n",
              "    </tr>\n",
              "    <tr>\n",
              "      <th>10</th>\n",
              "      <td>C7_SH</td>\n",
              "      <td>47.473068</td>\n",
              "      <td>0.031977</td>\n",
              "      <td>52.087405</td>\n",
              "      <td>0.027469</td>\n",
              "      <td>0.026535</td>\n",
              "      <td>52.727725</td>\n",
              "      <td>52.072523</td>\n",
              "    </tr>\n",
              "    <tr>\n",
              "      <th>11</th>\n",
              "      <td>C9_RD</td>\n",
              "      <td>62.571461</td>\n",
              "      <td>0.056348</td>\n",
              "      <td>43.918727</td>\n",
              "      <td>0.042790</td>\n",
              "      <td>0.044601</td>\n",
              "      <td>56.978152</td>\n",
              "      <td>54.065238</td>\n",
              "    </tr>\n",
              "  </tbody>\n",
              "</table>\n",
              "</div>\n",
              "      <button class=\"colab-df-convert\" onclick=\"convertToInteractive('df-e909fe39-5806-4e98-86cf-e1c1deba1e49')\"\n",
              "              title=\"Convert this dataframe to an interactive table.\"\n",
              "              style=\"display:none;\">\n",
              "        \n",
              "  <svg xmlns=\"http://www.w3.org/2000/svg\" height=\"24px\"viewBox=\"0 0 24 24\"\n",
              "       width=\"24px\">\n",
              "    <path d=\"M0 0h24v24H0V0z\" fill=\"none\"/>\n",
              "    <path d=\"M18.56 5.44l.94 2.06.94-2.06 2.06-.94-2.06-.94-.94-2.06-.94 2.06-2.06.94zm-11 1L8.5 8.5l.94-2.06 2.06-.94-2.06-.94L8.5 2.5l-.94 2.06-2.06.94zm10 10l.94 2.06.94-2.06 2.06-.94-2.06-.94-.94-2.06-.94 2.06-2.06.94z\"/><path d=\"M17.41 7.96l-1.37-1.37c-.4-.4-.92-.59-1.43-.59-.52 0-1.04.2-1.43.59L10.3 9.45l-7.72 7.72c-.78.78-.78 2.05 0 2.83L4 21.41c.39.39.9.59 1.41.59.51 0 1.02-.2 1.41-.59l7.78-7.78 2.81-2.81c.8-.78.8-2.07 0-2.86zM5.41 20L4 18.59l7.72-7.72 1.47 1.35L5.41 20z\"/>\n",
              "  </svg>\n",
              "      </button>\n",
              "      \n",
              "  <style>\n",
              "    .colab-df-container {\n",
              "      display:flex;\n",
              "      flex-wrap:wrap;\n",
              "      gap: 12px;\n",
              "    }\n",
              "\n",
              "    .colab-df-convert {\n",
              "      background-color: #E8F0FE;\n",
              "      border: none;\n",
              "      border-radius: 50%;\n",
              "      cursor: pointer;\n",
              "      display: none;\n",
              "      fill: #1967D2;\n",
              "      height: 32px;\n",
              "      padding: 0 0 0 0;\n",
              "      width: 32px;\n",
              "    }\n",
              "\n",
              "    .colab-df-convert:hover {\n",
              "      background-color: #E2EBFA;\n",
              "      box-shadow: 0px 1px 2px rgba(60, 64, 67, 0.3), 0px 1px 3px 1px rgba(60, 64, 67, 0.15);\n",
              "      fill: #174EA6;\n",
              "    }\n",
              "\n",
              "    [theme=dark] .colab-df-convert {\n",
              "      background-color: #3B4455;\n",
              "      fill: #D2E3FC;\n",
              "    }\n",
              "\n",
              "    [theme=dark] .colab-df-convert:hover {\n",
              "      background-color: #434B5C;\n",
              "      box-shadow: 0px 1px 3px 1px rgba(0, 0, 0, 0.15);\n",
              "      filter: drop-shadow(0px 1px 2px rgba(0, 0, 0, 0.3));\n",
              "      fill: #FFFFFF;\n",
              "    }\n",
              "  </style>\n",
              "\n",
              "      <script>\n",
              "        const buttonEl =\n",
              "          document.querySelector('#df-e909fe39-5806-4e98-86cf-e1c1deba1e49 button.colab-df-convert');\n",
              "        buttonEl.style.display =\n",
              "          google.colab.kernel.accessAllowed ? 'block' : 'none';\n",
              "\n",
              "        async function convertToInteractive(key) {\n",
              "          const element = document.querySelector('#df-e909fe39-5806-4e98-86cf-e1c1deba1e49');\n",
              "          const dataTable =\n",
              "            await google.colab.kernel.invokeFunction('convertToInteractive',\n",
              "                                                     [key], {});\n",
              "          if (!dataTable) return;\n",
              "\n",
              "          const docLinkHtml = 'Like what you see? Visit the ' +\n",
              "            '<a target=\"_blank\" href=https://colab.research.google.com/notebooks/data_table.ipynb>data table notebook</a>'\n",
              "            + ' to learn more about interactive tables.';\n",
              "          element.innerHTML = '';\n",
              "          dataTable['output_type'] = 'display_data';\n",
              "          await google.colab.output.renderOutput(dataTable, element);\n",
              "          const docLink = document.createElement('div');\n",
              "          docLink.innerHTML = docLinkHtml;\n",
              "          element.appendChild(docLink);\n",
              "        }\n",
              "      </script>\n",
              "    </div>\n",
              "  </div>\n",
              "  "
            ]
          },
          "metadata": {},
          "execution_count": 33
        }
      ]
    },
    {
      "cell_type": "markdown",
      "source": [
        "**Show Group/Condition Averages**"
      ],
      "metadata": {
        "id": "hlEj8v7S1CXd"
      }
    },
    {
      "cell_type": "code",
      "source": [
        "result_reading_pws.mean()"
      ],
      "metadata": {
        "colab": {
          "base_uri": "https://localhost:8080/"
        },
        "id": "kF0k_UPRmpG1",
        "outputId": "70d48cd9-e4e9-483d-e8ac-30d89167793e"
      },
      "execution_count": null,
      "outputs": [
        {
          "output_type": "execute_result",
          "data": {
            "text/plain": [
              "nPVI      66.905342\n",
              "rPVI       0.052200\n",
              "%V        41.980101\n",
              "DeltaC     0.043409\n",
              "DeltaV     0.051780\n",
              "VarcoC    57.403576\n",
              "VarcoV    57.989315\n",
              "dtype: float64"
            ]
          },
          "metadata": {},
          "execution_count": 34
        }
      ]
    },
    {
      "cell_type": "code",
      "source": [
        "result_reading_control.mean()"
      ],
      "metadata": {
        "colab": {
          "base_uri": "https://localhost:8080/"
        },
        "id": "RbLDvm__nEqy",
        "outputId": "5eda6de1-0329-4b45-a769-811ebce3db15"
      },
      "execution_count": null,
      "outputs": [
        {
          "output_type": "execute_result",
          "data": {
            "text/plain": [
              "nPVI      63.148152\n",
              "rPVI       0.042789\n",
              "%V        39.009907\n",
              "DeltaC     0.035057\n",
              "DeltaV     0.039228\n",
              "VarcoC    50.985394\n",
              "VarcoV    52.457076\n",
              "dtype: float64"
            ]
          },
          "metadata": {},
          "execution_count": 35
        }
      ]
    },
    {
      "cell_type": "code",
      "source": [
        "result_interview_pws.mean()"
      ],
      "metadata": {
        "colab": {
          "base_uri": "https://localhost:8080/"
        },
        "id": "GXJHQCRRnbpN",
        "outputId": "42befde1-597d-4e45-9c8c-e81d0da2b347"
      },
      "execution_count": null,
      "outputs": [
        {
          "output_type": "execute_result",
          "data": {
            "text/plain": [
              "nPVI      69.335782\n",
              "rPVI       0.050501\n",
              "%V        46.619555\n",
              "DeltaC     0.044766\n",
              "DeltaV     0.064409\n",
              "VarcoC    63.853248\n",
              "VarcoV    69.003278\n",
              "dtype: float64"
            ]
          },
          "metadata": {},
          "execution_count": 36
        }
      ]
    },
    {
      "cell_type": "code",
      "source": [
        "result_interview_control.mean()"
      ],
      "metadata": {
        "colab": {
          "base_uri": "https://localhost:8080/"
        },
        "id": "dpFNQiO_nm7P",
        "outputId": "9c433b9b-aaba-4206-96ff-130788eb58bb"
      },
      "execution_count": null,
      "outputs": [
        {
          "output_type": "execute_result",
          "data": {
            "text/plain": [
              "nPVI      62.902091\n",
              "rPVI       0.046228\n",
              "%V        44.906328\n",
              "DeltaC     0.039388\n",
              "DeltaV     0.050674\n",
              "VarcoC    59.356139\n",
              "VarcoV    63.744779\n",
              "dtype: float64"
            ]
          },
          "metadata": {},
          "execution_count": 37
        }
      ]
    },
    {
      "cell_type": "markdown",
      "source": [
        "**Standard Deviation**"
      ],
      "metadata": {
        "id": "JhXGB_KSes22"
      }
    },
    {
      "cell_type": "code",
      "source": [
        "# reading pws\n",
        "SD_nPVI_r_p = result_reading_pws[\"nPVI\"].std()\n",
        "SD_rPVI_r_p = result_reading_pws[\"rPVI\"].std()\n",
        "SD_PercV_r_p = result_reading_pws[\"%V\"].std()\n",
        "SD_DeltaC_r_p = result_reading_pws[\"DeltaC\"].std()\n",
        "SD_DeltaV_r_p = result_reading_pws[\"DeltaV\"].std()\n",
        "SD_VarcoC_r_p = result_reading_pws[\"VarcoC\"].std()\n",
        "SD_VarcoV_r_p = result_reading_pws[\"VarcoV\"].std()"
      ],
      "metadata": {
        "id": "czn14o-hfQ8m"
      },
      "execution_count": null,
      "outputs": []
    },
    {
      "cell_type": "code",
      "source": [
        "# reading control\n",
        "SD_nPVI_r_c = result_reading_control[\"nPVI\"].std()\n",
        "SD_rPVI_r_c = result_reading_control[\"rPVI\"].std()\n",
        "SD_PercV_r_c = result_reading_control[\"%V\"].std()\n",
        "SD_DeltaC_r_c = result_reading_control[\"DeltaC\"].std()\n",
        "SD_DeltaV_r_c = result_reading_control[\"DeltaV\"].std()\n",
        "SD_VarcoC_r_c = result_reading_control[\"VarcoC\"].std()\n",
        "SD_VarcoV_r_c = result_reading_control[\"VarcoV\"].std()"
      ],
      "metadata": {
        "id": "gOsNKZ0bevYf"
      },
      "execution_count": null,
      "outputs": []
    },
    {
      "cell_type": "code",
      "source": [
        "# interview pws\n",
        "SD_nPVI_i_p = result_interview_pws[\"nPVI\"].std()\n",
        "SD_rPVI_i_p = result_interview_pws[\"rPVI\"].std()\n",
        "SD_PercV_i_p = result_interview_pws[\"%V\"].std()\n",
        "SD_DeltaC_i_p = result_interview_pws[\"DeltaC\"].std()\n",
        "SD_DeltaV_i_p = result_interview_pws[\"DeltaV\"].std()\n",
        "SD_VarcoC_i_p = result_interview_pws[\"VarcoC\"].std()\n",
        "SD_VarcoV_i_p = result_interview_pws[\"VarcoV\"].std()"
      ],
      "metadata": {
        "id": "34WKnpn5fqin"
      },
      "execution_count": null,
      "outputs": []
    },
    {
      "cell_type": "code",
      "source": [
        "# interview control\n",
        "SD_nPVI_i_c = result_interview_control[\"nPVI\"].std()\n",
        "SD_rPVI_i_c = result_interview_control[\"rPVI\"].std()\n",
        "SD_PercV_i_c = result_interview_control[\"%V\"].std()\n",
        "SD_DeltaC_i_c = result_interview_control[\"DeltaC\"].std()\n",
        "SD_DeltaV_i_c = result_interview_control[\"DeltaV\"].std()\n",
        "SD_VarcoC_i_c = result_interview_control[\"VarcoC\"].std()\n",
        "SD_VarcoV_i_c = result_interview_control[\"VarcoV\"].std()"
      ],
      "metadata": {
        "id": "N58VyJrDfdcm"
      },
      "execution_count": null,
      "outputs": []
    },
    {
      "cell_type": "markdown",
      "source": [
        "**Result Tables**"
      ],
      "metadata": {
        "id": "07yfRAkfY42d"
      }
    },
    {
      "cell_type": "markdown",
      "source": [
        "**Reading**"
      ],
      "metadata": {
        "id": "LkJu8k82daH3"
      }
    },
    {
      "cell_type": "code",
      "source": [
        "means = [result_reading_pws.mean()[0], result_reading_control.mean()[0], result_reading_pws.mean()[1],result_reading_control.mean()[1],result_reading_pws.mean()[2], result_reading_control.mean()[2], result_reading_pws.mean()[3],result_reading_control.mean()[3], result_reading_pws.mean()[4],result_reading_control.mean()[4], result_reading_pws.mean()[5],result_reading_control.mean()[5],result_reading_pws.mean()[6], result_reading_control.mean()[6]]"
      ],
      "metadata": {
        "id": "t1hF2ecxdcJe"
      },
      "execution_count": null,
      "outputs": []
    },
    {
      "cell_type": "code",
      "source": [
        "fig = go.Figure(data=[go.Table(\n",
        "    header=dict(values=['Rhythm Metrics', 'Group', 'Mean','SD'],\n",
        "                line_color='black',\n",
        "                fill_color='lightgray',\n",
        "                align='left'),\n",
        "    cells=dict(values=[[\"nPVI\",\"\", \"rPVI\", \"\",\"%V\", \"\",\"DeltaC\", \"\",\"DeltaV\",\"\", \"VarcoC\",\"\", \"VarcoV\",\"\"], # 1st column\n",
        "                       [\"Stuttering\", \"Non-Stuttering\", \"Stuttering\", \"Non-Stuttering\", \"Stuttering\", \"Non-Stuttering\", \"Stuttering\", \"Non-Stuttering\", \"Stuttering\", \"Non-Stuttering\", \"Stuttering\", \"Non-Stuttering\", \"Stuttering\", \"Non-Stuttering\"],\n",
        "                      [means[0],means[1],means[2],means[3],means[4],means[5],means[6],means[7],means[8],means[9],means[10],means[11],means[12],means[13] ],\n",
        "                       [SD_nPVI_r_p, SD_nPVI_r_c, SD_rPVI_r_p, SD_rPVI_r_c, SD_PercV_r_p, SD_PercV_r_c, SD_DeltaC_r_p, SD_DeltaC_r_c, SD_DeltaV_r_p, SD_DeltaV_r_c, SD_VarcoC_r_p, SD_VarcoC_r_c, SD_VarcoV_r_p, SD_VarcoV_r_c]], # 2nd column\n",
        "               line_color='darkslategray',\n",
        "               fill_color='white',\n",
        "               align='left'))\n",
        "])"
      ],
      "metadata": {
        "id": "fTEN2wRrdcBV"
      },
      "execution_count": null,
      "outputs": []
    },
    {
      "cell_type": "code",
      "source": [
        "fig.show()"
      ],
      "metadata": {
        "colab": {
          "base_uri": "https://localhost:8080/",
          "height": 542
        },
        "id": "feq-b1tfd2UO",
        "outputId": "935fedd0-68dc-48b9-c138-94c79066e9bf"
      },
      "execution_count": null,
      "outputs": [
        {
          "output_type": "display_data",
          "data": {
            "text/html": [
              "<html>\n",
              "<head><meta charset=\"utf-8\" /></head>\n",
              "<body>\n",
              "    <div>            <script src=\"https://cdnjs.cloudflare.com/ajax/libs/mathjax/2.7.5/MathJax.js?config=TeX-AMS-MML_SVG\"></script><script type=\"text/javascript\">if (window.MathJax) {MathJax.Hub.Config({SVG: {font: \"STIX-Web\"}});}</script>                <script type=\"text/javascript\">window.PlotlyConfig = {MathJaxConfig: 'local'};</script>\n",
              "        <script src=\"https://cdn.plot.ly/plotly-2.8.3.min.js\"></script>                <div id=\"1c82f8dd-3848-4349-b0ac-3391b5f4c52c\" class=\"plotly-graph-div\" style=\"height:525px; width:100%;\"></div>            <script type=\"text/javascript\">                                    window.PLOTLYENV=window.PLOTLYENV || {};                                    if (document.getElementById(\"1c82f8dd-3848-4349-b0ac-3391b5f4c52c\")) {                    Plotly.newPlot(                        \"1c82f8dd-3848-4349-b0ac-3391b5f4c52c\",                        [{\"cells\":{\"align\":\"left\",\"fill\":{\"color\":\"white\"},\"line\":{\"color\":\"darkslategray\"},\"values\":[[\"nPVI\",\"\",\"rPVI\",\"\",\"%V\",\"\",\"DeltaC\",\"\",\"DeltaV\",\"\",\"VarcoC\",\"\",\"VarcoV\",\"\"],[\"Stuttering\",\"Non-Stuttering\",\"Stuttering\",\"Non-Stuttering\",\"Stuttering\",\"Non-Stuttering\",\"Stuttering\",\"Non-Stuttering\",\"Stuttering\",\"Non-Stuttering\",\"Stuttering\",\"Non-Stuttering\",\"Stuttering\",\"Non-Stuttering\"],[66.90534240441075,63.14815165737192,0.05220041804617628,0.04278865505451751,41.98010096665436,39.00990665096787,0.04340949051565642,0.035056520443293944,0.0517797637340165,0.03922784327074183,57.403575566101686,50.985393895638,57.98931457419427,52.45707599961153],[4.341808147702717,4.812845855375608,0.008917828843401053,0.008479678032318708,3.0909950072276033,3.4883591741488718,0.006518388184636228,0.0060485485555665875,0.01120843948932177,0.009039203307999259,5.815639450247625,4.148077849082127,4.779933488032079,5.234934030493072]]},\"header\":{\"align\":\"left\",\"fill\":{\"color\":\"lightgray\"},\"line\":{\"color\":\"black\"},\"values\":[\"Rhythm Metrics\",\"Group\",\"Mean\",\"SD\"]},\"type\":\"table\"}],                        {\"template\":{\"data\":{\"bar\":[{\"error_x\":{\"color\":\"#2a3f5f\"},\"error_y\":{\"color\":\"#2a3f5f\"},\"marker\":{\"line\":{\"color\":\"#E5ECF6\",\"width\":0.5},\"pattern\":{\"fillmode\":\"overlay\",\"size\":10,\"solidity\":0.2}},\"type\":\"bar\"}],\"barpolar\":[{\"marker\":{\"line\":{\"color\":\"#E5ECF6\",\"width\":0.5},\"pattern\":{\"fillmode\":\"overlay\",\"size\":10,\"solidity\":0.2}},\"type\":\"barpolar\"}],\"carpet\":[{\"aaxis\":{\"endlinecolor\":\"#2a3f5f\",\"gridcolor\":\"white\",\"linecolor\":\"white\",\"minorgridcolor\":\"white\",\"startlinecolor\":\"#2a3f5f\"},\"baxis\":{\"endlinecolor\":\"#2a3f5f\",\"gridcolor\":\"white\",\"linecolor\":\"white\",\"minorgridcolor\":\"white\",\"startlinecolor\":\"#2a3f5f\"},\"type\":\"carpet\"}],\"choropleth\":[{\"colorbar\":{\"outlinewidth\":0,\"ticks\":\"\"},\"type\":\"choropleth\"}],\"contour\":[{\"colorbar\":{\"outlinewidth\":0,\"ticks\":\"\"},\"colorscale\":[[0.0,\"#0d0887\"],[0.1111111111111111,\"#46039f\"],[0.2222222222222222,\"#7201a8\"],[0.3333333333333333,\"#9c179e\"],[0.4444444444444444,\"#bd3786\"],[0.5555555555555556,\"#d8576b\"],[0.6666666666666666,\"#ed7953\"],[0.7777777777777778,\"#fb9f3a\"],[0.8888888888888888,\"#fdca26\"],[1.0,\"#f0f921\"]],\"type\":\"contour\"}],\"contourcarpet\":[{\"colorbar\":{\"outlinewidth\":0,\"ticks\":\"\"},\"type\":\"contourcarpet\"}],\"heatmap\":[{\"colorbar\":{\"outlinewidth\":0,\"ticks\":\"\"},\"colorscale\":[[0.0,\"#0d0887\"],[0.1111111111111111,\"#46039f\"],[0.2222222222222222,\"#7201a8\"],[0.3333333333333333,\"#9c179e\"],[0.4444444444444444,\"#bd3786\"],[0.5555555555555556,\"#d8576b\"],[0.6666666666666666,\"#ed7953\"],[0.7777777777777778,\"#fb9f3a\"],[0.8888888888888888,\"#fdca26\"],[1.0,\"#f0f921\"]],\"type\":\"heatmap\"}],\"heatmapgl\":[{\"colorbar\":{\"outlinewidth\":0,\"ticks\":\"\"},\"colorscale\":[[0.0,\"#0d0887\"],[0.1111111111111111,\"#46039f\"],[0.2222222222222222,\"#7201a8\"],[0.3333333333333333,\"#9c179e\"],[0.4444444444444444,\"#bd3786\"],[0.5555555555555556,\"#d8576b\"],[0.6666666666666666,\"#ed7953\"],[0.7777777777777778,\"#fb9f3a\"],[0.8888888888888888,\"#fdca26\"],[1.0,\"#f0f921\"]],\"type\":\"heatmapgl\"}],\"histogram\":[{\"marker\":{\"pattern\":{\"fillmode\":\"overlay\",\"size\":10,\"solidity\":0.2}},\"type\":\"histogram\"}],\"histogram2d\":[{\"colorbar\":{\"outlinewidth\":0,\"ticks\":\"\"},\"colorscale\":[[0.0,\"#0d0887\"],[0.1111111111111111,\"#46039f\"],[0.2222222222222222,\"#7201a8\"],[0.3333333333333333,\"#9c179e\"],[0.4444444444444444,\"#bd3786\"],[0.5555555555555556,\"#d8576b\"],[0.6666666666666666,\"#ed7953\"],[0.7777777777777778,\"#fb9f3a\"],[0.8888888888888888,\"#fdca26\"],[1.0,\"#f0f921\"]],\"type\":\"histogram2d\"}],\"histogram2dcontour\":[{\"colorbar\":{\"outlinewidth\":0,\"ticks\":\"\"},\"colorscale\":[[0.0,\"#0d0887\"],[0.1111111111111111,\"#46039f\"],[0.2222222222222222,\"#7201a8\"],[0.3333333333333333,\"#9c179e\"],[0.4444444444444444,\"#bd3786\"],[0.5555555555555556,\"#d8576b\"],[0.6666666666666666,\"#ed7953\"],[0.7777777777777778,\"#fb9f3a\"],[0.8888888888888888,\"#fdca26\"],[1.0,\"#f0f921\"]],\"type\":\"histogram2dcontour\"}],\"mesh3d\":[{\"colorbar\":{\"outlinewidth\":0,\"ticks\":\"\"},\"type\":\"mesh3d\"}],\"parcoords\":[{\"line\":{\"colorbar\":{\"outlinewidth\":0,\"ticks\":\"\"}},\"type\":\"parcoords\"}],\"pie\":[{\"automargin\":true,\"type\":\"pie\"}],\"scatter\":[{\"marker\":{\"colorbar\":{\"outlinewidth\":0,\"ticks\":\"\"}},\"type\":\"scatter\"}],\"scatter3d\":[{\"line\":{\"colorbar\":{\"outlinewidth\":0,\"ticks\":\"\"}},\"marker\":{\"colorbar\":{\"outlinewidth\":0,\"ticks\":\"\"}},\"type\":\"scatter3d\"}],\"scattercarpet\":[{\"marker\":{\"colorbar\":{\"outlinewidth\":0,\"ticks\":\"\"}},\"type\":\"scattercarpet\"}],\"scattergeo\":[{\"marker\":{\"colorbar\":{\"outlinewidth\":0,\"ticks\":\"\"}},\"type\":\"scattergeo\"}],\"scattergl\":[{\"marker\":{\"colorbar\":{\"outlinewidth\":0,\"ticks\":\"\"}},\"type\":\"scattergl\"}],\"scattermapbox\":[{\"marker\":{\"colorbar\":{\"outlinewidth\":0,\"ticks\":\"\"}},\"type\":\"scattermapbox\"}],\"scatterpolar\":[{\"marker\":{\"colorbar\":{\"outlinewidth\":0,\"ticks\":\"\"}},\"type\":\"scatterpolar\"}],\"scatterpolargl\":[{\"marker\":{\"colorbar\":{\"outlinewidth\":0,\"ticks\":\"\"}},\"type\":\"scatterpolargl\"}],\"scatterternary\":[{\"marker\":{\"colorbar\":{\"outlinewidth\":0,\"ticks\":\"\"}},\"type\":\"scatterternary\"}],\"surface\":[{\"colorbar\":{\"outlinewidth\":0,\"ticks\":\"\"},\"colorscale\":[[0.0,\"#0d0887\"],[0.1111111111111111,\"#46039f\"],[0.2222222222222222,\"#7201a8\"],[0.3333333333333333,\"#9c179e\"],[0.4444444444444444,\"#bd3786\"],[0.5555555555555556,\"#d8576b\"],[0.6666666666666666,\"#ed7953\"],[0.7777777777777778,\"#fb9f3a\"],[0.8888888888888888,\"#fdca26\"],[1.0,\"#f0f921\"]],\"type\":\"surface\"}],\"table\":[{\"cells\":{\"fill\":{\"color\":\"#EBF0F8\"},\"line\":{\"color\":\"white\"}},\"header\":{\"fill\":{\"color\":\"#C8D4E3\"},\"line\":{\"color\":\"white\"}},\"type\":\"table\"}]},\"layout\":{\"annotationdefaults\":{\"arrowcolor\":\"#2a3f5f\",\"arrowhead\":0,\"arrowwidth\":1},\"autotypenumbers\":\"strict\",\"coloraxis\":{\"colorbar\":{\"outlinewidth\":0,\"ticks\":\"\"}},\"colorscale\":{\"diverging\":[[0,\"#8e0152\"],[0.1,\"#c51b7d\"],[0.2,\"#de77ae\"],[0.3,\"#f1b6da\"],[0.4,\"#fde0ef\"],[0.5,\"#f7f7f7\"],[0.6,\"#e6f5d0\"],[0.7,\"#b8e186\"],[0.8,\"#7fbc41\"],[0.9,\"#4d9221\"],[1,\"#276419\"]],\"sequential\":[[0.0,\"#0d0887\"],[0.1111111111111111,\"#46039f\"],[0.2222222222222222,\"#7201a8\"],[0.3333333333333333,\"#9c179e\"],[0.4444444444444444,\"#bd3786\"],[0.5555555555555556,\"#d8576b\"],[0.6666666666666666,\"#ed7953\"],[0.7777777777777778,\"#fb9f3a\"],[0.8888888888888888,\"#fdca26\"],[1.0,\"#f0f921\"]],\"sequentialminus\":[[0.0,\"#0d0887\"],[0.1111111111111111,\"#46039f\"],[0.2222222222222222,\"#7201a8\"],[0.3333333333333333,\"#9c179e\"],[0.4444444444444444,\"#bd3786\"],[0.5555555555555556,\"#d8576b\"],[0.6666666666666666,\"#ed7953\"],[0.7777777777777778,\"#fb9f3a\"],[0.8888888888888888,\"#fdca26\"],[1.0,\"#f0f921\"]]},\"colorway\":[\"#636efa\",\"#EF553B\",\"#00cc96\",\"#ab63fa\",\"#FFA15A\",\"#19d3f3\",\"#FF6692\",\"#B6E880\",\"#FF97FF\",\"#FECB52\"],\"font\":{\"color\":\"#2a3f5f\"},\"geo\":{\"bgcolor\":\"white\",\"lakecolor\":\"white\",\"landcolor\":\"#E5ECF6\",\"showlakes\":true,\"showland\":true,\"subunitcolor\":\"white\"},\"hoverlabel\":{\"align\":\"left\"},\"hovermode\":\"closest\",\"mapbox\":{\"style\":\"light\"},\"paper_bgcolor\":\"white\",\"plot_bgcolor\":\"#E5ECF6\",\"polar\":{\"angularaxis\":{\"gridcolor\":\"white\",\"linecolor\":\"white\",\"ticks\":\"\"},\"bgcolor\":\"#E5ECF6\",\"radialaxis\":{\"gridcolor\":\"white\",\"linecolor\":\"white\",\"ticks\":\"\"}},\"scene\":{\"xaxis\":{\"backgroundcolor\":\"#E5ECF6\",\"gridcolor\":\"white\",\"gridwidth\":2,\"linecolor\":\"white\",\"showbackground\":true,\"ticks\":\"\",\"zerolinecolor\":\"white\"},\"yaxis\":{\"backgroundcolor\":\"#E5ECF6\",\"gridcolor\":\"white\",\"gridwidth\":2,\"linecolor\":\"white\",\"showbackground\":true,\"ticks\":\"\",\"zerolinecolor\":\"white\"},\"zaxis\":{\"backgroundcolor\":\"#E5ECF6\",\"gridcolor\":\"white\",\"gridwidth\":2,\"linecolor\":\"white\",\"showbackground\":true,\"ticks\":\"\",\"zerolinecolor\":\"white\"}},\"shapedefaults\":{\"line\":{\"color\":\"#2a3f5f\"}},\"ternary\":{\"aaxis\":{\"gridcolor\":\"white\",\"linecolor\":\"white\",\"ticks\":\"\"},\"baxis\":{\"gridcolor\":\"white\",\"linecolor\":\"white\",\"ticks\":\"\"},\"bgcolor\":\"#E5ECF6\",\"caxis\":{\"gridcolor\":\"white\",\"linecolor\":\"white\",\"ticks\":\"\"}},\"title\":{\"x\":0.05},\"xaxis\":{\"automargin\":true,\"gridcolor\":\"white\",\"linecolor\":\"white\",\"ticks\":\"\",\"title\":{\"standoff\":15},\"zerolinecolor\":\"white\",\"zerolinewidth\":2},\"yaxis\":{\"automargin\":true,\"gridcolor\":\"white\",\"linecolor\":\"white\",\"ticks\":\"\",\"title\":{\"standoff\":15},\"zerolinecolor\":\"white\",\"zerolinewidth\":2}}}},                        {\"responsive\": true}                    ).then(function(){\n",
              "                            \n",
              "var gd = document.getElementById('1c82f8dd-3848-4349-b0ac-3391b5f4c52c');\n",
              "var x = new MutationObserver(function (mutations, observer) {{\n",
              "        var display = window.getComputedStyle(gd).display;\n",
              "        if (!display || display === 'none') {{\n",
              "            console.log([gd, 'removed!']);\n",
              "            Plotly.purge(gd);\n",
              "            observer.disconnect();\n",
              "        }}\n",
              "}});\n",
              "\n",
              "// Listen for the removal of the full notebook cells\n",
              "var notebookContainer = gd.closest('#notebook-container');\n",
              "if (notebookContainer) {{\n",
              "    x.observe(notebookContainer, {childList: true});\n",
              "}}\n",
              "\n",
              "// Listen for the clearing of the current output cell\n",
              "var outputEl = gd.closest('.output');\n",
              "if (outputEl) {{\n",
              "    x.observe(outputEl, {childList: true});\n",
              "}}\n",
              "\n",
              "                        })                };                            </script>        </div>\n",
              "</body>\n",
              "</html>"
            ]
          },
          "metadata": {}
        }
      ]
    },
    {
      "cell_type": "markdown",
      "source": [
        "**Interview**"
      ],
      "metadata": {
        "id": "0Y_fZvbBdXj2"
      }
    },
    {
      "cell_type": "code",
      "source": [
        "means = [result_interview_pws.mean()[0], result_interview_control.mean()[0], result_interview_pws.mean()[1],result_interview_control.mean()[1],result_interview_pws.mean()[2], result_interview_control.mean()[2], result_interview_pws.mean()[3],result_interview_control.mean()[3], result_interview_pws.mean()[4],result_interview_control.mean()[4], result_interview_pws.mean()[5],result_interview_control.mean()[5],result_interview_pws.mean()[6], result_interview_control.mean()[6]]"
      ],
      "metadata": {
        "id": "eIKjnIXWajL0"
      },
      "execution_count": null,
      "outputs": []
    },
    {
      "cell_type": "code",
      "source": [
        "fig = go.Figure(data=[go.Table(\n",
        "    header=dict(values=['Rhythm Metrics', 'Group', 'Mean', 'SD'],\n",
        "                line_color='black',\n",
        "                fill_color='lightgray',\n",
        "                align='left'),\n",
        "    cells=dict(values=[[\"nPVI\",\"\", \"rPVI\", \"\",\"%V\", \"\",\"DeltaC\", \"\",\"DeltaV\",\"\", \"VarcoC\",\"\", \"VarcoV\",\"\"], # 1st column\n",
        "                       [\"Stuttering\", \"Non-Stuttering\", \"Stuttering\", \"Non-Stuttering\", \"Stuttering\", \"Non-Stuttering\", \"Stuttering\", \"Non-Stuttering\", \"Stuttering\", \"Non-Stuttering\", \"Stuttering\", \"Non-Stuttering\", \"Stuttering\", \"Non-Stuttering\"],\n",
        "                      [means[0],means[1],means[2],means[3],means[4],means[5],means[6],means[7],means[8],means[9],means[10],means[11],means[12],means[13] ],\n",
        "                       [SD_nPVI_i_p, SD_nPVI_i_c, SD_rPVI_i_p, SD_rPVI_i_c, SD_PercV_i_p, SD_PercV_i_c, SD_DeltaC_i_p, SD_DeltaC_i_c, SD_DeltaV_i_p, SD_DeltaV_i_c, SD_VarcoC_i_p, SD_VarcoC_i_c, SD_VarcoV_i_p, SD_VarcoV_i_c]], # 2nd column\n",
        "               line_color='darkslategray',\n",
        "               fill_color='white',\n",
        "               align='left'))\n",
        "])"
      ],
      "metadata": {
        "id": "NOT6652gZkYU"
      },
      "execution_count": null,
      "outputs": []
    },
    {
      "cell_type": "code",
      "source": [
        "fig.show()"
      ],
      "metadata": {
        "colab": {
          "base_uri": "https://localhost:8080/",
          "height": 542
        },
        "id": "2ybXpZOibeUs",
        "outputId": "49798a05-ba7d-4d36-e628-c617760cac4d"
      },
      "execution_count": null,
      "outputs": [
        {
          "output_type": "display_data",
          "data": {
            "text/html": [
              "<html>\n",
              "<head><meta charset=\"utf-8\" /></head>\n",
              "<body>\n",
              "    <div>            <script src=\"https://cdnjs.cloudflare.com/ajax/libs/mathjax/2.7.5/MathJax.js?config=TeX-AMS-MML_SVG\"></script><script type=\"text/javascript\">if (window.MathJax) {MathJax.Hub.Config({SVG: {font: \"STIX-Web\"}});}</script>                <script type=\"text/javascript\">window.PlotlyConfig = {MathJaxConfig: 'local'};</script>\n",
              "        <script src=\"https://cdn.plot.ly/plotly-2.8.3.min.js\"></script>                <div id=\"00ea573e-11d8-4797-b4de-c536902a9d6b\" class=\"plotly-graph-div\" style=\"height:525px; width:100%;\"></div>            <script type=\"text/javascript\">                                    window.PLOTLYENV=window.PLOTLYENV || {};                                    if (document.getElementById(\"00ea573e-11d8-4797-b4de-c536902a9d6b\")) {                    Plotly.newPlot(                        \"00ea573e-11d8-4797-b4de-c536902a9d6b\",                        [{\"cells\":{\"align\":\"left\",\"fill\":{\"color\":\"white\"},\"line\":{\"color\":\"darkslategray\"},\"values\":[[\"nPVI\",\"\",\"rPVI\",\"\",\"%V\",\"\",\"DeltaC\",\"\",\"DeltaV\",\"\",\"VarcoC\",\"\",\"VarcoV\",\"\"],[\"Stuttering\",\"Non-Stuttering\",\"Stuttering\",\"Non-Stuttering\",\"Stuttering\",\"Non-Stuttering\",\"Stuttering\",\"Non-Stuttering\",\"Stuttering\",\"Non-Stuttering\",\"Stuttering\",\"Non-Stuttering\",\"Stuttering\",\"Non-Stuttering\"],[69.33578185497483,62.902090550306774,0.05050080809620233,0.04622824181257079,46.619555089032154,44.9063275431752,0.044765839546053635,0.039387971040757364,0.06440884587490486,0.05067390635737584,63.85324817411389,59.35613862224414,69.0032784321898,63.74477900026573],[3.905920961245067,6.157933117132867,0.00857679734189699,0.007853323671428325,3.510683839870572,3.5497905508092416,0.007217671057323392,0.006866919569728532,0.011828143739924394,0.01424583649861635,5.845866336652938,5.198647505590928,7.295618233600354,9.724688776909208]]},\"header\":{\"align\":\"left\",\"fill\":{\"color\":\"lightgray\"},\"line\":{\"color\":\"black\"},\"values\":[\"Rhythm Metrics\",\"Group\",\"Mean\",\"SD\"]},\"type\":\"table\"}],                        {\"template\":{\"data\":{\"bar\":[{\"error_x\":{\"color\":\"#2a3f5f\"},\"error_y\":{\"color\":\"#2a3f5f\"},\"marker\":{\"line\":{\"color\":\"#E5ECF6\",\"width\":0.5},\"pattern\":{\"fillmode\":\"overlay\",\"size\":10,\"solidity\":0.2}},\"type\":\"bar\"}],\"barpolar\":[{\"marker\":{\"line\":{\"color\":\"#E5ECF6\",\"width\":0.5},\"pattern\":{\"fillmode\":\"overlay\",\"size\":10,\"solidity\":0.2}},\"type\":\"barpolar\"}],\"carpet\":[{\"aaxis\":{\"endlinecolor\":\"#2a3f5f\",\"gridcolor\":\"white\",\"linecolor\":\"white\",\"minorgridcolor\":\"white\",\"startlinecolor\":\"#2a3f5f\"},\"baxis\":{\"endlinecolor\":\"#2a3f5f\",\"gridcolor\":\"white\",\"linecolor\":\"white\",\"minorgridcolor\":\"white\",\"startlinecolor\":\"#2a3f5f\"},\"type\":\"carpet\"}],\"choropleth\":[{\"colorbar\":{\"outlinewidth\":0,\"ticks\":\"\"},\"type\":\"choropleth\"}],\"contour\":[{\"colorbar\":{\"outlinewidth\":0,\"ticks\":\"\"},\"colorscale\":[[0.0,\"#0d0887\"],[0.1111111111111111,\"#46039f\"],[0.2222222222222222,\"#7201a8\"],[0.3333333333333333,\"#9c179e\"],[0.4444444444444444,\"#bd3786\"],[0.5555555555555556,\"#d8576b\"],[0.6666666666666666,\"#ed7953\"],[0.7777777777777778,\"#fb9f3a\"],[0.8888888888888888,\"#fdca26\"],[1.0,\"#f0f921\"]],\"type\":\"contour\"}],\"contourcarpet\":[{\"colorbar\":{\"outlinewidth\":0,\"ticks\":\"\"},\"type\":\"contourcarpet\"}],\"heatmap\":[{\"colorbar\":{\"outlinewidth\":0,\"ticks\":\"\"},\"colorscale\":[[0.0,\"#0d0887\"],[0.1111111111111111,\"#46039f\"],[0.2222222222222222,\"#7201a8\"],[0.3333333333333333,\"#9c179e\"],[0.4444444444444444,\"#bd3786\"],[0.5555555555555556,\"#d8576b\"],[0.6666666666666666,\"#ed7953\"],[0.7777777777777778,\"#fb9f3a\"],[0.8888888888888888,\"#fdca26\"],[1.0,\"#f0f921\"]],\"type\":\"heatmap\"}],\"heatmapgl\":[{\"colorbar\":{\"outlinewidth\":0,\"ticks\":\"\"},\"colorscale\":[[0.0,\"#0d0887\"],[0.1111111111111111,\"#46039f\"],[0.2222222222222222,\"#7201a8\"],[0.3333333333333333,\"#9c179e\"],[0.4444444444444444,\"#bd3786\"],[0.5555555555555556,\"#d8576b\"],[0.6666666666666666,\"#ed7953\"],[0.7777777777777778,\"#fb9f3a\"],[0.8888888888888888,\"#fdca26\"],[1.0,\"#f0f921\"]],\"type\":\"heatmapgl\"}],\"histogram\":[{\"marker\":{\"pattern\":{\"fillmode\":\"overlay\",\"size\":10,\"solidity\":0.2}},\"type\":\"histogram\"}],\"histogram2d\":[{\"colorbar\":{\"outlinewidth\":0,\"ticks\":\"\"},\"colorscale\":[[0.0,\"#0d0887\"],[0.1111111111111111,\"#46039f\"],[0.2222222222222222,\"#7201a8\"],[0.3333333333333333,\"#9c179e\"],[0.4444444444444444,\"#bd3786\"],[0.5555555555555556,\"#d8576b\"],[0.6666666666666666,\"#ed7953\"],[0.7777777777777778,\"#fb9f3a\"],[0.8888888888888888,\"#fdca26\"],[1.0,\"#f0f921\"]],\"type\":\"histogram2d\"}],\"histogram2dcontour\":[{\"colorbar\":{\"outlinewidth\":0,\"ticks\":\"\"},\"colorscale\":[[0.0,\"#0d0887\"],[0.1111111111111111,\"#46039f\"],[0.2222222222222222,\"#7201a8\"],[0.3333333333333333,\"#9c179e\"],[0.4444444444444444,\"#bd3786\"],[0.5555555555555556,\"#d8576b\"],[0.6666666666666666,\"#ed7953\"],[0.7777777777777778,\"#fb9f3a\"],[0.8888888888888888,\"#fdca26\"],[1.0,\"#f0f921\"]],\"type\":\"histogram2dcontour\"}],\"mesh3d\":[{\"colorbar\":{\"outlinewidth\":0,\"ticks\":\"\"},\"type\":\"mesh3d\"}],\"parcoords\":[{\"line\":{\"colorbar\":{\"outlinewidth\":0,\"ticks\":\"\"}},\"type\":\"parcoords\"}],\"pie\":[{\"automargin\":true,\"type\":\"pie\"}],\"scatter\":[{\"marker\":{\"colorbar\":{\"outlinewidth\":0,\"ticks\":\"\"}},\"type\":\"scatter\"}],\"scatter3d\":[{\"line\":{\"colorbar\":{\"outlinewidth\":0,\"ticks\":\"\"}},\"marker\":{\"colorbar\":{\"outlinewidth\":0,\"ticks\":\"\"}},\"type\":\"scatter3d\"}],\"scattercarpet\":[{\"marker\":{\"colorbar\":{\"outlinewidth\":0,\"ticks\":\"\"}},\"type\":\"scattercarpet\"}],\"scattergeo\":[{\"marker\":{\"colorbar\":{\"outlinewidth\":0,\"ticks\":\"\"}},\"type\":\"scattergeo\"}],\"scattergl\":[{\"marker\":{\"colorbar\":{\"outlinewidth\":0,\"ticks\":\"\"}},\"type\":\"scattergl\"}],\"scattermapbox\":[{\"marker\":{\"colorbar\":{\"outlinewidth\":0,\"ticks\":\"\"}},\"type\":\"scattermapbox\"}],\"scatterpolar\":[{\"marker\":{\"colorbar\":{\"outlinewidth\":0,\"ticks\":\"\"}},\"type\":\"scatterpolar\"}],\"scatterpolargl\":[{\"marker\":{\"colorbar\":{\"outlinewidth\":0,\"ticks\":\"\"}},\"type\":\"scatterpolargl\"}],\"scatterternary\":[{\"marker\":{\"colorbar\":{\"outlinewidth\":0,\"ticks\":\"\"}},\"type\":\"scatterternary\"}],\"surface\":[{\"colorbar\":{\"outlinewidth\":0,\"ticks\":\"\"},\"colorscale\":[[0.0,\"#0d0887\"],[0.1111111111111111,\"#46039f\"],[0.2222222222222222,\"#7201a8\"],[0.3333333333333333,\"#9c179e\"],[0.4444444444444444,\"#bd3786\"],[0.5555555555555556,\"#d8576b\"],[0.6666666666666666,\"#ed7953\"],[0.7777777777777778,\"#fb9f3a\"],[0.8888888888888888,\"#fdca26\"],[1.0,\"#f0f921\"]],\"type\":\"surface\"}],\"table\":[{\"cells\":{\"fill\":{\"color\":\"#EBF0F8\"},\"line\":{\"color\":\"white\"}},\"header\":{\"fill\":{\"color\":\"#C8D4E3\"},\"line\":{\"color\":\"white\"}},\"type\":\"table\"}]},\"layout\":{\"annotationdefaults\":{\"arrowcolor\":\"#2a3f5f\",\"arrowhead\":0,\"arrowwidth\":1},\"autotypenumbers\":\"strict\",\"coloraxis\":{\"colorbar\":{\"outlinewidth\":0,\"ticks\":\"\"}},\"colorscale\":{\"diverging\":[[0,\"#8e0152\"],[0.1,\"#c51b7d\"],[0.2,\"#de77ae\"],[0.3,\"#f1b6da\"],[0.4,\"#fde0ef\"],[0.5,\"#f7f7f7\"],[0.6,\"#e6f5d0\"],[0.7,\"#b8e186\"],[0.8,\"#7fbc41\"],[0.9,\"#4d9221\"],[1,\"#276419\"]],\"sequential\":[[0.0,\"#0d0887\"],[0.1111111111111111,\"#46039f\"],[0.2222222222222222,\"#7201a8\"],[0.3333333333333333,\"#9c179e\"],[0.4444444444444444,\"#bd3786\"],[0.5555555555555556,\"#d8576b\"],[0.6666666666666666,\"#ed7953\"],[0.7777777777777778,\"#fb9f3a\"],[0.8888888888888888,\"#fdca26\"],[1.0,\"#f0f921\"]],\"sequentialminus\":[[0.0,\"#0d0887\"],[0.1111111111111111,\"#46039f\"],[0.2222222222222222,\"#7201a8\"],[0.3333333333333333,\"#9c179e\"],[0.4444444444444444,\"#bd3786\"],[0.5555555555555556,\"#d8576b\"],[0.6666666666666666,\"#ed7953\"],[0.7777777777777778,\"#fb9f3a\"],[0.8888888888888888,\"#fdca26\"],[1.0,\"#f0f921\"]]},\"colorway\":[\"#636efa\",\"#EF553B\",\"#00cc96\",\"#ab63fa\",\"#FFA15A\",\"#19d3f3\",\"#FF6692\",\"#B6E880\",\"#FF97FF\",\"#FECB52\"],\"font\":{\"color\":\"#2a3f5f\"},\"geo\":{\"bgcolor\":\"white\",\"lakecolor\":\"white\",\"landcolor\":\"#E5ECF6\",\"showlakes\":true,\"showland\":true,\"subunitcolor\":\"white\"},\"hoverlabel\":{\"align\":\"left\"},\"hovermode\":\"closest\",\"mapbox\":{\"style\":\"light\"},\"paper_bgcolor\":\"white\",\"plot_bgcolor\":\"#E5ECF6\",\"polar\":{\"angularaxis\":{\"gridcolor\":\"white\",\"linecolor\":\"white\",\"ticks\":\"\"},\"bgcolor\":\"#E5ECF6\",\"radialaxis\":{\"gridcolor\":\"white\",\"linecolor\":\"white\",\"ticks\":\"\"}},\"scene\":{\"xaxis\":{\"backgroundcolor\":\"#E5ECF6\",\"gridcolor\":\"white\",\"gridwidth\":2,\"linecolor\":\"white\",\"showbackground\":true,\"ticks\":\"\",\"zerolinecolor\":\"white\"},\"yaxis\":{\"backgroundcolor\":\"#E5ECF6\",\"gridcolor\":\"white\",\"gridwidth\":2,\"linecolor\":\"white\",\"showbackground\":true,\"ticks\":\"\",\"zerolinecolor\":\"white\"},\"zaxis\":{\"backgroundcolor\":\"#E5ECF6\",\"gridcolor\":\"white\",\"gridwidth\":2,\"linecolor\":\"white\",\"showbackground\":true,\"ticks\":\"\",\"zerolinecolor\":\"white\"}},\"shapedefaults\":{\"line\":{\"color\":\"#2a3f5f\"}},\"ternary\":{\"aaxis\":{\"gridcolor\":\"white\",\"linecolor\":\"white\",\"ticks\":\"\"},\"baxis\":{\"gridcolor\":\"white\",\"linecolor\":\"white\",\"ticks\":\"\"},\"bgcolor\":\"#E5ECF6\",\"caxis\":{\"gridcolor\":\"white\",\"linecolor\":\"white\",\"ticks\":\"\"}},\"title\":{\"x\":0.05},\"xaxis\":{\"automargin\":true,\"gridcolor\":\"white\",\"linecolor\":\"white\",\"ticks\":\"\",\"title\":{\"standoff\":15},\"zerolinecolor\":\"white\",\"zerolinewidth\":2},\"yaxis\":{\"automargin\":true,\"gridcolor\":\"white\",\"linecolor\":\"white\",\"ticks\":\"\",\"title\":{\"standoff\":15},\"zerolinecolor\":\"white\",\"zerolinewidth\":2}}}},                        {\"responsive\": true}                    ).then(function(){\n",
              "                            \n",
              "var gd = document.getElementById('00ea573e-11d8-4797-b4de-c536902a9d6b');\n",
              "var x = new MutationObserver(function (mutations, observer) {{\n",
              "        var display = window.getComputedStyle(gd).display;\n",
              "        if (!display || display === 'none') {{\n",
              "            console.log([gd, 'removed!']);\n",
              "            Plotly.purge(gd);\n",
              "            observer.disconnect();\n",
              "        }}\n",
              "}});\n",
              "\n",
              "// Listen for the removal of the full notebook cells\n",
              "var notebookContainer = gd.closest('#notebook-container');\n",
              "if (notebookContainer) {{\n",
              "    x.observe(notebookContainer, {childList: true});\n",
              "}}\n",
              "\n",
              "// Listen for the clearing of the current output cell\n",
              "var outputEl = gd.closest('.output');\n",
              "if (outputEl) {{\n",
              "    x.observe(outputEl, {childList: true});\n",
              "}}\n",
              "\n",
              "                        })                };                            </script>        </div>\n",
              "</body>\n",
              "</html>"
            ]
          },
          "metadata": {}
        }
      ]
    },
    {
      "cell_type": "markdown",
      "source": [
        "**Plot Results**"
      ],
      "metadata": {
        "id": "f5k0Kra6oPZC"
      }
    },
    {
      "cell_type": "markdown",
      "source": [
        "**Python Built-In**"
      ],
      "metadata": {
        "id": "fbkZNO1iSw5R"
      }
    },
    {
      "cell_type": "code",
      "source": [
        "pws_n = len(nPVI_reading_pws)\n",
        "control_n = len(nPVI_reading_control)\n",
        "subject_n = pws_n + control_n"
      ],
      "metadata": {
        "id": "IJaHh4YLITDk"
      },
      "execution_count": null,
      "outputs": []
    },
    {
      "cell_type": "code",
      "source": [
        "# initialize dataframes\n",
        "df_boxplot_pws = pd.DataFrame()\n",
        "df_boxplot_control = pd.DataFrame()\n",
        "df_boxplot_group = pd.DataFrame(index = range(subject_n), columns = [\"Group\"])"
      ],
      "metadata": {
        "id": "OAbcu7YsE5_D"
      },
      "execution_count": null,
      "outputs": []
    },
    {
      "cell_type": "code",
      "source": [
        "# group column\n",
        "df_boxplot_group.iloc[0:pws_n] = \"PWS\"\n",
        "df_boxplot_group.iloc[pws_n:subject_n] = \"Control\""
      ],
      "metadata": {
        "id": "9eLfUgk-HCM9"
      },
      "execution_count": null,
      "outputs": []
    },
    {
      "cell_type": "code",
      "source": [
        "#PWS rows\n",
        "df_boxplot_pws[\"Reading\"] = result_reading_pws[\"nPVI\"]\n",
        "df_boxplot_pws[\"Interview\"] = result_interview_pws[\"nPVI\"]"
      ],
      "metadata": {
        "id": "8Wm7G8VZE_Pk"
      },
      "execution_count": null,
      "outputs": []
    },
    {
      "cell_type": "code",
      "source": [
        "#Control rows\n",
        "df_boxplot_control[\"Reading\"] =result_reading_control[\"nPVI\"]\n",
        "df_boxplot_control[\"Interview\"] = result_interview_control[\"nPVI\"]"
      ],
      "metadata": {
        "id": "pwoo888BFjwk"
      },
      "execution_count": null,
      "outputs": []
    },
    {
      "cell_type": "code",
      "source": [
        "# Combine PWS and Control\n",
        "df_boxplot = pd.concat([df_boxplot_pws, df_boxplot_control], ignore_index = True)"
      ],
      "metadata": {
        "id": "sf3LhNdqGRaj"
      },
      "execution_count": null,
      "outputs": []
    },
    {
      "cell_type": "code",
      "source": [
        "#Add group column\n",
        "df_boxplot[\"Group\"] = df_boxplot_group"
      ],
      "metadata": {
        "id": "4f-muB5BI2ak"
      },
      "execution_count": null,
      "outputs": []
    },
    {
      "cell_type": "code",
      "source": [
        "df_boxplot"
      ],
      "metadata": {
        "id": "gmeZdVjhFENN",
        "colab": {
          "base_uri": "https://localhost:8080/",
          "height": 989
        },
        "outputId": "4567c309-7bdf-4f9b-9323-c9b2d783d4d7"
      },
      "execution_count": null,
      "outputs": [
        {
          "output_type": "execute_result",
          "data": {
            "text/plain": [
              "      Reading  Interview    Group\n",
              "0   69.769462  69.537450      PWS\n",
              "1   56.387716  72.012035      PWS\n",
              "2   63.740165  58.574000      PWS\n",
              "3   64.437853  70.037693      PWS\n",
              "4   60.912200  68.613415      PWS\n",
              "5   60.983703  71.312694      PWS\n",
              "6   71.044822  73.791678      PWS\n",
              "7   66.865079  72.902056      PWS\n",
              "8   68.052404  66.779031      PWS\n",
              "9   70.025958  70.206304      PWS\n",
              "10  67.314946  71.378241      PWS\n",
              "11  64.202145  62.069890      PWS\n",
              "12  67.220541  70.059751      PWS\n",
              "13  70.793083  69.841753      PWS\n",
              "14  70.186730  68.760368      PWS\n",
              "15  71.339429  70.215658      PWS\n",
              "16  72.415608  74.671628      PWS\n",
              "17  68.604319  67.280429      PWS\n",
              "18  68.852290  65.590193  Control\n",
              "19  66.917795  69.452211  Control\n",
              "20  61.479637  64.268528  Control\n",
              "21  62.583076  63.808017  Control\n",
              "22  68.617398  68.119123  Control\n",
              "23  65.815309  68.003592  Control\n",
              "24  63.576180  62.588765  Control\n",
              "25  59.793407  65.209082  Control\n",
              "26  58.677071  54.689048  Control\n",
              "27  64.682585  63.051998  Control\n",
              "28  51.724905  47.473068  Control\n",
              "29  65.058166  62.571461  Control"
            ],
            "text/html": [
              "\n",
              "  <div id=\"df-8ca0d523-9d88-469a-8f35-a05558273cbd\">\n",
              "    <div class=\"colab-df-container\">\n",
              "      <div>\n",
              "<style scoped>\n",
              "    .dataframe tbody tr th:only-of-type {\n",
              "        vertical-align: middle;\n",
              "    }\n",
              "\n",
              "    .dataframe tbody tr th {\n",
              "        vertical-align: top;\n",
              "    }\n",
              "\n",
              "    .dataframe thead th {\n",
              "        text-align: right;\n",
              "    }\n",
              "</style>\n",
              "<table border=\"1\" class=\"dataframe\">\n",
              "  <thead>\n",
              "    <tr style=\"text-align: right;\">\n",
              "      <th></th>\n",
              "      <th>Reading</th>\n",
              "      <th>Interview</th>\n",
              "      <th>Group</th>\n",
              "    </tr>\n",
              "  </thead>\n",
              "  <tbody>\n",
              "    <tr>\n",
              "      <th>0</th>\n",
              "      <td>69.769462</td>\n",
              "      <td>69.537450</td>\n",
              "      <td>PWS</td>\n",
              "    </tr>\n",
              "    <tr>\n",
              "      <th>1</th>\n",
              "      <td>56.387716</td>\n",
              "      <td>72.012035</td>\n",
              "      <td>PWS</td>\n",
              "    </tr>\n",
              "    <tr>\n",
              "      <th>2</th>\n",
              "      <td>63.740165</td>\n",
              "      <td>58.574000</td>\n",
              "      <td>PWS</td>\n",
              "    </tr>\n",
              "    <tr>\n",
              "      <th>3</th>\n",
              "      <td>64.437853</td>\n",
              "      <td>70.037693</td>\n",
              "      <td>PWS</td>\n",
              "    </tr>\n",
              "    <tr>\n",
              "      <th>4</th>\n",
              "      <td>60.912200</td>\n",
              "      <td>68.613415</td>\n",
              "      <td>PWS</td>\n",
              "    </tr>\n",
              "    <tr>\n",
              "      <th>5</th>\n",
              "      <td>60.983703</td>\n",
              "      <td>71.312694</td>\n",
              "      <td>PWS</td>\n",
              "    </tr>\n",
              "    <tr>\n",
              "      <th>6</th>\n",
              "      <td>71.044822</td>\n",
              "      <td>73.791678</td>\n",
              "      <td>PWS</td>\n",
              "    </tr>\n",
              "    <tr>\n",
              "      <th>7</th>\n",
              "      <td>66.865079</td>\n",
              "      <td>72.902056</td>\n",
              "      <td>PWS</td>\n",
              "    </tr>\n",
              "    <tr>\n",
              "      <th>8</th>\n",
              "      <td>68.052404</td>\n",
              "      <td>66.779031</td>\n",
              "      <td>PWS</td>\n",
              "    </tr>\n",
              "    <tr>\n",
              "      <th>9</th>\n",
              "      <td>70.025958</td>\n",
              "      <td>70.206304</td>\n",
              "      <td>PWS</td>\n",
              "    </tr>\n",
              "    <tr>\n",
              "      <th>10</th>\n",
              "      <td>67.314946</td>\n",
              "      <td>71.378241</td>\n",
              "      <td>PWS</td>\n",
              "    </tr>\n",
              "    <tr>\n",
              "      <th>11</th>\n",
              "      <td>64.202145</td>\n",
              "      <td>62.069890</td>\n",
              "      <td>PWS</td>\n",
              "    </tr>\n",
              "    <tr>\n",
              "      <th>12</th>\n",
              "      <td>67.220541</td>\n",
              "      <td>70.059751</td>\n",
              "      <td>PWS</td>\n",
              "    </tr>\n",
              "    <tr>\n",
              "      <th>13</th>\n",
              "      <td>70.793083</td>\n",
              "      <td>69.841753</td>\n",
              "      <td>PWS</td>\n",
              "    </tr>\n",
              "    <tr>\n",
              "      <th>14</th>\n",
              "      <td>70.186730</td>\n",
              "      <td>68.760368</td>\n",
              "      <td>PWS</td>\n",
              "    </tr>\n",
              "    <tr>\n",
              "      <th>15</th>\n",
              "      <td>71.339429</td>\n",
              "      <td>70.215658</td>\n",
              "      <td>PWS</td>\n",
              "    </tr>\n",
              "    <tr>\n",
              "      <th>16</th>\n",
              "      <td>72.415608</td>\n",
              "      <td>74.671628</td>\n",
              "      <td>PWS</td>\n",
              "    </tr>\n",
              "    <tr>\n",
              "      <th>17</th>\n",
              "      <td>68.604319</td>\n",
              "      <td>67.280429</td>\n",
              "      <td>PWS</td>\n",
              "    </tr>\n",
              "    <tr>\n",
              "      <th>18</th>\n",
              "      <td>68.852290</td>\n",
              "      <td>65.590193</td>\n",
              "      <td>Control</td>\n",
              "    </tr>\n",
              "    <tr>\n",
              "      <th>19</th>\n",
              "      <td>66.917795</td>\n",
              "      <td>69.452211</td>\n",
              "      <td>Control</td>\n",
              "    </tr>\n",
              "    <tr>\n",
              "      <th>20</th>\n",
              "      <td>61.479637</td>\n",
              "      <td>64.268528</td>\n",
              "      <td>Control</td>\n",
              "    </tr>\n",
              "    <tr>\n",
              "      <th>21</th>\n",
              "      <td>62.583076</td>\n",
              "      <td>63.808017</td>\n",
              "      <td>Control</td>\n",
              "    </tr>\n",
              "    <tr>\n",
              "      <th>22</th>\n",
              "      <td>68.617398</td>\n",
              "      <td>68.119123</td>\n",
              "      <td>Control</td>\n",
              "    </tr>\n",
              "    <tr>\n",
              "      <th>23</th>\n",
              "      <td>65.815309</td>\n",
              "      <td>68.003592</td>\n",
              "      <td>Control</td>\n",
              "    </tr>\n",
              "    <tr>\n",
              "      <th>24</th>\n",
              "      <td>63.576180</td>\n",
              "      <td>62.588765</td>\n",
              "      <td>Control</td>\n",
              "    </tr>\n",
              "    <tr>\n",
              "      <th>25</th>\n",
              "      <td>59.793407</td>\n",
              "      <td>65.209082</td>\n",
              "      <td>Control</td>\n",
              "    </tr>\n",
              "    <tr>\n",
              "      <th>26</th>\n",
              "      <td>58.677071</td>\n",
              "      <td>54.689048</td>\n",
              "      <td>Control</td>\n",
              "    </tr>\n",
              "    <tr>\n",
              "      <th>27</th>\n",
              "      <td>64.682585</td>\n",
              "      <td>63.051998</td>\n",
              "      <td>Control</td>\n",
              "    </tr>\n",
              "    <tr>\n",
              "      <th>28</th>\n",
              "      <td>51.724905</td>\n",
              "      <td>47.473068</td>\n",
              "      <td>Control</td>\n",
              "    </tr>\n",
              "    <tr>\n",
              "      <th>29</th>\n",
              "      <td>65.058166</td>\n",
              "      <td>62.571461</td>\n",
              "      <td>Control</td>\n",
              "    </tr>\n",
              "  </tbody>\n",
              "</table>\n",
              "</div>\n",
              "      <button class=\"colab-df-convert\" onclick=\"convertToInteractive('df-8ca0d523-9d88-469a-8f35-a05558273cbd')\"\n",
              "              title=\"Convert this dataframe to an interactive table.\"\n",
              "              style=\"display:none;\">\n",
              "        \n",
              "  <svg xmlns=\"http://www.w3.org/2000/svg\" height=\"24px\"viewBox=\"0 0 24 24\"\n",
              "       width=\"24px\">\n",
              "    <path d=\"M0 0h24v24H0V0z\" fill=\"none\"/>\n",
              "    <path d=\"M18.56 5.44l.94 2.06.94-2.06 2.06-.94-2.06-.94-.94-2.06-.94 2.06-2.06.94zm-11 1L8.5 8.5l.94-2.06 2.06-.94-2.06-.94L8.5 2.5l-.94 2.06-2.06.94zm10 10l.94 2.06.94-2.06 2.06-.94-2.06-.94-.94-2.06-.94 2.06-2.06.94z\"/><path d=\"M17.41 7.96l-1.37-1.37c-.4-.4-.92-.59-1.43-.59-.52 0-1.04.2-1.43.59L10.3 9.45l-7.72 7.72c-.78.78-.78 2.05 0 2.83L4 21.41c.39.39.9.59 1.41.59.51 0 1.02-.2 1.41-.59l7.78-7.78 2.81-2.81c.8-.78.8-2.07 0-2.86zM5.41 20L4 18.59l7.72-7.72 1.47 1.35L5.41 20z\"/>\n",
              "  </svg>\n",
              "      </button>\n",
              "      \n",
              "  <style>\n",
              "    .colab-df-container {\n",
              "      display:flex;\n",
              "      flex-wrap:wrap;\n",
              "      gap: 12px;\n",
              "    }\n",
              "\n",
              "    .colab-df-convert {\n",
              "      background-color: #E8F0FE;\n",
              "      border: none;\n",
              "      border-radius: 50%;\n",
              "      cursor: pointer;\n",
              "      display: none;\n",
              "      fill: #1967D2;\n",
              "      height: 32px;\n",
              "      padding: 0 0 0 0;\n",
              "      width: 32px;\n",
              "    }\n",
              "\n",
              "    .colab-df-convert:hover {\n",
              "      background-color: #E2EBFA;\n",
              "      box-shadow: 0px 1px 2px rgba(60, 64, 67, 0.3), 0px 1px 3px 1px rgba(60, 64, 67, 0.15);\n",
              "      fill: #174EA6;\n",
              "    }\n",
              "\n",
              "    [theme=dark] .colab-df-convert {\n",
              "      background-color: #3B4455;\n",
              "      fill: #D2E3FC;\n",
              "    }\n",
              "\n",
              "    [theme=dark] .colab-df-convert:hover {\n",
              "      background-color: #434B5C;\n",
              "      box-shadow: 0px 1px 3px 1px rgba(0, 0, 0, 0.15);\n",
              "      filter: drop-shadow(0px 1px 2px rgba(0, 0, 0, 0.3));\n",
              "      fill: #FFFFFF;\n",
              "    }\n",
              "  </style>\n",
              "\n",
              "      <script>\n",
              "        const buttonEl =\n",
              "          document.querySelector('#df-8ca0d523-9d88-469a-8f35-a05558273cbd button.colab-df-convert');\n",
              "        buttonEl.style.display =\n",
              "          google.colab.kernel.accessAllowed ? 'block' : 'none';\n",
              "\n",
              "        async function convertToInteractive(key) {\n",
              "          const element = document.querySelector('#df-8ca0d523-9d88-469a-8f35-a05558273cbd');\n",
              "          const dataTable =\n",
              "            await google.colab.kernel.invokeFunction('convertToInteractive',\n",
              "                                                     [key], {});\n",
              "          if (!dataTable) return;\n",
              "\n",
              "          const docLinkHtml = 'Like what you see? Visit the ' +\n",
              "            '<a target=\"_blank\" href=https://colab.research.google.com/notebooks/data_table.ipynb>data table notebook</a>'\n",
              "            + ' to learn more about interactive tables.';\n",
              "          element.innerHTML = '';\n",
              "          dataTable['output_type'] = 'display_data';\n",
              "          await google.colab.output.renderOutput(dataTable, element);\n",
              "          const docLink = document.createElement('div');\n",
              "          docLink.innerHTML = docLinkHtml;\n",
              "          element.appendChild(docLink);\n",
              "        }\n",
              "      </script>\n",
              "    </div>\n",
              "  </div>\n",
              "  "
            ]
          },
          "metadata": {},
          "execution_count": 55
        }
      ]
    },
    {
      "cell_type": "code",
      "source": [
        "boxplot = df_boxplot.boxplot(by = \"Group\", figsize=[14,8], fontsize = 18, return_type='axes');"
      ],
      "metadata": {
        "colab": {
          "base_uri": "https://localhost:8080/",
          "height": 548
        },
        "id": "d4mOL1T1KWwm",
        "outputId": "728e64c9-8393-42a2-c769-628922b6afb8"
      },
      "execution_count": null,
      "outputs": [
        {
          "output_type": "display_data",
          "data": {
            "text/plain": [
              "<Figure size 1008x576 with 2 Axes>"
            ],
            "image/png": "[encoded data removed]"
          },
          "metadata": {
            "needs_background": "light"
          }
        }
      ]
    },
    {
      "cell_type": "markdown",
      "source": [
        "**MatplotLib**"
      ],
      "metadata": {
        "id": "QHhEK054SkpJ"
      }
    },
    {
      "cell_type": "code",
      "source": [
        "df_boxplot_reading = {'Control':nPVI_reading_control, 'PWS':nPVI_reading_pws}\n",
        "df_boxplot_interview = {'Control':nPVI_interview_control, 'PWS':nPVI_interview_pws}"
      ],
      "metadata": {
        "id": "LAeROAHjQpqQ"
      },
      "execution_count": null,
      "outputs": []
    },
    {
      "cell_type": "code",
      "source": [
        "fig, ([ax1, ax2]) = plt.subplots(1, 2)\n",
        "fig.suptitle('nPVI Across Conditions', fontsize=16, fontweight='bold')\n",
        "ax1.boxplot(df_boxplot_reading.values())\n",
        "ax1.set_xticklabels(df_boxplot_reading.keys())\n",
        "ax1.set_title(\"Reading\")\n",
        "ax1.set_ylabel(\"nPVI\")\n",
        "ax1.set_ylim([50, 75])\n",
        "ax2.boxplot(df_boxplot_interview.values())\n",
        "ax2.set_xticklabels(df_boxplot_interview.keys())\n",
        "ax2.set_title(\"Interview\")\n",
        "ax2.set_ylim([50, 75])\n",
        "plt.savefig(\"boxplot.png\");"
      ],
      "metadata": {
        "colab": {
          "base_uri": "https://localhost:8080/",
          "height": 294
        },
        "id": "3ZVMtzzZN2bn",
        "outputId": "a8d9855f-6200-4d47-b700-6d34e31af9d4"
      },
      "execution_count": null,
      "outputs": [
        {
          "output_type": "display_data",
          "data": {
            "text/plain": [
              "<Figure size 432x288 with 2 Axes>"
            ],
            "image/png": "[encoded data removed]"
          },
          "metadata": {
            "needs_background": "light"
          }
        }
      ]
    },
    {
      "cell_type": "markdown",
      "source": [
        "**Compare to Liss et al.**"
      ],
      "metadata": {
        "id": "hS8TZR-cDkIC"
      }
    },
    {
      "cell_type": "code",
      "source": [
        "df2plot = pd.DataFrame(columns = [\"Group\", \"Condition\", \"%V\",\"VarcoV\"])"
      ],
      "metadata": {
        "id": "GmWr6USAoSgj"
      },
      "execution_count": null,
      "outputs": []
    },
    {
      "cell_type": "code",
      "source": [
        "group = [\"PWS\", \"Control\", \"PWS\", \"Control\"]\n",
        "condition = [\"reading\", \"reading\", \"interview\", \"interview\"]\n",
        "PercV = [result_reading_pws.mean()[2], result_reading_control.mean()[2], result_interview_pws.mean()[2], result_interview_control.mean()[2]]\n",
        "VarcoV = [result_reading_pws.mean()[6], result_reading_control.mean()[6], result_interview_pws.mean()[6], result_interview_control.mean()[6]] "
      ],
      "metadata": {
        "id": "MyPxn4eSpxfx"
      },
      "execution_count": null,
      "outputs": []
    },
    {
      "cell_type": "code",
      "source": [
        "df2plot[\"Group\"] = group\n",
        "df2plot[\"Condition\"] = condition\n",
        "df2plot[\"%V\"] = PercV\n",
        "df2plot[\"VarcoV\"] = VarcoV"
      ],
      "metadata": {
        "id": "8imq1_VmoSbB"
      },
      "execution_count": null,
      "outputs": []
    },
    {
      "cell_type": "code",
      "source": [
        "df2plot"
      ],
      "metadata": {
        "colab": {
          "base_uri": "https://localhost:8080/",
          "height": 175
        },
        "id": "1rssbZphimDA",
        "outputId": "5859123a-ce2e-425f-a5f7-6b9f1054fe86"
      },
      "execution_count": null,
      "outputs": [
        {
          "output_type": "execute_result",
          "data": {
            "text/plain": [
              "     Group  Condition         %V     VarcoV\n",
              "0      PWS    reading  41.980101  57.989315\n",
              "1  Control    reading  39.009907  52.457076\n",
              "2      PWS  interview  46.619555  69.003278\n",
              "3  Control  interview  44.906328  63.744779"
            ],
            "text/html": [
              "\n",
              "  <div id=\"df-63fc219c-384c-4c4a-a8ce-69aa05f194ec\">\n",
              "    <div class=\"colab-df-container\">\n",
              "      <div>\n",
              "<style scoped>\n",
              "    .dataframe tbody tr th:only-of-type {\n",
              "        vertical-align: middle;\n",
              "    }\n",
              "\n",
              "    .dataframe tbody tr th {\n",
              "        vertical-align: top;\n",
              "    }\n",
              "\n",
              "    .dataframe thead th {\n",
              "        text-align: right;\n",
              "    }\n",
              "</style>\n",
              "<table border=\"1\" class=\"dataframe\">\n",
              "  <thead>\n",
              "    <tr style=\"text-align: right;\">\n",
              "      <th></th>\n",
              "      <th>Group</th>\n",
              "      <th>Condition</th>\n",
              "      <th>%V</th>\n",
              "      <th>VarcoV</th>\n",
              "    </tr>\n",
              "  </thead>\n",
              "  <tbody>\n",
              "    <tr>\n",
              "      <th>0</th>\n",
              "      <td>PWS</td>\n",
              "      <td>reading</td>\n",
              "      <td>41.980101</td>\n",
              "      <td>57.989315</td>\n",
              "    </tr>\n",
              "    <tr>\n",
              "      <th>1</th>\n",
              "      <td>Control</td>\n",
              "      <td>reading</td>\n",
              "      <td>39.009907</td>\n",
              "      <td>52.457076</td>\n",
              "    </tr>\n",
              "    <tr>\n",
              "      <th>2</th>\n",
              "      <td>PWS</td>\n",
              "      <td>interview</td>\n",
              "      <td>46.619555</td>\n",
              "      <td>69.003278</td>\n",
              "    </tr>\n",
              "    <tr>\n",
              "      <th>3</th>\n",
              "      <td>Control</td>\n",
              "      <td>interview</td>\n",
              "      <td>44.906328</td>\n",
              "      <td>63.744779</td>\n",
              "    </tr>\n",
              "  </tbody>\n",
              "</table>\n",
              "</div>\n",
              "      <button class=\"colab-df-convert\" onclick=\"convertToInteractive('df-63fc219c-384c-4c4a-a8ce-69aa05f194ec')\"\n",
              "              title=\"Convert this dataframe to an interactive table.\"\n",
              "              style=\"display:none;\">\n",
              "        \n",
              "  <svg xmlns=\"http://www.w3.org/2000/svg\" height=\"24px\"viewBox=\"0 0 24 24\"\n",
              "       width=\"24px\">\n",
              "    <path d=\"M0 0h24v24H0V0z\" fill=\"none\"/>\n",
              "    <path d=\"M18.56 5.44l.94 2.06.94-2.06 2.06-.94-2.06-.94-.94-2.06-.94 2.06-2.06.94zm-11 1L8.5 8.5l.94-2.06 2.06-.94-2.06-.94L8.5 2.5l-.94 2.06-2.06.94zm10 10l.94 2.06.94-2.06 2.06-.94-2.06-.94-.94-2.06-.94 2.06-2.06.94z\"/><path d=\"M17.41 7.96l-1.37-1.37c-.4-.4-.92-.59-1.43-.59-.52 0-1.04.2-1.43.59L10.3 9.45l-7.72 7.72c-.78.78-.78 2.05 0 2.83L4 21.41c.39.39.9.59 1.41.59.51 0 1.02-.2 1.41-.59l7.78-7.78 2.81-2.81c.8-.78.8-2.07 0-2.86zM5.41 20L4 18.59l7.72-7.72 1.47 1.35L5.41 20z\"/>\n",
              "  </svg>\n",
              "      </button>\n",
              "      \n",
              "  <style>\n",
              "    .colab-df-container {\n",
              "      display:flex;\n",
              "      flex-wrap:wrap;\n",
              "      gap: 12px;\n",
              "    }\n",
              "\n",
              "    .colab-df-convert {\n",
              "      background-color: #E8F0FE;\n",
              "      border: none;\n",
              "      border-radius: 50%;\n",
              "      cursor: pointer;\n",
              "      display: none;\n",
              "      fill: #1967D2;\n",
              "      height: 32px;\n",
              "      padding: 0 0 0 0;\n",
              "      width: 32px;\n",
              "    }\n",
              "\n",
              "    .colab-df-convert:hover {\n",
              "      background-color: #E2EBFA;\n",
              "      box-shadow: 0px 1px 2px rgba(60, 64, 67, 0.3), 0px 1px 3px 1px rgba(60, 64, 67, 0.15);\n",
              "      fill: #174EA6;\n",
              "    }\n",
              "\n",
              "    [theme=dark] .colab-df-convert {\n",
              "      background-color: #3B4455;\n",
              "      fill: #D2E3FC;\n",
              "    }\n",
              "\n",
              "    [theme=dark] .colab-df-convert:hover {\n",
              "      background-color: #434B5C;\n",
              "      box-shadow: 0px 1px 3px 1px rgba(0, 0, 0, 0.15);\n",
              "      filter: drop-shadow(0px 1px 2px rgba(0, 0, 0, 0.3));\n",
              "      fill: #FFFFFF;\n",
              "    }\n",
              "  </style>\n",
              "\n",
              "      <script>\n",
              "        const buttonEl =\n",
              "          document.querySelector('#df-63fc219c-384c-4c4a-a8ce-69aa05f194ec button.colab-df-convert');\n",
              "        buttonEl.style.display =\n",
              "          google.colab.kernel.accessAllowed ? 'block' : 'none';\n",
              "\n",
              "        async function convertToInteractive(key) {\n",
              "          const element = document.querySelector('#df-63fc219c-384c-4c4a-a8ce-69aa05f194ec');\n",
              "          const dataTable =\n",
              "            await google.colab.kernel.invokeFunction('convertToInteractive',\n",
              "                                                     [key], {});\n",
              "          if (!dataTable) return;\n",
              "\n",
              "          const docLinkHtml = 'Like what you see? Visit the ' +\n",
              "            '<a target=\"_blank\" href=https://colab.research.google.com/notebooks/data_table.ipynb>data table notebook</a>'\n",
              "            + ' to learn more about interactive tables.';\n",
              "          element.innerHTML = '';\n",
              "          dataTable['output_type'] = 'display_data';\n",
              "          await google.colab.output.renderOutput(dataTable, element);\n",
              "          const docLink = document.createElement('div');\n",
              "          docLink.innerHTML = docLinkHtml;\n",
              "          element.appendChild(docLink);\n",
              "        }\n",
              "      </script>\n",
              "    </div>\n",
              "  </div>\n",
              "  "
            ]
          },
          "metadata": {},
          "execution_count": 62
        }
      ]
    },
    {
      "cell_type": "code",
      "source": [
        "VarcoV_SDs = [SD_VarcoV_r_p, SD_VarcoV_r_c, SD_VarcoV_i_p, SD_VarcoV_i_c]\n",
        "PercV_SDs =  [SD_PercV_r_p, SD_PercV_r_c, SD_PercV_i_p, SD_PercV_i_c]  "
      ],
      "metadata": {
        "id": "n4k-S-gxqslI"
      },
      "execution_count": null,
      "outputs": []
    },
    {
      "cell_type": "code",
      "source": [
        "result = plt.figure()\n",
        "plt.plot(df2plot[\"%V\"], df2plot[\"VarcoV\"], 'D', markerFaceColor = 'k', markerEdgeColor = 'k')\n",
        "plt.errorbar(df2plot[\"%V\"], df2plot[\"VarcoV\"],yerr = VarcoV_SDs, xerr = PercV_SDs, fmt = 'D',  markerFaceColor = 'k', markerEdgeColor = 'k', color = 'k')\n",
        "plt.title(\"VarcoV as a Function of %V\")\n",
        "plt.xlabel(\"%V\")\n",
        "plt.xlim([25, 53])\n",
        "plt.xticks(np.arange(25, 55, step=5))\n",
        "#plt.ylim([50, 75])\n",
        "plt.ylabel(\"VarcoV\")\n",
        "for x,y, group, cond in zip(df2plot[\"%V\"], df2plot[\"VarcoV\"], df2plot[\"Group\"], df2plot[\"Condition\"]):\n",
        "  label = f\"{group}-{cond}\"\n",
        "  plt.annotate(label, (x,y),\n",
        "  xytext=(x,y+3), ha = 'center')\n",
        "plt.savefig(\"result.png\")\n",
        "plt.show()"
      ],
      "metadata": {
        "colab": {
          "base_uri": "https://localhost:8080/",
          "height": 295
        },
        "id": "5LER9qjmqxAu",
        "outputId": "0dac5bf2-6c92-445d-d083-5b9096fecb5b"
      },
      "execution_count": null,
      "outputs": [
        {
          "output_type": "display_data",
          "data": {
            "text/plain": [
              "<Figure size 432x288 with 1 Axes>"
            ],
            "image/png": "[encoded data removed]"
          },
          "metadata": {
            "needs_background": "light"
          }
        }
      ]
    },
    {
      "cell_type": "markdown",
      "source": [
        "**Save Results**"
      ],
      "metadata": {
        "id": "kr3uBhUk2o0H"
      }
    },
    {
      "cell_type": "code",
      "source": [
        "%cd /content/gdrive/MyDrive/RhythmAnalysisPipeline/"
      ],
      "metadata": {
        "colab": {
          "base_uri": "https://localhost:8080/"
        },
        "id": "YiZetY462rjo",
        "outputId": "8842e98f-3fe5-4341-fcbe-a873ab58310d"
      },
      "execution_count": null,
      "outputs": [
        {
          "output_type": "stream",
          "name": "stdout",
          "text": [
            "/content/gdrive/MyDrive/RhythmAnalysisPipeline\n"
          ]
        }
      ]
    },
    {
      "cell_type": "code",
      "source": [
        "dir = \"4.MetricsResults\"\n",
        "\n",
        "if os.path.exists(dir) == False:\n",
        "  os.mkdir(dir)"
      ],
      "metadata": {
        "id": "kUsZTzJ42rfg"
      },
      "execution_count": null,
      "outputs": []
    },
    {
      "cell_type": "code",
      "source": [
        "%cd /content/gdrive/MyDrive/RhythmAnalysisPipeline/4.MetricsResults/"
      ],
      "metadata": {
        "colab": {
          "base_uri": "https://localhost:8080/"
        },
        "id": "3OI02MYY2rcH",
        "outputId": "a768bb42-2310-4288-e4ce-7cc44e1dd60b"
      },
      "execution_count": null,
      "outputs": [
        {
          "output_type": "stream",
          "name": "stdout",
          "text": [
            "/content/gdrive/MyDrive/RhythmAnalysisPipeline/4.MetricsResults\n"
          ]
        }
      ]
    },
    {
      "cell_type": "code",
      "source": [
        "result_reading_pws.to_excel(\"reading_pws.xlsx\")\n",
        "result_reading_control.to_excel(\"reading_control.xlsx\")\n",
        "result_interview_pws.to_excel(\"interview_pws.xlsx\")\n",
        "result_interview_control.to_excel(\"interview_control.xlsx\")"
      ],
      "metadata": {
        "id": "qRMFbrmX2rVI"
      },
      "execution_count": null,
      "outputs": []
    },
    {
      "cell_type": "code",
      "source": [
        "%cd /content/gdrive/MyDrive/RhythmAnalysisPipeline/"
      ],
      "metadata": {
        "colab": {
          "base_uri": "https://localhost:8080/"
        },
        "id": "ifJmlRdB27H2",
        "outputId": "a6f3132a-3c34-46a8-c568-903670dfc5b3"
      },
      "execution_count": null,
      "outputs": [
        {
          "output_type": "stream",
          "name": "stdout",
          "text": [
            "/content/gdrive/MyDrive/RhythmAnalysisPipeline\n"
          ]
        }
      ]
    },
    {
      "cell_type": "markdown",
      "source": [
        "**Fluent vs Disfluent in PWS**"
      ],
      "metadata": {
        "id": "jETWKFK8IKRD"
      }
    },
    {
      "cell_type": "markdown",
      "source": [
        "**0. Imports**"
      ],
      "metadata": {
        "id": "aWqZr71vJCut"
      }
    },
    {
      "cell_type": "code",
      "source": [
        "%cd /content/gdrive/MyDrive/RhythmAnalysisPipeline/3.MLU_Matched/"
      ],
      "metadata": {
        "colab": {
          "base_uri": "https://localhost:8080/"
        },
        "id": "a1qMx09tIS9C",
        "outputId": "2955fe91-2681-4ae5-8ed8-2dad19877696"
      },
      "execution_count": null,
      "outputs": [
        {
          "output_type": "stream",
          "name": "stdout",
          "text": [
            "[Errno 2] No such file or directory: '/content/gdrive/MyDrive/RhythmAnalysisPipeline/3.MLU_Matched/'\n",
            "/content\n"
          ]
        }
      ]
    },
    {
      "cell_type": "code",
      "source": [
        "reading_vowels = pd.read_excel(\"matchedVowels_reading.xlsx\")\n",
        "interview_vowels = pd.read_excel(\"matchedVowels_interview.xlsx\")\n",
        "reading_consonants = pd.read_excel(\"matchedConsonants_reading.xlsx\")\n",
        "interview_consonants = pd.read_excel(\"matchedConsonants_interview.xlsx\")"
      ],
      "metadata": {
        "id": "Qy1y_RztITkg"
      },
      "execution_count": null,
      "outputs": []
    },
    {
      "cell_type": "code",
      "source": [
        "result_reading_fluent = pd.DataFrame(columns = [\"ID\",\"nPVI\", \"rPVI\",\"%V\",\"DeltaC\", \"DeltaV\", \"VarcoC\", \"VarcoV\"])\n",
        "result_interview_fluent = pd.DataFrame(columns = [\"ID\",\"nPVI\", \"rPVI\",\"%V\",\"DeltaC\", \"DeltaV\", \"VarcoC\", \"VarcoV\"])\n",
        "result_reading_disfluent = pd.DataFrame(columns = [\"ID\",\"nPVI\", \"rPVI\",\"%V\",\"DeltaC\", \"DeltaV\", \"VarcoC\", \"VarcoV\"])\n",
        "result_interview_disfluent = pd.DataFrame(columns = [\"ID\",\"nPVI\", \"rPVI\",\"%V\",\"DeltaC\", \"DeltaV\", \"VarcoC\", \"VarcoV\"])"
      ],
      "metadata": {
        "id": "UEFkzH7RI5rj"
      },
      "execution_count": null,
      "outputs": []
    },
    {
      "cell_type": "markdown",
      "source": [
        "**Calculate Metrics**"
      ],
      "metadata": {
        "id": "B2d4tHFVJIT7"
      }
    },
    {
      "cell_type": "code",
      "source": [
        "reading_vowels_fluent, reading_vowels_disfluent = split_fluency(reading_vowels)\n",
        "reading_consonants_fluent, reading_consonants_disfluent = split_fluency(reading_consonants)\n",
        "interview_vowels_fluent, interview_vowels_disfluent = split_fluency(interview_vowels)\n",
        "interview_consonants_fluent, interview_consonants_disfluent = split_fluency(interview_consonants)"
      ],
      "metadata": {
        "id": "NM8d83wwLNrV"
      },
      "execution_count": null,
      "outputs": []
    },
    {
      "cell_type": "code",
      "source": [
        "nPVI_reading_fluent = computenPVI(reading_vowels_fluent)\n",
        "nPVI_interview_fluent = computenPVI(interview_vowels_fluent)\n",
        "nPVI_reading_disfluent = computenPVI(reading_vowels_disfluent)\n",
        "nPVI_interview_disfluent = computenPVI(interview_vowels_disfluent)"
      ],
      "metadata": {
        "id": "rjcwxeH8JUys"
      },
      "execution_count": null,
      "outputs": []
    },
    {
      "cell_type": "code",
      "source": [
        "rPVI_reading_fluent = computerPVI(reading_consonants_fluent)\n",
        "rPVI_interview_fluent = computerPVI(interview_consonants_fluent)\n",
        "rPVI_reading_disfluent = computerPVI(reading_consonants_disfluent)\n",
        "rPVI_interview_disfluent = computerPVI(interview_consonants_disfluent)"
      ],
      "metadata": {
        "id": "C13fuv8fJbTt"
      },
      "execution_count": null,
      "outputs": []
    },
    {
      "cell_type": "code",
      "source": [
        "percV_reading_fluent = computePercV(reading_vowels_fluent, reading_consonants_fluent)\n",
        "percV_interview_fluent = computePercV(interview_vowels_fluent, interview_consonants_fluent)\n",
        "percV_reading_disfluent = computePercV(reading_vowels_disfluent, reading_consonants_disfluent)\n",
        "percV_interview_disfluent = computePercV(interview_vowels_disfluent, interview_consonants_disfluent)"
      ],
      "metadata": {
        "id": "58uaMQpTJySi"
      },
      "execution_count": null,
      "outputs": []
    },
    {
      "cell_type": "code",
      "source": [
        "deltaC_reading_fluent = computeDeltaC(reading_consonants_fluent)\n",
        "deltaC_interview_fluent = computeDeltaC(interview_consonants_fluent)\n",
        "deltaC_reading_disfluent = computeDeltaC(reading_consonants_disfluent)\n",
        "deltaC_interview_disfluent = computeDeltaC(interview_consonants_disfluent)"
      ],
      "metadata": {
        "id": "HuZ1uD7_JzWh"
      },
      "execution_count": null,
      "outputs": []
    },
    {
      "cell_type": "code",
      "source": [
        "deltaV_reading_fluent = computeDeltaV(reading_vowels_fluent)\n",
        "deltaV_interview_fluent = computeDeltaV(interview_vowels_fluent)\n",
        "deltaV_reading_disfluent = computeDeltaV(reading_vowels_disfluent)\n",
        "deltaV_interview_disfluent = computeDeltaV(interview_vowels_disfluent)"
      ],
      "metadata": {
        "id": "j4jHHV64JzMw"
      },
      "execution_count": null,
      "outputs": []
    },
    {
      "cell_type": "code",
      "source": [
        "varcoC_reading_fluent = computeVarcoC(reading_consonants_fluent, deltaC_reading_fluent)\n",
        "varcoC_interview_fluent = computeVarcoC(interview_consonants_fluent, deltaC_interview_fluent)\n",
        "varcoC_reading_disfluent = computeVarcoC(reading_consonants_disfluent, deltaC_reading_disfluent)\n",
        "varcoC_interview_disfluent = computeVarcoC(interview_consonants_disfluent, deltaC_interview_disfluent)"
      ],
      "metadata": {
        "id": "hDKdKmqGJzCy"
      },
      "execution_count": null,
      "outputs": []
    },
    {
      "cell_type": "code",
      "source": [
        "varcoV_reading_fluent = computeVarcoV(reading_vowels_fluent, deltaV_reading_fluent)\n",
        "varcoV_interview_fluent = computeVarcoV(interview_vowels_fluent, deltaV_interview_fluent)\n",
        "varcoV_reading_disfluent = computeVarcoV(reading_vowels_disfluent, deltaV_reading_disfluent)\n",
        "varcoV_interview_disfluent = computeVarcoV(interview_vowels_disfluent, deltaV_interview_disfluent)"
      ],
      "metadata": {
        "id": "rJtuw_Y_Jy3b"
      },
      "execution_count": null,
      "outputs": []
    },
    {
      "cell_type": "markdown",
      "source": [
        "**Assign to DataFrame**"
      ],
      "metadata": {
        "id": "acej2XH4NNcD"
      }
    },
    {
      "cell_type": "code",
      "source": [
        "result_reading_fluent[\"ID\"] = pws_IDs\n",
        "result_reading_fluent[\"nPVI\"] = nPVI_reading_fluent\n",
        "result_reading_fluent[\"rPVI\"] = rPVI_reading_fluent\n",
        "result_reading_fluent[\"%V\"] = percV_reading_fluent*100\n",
        "result_reading_fluent[\"DeltaC\"] = deltaC_reading_fluent\n",
        "result_reading_fluent[\"DeltaV\"] = deltaV_reading_fluent\n",
        "result_reading_fluent[\"VarcoC\"] = varcoC_reading_fluent*100\n",
        "result_reading_fluent[\"VarcoV\"] = varcoV_reading_fluent*100"
      ],
      "metadata": {
        "id": "OcxAGY6-NWVk"
      },
      "execution_count": null,
      "outputs": []
    },
    {
      "cell_type": "code",
      "source": [
        "result_reading_disfluent[\"ID\"] = pws_IDs\n",
        "result_reading_disfluent[\"nPVI\"] = nPVI_reading_disfluent\n",
        "result_reading_disfluent[\"rPVI\"] = rPVI_reading_disfluent\n",
        "result_reading_disfluent[\"%V\"] = percV_reading_disfluent*100\n",
        "result_reading_disfluent[\"DeltaC\"] = deltaC_reading_disfluent\n",
        "result_reading_disfluent[\"DeltaV\"] = deltaV_reading_disfluent\n",
        "result_reading_disfluent[\"VarcoC\"] = varcoC_reading_disfluent*100\n",
        "result_reading_disfluent[\"VarcoV\"] = varcoV_reading_disfluent*100"
      ],
      "metadata": {
        "id": "yYAQcjNpNWCL"
      },
      "execution_count": null,
      "outputs": []
    },
    {
      "cell_type": "code",
      "source": [
        "result_interview_fluent[\"ID\"] = pws_IDs\n",
        "result_interview_fluent[\"nPVI\"] = nPVI_interview_fluent\n",
        "result_interview_fluent[\"nPVI\"] = nPVI_interview_fluent\n",
        "result_interview_fluent[\"nPVI\"] = nPVI_interview_fluent\n",
        "result_interview_fluent[\"rPVI\"] = rPVI_interview_fluent\n",
        "result_interview_fluent[\"%V\"] = percV_interview_fluent*100\n",
        "result_interview_fluent[\"DeltaC\"] = deltaC_interview_fluent\n",
        "result_interview_fluent[\"DeltaV\"] = deltaV_interview_fluent\n",
        "result_interview_fluent[\"VarcoC\"] = varcoC_interview_fluent*100\n",
        "result_interview_fluent[\"VarcoV\"] = varcoV_interview_fluent*100"
      ],
      "metadata": {
        "id": "bBnBiYxMNV4b"
      },
      "execution_count": null,
      "outputs": []
    },
    {
      "cell_type": "code",
      "source": [
        "result_interview_disfluent[\"ID\"] = pws_IDs\n",
        "result_interview_disfluent[\"nPVI\"] = nPVI_interview_disfluent\n",
        "result_interview_disfluent[\"nPVI\"] = nPVI_interview_disfluent\n",
        "result_interview_disfluent[\"nPVI\"] = nPVI_interview_disfluent\n",
        "result_interview_disfluent[\"rPVI\"] = rPVI_interview_disfluent\n",
        "result_interview_disfluent[\"%V\"] = percV_interview_disfluent*100\n",
        "result_interview_disfluent[\"DeltaC\"] = deltaC_interview_disfluent\n",
        "result_interview_disfluent[\"DeltaV\"] = deltaV_interview_disfluent\n",
        "result_interview_disfluent[\"VarcoC\"] = varcoC_interview_disfluent*100\n",
        "result_interview_disfluent[\"VarcoV\"] = varcoV_interview_disfluent*100"
      ],
      "metadata": {
        "id": "XOiEdGCLOSo-"
      },
      "execution_count": null,
      "outputs": []
    },
    {
      "cell_type": "markdown",
      "source": [
        "**Result Tables**"
      ],
      "metadata": {
        "id": "oFCmGgzbOgsb"
      }
    },
    {
      "cell_type": "markdown",
      "source": [
        "**Reading**"
      ],
      "metadata": {
        "id": "OhjtfoBYOjS3"
      }
    },
    {
      "cell_type": "code",
      "source": [
        "means = [result_reading_fluent.mean()[0], result_reading_disfluent.mean()[0], result_reading_fluent.mean()[1],result_reading_disfluent.mean()[1],result_reading_fluent.mean()[2], result_reading_disfluent.mean()[2], result_reading_fluent.mean()[3],result_reading_disfluent.mean()[3], result_reading_fluent.mean()[4],result_reading_disfluent.mean()[4], result_reading_fluent.mean()[5],result_reading_disfluent.mean()[5],result_reading_fluent.mean()[6], result_reading_disfluent.mean()[6]]"
      ],
      "metadata": {
        "id": "Oy5OrQaDOmv1"
      },
      "execution_count": null,
      "outputs": []
    },
    {
      "cell_type": "code",
      "source": [
        "sds = [result_reading_fluent.std()[0], result_reading_disfluent.std()[0], result_reading_fluent.std()[1],result_reading_disfluent.std()[1],result_reading_fluent.std()[2], result_reading_disfluent.std()[2], result_reading_fluent.std()[3],result_reading_disfluent.std()[3], result_reading_fluent.std()[4],result_reading_disfluent.std()[4], result_reading_fluent.std()[5],result_reading_disfluent.std()[5],result_reading_fluent.std()[6], result_reading_disfluent.std()[6]]"
      ],
      "metadata": {
        "id": "K77p0dtcPd6s"
      },
      "execution_count": null,
      "outputs": []
    },
    {
      "cell_type": "code",
      "source": [
        "fig = go.Figure(data=[go.Table(\n",
        "    header=dict(values=['Rhythm Metrics', 'Fluency Status', 'Mean','SD'],\n",
        "                line_color='black',\n",
        "                fill_color='lightgray',\n",
        "                align='left'),\n",
        "    cells=dict(values=[[\"nPVI\",\"\", \"rPVI\", \"\",\"%V\", \"\",\"DeltaC\", \"\",\"DeltaV\",\"\", \"VarcoC\",\"\", \"VarcoV\",\"\"], # 1st column\n",
        "                       [\"Fluent\", \"Non-Fluent\", \"Fluent\", \"Non-Fluent\", \"Fluent\", \"Non-Fluent\", \"Fluent\", \"Non-Fluent\", \"Fluent\", \"Non-Fluent\", \"Fluent\", \"Non-Fluent\", \"Fluent\", \"Non-Fluent\"],\n",
        "                      [round(means[0],2),round(means[1],2),round(means[2],2),round(means[3],2),round(means[4],2),round(means[5],2),round(means[6],3),round(means[7],3),round(means[8],3),round(means[9],3),round(means[10],2),round(means[11],2),round(means[12],2),round(means[13],2) ],\n",
        "                       [round(sds[0],2),round(sds[1],2),round(sds[2],2),round(sds[3],2),round(sds[4],2),round(sds[5],2),round(sds[6],3),round(sds[7],3),round(sds[8],3),round(sds[9],3),round(sds[10],2),round(sds[11],2),round(sds[12],2),round(sds[13],2) ]], # 2nd column\n",
        "               line_color='darkslategray',\n",
        "               fill_color='white',\n",
        "               align='left'))\n",
        "])"
      ],
      "metadata": {
        "id": "Yvs6aEYtOwmC"
      },
      "execution_count": null,
      "outputs": []
    },
    {
      "cell_type": "code",
      "source": [
        "fig.show()"
      ],
      "metadata": {
        "colab": {
          "base_uri": "https://localhost:8080/",
          "height": 542
        },
        "id": "MXs7wdWfOzOD",
        "outputId": "a4576684-5253-4bc0-d20b-432d3c779b75"
      },
      "execution_count": null,
      "outputs": [
        {
          "output_type": "display_data",
          "data": {
            "text/html": [
              "<html>\n",
              "<head><meta charset=\"utf-8\" /></head>\n",
              "<body>\n",
              "    <div>            <script src=\"https://cdnjs.cloudflare.com/ajax/libs/mathjax/2.7.5/MathJax.js?config=TeX-AMS-MML_SVG\"></script><script type=\"text/javascript\">if (window.MathJax) {MathJax.Hub.Config({SVG: {font: \"STIX-Web\"}});}</script>                <script type=\"text/javascript\">window.PlotlyConfig = {MathJaxConfig: 'local'};</script>\n",
              "        <script src=\"https://cdn.plot.ly/plotly-2.8.3.min.js\"></script>                <div id=\"0458c019-5b52-4cab-bf22-c5f9b94318dd\" class=\"plotly-graph-div\" style=\"height:525px; width:100%;\"></div>            <script type=\"text/javascript\">                                    window.PLOTLYENV=window.PLOTLYENV || {};                                    if (document.getElementById(\"0458c019-5b52-4cab-bf22-c5f9b94318dd\")) {                    Plotly.newPlot(                        \"0458c019-5b52-4cab-bf22-c5f9b94318dd\",                        [{\"cells\":{\"align\":\"left\",\"fill\":{\"color\":\"white\"},\"line\":{\"color\":\"darkslategray\"},\"values\":[[\"nPVI\",\"\",\"rPVI\",\"\",\"%V\",\"\",\"DeltaC\",\"\",\"DeltaV\",\"\",\"VarcoC\",\"\",\"VarcoV\",\"\"],[\"Fluent\",\"Non-Fluent\",\"Fluent\",\"Non-Fluent\",\"Fluent\",\"Non-Fluent\",\"Fluent\",\"Non-Fluent\",\"Fluent\",\"Non-Fluent\",\"Fluent\",\"Non-Fluent\",\"Fluent\",\"Non-Fluent\"],[69.6,68.36,0.04,0.05,42.42,60.9,0.031,0.045,0.04,0.053,44.41,57.89,49.24,57.55],[11.24,6.72,0.01,0.01,7.1,5.86,0.008,0.009,0.012,0.011,9.6,7.68,9.1,7.45]]},\"header\":{\"align\":\"left\",\"fill\":{\"color\":\"lightgray\"},\"line\":{\"color\":\"black\"},\"values\":[\"Rhythm Metrics\",\"Fluency Status\",\"Mean\",\"SD\"]},\"type\":\"table\"}],                        {\"template\":{\"data\":{\"bar\":[{\"error_x\":{\"color\":\"#2a3f5f\"},\"error_y\":{\"color\":\"#2a3f5f\"},\"marker\":{\"line\":{\"color\":\"#E5ECF6\",\"width\":0.5},\"pattern\":{\"fillmode\":\"overlay\",\"size\":10,\"solidity\":0.2}},\"type\":\"bar\"}],\"barpolar\":[{\"marker\":{\"line\":{\"color\":\"#E5ECF6\",\"width\":0.5},\"pattern\":{\"fillmode\":\"overlay\",\"size\":10,\"solidity\":0.2}},\"type\":\"barpolar\"}],\"carpet\":[{\"aaxis\":{\"endlinecolor\":\"#2a3f5f\",\"gridcolor\":\"white\",\"linecolor\":\"white\",\"minorgridcolor\":\"white\",\"startlinecolor\":\"#2a3f5f\"},\"baxis\":{\"endlinecolor\":\"#2a3f5f\",\"gridcolor\":\"white\",\"linecolor\":\"white\",\"minorgridcolor\":\"white\",\"startlinecolor\":\"#2a3f5f\"},\"type\":\"carpet\"}],\"choropleth\":[{\"colorbar\":{\"outlinewidth\":0,\"ticks\":\"\"},\"type\":\"choropleth\"}],\"contour\":[{\"colorbar\":{\"outlinewidth\":0,\"ticks\":\"\"},\"colorscale\":[[0.0,\"#0d0887\"],[0.1111111111111111,\"#46039f\"],[0.2222222222222222,\"#7201a8\"],[0.3333333333333333,\"#9c179e\"],[0.4444444444444444,\"#bd3786\"],[0.5555555555555556,\"#d8576b\"],[0.6666666666666666,\"#ed7953\"],[0.7777777777777778,\"#fb9f3a\"],[0.8888888888888888,\"#fdca26\"],[1.0,\"#f0f921\"]],\"type\":\"contour\"}],\"contourcarpet\":[{\"colorbar\":{\"outlinewidth\":0,\"ticks\":\"\"},\"type\":\"contourcarpet\"}],\"heatmap\":[{\"colorbar\":{\"outlinewidth\":0,\"ticks\":\"\"},\"colorscale\":[[0.0,\"#0d0887\"],[0.1111111111111111,\"#46039f\"],[0.2222222222222222,\"#7201a8\"],[0.3333333333333333,\"#9c179e\"],[0.4444444444444444,\"#bd3786\"],[0.5555555555555556,\"#d8576b\"],[0.6666666666666666,\"#ed7953\"],[0.7777777777777778,\"#fb9f3a\"],[0.8888888888888888,\"#fdca26\"],[1.0,\"#f0f921\"]],\"type\":\"heatmap\"}],\"heatmapgl\":[{\"colorbar\":{\"outlinewidth\":0,\"ticks\":\"\"},\"colorscale\":[[0.0,\"#0d0887\"],[0.1111111111111111,\"#46039f\"],[0.2222222222222222,\"#7201a8\"],[0.3333333333333333,\"#9c179e\"],[0.4444444444444444,\"#bd3786\"],[0.5555555555555556,\"#d8576b\"],[0.6666666666666666,\"#ed7953\"],[0.7777777777777778,\"#fb9f3a\"],[0.8888888888888888,\"#fdca26\"],[1.0,\"#f0f921\"]],\"type\":\"heatmapgl\"}],\"histogram\":[{\"marker\":{\"pattern\":{\"fillmode\":\"overlay\",\"size\":10,\"solidity\":0.2}},\"type\":\"histogram\"}],\"histogram2d\":[{\"colorbar\":{\"outlinewidth\":0,\"ticks\":\"\"},\"colorscale\":[[0.0,\"#0d0887\"],[0.1111111111111111,\"#46039f\"],[0.2222222222222222,\"#7201a8\"],[0.3333333333333333,\"#9c179e\"],[0.4444444444444444,\"#bd3786\"],[0.5555555555555556,\"#d8576b\"],[0.6666666666666666,\"#ed7953\"],[0.7777777777777778,\"#fb9f3a\"],[0.8888888888888888,\"#fdca26\"],[1.0,\"#f0f921\"]],\"type\":\"histogram2d\"}],\"histogram2dcontour\":[{\"colorbar\":{\"outlinewidth\":0,\"ticks\":\"\"},\"colorscale\":[[0.0,\"#0d0887\"],[0.1111111111111111,\"#46039f\"],[0.2222222222222222,\"#7201a8\"],[0.3333333333333333,\"#9c179e\"],[0.4444444444444444,\"#bd3786\"],[0.5555555555555556,\"#d8576b\"],[0.6666666666666666,\"#ed7953\"],[0.7777777777777778,\"#fb9f3a\"],[0.8888888888888888,\"#fdca26\"],[1.0,\"#f0f921\"]],\"type\":\"histogram2dcontour\"}],\"mesh3d\":[{\"colorbar\":{\"outlinewidth\":0,\"ticks\":\"\"},\"type\":\"mesh3d\"}],\"parcoords\":[{\"line\":{\"colorbar\":{\"outlinewidth\":0,\"ticks\":\"\"}},\"type\":\"parcoords\"}],\"pie\":[{\"automargin\":true,\"type\":\"pie\"}],\"scatter\":[{\"marker\":{\"colorbar\":{\"outlinewidth\":0,\"ticks\":\"\"}},\"type\":\"scatter\"}],\"scatter3d\":[{\"line\":{\"colorbar\":{\"outlinewidth\":0,\"ticks\":\"\"}},\"marker\":{\"colorbar\":{\"outlinewidth\":0,\"ticks\":\"\"}},\"type\":\"scatter3d\"}],\"scattercarpet\":[{\"marker\":{\"colorbar\":{\"outlinewidth\":0,\"ticks\":\"\"}},\"type\":\"scattercarpet\"}],\"scattergeo\":[{\"marker\":{\"colorbar\":{\"outlinewidth\":0,\"ticks\":\"\"}},\"type\":\"scattergeo\"}],\"scattergl\":[{\"marker\":{\"colorbar\":{\"outlinewidth\":0,\"ticks\":\"\"}},\"type\":\"scattergl\"}],\"scattermapbox\":[{\"marker\":{\"colorbar\":{\"outlinewidth\":0,\"ticks\":\"\"}},\"type\":\"scattermapbox\"}],\"scatterpolar\":[{\"marker\":{\"colorbar\":{\"outlinewidth\":0,\"ticks\":\"\"}},\"type\":\"scatterpolar\"}],\"scatterpolargl\":[{\"marker\":{\"colorbar\":{\"outlinewidth\":0,\"ticks\":\"\"}},\"type\":\"scatterpolargl\"}],\"scatterternary\":[{\"marker\":{\"colorbar\":{\"outlinewidth\":0,\"ticks\":\"\"}},\"type\":\"scatterternary\"}],\"surface\":[{\"colorbar\":{\"outlinewidth\":0,\"ticks\":\"\"},\"colorscale\":[[0.0,\"#0d0887\"],[0.1111111111111111,\"#46039f\"],[0.2222222222222222,\"#7201a8\"],[0.3333333333333333,\"#9c179e\"],[0.4444444444444444,\"#bd3786\"],[0.5555555555555556,\"#d8576b\"],[0.6666666666666666,\"#ed7953\"],[0.7777777777777778,\"#fb9f3a\"],[0.8888888888888888,\"#fdca26\"],[1.0,\"#f0f921\"]],\"type\":\"surface\"}],\"table\":[{\"cells\":{\"fill\":{\"color\":\"#EBF0F8\"},\"line\":{\"color\":\"white\"}},\"header\":{\"fill\":{\"color\":\"#C8D4E3\"},\"line\":{\"color\":\"white\"}},\"type\":\"table\"}]},\"layout\":{\"annotationdefaults\":{\"arrowcolor\":\"#2a3f5f\",\"arrowhead\":0,\"arrowwidth\":1},\"autotypenumbers\":\"strict\",\"coloraxis\":{\"colorbar\":{\"outlinewidth\":0,\"ticks\":\"\"}},\"colorscale\":{\"diverging\":[[0,\"#8e0152\"],[0.1,\"#c51b7d\"],[0.2,\"#de77ae\"],[0.3,\"#f1b6da\"],[0.4,\"#fde0ef\"],[0.5,\"#f7f7f7\"],[0.6,\"#e6f5d0\"],[0.7,\"#b8e186\"],[0.8,\"#7fbc41\"],[0.9,\"#4d9221\"],[1,\"#276419\"]],\"sequential\":[[0.0,\"#0d0887\"],[0.1111111111111111,\"#46039f\"],[0.2222222222222222,\"#7201a8\"],[0.3333333333333333,\"#9c179e\"],[0.4444444444444444,\"#bd3786\"],[0.5555555555555556,\"#d8576b\"],[0.6666666666666666,\"#ed7953\"],[0.7777777777777778,\"#fb9f3a\"],[0.8888888888888888,\"#fdca26\"],[1.0,\"#f0f921\"]],\"sequentialminus\":[[0.0,\"#0d0887\"],[0.1111111111111111,\"#46039f\"],[0.2222222222222222,\"#7201a8\"],[0.3333333333333333,\"#9c179e\"],[0.4444444444444444,\"#bd3786\"],[0.5555555555555556,\"#d8576b\"],[0.6666666666666666,\"#ed7953\"],[0.7777777777777778,\"#fb9f3a\"],[0.8888888888888888,\"#fdca26\"],[1.0,\"#f0f921\"]]},\"colorway\":[\"#636efa\",\"#EF553B\",\"#00cc96\",\"#ab63fa\",\"#FFA15A\",\"#19d3f3\",\"#FF6692\",\"#B6E880\",\"#FF97FF\",\"#FECB52\"],\"font\":{\"color\":\"#2a3f5f\"},\"geo\":{\"bgcolor\":\"white\",\"lakecolor\":\"white\",\"landcolor\":\"#E5ECF6\",\"showlakes\":true,\"showland\":true,\"subunitcolor\":\"white\"},\"hoverlabel\":{\"align\":\"left\"},\"hovermode\":\"closest\",\"mapbox\":{\"style\":\"light\"},\"paper_bgcolor\":\"white\",\"plot_bgcolor\":\"#E5ECF6\",\"polar\":{\"angularaxis\":{\"gridcolor\":\"white\",\"linecolor\":\"white\",\"ticks\":\"\"},\"bgcolor\":\"#E5ECF6\",\"radialaxis\":{\"gridcolor\":\"white\",\"linecolor\":\"white\",\"ticks\":\"\"}},\"scene\":{\"xaxis\":{\"backgroundcolor\":\"#E5ECF6\",\"gridcolor\":\"white\",\"gridwidth\":2,\"linecolor\":\"white\",\"showbackground\":true,\"ticks\":\"\",\"zerolinecolor\":\"white\"},\"yaxis\":{\"backgroundcolor\":\"#E5ECF6\",\"gridcolor\":\"white\",\"gridwidth\":2,\"linecolor\":\"white\",\"showbackground\":true,\"ticks\":\"\",\"zerolinecolor\":\"white\"},\"zaxis\":{\"backgroundcolor\":\"#E5ECF6\",\"gridcolor\":\"white\",\"gridwidth\":2,\"linecolor\":\"white\",\"showbackground\":true,\"ticks\":\"\",\"zerolinecolor\":\"white\"}},\"shapedefaults\":{\"line\":{\"color\":\"#2a3f5f\"}},\"ternary\":{\"aaxis\":{\"gridcolor\":\"white\",\"linecolor\":\"white\",\"ticks\":\"\"},\"baxis\":{\"gridcolor\":\"white\",\"linecolor\":\"white\",\"ticks\":\"\"},\"bgcolor\":\"#E5ECF6\",\"caxis\":{\"gridcolor\":\"white\",\"linecolor\":\"white\",\"ticks\":\"\"}},\"title\":{\"x\":0.05},\"xaxis\":{\"automargin\":true,\"gridcolor\":\"white\",\"linecolor\":\"white\",\"ticks\":\"\",\"title\":{\"standoff\":15},\"zerolinecolor\":\"white\",\"zerolinewidth\":2},\"yaxis\":{\"automargin\":true,\"gridcolor\":\"white\",\"linecolor\":\"white\",\"ticks\":\"\",\"title\":{\"standoff\":15},\"zerolinecolor\":\"white\",\"zerolinewidth\":2}}}},                        {\"responsive\": true}                    ).then(function(){\n",
              "                            \n",
              "var gd = document.getElementById('0458c019-5b52-4cab-bf22-c5f9b94318dd');\n",
              "var x = new MutationObserver(function (mutations, observer) {{\n",
              "        var display = window.getComputedStyle(gd).display;\n",
              "        if (!display || display === 'none') {{\n",
              "            console.log([gd, 'removed!']);\n",
              "            Plotly.purge(gd);\n",
              "            observer.disconnect();\n",
              "        }}\n",
              "}});\n",
              "\n",
              "// Listen for the removal of the full notebook cells\n",
              "var notebookContainer = gd.closest('#notebook-container');\n",
              "if (notebookContainer) {{\n",
              "    x.observe(notebookContainer, {childList: true});\n",
              "}}\n",
              "\n",
              "// Listen for the clearing of the current output cell\n",
              "var outputEl = gd.closest('.output');\n",
              "if (outputEl) {{\n",
              "    x.observe(outputEl, {childList: true});\n",
              "}}\n",
              "\n",
              "                        })                };                            </script>        </div>\n",
              "</body>\n",
              "</html>"
            ]
          },
          "metadata": {}
        }
      ]
    },
    {
      "cell_type": "markdown",
      "source": [
        "**Interview**"
      ],
      "metadata": {
        "id": "wFkJAvpeQkw0"
      }
    },
    {
      "cell_type": "code",
      "source": [
        "means = [result_interview_fluent.mean()[0], result_interview_disfluent.mean()[0], result_interview_fluent.mean()[1],result_interview_disfluent.mean()[1],result_interview_fluent.mean()[2], result_interview_disfluent.mean()[2], result_interview_fluent.mean()[3],result_interview_disfluent.mean()[3], result_interview_fluent.mean()[4],result_interview_disfluent.mean()[4], result_interview_fluent.mean()[5],result_interview_disfluent.mean()[5],result_interview_fluent.mean()[6], result_interview_disfluent.mean()[6]]"
      ],
      "metadata": {
        "id": "w11BHYRlQppy"
      },
      "execution_count": null,
      "outputs": []
    },
    {
      "cell_type": "code",
      "source": [
        "sds = [result_interview_fluent.std()[0], result_interview_disfluent.std()[0], result_interview_fluent.std()[1],result_interview_disfluent.std()[1],result_interview_fluent.std()[2], result_interview_disfluent.std()[2], result_interview_fluent.std()[3],result_interview_disfluent.std()[3], result_interview_fluent.std()[4],result_interview_disfluent.std()[4], result_interview_fluent.std()[5],result_interview_disfluent.std()[5],result_interview_fluent.std()[6], result_interview_disfluent.std()[6]]"
      ],
      "metadata": {
        "id": "ZwJc3wsnQ_fu"
      },
      "execution_count": null,
      "outputs": []
    },
    {
      "cell_type": "code",
      "source": [
        "fig = go.Figure(data=[go.Table(\n",
        "    header=dict(values=['Rhythm Metrics', 'Fluency Status', 'Mean','SD'],\n",
        "                line_color='black',\n",
        "                fill_color='lightgray',\n",
        "                align='left'),\n",
        "    cells=dict(values=[[\"nPVI\",\"\", \"rPVI\", \"\",\"%V\", \"\",\"DeltaC\", \"\",\"DeltaV\",\"\", \"VarcoC\",\"\", \"VarcoV\",\"\"], # 1st column\n",
        "                       [\"Fluent\", \"Non-Fluent\", \"Fluent\", \"Non-Fluent\", \"Fluent\", \"Non-Fluent\", \"Fluent\", \"Non-Fluent\", \"Fluent\", \"Non-Fluent\", \"Fluent\", \"Non-Fluent\", \"Fluent\", \"Non-Fluent\"],\n",
        "                      [round(means[0],2),round(means[1],2),round(means[2],2),round(means[3],2),round(means[4],2),round(means[5],2),round(means[6],3),round(means[7],3),round(means[8],3),round(means[9],3),round(means[10],2),round(means[11],2),round(means[12],2),round(means[13],2) ],\n",
        "                       [round(sds[0],2),round(sds[1],2),round(sds[2],2),round(sds[3],2),round(sds[4],2),round(sds[5],2),round(sds[6],3),round(sds[7],3),round(sds[8],3),round(sds[9],3),round(sds[10],2),round(sds[11],2),round(sds[12],2),round(sds[13],2) ]], # 2nd column\n",
        "               line_color='darkslategray',\n",
        "               fill_color='white',\n",
        "               align='left'))\n",
        "])"
      ],
      "metadata": {
        "id": "UzAA8WvoRUgI"
      },
      "execution_count": null,
      "outputs": []
    },
    {
      "cell_type": "code",
      "source": [
        "fig.show()"
      ],
      "metadata": {
        "colab": {
          "base_uri": "https://localhost:8080/",
          "height": 542
        },
        "id": "mT9-jx_7RaCC",
        "outputId": "b3eff662-3caa-4499-fc36-fe44e7a6aadf"
      },
      "execution_count": null,
      "outputs": [
        {
          "output_type": "display_data",
          "data": {
            "text/html": [
              "<html>\n",
              "<head><meta charset=\"utf-8\" /></head>\n",
              "<body>\n",
              "    <div>            <script src=\"https://cdnjs.cloudflare.com/ajax/libs/mathjax/2.7.5/MathJax.js?config=TeX-AMS-MML_SVG\"></script><script type=\"text/javascript\">if (window.MathJax) {MathJax.Hub.Config({SVG: {font: \"STIX-Web\"}});}</script>                <script type=\"text/javascript\">window.PlotlyConfig = {MathJaxConfig: 'local'};</script>\n",
              "        <script src=\"https://cdn.plot.ly/plotly-2.8.3.min.js\"></script>                <div id=\"9fe64013-cdd0-4a99-b12e-c1ccb55ac18c\" class=\"plotly-graph-div\" style=\"height:525px; width:100%;\"></div>            <script type=\"text/javascript\">                                    window.PLOTLYENV=window.PLOTLYENV || {};                                    if (document.getElementById(\"9fe64013-cdd0-4a99-b12e-c1ccb55ac18c\")) {                    Plotly.newPlot(                        \"9fe64013-cdd0-4a99-b12e-c1ccb55ac18c\",                        [{\"cells\":{\"align\":\"left\",\"fill\":{\"color\":\"white\"},\"line\":{\"color\":\"darkslategray\"},\"values\":[[\"nPVI\",\"\",\"rPVI\",\"\",\"%V\",\"\",\"DeltaC\",\"\",\"DeltaV\",\"\",\"VarcoC\",\"\",\"VarcoV\",\"\"],[\"Fluent\",\"Non-Fluent\",\"Fluent\",\"Non-Fluent\",\"Fluent\",\"Non-Fluent\",\"Fluent\",\"Non-Fluent\",\"Fluent\",\"Non-Fluent\",\"Fluent\",\"Non-Fluent\",\"Fluent\",\"Non-Fluent\"],[67.65,71.26,0.05,0.05,42.62,51.21,0.035,0.046,0.051,0.066,56.74,64.51,61.38,66.58],[5.3,6.32,0.01,0.02,6.33,8.55,0.006,0.013,0.014,0.021,4.71,8.79,10.29,9.07]]},\"header\":{\"align\":\"left\",\"fill\":{\"color\":\"lightgray\"},\"line\":{\"color\":\"black\"},\"values\":[\"Rhythm Metrics\",\"Fluency Status\",\"Mean\",\"SD\"]},\"type\":\"table\"}],                        {\"template\":{\"data\":{\"bar\":[{\"error_x\":{\"color\":\"#2a3f5f\"},\"error_y\":{\"color\":\"#2a3f5f\"},\"marker\":{\"line\":{\"color\":\"#E5ECF6\",\"width\":0.5},\"pattern\":{\"fillmode\":\"overlay\",\"size\":10,\"solidity\":0.2}},\"type\":\"bar\"}],\"barpolar\":[{\"marker\":{\"line\":{\"color\":\"#E5ECF6\",\"width\":0.5},\"pattern\":{\"fillmode\":\"overlay\",\"size\":10,\"solidity\":0.2}},\"type\":\"barpolar\"}],\"carpet\":[{\"aaxis\":{\"endlinecolor\":\"#2a3f5f\",\"gridcolor\":\"white\",\"linecolor\":\"white\",\"minorgridcolor\":\"white\",\"startlinecolor\":\"#2a3f5f\"},\"baxis\":{\"endlinecolor\":\"#2a3f5f\",\"gridcolor\":\"white\",\"linecolor\":\"white\",\"minorgridcolor\":\"white\",\"startlinecolor\":\"#2a3f5f\"},\"type\":\"carpet\"}],\"choropleth\":[{\"colorbar\":{\"outlinewidth\":0,\"ticks\":\"\"},\"type\":\"choropleth\"}],\"contour\":[{\"colorbar\":{\"outlinewidth\":0,\"ticks\":\"\"},\"colorscale\":[[0.0,\"#0d0887\"],[0.1111111111111111,\"#46039f\"],[0.2222222222222222,\"#7201a8\"],[0.3333333333333333,\"#9c179e\"],[0.4444444444444444,\"#bd3786\"],[0.5555555555555556,\"#d8576b\"],[0.6666666666666666,\"#ed7953\"],[0.7777777777777778,\"#fb9f3a\"],[0.8888888888888888,\"#fdca26\"],[1.0,\"#f0f921\"]],\"type\":\"contour\"}],\"contourcarpet\":[{\"colorbar\":{\"outlinewidth\":0,\"ticks\":\"\"},\"type\":\"contourcarpet\"}],\"heatmap\":[{\"colorbar\":{\"outlinewidth\":0,\"ticks\":\"\"},\"colorscale\":[[0.0,\"#0d0887\"],[0.1111111111111111,\"#46039f\"],[0.2222222222222222,\"#7201a8\"],[0.3333333333333333,\"#9c179e\"],[0.4444444444444444,\"#bd3786\"],[0.5555555555555556,\"#d8576b\"],[0.6666666666666666,\"#ed7953\"],[0.7777777777777778,\"#fb9f3a\"],[0.8888888888888888,\"#fdca26\"],[1.0,\"#f0f921\"]],\"type\":\"heatmap\"}],\"heatmapgl\":[{\"colorbar\":{\"outlinewidth\":0,\"ticks\":\"\"},\"colorscale\":[[0.0,\"#0d0887\"],[0.1111111111111111,\"#46039f\"],[0.2222222222222222,\"#7201a8\"],[0.3333333333333333,\"#9c179e\"],[0.4444444444444444,\"#bd3786\"],[0.5555555555555556,\"#d8576b\"],[0.6666666666666666,\"#ed7953\"],[0.7777777777777778,\"#fb9f3a\"],[0.8888888888888888,\"#fdca26\"],[1.0,\"#f0f921\"]],\"type\":\"heatmapgl\"}],\"histogram\":[{\"marker\":{\"pattern\":{\"fillmode\":\"overlay\",\"size\":10,\"solidity\":0.2}},\"type\":\"histogram\"}],\"histogram2d\":[{\"colorbar\":{\"outlinewidth\":0,\"ticks\":\"\"},\"colorscale\":[[0.0,\"#0d0887\"],[0.1111111111111111,\"#46039f\"],[0.2222222222222222,\"#7201a8\"],[0.3333333333333333,\"#9c179e\"],[0.4444444444444444,\"#bd3786\"],[0.5555555555555556,\"#d8576b\"],[0.6666666666666666,\"#ed7953\"],[0.7777777777777778,\"#fb9f3a\"],[0.8888888888888888,\"#fdca26\"],[1.0,\"#f0f921\"]],\"type\":\"histogram2d\"}],\"histogram2dcontour\":[{\"colorbar\":{\"outlinewidth\":0,\"ticks\":\"\"},\"colorscale\":[[0.0,\"#0d0887\"],[0.1111111111111111,\"#46039f\"],[0.2222222222222222,\"#7201a8\"],[0.3333333333333333,\"#9c179e\"],[0.4444444444444444,\"#bd3786\"],[0.5555555555555556,\"#d8576b\"],[0.6666666666666666,\"#ed7953\"],[0.7777777777777778,\"#fb9f3a\"],[0.8888888888888888,\"#fdca26\"],[1.0,\"#f0f921\"]],\"type\":\"histogram2dcontour\"}],\"mesh3d\":[{\"colorbar\":{\"outlinewidth\":0,\"ticks\":\"\"},\"type\":\"mesh3d\"}],\"parcoords\":[{\"line\":{\"colorbar\":{\"outlinewidth\":0,\"ticks\":\"\"}},\"type\":\"parcoords\"}],\"pie\":[{\"automargin\":true,\"type\":\"pie\"}],\"scatter\":[{\"marker\":{\"colorbar\":{\"outlinewidth\":0,\"ticks\":\"\"}},\"type\":\"scatter\"}],\"scatter3d\":[{\"line\":{\"colorbar\":{\"outlinewidth\":0,\"ticks\":\"\"}},\"marker\":{\"colorbar\":{\"outlinewidth\":0,\"ticks\":\"\"}},\"type\":\"scatter3d\"}],\"scattercarpet\":[{\"marker\":{\"colorbar\":{\"outlinewidth\":0,\"ticks\":\"\"}},\"type\":\"scattercarpet\"}],\"scattergeo\":[{\"marker\":{\"colorbar\":{\"outlinewidth\":0,\"ticks\":\"\"}},\"type\":\"scattergeo\"}],\"scattergl\":[{\"marker\":{\"colorbar\":{\"outlinewidth\":0,\"ticks\":\"\"}},\"type\":\"scattergl\"}],\"scattermapbox\":[{\"marker\":{\"colorbar\":{\"outlinewidth\":0,\"ticks\":\"\"}},\"type\":\"scattermapbox\"}],\"scatterpolar\":[{\"marker\":{\"colorbar\":{\"outlinewidth\":0,\"ticks\":\"\"}},\"type\":\"scatterpolar\"}],\"scatterpolargl\":[{\"marker\":{\"colorbar\":{\"outlinewidth\":0,\"ticks\":\"\"}},\"type\":\"scatterpolargl\"}],\"scatterternary\":[{\"marker\":{\"colorbar\":{\"outlinewidth\":0,\"ticks\":\"\"}},\"type\":\"scatterternary\"}],\"surface\":[{\"colorbar\":{\"outlinewidth\":0,\"ticks\":\"\"},\"colorscale\":[[0.0,\"#0d0887\"],[0.1111111111111111,\"#46039f\"],[0.2222222222222222,\"#7201a8\"],[0.3333333333333333,\"#9c179e\"],[0.4444444444444444,\"#bd3786\"],[0.5555555555555556,\"#d8576b\"],[0.6666666666666666,\"#ed7953\"],[0.7777777777777778,\"#fb9f3a\"],[0.8888888888888888,\"#fdca26\"],[1.0,\"#f0f921\"]],\"type\":\"surface\"}],\"table\":[{\"cells\":{\"fill\":{\"color\":\"#EBF0F8\"},\"line\":{\"color\":\"white\"}},\"header\":{\"fill\":{\"color\":\"#C8D4E3\"},\"line\":{\"color\":\"white\"}},\"type\":\"table\"}]},\"layout\":{\"annotationdefaults\":{\"arrowcolor\":\"#2a3f5f\",\"arrowhead\":0,\"arrowwidth\":1},\"autotypenumbers\":\"strict\",\"coloraxis\":{\"colorbar\":{\"outlinewidth\":0,\"ticks\":\"\"}},\"colorscale\":{\"diverging\":[[0,\"#8e0152\"],[0.1,\"#c51b7d\"],[0.2,\"#de77ae\"],[0.3,\"#f1b6da\"],[0.4,\"#fde0ef\"],[0.5,\"#f7f7f7\"],[0.6,\"#e6f5d0\"],[0.7,\"#b8e186\"],[0.8,\"#7fbc41\"],[0.9,\"#4d9221\"],[1,\"#276419\"]],\"sequential\":[[0.0,\"#0d0887\"],[0.1111111111111111,\"#46039f\"],[0.2222222222222222,\"#7201a8\"],[0.3333333333333333,\"#9c179e\"],[0.4444444444444444,\"#bd3786\"],[0.5555555555555556,\"#d8576b\"],[0.6666666666666666,\"#ed7953\"],[0.7777777777777778,\"#fb9f3a\"],[0.8888888888888888,\"#fdca26\"],[1.0,\"#f0f921\"]],\"sequentialminus\":[[0.0,\"#0d0887\"],[0.1111111111111111,\"#46039f\"],[0.2222222222222222,\"#7201a8\"],[0.3333333333333333,\"#9c179e\"],[0.4444444444444444,\"#bd3786\"],[0.5555555555555556,\"#d8576b\"],[0.6666666666666666,\"#ed7953\"],[0.7777777777777778,\"#fb9f3a\"],[0.8888888888888888,\"#fdca26\"],[1.0,\"#f0f921\"]]},\"colorway\":[\"#636efa\",\"#EF553B\",\"#00cc96\",\"#ab63fa\",\"#FFA15A\",\"#19d3f3\",\"#FF6692\",\"#B6E880\",\"#FF97FF\",\"#FECB52\"],\"font\":{\"color\":\"#2a3f5f\"},\"geo\":{\"bgcolor\":\"white\",\"lakecolor\":\"white\",\"landcolor\":\"#E5ECF6\",\"showlakes\":true,\"showland\":true,\"subunitcolor\":\"white\"},\"hoverlabel\":{\"align\":\"left\"},\"hovermode\":\"closest\",\"mapbox\":{\"style\":\"light\"},\"paper_bgcolor\":\"white\",\"plot_bgcolor\":\"#E5ECF6\",\"polar\":{\"angularaxis\":{\"gridcolor\":\"white\",\"linecolor\":\"white\",\"ticks\":\"\"},\"bgcolor\":\"#E5ECF6\",\"radialaxis\":{\"gridcolor\":\"white\",\"linecolor\":\"white\",\"ticks\":\"\"}},\"scene\":{\"xaxis\":{\"backgroundcolor\":\"#E5ECF6\",\"gridcolor\":\"white\",\"gridwidth\":2,\"linecolor\":\"white\",\"showbackground\":true,\"ticks\":\"\",\"zerolinecolor\":\"white\"},\"yaxis\":{\"backgroundcolor\":\"#E5ECF6\",\"gridcolor\":\"white\",\"gridwidth\":2,\"linecolor\":\"white\",\"showbackground\":true,\"ticks\":\"\",\"zerolinecolor\":\"white\"},\"zaxis\":{\"backgroundcolor\":\"#E5ECF6\",\"gridcolor\":\"white\",\"gridwidth\":2,\"linecolor\":\"white\",\"showbackground\":true,\"ticks\":\"\",\"zerolinecolor\":\"white\"}},\"shapedefaults\":{\"line\":{\"color\":\"#2a3f5f\"}},\"ternary\":{\"aaxis\":{\"gridcolor\":\"white\",\"linecolor\":\"white\",\"ticks\":\"\"},\"baxis\":{\"gridcolor\":\"white\",\"linecolor\":\"white\",\"ticks\":\"\"},\"bgcolor\":\"#E5ECF6\",\"caxis\":{\"gridcolor\":\"white\",\"linecolor\":\"white\",\"ticks\":\"\"}},\"title\":{\"x\":0.05},\"xaxis\":{\"automargin\":true,\"gridcolor\":\"white\",\"linecolor\":\"white\",\"ticks\":\"\",\"title\":{\"standoff\":15},\"zerolinecolor\":\"white\",\"zerolinewidth\":2},\"yaxis\":{\"automargin\":true,\"gridcolor\":\"white\",\"linecolor\":\"white\",\"ticks\":\"\",\"title\":{\"standoff\":15},\"zerolinecolor\":\"white\",\"zerolinewidth\":2}}}},                        {\"responsive\": true}                    ).then(function(){\n",
              "                            \n",
              "var gd = document.getElementById('9fe64013-cdd0-4a99-b12e-c1ccb55ac18c');\n",
              "var x = new MutationObserver(function (mutations, observer) {{\n",
              "        var display = window.getComputedStyle(gd).display;\n",
              "        if (!display || display === 'none') {{\n",
              "            console.log([gd, 'removed!']);\n",
              "            Plotly.purge(gd);\n",
              "            observer.disconnect();\n",
              "        }}\n",
              "}});\n",
              "\n",
              "// Listen for the removal of the full notebook cells\n",
              "var notebookContainer = gd.closest('#notebook-container');\n",
              "if (notebookContainer) {{\n",
              "    x.observe(notebookContainer, {childList: true});\n",
              "}}\n",
              "\n",
              "// Listen for the clearing of the current output cell\n",
              "var outputEl = gd.closest('.output');\n",
              "if (outputEl) {{\n",
              "    x.observe(outputEl, {childList: true});\n",
              "}}\n",
              "\n",
              "                        })                };                            </script>        </div>\n",
              "</body>\n",
              "</html>"
            ]
          },
          "metadata": {}
        }
      ]
    },
    {
      "cell_type": "markdown",
      "source": [
        "# **Plot Results**"
      ],
      "metadata": {
        "id": "tR2p5q0ORxu7"
      }
    },
    {
      "cell_type": "markdown",
      "source": [
        "**Python Built-In**"
      ],
      "metadata": {
        "id": "6brNwByXWWQb"
      }
    },
    {
      "cell_type": "code",
      "source": [
        "n = 18\n",
        "subject_n = 2 * n"
      ],
      "metadata": {
        "id": "blxxOnt5UfvD"
      },
      "execution_count": null,
      "outputs": []
    },
    {
      "cell_type": "code",
      "source": [
        "# initialize dataframes\n",
        "df_boxplot_fluent = pd.DataFrame()\n",
        "df_boxplot_disfluent = pd.DataFrame()\n",
        "df_boxplot_group = pd.DataFrame(index = range(subject_n), columns = [\"FluencyStatus\"])"
      ],
      "metadata": {
        "id": "fyDNkSdtUfrj"
      },
      "execution_count": null,
      "outputs": []
    },
    {
      "cell_type": "code",
      "source": [
        "# group column\n",
        "df_boxplot_group.iloc[0:n] = \"Fluent\"\n",
        "df_boxplot_group.iloc[n:subject_n] = \"Disfluent\""
      ],
      "metadata": {
        "id": "xiWb_DYUUfpM"
      },
      "execution_count": null,
      "outputs": []
    },
    {
      "cell_type": "code",
      "source": [
        "#PWS rows\n",
        "df_boxplot_fluent[\"Reading\"] = result_reading_fluent[\"nPVI\"]\n",
        "df_boxplot_fluent[\"Interview\"] = result_interview_fluent[\"nPVI\"]"
      ],
      "metadata": {
        "id": "BwLOiU0CUfms"
      },
      "execution_count": null,
      "outputs": []
    },
    {
      "cell_type": "code",
      "source": [
        "#Control rows\n",
        "df_boxplot_disfluent[\"Reading\"] =result_reading_disfluent[\"nPVI\"]\n",
        "df_boxplot_disfluent[\"Interview\"] = result_interview_disfluent[\"nPVI\"]"
      ],
      "metadata": {
        "id": "G_lc4fo2UfkF"
      },
      "execution_count": null,
      "outputs": []
    },
    {
      "cell_type": "code",
      "source": [
        "# Combine PWS and Control\n",
        "df_boxplot = pd.concat([df_boxplot_fluent, df_boxplot_disfluent], ignore_index = True)"
      ],
      "metadata": {
        "id": "wR4L_BuwUqCa"
      },
      "execution_count": null,
      "outputs": []
    },
    {
      "cell_type": "code",
      "source": [
        "#Add group column\n",
        "df_boxplot[\"FluencyStatus\"] = df_boxplot_group"
      ],
      "metadata": {
        "id": "uZQAOTFTUp-9"
      },
      "execution_count": null,
      "outputs": []
    },
    {
      "cell_type": "code",
      "source": [
        "df_boxplot"
      ],
      "metadata": {
        "colab": {
          "base_uri": "https://localhost:8080/",
          "height": 1000
        },
        "id": "tGDtPlZGUp9F",
        "outputId": "edb62e9a-ebc9-45d0-9558-e9b518f17af9"
      },
      "execution_count": null,
      "outputs": [
        {
          "output_type": "execute_result",
          "data": {
            "text/plain": [
              "       Reading  Interview FluencyStatus\n",
              "0    56.796077  65.999143        Fluent\n",
              "1    68.032338  68.627627        Fluent\n",
              "2    53.327056  54.573368        Fluent\n",
              "3    57.475267  68.867276        Fluent\n",
              "4    61.545033  66.820396        Fluent\n",
              "5    61.205685  72.794894        Fluent\n",
              "6    71.178392  74.230897        Fluent\n",
              "7    64.482398  73.584804        Fluent\n",
              "8    72.918062  64.729983        Fluent\n",
              "9   101.196101  65.866806        Fluent\n",
              "10   62.816849  69.869499        Fluent\n",
              "11   72.508286  58.743303        Fluent\n",
              "12   81.710492  73.309435        Fluent\n",
              "13   78.602958  74.537602        Fluent\n",
              "14   78.416207  64.830540        Fluent\n",
              "15   74.792161  65.360360        Fluent\n",
              "16   69.397490  69.287557        Fluent\n",
              "17   66.416836  65.629817        Fluent\n",
              "18   71.927865  63.882758     Disfluent\n",
              "19   56.267044  89.392899     Disfluent\n",
              "20   79.050913  63.605618     Disfluent\n",
              "21   74.760257  69.915200     Disfluent\n",
              "22   66.762599  70.137497     Disfluent\n",
              "23   62.950654  68.001147     Disfluent\n",
              "24   72.503461  74.545187     Disfluent\n",
              "25   64.363718  71.876632     Disfluent\n",
              "26   64.025018  68.591464     Disfluent\n",
              "27   73.048142  74.422397     Disfluent\n",
              "28   61.302096  72.334970     Disfluent\n",
              "29   60.683203  66.337457     Disfluent\n",
              "30   63.857561  67.279606     Disfluent\n",
              "31   68.239935  66.548766     Disfluent\n",
              "32   68.833110  69.271853     Disfluent\n",
              "33   66.017213  73.288260     Disfluent\n",
              "34   81.804140  82.333430     Disfluent\n",
              "35   74.093919  70.905283     Disfluent"
            ],
            "text/html": [
              "\n",
              "  <div id=\"df-74cdbf0a-e25d-41f1-8ca0-6676aa11befe\">\n",
              "    <div class=\"colab-df-container\">\n",
              "      <div>\n",
              "<style scoped>\n",
              "    .dataframe tbody tr th:only-of-type {\n",
              "        vertical-align: middle;\n",
              "    }\n",
              "\n",
              "    .dataframe tbody tr th {\n",
              "        vertical-align: top;\n",
              "    }\n",
              "\n",
              "    .dataframe thead th {\n",
              "        text-align: right;\n",
              "    }\n",
              "</style>\n",
              "<table border=\"1\" class=\"dataframe\">\n",
              "  <thead>\n",
              "    <tr style=\"text-align: right;\">\n",
              "      <th></th>\n",
              "      <th>Reading</th>\n",
              "      <th>Interview</th>\n",
              "      <th>FluencyStatus</th>\n",
              "    </tr>\n",
              "  </thead>\n",
              "  <tbody>\n",
              "    <tr>\n",
              "      <th>0</th>\n",
              "      <td>56.796077</td>\n",
              "      <td>65.999143</td>\n",
              "      <td>Fluent</td>\n",
              "    </tr>\n",
              "    <tr>\n",
              "      <th>1</th>\n",
              "      <td>68.032338</td>\n",
              "      <td>68.627627</td>\n",
              "      <td>Fluent</td>\n",
              "    </tr>\n",
              "    <tr>\n",
              "      <th>2</th>\n",
              "      <td>53.327056</td>\n",
              "      <td>54.573368</td>\n",
              "      <td>Fluent</td>\n",
              "    </tr>\n",
              "    <tr>\n",
              "      <th>3</th>\n",
              "      <td>57.475267</td>\n",
              "      <td>68.867276</td>\n",
              "      <td>Fluent</td>\n",
              "    </tr>\n",
              "    <tr>\n",
              "      <th>4</th>\n",
              "      <td>61.545033</td>\n",
              "      <td>66.820396</td>\n",
              "      <td>Fluent</td>\n",
              "    </tr>\n",
              "    <tr>\n",
              "      <th>5</th>\n",
              "      <td>61.205685</td>\n",
              "      <td>72.794894</td>\n",
              "      <td>Fluent</td>\n",
              "    </tr>\n",
              "    <tr>\n",
              "      <th>6</th>\n",
              "      <td>71.178392</td>\n",
              "      <td>74.230897</td>\n",
              "      <td>Fluent</td>\n",
              "    </tr>\n",
              "    <tr>\n",
              "      <th>7</th>\n",
              "      <td>64.482398</td>\n",
              "      <td>73.584804</td>\n",
              "      <td>Fluent</td>\n",
              "    </tr>\n",
              "    <tr>\n",
              "      <th>8</th>\n",
              "      <td>72.918062</td>\n",
              "      <td>64.729983</td>\n",
              "      <td>Fluent</td>\n",
              "    </tr>\n",
              "    <tr>\n",
              "      <th>9</th>\n",
              "      <td>101.196101</td>\n",
              "      <td>65.866806</td>\n",
              "      <td>Fluent</td>\n",
              "    </tr>\n",
              "    <tr>\n",
              "      <th>10</th>\n",
              "      <td>62.816849</td>\n",
              "      <td>69.869499</td>\n",
              "      <td>Fluent</td>\n",
              "    </tr>\n",
              "    <tr>\n",
              "      <th>11</th>\n",
              "      <td>72.508286</td>\n",
              "      <td>58.743303</td>\n",
              "      <td>Fluent</td>\n",
              "    </tr>\n",
              "    <tr>\n",
              "      <th>12</th>\n",
              "      <td>81.710492</td>\n",
              "      <td>73.309435</td>\n",
              "      <td>Fluent</td>\n",
              "    </tr>\n",
              "    <tr>\n",
              "      <th>13</th>\n",
              "      <td>78.602958</td>\n",
              "      <td>74.537602</td>\n",
              "      <td>Fluent</td>\n",
              "    </tr>\n",
              "    <tr>\n",
              "      <th>14</th>\n",
              "      <td>78.416207</td>\n",
              "      <td>64.830540</td>\n",
              "      <td>Fluent</td>\n",
              "    </tr>\n",
              "    <tr>\n",
              "      <th>15</th>\n",
              "      <td>74.792161</td>\n",
              "      <td>65.360360</td>\n",
              "      <td>Fluent</td>\n",
              "    </tr>\n",
              "    <tr>\n",
              "      <th>16</th>\n",
              "      <td>69.397490</td>\n",
              "      <td>69.287557</td>\n",
              "      <td>Fluent</td>\n",
              "    </tr>\n",
              "    <tr>\n",
              "      <th>17</th>\n",
              "      <td>66.416836</td>\n",
              "      <td>65.629817</td>\n",
              "      <td>Fluent</td>\n",
              "    </tr>\n",
              "    <tr>\n",
              "      <th>18</th>\n",
              "      <td>71.927865</td>\n",
              "      <td>63.882758</td>\n",
              "      <td>Disfluent</td>\n",
              "    </tr>\n",
              "    <tr>\n",
              "      <th>19</th>\n",
              "      <td>56.267044</td>\n",
              "      <td>89.392899</td>\n",
              "      <td>Disfluent</td>\n",
              "    </tr>\n",
              "    <tr>\n",
              "      <th>20</th>\n",
              "      <td>79.050913</td>\n",
              "      <td>63.605618</td>\n",
              "      <td>Disfluent</td>\n",
              "    </tr>\n",
              "    <tr>\n",
              "      <th>21</th>\n",
              "      <td>74.760257</td>\n",
              "      <td>69.915200</td>\n",
              "      <td>Disfluent</td>\n",
              "    </tr>\n",
              "    <tr>\n",
              "      <th>22</th>\n",
              "      <td>66.762599</td>\n",
              "      <td>70.137497</td>\n",
              "      <td>Disfluent</td>\n",
              "    </tr>\n",
              "    <tr>\n",
              "      <th>23</th>\n",
              "      <td>62.950654</td>\n",
              "      <td>68.001147</td>\n",
              "      <td>Disfluent</td>\n",
              "    </tr>\n",
              "    <tr>\n",
              "      <th>24</th>\n",
              "      <td>72.503461</td>\n",
              "      <td>74.545187</td>\n",
              "      <td>Disfluent</td>\n",
              "    </tr>\n",
              "    <tr>\n",
              "      <th>25</th>\n",
              "      <td>64.363718</td>\n",
              "      <td>71.876632</td>\n",
              "      <td>Disfluent</td>\n",
              "    </tr>\n",
              "    <tr>\n",
              "      <th>26</th>\n",
              "      <td>64.025018</td>\n",
              "      <td>68.591464</td>\n",
              "      <td>Disfluent</td>\n",
              "    </tr>\n",
              "    <tr>\n",
              "      <th>27</th>\n",
              "      <td>73.048142</td>\n",
              "      <td>74.422397</td>\n",
              "      <td>Disfluent</td>\n",
              "    </tr>\n",
              "    <tr>\n",
              "      <th>28</th>\n",
              "      <td>61.302096</td>\n",
              "      <td>72.334970</td>\n",
              "      <td>Disfluent</td>\n",
              "    </tr>\n",
              "    <tr>\n",
              "      <th>29</th>\n",
              "      <td>60.683203</td>\n",
              "      <td>66.337457</td>\n",
              "      <td>Disfluent</td>\n",
              "    </tr>\n",
              "    <tr>\n",
              "      <th>30</th>\n",
              "      <td>63.857561</td>\n",
              "      <td>67.279606</td>\n",
              "      <td>Disfluent</td>\n",
              "    </tr>\n",
              "    <tr>\n",
              "      <th>31</th>\n",
              "      <td>68.239935</td>\n",
              "      <td>66.548766</td>\n",
              "      <td>Disfluent</td>\n",
              "    </tr>\n",
              "    <tr>\n",
              "      <th>32</th>\n",
              "      <td>68.833110</td>\n",
              "      <td>69.271853</td>\n",
              "      <td>Disfluent</td>\n",
              "    </tr>\n",
              "    <tr>\n",
              "      <th>33</th>\n",
              "      <td>66.017213</td>\n",
              "      <td>73.288260</td>\n",
              "      <td>Disfluent</td>\n",
              "    </tr>\n",
              "    <tr>\n",
              "      <th>34</th>\n",
              "      <td>81.804140</td>\n",
              "      <td>82.333430</td>\n",
              "      <td>Disfluent</td>\n",
              "    </tr>\n",
              "    <tr>\n",
              "      <th>35</th>\n",
              "      <td>74.093919</td>\n",
              "      <td>70.905283</td>\n",
              "      <td>Disfluent</td>\n",
              "    </tr>\n",
              "  </tbody>\n",
              "</table>\n",
              "</div>\n",
              "      <button class=\"colab-df-convert\" onclick=\"convertToInteractive('df-74cdbf0a-e25d-41f1-8ca0-6676aa11befe')\"\n",
              "              title=\"Convert this dataframe to an interactive table.\"\n",
              "              style=\"display:none;\">\n",
              "        \n",
              "  <svg xmlns=\"http://www.w3.org/2000/svg\" height=\"24px\"viewBox=\"0 0 24 24\"\n",
              "       width=\"24px\">\n",
              "    <path d=\"M0 0h24v24H0V0z\" fill=\"none\"/>\n",
              "    <path d=\"M18.56 5.44l.94 2.06.94-2.06 2.06-.94-2.06-.94-.94-2.06-.94 2.06-2.06.94zm-11 1L8.5 8.5l.94-2.06 2.06-.94-2.06-.94L8.5 2.5l-.94 2.06-2.06.94zm10 10l.94 2.06.94-2.06 2.06-.94-2.06-.94-.94-2.06-.94 2.06-2.06.94z\"/><path d=\"M17.41 7.96l-1.37-1.37c-.4-.4-.92-.59-1.43-.59-.52 0-1.04.2-1.43.59L10.3 9.45l-7.72 7.72c-.78.78-.78 2.05 0 2.83L4 21.41c.39.39.9.59 1.41.59.51 0 1.02-.2 1.41-.59l7.78-7.78 2.81-2.81c.8-.78.8-2.07 0-2.86zM5.41 20L4 18.59l7.72-7.72 1.47 1.35L5.41 20z\"/>\n",
              "  </svg>\n",
              "      </button>\n",
              "      \n",
              "  <style>\n",
              "    .colab-df-container {\n",
              "      display:flex;\n",
              "      flex-wrap:wrap;\n",
              "      gap: 12px;\n",
              "    }\n",
              "\n",
              "    .colab-df-convert {\n",
              "      background-color: #E8F0FE;\n",
              "      border: none;\n",
              "      border-radius: 50%;\n",
              "      cursor: pointer;\n",
              "      display: none;\n",
              "      fill: #1967D2;\n",
              "      height: 32px;\n",
              "      padding: 0 0 0 0;\n",
              "      width: 32px;\n",
              "    }\n",
              "\n",
              "    .colab-df-convert:hover {\n",
              "      background-color: #E2EBFA;\n",
              "      box-shadow: 0px 1px 2px rgba(60, 64, 67, 0.3), 0px 1px 3px 1px rgba(60, 64, 67, 0.15);\n",
              "      fill: #174EA6;\n",
              "    }\n",
              "\n",
              "    [theme=dark] .colab-df-convert {\n",
              "      background-color: #3B4455;\n",
              "      fill: #D2E3FC;\n",
              "    }\n",
              "\n",
              "    [theme=dark] .colab-df-convert:hover {\n",
              "      background-color: #434B5C;\n",
              "      box-shadow: 0px 1px 3px 1px rgba(0, 0, 0, 0.15);\n",
              "      filter: drop-shadow(0px 1px 2px rgba(0, 0, 0, 0.3));\n",
              "      fill: #FFFFFF;\n",
              "    }\n",
              "  </style>\n",
              "\n",
              "      <script>\n",
              "        const buttonEl =\n",
              "          document.querySelector('#df-74cdbf0a-e25d-41f1-8ca0-6676aa11befe button.colab-df-convert');\n",
              "        buttonEl.style.display =\n",
              "          google.colab.kernel.accessAllowed ? 'block' : 'none';\n",
              "\n",
              "        async function convertToInteractive(key) {\n",
              "          const element = document.querySelector('#df-74cdbf0a-e25d-41f1-8ca0-6676aa11befe');\n",
              "          const dataTable =\n",
              "            await google.colab.kernel.invokeFunction('convertToInteractive',\n",
              "                                                     [key], {});\n",
              "          if (!dataTable) return;\n",
              "\n",
              "          const docLinkHtml = 'Like what you see? Visit the ' +\n",
              "            '<a target=\"_blank\" href=https://colab.research.google.com/notebooks/data_table.ipynb>data table notebook</a>'\n",
              "            + ' to learn more about interactive tables.';\n",
              "          element.innerHTML = '';\n",
              "          dataTable['output_type'] = 'display_data';\n",
              "          await google.colab.output.renderOutput(dataTable, element);\n",
              "          const docLink = document.createElement('div');\n",
              "          docLink.innerHTML = docLinkHtml;\n",
              "          element.appendChild(docLink);\n",
              "        }\n",
              "      </script>\n",
              "    </div>\n",
              "  </div>\n",
              "  "
            ]
          },
          "metadata": {},
          "execution_count": 95
        }
      ]
    },
    {
      "cell_type": "code",
      "source": [
        "boxplot = df_boxplot.boxplot(by = \"FluencyStatus\", figsize=[14,8], fontsize = 18, return_type='axes');"
      ],
      "metadata": {
        "colab": {
          "base_uri": "https://localhost:8080/",
          "height": 548
        },
        "id": "IFiMpW0mUp6q",
        "outputId": "8f5a33b6-2ee6-4a84-edd7-d2e96f1fb2f2"
      },
      "execution_count": null,
      "outputs": [
        {
          "output_type": "display_data",
          "data": {
            "text/plain": [
              "<Figure size 1008x576 with 2 Axes>"
            ],
            "image/png": "[encoded data removed]"
          },
          "metadata": {
            "needs_background": "light"
          }
        }
      ]
    },
    {
      "cell_type": "markdown",
      "source": [
        "**MatplotLib**"
      ],
      "metadata": {
        "id": "P-PfsOzaWdtp"
      }
    },
    {
      "cell_type": "code",
      "source": [
        "df_boxplot_reading = {'Fluent':nPVI_reading_fluent, 'Non-Fluent':nPVI_reading_disfluent}\n",
        "df_boxplot_interview = {'Fluent':nPVI_interview_fluent, 'Non-Fluent':nPVI_interview_disfluent}"
      ],
      "metadata": {
        "id": "Ptysftb5Rw_I"
      },
      "execution_count": null,
      "outputs": []
    },
    {
      "cell_type": "code",
      "source": [
        "fig, ([ax1, ax2]) = plt.subplots(1, 2)\n",
        "fig.suptitle('nPVI Across Conditions', fontsize=16, fontweight='bold')\n",
        "ax1.boxplot(df_boxplot_reading.values())\n",
        "ax1.set_xticklabels(df_boxplot_reading.keys())\n",
        "ax1.set_title(\"Reading\")\n",
        "ax1.set_ylabel(\"nPVI\")\n",
        "#ax1.set_ylim([50, 75])\n",
        "#ax2.boxplot(df_boxplot_interview.values())\n",
        "ax2.set_xticklabels(df_boxplot_interview.keys())\n",
        "ax2.set_title(\"Interview\")\n",
        "#ax2.set_ylim([50, 75])\n",
        "plt.savefig(\"boxplot.png\");"
      ],
      "metadata": {
        "id": "MEi1M4uBSFrP"
      },
      "execution_count": null,
      "outputs": []
    },
    {
      "cell_type": "markdown",
      "source": [
        "**Save Results**"
      ],
      "metadata": {
        "id": "-TaOyI8MXv8X"
      }
    },
    {
      "cell_type": "code",
      "source": [
        "%cd /content/gdrive/MyDrive/RhythmAnalysisPipeline/4.MetricsResults/"
      ],
      "metadata": {
        "colab": {
          "base_uri": "https://localhost:8080/"
        },
        "id": "Gw8C9aSDXvQm",
        "outputId": "6fbb6c38-bbde-4400-e2e1-38b3e5944ca5"
      },
      "execution_count": 98,
      "outputs": [
        {
          "output_type": "stream",
          "name": "stdout",
          "text": [
            "/content/gdrive/MyDrive/RhythmAnalysisPipeline/4.MetricsResults\n"
          ]
        }
      ]
    },
    {
      "cell_type": "code",
      "source": [
        "result_reading_fluent.to_excel(\"reading_fluent.xlsx\")\n",
        "result_reading_disfluent.to_excel(\"reading_disfluent.xlsx\")\n",
        "result_interview_fluent.to_excel(\"interview_fluent.xlsx\")\n",
        "result_interview_disfluent.to_excel(\"interview_disfluent.xlsx\")"
      ],
      "metadata": {
        "id": "wpao_XLuXgDy"
      },
      "execution_count": 99,
      "outputs": []
    },
    {
      "cell_type": "code",
      "source": [
        "%cd /content/gdrive/MyDrive/RhythmAnalysisPipeline/"
      ],
      "metadata": {
        "colab": {
          "base_uri": "https://localhost:8080/"
        },
        "id": "la7LmVrmX6dR",
        "outputId": "7a452385-8526-4bf5-a3f3-e84be347e51a"
      },
      "execution_count": 100,
      "outputs": [
        {
          "output_type": "stream",
          "name": "stdout",
          "text": [
            "/content/gdrive/MyDrive/RhythmAnalysisPipeline\n"
          ]
        }
      ]
    }
  ]
}