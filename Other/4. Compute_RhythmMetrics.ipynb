{
  "nbformat": 4,
  "nbformat_minor": 0,
  "metadata": {
    "colab": {
      "name": "4. Compute_RhythmMetrics.ipynb",
      "provenance": [],
      "collapsed_sections": [],
      "authorship_tag": "ABX9TyNjDNJSxQTIrtcC/0lLCfJu",
      "include_colab_link": true
    },
    "kernelspec": {
      "name": "python3",
      "display_name": "Python 3"
    },
    "language_info": {
      "name": "python"
    }
  },
  "cells": [
    {
      "cell_type": "markdown",
      "metadata": {
        "id": "view-in-github",
        "colab_type": "text"
      },
      "source": [
        "<a href=\"https://colab.research.google.com/github/Janina712/MLTSA22_JBoecher/blob/main/Other/4.%20Compute_RhythmMetrics.ipynb\" target=\"_parent\"><img src=\"https://colab.research.google.com/assets/colab-badge.svg\" alt=\"Open In Colab\"/></a>"
      ]
    },
    {
      "cell_type": "markdown",
      "source": [
        "**0. Imports & Set-Up**"
      ],
      "metadata": {
        "id": "LwZVbxjDkKB9"
      }
    },
    {
      "cell_type": "code",
      "execution_count": 1,
      "metadata": {
        "id": "vP_zg8dRjLgp"
      },
      "outputs": [],
      "source": [
        "import pandas as pd\n",
        "import numpy as np\n",
        "import os\n",
        "import matplotlib.pyplot as plt\n",
        "import warnings\n",
        "warnings.filterwarnings('ignore')"
      ]
    },
    {
      "cell_type": "code",
      "source": [
        "from google.colab import drive\n",
        "drive.mount(\"/content/gdrive\")"
      ],
      "metadata": {
        "colab": {
          "base_uri": "https://localhost:8080/"
        },
        "id": "X6QnqvpWjeEF",
        "outputId": "19e7b21b-d702-48b1-d378-93ba71b54285"
      },
      "execution_count": 2,
      "outputs": [
        {
          "output_type": "stream",
          "name": "stdout",
          "text": [
            "Drive already mounted at /content/gdrive; to attempt to forcibly remount, call drive.mount(\"/content/gdrive\", force_remount=True).\n"
          ]
        }
      ]
    },
    {
      "cell_type": "code",
      "source": [
        "%cd /content/gdrive/MyDrive/RhythmAnalysisPipeline/3.MLU_Matched/"
      ],
      "metadata": {
        "colab": {
          "base_uri": "https://localhost:8080/"
        },
        "id": "p5RXvbrQjj_d",
        "outputId": "d3569125-010b-4a5b-c1ea-bfddc34c279b"
      },
      "execution_count": 3,
      "outputs": [
        {
          "output_type": "stream",
          "name": "stdout",
          "text": [
            "/content/gdrive/MyDrive/RhythmAnalysisPipeline/3.MLU_Matched\n"
          ]
        }
      ]
    },
    {
      "cell_type": "code",
      "source": [
        "reading_vowels = pd.read_excel(\"reading_TextGrid_comb_BG_vowelsMatched.xlsx\")\n",
        "interview_vowels = pd.read_excel(\"interview_TextGrid_comb_BG_vowelsMatched.xlsx\")\n",
        "reading_consonants = pd.read_excel(\"reading_TextGrid_comb_BG_consonantsMatched.xlsx\")\n",
        "interview_consonants = pd.read_excel(\"interview_TextGrid_comb_BG_consonantsMatched.xlsx\")"
      ],
      "metadata": {
        "id": "38VyuR1DjrON"
      },
      "execution_count": 4,
      "outputs": []
    },
    {
      "cell_type": "code",
      "source": [
        "result_reading_pws = pd.DataFrame(columns = [\"ID\",\"%V\",\"DeltaC\", \"DeltaV\", \"VarcoC\", \"VarcoV\"])\n",
        "result_interview_pws = pd.DataFrame(columns = [\"ID\",\"%V\",\"DeltaC\", \"DeltaV\", \"VarcoC\", \"VarcoV\"])\n",
        "result_reading_control = pd.DataFrame(columns = [\"ID\",\"%V\",\"DeltaC\", \"DeltaV\", \"VarcoC\", \"VarcoV\"])\n",
        "result_interview_control = pd.DataFrame(columns = [\"ID\",\"%V\",\"DeltaC\", \"DeltaV\", \"VarcoC\", \"VarcoV\"])"
      ],
      "metadata": {
        "id": "ZSE8K0-ajkrl"
      },
      "execution_count": 5,
      "outputs": []
    },
    {
      "cell_type": "code",
      "source": [
        "pws_IDs = ['24fa', '24ma', '24mb', '26f', '29ma', '29mb', '29mc', '32m', '34m', '35mb', '46ma', '50fa', '50fb', '54f', '57m', '60m', '62f', '62m']"
      ],
      "metadata": {
        "id": "b2KIt8k-ryUo"
      },
      "execution_count": 6,
      "outputs": []
    },
    {
      "cell_type": "code",
      "source": [
        "control_IDs = ['C10_KS', 'C11_NP', 'C12_CC', 'C13_RG','C1_DS', 'C2_JH', 'C3_MD', 'C4_ZO', 'C5_HL', 'C6_LH', 'C7_SH', 'C9_RD']"
      ],
      "metadata": {
        "id": "LnZEfdteVzIa"
      },
      "execution_count": 7,
      "outputs": []
    },
    {
      "cell_type": "markdown",
      "source": [
        "# **Define Functions**"
      ],
      "metadata": {
        "id": "4iePNX7ymp2t"
      }
    },
    {
      "cell_type": "code",
      "source": [
        "def split_groups(df):\n",
        "  pws = df[df[\"Group\"] == \"PWS\"]  # get subset of sound dataframe that corresponds to current participant\n",
        "  pws.index = range(len(pws.index)) # reset index\n",
        "  pws.drop(['Unnamed: 0'], axis=1 , inplace = True)\n",
        "  \n",
        "  control = df[df[\"Group\"] == \"Control\"]  # get subset of sound dataframe that corresponds to current participant\n",
        "  control.index = range(len(control.index)) # reset index\n",
        "  control.drop(['Unnamed: 0'], axis=1 , inplace = True)\n",
        "  return(pws, control)"
      ],
      "metadata": {
        "id": "-tMawwcO3Eom"
      },
      "execution_count": 8,
      "outputs": []
    },
    {
      "cell_type": "code",
      "source": [
        "def computePercV(df_vowels, df_consonants):\n",
        "  participant = []\n",
        "  for p in df_vowels[\"ID\"].unique():\n",
        "      subset_ID = df_vowels[df_vowels[\"ID\"] == p]  # get subset of sound dataframe that corresponds to current participant\n",
        "      subset_ID.index = range(len(subset_ID.index)) # reset index\n",
        "      numberBG = len(subset_ID[\"Breath.Group\"].unique())\n",
        "      subset_cons = df_consonants[df_consonants[\"ID\"] == p]\n",
        "      subset_cons.index = range(len(subset_cons.index))\n",
        "      Vsums = np.zeros(numberBG)\n",
        "      Csums = np.zeros(numberBG)\n",
        "      for i in range(1,numberBG+1):\n",
        "        for j in range(0, len(subset_ID)):\n",
        "          if subset_ID[\"Breath.Group\"][j] == i:\n",
        "            Vsums[i-1] = Vsums[i-1] + df_vowels[\"Duration\"][j]  \n",
        "      for i in range(1,numberBG+1):\n",
        "        for j in range(0, len(subset_cons)):\n",
        "          if subset_cons[\"Breath.Group\"][j] == i:\n",
        "            Csums[i-1] = Csums[i-1] + subset_cons[\"Duration\"][j] \n",
        "      VCsums = Vsums + Csums\n",
        "      percV = Vsums/VCsums\n",
        "      percV = percV[~np.isnan(percV)]\n",
        "      percV_avg = percV.mean()\n",
        "      participant.append([percV_avg])\n",
        "  participant = pd.DataFrame (participant, columns = ['%V'])  \n",
        "  return(participant)"
      ],
      "metadata": {
        "id": "qda8hfU1Ngbp"
      },
      "execution_count": 9,
      "outputs": []
    },
    {
      "cell_type": "code",
      "source": [
        "def computeDeltaC(df_consonants):\n",
        "  participant = []\n",
        "  for p in df_consonants[\"ID\"].unique():      \n",
        "    subset_ID = df_consonants[df_consonants[\"ID\"] == p]  # get subset of sound dataframe that corresponds to current participant\n",
        "    subset_ID.index = range(len(subset_ID.index)) # reset index\n",
        "    numberBG = len(subset_ID[\"Breath.Group\"].unique())\n",
        "    grouped_cons = df_consonants.groupby(\"Breath.Group\")\n",
        "    grouped_lists = grouped_cons[\"Duration\"].apply(list)\n",
        "    grouped_lists = grouped_lists.reset_index()\n",
        "    deltaC = np.zeros(len(grouped_lists))\n",
        "    for i in range(0,len(grouped_lists)):\n",
        "      deltaC[i] = np.std(grouped_lists[\"Duration\"][i])\n",
        "    deltaC_avg = deltaC.mean()\n",
        "    participant.append([deltaC_avg])\n",
        "  participant = pd.DataFrame (participant, columns = ['DeltaC'])  \n",
        "  return(participant)"
      ],
      "metadata": {
        "id": "yLlTtT43nlaO"
      },
      "execution_count": 10,
      "outputs": []
    },
    {
      "cell_type": "code",
      "source": [
        "def computeDeltaV(df_vowels):\n",
        "    participant = []\n",
        "    for p in df_vowels[\"ID\"].unique():      \n",
        "      subset_ID = df_vowels[df_vowels[\"ID\"] == p]  # get subset of sound dataframe that corresponds to current participant\n",
        "      subset_ID.index = range(len(subset_ID.index)) # reset index\n",
        "      numberBG = len(subset_ID[\"Breath.Group\"].unique())\n",
        "      grouped_vowels = subset_ID.groupby(\"Breath.Group\")\n",
        "      grouped_lists = grouped_vowels[\"Duration\"].apply(list)\n",
        "      grouped_lists = grouped_lists.reset_index()\n",
        "      deltaV = np.zeros(len(grouped_lists))\n",
        "      for i in range(0,len(grouped_lists)):\n",
        "        deltaV[i] = np.std(grouped_lists[\"Duration\"][i])\n",
        "      deltaV_avg = deltaV.mean()\n",
        "      participant.append([deltaV_avg])\n",
        "    participant = pd.DataFrame (participant, columns = ['DeltaV'])  \n",
        "    return(participant)"
      ],
      "metadata": {
        "id": "zfY7v93am2-X"
      },
      "execution_count": 11,
      "outputs": []
    },
    {
      "cell_type": "code",
      "source": [
        "def computeVarcoC(df_consonants, deltaC):\n",
        "    n = -1\n",
        "    participant = []\n",
        "    for p in df_consonants[\"ID\"].unique(): \n",
        "      n = n +1     \n",
        "      subset_ID = df_consonants[df_consonants[\"ID\"] == p]  # get subset of sound dataframe that corresponds to current participant\n",
        "      subset_ID.index = range(len(subset_ID.index)) # reset \n",
        "      numberBG = len(subset_ID[\"Breath.Group\"].unique())\n",
        "      grouped_consonants = subset_ID.groupby(\"Breath.Group\")\n",
        "      grouped_lists = grouped_consonants[\"Duration\"].apply(list)\n",
        "      grouped_lists = grouped_lists.reset_index()\n",
        "      Cavg = np.zeros(len(grouped_lists))\n",
        "      for i in range(0,len(grouped_lists)):\n",
        "        Cavg[i] = np.mean(grouped_lists[\"Duration\"][i])\n",
        "      VarcoC = deltaC[\"DeltaC\"][n]/Cavg\n",
        "      VarcoC_avg = VarcoC.mean()\n",
        "      participant.append([VarcoC_avg])\n",
        "    participant = pd.DataFrame (participant, columns = ['VarcoC'])\n",
        "    return(participant)"
      ],
      "metadata": {
        "id": "FwKR6uw_owNu"
      },
      "execution_count": 12,
      "outputs": []
    },
    {
      "cell_type": "code",
      "source": [
        "def computeVarcoV(df_vowels, deltaV):\n",
        "    n = -1\n",
        "    participant = []\n",
        "    for p in df_vowels[\"ID\"].unique(): \n",
        "      n = n +1     \n",
        "      subset_ID = df_vowels[df_vowels[\"ID\"] == p]  # get subset of sound dataframe that corresponds to current participant\n",
        "      subset_ID.index = range(len(subset_ID.index)) # reset index\n",
        "      numberBG = len(subset_ID[\"Breath.Group\"].unique())\n",
        "      grouped_vowels = subset_ID.groupby(\"Breath.Group\")\n",
        "      grouped_lists = grouped_vowels[\"Duration\"].apply(list)\n",
        "      grouped_lists = grouped_lists.reset_index()\n",
        "      Vavg = np.zeros(len(grouped_lists))\n",
        "      for i in range(0,len(grouped_lists)):       \n",
        "        Vavg[i] = np.mean(grouped_lists[\"Duration\"][i])\n",
        "      VarcoV = deltaV[\"DeltaV\"][n]/Vavg                          \n",
        "      VarcoV_avg = VarcoV.mean()\n",
        "      participant.append([VarcoV_avg]) \n",
        "    participant = pd.DataFrame (participant, columns = ['VarcoV'])\n",
        "    return(participant)"
      ],
      "metadata": {
        "id": "8Gi8TwkNoBRn"
      },
      "execution_count": 13,
      "outputs": []
    },
    {
      "cell_type": "markdown",
      "source": [
        "**Calculate Metrics Using Functions**"
      ],
      "metadata": {
        "id": "bo8dnOG2ppH_"
      }
    },
    {
      "cell_type": "code",
      "source": [
        "reading_vowels_pws, reading_vowels_control = split_groups(reading_vowels)\n",
        "reading_consonants_pws, reading_consonants_control = split_groups(reading_consonants)\n",
        "interview_vowels_pws, interview_vowels_control = split_groups(interview_vowels)\n",
        "interview_consonants_pws, interview_consonants_control = split_groups(interview_consonants)"
      ],
      "metadata": {
        "id": "7pvi2fVX3Hj1"
      },
      "execution_count": 14,
      "outputs": []
    },
    {
      "cell_type": "code",
      "source": [
        "percV_reading_pws = computePercV(reading_vowels_pws, reading_consonants_pws)\n",
        "percV_interview_pws = computePercV(interview_vowels_pws, interview_consonants_pws)\n",
        "percV_reading_control = computePercV(reading_vowels_control, reading_consonants_control)\n",
        "percV_interview_control = computePercV(interview_vowels_control, interview_consonants_control)"
      ],
      "metadata": {
        "id": "DgSuLWeupwG3"
      },
      "execution_count": 15,
      "outputs": []
    },
    {
      "cell_type": "code",
      "source": [
        "deltaC_reading_pws = computeDeltaC(reading_consonants_pws)\n",
        "deltaC_interview_pws = computeDeltaC(interview_consonants_pws)\n",
        "deltaC_reading_control = computeDeltaC(reading_consonants_control)\n",
        "deltaC_interview_control = computeDeltaC(interview_consonants_control)"
      ],
      "metadata": {
        "id": "Zs19HNhoqN8J"
      },
      "execution_count": 16,
      "outputs": []
    },
    {
      "cell_type": "code",
      "source": [
        "deltaV_reading_pws = computeDeltaV(reading_vowels_pws)\n",
        "deltaV_interview_pws = computeDeltaV(interview_vowels_pws)\n",
        "deltaV_reading_control = computeDeltaV(reading_vowels_control)\n",
        "deltaV_interview_control = computeDeltaV(interview_vowels_control)"
      ],
      "metadata": {
        "id": "UzSTw1vnpLIn"
      },
      "execution_count": 17,
      "outputs": []
    },
    {
      "cell_type": "code",
      "source": [
        "varcoC_reading_pws = computeVarcoC(reading_consonants_pws, deltaC_reading_pws)\n",
        "varcoC_interview_pws = computeVarcoC(interview_consonants_pws, deltaC_interview_pws)\n",
        "varcoC_reading_control = computeVarcoC(reading_consonants_control, deltaC_reading_control)\n",
        "varcoC_interview_control = computeVarcoC(interview_consonants_control, deltaC_interview_control)"
      ],
      "metadata": {
        "id": "i243lIeeqf1n"
      },
      "execution_count": 18,
      "outputs": []
    },
    {
      "cell_type": "code",
      "source": [
        "varcoV_reading_pws = computeVarcoV(reading_vowels_pws, deltaV_reading_pws)\n",
        "varcoV_interview_pws = computeVarcoV(interview_vowels_pws, deltaV_interview_pws)\n",
        "varcoV_reading_control = computeVarcoV(reading_vowels_control, deltaV_reading_control)\n",
        "varcoV_interview_control = computeVarcoV(interview_vowels_control, deltaV_interview_control)"
      ],
      "metadata": {
        "id": "9aOFKK7MqwIA"
      },
      "execution_count": 19,
      "outputs": []
    },
    {
      "cell_type": "markdown",
      "source": [
        "**Assign to DataFrame**"
      ],
      "metadata": {
        "id": "mUhQ96bRq7fY"
      }
    },
    {
      "cell_type": "code",
      "source": [
        "result_reading_pws[\"ID\"] = pws_IDs\n",
        "result_reading_pws[\"%V\"] = percV_reading_pws*100\n",
        "result_reading_pws[\"DeltaC\"] = deltaC_reading_pws\n",
        "result_reading_pws[\"DeltaV\"] = deltaV_reading_pws\n",
        "result_reading_pws[\"VarcoC\"] = varcoC_reading_pws*100\n",
        "result_reading_pws[\"VarcoV\"] = varcoV_reading_pws*100"
      ],
      "metadata": {
        "id": "1yPZyxcaq-fI"
      },
      "execution_count": 20,
      "outputs": []
    },
    {
      "cell_type": "code",
      "source": [
        "result_reading_control[\"ID\"] = control_IDs\n",
        "result_reading_control[\"%V\"] = percV_reading_control*100\n",
        "result_reading_control[\"DeltaC\"] = deltaC_reading_control\n",
        "result_reading_control[\"DeltaV\"] = deltaV_reading_control\n",
        "result_reading_control[\"VarcoC\"] = varcoC_reading_control*100\n",
        "result_reading_control[\"VarcoV\"] = varcoV_reading_control*100"
      ],
      "metadata": {
        "id": "IPwXcE2e6_RW"
      },
      "execution_count": 21,
      "outputs": []
    },
    {
      "cell_type": "code",
      "source": [
        "result_interview_pws[\"ID\"] = pws_IDs\n",
        "result_interview_pws[\"%V\"] = percV_interview_pws*100\n",
        "result_interview_pws[\"DeltaC\"] = deltaC_interview_pws\n",
        "result_interview_pws[\"DeltaV\"] = deltaV_interview_pws\n",
        "result_interview_pws[\"VarcoC\"] = varcoC_interview_pws*100\n",
        "result_interview_pws[\"VarcoV\"] = varcoV_interview_pws*100"
      ],
      "metadata": {
        "id": "UFyLuGREs84p"
      },
      "execution_count": 22,
      "outputs": []
    },
    {
      "cell_type": "code",
      "source": [
        "result_interview_control[\"ID\"] = control_IDs\n",
        "result_interview_control[\"%V\"] = percV_interview_control*100\n",
        "result_interview_control[\"DeltaC\"] = deltaC_interview_control\n",
        "result_interview_control[\"DeltaV\"] = deltaV_interview_control\n",
        "result_interview_control[\"VarcoC\"] = varcoC_interview_control*100\n",
        "result_interview_control[\"VarcoV\"] = varcoV_interview_control*100"
      ],
      "metadata": {
        "id": "TgWZDY-Z7Pfv"
      },
      "execution_count": 23,
      "outputs": []
    },
    {
      "cell_type": "code",
      "source": [
        "# there are more consonants in BG than there are vowels, there are in general more even in the unmatched version... how should I match to maintain the same ratio??"
      ],
      "metadata": {
        "id": "EsYqsRvz74TA"
      },
      "execution_count": 24,
      "outputs": []
    },
    {
      "cell_type": "markdown",
      "source": [
        "**Show DataFrames**"
      ],
      "metadata": {
        "id": "J0uAe3KT08DL"
      }
    },
    {
      "cell_type": "code",
      "source": [
        "result_reading_pws"
      ],
      "metadata": {
        "colab": {
          "base_uri": "https://localhost:8080/",
          "height": 613
        },
        "id": "2qWRJFL5lmKB",
        "outputId": "13db9ed7-8640-4c60-d22d-4d66d6f1fbf7"
      },
      "execution_count": 25,
      "outputs": [
        {
          "output_type": "execute_result",
          "data": {
            "text/plain": [
              "      ID         %V    DeltaC    DeltaV     VarcoC     VarcoV\n",
              "0   24fa  45.425207  0.045996  0.043746  72.074429  55.265193\n",
              "1   24ma  45.367347  0.045996  0.038621  72.303049  51.936642\n",
              "2   24mb  43.679241  0.045996  0.041213  66.648177  58.237356\n",
              "3    26f  46.915367  0.045996  0.040061  73.927002  52.096248\n",
              "4   29ma  44.353977  0.045996  0.039632  67.948609  53.869740\n",
              "5   29mb  38.581889  0.045996  0.046813  55.125410  49.863456\n",
              "6   29mc  41.107651  0.045996  0.054043  58.409165  58.598630\n",
              "7    32m  40.619200  0.045996  0.053951  61.819218  69.020309\n",
              "8    34m  38.575623  0.045996  0.065452  55.523401  59.964911\n",
              "9   35mb  41.799266  0.045996  0.064418  57.920256  57.159228\n",
              "10  46ma  43.649656  0.045996  0.044825  65.325578  58.423391\n",
              "11  50fa  42.340965  0.045996  0.041768  62.241386  55.836120\n",
              "12  50fb  35.915440  0.045996  0.074533  49.819123  56.316422\n",
              "13   54f  36.879402  0.045996  0.064759  48.065803  52.812121\n",
              "14   57m  41.365577  0.045996  0.053448  56.768131  62.487079\n",
              "15   60m  41.679321  0.045996  0.058385  61.358731  62.673241\n",
              "16   62f  41.441711  0.045996  0.055412  59.798151  62.223670\n",
              "17   62m  45.701244  0.045996  0.039643  70.145262  62.714989"
            ],
            "text/html": [
              "\n",
              "  <div id=\"df-c9897b57-78a0-4cf6-9820-0812a9f591a0\">\n",
              "    <div class=\"colab-df-container\">\n",
              "      <div>\n",
              "<style scoped>\n",
              "    .dataframe tbody tr th:only-of-type {\n",
              "        vertical-align: middle;\n",
              "    }\n",
              "\n",
              "    .dataframe tbody tr th {\n",
              "        vertical-align: top;\n",
              "    }\n",
              "\n",
              "    .dataframe thead th {\n",
              "        text-align: right;\n",
              "    }\n",
              "</style>\n",
              "<table border=\"1\" class=\"dataframe\">\n",
              "  <thead>\n",
              "    <tr style=\"text-align: right;\">\n",
              "      <th></th>\n",
              "      <th>ID</th>\n",
              "      <th>%V</th>\n",
              "      <th>DeltaC</th>\n",
              "      <th>DeltaV</th>\n",
              "      <th>VarcoC</th>\n",
              "      <th>VarcoV</th>\n",
              "    </tr>\n",
              "  </thead>\n",
              "  <tbody>\n",
              "    <tr>\n",
              "      <th>0</th>\n",
              "      <td>24fa</td>\n",
              "      <td>45.425207</td>\n",
              "      <td>0.045996</td>\n",
              "      <td>0.043746</td>\n",
              "      <td>72.074429</td>\n",
              "      <td>55.265193</td>\n",
              "    </tr>\n",
              "    <tr>\n",
              "      <th>1</th>\n",
              "      <td>24ma</td>\n",
              "      <td>45.367347</td>\n",
              "      <td>0.045996</td>\n",
              "      <td>0.038621</td>\n",
              "      <td>72.303049</td>\n",
              "      <td>51.936642</td>\n",
              "    </tr>\n",
              "    <tr>\n",
              "      <th>2</th>\n",
              "      <td>24mb</td>\n",
              "      <td>43.679241</td>\n",
              "      <td>0.045996</td>\n",
              "      <td>0.041213</td>\n",
              "      <td>66.648177</td>\n",
              "      <td>58.237356</td>\n",
              "    </tr>\n",
              "    <tr>\n",
              "      <th>3</th>\n",
              "      <td>26f</td>\n",
              "      <td>46.915367</td>\n",
              "      <td>0.045996</td>\n",
              "      <td>0.040061</td>\n",
              "      <td>73.927002</td>\n",
              "      <td>52.096248</td>\n",
              "    </tr>\n",
              "    <tr>\n",
              "      <th>4</th>\n",
              "      <td>29ma</td>\n",
              "      <td>44.353977</td>\n",
              "      <td>0.045996</td>\n",
              "      <td>0.039632</td>\n",
              "      <td>67.948609</td>\n",
              "      <td>53.869740</td>\n",
              "    </tr>\n",
              "    <tr>\n",
              "      <th>5</th>\n",
              "      <td>29mb</td>\n",
              "      <td>38.581889</td>\n",
              "      <td>0.045996</td>\n",
              "      <td>0.046813</td>\n",
              "      <td>55.125410</td>\n",
              "      <td>49.863456</td>\n",
              "    </tr>\n",
              "    <tr>\n",
              "      <th>6</th>\n",
              "      <td>29mc</td>\n",
              "      <td>41.107651</td>\n",
              "      <td>0.045996</td>\n",
              "      <td>0.054043</td>\n",
              "      <td>58.409165</td>\n",
              "      <td>58.598630</td>\n",
              "    </tr>\n",
              "    <tr>\n",
              "      <th>7</th>\n",
              "      <td>32m</td>\n",
              "      <td>40.619200</td>\n",
              "      <td>0.045996</td>\n",
              "      <td>0.053951</td>\n",
              "      <td>61.819218</td>\n",
              "      <td>69.020309</td>\n",
              "    </tr>\n",
              "    <tr>\n",
              "      <th>8</th>\n",
              "      <td>34m</td>\n",
              "      <td>38.575623</td>\n",
              "      <td>0.045996</td>\n",
              "      <td>0.065452</td>\n",
              "      <td>55.523401</td>\n",
              "      <td>59.964911</td>\n",
              "    </tr>\n",
              "    <tr>\n",
              "      <th>9</th>\n",
              "      <td>35mb</td>\n",
              "      <td>41.799266</td>\n",
              "      <td>0.045996</td>\n",
              "      <td>0.064418</td>\n",
              "      <td>57.920256</td>\n",
              "      <td>57.159228</td>\n",
              "    </tr>\n",
              "    <tr>\n",
              "      <th>10</th>\n",
              "      <td>46ma</td>\n",
              "      <td>43.649656</td>\n",
              "      <td>0.045996</td>\n",
              "      <td>0.044825</td>\n",
              "      <td>65.325578</td>\n",
              "      <td>58.423391</td>\n",
              "    </tr>\n",
              "    <tr>\n",
              "      <th>11</th>\n",
              "      <td>50fa</td>\n",
              "      <td>42.340965</td>\n",
              "      <td>0.045996</td>\n",
              "      <td>0.041768</td>\n",
              "      <td>62.241386</td>\n",
              "      <td>55.836120</td>\n",
              "    </tr>\n",
              "    <tr>\n",
              "      <th>12</th>\n",
              "      <td>50fb</td>\n",
              "      <td>35.915440</td>\n",
              "      <td>0.045996</td>\n",
              "      <td>0.074533</td>\n",
              "      <td>49.819123</td>\n",
              "      <td>56.316422</td>\n",
              "    </tr>\n",
              "    <tr>\n",
              "      <th>13</th>\n",
              "      <td>54f</td>\n",
              "      <td>36.879402</td>\n",
              "      <td>0.045996</td>\n",
              "      <td>0.064759</td>\n",
              "      <td>48.065803</td>\n",
              "      <td>52.812121</td>\n",
              "    </tr>\n",
              "    <tr>\n",
              "      <th>14</th>\n",
              "      <td>57m</td>\n",
              "      <td>41.365577</td>\n",
              "      <td>0.045996</td>\n",
              "      <td>0.053448</td>\n",
              "      <td>56.768131</td>\n",
              "      <td>62.487079</td>\n",
              "    </tr>\n",
              "    <tr>\n",
              "      <th>15</th>\n",
              "      <td>60m</td>\n",
              "      <td>41.679321</td>\n",
              "      <td>0.045996</td>\n",
              "      <td>0.058385</td>\n",
              "      <td>61.358731</td>\n",
              "      <td>62.673241</td>\n",
              "    </tr>\n",
              "    <tr>\n",
              "      <th>16</th>\n",
              "      <td>62f</td>\n",
              "      <td>41.441711</td>\n",
              "      <td>0.045996</td>\n",
              "      <td>0.055412</td>\n",
              "      <td>59.798151</td>\n",
              "      <td>62.223670</td>\n",
              "    </tr>\n",
              "    <tr>\n",
              "      <th>17</th>\n",
              "      <td>62m</td>\n",
              "      <td>45.701244</td>\n",
              "      <td>0.045996</td>\n",
              "      <td>0.039643</td>\n",
              "      <td>70.145262</td>\n",
              "      <td>62.714989</td>\n",
              "    </tr>\n",
              "  </tbody>\n",
              "</table>\n",
              "</div>\n",
              "      <button class=\"colab-df-convert\" onclick=\"convertToInteractive('df-c9897b57-78a0-4cf6-9820-0812a9f591a0')\"\n",
              "              title=\"Convert this dataframe to an interactive table.\"\n",
              "              style=\"display:none;\">\n",
              "        \n",
              "  <svg xmlns=\"http://www.w3.org/2000/svg\" height=\"24px\"viewBox=\"0 0 24 24\"\n",
              "       width=\"24px\">\n",
              "    <path d=\"M0 0h24v24H0V0z\" fill=\"none\"/>\n",
              "    <path d=\"M18.56 5.44l.94 2.06.94-2.06 2.06-.94-2.06-.94-.94-2.06-.94 2.06-2.06.94zm-11 1L8.5 8.5l.94-2.06 2.06-.94-2.06-.94L8.5 2.5l-.94 2.06-2.06.94zm10 10l.94 2.06.94-2.06 2.06-.94-2.06-.94-.94-2.06-.94 2.06-2.06.94z\"/><path d=\"M17.41 7.96l-1.37-1.37c-.4-.4-.92-.59-1.43-.59-.52 0-1.04.2-1.43.59L10.3 9.45l-7.72 7.72c-.78.78-.78 2.05 0 2.83L4 21.41c.39.39.9.59 1.41.59.51 0 1.02-.2 1.41-.59l7.78-7.78 2.81-2.81c.8-.78.8-2.07 0-2.86zM5.41 20L4 18.59l7.72-7.72 1.47 1.35L5.41 20z\"/>\n",
              "  </svg>\n",
              "      </button>\n",
              "      \n",
              "  <style>\n",
              "    .colab-df-container {\n",
              "      display:flex;\n",
              "      flex-wrap:wrap;\n",
              "      gap: 12px;\n",
              "    }\n",
              "\n",
              "    .colab-df-convert {\n",
              "      background-color: #E8F0FE;\n",
              "      border: none;\n",
              "      border-radius: 50%;\n",
              "      cursor: pointer;\n",
              "      display: none;\n",
              "      fill: #1967D2;\n",
              "      height: 32px;\n",
              "      padding: 0 0 0 0;\n",
              "      width: 32px;\n",
              "    }\n",
              "\n",
              "    .colab-df-convert:hover {\n",
              "      background-color: #E2EBFA;\n",
              "      box-shadow: 0px 1px 2px rgba(60, 64, 67, 0.3), 0px 1px 3px 1px rgba(60, 64, 67, 0.15);\n",
              "      fill: #174EA6;\n",
              "    }\n",
              "\n",
              "    [theme=dark] .colab-df-convert {\n",
              "      background-color: #3B4455;\n",
              "      fill: #D2E3FC;\n",
              "    }\n",
              "\n",
              "    [theme=dark] .colab-df-convert:hover {\n",
              "      background-color: #434B5C;\n",
              "      box-shadow: 0px 1px 3px 1px rgba(0, 0, 0, 0.15);\n",
              "      filter: drop-shadow(0px 1px 2px rgba(0, 0, 0, 0.3));\n",
              "      fill: #FFFFFF;\n",
              "    }\n",
              "  </style>\n",
              "\n",
              "      <script>\n",
              "        const buttonEl =\n",
              "          document.querySelector('#df-c9897b57-78a0-4cf6-9820-0812a9f591a0 button.colab-df-convert');\n",
              "        buttonEl.style.display =\n",
              "          google.colab.kernel.accessAllowed ? 'block' : 'none';\n",
              "\n",
              "        async function convertToInteractive(key) {\n",
              "          const element = document.querySelector('#df-c9897b57-78a0-4cf6-9820-0812a9f591a0');\n",
              "          const dataTable =\n",
              "            await google.colab.kernel.invokeFunction('convertToInteractive',\n",
              "                                                     [key], {});\n",
              "          if (!dataTable) return;\n",
              "\n",
              "          const docLinkHtml = 'Like what you see? Visit the ' +\n",
              "            '<a target=\"_blank\" href=https://colab.research.google.com/notebooks/data_table.ipynb>data table notebook</a>'\n",
              "            + ' to learn more about interactive tables.';\n",
              "          element.innerHTML = '';\n",
              "          dataTable['output_type'] = 'display_data';\n",
              "          await google.colab.output.renderOutput(dataTable, element);\n",
              "          const docLink = document.createElement('div');\n",
              "          docLink.innerHTML = docLinkHtml;\n",
              "          element.appendChild(docLink);\n",
              "        }\n",
              "      </script>\n",
              "    </div>\n",
              "  </div>\n",
              "  "
            ]
          },
          "metadata": {},
          "execution_count": 25
        }
      ]
    },
    {
      "cell_type": "code",
      "source": [
        "result_reading_control"
      ],
      "metadata": {
        "colab": {
          "base_uri": "https://localhost:8080/",
          "height": 425
        },
        "id": "H4r5EigunBV5",
        "outputId": "6756f880-34c8-4c7e-f66e-b427c2003536"
      },
      "execution_count": 26,
      "outputs": [
        {
          "output_type": "execute_result",
          "data": {
            "text/plain": [
              "        ID         %V    DeltaC    DeltaV     VarcoC     VarcoV\n",
              "0   C10_KS  32.669695  0.045387  0.046175  63.609378  54.545969\n",
              "1   C11_NP  41.091396  0.045387  0.059540  58.791132  63.125359\n",
              "2   C12_CC  40.073944  0.045387  0.031332  70.604170  49.535595\n",
              "3   C13_RG  38.610586  0.045387  0.032766  66.621167  47.560166\n",
              "4    C1_DS  25.907373  0.045387  0.055214  52.566149  55.642177\n",
              "5    C2_JH  32.648657  0.045387  0.035811  58.087411  49.451517\n",
              "6    C3_MD  41.543625  0.045387  0.032752  71.199708  42.295264\n",
              "7    C4_ZO  19.428948  0.045387  0.048663  54.521421  58.755969\n",
              "8    C5_HL  31.297586  0.045387  0.032666  68.156575  56.897336\n",
              "9    C6_LH  29.681775  0.045387  0.035362  62.577857  51.770681\n",
              "10   C7_SH  38.198029  0.045387  0.021765  83.451055  41.826788\n",
              "11   C9_RD  31.713657  0.045387  0.051910  56.610986  62.377828"
            ],
            "text/html": [
              "\n",
              "  <div id=\"df-dd86f90b-12aa-46f2-b234-e045089c6fcb\">\n",
              "    <div class=\"colab-df-container\">\n",
              "      <div>\n",
              "<style scoped>\n",
              "    .dataframe tbody tr th:only-of-type {\n",
              "        vertical-align: middle;\n",
              "    }\n",
              "\n",
              "    .dataframe tbody tr th {\n",
              "        vertical-align: top;\n",
              "    }\n",
              "\n",
              "    .dataframe thead th {\n",
              "        text-align: right;\n",
              "    }\n",
              "</style>\n",
              "<table border=\"1\" class=\"dataframe\">\n",
              "  <thead>\n",
              "    <tr style=\"text-align: right;\">\n",
              "      <th></th>\n",
              "      <th>ID</th>\n",
              "      <th>%V</th>\n",
              "      <th>DeltaC</th>\n",
              "      <th>DeltaV</th>\n",
              "      <th>VarcoC</th>\n",
              "      <th>VarcoV</th>\n",
              "    </tr>\n",
              "  </thead>\n",
              "  <tbody>\n",
              "    <tr>\n",
              "      <th>0</th>\n",
              "      <td>C10_KS</td>\n",
              "      <td>32.669695</td>\n",
              "      <td>0.045387</td>\n",
              "      <td>0.046175</td>\n",
              "      <td>63.609378</td>\n",
              "      <td>54.545969</td>\n",
              "    </tr>\n",
              "    <tr>\n",
              "      <th>1</th>\n",
              "      <td>C11_NP</td>\n",
              "      <td>41.091396</td>\n",
              "      <td>0.045387</td>\n",
              "      <td>0.059540</td>\n",
              "      <td>58.791132</td>\n",
              "      <td>63.125359</td>\n",
              "    </tr>\n",
              "    <tr>\n",
              "      <th>2</th>\n",
              "      <td>C12_CC</td>\n",
              "      <td>40.073944</td>\n",
              "      <td>0.045387</td>\n",
              "      <td>0.031332</td>\n",
              "      <td>70.604170</td>\n",
              "      <td>49.535595</td>\n",
              "    </tr>\n",
              "    <tr>\n",
              "      <th>3</th>\n",
              "      <td>C13_RG</td>\n",
              "      <td>38.610586</td>\n",
              "      <td>0.045387</td>\n",
              "      <td>0.032766</td>\n",
              "      <td>66.621167</td>\n",
              "      <td>47.560166</td>\n",
              "    </tr>\n",
              "    <tr>\n",
              "      <th>4</th>\n",
              "      <td>C1_DS</td>\n",
              "      <td>25.907373</td>\n",
              "      <td>0.045387</td>\n",
              "      <td>0.055214</td>\n",
              "      <td>52.566149</td>\n",
              "      <td>55.642177</td>\n",
              "    </tr>\n",
              "    <tr>\n",
              "      <th>5</th>\n",
              "      <td>C2_JH</td>\n",
              "      <td>32.648657</td>\n",
              "      <td>0.045387</td>\n",
              "      <td>0.035811</td>\n",
              "      <td>58.087411</td>\n",
              "      <td>49.451517</td>\n",
              "    </tr>\n",
              "    <tr>\n",
              "      <th>6</th>\n",
              "      <td>C3_MD</td>\n",
              "      <td>41.543625</td>\n",
              "      <td>0.045387</td>\n",
              "      <td>0.032752</td>\n",
              "      <td>71.199708</td>\n",
              "      <td>42.295264</td>\n",
              "    </tr>\n",
              "    <tr>\n",
              "      <th>7</th>\n",
              "      <td>C4_ZO</td>\n",
              "      <td>19.428948</td>\n",
              "      <td>0.045387</td>\n",
              "      <td>0.048663</td>\n",
              "      <td>54.521421</td>\n",
              "      <td>58.755969</td>\n",
              "    </tr>\n",
              "    <tr>\n",
              "      <th>8</th>\n",
              "      <td>C5_HL</td>\n",
              "      <td>31.297586</td>\n",
              "      <td>0.045387</td>\n",
              "      <td>0.032666</td>\n",
              "      <td>68.156575</td>\n",
              "      <td>56.897336</td>\n",
              "    </tr>\n",
              "    <tr>\n",
              "      <th>9</th>\n",
              "      <td>C6_LH</td>\n",
              "      <td>29.681775</td>\n",
              "      <td>0.045387</td>\n",
              "      <td>0.035362</td>\n",
              "      <td>62.577857</td>\n",
              "      <td>51.770681</td>\n",
              "    </tr>\n",
              "    <tr>\n",
              "      <th>10</th>\n",
              "      <td>C7_SH</td>\n",
              "      <td>38.198029</td>\n",
              "      <td>0.045387</td>\n",
              "      <td>0.021765</td>\n",
              "      <td>83.451055</td>\n",
              "      <td>41.826788</td>\n",
              "    </tr>\n",
              "    <tr>\n",
              "      <th>11</th>\n",
              "      <td>C9_RD</td>\n",
              "      <td>31.713657</td>\n",
              "      <td>0.045387</td>\n",
              "      <td>0.051910</td>\n",
              "      <td>56.610986</td>\n",
              "      <td>62.377828</td>\n",
              "    </tr>\n",
              "  </tbody>\n",
              "</table>\n",
              "</div>\n",
              "      <button class=\"colab-df-convert\" onclick=\"convertToInteractive('df-dd86f90b-12aa-46f2-b234-e045089c6fcb')\"\n",
              "              title=\"Convert this dataframe to an interactive table.\"\n",
              "              style=\"display:none;\">\n",
              "        \n",
              "  <svg xmlns=\"http://www.w3.org/2000/svg\" height=\"24px\"viewBox=\"0 0 24 24\"\n",
              "       width=\"24px\">\n",
              "    <path d=\"M0 0h24v24H0V0z\" fill=\"none\"/>\n",
              "    <path d=\"M18.56 5.44l.94 2.06.94-2.06 2.06-.94-2.06-.94-.94-2.06-.94 2.06-2.06.94zm-11 1L8.5 8.5l.94-2.06 2.06-.94-2.06-.94L8.5 2.5l-.94 2.06-2.06.94zm10 10l.94 2.06.94-2.06 2.06-.94-2.06-.94-.94-2.06-.94 2.06-2.06.94z\"/><path d=\"M17.41 7.96l-1.37-1.37c-.4-.4-.92-.59-1.43-.59-.52 0-1.04.2-1.43.59L10.3 9.45l-7.72 7.72c-.78.78-.78 2.05 0 2.83L4 21.41c.39.39.9.59 1.41.59.51 0 1.02-.2 1.41-.59l7.78-7.78 2.81-2.81c.8-.78.8-2.07 0-2.86zM5.41 20L4 18.59l7.72-7.72 1.47 1.35L5.41 20z\"/>\n",
              "  </svg>\n",
              "      </button>\n",
              "      \n",
              "  <style>\n",
              "    .colab-df-container {\n",
              "      display:flex;\n",
              "      flex-wrap:wrap;\n",
              "      gap: 12px;\n",
              "    }\n",
              "\n",
              "    .colab-df-convert {\n",
              "      background-color: #E8F0FE;\n",
              "      border: none;\n",
              "      border-radius: 50%;\n",
              "      cursor: pointer;\n",
              "      display: none;\n",
              "      fill: #1967D2;\n",
              "      height: 32px;\n",
              "      padding: 0 0 0 0;\n",
              "      width: 32px;\n",
              "    }\n",
              "\n",
              "    .colab-df-convert:hover {\n",
              "      background-color: #E2EBFA;\n",
              "      box-shadow: 0px 1px 2px rgba(60, 64, 67, 0.3), 0px 1px 3px 1px rgba(60, 64, 67, 0.15);\n",
              "      fill: #174EA6;\n",
              "    }\n",
              "\n",
              "    [theme=dark] .colab-df-convert {\n",
              "      background-color: #3B4455;\n",
              "      fill: #D2E3FC;\n",
              "    }\n",
              "\n",
              "    [theme=dark] .colab-df-convert:hover {\n",
              "      background-color: #434B5C;\n",
              "      box-shadow: 0px 1px 3px 1px rgba(0, 0, 0, 0.15);\n",
              "      filter: drop-shadow(0px 1px 2px rgba(0, 0, 0, 0.3));\n",
              "      fill: #FFFFFF;\n",
              "    }\n",
              "  </style>\n",
              "\n",
              "      <script>\n",
              "        const buttonEl =\n",
              "          document.querySelector('#df-dd86f90b-12aa-46f2-b234-e045089c6fcb button.colab-df-convert');\n",
              "        buttonEl.style.display =\n",
              "          google.colab.kernel.accessAllowed ? 'block' : 'none';\n",
              "\n",
              "        async function convertToInteractive(key) {\n",
              "          const element = document.querySelector('#df-dd86f90b-12aa-46f2-b234-e045089c6fcb');\n",
              "          const dataTable =\n",
              "            await google.colab.kernel.invokeFunction('convertToInteractive',\n",
              "                                                     [key], {});\n",
              "          if (!dataTable) return;\n",
              "\n",
              "          const docLinkHtml = 'Like what you see? Visit the ' +\n",
              "            '<a target=\"_blank\" href=https://colab.research.google.com/notebooks/data_table.ipynb>data table notebook</a>'\n",
              "            + ' to learn more about interactive tables.';\n",
              "          element.innerHTML = '';\n",
              "          dataTable['output_type'] = 'display_data';\n",
              "          await google.colab.output.renderOutput(dataTable, element);\n",
              "          const docLink = document.createElement('div');\n",
              "          docLink.innerHTML = docLinkHtml;\n",
              "          element.appendChild(docLink);\n",
              "        }\n",
              "      </script>\n",
              "    </div>\n",
              "  </div>\n",
              "  "
            ]
          },
          "metadata": {},
          "execution_count": 26
        }
      ]
    },
    {
      "cell_type": "code",
      "source": [
        "result_interview_pws"
      ],
      "metadata": {
        "colab": {
          "base_uri": "https://localhost:8080/",
          "height": 613
        },
        "id": "v4Zz6td6nYNn",
        "outputId": "d06c05cb-e513-4d92-cf63-90eb56456d21"
      },
      "execution_count": 27,
      "outputs": [
        {
          "output_type": "execute_result",
          "data": {
            "text/plain": [
              "      ID         %V    DeltaC    DeltaV     VarcoC     VarcoV\n",
              "0   24fa  49.570724  0.048629  0.067111  74.523877  72.540965\n",
              "1   24ma  50.662784  0.048629  0.066884  81.792765  80.185883\n",
              "2   24mb  51.681342  0.048629  0.046958  85.317073  68.219909\n",
              "3    26f  49.387630  0.048629  0.074445  75.827535  74.155651\n",
              "4   29ma  45.737597  0.048629  0.058815  73.768228  72.562593\n",
              "5   29mb  49.013192  0.048629  0.055103  71.424750  60.496115\n",
              "6   29mc  50.058325  0.048629  0.059695  75.917428  64.135363\n",
              "7    32m  42.296566  0.048629  0.071339  60.638448  80.981105\n",
              "8    34m  43.036450  0.048629  0.083914  61.824807  79.079475\n",
              "9   35mb  47.288426  0.048629  0.065282  69.632373  59.877255\n",
              "10  46ma  45.577699  0.048629  0.063803  69.895290  71.811487\n",
              "11  50fa  46.077572  0.048629  0.051626  73.422643  67.807128\n",
              "12  50fb  38.405483  0.048629  0.091575  52.464040  59.619423\n",
              "13   54f  43.706610  0.048629  0.061341  59.109833  57.045462\n",
              "14   57m  45.982665  0.048629  0.060321  73.281767  73.270828\n",
              "15   60m  48.608743  0.048629  0.057887  75.563717  67.548117\n",
              "16   62f  43.406249  0.048629  0.074560  57.421424  66.375907\n",
              "17   62m  49.274223  0.048629  0.047073  75.307115  65.394722"
            ],
            "text/html": [
              "\n",
              "  <div id=\"df-3a927b38-d720-4ae5-9db9-25bc461a973e\">\n",
              "    <div class=\"colab-df-container\">\n",
              "      <div>\n",
              "<style scoped>\n",
              "    .dataframe tbody tr th:only-of-type {\n",
              "        vertical-align: middle;\n",
              "    }\n",
              "\n",
              "    .dataframe tbody tr th {\n",
              "        vertical-align: top;\n",
              "    }\n",
              "\n",
              "    .dataframe thead th {\n",
              "        text-align: right;\n",
              "    }\n",
              "</style>\n",
              "<table border=\"1\" class=\"dataframe\">\n",
              "  <thead>\n",
              "    <tr style=\"text-align: right;\">\n",
              "      <th></th>\n",
              "      <th>ID</th>\n",
              "      <th>%V</th>\n",
              "      <th>DeltaC</th>\n",
              "      <th>DeltaV</th>\n",
              "      <th>VarcoC</th>\n",
              "      <th>VarcoV</th>\n",
              "    </tr>\n",
              "  </thead>\n",
              "  <tbody>\n",
              "    <tr>\n",
              "      <th>0</th>\n",
              "      <td>24fa</td>\n",
              "      <td>49.570724</td>\n",
              "      <td>0.048629</td>\n",
              "      <td>0.067111</td>\n",
              "      <td>74.523877</td>\n",
              "      <td>72.540965</td>\n",
              "    </tr>\n",
              "    <tr>\n",
              "      <th>1</th>\n",
              "      <td>24ma</td>\n",
              "      <td>50.662784</td>\n",
              "      <td>0.048629</td>\n",
              "      <td>0.066884</td>\n",
              "      <td>81.792765</td>\n",
              "      <td>80.185883</td>\n",
              "    </tr>\n",
              "    <tr>\n",
              "      <th>2</th>\n",
              "      <td>24mb</td>\n",
              "      <td>51.681342</td>\n",
              "      <td>0.048629</td>\n",
              "      <td>0.046958</td>\n",
              "      <td>85.317073</td>\n",
              "      <td>68.219909</td>\n",
              "    </tr>\n",
              "    <tr>\n",
              "      <th>3</th>\n",
              "      <td>26f</td>\n",
              "      <td>49.387630</td>\n",
              "      <td>0.048629</td>\n",
              "      <td>0.074445</td>\n",
              "      <td>75.827535</td>\n",
              "      <td>74.155651</td>\n",
              "    </tr>\n",
              "    <tr>\n",
              "      <th>4</th>\n",
              "      <td>29ma</td>\n",
              "      <td>45.737597</td>\n",
              "      <td>0.048629</td>\n",
              "      <td>0.058815</td>\n",
              "      <td>73.768228</td>\n",
              "      <td>72.562593</td>\n",
              "    </tr>\n",
              "    <tr>\n",
              "      <th>5</th>\n",
              "      <td>29mb</td>\n",
              "      <td>49.013192</td>\n",
              "      <td>0.048629</td>\n",
              "      <td>0.055103</td>\n",
              "      <td>71.424750</td>\n",
              "      <td>60.496115</td>\n",
              "    </tr>\n",
              "    <tr>\n",
              "      <th>6</th>\n",
              "      <td>29mc</td>\n",
              "      <td>50.058325</td>\n",
              "      <td>0.048629</td>\n",
              "      <td>0.059695</td>\n",
              "      <td>75.917428</td>\n",
              "      <td>64.135363</td>\n",
              "    </tr>\n",
              "    <tr>\n",
              "      <th>7</th>\n",
              "      <td>32m</td>\n",
              "      <td>42.296566</td>\n",
              "      <td>0.048629</td>\n",
              "      <td>0.071339</td>\n",
              "      <td>60.638448</td>\n",
              "      <td>80.981105</td>\n",
              "    </tr>\n",
              "    <tr>\n",
              "      <th>8</th>\n",
              "      <td>34m</td>\n",
              "      <td>43.036450</td>\n",
              "      <td>0.048629</td>\n",
              "      <td>0.083914</td>\n",
              "      <td>61.824807</td>\n",
              "      <td>79.079475</td>\n",
              "    </tr>\n",
              "    <tr>\n",
              "      <th>9</th>\n",
              "      <td>35mb</td>\n",
              "      <td>47.288426</td>\n",
              "      <td>0.048629</td>\n",
              "      <td>0.065282</td>\n",
              "      <td>69.632373</td>\n",
              "      <td>59.877255</td>\n",
              "    </tr>\n",
              "    <tr>\n",
              "      <th>10</th>\n",
              "      <td>46ma</td>\n",
              "      <td>45.577699</td>\n",
              "      <td>0.048629</td>\n",
              "      <td>0.063803</td>\n",
              "      <td>69.895290</td>\n",
              "      <td>71.811487</td>\n",
              "    </tr>\n",
              "    <tr>\n",
              "      <th>11</th>\n",
              "      <td>50fa</td>\n",
              "      <td>46.077572</td>\n",
              "      <td>0.048629</td>\n",
              "      <td>0.051626</td>\n",
              "      <td>73.422643</td>\n",
              "      <td>67.807128</td>\n",
              "    </tr>\n",
              "    <tr>\n",
              "      <th>12</th>\n",
              "      <td>50fb</td>\n",
              "      <td>38.405483</td>\n",
              "      <td>0.048629</td>\n",
              "      <td>0.091575</td>\n",
              "      <td>52.464040</td>\n",
              "      <td>59.619423</td>\n",
              "    </tr>\n",
              "    <tr>\n",
              "      <th>13</th>\n",
              "      <td>54f</td>\n",
              "      <td>43.706610</td>\n",
              "      <td>0.048629</td>\n",
              "      <td>0.061341</td>\n",
              "      <td>59.109833</td>\n",
              "      <td>57.045462</td>\n",
              "    </tr>\n",
              "    <tr>\n",
              "      <th>14</th>\n",
              "      <td>57m</td>\n",
              "      <td>45.982665</td>\n",
              "      <td>0.048629</td>\n",
              "      <td>0.060321</td>\n",
              "      <td>73.281767</td>\n",
              "      <td>73.270828</td>\n",
              "    </tr>\n",
              "    <tr>\n",
              "      <th>15</th>\n",
              "      <td>60m</td>\n",
              "      <td>48.608743</td>\n",
              "      <td>0.048629</td>\n",
              "      <td>0.057887</td>\n",
              "      <td>75.563717</td>\n",
              "      <td>67.548117</td>\n",
              "    </tr>\n",
              "    <tr>\n",
              "      <th>16</th>\n",
              "      <td>62f</td>\n",
              "      <td>43.406249</td>\n",
              "      <td>0.048629</td>\n",
              "      <td>0.074560</td>\n",
              "      <td>57.421424</td>\n",
              "      <td>66.375907</td>\n",
              "    </tr>\n",
              "    <tr>\n",
              "      <th>17</th>\n",
              "      <td>62m</td>\n",
              "      <td>49.274223</td>\n",
              "      <td>0.048629</td>\n",
              "      <td>0.047073</td>\n",
              "      <td>75.307115</td>\n",
              "      <td>65.394722</td>\n",
              "    </tr>\n",
              "  </tbody>\n",
              "</table>\n",
              "</div>\n",
              "      <button class=\"colab-df-convert\" onclick=\"convertToInteractive('df-3a927b38-d720-4ae5-9db9-25bc461a973e')\"\n",
              "              title=\"Convert this dataframe to an interactive table.\"\n",
              "              style=\"display:none;\">\n",
              "        \n",
              "  <svg xmlns=\"http://www.w3.org/2000/svg\" height=\"24px\"viewBox=\"0 0 24 24\"\n",
              "       width=\"24px\">\n",
              "    <path d=\"M0 0h24v24H0V0z\" fill=\"none\"/>\n",
              "    <path d=\"M18.56 5.44l.94 2.06.94-2.06 2.06-.94-2.06-.94-.94-2.06-.94 2.06-2.06.94zm-11 1L8.5 8.5l.94-2.06 2.06-.94-2.06-.94L8.5 2.5l-.94 2.06-2.06.94zm10 10l.94 2.06.94-2.06 2.06-.94-2.06-.94-.94-2.06-.94 2.06-2.06.94z\"/><path d=\"M17.41 7.96l-1.37-1.37c-.4-.4-.92-.59-1.43-.59-.52 0-1.04.2-1.43.59L10.3 9.45l-7.72 7.72c-.78.78-.78 2.05 0 2.83L4 21.41c.39.39.9.59 1.41.59.51 0 1.02-.2 1.41-.59l7.78-7.78 2.81-2.81c.8-.78.8-2.07 0-2.86zM5.41 20L4 18.59l7.72-7.72 1.47 1.35L5.41 20z\"/>\n",
              "  </svg>\n",
              "      </button>\n",
              "      \n",
              "  <style>\n",
              "    .colab-df-container {\n",
              "      display:flex;\n",
              "      flex-wrap:wrap;\n",
              "      gap: 12px;\n",
              "    }\n",
              "\n",
              "    .colab-df-convert {\n",
              "      background-color: #E8F0FE;\n",
              "      border: none;\n",
              "      border-radius: 50%;\n",
              "      cursor: pointer;\n",
              "      display: none;\n",
              "      fill: #1967D2;\n",
              "      height: 32px;\n",
              "      padding: 0 0 0 0;\n",
              "      width: 32px;\n",
              "    }\n",
              "\n",
              "    .colab-df-convert:hover {\n",
              "      background-color: #E2EBFA;\n",
              "      box-shadow: 0px 1px 2px rgba(60, 64, 67, 0.3), 0px 1px 3px 1px rgba(60, 64, 67, 0.15);\n",
              "      fill: #174EA6;\n",
              "    }\n",
              "\n",
              "    [theme=dark] .colab-df-convert {\n",
              "      background-color: #3B4455;\n",
              "      fill: #D2E3FC;\n",
              "    }\n",
              "\n",
              "    [theme=dark] .colab-df-convert:hover {\n",
              "      background-color: #434B5C;\n",
              "      box-shadow: 0px 1px 3px 1px rgba(0, 0, 0, 0.15);\n",
              "      filter: drop-shadow(0px 1px 2px rgba(0, 0, 0, 0.3));\n",
              "      fill: #FFFFFF;\n",
              "    }\n",
              "  </style>\n",
              "\n",
              "      <script>\n",
              "        const buttonEl =\n",
              "          document.querySelector('#df-3a927b38-d720-4ae5-9db9-25bc461a973e button.colab-df-convert');\n",
              "        buttonEl.style.display =\n",
              "          google.colab.kernel.accessAllowed ? 'block' : 'none';\n",
              "\n",
              "        async function convertToInteractive(key) {\n",
              "          const element = document.querySelector('#df-3a927b38-d720-4ae5-9db9-25bc461a973e');\n",
              "          const dataTable =\n",
              "            await google.colab.kernel.invokeFunction('convertToInteractive',\n",
              "                                                     [key], {});\n",
              "          if (!dataTable) return;\n",
              "\n",
              "          const docLinkHtml = 'Like what you see? Visit the ' +\n",
              "            '<a target=\"_blank\" href=https://colab.research.google.com/notebooks/data_table.ipynb>data table notebook</a>'\n",
              "            + ' to learn more about interactive tables.';\n",
              "          element.innerHTML = '';\n",
              "          dataTable['output_type'] = 'display_data';\n",
              "          await google.colab.output.renderOutput(dataTable, element);\n",
              "          const docLink = document.createElement('div');\n",
              "          docLink.innerHTML = docLinkHtml;\n",
              "          element.appendChild(docLink);\n",
              "        }\n",
              "      </script>\n",
              "    </div>\n",
              "  </div>\n",
              "  "
            ]
          },
          "metadata": {},
          "execution_count": 27
        }
      ]
    },
    {
      "cell_type": "code",
      "source": [
        "result_interview_control"
      ],
      "metadata": {
        "colab": {
          "base_uri": "https://localhost:8080/",
          "height": 425
        },
        "id": "LTKMQibmn5JE",
        "outputId": "131fbff8-e8e3-4896-8fb4-0fe4177c0d34"
      },
      "execution_count": 28,
      "outputs": [
        {
          "output_type": "execute_result",
          "data": {
            "text/plain": [
              "        ID         %V    DeltaC    DeltaV     VarcoC      VarcoV\n",
              "0   C10_KS  36.581696  0.052431  0.054609  79.847721   64.301177\n",
              "1   C11_NP  36.600765  0.052431  0.060758  76.495983   70.042937\n",
              "2   C12_CC  37.730557  0.052431  0.043776  74.951499   57.249669\n",
              "3   C13_RG        NaN  0.052431  0.056234  79.956352   67.546742\n",
              "4    C1_DS  35.974573  0.052431  0.062606  58.774159   76.481932\n",
              "5    C2_JH  36.975485  0.052431  0.065757  76.190449   64.296827\n",
              "6    C3_MD  39.607417  0.052431  0.049055  81.248022   59.850615\n",
              "7    C4_ZO  29.762244  0.052431  0.090615  64.532957  106.954708\n",
              "8    C5_HL  42.664266  0.052431  0.048755  74.905096   66.498862\n",
              "9    C6_LH  36.806171  0.052431  0.051750  77.615783   69.089020\n",
              "10   C7_SH  41.530652  0.052431  0.030919  96.046383   58.431547\n",
              "11   C9_RD  36.319594  0.052431  0.039906  68.410285   50.944727"
            ],
            "text/html": [
              "\n",
              "  <div id=\"df-13c00370-3b66-4a68-8be9-11f1676f1d38\">\n",
              "    <div class=\"colab-df-container\">\n",
              "      <div>\n",
              "<style scoped>\n",
              "    .dataframe tbody tr th:only-of-type {\n",
              "        vertical-align: middle;\n",
              "    }\n",
              "\n",
              "    .dataframe tbody tr th {\n",
              "        vertical-align: top;\n",
              "    }\n",
              "\n",
              "    .dataframe thead th {\n",
              "        text-align: right;\n",
              "    }\n",
              "</style>\n",
              "<table border=\"1\" class=\"dataframe\">\n",
              "  <thead>\n",
              "    <tr style=\"text-align: right;\">\n",
              "      <th></th>\n",
              "      <th>ID</th>\n",
              "      <th>%V</th>\n",
              "      <th>DeltaC</th>\n",
              "      <th>DeltaV</th>\n",
              "      <th>VarcoC</th>\n",
              "      <th>VarcoV</th>\n",
              "    </tr>\n",
              "  </thead>\n",
              "  <tbody>\n",
              "    <tr>\n",
              "      <th>0</th>\n",
              "      <td>C10_KS</td>\n",
              "      <td>36.581696</td>\n",
              "      <td>0.052431</td>\n",
              "      <td>0.054609</td>\n",
              "      <td>79.847721</td>\n",
              "      <td>64.301177</td>\n",
              "    </tr>\n",
              "    <tr>\n",
              "      <th>1</th>\n",
              "      <td>C11_NP</td>\n",
              "      <td>36.600765</td>\n",
              "      <td>0.052431</td>\n",
              "      <td>0.060758</td>\n",
              "      <td>76.495983</td>\n",
              "      <td>70.042937</td>\n",
              "    </tr>\n",
              "    <tr>\n",
              "      <th>2</th>\n",
              "      <td>C12_CC</td>\n",
              "      <td>37.730557</td>\n",
              "      <td>0.052431</td>\n",
              "      <td>0.043776</td>\n",
              "      <td>74.951499</td>\n",
              "      <td>57.249669</td>\n",
              "    </tr>\n",
              "    <tr>\n",
              "      <th>3</th>\n",
              "      <td>C13_RG</td>\n",
              "      <td>NaN</td>\n",
              "      <td>0.052431</td>\n",
              "      <td>0.056234</td>\n",
              "      <td>79.956352</td>\n",
              "      <td>67.546742</td>\n",
              "    </tr>\n",
              "    <tr>\n",
              "      <th>4</th>\n",
              "      <td>C1_DS</td>\n",
              "      <td>35.974573</td>\n",
              "      <td>0.052431</td>\n",
              "      <td>0.062606</td>\n",
              "      <td>58.774159</td>\n",
              "      <td>76.481932</td>\n",
              "    </tr>\n",
              "    <tr>\n",
              "      <th>5</th>\n",
              "      <td>C2_JH</td>\n",
              "      <td>36.975485</td>\n",
              "      <td>0.052431</td>\n",
              "      <td>0.065757</td>\n",
              "      <td>76.190449</td>\n",
              "      <td>64.296827</td>\n",
              "    </tr>\n",
              "    <tr>\n",
              "      <th>6</th>\n",
              "      <td>C3_MD</td>\n",
              "      <td>39.607417</td>\n",
              "      <td>0.052431</td>\n",
              "      <td>0.049055</td>\n",
              "      <td>81.248022</td>\n",
              "      <td>59.850615</td>\n",
              "    </tr>\n",
              "    <tr>\n",
              "      <th>7</th>\n",
              "      <td>C4_ZO</td>\n",
              "      <td>29.762244</td>\n",
              "      <td>0.052431</td>\n",
              "      <td>0.090615</td>\n",
              "      <td>64.532957</td>\n",
              "      <td>106.954708</td>\n",
              "    </tr>\n",
              "    <tr>\n",
              "      <th>8</th>\n",
              "      <td>C5_HL</td>\n",
              "      <td>42.664266</td>\n",
              "      <td>0.052431</td>\n",
              "      <td>0.048755</td>\n",
              "      <td>74.905096</td>\n",
              "      <td>66.498862</td>\n",
              "    </tr>\n",
              "    <tr>\n",
              "      <th>9</th>\n",
              "      <td>C6_LH</td>\n",
              "      <td>36.806171</td>\n",
              "      <td>0.052431</td>\n",
              "      <td>0.051750</td>\n",
              "      <td>77.615783</td>\n",
              "      <td>69.089020</td>\n",
              "    </tr>\n",
              "    <tr>\n",
              "      <th>10</th>\n",
              "      <td>C7_SH</td>\n",
              "      <td>41.530652</td>\n",
              "      <td>0.052431</td>\n",
              "      <td>0.030919</td>\n",
              "      <td>96.046383</td>\n",
              "      <td>58.431547</td>\n",
              "    </tr>\n",
              "    <tr>\n",
              "      <th>11</th>\n",
              "      <td>C9_RD</td>\n",
              "      <td>36.319594</td>\n",
              "      <td>0.052431</td>\n",
              "      <td>0.039906</td>\n",
              "      <td>68.410285</td>\n",
              "      <td>50.944727</td>\n",
              "    </tr>\n",
              "  </tbody>\n",
              "</table>\n",
              "</div>\n",
              "      <button class=\"colab-df-convert\" onclick=\"convertToInteractive('df-13c00370-3b66-4a68-8be9-11f1676f1d38')\"\n",
              "              title=\"Convert this dataframe to an interactive table.\"\n",
              "              style=\"display:none;\">\n",
              "        \n",
              "  <svg xmlns=\"http://www.w3.org/2000/svg\" height=\"24px\"viewBox=\"0 0 24 24\"\n",
              "       width=\"24px\">\n",
              "    <path d=\"M0 0h24v24H0V0z\" fill=\"none\"/>\n",
              "    <path d=\"M18.56 5.44l.94 2.06.94-2.06 2.06-.94-2.06-.94-.94-2.06-.94 2.06-2.06.94zm-11 1L8.5 8.5l.94-2.06 2.06-.94-2.06-.94L8.5 2.5l-.94 2.06-2.06.94zm10 10l.94 2.06.94-2.06 2.06-.94-2.06-.94-.94-2.06-.94 2.06-2.06.94z\"/><path d=\"M17.41 7.96l-1.37-1.37c-.4-.4-.92-.59-1.43-.59-.52 0-1.04.2-1.43.59L10.3 9.45l-7.72 7.72c-.78.78-.78 2.05 0 2.83L4 21.41c.39.39.9.59 1.41.59.51 0 1.02-.2 1.41-.59l7.78-7.78 2.81-2.81c.8-.78.8-2.07 0-2.86zM5.41 20L4 18.59l7.72-7.72 1.47 1.35L5.41 20z\"/>\n",
              "  </svg>\n",
              "      </button>\n",
              "      \n",
              "  <style>\n",
              "    .colab-df-container {\n",
              "      display:flex;\n",
              "      flex-wrap:wrap;\n",
              "      gap: 12px;\n",
              "    }\n",
              "\n",
              "    .colab-df-convert {\n",
              "      background-color: #E8F0FE;\n",
              "      border: none;\n",
              "      border-radius: 50%;\n",
              "      cursor: pointer;\n",
              "      display: none;\n",
              "      fill: #1967D2;\n",
              "      height: 32px;\n",
              "      padding: 0 0 0 0;\n",
              "      width: 32px;\n",
              "    }\n",
              "\n",
              "    .colab-df-convert:hover {\n",
              "      background-color: #E2EBFA;\n",
              "      box-shadow: 0px 1px 2px rgba(60, 64, 67, 0.3), 0px 1px 3px 1px rgba(60, 64, 67, 0.15);\n",
              "      fill: #174EA6;\n",
              "    }\n",
              "\n",
              "    [theme=dark] .colab-df-convert {\n",
              "      background-color: #3B4455;\n",
              "      fill: #D2E3FC;\n",
              "    }\n",
              "\n",
              "    [theme=dark] .colab-df-convert:hover {\n",
              "      background-color: #434B5C;\n",
              "      box-shadow: 0px 1px 3px 1px rgba(0, 0, 0, 0.15);\n",
              "      filter: drop-shadow(0px 1px 2px rgba(0, 0, 0, 0.3));\n",
              "      fill: #FFFFFF;\n",
              "    }\n",
              "  </style>\n",
              "\n",
              "      <script>\n",
              "        const buttonEl =\n",
              "          document.querySelector('#df-13c00370-3b66-4a68-8be9-11f1676f1d38 button.colab-df-convert');\n",
              "        buttonEl.style.display =\n",
              "          google.colab.kernel.accessAllowed ? 'block' : 'none';\n",
              "\n",
              "        async function convertToInteractive(key) {\n",
              "          const element = document.querySelector('#df-13c00370-3b66-4a68-8be9-11f1676f1d38');\n",
              "          const dataTable =\n",
              "            await google.colab.kernel.invokeFunction('convertToInteractive',\n",
              "                                                     [key], {});\n",
              "          if (!dataTable) return;\n",
              "\n",
              "          const docLinkHtml = 'Like what you see? Visit the ' +\n",
              "            '<a target=\"_blank\" href=https://colab.research.google.com/notebooks/data_table.ipynb>data table notebook</a>'\n",
              "            + ' to learn more about interactive tables.';\n",
              "          element.innerHTML = '';\n",
              "          dataTable['output_type'] = 'display_data';\n",
              "          await google.colab.output.renderOutput(dataTable, element);\n",
              "          const docLink = document.createElement('div');\n",
              "          docLink.innerHTML = docLinkHtml;\n",
              "          element.appendChild(docLink);\n",
              "        }\n",
              "      </script>\n",
              "    </div>\n",
              "  </div>\n",
              "  "
            ]
          },
          "metadata": {},
          "execution_count": 28
        }
      ]
    },
    {
      "cell_type": "markdown",
      "source": [
        "**Show Group/Condition Averages**"
      ],
      "metadata": {
        "id": "hlEj8v7S1CXd"
      }
    },
    {
      "cell_type": "code",
      "source": [
        "result_reading_pws.mean()"
      ],
      "metadata": {
        "colab": {
          "base_uri": "https://localhost:8080/"
        },
        "id": "kF0k_UPRmpG1",
        "outputId": "7c1b5684-e206-4d10-b3f7-5d9646183bcd"
      },
      "execution_count": 29,
      "outputs": [
        {
          "output_type": "execute_result",
          "data": {
            "text/plain": [
              "%V        41.966560\n",
              "DeltaC     0.045996\n",
              "DeltaV     0.051151\n",
              "VarcoC    61.956716\n",
              "VarcoV    57.749930\n",
              "dtype: float64"
            ]
          },
          "metadata": {},
          "execution_count": 29
        }
      ]
    },
    {
      "cell_type": "code",
      "source": [
        "result_reading_control.mean()"
      ],
      "metadata": {
        "colab": {
          "base_uri": "https://localhost:8080/"
        },
        "id": "RbLDvm__nEqy",
        "outputId": "fb580467-b2c1-46ad-b02a-b7e594cf68ed"
      },
      "execution_count": 30,
      "outputs": [
        {
          "output_type": "execute_result",
          "data": {
            "text/plain": [
              "%V        33.572106\n",
              "DeltaC     0.045387\n",
              "DeltaV     0.040330\n",
              "VarcoC    63.899751\n",
              "VarcoV    52.815387\n",
              "dtype: float64"
            ]
          },
          "metadata": {},
          "execution_count": 30
        }
      ]
    },
    {
      "cell_type": "code",
      "source": [
        "result_interview_pws.mean()"
      ],
      "metadata": {
        "colab": {
          "base_uri": "https://localhost:8080/"
        },
        "id": "GXJHQCRRnbpN",
        "outputId": "6b4bec3f-6ab6-4565-8a5e-5b40503df0b7"
      },
      "execution_count": 31,
      "outputs": [
        {
          "output_type": "execute_result",
          "data": {
            "text/plain": [
              "%V        46.654016\n",
              "DeltaC     0.048629\n",
              "DeltaV     0.064318\n",
              "VarcoC    70.396284\n",
              "VarcoV    68.950410\n",
              "dtype: float64"
            ]
          },
          "metadata": {},
          "execution_count": 31
        }
      ]
    },
    {
      "cell_type": "code",
      "source": [
        "result_interview_control.mean()"
      ],
      "metadata": {
        "colab": {
          "base_uri": "https://localhost:8080/"
        },
        "id": "dpFNQiO_nm7P",
        "outputId": "1f1cacdd-dce9-48aa-baa8-8ca436a5fac8"
      },
      "execution_count": 32,
      "outputs": [
        {
          "output_type": "execute_result",
          "data": {
            "text/plain": [
              "%V        37.323038\n",
              "DeltaC     0.052431\n",
              "DeltaV     0.054562\n",
              "VarcoC    75.747891\n",
              "VarcoV    67.640730\n",
              "dtype: float64"
            ]
          },
          "metadata": {},
          "execution_count": 32
        }
      ]
    },
    {
      "cell_type": "markdown",
      "source": [
        "**Plot Results**"
      ],
      "metadata": {
        "id": "f5k0Kra6oPZC"
      }
    },
    {
      "cell_type": "code",
      "source": [
        "df2plot = pd.DataFrame(columns = [\"Group\", \"Condition\", \"%V\",\"VarcoV\"])"
      ],
      "metadata": {
        "id": "GmWr6USAoSgj"
      },
      "execution_count": 33,
      "outputs": []
    },
    {
      "cell_type": "code",
      "source": [
        "group = [\"PWS\", \"Control\", \"PWS\", \"Control\"]\n",
        "condition = [\"reading\", \"reading\", \"interview\", \"interview\"]\n",
        "PercV = [result_reading_pws.mean()[0], result_reading_control.mean()[0], result_interview_pws.mean()[0], result_interview_control.mean()[0]]\n",
        "VarcoV = [result_reading_pws.mean()[4], result_reading_control.mean()[4], result_interview_pws.mean()[4], result_interview_control.mean()[4]]"
      ],
      "metadata": {
        "id": "MyPxn4eSpxfx"
      },
      "execution_count": 34,
      "outputs": []
    },
    {
      "cell_type": "code",
      "source": [
        "df2plot[\"Group\"] = group\n",
        "df2plot[\"Condition\"] = condition\n",
        "df2plot[\"%V\"] = PercV\n",
        "df2plot[\"VarcoV\"] = VarcoV"
      ],
      "metadata": {
        "id": "8imq1_VmoSbB"
      },
      "execution_count": 35,
      "outputs": []
    },
    {
      "cell_type": "code",
      "source": [
        "#plt.figure(figsize=(8, 8))\n",
        "plt.plot(df2plot[\"%V\"], df2plot[\"VarcoV\"], 'D', markerFaceColor = 'k', markerEdgeColor = 'k')\n",
        "plt.title(\"VarcoV as a Function of %V\")\n",
        "plt.xlabel(\"%V\")\n",
        "plt.xlim([30, 50])\n",
        "plt.xticks(np.arange(30, 55, step=5))\n",
        "plt.ylim([50, 75])\n",
        "plt.ylabel(\"VarcoV\")\n",
        "for x,y, group, cond in zip(df2plot[\"%V\"], df2plot[\"VarcoV\"], df2plot[\"Group\"], df2plot[\"Condition\"]):\n",
        "  label = f\"{group}-{cond}\"\n",
        "  plt.annotate(label, (x,y),\n",
        "  xytext=(x,y+1), ha = 'center')\n",
        "plt.show()"
      ],
      "metadata": {
        "colab": {
          "base_uri": "https://localhost:8080/",
          "height": 295
        },
        "id": "5LER9qjmqxAu",
        "outputId": "c6bc2d6a-2266-4fad-ab7c-faced5bfe782"
      },
      "execution_count": 37,
      "outputs": [
        {
          "output_type": "display_data",
          "data": {
            "text/plain": [
              "<Figure size 432x288 with 1 Axes>"
            ],
            "image/png": "[encoded data removed]"
          },
          "metadata": {
            "needs_background": "light"
          }
        }
      ]
    }
  ]
}