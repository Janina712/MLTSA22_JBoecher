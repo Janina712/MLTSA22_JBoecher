{
  "nbformat": 4,
  "nbformat_minor": 0,
  "metadata": {
    "colab": {
      "name": "4. Compute_RhythmMetrics.ipynb",
      "provenance": [],
      "collapsed_sections": [],
      "authorship_tag": "ABX9TyOiXxYZTraOZ83i7kDaStqL",
      "include_colab_link": true
    },
    "kernelspec": {
      "name": "python3",
      "display_name": "Python 3"
    },
    "language_info": {
      "name": "python"
    }
  },
  "cells": [
    {
      "cell_type": "markdown",
      "metadata": {
        "id": "view-in-github",
        "colab_type": "text"
      },
      "source": [
        "<a href=\"https://colab.research.google.com/github/Janina712/MLTSA22_JBoecher/blob/main/Other/4.%20Compute_RhythmMetrics.ipynb\" target=\"_parent\"><img src=\"https://colab.research.google.com/assets/colab-badge.svg\" alt=\"Open In Colab\"/></a>"
      ]
    },
    {
      "cell_type": "markdown",
      "source": [
        "**0. Imports & Set-Up**"
      ],
      "metadata": {
        "id": "LwZVbxjDkKB9"
      }
    },
    {
      "cell_type": "code",
      "execution_count": 1,
      "metadata": {
        "id": "vP_zg8dRjLgp"
      },
      "outputs": [],
      "source": [
        "import pandas as pd\n",
        "import numpy as np\n",
        "import os"
      ]
    },
    {
      "cell_type": "code",
      "source": [
        "from google.colab import drive\n",
        "drive.mount(\"/content/gdrive\")"
      ],
      "metadata": {
        "colab": {
          "base_uri": "https://localhost:8080/"
        },
        "id": "X6QnqvpWjeEF",
        "outputId": "e4e05e22-f265-4085-db83-0bfa998fa649"
      },
      "execution_count": 3,
      "outputs": [
        {
          "output_type": "stream",
          "name": "stdout",
          "text": [
            "Mounted at /content/gdrive\n"
          ]
        }
      ]
    },
    {
      "cell_type": "code",
      "source": [
        "%cd /content/gdrive/MyDrive/RhythmAnalysisPipeline/3.MLU_Matched/"
      ],
      "metadata": {
        "colab": {
          "base_uri": "https://localhost:8080/"
        },
        "id": "p5RXvbrQjj_d",
        "outputId": "58befe21-c50d-45fb-f7d7-4492cd812dc9"
      },
      "execution_count": 4,
      "outputs": [
        {
          "output_type": "stream",
          "name": "stdout",
          "text": [
            "/content/gdrive/MyDrive/RhythmAnalysisPipeline/3.MLU_Matched\n"
          ]
        }
      ]
    },
    {
      "cell_type": "code",
      "source": [
        "reading_vowels = pd.read_excel(\"reading_TextGrid_comb_BG_vowelsMatched.xlsx\")\n",
        "interview_vowels = pd.read_excel(\"interview_TextGrid_comb_BG_vowelsMatched.xlsx\")\n",
        "reading_consonants = pd.read_excel(\"reading_TextGrid_comb_BG_consonantsMatched.xlsx\")\n",
        "interview_consonants = pd.read_excel(\"interview_TextGrid_comb_BG_consonantsMatched.xlsx\")"
      ],
      "metadata": {
        "id": "38VyuR1DjrON"
      },
      "execution_count": 6,
      "outputs": []
    },
    {
      "cell_type": "code",
      "source": [
        "result_reading = pd.DataFrame(columns = [\"BG\",\"%V\",\"DeltaC\", \"DeltaV\", \"VarcoC\", \"VarcoV\"])\n",
        "result_interview = pd.DataFrame(columns = [\"BG\",\"%V\",\"DeltaC\", \"DeltaV\", \"VarcoC\", \"VarcoV\"])"
      ],
      "metadata": {
        "id": "ZSE8K0-ajkrl"
      },
      "execution_count": 59,
      "outputs": []
    },
    {
      "cell_type": "code",
      "source": [
        "IDs = ['24fa', '24ma', '24mb', '26f', '29ma', '29mb', '29mc', '32m', '34m', '35mb', '46ma', '50fa', '50fb', '54f', '57m', '60m', '62f', '62m', 'C10_KS', 'C11_NP', 'C12_CC', 'C13_RG','C1_DS', 'C2_JH', 'C3_MD', 'C4_ZO', 'C5_HL', 'C6_LH', 'C7_SH', 'C9_RD']"
      ],
      "metadata": {
        "id": "b2KIt8k-ryUo"
      },
      "execution_count": 35,
      "outputs": []
    },
    {
      "cell_type": "markdown",
      "source": [
        "# **Define Functions**"
      ],
      "metadata": {
        "id": "4iePNX7ymp2t"
      }
    },
    {
      "cell_type": "code",
      "source": [
        "def computePercV(df_vowels, df_consonants):\n",
        "  numberBG = len(df_vowels[\"Breath.Group\"].unique())\n",
        "  Vsums = np.zeros(numberBG)\n",
        "  Csums = np.zeros(numberBG)\n",
        "  for i in range(1,numberBG+1):\n",
        "    for j in range(0, len(df_vowels)):\n",
        "      if df_vowels[\"Breath.Group\"][j] == i:\n",
        "        Vsums[i-1] = Vsums[i-1] + df_vowels[\"Duration\"][j]  \n",
        "  for i in range(1,numberBG+1):\n",
        "    for j in range(0, len(df_consonants)):\n",
        "      if df_consonants[\"Breath.Group\"][j] == i:\n",
        "        Csums[i-1] = Csums[i-1] + df_consonants[\"Duration\"][j]\n",
        "  VCsums = Vsums + Csums\n",
        "  percV = Vsums/VCsums\n",
        "  return(percV)"
      ],
      "metadata": {
        "id": "8yeIB0TglG1F"
      },
      "execution_count": 8,
      "outputs": []
    },
    {
      "cell_type": "code",
      "source": [
        "def computeDeltaC(df_consonants):\n",
        "  grouped_vowels = df_consonants.groupby(\"Breath.Group\")\n",
        "  grouped_lists = grouped_vowels[\"Duration\"].apply(list)\n",
        "  grouped_lists = grouped_lists.reset_index()\n",
        "  deltaC = np.zeros(len(grouped_lists))\n",
        "  for i in range(0,len(grouped_lists)):\n",
        "    deltaC[i] = np.std(grouped_lists[\"Duration\"][i])\n",
        "  return(deltaC)"
      ],
      "metadata": {
        "id": "yLlTtT43nlaO"
      },
      "execution_count": 15,
      "outputs": []
    },
    {
      "cell_type": "code",
      "source": [
        "def computeDeltaV(df_vowels):\n",
        "  grouped_vowels = df_vowels.groupby(\"Breath.Group\")\n",
        "  grouped_lists = grouped_vowels[\"Duration\"].apply(list)\n",
        "  grouped_lists = grouped_lists.reset_index()\n",
        "  deltaV = np.zeros(len(grouped_lists))\n",
        "  for i in range(0,len(grouped_lists)):\n",
        "    deltaV[i] = np.std(grouped_lists[\"Duration\"][i])\n",
        "  return(deltaV)"
      ],
      "metadata": {
        "id": "zfY7v93am2-X"
      },
      "execution_count": 12,
      "outputs": []
    },
    {
      "cell_type": "code",
      "source": [
        "def computeVarcoC(df_consonants, deltaC):\n",
        "  grouped_consonants = df_consonants.groupby(\"Breath.Group\")\n",
        "  grouped_lists = grouped_consonants[\"Duration\"].apply(list)\n",
        "  grouped_lists = grouped_lists.reset_index()\n",
        "  Cavg = np.zeros(len(grouped_lists))\n",
        "  for i in range(0,len(grouped_lists)):\n",
        "    Cavg[i] = np.mean(grouped_lists[\"Duration\"][i])\n",
        "  VarcoC = deltaC/Cavg\n",
        "  return(VarcoC)"
      ],
      "metadata": {
        "id": "FwKR6uw_owNu"
      },
      "execution_count": 19,
      "outputs": []
    },
    {
      "cell_type": "code",
      "source": [
        "def computeVarcoV(df_vowels, deltaV):\n",
        "  grouped_vowels = df_vowels.groupby(\"Breath.Group\")\n",
        "  grouped_lists = grouped_vowels[\"Duration\"].apply(list)\n",
        "  grouped_lists = grouped_lists.reset_index()\n",
        "  Vavg = np.zeros(len(grouped_lists))\n",
        "  for i in range(0,len(grouped_lists)):\n",
        "    Vavg[i] = np.mean(grouped_lists[\"Duration\"][i])\n",
        "  VarcoV = deltaV/Vavg\n",
        "  return(VarcoV)"
      ],
      "metadata": {
        "id": "8Gi8TwkNoBRn"
      },
      "execution_count": 18,
      "outputs": []
    },
    {
      "cell_type": "markdown",
      "source": [
        "**Calculate Metrics Using Functions**"
      ],
      "metadata": {
        "id": "bo8dnOG2ppH_"
      }
    },
    {
      "cell_type": "code",
      "source": [
        "percV_reading = computePercV(reading_vowels, reading_consonants)\n",
        "percV_interview = computePercV(interview_vowels, interview_consonants)"
      ],
      "metadata": {
        "id": "DgSuLWeupwG3"
      },
      "execution_count": 25,
      "outputs": []
    },
    {
      "cell_type": "code",
      "source": [
        "deltaC_reading = computeDeltaC(reading_consonants)\n",
        "deltaC_interview = computeDeltaC(interview_consonants)"
      ],
      "metadata": {
        "id": "Zs19HNhoqN8J"
      },
      "execution_count": 26,
      "outputs": []
    },
    {
      "cell_type": "code",
      "source": [
        "deltaV_reading = computeDeltaV(reading_vowels)\n",
        "deltaV_interview = computeDeltaV(interview_vowels)"
      ],
      "metadata": {
        "id": "UzSTw1vnpLIn"
      },
      "execution_count": 27,
      "outputs": []
    },
    {
      "cell_type": "code",
      "source": [
        "varcoC_reading = computeVarcoC(reading_consonants, deltaC_reading)\n",
        "varcoC_interview = computeVarcoC(interview_consonants, deltaC_interview)"
      ],
      "metadata": {
        "id": "i243lIeeqf1n"
      },
      "execution_count": 31,
      "outputs": []
    },
    {
      "cell_type": "code",
      "source": [
        "varcoV_reading = computeVarcoV(reading_vowels, deltaV_reading)\n",
        "varcoV_interview = computeVarcoV(interview_vowels, deltaV_interview)"
      ],
      "metadata": {
        "id": "9aOFKK7MqwIA"
      },
      "execution_count": 32,
      "outputs": []
    },
    {
      "cell_type": "markdown",
      "source": [
        "**Assign to DataFrame**"
      ],
      "metadata": {
        "id": "mUhQ96bRq7fY"
      }
    },
    {
      "cell_type": "code",
      "source": [
        "result_reading[\"BG\"] = np.array(range(1,38))\n",
        "result_reading[\"%V\"] = percV_reading*100\n",
        "result_reading[\"DeltaC\"] = deltaC_reading\n",
        "result_reading[\"DeltaV\"] = deltaV_reading\n",
        "result_reading[\"VarcoC\"] = varcoC_reading*100\n",
        "result_reading[\"VarcoV\"] = varcoV_reading*100"
      ],
      "metadata": {
        "id": "1yPZyxcaq-fI"
      },
      "execution_count": 60,
      "outputs": []
    },
    {
      "cell_type": "code",
      "source": [
        "result_interview[\"BG\"] = np.array(range(1,226))\n",
        "result_interview[\"%V\"] = percV_interview*100\n",
        "result_interview[\"DeltaC\"] = deltaC_interview\n",
        "result_interview[\"DeltaV\"] = deltaV_interview\n",
        "result_interview[\"VarcoC\"] = varcoC_interview*100\n",
        "result_interview[\"VarcoV\"] = varcoV_interview*100"
      ],
      "metadata": {
        "id": "UFyLuGREs84p"
      },
      "execution_count": 65,
      "outputs": []
    }
  ]
}