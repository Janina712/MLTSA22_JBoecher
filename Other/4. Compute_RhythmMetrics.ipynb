{
  "nbformat": 4,
  "nbformat_minor": 0,
  "metadata": {
    "colab": {
      "name": "4. Compute_RhythmMetrics.ipynb",
      "provenance": [],
      "collapsed_sections": [],
      "authorship_tag": "ABX9TyMIJZxJFSKtcOc6gp81WXDD",
      "include_colab_link": true
    },
    "kernelspec": {
      "name": "python3",
      "display_name": "Python 3"
    },
    "language_info": {
      "name": "python"
    }
  },
  "cells": [
    {
      "cell_type": "markdown",
      "metadata": {
        "id": "view-in-github",
        "colab_type": "text"
      },
      "source": [
        "<a href=\"https://colab.research.google.com/github/Janina712/MLTSA22_JBoecher/blob/main/Other/4.%20Compute_RhythmMetrics.ipynb\" target=\"_parent\"><img src=\"https://colab.research.google.com/assets/colab-badge.svg\" alt=\"Open In Colab\"/></a>"
      ]
    },
    {
      "cell_type": "markdown",
      "source": [
        "**0. Imports & Set-Up**"
      ],
      "metadata": {
        "id": "LwZVbxjDkKB9"
      }
    },
    {
      "cell_type": "code",
      "execution_count": 76,
      "metadata": {
        "id": "vP_zg8dRjLgp"
      },
      "outputs": [],
      "source": [
        "import pandas as pd\n",
        "import numpy as np\n",
        "import os\n",
        "import plotly.graph_objects as go\n",
        "import matplotlib.pyplot as plt\n",
        "import warnings\n",
        "warnings.filterwarnings('ignore')"
      ]
    },
    {
      "cell_type": "code",
      "source": [
        "from google.colab import drive\n",
        "drive.mount(\"/content/gdrive\")"
      ],
      "metadata": {
        "colab": {
          "base_uri": "https://localhost:8080/"
        },
        "id": "X6QnqvpWjeEF",
        "outputId": "7bb7cd08-9809-40fa-c2d8-015e7daec1ed"
      },
      "execution_count": 2,
      "outputs": [
        {
          "output_type": "stream",
          "name": "stdout",
          "text": [
            "Drive already mounted at /content/gdrive; to attempt to forcibly remount, call drive.mount(\"/content/gdrive\", force_remount=True).\n"
          ]
        }
      ]
    },
    {
      "cell_type": "code",
      "source": [
        "%cd /content/gdrive/MyDrive/RhythmAnalysisPipeline/3.MLU_Matched/"
      ],
      "metadata": {
        "colab": {
          "base_uri": "https://localhost:8080/"
        },
        "id": "p5RXvbrQjj_d",
        "outputId": "9ab7be50-5a5d-45b6-85c7-846657a80182"
      },
      "execution_count": 3,
      "outputs": [
        {
          "output_type": "stream",
          "name": "stdout",
          "text": [
            "/content/gdrive/MyDrive/RhythmAnalysisPipeline/3.MLU_Matched\n"
          ]
        }
      ]
    },
    {
      "cell_type": "code",
      "source": [
        "reading_vowels = pd.read_excel(\"reading_TextGrid_comb_BG_vowelsMatched.xlsx\")\n",
        "interview_vowels = pd.read_excel(\"interview_TextGrid_comb_BG_vowelsMatched.xlsx\")\n",
        "reading_consonants = pd.read_excel(\"reading_TextGrid_comb_BG_consonantsMatched.xlsx\")\n",
        "interview_consonants = pd.read_excel(\"interview_TextGrid_comb_BG_consonantsMatched.xlsx\")"
      ],
      "metadata": {
        "id": "38VyuR1DjrON"
      },
      "execution_count": 4,
      "outputs": []
    },
    {
      "cell_type": "code",
      "source": [
        "result_reading_pws = pd.DataFrame(columns = [\"ID\",\"nPVI\", \"rPVI\",\"%V\",\"DeltaC\", \"DeltaV\", \"VarcoC\", \"VarcoV\"])\n",
        "result_interview_pws = pd.DataFrame(columns = [\"ID\",\"nPVI\", \"rPVI\",\"%V\",\"DeltaC\", \"DeltaV\", \"VarcoC\", \"VarcoV\"])\n",
        "result_reading_control = pd.DataFrame(columns = [\"ID\",\"nPVI\",\"rPVI\",\"%V\",\"DeltaC\", \"DeltaV\", \"VarcoC\", \"VarcoV\"])\n",
        "result_interview_control = pd.DataFrame(columns = [\"ID\",\"nPVI\",\"rPVI\",\"%V\",\"DeltaC\", \"DeltaV\", \"VarcoC\", \"VarcoV\"])"
      ],
      "metadata": {
        "id": "ZSE8K0-ajkrl"
      },
      "execution_count": 5,
      "outputs": []
    },
    {
      "cell_type": "code",
      "source": [
        "pws_IDs = ['24fa', '24ma', '24mb', '26f', '29ma', '29mb', '29mc', '32m', '34m', '35mb', '46ma', '50fa', '50fb', '54f', '57m', '60m', '62f', '62m']"
      ],
      "metadata": {
        "id": "b2KIt8k-ryUo"
      },
      "execution_count": 6,
      "outputs": []
    },
    {
      "cell_type": "code",
      "source": [
        "control_IDs = ['C10_KS', 'C11_NP', 'C12_CC', 'C13_RG','C1_DS', 'C2_JH', 'C3_MD', 'C4_ZO', 'C5_HL', 'C6_LH', 'C7_SH', 'C9_RD']"
      ],
      "metadata": {
        "id": "LnZEfdteVzIa"
      },
      "execution_count": 7,
      "outputs": []
    },
    {
      "cell_type": "code",
      "source": [
        "#set up result path to save along the way\n",
        "%cd /content/gdrive/MyDrive/RhythmAnalysisPipeline/\n",
        "\n",
        "dir = \"4.MetricsResults\"\n",
        "if os.path.exists(dir) == False:\n",
        "  os.mkdir(dir)\n",
        "\n",
        "%cd /content/gdrive/MyDrive/RhythmAnalysisPipeline/4.MetricsResults/"
      ],
      "metadata": {
        "colab": {
          "base_uri": "https://localhost:8080/"
        },
        "id": "ydrih3Yn5bDR",
        "outputId": "e2631e13-fd70-483e-c96f-56ea2e196f99"
      },
      "execution_count": 8,
      "outputs": [
        {
          "output_type": "stream",
          "name": "stdout",
          "text": [
            "/content/gdrive/MyDrive/RhythmAnalysisPipeline\n",
            "/content/gdrive/MyDrive/RhythmAnalysisPipeline/4.MetricsResults\n"
          ]
        }
      ]
    },
    {
      "cell_type": "markdown",
      "source": [
        "# **Define Functions**"
      ],
      "metadata": {
        "id": "4iePNX7ymp2t"
      }
    },
    {
      "cell_type": "code",
      "source": [
        "def split_groups(df):\n",
        "  pws = df[df[\"Group\"] == \"PWS\"]  # get subset of sound dataframe that corresponds to current participant\n",
        "  pws.index = range(len(pws.index)) # reset index\n",
        "  pws.drop(['Unnamed: 0'], axis=1 , inplace = True)\n",
        "  \n",
        "  control = df[df[\"Group\"] == \"Control\"]  # get subset of sound dataframe that corresponds to current participant\n",
        "  control.index = range(len(control.index)) # reset index\n",
        "  control.drop(['Unnamed: 0'], axis=1 , inplace = True)\n",
        "  return(pws, control)"
      ],
      "metadata": {
        "id": "-tMawwcO3Eom"
      },
      "execution_count": 9,
      "outputs": []
    },
    {
      "cell_type": "code",
      "source": [
        "def computenPVI(df_vowels):\n",
        "  participant = []                                                                                                                                                ## group  -\n",
        "  for p in df_vowels[\"ID\"].unique():                                                                                                                              ## participant  --                                                                                                                                            \n",
        "      subset_ID = df_vowels[df_vowels[\"ID\"] == p]  # get subset of sound dataframe that corresponds to current participant\n",
        "      subset_ID.index = range(len(subset_ID.index)) # reset index\n",
        "      breath_group = []\n",
        "      for BG in subset_ID[\"Breath.Group\"].unique():                                                                                                               ## Breath Group  ---\n",
        "        subset_BG = subset_ID[subset_ID[\"Breath.Group\"] == BG]\n",
        "        subset_BG.index = range(len(subset_BG.index)) \n",
        "        sum = 0   \n",
        "        for m in range(1, len(subset_BG)):                                                                                                                        ## vowel            ----\n",
        "          subsum = (subset_BG[\"Duration\"][m-1] - subset_BG[\"Duration\"][m])/((subset_BG[\"Duration\"][m-1] + subset_BG[\"Duration\"][m])/2)\n",
        "          sum = sum + abs(subsum)                                                                                                                                 ## vowel            ----\n",
        "        if len(subset_BG) < 2:                                                                                                                                    ## Breath Group    ---\n",
        "          continue\n",
        "        else:\n",
        "          BG_nPVI = 100 * (sum/(len(subset_BG)-1))\n",
        "          breath_group.append(BG_nPVI)                                                                                                                          \n",
        "      participant.append(breath_group)                                                                                                                            ## participant  --                                                                                                                                    ## group   -\n",
        "  participant = pd.DataFrame(participant)\n",
        "  group = []  \n",
        "  for k in range(0, len(participant)):\n",
        "    participant_avg = participant.iloc[k].mean()\n",
        "    group.append(participant_avg)\n",
        "  group = pd.DataFrame(group, columns = [\"nPVI\"])\n",
        "  return(group)"
      ],
      "metadata": {
        "id": "ji_mZbRLJD2w"
      },
      "execution_count": 10,
      "outputs": []
    },
    {
      "cell_type": "code",
      "source": [
        "def computerPVI(df_consonants):\n",
        "  participant = []                                                                                                                                                ## group  -\n",
        "  for p in df_consonants[\"ID\"].unique():                                                                                                                              ## participant  --                                                                                                                                            \n",
        "      subset_ID = df_consonants[df_consonants[\"ID\"] == p]  # get subset of sound dataframe that corresponds to current participant\n",
        "      subset_ID.index = range(len(subset_ID.index)) # reset index\n",
        "      breath_group = []\n",
        "      for BG in subset_ID[\"Breath.Group\"].unique():                                                                                                               ## Breath Group  ---\n",
        "        subset_BG = subset_ID[subset_ID[\"Breath.Group\"] == BG]\n",
        "        subset_BG.index = range(len(subset_BG.index)) \n",
        "        sum = 0   \n",
        "        for m in range(1, len(subset_BG)):                                                                                                                        ## vowel            ----\n",
        "          subsum = subset_BG[\"Duration\"][m-1] - subset_BG[\"Duration\"][m]\n",
        "          sum = sum + abs(subsum)                                                                                                                                 ## vowel            ----\n",
        "        if len(subset_BG) < 2:                                                                                                                                    ## Breath Group    ---\n",
        "          continue\n",
        "        else:\n",
        "          BG_rPVI = sum/(len(subset_BG)-1)\n",
        "          breath_group.append(BG_rPVI)                                                                                                                          \n",
        "      participant.append(breath_group)                                                                                                                            ## participant  --                                                                                                                                    ## group   -\n",
        "  participant = pd.DataFrame(participant)\n",
        "  group = []  \n",
        "  for k in range(0, len(participant)):\n",
        "    participant_avg = participant.iloc[k].mean()\n",
        "    group.append(participant_avg)\n",
        "  group = pd.DataFrame(group, columns = [\"rPVI\"])\n",
        "  return(group)"
      ],
      "metadata": {
        "id": "FCyM9yDLXrON"
      },
      "execution_count": 11,
      "outputs": []
    },
    {
      "cell_type": "code",
      "source": [
        "def computePercV(df_vowels, df_consonants):\n",
        "  participant = []\n",
        "  for p in df_vowels[\"ID\"].unique():\n",
        "      subset_ID = df_vowels[df_vowels[\"ID\"] == p]  # get subset of sound dataframe that corresponds to current participant\n",
        "      subset_ID.index = range(len(subset_ID.index)) # reset index\n",
        "      numberBG = len(subset_ID[\"Breath.Group\"].unique())\n",
        "      subset_cons = df_consonants[df_consonants[\"ID\"] == p]\n",
        "      subset_cons.index = range(len(subset_cons.index))\n",
        "      Vsums = np.zeros(numberBG)\n",
        "      Csums = np.zeros(numberBG)\n",
        "      for i in range(1,numberBG+1):\n",
        "        for j in range(0, len(subset_ID)):\n",
        "          if subset_ID[\"Breath.Group\"][j] == i:\n",
        "            Vsums[i-1] = Vsums[i-1] + df_vowels[\"Duration\"][j]  \n",
        "      for i in range(1,numberBG+1):\n",
        "        for j in range(0, len(subset_cons)):\n",
        "          if subset_cons[\"Breath.Group\"][j] == i:\n",
        "            Csums[i-1] = Csums[i-1] + subset_cons[\"Duration\"][j] \n",
        "      VCsums = Vsums + Csums\n",
        "      percV = Vsums/VCsums\n",
        "      percV = percV[~np.isnan(percV)]\n",
        "      percV_avg = percV.mean()\n",
        "      participant.append([percV_avg])\n",
        "  participant = pd.DataFrame (participant, columns = ['%V'])  \n",
        "  return(participant)"
      ],
      "metadata": {
        "id": "qda8hfU1Ngbp"
      },
      "execution_count": 12,
      "outputs": []
    },
    {
      "cell_type": "code",
      "source": [
        "def computeDeltaC(df_consonants):\n",
        "  participant = []\n",
        "  for p in df_consonants[\"ID\"].unique():      \n",
        "    subset_ID = df_consonants[df_consonants[\"ID\"] == p]  # get subset of sound dataframe that corresponds to current participant\n",
        "    subset_ID.index = range(len(subset_ID.index)) # reset index\n",
        "    numberBG = len(subset_ID[\"Breath.Group\"].unique())\n",
        "    grouped_cons = df_consonants.groupby(\"Breath.Group\")\n",
        "    grouped_lists = grouped_cons[\"Duration\"].apply(list)\n",
        "    grouped_lists = grouped_lists.reset_index()\n",
        "    deltaC = np.zeros(len(grouped_lists))\n",
        "    for i in range(0,len(grouped_lists)):\n",
        "      deltaC[i] = np.std(grouped_lists[\"Duration\"][i])\n",
        "    deltaC_avg = deltaC.mean()\n",
        "    participant.append([deltaC_avg])\n",
        "  participant = pd.DataFrame (participant, columns = ['DeltaC'])  \n",
        "  return(participant)"
      ],
      "metadata": {
        "id": "yLlTtT43nlaO"
      },
      "execution_count": 13,
      "outputs": []
    },
    {
      "cell_type": "code",
      "source": [
        "def computeDeltaV(df_vowels):\n",
        "    participant = []\n",
        "    for p in df_vowels[\"ID\"].unique():      \n",
        "      subset_ID = df_vowels[df_vowels[\"ID\"] == p]  # get subset of sound dataframe that corresponds to current participant\n",
        "      subset_ID.index = range(len(subset_ID.index)) # reset index\n",
        "      numberBG = len(subset_ID[\"Breath.Group\"].unique())\n",
        "      grouped_vowels = subset_ID.groupby(\"Breath.Group\")\n",
        "      grouped_lists = grouped_vowels[\"Duration\"].apply(list)\n",
        "      grouped_lists = grouped_lists.reset_index()\n",
        "      deltaV = np.zeros(len(grouped_lists))\n",
        "      for i in range(0,len(grouped_lists)):\n",
        "        deltaV[i] = np.std(grouped_lists[\"Duration\"][i])\n",
        "      deltaV_avg = deltaV.mean()\n",
        "      participant.append([deltaV_avg])\n",
        "    participant = pd.DataFrame (participant, columns = ['DeltaV'])  \n",
        "    return(participant)"
      ],
      "metadata": {
        "id": "zfY7v93am2-X"
      },
      "execution_count": 14,
      "outputs": []
    },
    {
      "cell_type": "code",
      "source": [
        "def computeVarcoC(df_consonants, deltaC):\n",
        "    n = -1\n",
        "    participant = []\n",
        "    for p in df_consonants[\"ID\"].unique(): \n",
        "      n = n +1     \n",
        "      subset_ID = df_consonants[df_consonants[\"ID\"] == p]  # get subset of sound dataframe that corresponds to current participant\n",
        "      subset_ID.index = range(len(subset_ID.index)) # reset \n",
        "      numberBG = len(subset_ID[\"Breath.Group\"].unique())\n",
        "      grouped_consonants = subset_ID.groupby(\"Breath.Group\")\n",
        "      grouped_lists = grouped_consonants[\"Duration\"].apply(list)\n",
        "      grouped_lists = grouped_lists.reset_index()\n",
        "      Cavg = np.zeros(len(grouped_lists))\n",
        "      for i in range(0,len(grouped_lists)):\n",
        "        Cavg[i] = np.mean(grouped_lists[\"Duration\"][i])\n",
        "      VarcoC = deltaC[\"DeltaC\"][n]/Cavg\n",
        "      VarcoC_avg = VarcoC.mean()\n",
        "      participant.append([VarcoC_avg])\n",
        "    participant = pd.DataFrame (participant, columns = ['VarcoC'])\n",
        "    return(participant)"
      ],
      "metadata": {
        "id": "FwKR6uw_owNu"
      },
      "execution_count": 15,
      "outputs": []
    },
    {
      "cell_type": "code",
      "source": [
        "def computeVarcoV(df_vowels, deltaV):\n",
        "    n = -1\n",
        "    participant = []\n",
        "    for p in df_vowels[\"ID\"].unique(): \n",
        "      n = n +1     \n",
        "      subset_ID = df_vowels[df_vowels[\"ID\"] == p]  # get subset of sound dataframe that corresponds to current participant\n",
        "      subset_ID.index = range(len(subset_ID.index)) # reset index\n",
        "      numberBG = len(subset_ID[\"Breath.Group\"].unique())\n",
        "      grouped_vowels = subset_ID.groupby(\"Breath.Group\")\n",
        "      grouped_lists = grouped_vowels[\"Duration\"].apply(list)\n",
        "      grouped_lists = grouped_lists.reset_index()\n",
        "      Vavg = np.zeros(len(grouped_lists))\n",
        "      for i in range(0,len(grouped_lists)):       \n",
        "        Vavg[i] = np.mean(grouped_lists[\"Duration\"][i])\n",
        "      VarcoV = deltaV[\"DeltaV\"][n]/Vavg                          \n",
        "      VarcoV_avg = VarcoV.mean()\n",
        "      participant.append([VarcoV_avg]) \n",
        "    participant = pd.DataFrame (participant, columns = ['VarcoV'])\n",
        "    return(participant)"
      ],
      "metadata": {
        "id": "8Gi8TwkNoBRn"
      },
      "execution_count": 16,
      "outputs": []
    },
    {
      "cell_type": "markdown",
      "source": [
        "**Calculate Metrics Using Functions**"
      ],
      "metadata": {
        "id": "bo8dnOG2ppH_"
      }
    },
    {
      "cell_type": "code",
      "source": [
        "reading_vowels_pws, reading_vowels_control = split_groups(reading_vowels)\n",
        "reading_consonants_pws, reading_consonants_control = split_groups(reading_consonants)\n",
        "interview_vowels_pws, interview_vowels_control = split_groups(interview_vowels)\n",
        "interview_consonants_pws, interview_consonants_control = split_groups(interview_consonants)"
      ],
      "metadata": {
        "id": "7pvi2fVX3Hj1"
      },
      "execution_count": 17,
      "outputs": []
    },
    {
      "cell_type": "code",
      "source": [
        "nPVI_reading_pws = computenPVI(reading_vowels_pws)\n",
        "nPVI_reading_control = computenPVI(reading_vowels_control)\n",
        "nPVI_interview_pws = computenPVI(interview_vowels_pws)\n",
        "nPVI_interview_control = computenPVI(interview_vowels_control)"
      ],
      "metadata": {
        "id": "eBRQCOYSkFY8"
      },
      "execution_count": 18,
      "outputs": []
    },
    {
      "cell_type": "code",
      "source": [
        "rPVI_reading_pws = computerPVI(reading_consonants_pws)\n",
        "rPVI_reading_control = computerPVI(reading_consonants_control)\n",
        "rPVI_interview_pws = computerPVI(interview_consonants_pws)\n",
        "rPVI_interview_control = computerPVI(interview_consonants_control)"
      ],
      "metadata": {
        "id": "AQKvkw5rYDzE"
      },
      "execution_count": 19,
      "outputs": []
    },
    {
      "cell_type": "code",
      "source": [
        "percV_reading_pws = computePercV(reading_vowels_pws, reading_consonants_pws)\n",
        "percV_interview_pws = computePercV(interview_vowels_pws, interview_consonants_pws)\n",
        "percV_reading_control = computePercV(reading_vowels_control, reading_consonants_control)\n",
        "percV_interview_control = computePercV(interview_vowels_control, interview_consonants_control)"
      ],
      "metadata": {
        "id": "DgSuLWeupwG3"
      },
      "execution_count": 20,
      "outputs": []
    },
    {
      "cell_type": "code",
      "source": [
        "deltaC_reading_pws = computeDeltaC(reading_consonants_pws)\n",
        "deltaC_interview_pws = computeDeltaC(interview_consonants_pws)\n",
        "deltaC_reading_control = computeDeltaC(reading_consonants_control)\n",
        "deltaC_interview_control = computeDeltaC(interview_consonants_control)"
      ],
      "metadata": {
        "id": "Zs19HNhoqN8J"
      },
      "execution_count": 21,
      "outputs": []
    },
    {
      "cell_type": "code",
      "source": [
        "deltaV_reading_pws = computeDeltaV(reading_vowels_pws)\n",
        "deltaV_interview_pws = computeDeltaV(interview_vowels_pws)\n",
        "deltaV_reading_control = computeDeltaV(reading_vowels_control)\n",
        "deltaV_interview_control = computeDeltaV(interview_vowels_control)"
      ],
      "metadata": {
        "id": "UzSTw1vnpLIn"
      },
      "execution_count": 22,
      "outputs": []
    },
    {
      "cell_type": "code",
      "source": [
        "varcoC_reading_pws = computeVarcoC(reading_consonants_pws, deltaC_reading_pws)\n",
        "varcoC_interview_pws = computeVarcoC(interview_consonants_pws, deltaC_interview_pws)\n",
        "varcoC_reading_control = computeVarcoC(reading_consonants_control, deltaC_reading_control)\n",
        "varcoC_interview_control = computeVarcoC(interview_consonants_control, deltaC_interview_control)"
      ],
      "metadata": {
        "id": "i243lIeeqf1n"
      },
      "execution_count": 23,
      "outputs": []
    },
    {
      "cell_type": "code",
      "source": [
        "varcoV_reading_pws = computeVarcoV(reading_vowels_pws, deltaV_reading_pws)\n",
        "varcoV_interview_pws = computeVarcoV(interview_vowels_pws, deltaV_interview_pws)\n",
        "varcoV_reading_control = computeVarcoV(reading_vowels_control, deltaV_reading_control)\n",
        "varcoV_interview_control = computeVarcoV(interview_vowels_control, deltaV_interview_control)"
      ],
      "metadata": {
        "id": "9aOFKK7MqwIA"
      },
      "execution_count": 24,
      "outputs": []
    },
    {
      "cell_type": "markdown",
      "source": [
        "**Assign to DataFrame**"
      ],
      "metadata": {
        "id": "mUhQ96bRq7fY"
      }
    },
    {
      "cell_type": "code",
      "source": [
        "result_reading_pws[\"ID\"] = pws_IDs\n",
        "result_reading_pws[\"nPVI\"] = nPVI_reading_pws\n",
        "result_reading_pws[\"rPVI\"] = rPVI_reading_pws\n",
        "result_reading_pws[\"%V\"] = percV_reading_pws*100\n",
        "result_reading_pws[\"DeltaC\"] = deltaC_reading_pws\n",
        "result_reading_pws[\"DeltaV\"] = deltaV_reading_pws\n",
        "result_reading_pws[\"VarcoC\"] = varcoC_reading_pws*100\n",
        "result_reading_pws[\"VarcoV\"] = varcoV_reading_pws*100"
      ],
      "metadata": {
        "id": "1yPZyxcaq-fI"
      },
      "execution_count": 25,
      "outputs": []
    },
    {
      "cell_type": "code",
      "source": [
        "result_reading_control[\"ID\"] = control_IDs\n",
        "result_reading_control[\"nPVI\"] = nPVI_reading_control\n",
        "result_reading_control[\"rPVI\"] = rPVI_reading_control\n",
        "result_reading_control[\"%V\"] = percV_reading_control*100\n",
        "result_reading_control[\"DeltaC\"] = deltaC_reading_control\n",
        "result_reading_control[\"DeltaV\"] = deltaV_reading_control\n",
        "result_reading_control[\"VarcoC\"] = varcoC_reading_control*100\n",
        "result_reading_control[\"VarcoV\"] = varcoV_reading_control*100"
      ],
      "metadata": {
        "id": "IPwXcE2e6_RW"
      },
      "execution_count": 26,
      "outputs": []
    },
    {
      "cell_type": "code",
      "source": [
        "result_interview_pws[\"ID\"] = pws_IDs\n",
        "result_interview_pws[\"nPVI\"] = nPVI_interview_pws\n",
        "result_interview_pws[\"rPVI\"] = rPVI_interview_pws\n",
        "result_interview_pws[\"%V\"] = percV_interview_pws*100\n",
        "result_interview_pws[\"DeltaC\"] = deltaC_interview_pws\n",
        "result_interview_pws[\"DeltaV\"] = deltaV_interview_pws\n",
        "result_interview_pws[\"VarcoC\"] = varcoC_interview_pws*100\n",
        "result_interview_pws[\"VarcoV\"] = varcoV_interview_pws*100"
      ],
      "metadata": {
        "id": "UFyLuGREs84p"
      },
      "execution_count": 27,
      "outputs": []
    },
    {
      "cell_type": "code",
      "source": [
        "result_interview_control[\"ID\"] = control_IDs\n",
        "result_interview_control[\"nPVI\"] = nPVI_interview_control\n",
        "result_interview_control[\"rPVI\"] = rPVI_interview_control\n",
        "result_interview_control[\"%V\"] = percV_interview_control*100\n",
        "result_interview_control[\"DeltaC\"] = deltaC_interview_control\n",
        "result_interview_control[\"DeltaV\"] = deltaV_interview_control\n",
        "result_interview_control[\"VarcoC\"] = varcoC_interview_control*100\n",
        "result_interview_control[\"VarcoV\"] = varcoV_interview_control*100"
      ],
      "metadata": {
        "id": "TgWZDY-Z7Pfv"
      },
      "execution_count": 28,
      "outputs": []
    },
    {
      "cell_type": "code",
      "source": [
        "# there are more consonants in BG than there are vowels, there are in general more even in the unmatched version... how should I match to maintain the same ratio??"
      ],
      "metadata": {
        "id": "EsYqsRvz74TA"
      },
      "execution_count": 29,
      "outputs": []
    },
    {
      "cell_type": "markdown",
      "source": [
        "**Show DataFrames**"
      ],
      "metadata": {
        "id": "J0uAe3KT08DL"
      }
    },
    {
      "cell_type": "code",
      "source": [
        "result_reading_pws"
      ],
      "metadata": {
        "colab": {
          "base_uri": "https://localhost:8080/",
          "height": 613
        },
        "id": "2qWRJFL5lmKB",
        "outputId": "6a37a485-0328-46ee-dc7b-d78da66d9ead"
      },
      "execution_count": 30,
      "outputs": [
        {
          "output_type": "execute_result",
          "data": {
            "text/plain": [
              "      ID       nPVI      rPVI         %V    DeltaC    DeltaV     VarcoC  \\\n",
              "0   24fa  68.451109  0.040867  45.425207  0.045996  0.043746  72.074429   \n",
              "1   24ma  56.244901  0.047790  45.367347  0.045996  0.038621  72.303049   \n",
              "2   24mb  62.515824  0.047333  43.679241  0.045996  0.041213  66.648177   \n",
              "3    26f  63.543207  0.036699  46.915367  0.045996  0.040061  73.927002   \n",
              "4   29ma  61.064937  0.047411  44.353977  0.045996  0.039632  67.948609   \n",
              "5   29mb  61.328705  0.056544  38.581889  0.045996  0.046813  55.125410   \n",
              "6   29mc  72.471848  0.054926  41.107651  0.045996  0.054043  58.409165   \n",
              "7    32m  67.718258  0.055493  40.619200  0.045996  0.053951  61.819218   \n",
              "8    34m  66.720929  0.058031  38.575623  0.045996  0.065452  55.523401   \n",
              "9   35mb  69.634709  0.075050  41.799266  0.045996  0.064418  57.920256   \n",
              "10  46ma  67.097556  0.047504  43.649656  0.045996  0.044825  65.325578   \n",
              "11  50fa  64.809082  0.045914  42.340965  0.045996  0.041768  62.241386   \n",
              "12  50fb  66.131955  0.061836  35.915440  0.045996  0.074533  49.819123   \n",
              "13   54f  70.336261  0.061271  36.879402  0.045996  0.064759  48.065803   \n",
              "14   57m  70.394683  0.051145  41.365577  0.045996  0.053448  56.768131   \n",
              "15   60m  71.795742  0.066536  41.679321  0.045996  0.058385  61.358731   \n",
              "16   62f  73.011320  0.052048  41.441711  0.045996  0.055412  59.798151   \n",
              "17   62m  68.127520  0.043300  45.701244  0.045996  0.039643  70.145262   \n",
              "\n",
              "       VarcoV  \n",
              "0   55.265193  \n",
              "1   51.936642  \n",
              "2   58.237356  \n",
              "3   52.096248  \n",
              "4   53.869740  \n",
              "5   49.863456  \n",
              "6   58.598630  \n",
              "7   69.020309  \n",
              "8   59.964911  \n",
              "9   57.159228  \n",
              "10  58.423391  \n",
              "11  55.836120  \n",
              "12  56.316422  \n",
              "13  52.812121  \n",
              "14  62.487079  \n",
              "15  62.673241  \n",
              "16  62.223670  \n",
              "17  62.714989  "
            ],
            "text/html": [
              "\n",
              "  <div id=\"df-398e4064-21ad-46b9-8fba-df74c04695cd\">\n",
              "    <div class=\"colab-df-container\">\n",
              "      <div>\n",
              "<style scoped>\n",
              "    .dataframe tbody tr th:only-of-type {\n",
              "        vertical-align: middle;\n",
              "    }\n",
              "\n",
              "    .dataframe tbody tr th {\n",
              "        vertical-align: top;\n",
              "    }\n",
              "\n",
              "    .dataframe thead th {\n",
              "        text-align: right;\n",
              "    }\n",
              "</style>\n",
              "<table border=\"1\" class=\"dataframe\">\n",
              "  <thead>\n",
              "    <tr style=\"text-align: right;\">\n",
              "      <th></th>\n",
              "      <th>ID</th>\n",
              "      <th>nPVI</th>\n",
              "      <th>rPVI</th>\n",
              "      <th>%V</th>\n",
              "      <th>DeltaC</th>\n",
              "      <th>DeltaV</th>\n",
              "      <th>VarcoC</th>\n",
              "      <th>VarcoV</th>\n",
              "    </tr>\n",
              "  </thead>\n",
              "  <tbody>\n",
              "    <tr>\n",
              "      <th>0</th>\n",
              "      <td>24fa</td>\n",
              "      <td>68.451109</td>\n",
              "      <td>0.040867</td>\n",
              "      <td>45.425207</td>\n",
              "      <td>0.045996</td>\n",
              "      <td>0.043746</td>\n",
              "      <td>72.074429</td>\n",
              "      <td>55.265193</td>\n",
              "    </tr>\n",
              "    <tr>\n",
              "      <th>1</th>\n",
              "      <td>24ma</td>\n",
              "      <td>56.244901</td>\n",
              "      <td>0.047790</td>\n",
              "      <td>45.367347</td>\n",
              "      <td>0.045996</td>\n",
              "      <td>0.038621</td>\n",
              "      <td>72.303049</td>\n",
              "      <td>51.936642</td>\n",
              "    </tr>\n",
              "    <tr>\n",
              "      <th>2</th>\n",
              "      <td>24mb</td>\n",
              "      <td>62.515824</td>\n",
              "      <td>0.047333</td>\n",
              "      <td>43.679241</td>\n",
              "      <td>0.045996</td>\n",
              "      <td>0.041213</td>\n",
              "      <td>66.648177</td>\n",
              "      <td>58.237356</td>\n",
              "    </tr>\n",
              "    <tr>\n",
              "      <th>3</th>\n",
              "      <td>26f</td>\n",
              "      <td>63.543207</td>\n",
              "      <td>0.036699</td>\n",
              "      <td>46.915367</td>\n",
              "      <td>0.045996</td>\n",
              "      <td>0.040061</td>\n",
              "      <td>73.927002</td>\n",
              "      <td>52.096248</td>\n",
              "    </tr>\n",
              "    <tr>\n",
              "      <th>4</th>\n",
              "      <td>29ma</td>\n",
              "      <td>61.064937</td>\n",
              "      <td>0.047411</td>\n",
              "      <td>44.353977</td>\n",
              "      <td>0.045996</td>\n",
              "      <td>0.039632</td>\n",
              "      <td>67.948609</td>\n",
              "      <td>53.869740</td>\n",
              "    </tr>\n",
              "    <tr>\n",
              "      <th>5</th>\n",
              "      <td>29mb</td>\n",
              "      <td>61.328705</td>\n",
              "      <td>0.056544</td>\n",
              "      <td>38.581889</td>\n",
              "      <td>0.045996</td>\n",
              "      <td>0.046813</td>\n",
              "      <td>55.125410</td>\n",
              "      <td>49.863456</td>\n",
              "    </tr>\n",
              "    <tr>\n",
              "      <th>6</th>\n",
              "      <td>29mc</td>\n",
              "      <td>72.471848</td>\n",
              "      <td>0.054926</td>\n",
              "      <td>41.107651</td>\n",
              "      <td>0.045996</td>\n",
              "      <td>0.054043</td>\n",
              "      <td>58.409165</td>\n",
              "      <td>58.598630</td>\n",
              "    </tr>\n",
              "    <tr>\n",
              "      <th>7</th>\n",
              "      <td>32m</td>\n",
              "      <td>67.718258</td>\n",
              "      <td>0.055493</td>\n",
              "      <td>40.619200</td>\n",
              "      <td>0.045996</td>\n",
              "      <td>0.053951</td>\n",
              "      <td>61.819218</td>\n",
              "      <td>69.020309</td>\n",
              "    </tr>\n",
              "    <tr>\n",
              "      <th>8</th>\n",
              "      <td>34m</td>\n",
              "      <td>66.720929</td>\n",
              "      <td>0.058031</td>\n",
              "      <td>38.575623</td>\n",
              "      <td>0.045996</td>\n",
              "      <td>0.065452</td>\n",
              "      <td>55.523401</td>\n",
              "      <td>59.964911</td>\n",
              "    </tr>\n",
              "    <tr>\n",
              "      <th>9</th>\n",
              "      <td>35mb</td>\n",
              "      <td>69.634709</td>\n",
              "      <td>0.075050</td>\n",
              "      <td>41.799266</td>\n",
              "      <td>0.045996</td>\n",
              "      <td>0.064418</td>\n",
              "      <td>57.920256</td>\n",
              "      <td>57.159228</td>\n",
              "    </tr>\n",
              "    <tr>\n",
              "      <th>10</th>\n",
              "      <td>46ma</td>\n",
              "      <td>67.097556</td>\n",
              "      <td>0.047504</td>\n",
              "      <td>43.649656</td>\n",
              "      <td>0.045996</td>\n",
              "      <td>0.044825</td>\n",
              "      <td>65.325578</td>\n",
              "      <td>58.423391</td>\n",
              "    </tr>\n",
              "    <tr>\n",
              "      <th>11</th>\n",
              "      <td>50fa</td>\n",
              "      <td>64.809082</td>\n",
              "      <td>0.045914</td>\n",
              "      <td>42.340965</td>\n",
              "      <td>0.045996</td>\n",
              "      <td>0.041768</td>\n",
              "      <td>62.241386</td>\n",
              "      <td>55.836120</td>\n",
              "    </tr>\n",
              "    <tr>\n",
              "      <th>12</th>\n",
              "      <td>50fb</td>\n",
              "      <td>66.131955</td>\n",
              "      <td>0.061836</td>\n",
              "      <td>35.915440</td>\n",
              "      <td>0.045996</td>\n",
              "      <td>0.074533</td>\n",
              "      <td>49.819123</td>\n",
              "      <td>56.316422</td>\n",
              "    </tr>\n",
              "    <tr>\n",
              "      <th>13</th>\n",
              "      <td>54f</td>\n",
              "      <td>70.336261</td>\n",
              "      <td>0.061271</td>\n",
              "      <td>36.879402</td>\n",
              "      <td>0.045996</td>\n",
              "      <td>0.064759</td>\n",
              "      <td>48.065803</td>\n",
              "      <td>52.812121</td>\n",
              "    </tr>\n",
              "    <tr>\n",
              "      <th>14</th>\n",
              "      <td>57m</td>\n",
              "      <td>70.394683</td>\n",
              "      <td>0.051145</td>\n",
              "      <td>41.365577</td>\n",
              "      <td>0.045996</td>\n",
              "      <td>0.053448</td>\n",
              "      <td>56.768131</td>\n",
              "      <td>62.487079</td>\n",
              "    </tr>\n",
              "    <tr>\n",
              "      <th>15</th>\n",
              "      <td>60m</td>\n",
              "      <td>71.795742</td>\n",
              "      <td>0.066536</td>\n",
              "      <td>41.679321</td>\n",
              "      <td>0.045996</td>\n",
              "      <td>0.058385</td>\n",
              "      <td>61.358731</td>\n",
              "      <td>62.673241</td>\n",
              "    </tr>\n",
              "    <tr>\n",
              "      <th>16</th>\n",
              "      <td>62f</td>\n",
              "      <td>73.011320</td>\n",
              "      <td>0.052048</td>\n",
              "      <td>41.441711</td>\n",
              "      <td>0.045996</td>\n",
              "      <td>0.055412</td>\n",
              "      <td>59.798151</td>\n",
              "      <td>62.223670</td>\n",
              "    </tr>\n",
              "    <tr>\n",
              "      <th>17</th>\n",
              "      <td>62m</td>\n",
              "      <td>68.127520</td>\n",
              "      <td>0.043300</td>\n",
              "      <td>45.701244</td>\n",
              "      <td>0.045996</td>\n",
              "      <td>0.039643</td>\n",
              "      <td>70.145262</td>\n",
              "      <td>62.714989</td>\n",
              "    </tr>\n",
              "  </tbody>\n",
              "</table>\n",
              "</div>\n",
              "      <button class=\"colab-df-convert\" onclick=\"convertToInteractive('df-398e4064-21ad-46b9-8fba-df74c04695cd')\"\n",
              "              title=\"Convert this dataframe to an interactive table.\"\n",
              "              style=\"display:none;\">\n",
              "        \n",
              "  <svg xmlns=\"http://www.w3.org/2000/svg\" height=\"24px\"viewBox=\"0 0 24 24\"\n",
              "       width=\"24px\">\n",
              "    <path d=\"M0 0h24v24H0V0z\" fill=\"none\"/>\n",
              "    <path d=\"M18.56 5.44l.94 2.06.94-2.06 2.06-.94-2.06-.94-.94-2.06-.94 2.06-2.06.94zm-11 1L8.5 8.5l.94-2.06 2.06-.94-2.06-.94L8.5 2.5l-.94 2.06-2.06.94zm10 10l.94 2.06.94-2.06 2.06-.94-2.06-.94-.94-2.06-.94 2.06-2.06.94z\"/><path d=\"M17.41 7.96l-1.37-1.37c-.4-.4-.92-.59-1.43-.59-.52 0-1.04.2-1.43.59L10.3 9.45l-7.72 7.72c-.78.78-.78 2.05 0 2.83L4 21.41c.39.39.9.59 1.41.59.51 0 1.02-.2 1.41-.59l7.78-7.78 2.81-2.81c.8-.78.8-2.07 0-2.86zM5.41 20L4 18.59l7.72-7.72 1.47 1.35L5.41 20z\"/>\n",
              "  </svg>\n",
              "      </button>\n",
              "      \n",
              "  <style>\n",
              "    .colab-df-container {\n",
              "      display:flex;\n",
              "      flex-wrap:wrap;\n",
              "      gap: 12px;\n",
              "    }\n",
              "\n",
              "    .colab-df-convert {\n",
              "      background-color: #E8F0FE;\n",
              "      border: none;\n",
              "      border-radius: 50%;\n",
              "      cursor: pointer;\n",
              "      display: none;\n",
              "      fill: #1967D2;\n",
              "      height: 32px;\n",
              "      padding: 0 0 0 0;\n",
              "      width: 32px;\n",
              "    }\n",
              "\n",
              "    .colab-df-convert:hover {\n",
              "      background-color: #E2EBFA;\n",
              "      box-shadow: 0px 1px 2px rgba(60, 64, 67, 0.3), 0px 1px 3px 1px rgba(60, 64, 67, 0.15);\n",
              "      fill: #174EA6;\n",
              "    }\n",
              "\n",
              "    [theme=dark] .colab-df-convert {\n",
              "      background-color: #3B4455;\n",
              "      fill: #D2E3FC;\n",
              "    }\n",
              "\n",
              "    [theme=dark] .colab-df-convert:hover {\n",
              "      background-color: #434B5C;\n",
              "      box-shadow: 0px 1px 3px 1px rgba(0, 0, 0, 0.15);\n",
              "      filter: drop-shadow(0px 1px 2px rgba(0, 0, 0, 0.3));\n",
              "      fill: #FFFFFF;\n",
              "    }\n",
              "  </style>\n",
              "\n",
              "      <script>\n",
              "        const buttonEl =\n",
              "          document.querySelector('#df-398e4064-21ad-46b9-8fba-df74c04695cd button.colab-df-convert');\n",
              "        buttonEl.style.display =\n",
              "          google.colab.kernel.accessAllowed ? 'block' : 'none';\n",
              "\n",
              "        async function convertToInteractive(key) {\n",
              "          const element = document.querySelector('#df-398e4064-21ad-46b9-8fba-df74c04695cd');\n",
              "          const dataTable =\n",
              "            await google.colab.kernel.invokeFunction('convertToInteractive',\n",
              "                                                     [key], {});\n",
              "          if (!dataTable) return;\n",
              "\n",
              "          const docLinkHtml = 'Like what you see? Visit the ' +\n",
              "            '<a target=\"_blank\" href=https://colab.research.google.com/notebooks/data_table.ipynb>data table notebook</a>'\n",
              "            + ' to learn more about interactive tables.';\n",
              "          element.innerHTML = '';\n",
              "          dataTable['output_type'] = 'display_data';\n",
              "          await google.colab.output.renderOutput(dataTable, element);\n",
              "          const docLink = document.createElement('div');\n",
              "          docLink.innerHTML = docLinkHtml;\n",
              "          element.appendChild(docLink);\n",
              "        }\n",
              "      </script>\n",
              "    </div>\n",
              "  </div>\n",
              "  "
            ]
          },
          "metadata": {},
          "execution_count": 30
        }
      ]
    },
    {
      "cell_type": "code",
      "source": [
        "result_reading_control"
      ],
      "metadata": {
        "colab": {
          "base_uri": "https://localhost:8080/",
          "height": 425
        },
        "id": "H4r5EigunBV5",
        "outputId": "956828ad-3448-48d9-cbf8-ba2dda715610"
      },
      "execution_count": 31,
      "outputs": [
        {
          "output_type": "execute_result",
          "data": {
            "text/plain": [
              "        ID       nPVI      rPVI         %V    DeltaC    DeltaV     VarcoC  \\\n",
              "0   C10_KS  64.949198  0.045728  32.669695  0.045387  0.046175  63.609378   \n",
              "1   C11_NP  82.636385  0.065215  41.091396  0.045387  0.059540  58.791132   \n",
              "2   C12_CC  56.912502  0.035876  40.073944  0.045387  0.031332  70.604170   \n",
              "3   C13_RG  64.155347  0.045160  38.610586  0.045387  0.032766  66.621167   \n",
              "4    C1_DS  69.003174  0.055167  25.907373  0.045387  0.055214  52.566149   \n",
              "5    C2_JH  64.069882  0.046594  32.648657  0.045387  0.035811  58.087411   \n",
              "6    C3_MD  56.578940  0.039900  41.543625  0.045387  0.032752  71.199708   \n",
              "7    C4_ZO  63.374134  0.051018  19.428948  0.045387  0.048663  54.521421   \n",
              "8    C5_HL  64.154835  0.041378  31.297586  0.045387  0.032666  68.156575   \n",
              "9    C6_LH  57.846806  0.048429  29.681775  0.045387  0.035362  62.577857   \n",
              "10   C7_SH  53.254450  0.034039  38.198029  0.045387  0.021765  83.451055   \n",
              "11   C9_RD  69.297956  0.053714  31.713657  0.045387  0.051910  56.610986   \n",
              "\n",
              "       VarcoV  \n",
              "0   54.545969  \n",
              "1   63.125359  \n",
              "2   49.535595  \n",
              "3   47.560166  \n",
              "4   55.642177  \n",
              "5   49.451517  \n",
              "6   42.295264  \n",
              "7   58.755969  \n",
              "8   56.897336  \n",
              "9   51.770681  \n",
              "10  41.826788  \n",
              "11  62.377828  "
            ],
            "text/html": [
              "\n",
              "  <div id=\"df-6ac5ec70-ef7a-4059-82d3-a9039e50260d\">\n",
              "    <div class=\"colab-df-container\">\n",
              "      <div>\n",
              "<style scoped>\n",
              "    .dataframe tbody tr th:only-of-type {\n",
              "        vertical-align: middle;\n",
              "    }\n",
              "\n",
              "    .dataframe tbody tr th {\n",
              "        vertical-align: top;\n",
              "    }\n",
              "\n",
              "    .dataframe thead th {\n",
              "        text-align: right;\n",
              "    }\n",
              "</style>\n",
              "<table border=\"1\" class=\"dataframe\">\n",
              "  <thead>\n",
              "    <tr style=\"text-align: right;\">\n",
              "      <th></th>\n",
              "      <th>ID</th>\n",
              "      <th>nPVI</th>\n",
              "      <th>rPVI</th>\n",
              "      <th>%V</th>\n",
              "      <th>DeltaC</th>\n",
              "      <th>DeltaV</th>\n",
              "      <th>VarcoC</th>\n",
              "      <th>VarcoV</th>\n",
              "    </tr>\n",
              "  </thead>\n",
              "  <tbody>\n",
              "    <tr>\n",
              "      <th>0</th>\n",
              "      <td>C10_KS</td>\n",
              "      <td>64.949198</td>\n",
              "      <td>0.045728</td>\n",
              "      <td>32.669695</td>\n",
              "      <td>0.045387</td>\n",
              "      <td>0.046175</td>\n",
              "      <td>63.609378</td>\n",
              "      <td>54.545969</td>\n",
              "    </tr>\n",
              "    <tr>\n",
              "      <th>1</th>\n",
              "      <td>C11_NP</td>\n",
              "      <td>82.636385</td>\n",
              "      <td>0.065215</td>\n",
              "      <td>41.091396</td>\n",
              "      <td>0.045387</td>\n",
              "      <td>0.059540</td>\n",
              "      <td>58.791132</td>\n",
              "      <td>63.125359</td>\n",
              "    </tr>\n",
              "    <tr>\n",
              "      <th>2</th>\n",
              "      <td>C12_CC</td>\n",
              "      <td>56.912502</td>\n",
              "      <td>0.035876</td>\n",
              "      <td>40.073944</td>\n",
              "      <td>0.045387</td>\n",
              "      <td>0.031332</td>\n",
              "      <td>70.604170</td>\n",
              "      <td>49.535595</td>\n",
              "    </tr>\n",
              "    <tr>\n",
              "      <th>3</th>\n",
              "      <td>C13_RG</td>\n",
              "      <td>64.155347</td>\n",
              "      <td>0.045160</td>\n",
              "      <td>38.610586</td>\n",
              "      <td>0.045387</td>\n",
              "      <td>0.032766</td>\n",
              "      <td>66.621167</td>\n",
              "      <td>47.560166</td>\n",
              "    </tr>\n",
              "    <tr>\n",
              "      <th>4</th>\n",
              "      <td>C1_DS</td>\n",
              "      <td>69.003174</td>\n",
              "      <td>0.055167</td>\n",
              "      <td>25.907373</td>\n",
              "      <td>0.045387</td>\n",
              "      <td>0.055214</td>\n",
              "      <td>52.566149</td>\n",
              "      <td>55.642177</td>\n",
              "    </tr>\n",
              "    <tr>\n",
              "      <th>5</th>\n",
              "      <td>C2_JH</td>\n",
              "      <td>64.069882</td>\n",
              "      <td>0.046594</td>\n",
              "      <td>32.648657</td>\n",
              "      <td>0.045387</td>\n",
              "      <td>0.035811</td>\n",
              "      <td>58.087411</td>\n",
              "      <td>49.451517</td>\n",
              "    </tr>\n",
              "    <tr>\n",
              "      <th>6</th>\n",
              "      <td>C3_MD</td>\n",
              "      <td>56.578940</td>\n",
              "      <td>0.039900</td>\n",
              "      <td>41.543625</td>\n",
              "      <td>0.045387</td>\n",
              "      <td>0.032752</td>\n",
              "      <td>71.199708</td>\n",
              "      <td>42.295264</td>\n",
              "    </tr>\n",
              "    <tr>\n",
              "      <th>7</th>\n",
              "      <td>C4_ZO</td>\n",
              "      <td>63.374134</td>\n",
              "      <td>0.051018</td>\n",
              "      <td>19.428948</td>\n",
              "      <td>0.045387</td>\n",
              "      <td>0.048663</td>\n",
              "      <td>54.521421</td>\n",
              "      <td>58.755969</td>\n",
              "    </tr>\n",
              "    <tr>\n",
              "      <th>8</th>\n",
              "      <td>C5_HL</td>\n",
              "      <td>64.154835</td>\n",
              "      <td>0.041378</td>\n",
              "      <td>31.297586</td>\n",
              "      <td>0.045387</td>\n",
              "      <td>0.032666</td>\n",
              "      <td>68.156575</td>\n",
              "      <td>56.897336</td>\n",
              "    </tr>\n",
              "    <tr>\n",
              "      <th>9</th>\n",
              "      <td>C6_LH</td>\n",
              "      <td>57.846806</td>\n",
              "      <td>0.048429</td>\n",
              "      <td>29.681775</td>\n",
              "      <td>0.045387</td>\n",
              "      <td>0.035362</td>\n",
              "      <td>62.577857</td>\n",
              "      <td>51.770681</td>\n",
              "    </tr>\n",
              "    <tr>\n",
              "      <th>10</th>\n",
              "      <td>C7_SH</td>\n",
              "      <td>53.254450</td>\n",
              "      <td>0.034039</td>\n",
              "      <td>38.198029</td>\n",
              "      <td>0.045387</td>\n",
              "      <td>0.021765</td>\n",
              "      <td>83.451055</td>\n",
              "      <td>41.826788</td>\n",
              "    </tr>\n",
              "    <tr>\n",
              "      <th>11</th>\n",
              "      <td>C9_RD</td>\n",
              "      <td>69.297956</td>\n",
              "      <td>0.053714</td>\n",
              "      <td>31.713657</td>\n",
              "      <td>0.045387</td>\n",
              "      <td>0.051910</td>\n",
              "      <td>56.610986</td>\n",
              "      <td>62.377828</td>\n",
              "    </tr>\n",
              "  </tbody>\n",
              "</table>\n",
              "</div>\n",
              "      <button class=\"colab-df-convert\" onclick=\"convertToInteractive('df-6ac5ec70-ef7a-4059-82d3-a9039e50260d')\"\n",
              "              title=\"Convert this dataframe to an interactive table.\"\n",
              "              style=\"display:none;\">\n",
              "        \n",
              "  <svg xmlns=\"http://www.w3.org/2000/svg\" height=\"24px\"viewBox=\"0 0 24 24\"\n",
              "       width=\"24px\">\n",
              "    <path d=\"M0 0h24v24H0V0z\" fill=\"none\"/>\n",
              "    <path d=\"M18.56 5.44l.94 2.06.94-2.06 2.06-.94-2.06-.94-.94-2.06-.94 2.06-2.06.94zm-11 1L8.5 8.5l.94-2.06 2.06-.94-2.06-.94L8.5 2.5l-.94 2.06-2.06.94zm10 10l.94 2.06.94-2.06 2.06-.94-2.06-.94-.94-2.06-.94 2.06-2.06.94z\"/><path d=\"M17.41 7.96l-1.37-1.37c-.4-.4-.92-.59-1.43-.59-.52 0-1.04.2-1.43.59L10.3 9.45l-7.72 7.72c-.78.78-.78 2.05 0 2.83L4 21.41c.39.39.9.59 1.41.59.51 0 1.02-.2 1.41-.59l7.78-7.78 2.81-2.81c.8-.78.8-2.07 0-2.86zM5.41 20L4 18.59l7.72-7.72 1.47 1.35L5.41 20z\"/>\n",
              "  </svg>\n",
              "      </button>\n",
              "      \n",
              "  <style>\n",
              "    .colab-df-container {\n",
              "      display:flex;\n",
              "      flex-wrap:wrap;\n",
              "      gap: 12px;\n",
              "    }\n",
              "\n",
              "    .colab-df-convert {\n",
              "      background-color: #E8F0FE;\n",
              "      border: none;\n",
              "      border-radius: 50%;\n",
              "      cursor: pointer;\n",
              "      display: none;\n",
              "      fill: #1967D2;\n",
              "      height: 32px;\n",
              "      padding: 0 0 0 0;\n",
              "      width: 32px;\n",
              "    }\n",
              "\n",
              "    .colab-df-convert:hover {\n",
              "      background-color: #E2EBFA;\n",
              "      box-shadow: 0px 1px 2px rgba(60, 64, 67, 0.3), 0px 1px 3px 1px rgba(60, 64, 67, 0.15);\n",
              "      fill: #174EA6;\n",
              "    }\n",
              "\n",
              "    [theme=dark] .colab-df-convert {\n",
              "      background-color: #3B4455;\n",
              "      fill: #D2E3FC;\n",
              "    }\n",
              "\n",
              "    [theme=dark] .colab-df-convert:hover {\n",
              "      background-color: #434B5C;\n",
              "      box-shadow: 0px 1px 3px 1px rgba(0, 0, 0, 0.15);\n",
              "      filter: drop-shadow(0px 1px 2px rgba(0, 0, 0, 0.3));\n",
              "      fill: #FFFFFF;\n",
              "    }\n",
              "  </style>\n",
              "\n",
              "      <script>\n",
              "        const buttonEl =\n",
              "          document.querySelector('#df-6ac5ec70-ef7a-4059-82d3-a9039e50260d button.colab-df-convert');\n",
              "        buttonEl.style.display =\n",
              "          google.colab.kernel.accessAllowed ? 'block' : 'none';\n",
              "\n",
              "        async function convertToInteractive(key) {\n",
              "          const element = document.querySelector('#df-6ac5ec70-ef7a-4059-82d3-a9039e50260d');\n",
              "          const dataTable =\n",
              "            await google.colab.kernel.invokeFunction('convertToInteractive',\n",
              "                                                     [key], {});\n",
              "          if (!dataTable) return;\n",
              "\n",
              "          const docLinkHtml = 'Like what you see? Visit the ' +\n",
              "            '<a target=\"_blank\" href=https://colab.research.google.com/notebooks/data_table.ipynb>data table notebook</a>'\n",
              "            + ' to learn more about interactive tables.';\n",
              "          element.innerHTML = '';\n",
              "          dataTable['output_type'] = 'display_data';\n",
              "          await google.colab.output.renderOutput(dataTable, element);\n",
              "          const docLink = document.createElement('div');\n",
              "          docLink.innerHTML = docLinkHtml;\n",
              "          element.appendChild(docLink);\n",
              "        }\n",
              "      </script>\n",
              "    </div>\n",
              "  </div>\n",
              "  "
            ]
          },
          "metadata": {},
          "execution_count": 31
        }
      ]
    },
    {
      "cell_type": "code",
      "source": [
        "result_interview_pws"
      ],
      "metadata": {
        "colab": {
          "base_uri": "https://localhost:8080/",
          "height": 613
        },
        "id": "v4Zz6td6nYNn",
        "outputId": "ac14bbff-10a4-46e4-a0a3-6ced38f7fcf9"
      },
      "execution_count": 32,
      "outputs": [
        {
          "output_type": "execute_result",
          "data": {
            "text/plain": [
              "      ID       nPVI      rPVI         %V    DeltaC    DeltaV     VarcoC  \\\n",
              "0   24fa  69.372607  0.048885  49.570724  0.048629  0.067111  74.523877   \n",
              "1   24ma  72.002933  0.044340  50.662784  0.048629  0.066884  81.792765   \n",
              "2   24mb  58.615977  0.036669  51.681342  0.048629  0.046958  85.317073   \n",
              "3    26f  70.095563  0.046287  49.387630  0.048629  0.074445  75.827535   \n",
              "4   29ma  68.430625  0.048658  45.737597  0.048629  0.058815  73.768228   \n",
              "5   29mb  71.202583  0.047855  49.013192  0.048629  0.055103  71.424750   \n",
              "6   29mc  73.773938  0.044029  50.058325  0.048629  0.059695  75.917428   \n",
              "7    32m  72.976142  0.065689  42.296566  0.048629  0.071339  60.638448   \n",
              "8    34m  66.830960  0.058784  43.036450  0.048629  0.083914  61.824807   \n",
              "9   35mb  70.781323  0.050440  47.288426  0.048629  0.065282  69.632373   \n",
              "10  46ma  71.380257  0.050113  45.577699  0.048629  0.063803  69.895290   \n",
              "11  50fa  62.183813  0.047288  46.077572  0.048629  0.051626  73.422643   \n",
              "12  50fb  69.544281  0.066878  38.405483  0.048629  0.091575  52.464040   \n",
              "13   54f  70.358624  0.056457  43.706610  0.048629  0.061341  59.109833   \n",
              "14   57m  68.750666  0.040009  45.982665  0.048629  0.060321  73.281767   \n",
              "15   60m  70.230799  0.046356  48.608743  0.048629  0.057887  75.563717   \n",
              "16   62f  75.146081  0.064811  43.406249  0.048629  0.074560  57.421424   \n",
              "17   62m  67.562464  0.044744  49.274223  0.048629  0.047073  75.307115   \n",
              "\n",
              "       VarcoV  \n",
              "0   72.540965  \n",
              "1   80.185883  \n",
              "2   68.219909  \n",
              "3   74.155651  \n",
              "4   72.562593  \n",
              "5   60.496115  \n",
              "6   64.135363  \n",
              "7   80.981105  \n",
              "8   79.079475  \n",
              "9   59.877255  \n",
              "10  71.811487  \n",
              "11  67.807128  \n",
              "12  59.619423  \n",
              "13  57.045462  \n",
              "14  73.270828  \n",
              "15  67.548117  \n",
              "16  66.375907  \n",
              "17  65.394722  "
            ],
            "text/html": [
              "\n",
              "  <div id=\"df-198877d5-07ee-43e0-acf2-da1413fe0c42\">\n",
              "    <div class=\"colab-df-container\">\n",
              "      <div>\n",
              "<style scoped>\n",
              "    .dataframe tbody tr th:only-of-type {\n",
              "        vertical-align: middle;\n",
              "    }\n",
              "\n",
              "    .dataframe tbody tr th {\n",
              "        vertical-align: top;\n",
              "    }\n",
              "\n",
              "    .dataframe thead th {\n",
              "        text-align: right;\n",
              "    }\n",
              "</style>\n",
              "<table border=\"1\" class=\"dataframe\">\n",
              "  <thead>\n",
              "    <tr style=\"text-align: right;\">\n",
              "      <th></th>\n",
              "      <th>ID</th>\n",
              "      <th>nPVI</th>\n",
              "      <th>rPVI</th>\n",
              "      <th>%V</th>\n",
              "      <th>DeltaC</th>\n",
              "      <th>DeltaV</th>\n",
              "      <th>VarcoC</th>\n",
              "      <th>VarcoV</th>\n",
              "    </tr>\n",
              "  </thead>\n",
              "  <tbody>\n",
              "    <tr>\n",
              "      <th>0</th>\n",
              "      <td>24fa</td>\n",
              "      <td>69.372607</td>\n",
              "      <td>0.048885</td>\n",
              "      <td>49.570724</td>\n",
              "      <td>0.048629</td>\n",
              "      <td>0.067111</td>\n",
              "      <td>74.523877</td>\n",
              "      <td>72.540965</td>\n",
              "    </tr>\n",
              "    <tr>\n",
              "      <th>1</th>\n",
              "      <td>24ma</td>\n",
              "      <td>72.002933</td>\n",
              "      <td>0.044340</td>\n",
              "      <td>50.662784</td>\n",
              "      <td>0.048629</td>\n",
              "      <td>0.066884</td>\n",
              "      <td>81.792765</td>\n",
              "      <td>80.185883</td>\n",
              "    </tr>\n",
              "    <tr>\n",
              "      <th>2</th>\n",
              "      <td>24mb</td>\n",
              "      <td>58.615977</td>\n",
              "      <td>0.036669</td>\n",
              "      <td>51.681342</td>\n",
              "      <td>0.048629</td>\n",
              "      <td>0.046958</td>\n",
              "      <td>85.317073</td>\n",
              "      <td>68.219909</td>\n",
              "    </tr>\n",
              "    <tr>\n",
              "      <th>3</th>\n",
              "      <td>26f</td>\n",
              "      <td>70.095563</td>\n",
              "      <td>0.046287</td>\n",
              "      <td>49.387630</td>\n",
              "      <td>0.048629</td>\n",
              "      <td>0.074445</td>\n",
              "      <td>75.827535</td>\n",
              "      <td>74.155651</td>\n",
              "    </tr>\n",
              "    <tr>\n",
              "      <th>4</th>\n",
              "      <td>29ma</td>\n",
              "      <td>68.430625</td>\n",
              "      <td>0.048658</td>\n",
              "      <td>45.737597</td>\n",
              "      <td>0.048629</td>\n",
              "      <td>0.058815</td>\n",
              "      <td>73.768228</td>\n",
              "      <td>72.562593</td>\n",
              "    </tr>\n",
              "    <tr>\n",
              "      <th>5</th>\n",
              "      <td>29mb</td>\n",
              "      <td>71.202583</td>\n",
              "      <td>0.047855</td>\n",
              "      <td>49.013192</td>\n",
              "      <td>0.048629</td>\n",
              "      <td>0.055103</td>\n",
              "      <td>71.424750</td>\n",
              "      <td>60.496115</td>\n",
              "    </tr>\n",
              "    <tr>\n",
              "      <th>6</th>\n",
              "      <td>29mc</td>\n",
              "      <td>73.773938</td>\n",
              "      <td>0.044029</td>\n",
              "      <td>50.058325</td>\n",
              "      <td>0.048629</td>\n",
              "      <td>0.059695</td>\n",
              "      <td>75.917428</td>\n",
              "      <td>64.135363</td>\n",
              "    </tr>\n",
              "    <tr>\n",
              "      <th>7</th>\n",
              "      <td>32m</td>\n",
              "      <td>72.976142</td>\n",
              "      <td>0.065689</td>\n",
              "      <td>42.296566</td>\n",
              "      <td>0.048629</td>\n",
              "      <td>0.071339</td>\n",
              "      <td>60.638448</td>\n",
              "      <td>80.981105</td>\n",
              "    </tr>\n",
              "    <tr>\n",
              "      <th>8</th>\n",
              "      <td>34m</td>\n",
              "      <td>66.830960</td>\n",
              "      <td>0.058784</td>\n",
              "      <td>43.036450</td>\n",
              "      <td>0.048629</td>\n",
              "      <td>0.083914</td>\n",
              "      <td>61.824807</td>\n",
              "      <td>79.079475</td>\n",
              "    </tr>\n",
              "    <tr>\n",
              "      <th>9</th>\n",
              "      <td>35mb</td>\n",
              "      <td>70.781323</td>\n",
              "      <td>0.050440</td>\n",
              "      <td>47.288426</td>\n",
              "      <td>0.048629</td>\n",
              "      <td>0.065282</td>\n",
              "      <td>69.632373</td>\n",
              "      <td>59.877255</td>\n",
              "    </tr>\n",
              "    <tr>\n",
              "      <th>10</th>\n",
              "      <td>46ma</td>\n",
              "      <td>71.380257</td>\n",
              "      <td>0.050113</td>\n",
              "      <td>45.577699</td>\n",
              "      <td>0.048629</td>\n",
              "      <td>0.063803</td>\n",
              "      <td>69.895290</td>\n",
              "      <td>71.811487</td>\n",
              "    </tr>\n",
              "    <tr>\n",
              "      <th>11</th>\n",
              "      <td>50fa</td>\n",
              "      <td>62.183813</td>\n",
              "      <td>0.047288</td>\n",
              "      <td>46.077572</td>\n",
              "      <td>0.048629</td>\n",
              "      <td>0.051626</td>\n",
              "      <td>73.422643</td>\n",
              "      <td>67.807128</td>\n",
              "    </tr>\n",
              "    <tr>\n",
              "      <th>12</th>\n",
              "      <td>50fb</td>\n",
              "      <td>69.544281</td>\n",
              "      <td>0.066878</td>\n",
              "      <td>38.405483</td>\n",
              "      <td>0.048629</td>\n",
              "      <td>0.091575</td>\n",
              "      <td>52.464040</td>\n",
              "      <td>59.619423</td>\n",
              "    </tr>\n",
              "    <tr>\n",
              "      <th>13</th>\n",
              "      <td>54f</td>\n",
              "      <td>70.358624</td>\n",
              "      <td>0.056457</td>\n",
              "      <td>43.706610</td>\n",
              "      <td>0.048629</td>\n",
              "      <td>0.061341</td>\n",
              "      <td>59.109833</td>\n",
              "      <td>57.045462</td>\n",
              "    </tr>\n",
              "    <tr>\n",
              "      <th>14</th>\n",
              "      <td>57m</td>\n",
              "      <td>68.750666</td>\n",
              "      <td>0.040009</td>\n",
              "      <td>45.982665</td>\n",
              "      <td>0.048629</td>\n",
              "      <td>0.060321</td>\n",
              "      <td>73.281767</td>\n",
              "      <td>73.270828</td>\n",
              "    </tr>\n",
              "    <tr>\n",
              "      <th>15</th>\n",
              "      <td>60m</td>\n",
              "      <td>70.230799</td>\n",
              "      <td>0.046356</td>\n",
              "      <td>48.608743</td>\n",
              "      <td>0.048629</td>\n",
              "      <td>0.057887</td>\n",
              "      <td>75.563717</td>\n",
              "      <td>67.548117</td>\n",
              "    </tr>\n",
              "    <tr>\n",
              "      <th>16</th>\n",
              "      <td>62f</td>\n",
              "      <td>75.146081</td>\n",
              "      <td>0.064811</td>\n",
              "      <td>43.406249</td>\n",
              "      <td>0.048629</td>\n",
              "      <td>0.074560</td>\n",
              "      <td>57.421424</td>\n",
              "      <td>66.375907</td>\n",
              "    </tr>\n",
              "    <tr>\n",
              "      <th>17</th>\n",
              "      <td>62m</td>\n",
              "      <td>67.562464</td>\n",
              "      <td>0.044744</td>\n",
              "      <td>49.274223</td>\n",
              "      <td>0.048629</td>\n",
              "      <td>0.047073</td>\n",
              "      <td>75.307115</td>\n",
              "      <td>65.394722</td>\n",
              "    </tr>\n",
              "  </tbody>\n",
              "</table>\n",
              "</div>\n",
              "      <button class=\"colab-df-convert\" onclick=\"convertToInteractive('df-198877d5-07ee-43e0-acf2-da1413fe0c42')\"\n",
              "              title=\"Convert this dataframe to an interactive table.\"\n",
              "              style=\"display:none;\">\n",
              "        \n",
              "  <svg xmlns=\"http://www.w3.org/2000/svg\" height=\"24px\"viewBox=\"0 0 24 24\"\n",
              "       width=\"24px\">\n",
              "    <path d=\"M0 0h24v24H0V0z\" fill=\"none\"/>\n",
              "    <path d=\"M18.56 5.44l.94 2.06.94-2.06 2.06-.94-2.06-.94-.94-2.06-.94 2.06-2.06.94zm-11 1L8.5 8.5l.94-2.06 2.06-.94-2.06-.94L8.5 2.5l-.94 2.06-2.06.94zm10 10l.94 2.06.94-2.06 2.06-.94-2.06-.94-.94-2.06-.94 2.06-2.06.94z\"/><path d=\"M17.41 7.96l-1.37-1.37c-.4-.4-.92-.59-1.43-.59-.52 0-1.04.2-1.43.59L10.3 9.45l-7.72 7.72c-.78.78-.78 2.05 0 2.83L4 21.41c.39.39.9.59 1.41.59.51 0 1.02-.2 1.41-.59l7.78-7.78 2.81-2.81c.8-.78.8-2.07 0-2.86zM5.41 20L4 18.59l7.72-7.72 1.47 1.35L5.41 20z\"/>\n",
              "  </svg>\n",
              "      </button>\n",
              "      \n",
              "  <style>\n",
              "    .colab-df-container {\n",
              "      display:flex;\n",
              "      flex-wrap:wrap;\n",
              "      gap: 12px;\n",
              "    }\n",
              "\n",
              "    .colab-df-convert {\n",
              "      background-color: #E8F0FE;\n",
              "      border: none;\n",
              "      border-radius: 50%;\n",
              "      cursor: pointer;\n",
              "      display: none;\n",
              "      fill: #1967D2;\n",
              "      height: 32px;\n",
              "      padding: 0 0 0 0;\n",
              "      width: 32px;\n",
              "    }\n",
              "\n",
              "    .colab-df-convert:hover {\n",
              "      background-color: #E2EBFA;\n",
              "      box-shadow: 0px 1px 2px rgba(60, 64, 67, 0.3), 0px 1px 3px 1px rgba(60, 64, 67, 0.15);\n",
              "      fill: #174EA6;\n",
              "    }\n",
              "\n",
              "    [theme=dark] .colab-df-convert {\n",
              "      background-color: #3B4455;\n",
              "      fill: #D2E3FC;\n",
              "    }\n",
              "\n",
              "    [theme=dark] .colab-df-convert:hover {\n",
              "      background-color: #434B5C;\n",
              "      box-shadow: 0px 1px 3px 1px rgba(0, 0, 0, 0.15);\n",
              "      filter: drop-shadow(0px 1px 2px rgba(0, 0, 0, 0.3));\n",
              "      fill: #FFFFFF;\n",
              "    }\n",
              "  </style>\n",
              "\n",
              "      <script>\n",
              "        const buttonEl =\n",
              "          document.querySelector('#df-198877d5-07ee-43e0-acf2-da1413fe0c42 button.colab-df-convert');\n",
              "        buttonEl.style.display =\n",
              "          google.colab.kernel.accessAllowed ? 'block' : 'none';\n",
              "\n",
              "        async function convertToInteractive(key) {\n",
              "          const element = document.querySelector('#df-198877d5-07ee-43e0-acf2-da1413fe0c42');\n",
              "          const dataTable =\n",
              "            await google.colab.kernel.invokeFunction('convertToInteractive',\n",
              "                                                     [key], {});\n",
              "          if (!dataTable) return;\n",
              "\n",
              "          const docLinkHtml = 'Like what you see? Visit the ' +\n",
              "            '<a target=\"_blank\" href=https://colab.research.google.com/notebooks/data_table.ipynb>data table notebook</a>'\n",
              "            + ' to learn more about interactive tables.';\n",
              "          element.innerHTML = '';\n",
              "          dataTable['output_type'] = 'display_data';\n",
              "          await google.colab.output.renderOutput(dataTable, element);\n",
              "          const docLink = document.createElement('div');\n",
              "          docLink.innerHTML = docLinkHtml;\n",
              "          element.appendChild(docLink);\n",
              "        }\n",
              "      </script>\n",
              "    </div>\n",
              "  </div>\n",
              "  "
            ]
          },
          "metadata": {},
          "execution_count": 32
        }
      ]
    },
    {
      "cell_type": "code",
      "source": [
        "result_interview_control"
      ],
      "metadata": {
        "colab": {
          "base_uri": "https://localhost:8080/",
          "height": 425
        },
        "id": "LTKMQibmn5JE",
        "outputId": "92b93980-2141-46b1-e091-1d2d60bf86e7"
      },
      "execution_count": 33,
      "outputs": [
        {
          "output_type": "execute_result",
          "data": {
            "text/plain": [
              "        ID       nPVI      rPVI         %V    DeltaC    DeltaV     VarcoC  \\\n",
              "0   C10_KS  74.557969  0.049636  36.581696  0.052431  0.054609  79.847721   \n",
              "1   C11_NP  64.705013  0.061304  36.600765  0.052431  0.060758  76.495983   \n",
              "2   C12_CC  65.791414  0.049120  37.730557  0.052431  0.043776  74.951499   \n",
              "3   C13_RG  74.022174  0.053236        NaN  0.052431  0.056234  79.956352   \n",
              "4    C1_DS  65.920588  0.071262  35.974573  0.052431  0.062606  58.774159   \n",
              "5    C2_JH  70.541950  0.056389  36.975485  0.052431  0.065757  76.190449   \n",
              "6    C3_MD  70.745756  0.045826  39.607417  0.052431  0.049055  81.248022   \n",
              "7    C4_ZO  81.744175  0.079380  29.762244  0.052431  0.090615  64.532957   \n",
              "8    C5_HL  60.716428  0.048709  42.664266  0.052431  0.048755  74.905096   \n",
              "9    C6_LH  70.191392  0.048921  36.806171  0.052431  0.051750  77.615783   \n",
              "10   C7_SH  51.350275  0.038529  41.530652  0.052431  0.030919  96.046383   \n",
              "11   C9_RD  64.077425  0.056185  36.319594  0.052431  0.039906  68.410285   \n",
              "\n",
              "        VarcoV  \n",
              "0    64.301177  \n",
              "1    70.042937  \n",
              "2    57.249669  \n",
              "3    67.546742  \n",
              "4    76.481932  \n",
              "5    64.296827  \n",
              "6    59.850615  \n",
              "7   106.954708  \n",
              "8    66.498862  \n",
              "9    69.089020  \n",
              "10   58.431547  \n",
              "11   50.944727  "
            ],
            "text/html": [
              "\n",
              "  <div id=\"df-a18dc62a-46c1-4cdd-83d5-0c4049c5556f\">\n",
              "    <div class=\"colab-df-container\">\n",
              "      <div>\n",
              "<style scoped>\n",
              "    .dataframe tbody tr th:only-of-type {\n",
              "        vertical-align: middle;\n",
              "    }\n",
              "\n",
              "    .dataframe tbody tr th {\n",
              "        vertical-align: top;\n",
              "    }\n",
              "\n",
              "    .dataframe thead th {\n",
              "        text-align: right;\n",
              "    }\n",
              "</style>\n",
              "<table border=\"1\" class=\"dataframe\">\n",
              "  <thead>\n",
              "    <tr style=\"text-align: right;\">\n",
              "      <th></th>\n",
              "      <th>ID</th>\n",
              "      <th>nPVI</th>\n",
              "      <th>rPVI</th>\n",
              "      <th>%V</th>\n",
              "      <th>DeltaC</th>\n",
              "      <th>DeltaV</th>\n",
              "      <th>VarcoC</th>\n",
              "      <th>VarcoV</th>\n",
              "    </tr>\n",
              "  </thead>\n",
              "  <tbody>\n",
              "    <tr>\n",
              "      <th>0</th>\n",
              "      <td>C10_KS</td>\n",
              "      <td>74.557969</td>\n",
              "      <td>0.049636</td>\n",
              "      <td>36.581696</td>\n",
              "      <td>0.052431</td>\n",
              "      <td>0.054609</td>\n",
              "      <td>79.847721</td>\n",
              "      <td>64.301177</td>\n",
              "    </tr>\n",
              "    <tr>\n",
              "      <th>1</th>\n",
              "      <td>C11_NP</td>\n",
              "      <td>64.705013</td>\n",
              "      <td>0.061304</td>\n",
              "      <td>36.600765</td>\n",
              "      <td>0.052431</td>\n",
              "      <td>0.060758</td>\n",
              "      <td>76.495983</td>\n",
              "      <td>70.042937</td>\n",
              "    </tr>\n",
              "    <tr>\n",
              "      <th>2</th>\n",
              "      <td>C12_CC</td>\n",
              "      <td>65.791414</td>\n",
              "      <td>0.049120</td>\n",
              "      <td>37.730557</td>\n",
              "      <td>0.052431</td>\n",
              "      <td>0.043776</td>\n",
              "      <td>74.951499</td>\n",
              "      <td>57.249669</td>\n",
              "    </tr>\n",
              "    <tr>\n",
              "      <th>3</th>\n",
              "      <td>C13_RG</td>\n",
              "      <td>74.022174</td>\n",
              "      <td>0.053236</td>\n",
              "      <td>NaN</td>\n",
              "      <td>0.052431</td>\n",
              "      <td>0.056234</td>\n",
              "      <td>79.956352</td>\n",
              "      <td>67.546742</td>\n",
              "    </tr>\n",
              "    <tr>\n",
              "      <th>4</th>\n",
              "      <td>C1_DS</td>\n",
              "      <td>65.920588</td>\n",
              "      <td>0.071262</td>\n",
              "      <td>35.974573</td>\n",
              "      <td>0.052431</td>\n",
              "      <td>0.062606</td>\n",
              "      <td>58.774159</td>\n",
              "      <td>76.481932</td>\n",
              "    </tr>\n",
              "    <tr>\n",
              "      <th>5</th>\n",
              "      <td>C2_JH</td>\n",
              "      <td>70.541950</td>\n",
              "      <td>0.056389</td>\n",
              "      <td>36.975485</td>\n",
              "      <td>0.052431</td>\n",
              "      <td>0.065757</td>\n",
              "      <td>76.190449</td>\n",
              "      <td>64.296827</td>\n",
              "    </tr>\n",
              "    <tr>\n",
              "      <th>6</th>\n",
              "      <td>C3_MD</td>\n",
              "      <td>70.745756</td>\n",
              "      <td>0.045826</td>\n",
              "      <td>39.607417</td>\n",
              "      <td>0.052431</td>\n",
              "      <td>0.049055</td>\n",
              "      <td>81.248022</td>\n",
              "      <td>59.850615</td>\n",
              "    </tr>\n",
              "    <tr>\n",
              "      <th>7</th>\n",
              "      <td>C4_ZO</td>\n",
              "      <td>81.744175</td>\n",
              "      <td>0.079380</td>\n",
              "      <td>29.762244</td>\n",
              "      <td>0.052431</td>\n",
              "      <td>0.090615</td>\n",
              "      <td>64.532957</td>\n",
              "      <td>106.954708</td>\n",
              "    </tr>\n",
              "    <tr>\n",
              "      <th>8</th>\n",
              "      <td>C5_HL</td>\n",
              "      <td>60.716428</td>\n",
              "      <td>0.048709</td>\n",
              "      <td>42.664266</td>\n",
              "      <td>0.052431</td>\n",
              "      <td>0.048755</td>\n",
              "      <td>74.905096</td>\n",
              "      <td>66.498862</td>\n",
              "    </tr>\n",
              "    <tr>\n",
              "      <th>9</th>\n",
              "      <td>C6_LH</td>\n",
              "      <td>70.191392</td>\n",
              "      <td>0.048921</td>\n",
              "      <td>36.806171</td>\n",
              "      <td>0.052431</td>\n",
              "      <td>0.051750</td>\n",
              "      <td>77.615783</td>\n",
              "      <td>69.089020</td>\n",
              "    </tr>\n",
              "    <tr>\n",
              "      <th>10</th>\n",
              "      <td>C7_SH</td>\n",
              "      <td>51.350275</td>\n",
              "      <td>0.038529</td>\n",
              "      <td>41.530652</td>\n",
              "      <td>0.052431</td>\n",
              "      <td>0.030919</td>\n",
              "      <td>96.046383</td>\n",
              "      <td>58.431547</td>\n",
              "    </tr>\n",
              "    <tr>\n",
              "      <th>11</th>\n",
              "      <td>C9_RD</td>\n",
              "      <td>64.077425</td>\n",
              "      <td>0.056185</td>\n",
              "      <td>36.319594</td>\n",
              "      <td>0.052431</td>\n",
              "      <td>0.039906</td>\n",
              "      <td>68.410285</td>\n",
              "      <td>50.944727</td>\n",
              "    </tr>\n",
              "  </tbody>\n",
              "</table>\n",
              "</div>\n",
              "      <button class=\"colab-df-convert\" onclick=\"convertToInteractive('df-a18dc62a-46c1-4cdd-83d5-0c4049c5556f')\"\n",
              "              title=\"Convert this dataframe to an interactive table.\"\n",
              "              style=\"display:none;\">\n",
              "        \n",
              "  <svg xmlns=\"http://www.w3.org/2000/svg\" height=\"24px\"viewBox=\"0 0 24 24\"\n",
              "       width=\"24px\">\n",
              "    <path d=\"M0 0h24v24H0V0z\" fill=\"none\"/>\n",
              "    <path d=\"M18.56 5.44l.94 2.06.94-2.06 2.06-.94-2.06-.94-.94-2.06-.94 2.06-2.06.94zm-11 1L8.5 8.5l.94-2.06 2.06-.94-2.06-.94L8.5 2.5l-.94 2.06-2.06.94zm10 10l.94 2.06.94-2.06 2.06-.94-2.06-.94-.94-2.06-.94 2.06-2.06.94z\"/><path d=\"M17.41 7.96l-1.37-1.37c-.4-.4-.92-.59-1.43-.59-.52 0-1.04.2-1.43.59L10.3 9.45l-7.72 7.72c-.78.78-.78 2.05 0 2.83L4 21.41c.39.39.9.59 1.41.59.51 0 1.02-.2 1.41-.59l7.78-7.78 2.81-2.81c.8-.78.8-2.07 0-2.86zM5.41 20L4 18.59l7.72-7.72 1.47 1.35L5.41 20z\"/>\n",
              "  </svg>\n",
              "      </button>\n",
              "      \n",
              "  <style>\n",
              "    .colab-df-container {\n",
              "      display:flex;\n",
              "      flex-wrap:wrap;\n",
              "      gap: 12px;\n",
              "    }\n",
              "\n",
              "    .colab-df-convert {\n",
              "      background-color: #E8F0FE;\n",
              "      border: none;\n",
              "      border-radius: 50%;\n",
              "      cursor: pointer;\n",
              "      display: none;\n",
              "      fill: #1967D2;\n",
              "      height: 32px;\n",
              "      padding: 0 0 0 0;\n",
              "      width: 32px;\n",
              "    }\n",
              "\n",
              "    .colab-df-convert:hover {\n",
              "      background-color: #E2EBFA;\n",
              "      box-shadow: 0px 1px 2px rgba(60, 64, 67, 0.3), 0px 1px 3px 1px rgba(60, 64, 67, 0.15);\n",
              "      fill: #174EA6;\n",
              "    }\n",
              "\n",
              "    [theme=dark] .colab-df-convert {\n",
              "      background-color: #3B4455;\n",
              "      fill: #D2E3FC;\n",
              "    }\n",
              "\n",
              "    [theme=dark] .colab-df-convert:hover {\n",
              "      background-color: #434B5C;\n",
              "      box-shadow: 0px 1px 3px 1px rgba(0, 0, 0, 0.15);\n",
              "      filter: drop-shadow(0px 1px 2px rgba(0, 0, 0, 0.3));\n",
              "      fill: #FFFFFF;\n",
              "    }\n",
              "  </style>\n",
              "\n",
              "      <script>\n",
              "        const buttonEl =\n",
              "          document.querySelector('#df-a18dc62a-46c1-4cdd-83d5-0c4049c5556f button.colab-df-convert');\n",
              "        buttonEl.style.display =\n",
              "          google.colab.kernel.accessAllowed ? 'block' : 'none';\n",
              "\n",
              "        async function convertToInteractive(key) {\n",
              "          const element = document.querySelector('#df-a18dc62a-46c1-4cdd-83d5-0c4049c5556f');\n",
              "          const dataTable =\n",
              "            await google.colab.kernel.invokeFunction('convertToInteractive',\n",
              "                                                     [key], {});\n",
              "          if (!dataTable) return;\n",
              "\n",
              "          const docLinkHtml = 'Like what you see? Visit the ' +\n",
              "            '<a target=\"_blank\" href=https://colab.research.google.com/notebooks/data_table.ipynb>data table notebook</a>'\n",
              "            + ' to learn more about interactive tables.';\n",
              "          element.innerHTML = '';\n",
              "          dataTable['output_type'] = 'display_data';\n",
              "          await google.colab.output.renderOutput(dataTable, element);\n",
              "          const docLink = document.createElement('div');\n",
              "          docLink.innerHTML = docLinkHtml;\n",
              "          element.appendChild(docLink);\n",
              "        }\n",
              "      </script>\n",
              "    </div>\n",
              "  </div>\n",
              "  "
            ]
          },
          "metadata": {},
          "execution_count": 33
        }
      ]
    },
    {
      "cell_type": "markdown",
      "source": [
        "**Show Group/Condition Averages**"
      ],
      "metadata": {
        "id": "hlEj8v7S1CXd"
      }
    },
    {
      "cell_type": "code",
      "source": [
        "result_reading_pws.mean()"
      ],
      "metadata": {
        "colab": {
          "base_uri": "https://localhost:8080/"
        },
        "id": "kF0k_UPRmpG1",
        "outputId": "eca80736-6550-4500-d560-7a143bf9ad32"
      },
      "execution_count": 34,
      "outputs": [
        {
          "output_type": "execute_result",
          "data": {
            "text/plain": [
              "nPVI      66.744364\n",
              "rPVI       0.052761\n",
              "%V        41.966560\n",
              "DeltaC     0.045996\n",
              "DeltaV     0.051151\n",
              "VarcoC    61.956716\n",
              "VarcoV    57.749930\n",
              "dtype: float64"
            ]
          },
          "metadata": {},
          "execution_count": 34
        }
      ]
    },
    {
      "cell_type": "code",
      "source": [
        "result_reading_control.mean()"
      ],
      "metadata": {
        "colab": {
          "base_uri": "https://localhost:8080/"
        },
        "id": "RbLDvm__nEqy",
        "outputId": "2c9538ca-cb44-4e4a-d9cb-bb897d33ee3c"
      },
      "execution_count": 35,
      "outputs": [
        {
          "output_type": "execute_result",
          "data": {
            "text/plain": [
              "nPVI      63.852801\n",
              "rPVI       0.046852\n",
              "%V        33.572106\n",
              "DeltaC     0.045387\n",
              "DeltaV     0.040330\n",
              "VarcoC    63.899751\n",
              "VarcoV    52.815387\n",
              "dtype: float64"
            ]
          },
          "metadata": {},
          "execution_count": 35
        }
      ]
    },
    {
      "cell_type": "code",
      "source": [
        "result_interview_pws.mean()"
      ],
      "metadata": {
        "colab": {
          "base_uri": "https://localhost:8080/"
        },
        "id": "GXJHQCRRnbpN",
        "outputId": "0d0c9b6c-e631-46cc-a58c-e49b3e09ce1f"
      },
      "execution_count": 36,
      "outputs": [
        {
          "output_type": "execute_result",
          "data": {
            "text/plain": [
              "nPVI      69.402202\n",
              "rPVI       0.050461\n",
              "%V        46.654016\n",
              "DeltaC     0.048629\n",
              "DeltaV     0.064318\n",
              "VarcoC    70.396284\n",
              "VarcoV    68.950410\n",
              "dtype: float64"
            ]
          },
          "metadata": {},
          "execution_count": 36
        }
      ]
    },
    {
      "cell_type": "code",
      "source": [
        "result_interview_control.mean()"
      ],
      "metadata": {
        "colab": {
          "base_uri": "https://localhost:8080/"
        },
        "id": "dpFNQiO_nm7P",
        "outputId": "790270df-766d-4aed-b74e-518d060471ea"
      },
      "execution_count": 37,
      "outputs": [
        {
          "output_type": "execute_result",
          "data": {
            "text/plain": [
              "nPVI      67.863713\n",
              "rPVI       0.054875\n",
              "%V        37.323038\n",
              "DeltaC     0.052431\n",
              "DeltaV     0.054562\n",
              "VarcoC    75.747891\n",
              "VarcoV    67.640730\n",
              "dtype: float64"
            ]
          },
          "metadata": {},
          "execution_count": 37
        }
      ]
    },
    {
      "cell_type": "markdown",
      "source": [
        "**Standard Deviation**"
      ],
      "metadata": {
        "id": "JhXGB_KSes22"
      }
    },
    {
      "cell_type": "code",
      "source": [
        "# reading pws\n",
        "SD_nPVI_r_p = result_reading_pws[\"nPVI\"].std()\n",
        "SD_rPVI_r_p = result_reading_pws[\"rPVI\"].std()\n",
        "SD_PercV_r_p = result_reading_pws[\"%V\"].std()\n",
        "SD_DeltaC_r_p = result_reading_pws[\"DeltaC\"].std()\n",
        "SD_DeltaV_r_p = result_reading_pws[\"DeltaV\"].std()\n",
        "SD_VarcoC_r_p = result_reading_pws[\"VarcoC\"].std()\n",
        "SD_VarcoV_r_p = result_reading_pws[\"VarcoV\"].std()"
      ],
      "metadata": {
        "id": "czn14o-hfQ8m"
      },
      "execution_count": 38,
      "outputs": []
    },
    {
      "cell_type": "code",
      "source": [
        "result_reading_control"
      ],
      "metadata": {
        "colab": {
          "base_uri": "https://localhost:8080/",
          "height": 425
        },
        "id": "uwW4uCQuglu_",
        "outputId": "9837e37d-f5a8-4c07-f6e3-45ceab195e8a"
      },
      "execution_count": 39,
      "outputs": [
        {
          "output_type": "execute_result",
          "data": {
            "text/plain": [
              "        ID       nPVI      rPVI         %V    DeltaC    DeltaV     VarcoC  \\\n",
              "0   C10_KS  64.949198  0.045728  32.669695  0.045387  0.046175  63.609378   \n",
              "1   C11_NP  82.636385  0.065215  41.091396  0.045387  0.059540  58.791132   \n",
              "2   C12_CC  56.912502  0.035876  40.073944  0.045387  0.031332  70.604170   \n",
              "3   C13_RG  64.155347  0.045160  38.610586  0.045387  0.032766  66.621167   \n",
              "4    C1_DS  69.003174  0.055167  25.907373  0.045387  0.055214  52.566149   \n",
              "5    C2_JH  64.069882  0.046594  32.648657  0.045387  0.035811  58.087411   \n",
              "6    C3_MD  56.578940  0.039900  41.543625  0.045387  0.032752  71.199708   \n",
              "7    C4_ZO  63.374134  0.051018  19.428948  0.045387  0.048663  54.521421   \n",
              "8    C5_HL  64.154835  0.041378  31.297586  0.045387  0.032666  68.156575   \n",
              "9    C6_LH  57.846806  0.048429  29.681775  0.045387  0.035362  62.577857   \n",
              "10   C7_SH  53.254450  0.034039  38.198029  0.045387  0.021765  83.451055   \n",
              "11   C9_RD  69.297956  0.053714  31.713657  0.045387  0.051910  56.610986   \n",
              "\n",
              "       VarcoV  \n",
              "0   54.545969  \n",
              "1   63.125359  \n",
              "2   49.535595  \n",
              "3   47.560166  \n",
              "4   55.642177  \n",
              "5   49.451517  \n",
              "6   42.295264  \n",
              "7   58.755969  \n",
              "8   56.897336  \n",
              "9   51.770681  \n",
              "10  41.826788  \n",
              "11  62.377828  "
            ],
            "text/html": [
              "\n",
              "  <div id=\"df-be52f1d8-643c-4bd7-a492-a2cc2abc0395\">\n",
              "    <div class=\"colab-df-container\">\n",
              "      <div>\n",
              "<style scoped>\n",
              "    .dataframe tbody tr th:only-of-type {\n",
              "        vertical-align: middle;\n",
              "    }\n",
              "\n",
              "    .dataframe tbody tr th {\n",
              "        vertical-align: top;\n",
              "    }\n",
              "\n",
              "    .dataframe thead th {\n",
              "        text-align: right;\n",
              "    }\n",
              "</style>\n",
              "<table border=\"1\" class=\"dataframe\">\n",
              "  <thead>\n",
              "    <tr style=\"text-align: right;\">\n",
              "      <th></th>\n",
              "      <th>ID</th>\n",
              "      <th>nPVI</th>\n",
              "      <th>rPVI</th>\n",
              "      <th>%V</th>\n",
              "      <th>DeltaC</th>\n",
              "      <th>DeltaV</th>\n",
              "      <th>VarcoC</th>\n",
              "      <th>VarcoV</th>\n",
              "    </tr>\n",
              "  </thead>\n",
              "  <tbody>\n",
              "    <tr>\n",
              "      <th>0</th>\n",
              "      <td>C10_KS</td>\n",
              "      <td>64.949198</td>\n",
              "      <td>0.045728</td>\n",
              "      <td>32.669695</td>\n",
              "      <td>0.045387</td>\n",
              "      <td>0.046175</td>\n",
              "      <td>63.609378</td>\n",
              "      <td>54.545969</td>\n",
              "    </tr>\n",
              "    <tr>\n",
              "      <th>1</th>\n",
              "      <td>C11_NP</td>\n",
              "      <td>82.636385</td>\n",
              "      <td>0.065215</td>\n",
              "      <td>41.091396</td>\n",
              "      <td>0.045387</td>\n",
              "      <td>0.059540</td>\n",
              "      <td>58.791132</td>\n",
              "      <td>63.125359</td>\n",
              "    </tr>\n",
              "    <tr>\n",
              "      <th>2</th>\n",
              "      <td>C12_CC</td>\n",
              "      <td>56.912502</td>\n",
              "      <td>0.035876</td>\n",
              "      <td>40.073944</td>\n",
              "      <td>0.045387</td>\n",
              "      <td>0.031332</td>\n",
              "      <td>70.604170</td>\n",
              "      <td>49.535595</td>\n",
              "    </tr>\n",
              "    <tr>\n",
              "      <th>3</th>\n",
              "      <td>C13_RG</td>\n",
              "      <td>64.155347</td>\n",
              "      <td>0.045160</td>\n",
              "      <td>38.610586</td>\n",
              "      <td>0.045387</td>\n",
              "      <td>0.032766</td>\n",
              "      <td>66.621167</td>\n",
              "      <td>47.560166</td>\n",
              "    </tr>\n",
              "    <tr>\n",
              "      <th>4</th>\n",
              "      <td>C1_DS</td>\n",
              "      <td>69.003174</td>\n",
              "      <td>0.055167</td>\n",
              "      <td>25.907373</td>\n",
              "      <td>0.045387</td>\n",
              "      <td>0.055214</td>\n",
              "      <td>52.566149</td>\n",
              "      <td>55.642177</td>\n",
              "    </tr>\n",
              "    <tr>\n",
              "      <th>5</th>\n",
              "      <td>C2_JH</td>\n",
              "      <td>64.069882</td>\n",
              "      <td>0.046594</td>\n",
              "      <td>32.648657</td>\n",
              "      <td>0.045387</td>\n",
              "      <td>0.035811</td>\n",
              "      <td>58.087411</td>\n",
              "      <td>49.451517</td>\n",
              "    </tr>\n",
              "    <tr>\n",
              "      <th>6</th>\n",
              "      <td>C3_MD</td>\n",
              "      <td>56.578940</td>\n",
              "      <td>0.039900</td>\n",
              "      <td>41.543625</td>\n",
              "      <td>0.045387</td>\n",
              "      <td>0.032752</td>\n",
              "      <td>71.199708</td>\n",
              "      <td>42.295264</td>\n",
              "    </tr>\n",
              "    <tr>\n",
              "      <th>7</th>\n",
              "      <td>C4_ZO</td>\n",
              "      <td>63.374134</td>\n",
              "      <td>0.051018</td>\n",
              "      <td>19.428948</td>\n",
              "      <td>0.045387</td>\n",
              "      <td>0.048663</td>\n",
              "      <td>54.521421</td>\n",
              "      <td>58.755969</td>\n",
              "    </tr>\n",
              "    <tr>\n",
              "      <th>8</th>\n",
              "      <td>C5_HL</td>\n",
              "      <td>64.154835</td>\n",
              "      <td>0.041378</td>\n",
              "      <td>31.297586</td>\n",
              "      <td>0.045387</td>\n",
              "      <td>0.032666</td>\n",
              "      <td>68.156575</td>\n",
              "      <td>56.897336</td>\n",
              "    </tr>\n",
              "    <tr>\n",
              "      <th>9</th>\n",
              "      <td>C6_LH</td>\n",
              "      <td>57.846806</td>\n",
              "      <td>0.048429</td>\n",
              "      <td>29.681775</td>\n",
              "      <td>0.045387</td>\n",
              "      <td>0.035362</td>\n",
              "      <td>62.577857</td>\n",
              "      <td>51.770681</td>\n",
              "    </tr>\n",
              "    <tr>\n",
              "      <th>10</th>\n",
              "      <td>C7_SH</td>\n",
              "      <td>53.254450</td>\n",
              "      <td>0.034039</td>\n",
              "      <td>38.198029</td>\n",
              "      <td>0.045387</td>\n",
              "      <td>0.021765</td>\n",
              "      <td>83.451055</td>\n",
              "      <td>41.826788</td>\n",
              "    </tr>\n",
              "    <tr>\n",
              "      <th>11</th>\n",
              "      <td>C9_RD</td>\n",
              "      <td>69.297956</td>\n",
              "      <td>0.053714</td>\n",
              "      <td>31.713657</td>\n",
              "      <td>0.045387</td>\n",
              "      <td>0.051910</td>\n",
              "      <td>56.610986</td>\n",
              "      <td>62.377828</td>\n",
              "    </tr>\n",
              "  </tbody>\n",
              "</table>\n",
              "</div>\n",
              "      <button class=\"colab-df-convert\" onclick=\"convertToInteractive('df-be52f1d8-643c-4bd7-a492-a2cc2abc0395')\"\n",
              "              title=\"Convert this dataframe to an interactive table.\"\n",
              "              style=\"display:none;\">\n",
              "        \n",
              "  <svg xmlns=\"http://www.w3.org/2000/svg\" height=\"24px\"viewBox=\"0 0 24 24\"\n",
              "       width=\"24px\">\n",
              "    <path d=\"M0 0h24v24H0V0z\" fill=\"none\"/>\n",
              "    <path d=\"M18.56 5.44l.94 2.06.94-2.06 2.06-.94-2.06-.94-.94-2.06-.94 2.06-2.06.94zm-11 1L8.5 8.5l.94-2.06 2.06-.94-2.06-.94L8.5 2.5l-.94 2.06-2.06.94zm10 10l.94 2.06.94-2.06 2.06-.94-2.06-.94-.94-2.06-.94 2.06-2.06.94z\"/><path d=\"M17.41 7.96l-1.37-1.37c-.4-.4-.92-.59-1.43-.59-.52 0-1.04.2-1.43.59L10.3 9.45l-7.72 7.72c-.78.78-.78 2.05 0 2.83L4 21.41c.39.39.9.59 1.41.59.51 0 1.02-.2 1.41-.59l7.78-7.78 2.81-2.81c.8-.78.8-2.07 0-2.86zM5.41 20L4 18.59l7.72-7.72 1.47 1.35L5.41 20z\"/>\n",
              "  </svg>\n",
              "      </button>\n",
              "      \n",
              "  <style>\n",
              "    .colab-df-container {\n",
              "      display:flex;\n",
              "      flex-wrap:wrap;\n",
              "      gap: 12px;\n",
              "    }\n",
              "\n",
              "    .colab-df-convert {\n",
              "      background-color: #E8F0FE;\n",
              "      border: none;\n",
              "      border-radius: 50%;\n",
              "      cursor: pointer;\n",
              "      display: none;\n",
              "      fill: #1967D2;\n",
              "      height: 32px;\n",
              "      padding: 0 0 0 0;\n",
              "      width: 32px;\n",
              "    }\n",
              "\n",
              "    .colab-df-convert:hover {\n",
              "      background-color: #E2EBFA;\n",
              "      box-shadow: 0px 1px 2px rgba(60, 64, 67, 0.3), 0px 1px 3px 1px rgba(60, 64, 67, 0.15);\n",
              "      fill: #174EA6;\n",
              "    }\n",
              "\n",
              "    [theme=dark] .colab-df-convert {\n",
              "      background-color: #3B4455;\n",
              "      fill: #D2E3FC;\n",
              "    }\n",
              "\n",
              "    [theme=dark] .colab-df-convert:hover {\n",
              "      background-color: #434B5C;\n",
              "      box-shadow: 0px 1px 3px 1px rgba(0, 0, 0, 0.15);\n",
              "      filter: drop-shadow(0px 1px 2px rgba(0, 0, 0, 0.3));\n",
              "      fill: #FFFFFF;\n",
              "    }\n",
              "  </style>\n",
              "\n",
              "      <script>\n",
              "        const buttonEl =\n",
              "          document.querySelector('#df-be52f1d8-643c-4bd7-a492-a2cc2abc0395 button.colab-df-convert');\n",
              "        buttonEl.style.display =\n",
              "          google.colab.kernel.accessAllowed ? 'block' : 'none';\n",
              "\n",
              "        async function convertToInteractive(key) {\n",
              "          const element = document.querySelector('#df-be52f1d8-643c-4bd7-a492-a2cc2abc0395');\n",
              "          const dataTable =\n",
              "            await google.colab.kernel.invokeFunction('convertToInteractive',\n",
              "                                                     [key], {});\n",
              "          if (!dataTable) return;\n",
              "\n",
              "          const docLinkHtml = 'Like what you see? Visit the ' +\n",
              "            '<a target=\"_blank\" href=https://colab.research.google.com/notebooks/data_table.ipynb>data table notebook</a>'\n",
              "            + ' to learn more about interactive tables.';\n",
              "          element.innerHTML = '';\n",
              "          dataTable['output_type'] = 'display_data';\n",
              "          await google.colab.output.renderOutput(dataTable, element);\n",
              "          const docLink = document.createElement('div');\n",
              "          docLink.innerHTML = docLinkHtml;\n",
              "          element.appendChild(docLink);\n",
              "        }\n",
              "      </script>\n",
              "    </div>\n",
              "  </div>\n",
              "  "
            ]
          },
          "metadata": {},
          "execution_count": 39
        }
      ]
    },
    {
      "cell_type": "code",
      "source": [
        "# reading control\n",
        "SD_nPVI_r_c = result_reading_control[\"nPVI\"].std()\n",
        "SD_rPVI_r_c = result_reading_control[\"rPVI\"].std()\n",
        "SD_PercV_r_c = result_reading_control[\"%V\"].std()\n",
        "SD_DeltaC_r_c = result_reading_control[\"DeltaC\"].std()\n",
        "SD_DeltaV_r_c = result_reading_control[\"DeltaV\"].std()\n",
        "SD_VarcoC_r_c = result_reading_control[\"VarcoC\"].std()\n",
        "SD_VarcoV_r_c = result_reading_control[\"VarcoV\"].std()"
      ],
      "metadata": {
        "id": "gOsNKZ0bevYf"
      },
      "execution_count": 40,
      "outputs": []
    },
    {
      "cell_type": "code",
      "source": [
        "# interview pws\n",
        "SD_nPVI_i_p = result_interview_pws[\"nPVI\"].std()\n",
        "SD_rPVI_i_p = result_interview_pws[\"rPVI\"].std()\n",
        "SD_PercV_i_p = result_interview_pws[\"%V\"].std()\n",
        "SD_DeltaC_i_p = result_interview_pws[\"DeltaC\"].std()\n",
        "SD_DeltaV_i_p = result_interview_pws[\"DeltaV\"].std()\n",
        "SD_VarcoC_i_p = result_interview_pws[\"VarcoC\"].std()\n",
        "SD_VarcoV_i_p = result_interview_pws[\"VarcoV\"].std()"
      ],
      "metadata": {
        "id": "34WKnpn5fqin"
      },
      "execution_count": 41,
      "outputs": []
    },
    {
      "cell_type": "code",
      "source": [
        "# interview control\n",
        "SD_nPVI_i_c = result_interview_control[\"nPVI\"].std()\n",
        "SD_rPVI_i_c = result_interview_control[\"rPVI\"].std()\n",
        "SD_PercV_i_c = result_interview_control[\"%V\"].std()\n",
        "SD_DeltaC_i_c = result_interview_control[\"DeltaC\"].std()\n",
        "SD_DeltaV_i_c = result_interview_control[\"DeltaV\"].std()\n",
        "SD_VarcoC_i_c = result_interview_control[\"VarcoC\"].std()\n",
        "SD_VarcoV_i_c = result_interview_control[\"VarcoV\"].std()"
      ],
      "metadata": {
        "id": "N58VyJrDfdcm"
      },
      "execution_count": 42,
      "outputs": []
    },
    {
      "cell_type": "markdown",
      "source": [
        "**Result Tables**"
      ],
      "metadata": {
        "id": "07yfRAkfY42d"
      }
    },
    {
      "cell_type": "markdown",
      "source": [
        "**Reading**"
      ],
      "metadata": {
        "id": "LkJu8k82daH3"
      }
    },
    {
      "cell_type": "code",
      "source": [
        "means = [result_reading_pws.mean()[0], result_reading_control.mean()[0], result_reading_pws.mean()[1],result_reading_control.mean()[1],result_reading_pws.mean()[2], result_reading_control.mean()[2], result_reading_pws.mean()[3],result_reading_control.mean()[3], result_reading_pws.mean()[4],result_reading_control.mean()[4], result_reading_pws.mean()[5],result_reading_control.mean()[5],result_reading_pws.mean()[6], result_reading_control.mean()[6]]"
      ],
      "metadata": {
        "id": "t1hF2ecxdcJe"
      },
      "execution_count": 43,
      "outputs": []
    },
    {
      "cell_type": "code",
      "source": [
        "fig = go.Figure(data=[go.Table(\n",
        "    header=dict(values=['Rhythm Metrics', 'Group', 'Mean','SD'],\n",
        "                line_color='black',\n",
        "                fill_color='lightgray',\n",
        "                align='left'),\n",
        "    cells=dict(values=[[\"nPVI\",\"\", \"rPVI\", \"\",\"%V\", \"\",\"DeltaC\", \"\",\"DeltaV\",\"\", \"VarcoC\",\"\", \"VarcoV\",\"\"], # 1st column\n",
        "                       [\"Stuttering\", \"Non-Stuttering\", \"Stuttering\", \"Non-Stuttering\", \"Stuttering\", \"Non-Stuttering\", \"Stuttering\", \"Non-Stuttering\", \"Stuttering\", \"Non-Stuttering\", \"Stuttering\", \"Non-Stuttering\", \"Stuttering\", \"Non-Stuttering\"],\n",
        "                      [means[0],means[1],means[2],means[3],means[4],means[5],means[6],means[7],means[8],means[9],means[10],means[11],means[12],means[13] ],\n",
        "                       [SD_nPVI_r_p, SD_nPVI_r_c, SD_rPVI_r_p, SD_rPVI_r_c, SD_PercV_r_p, SD_PercV_r_c, SD_DeltaC_r_p, SD_DeltaC_r_c, SD_DeltaV_r_p, SD_DeltaV_r_c, SD_VarcoC_r_p, SD_VarcoC_r_c, SD_VarcoV_r_p, SD_VarcoV_r_c]], # 2nd column\n",
        "               line_color='darkslategray',\n",
        "               fill_color='white',\n",
        "               align='left'))\n",
        "])"
      ],
      "metadata": {
        "id": "fTEN2wRrdcBV"
      },
      "execution_count": 44,
      "outputs": []
    },
    {
      "cell_type": "code",
      "source": [
        "fig.show()"
      ],
      "metadata": {
        "colab": {
          "base_uri": "https://localhost:8080/",
          "height": 542
        },
        "id": "feq-b1tfd2UO",
        "outputId": "0b0892d9-cd4c-4582-ac44-83efcfcf980b"
      },
      "execution_count": 45,
      "outputs": [
        {
          "output_type": "display_data",
          "data": {
            "text/html": [
              "<html>\n",
              "<head><meta charset=\"utf-8\" /></head>\n",
              "<body>\n",
              "    <div>            <script src=\"https://cdnjs.cloudflare.com/ajax/libs/mathjax/2.7.5/MathJax.js?config=TeX-AMS-MML_SVG\"></script><script type=\"text/javascript\">if (window.MathJax) {MathJax.Hub.Config({SVG: {font: \"STIX-Web\"}});}</script>                <script type=\"text/javascript\">window.PlotlyConfig = {MathJaxConfig: 'local'};</script>\n",
              "        <script src=\"https://cdn.plot.ly/plotly-2.8.3.min.js\"></script>                <div id=\"e4a49d90-89ed-4ca8-8258-c34e599ef6ea\" class=\"plotly-graph-div\" style=\"height:525px; width:100%;\"></div>            <script type=\"text/javascript\">                                    window.PLOTLYENV=window.PLOTLYENV || {};                                    if (document.getElementById(\"e4a49d90-89ed-4ca8-8258-c34e599ef6ea\")) {                    Plotly.newPlot(                        \"e4a49d90-89ed-4ca8-8258-c34e599ef6ea\",                        [{\"cells\":{\"align\":\"left\",\"fill\":{\"color\":\"white\"},\"line\":{\"color\":\"darkslategray\"},\"values\":[[\"nPVI\",\"\",\"rPVI\",\"\",\"%V\",\"\",\"DeltaC\",\"\",\"DeltaV\",\"\",\"VarcoC\",\"\",\"VarcoV\",\"\"],[\"Stuttering\",\"Non-Stuttering\",\"Stuttering\",\"Non-Stuttering\",\"Stuttering\",\"Non-Stuttering\",\"Stuttering\",\"Non-Stuttering\",\"Stuttering\",\"Non-Stuttering\",\"Stuttering\",\"Non-Stuttering\",\"Stuttering\",\"Non-Stuttering\"],[66.74436374457981,63.85280061904188,0.05276094405220641,0.046851616848985485,41.966560213263264,33.572105966735485,0.045996391334728416,0.045387020069826776,0.05115136457438765,0.040329603934301655,61.95671562240808,63.89975096342683,57.749930366828316,52.8153874500945],[4.48624061548684,7.746752982682838,0.009533042978734653,0.00874076844940786,3.0900417503362925,6.697016292169182,0.0,0.0,0.010981196496927,0.011569347226660443,7.585845693764583,8.724372579783768,4.8768236093647515,7.025136529381962]]},\"header\":{\"align\":\"left\",\"fill\":{\"color\":\"lightgray\"},\"line\":{\"color\":\"black\"},\"values\":[\"Rhythm Metrics\",\"Group\",\"Mean\",\"SD\"]},\"type\":\"table\"}],                        {\"template\":{\"data\":{\"bar\":[{\"error_x\":{\"color\":\"#2a3f5f\"},\"error_y\":{\"color\":\"#2a3f5f\"},\"marker\":{\"line\":{\"color\":\"#E5ECF6\",\"width\":0.5},\"pattern\":{\"fillmode\":\"overlay\",\"size\":10,\"solidity\":0.2}},\"type\":\"bar\"}],\"barpolar\":[{\"marker\":{\"line\":{\"color\":\"#E5ECF6\",\"width\":0.5},\"pattern\":{\"fillmode\":\"overlay\",\"size\":10,\"solidity\":0.2}},\"type\":\"barpolar\"}],\"carpet\":[{\"aaxis\":{\"endlinecolor\":\"#2a3f5f\",\"gridcolor\":\"white\",\"linecolor\":\"white\",\"minorgridcolor\":\"white\",\"startlinecolor\":\"#2a3f5f\"},\"baxis\":{\"endlinecolor\":\"#2a3f5f\",\"gridcolor\":\"white\",\"linecolor\":\"white\",\"minorgridcolor\":\"white\",\"startlinecolor\":\"#2a3f5f\"},\"type\":\"carpet\"}],\"choropleth\":[{\"colorbar\":{\"outlinewidth\":0,\"ticks\":\"\"},\"type\":\"choropleth\"}],\"contour\":[{\"colorbar\":{\"outlinewidth\":0,\"ticks\":\"\"},\"colorscale\":[[0.0,\"#0d0887\"],[0.1111111111111111,\"#46039f\"],[0.2222222222222222,\"#7201a8\"],[0.3333333333333333,\"#9c179e\"],[0.4444444444444444,\"#bd3786\"],[0.5555555555555556,\"#d8576b\"],[0.6666666666666666,\"#ed7953\"],[0.7777777777777778,\"#fb9f3a\"],[0.8888888888888888,\"#fdca26\"],[1.0,\"#f0f921\"]],\"type\":\"contour\"}],\"contourcarpet\":[{\"colorbar\":{\"outlinewidth\":0,\"ticks\":\"\"},\"type\":\"contourcarpet\"}],\"heatmap\":[{\"colorbar\":{\"outlinewidth\":0,\"ticks\":\"\"},\"colorscale\":[[0.0,\"#0d0887\"],[0.1111111111111111,\"#46039f\"],[0.2222222222222222,\"#7201a8\"],[0.3333333333333333,\"#9c179e\"],[0.4444444444444444,\"#bd3786\"],[0.5555555555555556,\"#d8576b\"],[0.6666666666666666,\"#ed7953\"],[0.7777777777777778,\"#fb9f3a\"],[0.8888888888888888,\"#fdca26\"],[1.0,\"#f0f921\"]],\"type\":\"heatmap\"}],\"heatmapgl\":[{\"colorbar\":{\"outlinewidth\":0,\"ticks\":\"\"},\"colorscale\":[[0.0,\"#0d0887\"],[0.1111111111111111,\"#46039f\"],[0.2222222222222222,\"#7201a8\"],[0.3333333333333333,\"#9c179e\"],[0.4444444444444444,\"#bd3786\"],[0.5555555555555556,\"#d8576b\"],[0.6666666666666666,\"#ed7953\"],[0.7777777777777778,\"#fb9f3a\"],[0.8888888888888888,\"#fdca26\"],[1.0,\"#f0f921\"]],\"type\":\"heatmapgl\"}],\"histogram\":[{\"marker\":{\"pattern\":{\"fillmode\":\"overlay\",\"size\":10,\"solidity\":0.2}},\"type\":\"histogram\"}],\"histogram2d\":[{\"colorbar\":{\"outlinewidth\":0,\"ticks\":\"\"},\"colorscale\":[[0.0,\"#0d0887\"],[0.1111111111111111,\"#46039f\"],[0.2222222222222222,\"#7201a8\"],[0.3333333333333333,\"#9c179e\"],[0.4444444444444444,\"#bd3786\"],[0.5555555555555556,\"#d8576b\"],[0.6666666666666666,\"#ed7953\"],[0.7777777777777778,\"#fb9f3a\"],[0.8888888888888888,\"#fdca26\"],[1.0,\"#f0f921\"]],\"type\":\"histogram2d\"}],\"histogram2dcontour\":[{\"colorbar\":{\"outlinewidth\":0,\"ticks\":\"\"},\"colorscale\":[[0.0,\"#0d0887\"],[0.1111111111111111,\"#46039f\"],[0.2222222222222222,\"#7201a8\"],[0.3333333333333333,\"#9c179e\"],[0.4444444444444444,\"#bd3786\"],[0.5555555555555556,\"#d8576b\"],[0.6666666666666666,\"#ed7953\"],[0.7777777777777778,\"#fb9f3a\"],[0.8888888888888888,\"#fdca26\"],[1.0,\"#f0f921\"]],\"type\":\"histogram2dcontour\"}],\"mesh3d\":[{\"colorbar\":{\"outlinewidth\":0,\"ticks\":\"\"},\"type\":\"mesh3d\"}],\"parcoords\":[{\"line\":{\"colorbar\":{\"outlinewidth\":0,\"ticks\":\"\"}},\"type\":\"parcoords\"}],\"pie\":[{\"automargin\":true,\"type\":\"pie\"}],\"scatter\":[{\"marker\":{\"colorbar\":{\"outlinewidth\":0,\"ticks\":\"\"}},\"type\":\"scatter\"}],\"scatter3d\":[{\"line\":{\"colorbar\":{\"outlinewidth\":0,\"ticks\":\"\"}},\"marker\":{\"colorbar\":{\"outlinewidth\":0,\"ticks\":\"\"}},\"type\":\"scatter3d\"}],\"scattercarpet\":[{\"marker\":{\"colorbar\":{\"outlinewidth\":0,\"ticks\":\"\"}},\"type\":\"scattercarpet\"}],\"scattergeo\":[{\"marker\":{\"colorbar\":{\"outlinewidth\":0,\"ticks\":\"\"}},\"type\":\"scattergeo\"}],\"scattergl\":[{\"marker\":{\"colorbar\":{\"outlinewidth\":0,\"ticks\":\"\"}},\"type\":\"scattergl\"}],\"scattermapbox\":[{\"marker\":{\"colorbar\":{\"outlinewidth\":0,\"ticks\":\"\"}},\"type\":\"scattermapbox\"}],\"scatterpolar\":[{\"marker\":{\"colorbar\":{\"outlinewidth\":0,\"ticks\":\"\"}},\"type\":\"scatterpolar\"}],\"scatterpolargl\":[{\"marker\":{\"colorbar\":{\"outlinewidth\":0,\"ticks\":\"\"}},\"type\":\"scatterpolargl\"}],\"scatterternary\":[{\"marker\":{\"colorbar\":{\"outlinewidth\":0,\"ticks\":\"\"}},\"type\":\"scatterternary\"}],\"surface\":[{\"colorbar\":{\"outlinewidth\":0,\"ticks\":\"\"},\"colorscale\":[[0.0,\"#0d0887\"],[0.1111111111111111,\"#46039f\"],[0.2222222222222222,\"#7201a8\"],[0.3333333333333333,\"#9c179e\"],[0.4444444444444444,\"#bd3786\"],[0.5555555555555556,\"#d8576b\"],[0.6666666666666666,\"#ed7953\"],[0.7777777777777778,\"#fb9f3a\"],[0.8888888888888888,\"#fdca26\"],[1.0,\"#f0f921\"]],\"type\":\"surface\"}],\"table\":[{\"cells\":{\"fill\":{\"color\":\"#EBF0F8\"},\"line\":{\"color\":\"white\"}},\"header\":{\"fill\":{\"color\":\"#C8D4E3\"},\"line\":{\"color\":\"white\"}},\"type\":\"table\"}]},\"layout\":{\"annotationdefaults\":{\"arrowcolor\":\"#2a3f5f\",\"arrowhead\":0,\"arrowwidth\":1},\"autotypenumbers\":\"strict\",\"coloraxis\":{\"colorbar\":{\"outlinewidth\":0,\"ticks\":\"\"}},\"colorscale\":{\"diverging\":[[0,\"#8e0152\"],[0.1,\"#c51b7d\"],[0.2,\"#de77ae\"],[0.3,\"#f1b6da\"],[0.4,\"#fde0ef\"],[0.5,\"#f7f7f7\"],[0.6,\"#e6f5d0\"],[0.7,\"#b8e186\"],[0.8,\"#7fbc41\"],[0.9,\"#4d9221\"],[1,\"#276419\"]],\"sequential\":[[0.0,\"#0d0887\"],[0.1111111111111111,\"#46039f\"],[0.2222222222222222,\"#7201a8\"],[0.3333333333333333,\"#9c179e\"],[0.4444444444444444,\"#bd3786\"],[0.5555555555555556,\"#d8576b\"],[0.6666666666666666,\"#ed7953\"],[0.7777777777777778,\"#fb9f3a\"],[0.8888888888888888,\"#fdca26\"],[1.0,\"#f0f921\"]],\"sequentialminus\":[[0.0,\"#0d0887\"],[0.1111111111111111,\"#46039f\"],[0.2222222222222222,\"#7201a8\"],[0.3333333333333333,\"#9c179e\"],[0.4444444444444444,\"#bd3786\"],[0.5555555555555556,\"#d8576b\"],[0.6666666666666666,\"#ed7953\"],[0.7777777777777778,\"#fb9f3a\"],[0.8888888888888888,\"#fdca26\"],[1.0,\"#f0f921\"]]},\"colorway\":[\"#636efa\",\"#EF553B\",\"#00cc96\",\"#ab63fa\",\"#FFA15A\",\"#19d3f3\",\"#FF6692\",\"#B6E880\",\"#FF97FF\",\"#FECB52\"],\"font\":{\"color\":\"#2a3f5f\"},\"geo\":{\"bgcolor\":\"white\",\"lakecolor\":\"white\",\"landcolor\":\"#E5ECF6\",\"showlakes\":true,\"showland\":true,\"subunitcolor\":\"white\"},\"hoverlabel\":{\"align\":\"left\"},\"hovermode\":\"closest\",\"mapbox\":{\"style\":\"light\"},\"paper_bgcolor\":\"white\",\"plot_bgcolor\":\"#E5ECF6\",\"polar\":{\"angularaxis\":{\"gridcolor\":\"white\",\"linecolor\":\"white\",\"ticks\":\"\"},\"bgcolor\":\"#E5ECF6\",\"radialaxis\":{\"gridcolor\":\"white\",\"linecolor\":\"white\",\"ticks\":\"\"}},\"scene\":{\"xaxis\":{\"backgroundcolor\":\"#E5ECF6\",\"gridcolor\":\"white\",\"gridwidth\":2,\"linecolor\":\"white\",\"showbackground\":true,\"ticks\":\"\",\"zerolinecolor\":\"white\"},\"yaxis\":{\"backgroundcolor\":\"#E5ECF6\",\"gridcolor\":\"white\",\"gridwidth\":2,\"linecolor\":\"white\",\"showbackground\":true,\"ticks\":\"\",\"zerolinecolor\":\"white\"},\"zaxis\":{\"backgroundcolor\":\"#E5ECF6\",\"gridcolor\":\"white\",\"gridwidth\":2,\"linecolor\":\"white\",\"showbackground\":true,\"ticks\":\"\",\"zerolinecolor\":\"white\"}},\"shapedefaults\":{\"line\":{\"color\":\"#2a3f5f\"}},\"ternary\":{\"aaxis\":{\"gridcolor\":\"white\",\"linecolor\":\"white\",\"ticks\":\"\"},\"baxis\":{\"gridcolor\":\"white\",\"linecolor\":\"white\",\"ticks\":\"\"},\"bgcolor\":\"#E5ECF6\",\"caxis\":{\"gridcolor\":\"white\",\"linecolor\":\"white\",\"ticks\":\"\"}},\"title\":{\"x\":0.05},\"xaxis\":{\"automargin\":true,\"gridcolor\":\"white\",\"linecolor\":\"white\",\"ticks\":\"\",\"title\":{\"standoff\":15},\"zerolinecolor\":\"white\",\"zerolinewidth\":2},\"yaxis\":{\"automargin\":true,\"gridcolor\":\"white\",\"linecolor\":\"white\",\"ticks\":\"\",\"title\":{\"standoff\":15},\"zerolinecolor\":\"white\",\"zerolinewidth\":2}}}},                        {\"responsive\": true}                    ).then(function(){\n",
              "                            \n",
              "var gd = document.getElementById('e4a49d90-89ed-4ca8-8258-c34e599ef6ea');\n",
              "var x = new MutationObserver(function (mutations, observer) {{\n",
              "        var display = window.getComputedStyle(gd).display;\n",
              "        if (!display || display === 'none') {{\n",
              "            console.log([gd, 'removed!']);\n",
              "            Plotly.purge(gd);\n",
              "            observer.disconnect();\n",
              "        }}\n",
              "}});\n",
              "\n",
              "// Listen for the removal of the full notebook cells\n",
              "var notebookContainer = gd.closest('#notebook-container');\n",
              "if (notebookContainer) {{\n",
              "    x.observe(notebookContainer, {childList: true});\n",
              "}}\n",
              "\n",
              "// Listen for the clearing of the current output cell\n",
              "var outputEl = gd.closest('.output');\n",
              "if (outputEl) {{\n",
              "    x.observe(outputEl, {childList: true});\n",
              "}}\n",
              "\n",
              "                        })                };                            </script>        </div>\n",
              "</body>\n",
              "</html>"
            ]
          },
          "metadata": {}
        }
      ]
    },
    {
      "cell_type": "markdown",
      "source": [
        "**Interview**"
      ],
      "metadata": {
        "id": "0Y_fZvbBdXj2"
      }
    },
    {
      "cell_type": "code",
      "source": [
        "means = [result_interview_pws.mean()[0], result_interview_control.mean()[0], result_interview_pws.mean()[1],result_interview_control.mean()[1],result_interview_pws.mean()[2], result_interview_control.mean()[2], result_interview_pws.mean()[3],result_interview_control.mean()[3], result_interview_pws.mean()[4],result_interview_control.mean()[4], result_interview_pws.mean()[5],result_interview_control.mean()[5],result_interview_pws.mean()[6], result_interview_control.mean()[6]]"
      ],
      "metadata": {
        "id": "eIKjnIXWajL0"
      },
      "execution_count": 46,
      "outputs": []
    },
    {
      "cell_type": "code",
      "source": [
        "fig = go.Figure(data=[go.Table(\n",
        "    header=dict(values=['Rhythm Metrics', 'Group', 'Mean', 'SD'],\n",
        "                line_color='black',\n",
        "                fill_color='lightgray',\n",
        "                align='left'),\n",
        "    cells=dict(values=[[\"nPVI\",\"\", \"rPVI\", \"\",\"%V\", \"\",\"DeltaC\", \"\",\"DeltaV\",\"\", \"VarcoC\",\"\", \"VarcoV\",\"\"], # 1st column\n",
        "                       [\"Stuttering\", \"Non-Stuttering\", \"Stuttering\", \"Non-Stuttering\", \"Stuttering\", \"Non-Stuttering\", \"Stuttering\", \"Non-Stuttering\", \"Stuttering\", \"Non-Stuttering\", \"Stuttering\", \"Non-Stuttering\", \"Stuttering\", \"Non-Stuttering\"],\n",
        "                      [means[0],means[1],means[2],means[3],means[4],means[5],means[6],means[7],means[8],means[9],means[10],means[11],means[12],means[13] ],\n",
        "                       [SD_nPVI_i_p, SD_nPVI_i_c, SD_rPVI_i_p, SD_rPVI_i_c, SD_PercV_i_p, SD_PercV_i_c, SD_DeltaC_i_p, SD_DeltaC_i_c, SD_DeltaV_i_p, SD_DeltaV_i_c, SD_VarcoC_i_p, SD_VarcoC_i_c, SD_VarcoV_i_p, SD_VarcoV_i_c]], # 2nd column\n",
        "               line_color='darkslategray',\n",
        "               fill_color='white',\n",
        "               align='left'))\n",
        "])"
      ],
      "metadata": {
        "id": "NOT6652gZkYU"
      },
      "execution_count": 47,
      "outputs": []
    },
    {
      "cell_type": "code",
      "source": [
        "fig.show()"
      ],
      "metadata": {
        "colab": {
          "base_uri": "https://localhost:8080/",
          "height": 542
        },
        "id": "2ybXpZOibeUs",
        "outputId": "20559984-b49c-4abf-eb4f-c51738cdd6ed"
      },
      "execution_count": 48,
      "outputs": [
        {
          "output_type": "display_data",
          "data": {
            "text/html": [
              "<html>\n",
              "<head><meta charset=\"utf-8\" /></head>\n",
              "<body>\n",
              "    <div>            <script src=\"https://cdnjs.cloudflare.com/ajax/libs/mathjax/2.7.5/MathJax.js?config=TeX-AMS-MML_SVG\"></script><script type=\"text/javascript\">if (window.MathJax) {MathJax.Hub.Config({SVG: {font: \"STIX-Web\"}});}</script>                <script type=\"text/javascript\">window.PlotlyConfig = {MathJaxConfig: 'local'};</script>\n",
              "        <script src=\"https://cdn.plot.ly/plotly-2.8.3.min.js\"></script>                <div id=\"525b4139-0cb1-460d-8f49-7168cca007b3\" class=\"plotly-graph-div\" style=\"height:525px; width:100%;\"></div>            <script type=\"text/javascript\">                                    window.PLOTLYENV=window.PLOTLYENV || {};                                    if (document.getElementById(\"525b4139-0cb1-460d-8f49-7168cca007b3\")) {                    Plotly.newPlot(                        \"525b4139-0cb1-460d-8f49-7168cca007b3\",                        [{\"cells\":{\"align\":\"left\",\"fill\":{\"color\":\"white\"},\"line\":{\"color\":\"darkslategray\"},\"values\":[[\"nPVI\",\"\",\"rPVI\",\"\",\"%V\",\"\",\"DeltaC\",\"\",\"DeltaV\",\"\",\"VarcoC\",\"\",\"VarcoV\",\"\"],[\"Stuttering\",\"Non-Stuttering\",\"Stuttering\",\"Non-Stuttering\",\"Stuttering\",\"Non-Stuttering\",\"Stuttering\",\"Non-Stuttering\",\"Stuttering\",\"Non-Stuttering\",\"Stuttering\",\"Non-Stuttering\",\"Stuttering\",\"Non-Stuttering\"],[69.40220201914453,67.86371333691774,0.05046065097795547,0.05487470775543166,46.65401571270712,37.323038167516856,0.04862909674323493,0.05243075186280688,0.06431843695283829,0.05456158362328059,70.39628404029003,75.7478908801672,68.95041039721353,67.6407302303125],[3.930367518500597,7.701623109082918,0.008679099459351391,0.011282215636392761,3.4953493803374767,3.362547609525304,0.0,0.0,0.01178703795084353,0.015054988765133682,8.73490634058005,9.293750643902202,7.204218066386357,14.101890430285911]]},\"header\":{\"align\":\"left\",\"fill\":{\"color\":\"lightgray\"},\"line\":{\"color\":\"black\"},\"values\":[\"Rhythm Metrics\",\"Group\",\"Mean\",\"SD\"]},\"type\":\"table\"}],                        {\"template\":{\"data\":{\"bar\":[{\"error_x\":{\"color\":\"#2a3f5f\"},\"error_y\":{\"color\":\"#2a3f5f\"},\"marker\":{\"line\":{\"color\":\"#E5ECF6\",\"width\":0.5},\"pattern\":{\"fillmode\":\"overlay\",\"size\":10,\"solidity\":0.2}},\"type\":\"bar\"}],\"barpolar\":[{\"marker\":{\"line\":{\"color\":\"#E5ECF6\",\"width\":0.5},\"pattern\":{\"fillmode\":\"overlay\",\"size\":10,\"solidity\":0.2}},\"type\":\"barpolar\"}],\"carpet\":[{\"aaxis\":{\"endlinecolor\":\"#2a3f5f\",\"gridcolor\":\"white\",\"linecolor\":\"white\",\"minorgridcolor\":\"white\",\"startlinecolor\":\"#2a3f5f\"},\"baxis\":{\"endlinecolor\":\"#2a3f5f\",\"gridcolor\":\"white\",\"linecolor\":\"white\",\"minorgridcolor\":\"white\",\"startlinecolor\":\"#2a3f5f\"},\"type\":\"carpet\"}],\"choropleth\":[{\"colorbar\":{\"outlinewidth\":0,\"ticks\":\"\"},\"type\":\"choropleth\"}],\"contour\":[{\"colorbar\":{\"outlinewidth\":0,\"ticks\":\"\"},\"colorscale\":[[0.0,\"#0d0887\"],[0.1111111111111111,\"#46039f\"],[0.2222222222222222,\"#7201a8\"],[0.3333333333333333,\"#9c179e\"],[0.4444444444444444,\"#bd3786\"],[0.5555555555555556,\"#d8576b\"],[0.6666666666666666,\"#ed7953\"],[0.7777777777777778,\"#fb9f3a\"],[0.8888888888888888,\"#fdca26\"],[1.0,\"#f0f921\"]],\"type\":\"contour\"}],\"contourcarpet\":[{\"colorbar\":{\"outlinewidth\":0,\"ticks\":\"\"},\"type\":\"contourcarpet\"}],\"heatmap\":[{\"colorbar\":{\"outlinewidth\":0,\"ticks\":\"\"},\"colorscale\":[[0.0,\"#0d0887\"],[0.1111111111111111,\"#46039f\"],[0.2222222222222222,\"#7201a8\"],[0.3333333333333333,\"#9c179e\"],[0.4444444444444444,\"#bd3786\"],[0.5555555555555556,\"#d8576b\"],[0.6666666666666666,\"#ed7953\"],[0.7777777777777778,\"#fb9f3a\"],[0.8888888888888888,\"#fdca26\"],[1.0,\"#f0f921\"]],\"type\":\"heatmap\"}],\"heatmapgl\":[{\"colorbar\":{\"outlinewidth\":0,\"ticks\":\"\"},\"colorscale\":[[0.0,\"#0d0887\"],[0.1111111111111111,\"#46039f\"],[0.2222222222222222,\"#7201a8\"],[0.3333333333333333,\"#9c179e\"],[0.4444444444444444,\"#bd3786\"],[0.5555555555555556,\"#d8576b\"],[0.6666666666666666,\"#ed7953\"],[0.7777777777777778,\"#fb9f3a\"],[0.8888888888888888,\"#fdca26\"],[1.0,\"#f0f921\"]],\"type\":\"heatmapgl\"}],\"histogram\":[{\"marker\":{\"pattern\":{\"fillmode\":\"overlay\",\"size\":10,\"solidity\":0.2}},\"type\":\"histogram\"}],\"histogram2d\":[{\"colorbar\":{\"outlinewidth\":0,\"ticks\":\"\"},\"colorscale\":[[0.0,\"#0d0887\"],[0.1111111111111111,\"#46039f\"],[0.2222222222222222,\"#7201a8\"],[0.3333333333333333,\"#9c179e\"],[0.4444444444444444,\"#bd3786\"],[0.5555555555555556,\"#d8576b\"],[0.6666666666666666,\"#ed7953\"],[0.7777777777777778,\"#fb9f3a\"],[0.8888888888888888,\"#fdca26\"],[1.0,\"#f0f921\"]],\"type\":\"histogram2d\"}],\"histogram2dcontour\":[{\"colorbar\":{\"outlinewidth\":0,\"ticks\":\"\"},\"colorscale\":[[0.0,\"#0d0887\"],[0.1111111111111111,\"#46039f\"],[0.2222222222222222,\"#7201a8\"],[0.3333333333333333,\"#9c179e\"],[0.4444444444444444,\"#bd3786\"],[0.5555555555555556,\"#d8576b\"],[0.6666666666666666,\"#ed7953\"],[0.7777777777777778,\"#fb9f3a\"],[0.8888888888888888,\"#fdca26\"],[1.0,\"#f0f921\"]],\"type\":\"histogram2dcontour\"}],\"mesh3d\":[{\"colorbar\":{\"outlinewidth\":0,\"ticks\":\"\"},\"type\":\"mesh3d\"}],\"parcoords\":[{\"line\":{\"colorbar\":{\"outlinewidth\":0,\"ticks\":\"\"}},\"type\":\"parcoords\"}],\"pie\":[{\"automargin\":true,\"type\":\"pie\"}],\"scatter\":[{\"marker\":{\"colorbar\":{\"outlinewidth\":0,\"ticks\":\"\"}},\"type\":\"scatter\"}],\"scatter3d\":[{\"line\":{\"colorbar\":{\"outlinewidth\":0,\"ticks\":\"\"}},\"marker\":{\"colorbar\":{\"outlinewidth\":0,\"ticks\":\"\"}},\"type\":\"scatter3d\"}],\"scattercarpet\":[{\"marker\":{\"colorbar\":{\"outlinewidth\":0,\"ticks\":\"\"}},\"type\":\"scattercarpet\"}],\"scattergeo\":[{\"marker\":{\"colorbar\":{\"outlinewidth\":0,\"ticks\":\"\"}},\"type\":\"scattergeo\"}],\"scattergl\":[{\"marker\":{\"colorbar\":{\"outlinewidth\":0,\"ticks\":\"\"}},\"type\":\"scattergl\"}],\"scattermapbox\":[{\"marker\":{\"colorbar\":{\"outlinewidth\":0,\"ticks\":\"\"}},\"type\":\"scattermapbox\"}],\"scatterpolar\":[{\"marker\":{\"colorbar\":{\"outlinewidth\":0,\"ticks\":\"\"}},\"type\":\"scatterpolar\"}],\"scatterpolargl\":[{\"marker\":{\"colorbar\":{\"outlinewidth\":0,\"ticks\":\"\"}},\"type\":\"scatterpolargl\"}],\"scatterternary\":[{\"marker\":{\"colorbar\":{\"outlinewidth\":0,\"ticks\":\"\"}},\"type\":\"scatterternary\"}],\"surface\":[{\"colorbar\":{\"outlinewidth\":0,\"ticks\":\"\"},\"colorscale\":[[0.0,\"#0d0887\"],[0.1111111111111111,\"#46039f\"],[0.2222222222222222,\"#7201a8\"],[0.3333333333333333,\"#9c179e\"],[0.4444444444444444,\"#bd3786\"],[0.5555555555555556,\"#d8576b\"],[0.6666666666666666,\"#ed7953\"],[0.7777777777777778,\"#fb9f3a\"],[0.8888888888888888,\"#fdca26\"],[1.0,\"#f0f921\"]],\"type\":\"surface\"}],\"table\":[{\"cells\":{\"fill\":{\"color\":\"#EBF0F8\"},\"line\":{\"color\":\"white\"}},\"header\":{\"fill\":{\"color\":\"#C8D4E3\"},\"line\":{\"color\":\"white\"}},\"type\":\"table\"}]},\"layout\":{\"annotationdefaults\":{\"arrowcolor\":\"#2a3f5f\",\"arrowhead\":0,\"arrowwidth\":1},\"autotypenumbers\":\"strict\",\"coloraxis\":{\"colorbar\":{\"outlinewidth\":0,\"ticks\":\"\"}},\"colorscale\":{\"diverging\":[[0,\"#8e0152\"],[0.1,\"#c51b7d\"],[0.2,\"#de77ae\"],[0.3,\"#f1b6da\"],[0.4,\"#fde0ef\"],[0.5,\"#f7f7f7\"],[0.6,\"#e6f5d0\"],[0.7,\"#b8e186\"],[0.8,\"#7fbc41\"],[0.9,\"#4d9221\"],[1,\"#276419\"]],\"sequential\":[[0.0,\"#0d0887\"],[0.1111111111111111,\"#46039f\"],[0.2222222222222222,\"#7201a8\"],[0.3333333333333333,\"#9c179e\"],[0.4444444444444444,\"#bd3786\"],[0.5555555555555556,\"#d8576b\"],[0.6666666666666666,\"#ed7953\"],[0.7777777777777778,\"#fb9f3a\"],[0.8888888888888888,\"#fdca26\"],[1.0,\"#f0f921\"]],\"sequentialminus\":[[0.0,\"#0d0887\"],[0.1111111111111111,\"#46039f\"],[0.2222222222222222,\"#7201a8\"],[0.3333333333333333,\"#9c179e\"],[0.4444444444444444,\"#bd3786\"],[0.5555555555555556,\"#d8576b\"],[0.6666666666666666,\"#ed7953\"],[0.7777777777777778,\"#fb9f3a\"],[0.8888888888888888,\"#fdca26\"],[1.0,\"#f0f921\"]]},\"colorway\":[\"#636efa\",\"#EF553B\",\"#00cc96\",\"#ab63fa\",\"#FFA15A\",\"#19d3f3\",\"#FF6692\",\"#B6E880\",\"#FF97FF\",\"#FECB52\"],\"font\":{\"color\":\"#2a3f5f\"},\"geo\":{\"bgcolor\":\"white\",\"lakecolor\":\"white\",\"landcolor\":\"#E5ECF6\",\"showlakes\":true,\"showland\":true,\"subunitcolor\":\"white\"},\"hoverlabel\":{\"align\":\"left\"},\"hovermode\":\"closest\",\"mapbox\":{\"style\":\"light\"},\"paper_bgcolor\":\"white\",\"plot_bgcolor\":\"#E5ECF6\",\"polar\":{\"angularaxis\":{\"gridcolor\":\"white\",\"linecolor\":\"white\",\"ticks\":\"\"},\"bgcolor\":\"#E5ECF6\",\"radialaxis\":{\"gridcolor\":\"white\",\"linecolor\":\"white\",\"ticks\":\"\"}},\"scene\":{\"xaxis\":{\"backgroundcolor\":\"#E5ECF6\",\"gridcolor\":\"white\",\"gridwidth\":2,\"linecolor\":\"white\",\"showbackground\":true,\"ticks\":\"\",\"zerolinecolor\":\"white\"},\"yaxis\":{\"backgroundcolor\":\"#E5ECF6\",\"gridcolor\":\"white\",\"gridwidth\":2,\"linecolor\":\"white\",\"showbackground\":true,\"ticks\":\"\",\"zerolinecolor\":\"white\"},\"zaxis\":{\"backgroundcolor\":\"#E5ECF6\",\"gridcolor\":\"white\",\"gridwidth\":2,\"linecolor\":\"white\",\"showbackground\":true,\"ticks\":\"\",\"zerolinecolor\":\"white\"}},\"shapedefaults\":{\"line\":{\"color\":\"#2a3f5f\"}},\"ternary\":{\"aaxis\":{\"gridcolor\":\"white\",\"linecolor\":\"white\",\"ticks\":\"\"},\"baxis\":{\"gridcolor\":\"white\",\"linecolor\":\"white\",\"ticks\":\"\"},\"bgcolor\":\"#E5ECF6\",\"caxis\":{\"gridcolor\":\"white\",\"linecolor\":\"white\",\"ticks\":\"\"}},\"title\":{\"x\":0.05},\"xaxis\":{\"automargin\":true,\"gridcolor\":\"white\",\"linecolor\":\"white\",\"ticks\":\"\",\"title\":{\"standoff\":15},\"zerolinecolor\":\"white\",\"zerolinewidth\":2},\"yaxis\":{\"automargin\":true,\"gridcolor\":\"white\",\"linecolor\":\"white\",\"ticks\":\"\",\"title\":{\"standoff\":15},\"zerolinecolor\":\"white\",\"zerolinewidth\":2}}}},                        {\"responsive\": true}                    ).then(function(){\n",
              "                            \n",
              "var gd = document.getElementById('525b4139-0cb1-460d-8f49-7168cca007b3');\n",
              "var x = new MutationObserver(function (mutations, observer) {{\n",
              "        var display = window.getComputedStyle(gd).display;\n",
              "        if (!display || display === 'none') {{\n",
              "            console.log([gd, 'removed!']);\n",
              "            Plotly.purge(gd);\n",
              "            observer.disconnect();\n",
              "        }}\n",
              "}});\n",
              "\n",
              "// Listen for the removal of the full notebook cells\n",
              "var notebookContainer = gd.closest('#notebook-container');\n",
              "if (notebookContainer) {{\n",
              "    x.observe(notebookContainer, {childList: true});\n",
              "}}\n",
              "\n",
              "// Listen for the clearing of the current output cell\n",
              "var outputEl = gd.closest('.output');\n",
              "if (outputEl) {{\n",
              "    x.observe(outputEl, {childList: true});\n",
              "}}\n",
              "\n",
              "                        })                };                            </script>        </div>\n",
              "</body>\n",
              "</html>"
            ]
          },
          "metadata": {}
        }
      ]
    },
    {
      "cell_type": "markdown",
      "source": [
        "**Plot Results**"
      ],
      "metadata": {
        "id": "f5k0Kra6oPZC"
      }
    },
    {
      "cell_type": "markdown",
      "source": [
        "**Python Built-In**"
      ],
      "metadata": {
        "id": "fbkZNO1iSw5R"
      }
    },
    {
      "cell_type": "code",
      "source": [
        "pws_n = len(nPVI_reading_pws)\n",
        "control_n = len(nPVI_reading_control)\n",
        "subject_n = pws_n + control_n"
      ],
      "metadata": {
        "id": "IJaHh4YLITDk"
      },
      "execution_count": 49,
      "outputs": []
    },
    {
      "cell_type": "code",
      "source": [
        "# initialize dataframes\n",
        "df_boxplot_pws = pd.DataFrame()\n",
        "df_boxplot_control = pd.DataFrame()\n",
        "df_boxplot_group = pd.DataFrame(index = range(subject_n), columns = [\"Group\"])"
      ],
      "metadata": {
        "id": "OAbcu7YsE5_D"
      },
      "execution_count": 50,
      "outputs": []
    },
    {
      "cell_type": "code",
      "source": [
        "# group column\n",
        "df_boxplot_group.iloc[0:pws_n] = \"PWS\"\n",
        "df_boxplot_group.iloc[pws_n:subject_n] = \"Control\""
      ],
      "metadata": {
        "id": "9eLfUgk-HCM9"
      },
      "execution_count": 51,
      "outputs": []
    },
    {
      "cell_type": "code",
      "source": [
        "#PWS rows\n",
        "df_boxplot_pws[\"Reading\"] = result_reading_pws[\"nPVI\"]\n",
        "df_boxplot_pws[\"Interview\"] = result_interview_pws[\"nPVI\"]"
      ],
      "metadata": {
        "id": "8Wm7G8VZE_Pk"
      },
      "execution_count": 52,
      "outputs": []
    },
    {
      "cell_type": "code",
      "source": [
        "#Control rows\n",
        "df_boxplot_control[\"Reading\"] =result_reading_control[\"nPVI\"]\n",
        "df_boxplot_control[\"Interview\"] = result_interview_control[\"nPVI\"]"
      ],
      "metadata": {
        "id": "pwoo888BFjwk"
      },
      "execution_count": 53,
      "outputs": []
    },
    {
      "cell_type": "code",
      "source": [
        "# Combine PWS and Control\n",
        "df_boxplot = pd.concat([df_boxplot_pws, df_boxplot_control], ignore_index = True)"
      ],
      "metadata": {
        "id": "sf3LhNdqGRaj"
      },
      "execution_count": 54,
      "outputs": []
    },
    {
      "cell_type": "code",
      "source": [
        "#Add group column\n",
        "df_boxplot[\"Group\"] = df_boxplot_group"
      ],
      "metadata": {
        "id": "4f-muB5BI2ak"
      },
      "execution_count": 55,
      "outputs": []
    },
    {
      "cell_type": "code",
      "source": [
        "df_boxplot"
      ],
      "metadata": {
        "id": "gmeZdVjhFENN",
        "colab": {
          "base_uri": "https://localhost:8080/",
          "height": 989
        },
        "outputId": "bb17ebf6-265e-49eb-809d-c39edaac7906"
      },
      "execution_count": 56,
      "outputs": [
        {
          "output_type": "execute_result",
          "data": {
            "text/plain": [
              "      Reading  Interview    Group\n",
              "0   68.451109  69.372607      PWS\n",
              "1   56.244901  72.002933      PWS\n",
              "2   62.515824  58.615977      PWS\n",
              "3   63.543207  70.095563      PWS\n",
              "4   61.064937  68.430625      PWS\n",
              "5   61.328705  71.202583      PWS\n",
              "6   72.471848  73.773938      PWS\n",
              "7   67.718258  72.976142      PWS\n",
              "8   66.720929  66.830960      PWS\n",
              "9   69.634709  70.781323      PWS\n",
              "10  67.097556  71.380257      PWS\n",
              "11  64.809082  62.183813      PWS\n",
              "12  66.131955  69.544281      PWS\n",
              "13  70.336261  70.358624      PWS\n",
              "14  70.394683  68.750666      PWS\n",
              "15  71.795742  70.230799      PWS\n",
              "16  73.011320  75.146081      PWS\n",
              "17  68.127520  67.562464      PWS\n",
              "18  64.949198  74.557969  Control\n",
              "19  82.636385  64.705013  Control\n",
              "20  56.912502  65.791414  Control\n",
              "21  64.155347  74.022174  Control\n",
              "22  69.003174  65.920588  Control\n",
              "23  64.069882  70.541950  Control\n",
              "24  56.578940  70.745756  Control\n",
              "25  63.374134  81.744175  Control\n",
              "26  64.154835  60.716428  Control\n",
              "27  57.846806  70.191392  Control\n",
              "28  53.254450  51.350275  Control\n",
              "29  69.297956  64.077425  Control"
            ],
            "text/html": [
              "\n",
              "  <div id=\"df-25f1b359-af93-4e2a-b3f6-af001ca6e58f\">\n",
              "    <div class=\"colab-df-container\">\n",
              "      <div>\n",
              "<style scoped>\n",
              "    .dataframe tbody tr th:only-of-type {\n",
              "        vertical-align: middle;\n",
              "    }\n",
              "\n",
              "    .dataframe tbody tr th {\n",
              "        vertical-align: top;\n",
              "    }\n",
              "\n",
              "    .dataframe thead th {\n",
              "        text-align: right;\n",
              "    }\n",
              "</style>\n",
              "<table border=\"1\" class=\"dataframe\">\n",
              "  <thead>\n",
              "    <tr style=\"text-align: right;\">\n",
              "      <th></th>\n",
              "      <th>Reading</th>\n",
              "      <th>Interview</th>\n",
              "      <th>Group</th>\n",
              "    </tr>\n",
              "  </thead>\n",
              "  <tbody>\n",
              "    <tr>\n",
              "      <th>0</th>\n",
              "      <td>68.451109</td>\n",
              "      <td>69.372607</td>\n",
              "      <td>PWS</td>\n",
              "    </tr>\n",
              "    <tr>\n",
              "      <th>1</th>\n",
              "      <td>56.244901</td>\n",
              "      <td>72.002933</td>\n",
              "      <td>PWS</td>\n",
              "    </tr>\n",
              "    <tr>\n",
              "      <th>2</th>\n",
              "      <td>62.515824</td>\n",
              "      <td>58.615977</td>\n",
              "      <td>PWS</td>\n",
              "    </tr>\n",
              "    <tr>\n",
              "      <th>3</th>\n",
              "      <td>63.543207</td>\n",
              "      <td>70.095563</td>\n",
              "      <td>PWS</td>\n",
              "    </tr>\n",
              "    <tr>\n",
              "      <th>4</th>\n",
              "      <td>61.064937</td>\n",
              "      <td>68.430625</td>\n",
              "      <td>PWS</td>\n",
              "    </tr>\n",
              "    <tr>\n",
              "      <th>5</th>\n",
              "      <td>61.328705</td>\n",
              "      <td>71.202583</td>\n",
              "      <td>PWS</td>\n",
              "    </tr>\n",
              "    <tr>\n",
              "      <th>6</th>\n",
              "      <td>72.471848</td>\n",
              "      <td>73.773938</td>\n",
              "      <td>PWS</td>\n",
              "    </tr>\n",
              "    <tr>\n",
              "      <th>7</th>\n",
              "      <td>67.718258</td>\n",
              "      <td>72.976142</td>\n",
              "      <td>PWS</td>\n",
              "    </tr>\n",
              "    <tr>\n",
              "      <th>8</th>\n",
              "      <td>66.720929</td>\n",
              "      <td>66.830960</td>\n",
              "      <td>PWS</td>\n",
              "    </tr>\n",
              "    <tr>\n",
              "      <th>9</th>\n",
              "      <td>69.634709</td>\n",
              "      <td>70.781323</td>\n",
              "      <td>PWS</td>\n",
              "    </tr>\n",
              "    <tr>\n",
              "      <th>10</th>\n",
              "      <td>67.097556</td>\n",
              "      <td>71.380257</td>\n",
              "      <td>PWS</td>\n",
              "    </tr>\n",
              "    <tr>\n",
              "      <th>11</th>\n",
              "      <td>64.809082</td>\n",
              "      <td>62.183813</td>\n",
              "      <td>PWS</td>\n",
              "    </tr>\n",
              "    <tr>\n",
              "      <th>12</th>\n",
              "      <td>66.131955</td>\n",
              "      <td>69.544281</td>\n",
              "      <td>PWS</td>\n",
              "    </tr>\n",
              "    <tr>\n",
              "      <th>13</th>\n",
              "      <td>70.336261</td>\n",
              "      <td>70.358624</td>\n",
              "      <td>PWS</td>\n",
              "    </tr>\n",
              "    <tr>\n",
              "      <th>14</th>\n",
              "      <td>70.394683</td>\n",
              "      <td>68.750666</td>\n",
              "      <td>PWS</td>\n",
              "    </tr>\n",
              "    <tr>\n",
              "      <th>15</th>\n",
              "      <td>71.795742</td>\n",
              "      <td>70.230799</td>\n",
              "      <td>PWS</td>\n",
              "    </tr>\n",
              "    <tr>\n",
              "      <th>16</th>\n",
              "      <td>73.011320</td>\n",
              "      <td>75.146081</td>\n",
              "      <td>PWS</td>\n",
              "    </tr>\n",
              "    <tr>\n",
              "      <th>17</th>\n",
              "      <td>68.127520</td>\n",
              "      <td>67.562464</td>\n",
              "      <td>PWS</td>\n",
              "    </tr>\n",
              "    <tr>\n",
              "      <th>18</th>\n",
              "      <td>64.949198</td>\n",
              "      <td>74.557969</td>\n",
              "      <td>Control</td>\n",
              "    </tr>\n",
              "    <tr>\n",
              "      <th>19</th>\n",
              "      <td>82.636385</td>\n",
              "      <td>64.705013</td>\n",
              "      <td>Control</td>\n",
              "    </tr>\n",
              "    <tr>\n",
              "      <th>20</th>\n",
              "      <td>56.912502</td>\n",
              "      <td>65.791414</td>\n",
              "      <td>Control</td>\n",
              "    </tr>\n",
              "    <tr>\n",
              "      <th>21</th>\n",
              "      <td>64.155347</td>\n",
              "      <td>74.022174</td>\n",
              "      <td>Control</td>\n",
              "    </tr>\n",
              "    <tr>\n",
              "      <th>22</th>\n",
              "      <td>69.003174</td>\n",
              "      <td>65.920588</td>\n",
              "      <td>Control</td>\n",
              "    </tr>\n",
              "    <tr>\n",
              "      <th>23</th>\n",
              "      <td>64.069882</td>\n",
              "      <td>70.541950</td>\n",
              "      <td>Control</td>\n",
              "    </tr>\n",
              "    <tr>\n",
              "      <th>24</th>\n",
              "      <td>56.578940</td>\n",
              "      <td>70.745756</td>\n",
              "      <td>Control</td>\n",
              "    </tr>\n",
              "    <tr>\n",
              "      <th>25</th>\n",
              "      <td>63.374134</td>\n",
              "      <td>81.744175</td>\n",
              "      <td>Control</td>\n",
              "    </tr>\n",
              "    <tr>\n",
              "      <th>26</th>\n",
              "      <td>64.154835</td>\n",
              "      <td>60.716428</td>\n",
              "      <td>Control</td>\n",
              "    </tr>\n",
              "    <tr>\n",
              "      <th>27</th>\n",
              "      <td>57.846806</td>\n",
              "      <td>70.191392</td>\n",
              "      <td>Control</td>\n",
              "    </tr>\n",
              "    <tr>\n",
              "      <th>28</th>\n",
              "      <td>53.254450</td>\n",
              "      <td>51.350275</td>\n",
              "      <td>Control</td>\n",
              "    </tr>\n",
              "    <tr>\n",
              "      <th>29</th>\n",
              "      <td>69.297956</td>\n",
              "      <td>64.077425</td>\n",
              "      <td>Control</td>\n",
              "    </tr>\n",
              "  </tbody>\n",
              "</table>\n",
              "</div>\n",
              "      <button class=\"colab-df-convert\" onclick=\"convertToInteractive('df-25f1b359-af93-4e2a-b3f6-af001ca6e58f')\"\n",
              "              title=\"Convert this dataframe to an interactive table.\"\n",
              "              style=\"display:none;\">\n",
              "        \n",
              "  <svg xmlns=\"http://www.w3.org/2000/svg\" height=\"24px\"viewBox=\"0 0 24 24\"\n",
              "       width=\"24px\">\n",
              "    <path d=\"M0 0h24v24H0V0z\" fill=\"none\"/>\n",
              "    <path d=\"M18.56 5.44l.94 2.06.94-2.06 2.06-.94-2.06-.94-.94-2.06-.94 2.06-2.06.94zm-11 1L8.5 8.5l.94-2.06 2.06-.94-2.06-.94L8.5 2.5l-.94 2.06-2.06.94zm10 10l.94 2.06.94-2.06 2.06-.94-2.06-.94-.94-2.06-.94 2.06-2.06.94z\"/><path d=\"M17.41 7.96l-1.37-1.37c-.4-.4-.92-.59-1.43-.59-.52 0-1.04.2-1.43.59L10.3 9.45l-7.72 7.72c-.78.78-.78 2.05 0 2.83L4 21.41c.39.39.9.59 1.41.59.51 0 1.02-.2 1.41-.59l7.78-7.78 2.81-2.81c.8-.78.8-2.07 0-2.86zM5.41 20L4 18.59l7.72-7.72 1.47 1.35L5.41 20z\"/>\n",
              "  </svg>\n",
              "      </button>\n",
              "      \n",
              "  <style>\n",
              "    .colab-df-container {\n",
              "      display:flex;\n",
              "      flex-wrap:wrap;\n",
              "      gap: 12px;\n",
              "    }\n",
              "\n",
              "    .colab-df-convert {\n",
              "      background-color: #E8F0FE;\n",
              "      border: none;\n",
              "      border-radius: 50%;\n",
              "      cursor: pointer;\n",
              "      display: none;\n",
              "      fill: #1967D2;\n",
              "      height: 32px;\n",
              "      padding: 0 0 0 0;\n",
              "      width: 32px;\n",
              "    }\n",
              "\n",
              "    .colab-df-convert:hover {\n",
              "      background-color: #E2EBFA;\n",
              "      box-shadow: 0px 1px 2px rgba(60, 64, 67, 0.3), 0px 1px 3px 1px rgba(60, 64, 67, 0.15);\n",
              "      fill: #174EA6;\n",
              "    }\n",
              "\n",
              "    [theme=dark] .colab-df-convert {\n",
              "      background-color: #3B4455;\n",
              "      fill: #D2E3FC;\n",
              "    }\n",
              "\n",
              "    [theme=dark] .colab-df-convert:hover {\n",
              "      background-color: #434B5C;\n",
              "      box-shadow: 0px 1px 3px 1px rgba(0, 0, 0, 0.15);\n",
              "      filter: drop-shadow(0px 1px 2px rgba(0, 0, 0, 0.3));\n",
              "      fill: #FFFFFF;\n",
              "    }\n",
              "  </style>\n",
              "\n",
              "      <script>\n",
              "        const buttonEl =\n",
              "          document.querySelector('#df-25f1b359-af93-4e2a-b3f6-af001ca6e58f button.colab-df-convert');\n",
              "        buttonEl.style.display =\n",
              "          google.colab.kernel.accessAllowed ? 'block' : 'none';\n",
              "\n",
              "        async function convertToInteractive(key) {\n",
              "          const element = document.querySelector('#df-25f1b359-af93-4e2a-b3f6-af001ca6e58f');\n",
              "          const dataTable =\n",
              "            await google.colab.kernel.invokeFunction('convertToInteractive',\n",
              "                                                     [key], {});\n",
              "          if (!dataTable) return;\n",
              "\n",
              "          const docLinkHtml = 'Like what you see? Visit the ' +\n",
              "            '<a target=\"_blank\" href=https://colab.research.google.com/notebooks/data_table.ipynb>data table notebook</a>'\n",
              "            + ' to learn more about interactive tables.';\n",
              "          element.innerHTML = '';\n",
              "          dataTable['output_type'] = 'display_data';\n",
              "          await google.colab.output.renderOutput(dataTable, element);\n",
              "          const docLink = document.createElement('div');\n",
              "          docLink.innerHTML = docLinkHtml;\n",
              "          element.appendChild(docLink);\n",
              "        }\n",
              "      </script>\n",
              "    </div>\n",
              "  </div>\n",
              "  "
            ]
          },
          "metadata": {},
          "execution_count": 56
        }
      ]
    },
    {
      "cell_type": "code",
      "source": [
        "boxplot = df_boxplot.boxplot(by = \"Group\", figsize=[14,8], fontsize = 18, return_type='axes');"
      ],
      "metadata": {
        "colab": {
          "base_uri": "https://localhost:8080/",
          "height": 548
        },
        "id": "d4mOL1T1KWwm",
        "outputId": "4deed763-8d94-4d5b-c585-b9cf56971521"
      },
      "execution_count": 57,
      "outputs": [
        {
          "output_type": "display_data",
          "data": {
            "text/plain": [
              "<Figure size 1008x576 with 2 Axes>"
            ],
            "image/png": "[encoded data removed]"
          },
          "metadata": {
            "needs_background": "light"
          }
        }
      ]
    },
    {
      "cell_type": "markdown",
      "source": [
        "**MatplotLib**"
      ],
      "metadata": {
        "id": "QHhEK054SkpJ"
      }
    },
    {
      "cell_type": "code",
      "source": [
        "df_boxplot_reading = {'Control':nPVI_reading_control, 'PWS':nPVI_reading_pws}\n",
        "df_boxplot_interview = {'Control':nPVI_interview_control, 'PWS':nPVI_interview_pws}"
      ],
      "metadata": {
        "id": "LAeROAHjQpqQ"
      },
      "execution_count": 58,
      "outputs": []
    },
    {
      "cell_type": "code",
      "source": [
        "fig, ([ax1, ax2]) = plt.subplots(1, 2)\n",
        "fig.suptitle('nPVI Across Conditions', fontsize=16, fontweight='bold')\n",
        "ax1.boxplot(df_boxplot_reading.values())\n",
        "ax1.set_xticklabels(df_boxplot_reading.keys())\n",
        "ax1.set_title(\"Reading\")\n",
        "ax1.set_ylabel(\"nPVI\")\n",
        "ax2.boxplot(df_boxplot_interview.values())\n",
        "ax2.set_xticklabels(df_boxplot_interview.keys())\n",
        "ax2.set_title(\"Interview\")\n",
        "plt.savefig(\"boxplot.png\");"
      ],
      "metadata": {
        "colab": {
          "base_uri": "https://localhost:8080/",
          "height": 294
        },
        "id": "3ZVMtzzZN2bn",
        "outputId": "ee6ae0c3-2e03-4944-9a4d-1a9c1d255f8f"
      },
      "execution_count": 59,
      "outputs": [
        {
          "output_type": "display_data",
          "data": {
            "text/plain": [
              "<Figure size 432x288 with 2 Axes>"
            ],
            "image/png": "[encoded data removed]"
          },
          "metadata": {
            "needs_background": "light"
          }
        }
      ]
    },
    {
      "cell_type": "markdown",
      "source": [
        "**Compare to Liss et al.**"
      ],
      "metadata": {
        "id": "hS8TZR-cDkIC"
      }
    },
    {
      "cell_type": "code",
      "source": [
        "df2plot = pd.DataFrame(columns = [\"Group\", \"Condition\", \"%V\",\"VarcoV\"])"
      ],
      "metadata": {
        "id": "GmWr6USAoSgj"
      },
      "execution_count": 60,
      "outputs": []
    },
    {
      "cell_type": "code",
      "source": [
        "group = [\"PWS\", \"Control\", \"PWS\", \"Control\"]\n",
        "condition = [\"reading\", \"reading\", \"interview\", \"interview\"]\n",
        "PercV = [result_reading_pws.mean()[0], result_reading_control.mean()[0], result_interview_pws.mean()[0], result_interview_control.mean()[0]]\n",
        "VarcoV = [result_reading_pws.mean()[4], result_reading_control.mean()[4], result_interview_pws.mean()[4], result_interview_control.mean()[4]]"
      ],
      "metadata": {
        "id": "MyPxn4eSpxfx"
      },
      "execution_count": 61,
      "outputs": []
    },
    {
      "cell_type": "code",
      "source": [
        "df2plot[\"Group\"] = group\n",
        "df2plot[\"Condition\"] = condition\n",
        "df2plot[\"%V\"] = PercV\n",
        "df2plot[\"VarcoV\"] = VarcoV"
      ],
      "metadata": {
        "id": "8imq1_VmoSbB"
      },
      "execution_count": 62,
      "outputs": []
    },
    {
      "cell_type": "code",
      "source": [
        "df2plot"
      ],
      "metadata": {
        "colab": {
          "base_uri": "https://localhost:8080/",
          "height": 175
        },
        "id": "1rssbZphimDA",
        "outputId": "4f77b061-e901-45b3-a915-e8c9b00f55d4"
      },
      "execution_count": 69,
      "outputs": [
        {
          "output_type": "execute_result",
          "data": {
            "text/plain": [
              "     Group  Condition         %V    VarcoV\n",
              "0      PWS    reading  66.744364  0.051151\n",
              "1  Control    reading  63.852801  0.040330\n",
              "2      PWS  interview  69.402202  0.064318\n",
              "3  Control  interview  67.863713  0.054562"
            ],
            "text/html": [
              "\n",
              "  <div id=\"df-0e4d0525-0daf-4a00-a496-ab746aa3f7d2\">\n",
              "    <div class=\"colab-df-container\">\n",
              "      <div>\n",
              "<style scoped>\n",
              "    .dataframe tbody tr th:only-of-type {\n",
              "        vertical-align: middle;\n",
              "    }\n",
              "\n",
              "    .dataframe tbody tr th {\n",
              "        vertical-align: top;\n",
              "    }\n",
              "\n",
              "    .dataframe thead th {\n",
              "        text-align: right;\n",
              "    }\n",
              "</style>\n",
              "<table border=\"1\" class=\"dataframe\">\n",
              "  <thead>\n",
              "    <tr style=\"text-align: right;\">\n",
              "      <th></th>\n",
              "      <th>Group</th>\n",
              "      <th>Condition</th>\n",
              "      <th>%V</th>\n",
              "      <th>VarcoV</th>\n",
              "    </tr>\n",
              "  </thead>\n",
              "  <tbody>\n",
              "    <tr>\n",
              "      <th>0</th>\n",
              "      <td>PWS</td>\n",
              "      <td>reading</td>\n",
              "      <td>66.744364</td>\n",
              "      <td>0.051151</td>\n",
              "    </tr>\n",
              "    <tr>\n",
              "      <th>1</th>\n",
              "      <td>Control</td>\n",
              "      <td>reading</td>\n",
              "      <td>63.852801</td>\n",
              "      <td>0.040330</td>\n",
              "    </tr>\n",
              "    <tr>\n",
              "      <th>2</th>\n",
              "      <td>PWS</td>\n",
              "      <td>interview</td>\n",
              "      <td>69.402202</td>\n",
              "      <td>0.064318</td>\n",
              "    </tr>\n",
              "    <tr>\n",
              "      <th>3</th>\n",
              "      <td>Control</td>\n",
              "      <td>interview</td>\n",
              "      <td>67.863713</td>\n",
              "      <td>0.054562</td>\n",
              "    </tr>\n",
              "  </tbody>\n",
              "</table>\n",
              "</div>\n",
              "      <button class=\"colab-df-convert\" onclick=\"convertToInteractive('df-0e4d0525-0daf-4a00-a496-ab746aa3f7d2')\"\n",
              "              title=\"Convert this dataframe to an interactive table.\"\n",
              "              style=\"display:none;\">\n",
              "        \n",
              "  <svg xmlns=\"http://www.w3.org/2000/svg\" height=\"24px\"viewBox=\"0 0 24 24\"\n",
              "       width=\"24px\">\n",
              "    <path d=\"M0 0h24v24H0V0z\" fill=\"none\"/>\n",
              "    <path d=\"M18.56 5.44l.94 2.06.94-2.06 2.06-.94-2.06-.94-.94-2.06-.94 2.06-2.06.94zm-11 1L8.5 8.5l.94-2.06 2.06-.94-2.06-.94L8.5 2.5l-.94 2.06-2.06.94zm10 10l.94 2.06.94-2.06 2.06-.94-2.06-.94-.94-2.06-.94 2.06-2.06.94z\"/><path d=\"M17.41 7.96l-1.37-1.37c-.4-.4-.92-.59-1.43-.59-.52 0-1.04.2-1.43.59L10.3 9.45l-7.72 7.72c-.78.78-.78 2.05 0 2.83L4 21.41c.39.39.9.59 1.41.59.51 0 1.02-.2 1.41-.59l7.78-7.78 2.81-2.81c.8-.78.8-2.07 0-2.86zM5.41 20L4 18.59l7.72-7.72 1.47 1.35L5.41 20z\"/>\n",
              "  </svg>\n",
              "      </button>\n",
              "      \n",
              "  <style>\n",
              "    .colab-df-container {\n",
              "      display:flex;\n",
              "      flex-wrap:wrap;\n",
              "      gap: 12px;\n",
              "    }\n",
              "\n",
              "    .colab-df-convert {\n",
              "      background-color: #E8F0FE;\n",
              "      border: none;\n",
              "      border-radius: 50%;\n",
              "      cursor: pointer;\n",
              "      display: none;\n",
              "      fill: #1967D2;\n",
              "      height: 32px;\n",
              "      padding: 0 0 0 0;\n",
              "      width: 32px;\n",
              "    }\n",
              "\n",
              "    .colab-df-convert:hover {\n",
              "      background-color: #E2EBFA;\n",
              "      box-shadow: 0px 1px 2px rgba(60, 64, 67, 0.3), 0px 1px 3px 1px rgba(60, 64, 67, 0.15);\n",
              "      fill: #174EA6;\n",
              "    }\n",
              "\n",
              "    [theme=dark] .colab-df-convert {\n",
              "      background-color: #3B4455;\n",
              "      fill: #D2E3FC;\n",
              "    }\n",
              "\n",
              "    [theme=dark] .colab-df-convert:hover {\n",
              "      background-color: #434B5C;\n",
              "      box-shadow: 0px 1px 3px 1px rgba(0, 0, 0, 0.15);\n",
              "      filter: drop-shadow(0px 1px 2px rgba(0, 0, 0, 0.3));\n",
              "      fill: #FFFFFF;\n",
              "    }\n",
              "  </style>\n",
              "\n",
              "      <script>\n",
              "        const buttonEl =\n",
              "          document.querySelector('#df-0e4d0525-0daf-4a00-a496-ab746aa3f7d2 button.colab-df-convert');\n",
              "        buttonEl.style.display =\n",
              "          google.colab.kernel.accessAllowed ? 'block' : 'none';\n",
              "\n",
              "        async function convertToInteractive(key) {\n",
              "          const element = document.querySelector('#df-0e4d0525-0daf-4a00-a496-ab746aa3f7d2');\n",
              "          const dataTable =\n",
              "            await google.colab.kernel.invokeFunction('convertToInteractive',\n",
              "                                                     [key], {});\n",
              "          if (!dataTable) return;\n",
              "\n",
              "          const docLinkHtml = 'Like what you see? Visit the ' +\n",
              "            '<a target=\"_blank\" href=https://colab.research.google.com/notebooks/data_table.ipynb>data table notebook</a>'\n",
              "            + ' to learn more about interactive tables.';\n",
              "          element.innerHTML = '';\n",
              "          dataTable['output_type'] = 'display_data';\n",
              "          await google.colab.output.renderOutput(dataTable, element);\n",
              "          const docLink = document.createElement('div');\n",
              "          docLink.innerHTML = docLinkHtml;\n",
              "          element.appendChild(docLink);\n",
              "        }\n",
              "      </script>\n",
              "    </div>\n",
              "  </div>\n",
              "  "
            ]
          },
          "metadata": {},
          "execution_count": 69
        }
      ]
    },
    {
      "cell_type": "code",
      "source": [
        ""
      ],
      "metadata": {
        "id": "gn7YJ6vMjAdY"
      },
      "execution_count": null,
      "outputs": []
    },
    {
      "cell_type": "code",
      "source": [
        "#plt.figure(figsize=(8, 8))\n",
        "result = plt.figure()\n",
        "#fig, ax = plt.subplots()\n",
        "plt.plot(df2plot[\"%V\"], df2plot[\"VarcoV\"], 'D', markerFaceColor = 'k', markerEdgeColor = 'k')\n",
        "plt.title(\"VarcoV as a Function of %V\")\n",
        "plt.xlabel(\"%V\")\n",
        "plt.xlim([30, 50])\n",
        "plt.xticks(np.arange(30, 55, step=5))\n",
        "plt.ylim([50, 75])\n",
        "plt.ylabel(\"VarcoV\")\n",
        "for x,y, group, cond in zip(df2plot[\"%V\"], df2plot[\"VarcoV\"], df2plot[\"Group\"], df2plot[\"Condition\"]):\n",
        "  label = f\"{group}-{cond}\"\n",
        "  plt.annotate(label, (x,y),\n",
        "  xytext=(x,y+1), ha = 'center')\n",
        "#plt.savefig(\"result.png\")\n",
        "plt.show()"
      ],
      "metadata": {
        "colab": {
          "base_uri": "https://localhost:8080/",
          "height": 692
        },
        "id": "5LER9qjmqxAu",
        "outputId": "8cb8a9ec-7ea7-4952-cc2e-8e9a696cee1d"
      },
      "execution_count": 92,
      "outputs": [
        {
          "output_type": "display_data",
          "data": {
            "text/plain": [
              "<Figure size 432x288 with 1 Axes>"
            ],
            "image/png": "[encoded data removed]"
          },
          "metadata": {
            "needs_background": "light"
          }
        }
      ]
    },
    {
      "cell_type": "markdown",
      "source": [
        "**Save Results**"
      ],
      "metadata": {
        "id": "kr3uBhUk2o0H"
      }
    },
    {
      "cell_type": "code",
      "source": [
        "%cd /content/gdrive/MyDrive/RhythmAnalysisPipeline/"
      ],
      "metadata": {
        "colab": {
          "base_uri": "https://localhost:8080/"
        },
        "id": "YiZetY462rjo",
        "outputId": "f1eb7f30-5e96-4219-aadd-26273ad121ab"
      },
      "execution_count": 64,
      "outputs": [
        {
          "output_type": "stream",
          "name": "stdout",
          "text": [
            "/content/gdrive/MyDrive/RhythmAnalysisPipeline\n"
          ]
        }
      ]
    },
    {
      "cell_type": "code",
      "source": [
        "dir = \"4.MetricsResults\"\n",
        "\n",
        "if os.path.exists(dir) == False:\n",
        "  os.mkdir(dir)"
      ],
      "metadata": {
        "id": "kUsZTzJ42rfg"
      },
      "execution_count": 65,
      "outputs": []
    },
    {
      "cell_type": "code",
      "source": [
        "%cd /content/gdrive/MyDrive/RhythmAnalysisPipeline/4.MetricsResults/"
      ],
      "metadata": {
        "colab": {
          "base_uri": "https://localhost:8080/"
        },
        "id": "3OI02MYY2rcH",
        "outputId": "393511f9-c16b-4ecc-a2f1-db8982a027b2"
      },
      "execution_count": 66,
      "outputs": [
        {
          "output_type": "stream",
          "name": "stdout",
          "text": [
            "/content/gdrive/MyDrive/RhythmAnalysisPipeline/4.MetricsResults\n"
          ]
        }
      ]
    },
    {
      "cell_type": "code",
      "source": [
        "result_reading_pws.to_excel(\"reading_pws.xlsx\")\n",
        "result_reading_control.to_excel(\"reading_control.xlsx\")\n",
        "result_interview_pws.to_excel(\"interview_pws.xlsx\")\n",
        "result_interview_control.to_excel(\"interview_control.xlsx\")"
      ],
      "metadata": {
        "id": "qRMFbrmX2rVI"
      },
      "execution_count": 67,
      "outputs": []
    },
    {
      "cell_type": "code",
      "source": [
        "%cd /content/gdrive/MyDrive/RhythmAnalysisPipeline/"
      ],
      "metadata": {
        "colab": {
          "base_uri": "https://localhost:8080/"
        },
        "id": "ifJmlRdB27H2",
        "outputId": "3ae9041d-abec-4df6-ef04-d48868766e85"
      },
      "execution_count": 68,
      "outputs": [
        {
          "output_type": "stream",
          "name": "stdout",
          "text": [
            "/content/gdrive/MyDrive/RhythmAnalysisPipeline\n"
          ]
        }
      ]
    }
  ]
}