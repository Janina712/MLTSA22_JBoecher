{
  "nbformat": 4,
  "nbformat_minor": 0,
  "metadata": {
    "colab": {
      "name": "2.Assign_BreathGroups.ipynb",
      "provenance": [],
      "collapsed_sections": [],
      "authorship_tag": "ABX9TyOfW1Bb1Yy6yw5GJcRfqm8t",
      "include_colab_link": true
    },
    "kernelspec": {
      "name": "python3",
      "display_name": "Python 3"
    },
    "language_info": {
      "name": "python"
    }
  },
  "cells": [
    {
      "cell_type": "markdown",
      "metadata": {
        "id": "view-in-github",
        "colab_type": "text"
      },
      "source": [
        "<a href=\"https://colab.research.google.com/github/Janina712/MLTSA22_JBoecher/blob/main/Other/2.%20Assign_BreathGroups.ipynb\" target=\"_parent\"><img src=\"https://colab.research.google.com/assets/colab-badge.svg\" alt=\"Open In Colab\"/></a>"
      ]
    },
    {
      "cell_type": "markdown",
      "source": [
        "**0. Import & Set-Up**"
      ],
      "metadata": {
        "id": "IOGde9FTtUeo"
      }
    },
    {
      "cell_type": "code",
      "execution_count": 34,
      "metadata": {
        "id": "GggzK9XxtI4C"
      },
      "outputs": [],
      "source": [
        "import pandas as pd\n",
        "import numpy as np \n",
        "import os"
      ]
    },
    {
      "cell_type": "code",
      "source": [
        "from google.colab import drive\n",
        "drive.mount(\"/content/gdrive\")"
      ],
      "metadata": {
        "colab": {
          "base_uri": "https://localhost:8080/"
        },
        "id": "FexhekrPtPQI",
        "outputId": "1cf65e9f-a5b6-478c-ff2d-5ccb94c399d8"
      },
      "execution_count": 2,
      "outputs": [
        {
          "output_type": "stream",
          "name": "stdout",
          "text": [
            "Mounted at /content/gdrive\n"
          ]
        }
      ]
    },
    {
      "cell_type": "code",
      "source": [
        "%cd /content/gdrive/MyDrive/RhythmAnalysisPipeline/1.CombinedInputFiles/"
      ],
      "metadata": {
        "colab": {
          "base_uri": "https://localhost:8080/"
        },
        "id": "lE2-5K7jtPMn",
        "outputId": "10d79dbe-6e8c-4163-c1f9-b4831fe9c1f1"
      },
      "execution_count": 3,
      "outputs": [
        {
          "output_type": "stream",
          "name": "stdout",
          "text": [
            "/content/gdrive/MyDrive/RhythmAnalysisPipeline/1.CombinedInputFiles\n"
          ]
        }
      ]
    },
    {
      "cell_type": "code",
      "source": [
        "read_TextGrid_duration = pd.read_excel(\"read_TextGrid_comb.xlsx\")\n",
        "df_read_txt_wide = pd.read_excel(\"read_txt_comb.xlsx\")\n",
        "inter_TextGrid_duration = pd.read_excel(\"interview_TextGrid_comb.xlsx\")\n",
        "df_inter_txt_wide = pd.read_excel(\"interview_txt_comb.xlsx\")"
      ],
      "metadata": {
        "id": "asquCqJltPIg"
      },
      "execution_count": 4,
      "outputs": []
    },
    {
      "cell_type": "markdown",
      "source": [
        "**1. Create empty dataframes row to store BG assignment**"
      ],
      "metadata": {
        "id": "yMNRRvjVtlFw"
      }
    },
    {
      "cell_type": "code",
      "source": [
        "BG_col = pd.DataFrame()\n",
        "BG_col_inter = pd.DataFrame()"
      ],
      "metadata": {
        "id": "JV7PHjbNtZrg"
      },
      "execution_count": 5,
      "outputs": []
    },
    {
      "cell_type": "code",
      "source": [
        "IDs = ['24fa', '24ma', '24mb', '26f', '29ma', '29mb', '29mc', '32m', '34m', '35mb', '46ma', '50fa', '50fb', '54f', '57m', '60m', '62f', '62m', 'C10_KS', 'C11_NP', 'C12_CC', 'C13_RG','C1_DS', 'C2_JH', 'C3_MD', 'C4_ZO', 'C5_HL', 'C6_LH', 'C7_SH', 'C9_RD']"
      ],
      "metadata": {
        "id": "elQdM_WwtZkx"
      },
      "execution_count": 6,
      "outputs": []
    },
    {
      "cell_type": "code",
      "source": [
        "IntervalTimes = df_read_txt_wide[['ID', 'Offset']] \n",
        "IntervalTimesInter = df_inter_txt_wide[['ID', 'Offset']]"
      ],
      "metadata": {
        "id": "ZFcqaloNtZg4"
      },
      "execution_count": 7,
      "outputs": []
    },
    {
      "cell_type": "code",
      "source": [
        "Offsets_all = read_TextGrid_duration[['ID', 'Offset']]\n",
        "Offsets_all_inter = inter_TextGrid_duration[['ID', 'Offset']]"
      ],
      "metadata": {
        "id": "p0-0ftkBte6I"
      },
      "execution_count": 8,
      "outputs": []
    },
    {
      "cell_type": "code",
      "source": [
        "ID_freq_sound = read_TextGrid_duration['ID'].value_counts().sort_index()\n",
        "ID_freq_sound_inter = inter_TextGrid_duration['ID'].value_counts().sort_index()"
      ],
      "metadata": {
        "id": "W_YWzsjFte1Q"
      },
      "execution_count": 9,
      "outputs": []
    },
    {
      "cell_type": "markdown",
      "source": [
        "**3. Assign Breath Groups for All Participants in a Loop**"
      ],
      "metadata": {
        "id": "5xjbHYehtoYT"
      }
    },
    {
      "cell_type": "markdown",
      "source": [
        "**3.1 Reading**"
      ],
      "metadata": {
        "id": "GYlZZjWNtrPX"
      }
    },
    {
      "cell_type": "code",
      "source": [
        "n = -1"
      ],
      "metadata": {
        "id": "Bz9E9HdWttb_"
      },
      "execution_count": 10,
      "outputs": []
    },
    {
      "cell_type": "code",
      "source": [
        "for ID in IDs:\n",
        "  n = n + 1\n",
        "  BG_current = pd.DataFrame(index=range(int(ID_freq_sound[n])),columns=[\"Breath.Group\"])\n",
        "  subset_IT = IntervalTimes[IntervalTimes[\"ID\"] == ID]\n",
        "  subset_IT.index = range(len(subset_IT.index))\n",
        "  subset_sounds = Offsets_all[Offsets_all[\"ID\"] == ID]\n",
        "  subset_sounds.index = range(len(subset_sounds.index))\n",
        "  for j in range(0,len(subset_IT)): # index over range of utterances from participant\n",
        "    for i in range(0,len(subset_sounds)-1): # index over sounds from participant\n",
        "      if subset_sounds[\"Offset\"][i] <= subset_IT[\"Offset\"][j]:\n",
        "        if pd.isna(BG_current[\"Breath.Group\"][i]) == True:\n",
        "          BG_current[\"Breath.Group\"][i] = j+1 # assign number of breath group to corresponding row\n",
        "  BG_col = BG_col.append([BG_current], ignore_index=True)"
      ],
      "metadata": {
        "id": "0qWqt0xktt-W"
      },
      "execution_count": 11,
      "outputs": []
    },
    {
      "cell_type": "code",
      "source": [
        "read_TextGrid_duration = pd.concat([read_TextGrid_duration, BG_col], axis=1)"
      ],
      "metadata": {
        "id": "NXx_kJY8tt5Y"
      },
      "execution_count": 12,
      "outputs": []
    },
    {
      "cell_type": "code",
      "source": [
        "read_TextGrid_duration.drop(['Unnamed: 0'], axis=1 , inplace = True)"
      ],
      "metadata": {
        "id": "wxK9-fFKtt1v"
      },
      "execution_count": 13,
      "outputs": []
    },
    {
      "cell_type": "code",
      "source": [
        "read_TextGrid_duration"
      ],
      "metadata": {
        "colab": {
          "base_uri": "https://localhost:8080/",
          "height": 423
        },
        "id": "DPP9jDUKttxA",
        "outputId": "02395778-f0ac-4db9-cddb-4e6617eb34ab"
      },
      "execution_count": 14,
      "outputs": [
        {
          "output_type": "execute_result",
          "data": {
            "text/plain": [
              "           ID       Type  Sound   Onset  Offset  Duration Breath.Group\n",
              "0        24fa    silence   \"sp\"   0.000   0.013     0.013            1\n",
              "1        24fa    silence   \"sp\"   0.013   0.143     0.130            1\n",
              "2        24fa  consonant    \"S\"   0.143   0.263     0.120            1\n",
              "3        24fa      vowel  \"OW1\"   0.263   0.343     0.080            1\n",
              "4        24fa  consonant   \"HH\"   0.343   0.482     0.139            1\n",
              "...       ...        ...    ...     ...     ...       ...          ...\n",
              "24338  C13_RG  consonant    \"N\"  87.881  87.910     0.029           28\n",
              "24339  C13_RG      vowel  \"EY2\"  87.910  88.081     0.171           28\n",
              "24340  C13_RG  consonant    \"M\"  88.081  88.191     0.110           28\n",
              "24341  C13_RG  consonant    \"Z\"  88.191  88.281     0.090           28\n",
              "24342  C13_RG    silence   \"sp\"  88.281  88.293     0.012          NaN\n",
              "\n",
              "[24343 rows x 7 columns]"
            ],
            "text/html": [
              "\n",
              "  <div id=\"df-acf1c4d4-22eb-4664-afcf-35ccc00e30c5\">\n",
              "    <div class=\"colab-df-container\">\n",
              "      <div>\n",
              "<style scoped>\n",
              "    .dataframe tbody tr th:only-of-type {\n",
              "        vertical-align: middle;\n",
              "    }\n",
              "\n",
              "    .dataframe tbody tr th {\n",
              "        vertical-align: top;\n",
              "    }\n",
              "\n",
              "    .dataframe thead th {\n",
              "        text-align: right;\n",
              "    }\n",
              "</style>\n",
              "<table border=\"1\" class=\"dataframe\">\n",
              "  <thead>\n",
              "    <tr style=\"text-align: right;\">\n",
              "      <th></th>\n",
              "      <th>ID</th>\n",
              "      <th>Type</th>\n",
              "      <th>Sound</th>\n",
              "      <th>Onset</th>\n",
              "      <th>Offset</th>\n",
              "      <th>Duration</th>\n",
              "      <th>Breath.Group</th>\n",
              "    </tr>\n",
              "  </thead>\n",
              "  <tbody>\n",
              "    <tr>\n",
              "      <th>0</th>\n",
              "      <td>24fa</td>\n",
              "      <td>silence</td>\n",
              "      <td>\"sp\"</td>\n",
              "      <td>0.000</td>\n",
              "      <td>0.013</td>\n",
              "      <td>0.013</td>\n",
              "      <td>1</td>\n",
              "    </tr>\n",
              "    <tr>\n",
              "      <th>1</th>\n",
              "      <td>24fa</td>\n",
              "      <td>silence</td>\n",
              "      <td>\"sp\"</td>\n",
              "      <td>0.013</td>\n",
              "      <td>0.143</td>\n",
              "      <td>0.130</td>\n",
              "      <td>1</td>\n",
              "    </tr>\n",
              "    <tr>\n",
              "      <th>2</th>\n",
              "      <td>24fa</td>\n",
              "      <td>consonant</td>\n",
              "      <td>\"S\"</td>\n",
              "      <td>0.143</td>\n",
              "      <td>0.263</td>\n",
              "      <td>0.120</td>\n",
              "      <td>1</td>\n",
              "    </tr>\n",
              "    <tr>\n",
              "      <th>3</th>\n",
              "      <td>24fa</td>\n",
              "      <td>vowel</td>\n",
              "      <td>\"OW1\"</td>\n",
              "      <td>0.263</td>\n",
              "      <td>0.343</td>\n",
              "      <td>0.080</td>\n",
              "      <td>1</td>\n",
              "    </tr>\n",
              "    <tr>\n",
              "      <th>4</th>\n",
              "      <td>24fa</td>\n",
              "      <td>consonant</td>\n",
              "      <td>\"HH\"</td>\n",
              "      <td>0.343</td>\n",
              "      <td>0.482</td>\n",
              "      <td>0.139</td>\n",
              "      <td>1</td>\n",
              "    </tr>\n",
              "    <tr>\n",
              "      <th>...</th>\n",
              "      <td>...</td>\n",
              "      <td>...</td>\n",
              "      <td>...</td>\n",
              "      <td>...</td>\n",
              "      <td>...</td>\n",
              "      <td>...</td>\n",
              "      <td>...</td>\n",
              "    </tr>\n",
              "    <tr>\n",
              "      <th>24338</th>\n",
              "      <td>C13_RG</td>\n",
              "      <td>consonant</td>\n",
              "      <td>\"N\"</td>\n",
              "      <td>87.881</td>\n",
              "      <td>87.910</td>\n",
              "      <td>0.029</td>\n",
              "      <td>28</td>\n",
              "    </tr>\n",
              "    <tr>\n",
              "      <th>24339</th>\n",
              "      <td>C13_RG</td>\n",
              "      <td>vowel</td>\n",
              "      <td>\"EY2\"</td>\n",
              "      <td>87.910</td>\n",
              "      <td>88.081</td>\n",
              "      <td>0.171</td>\n",
              "      <td>28</td>\n",
              "    </tr>\n",
              "    <tr>\n",
              "      <th>24340</th>\n",
              "      <td>C13_RG</td>\n",
              "      <td>consonant</td>\n",
              "      <td>\"M\"</td>\n",
              "      <td>88.081</td>\n",
              "      <td>88.191</td>\n",
              "      <td>0.110</td>\n",
              "      <td>28</td>\n",
              "    </tr>\n",
              "    <tr>\n",
              "      <th>24341</th>\n",
              "      <td>C13_RG</td>\n",
              "      <td>consonant</td>\n",
              "      <td>\"Z\"</td>\n",
              "      <td>88.191</td>\n",
              "      <td>88.281</td>\n",
              "      <td>0.090</td>\n",
              "      <td>28</td>\n",
              "    </tr>\n",
              "    <tr>\n",
              "      <th>24342</th>\n",
              "      <td>C13_RG</td>\n",
              "      <td>silence</td>\n",
              "      <td>\"sp\"</td>\n",
              "      <td>88.281</td>\n",
              "      <td>88.293</td>\n",
              "      <td>0.012</td>\n",
              "      <td>NaN</td>\n",
              "    </tr>\n",
              "  </tbody>\n",
              "</table>\n",
              "<p>24343 rows × 7 columns</p>\n",
              "</div>\n",
              "      <button class=\"colab-df-convert\" onclick=\"convertToInteractive('df-acf1c4d4-22eb-4664-afcf-35ccc00e30c5')\"\n",
              "              title=\"Convert this dataframe to an interactive table.\"\n",
              "              style=\"display:none;\">\n",
              "        \n",
              "  <svg xmlns=\"http://www.w3.org/2000/svg\" height=\"24px\"viewBox=\"0 0 24 24\"\n",
              "       width=\"24px\">\n",
              "    <path d=\"M0 0h24v24H0V0z\" fill=\"none\"/>\n",
              "    <path d=\"M18.56 5.44l.94 2.06.94-2.06 2.06-.94-2.06-.94-.94-2.06-.94 2.06-2.06.94zm-11 1L8.5 8.5l.94-2.06 2.06-.94-2.06-.94L8.5 2.5l-.94 2.06-2.06.94zm10 10l.94 2.06.94-2.06 2.06-.94-2.06-.94-.94-2.06-.94 2.06-2.06.94z\"/><path d=\"M17.41 7.96l-1.37-1.37c-.4-.4-.92-.59-1.43-.59-.52 0-1.04.2-1.43.59L10.3 9.45l-7.72 7.72c-.78.78-.78 2.05 0 2.83L4 21.41c.39.39.9.59 1.41.59.51 0 1.02-.2 1.41-.59l7.78-7.78 2.81-2.81c.8-.78.8-2.07 0-2.86zM5.41 20L4 18.59l7.72-7.72 1.47 1.35L5.41 20z\"/>\n",
              "  </svg>\n",
              "      </button>\n",
              "      \n",
              "  <style>\n",
              "    .colab-df-container {\n",
              "      display:flex;\n",
              "      flex-wrap:wrap;\n",
              "      gap: 12px;\n",
              "    }\n",
              "\n",
              "    .colab-df-convert {\n",
              "      background-color: #E8F0FE;\n",
              "      border: none;\n",
              "      border-radius: 50%;\n",
              "      cursor: pointer;\n",
              "      display: none;\n",
              "      fill: #1967D2;\n",
              "      height: 32px;\n",
              "      padding: 0 0 0 0;\n",
              "      width: 32px;\n",
              "    }\n",
              "\n",
              "    .colab-df-convert:hover {\n",
              "      background-color: #E2EBFA;\n",
              "      box-shadow: 0px 1px 2px rgba(60, 64, 67, 0.3), 0px 1px 3px 1px rgba(60, 64, 67, 0.15);\n",
              "      fill: #174EA6;\n",
              "    }\n",
              "\n",
              "    [theme=dark] .colab-df-convert {\n",
              "      background-color: #3B4455;\n",
              "      fill: #D2E3FC;\n",
              "    }\n",
              "\n",
              "    [theme=dark] .colab-df-convert:hover {\n",
              "      background-color: #434B5C;\n",
              "      box-shadow: 0px 1px 3px 1px rgba(0, 0, 0, 0.15);\n",
              "      filter: drop-shadow(0px 1px 2px rgba(0, 0, 0, 0.3));\n",
              "      fill: #FFFFFF;\n",
              "    }\n",
              "  </style>\n",
              "\n",
              "      <script>\n",
              "        const buttonEl =\n",
              "          document.querySelector('#df-acf1c4d4-22eb-4664-afcf-35ccc00e30c5 button.colab-df-convert');\n",
              "        buttonEl.style.display =\n",
              "          google.colab.kernel.accessAllowed ? 'block' : 'none';\n",
              "\n",
              "        async function convertToInteractive(key) {\n",
              "          const element = document.querySelector('#df-acf1c4d4-22eb-4664-afcf-35ccc00e30c5');\n",
              "          const dataTable =\n",
              "            await google.colab.kernel.invokeFunction('convertToInteractive',\n",
              "                                                     [key], {});\n",
              "          if (!dataTable) return;\n",
              "\n",
              "          const docLinkHtml = 'Like what you see? Visit the ' +\n",
              "            '<a target=\"_blank\" href=https://colab.research.google.com/notebooks/data_table.ipynb>data table notebook</a>'\n",
              "            + ' to learn more about interactive tables.';\n",
              "          element.innerHTML = '';\n",
              "          dataTable['output_type'] = 'display_data';\n",
              "          await google.colab.output.renderOutput(dataTable, element);\n",
              "          const docLink = document.createElement('div');\n",
              "          docLink.innerHTML = docLinkHtml;\n",
              "          element.appendChild(docLink);\n",
              "        }\n",
              "      </script>\n",
              "    </div>\n",
              "  </div>\n",
              "  "
            ]
          },
          "metadata": {},
          "execution_count": 14
        }
      ]
    },
    {
      "cell_type": "markdown",
      "source": [
        "**3.2 Interview**"
      ],
      "metadata": {
        "id": "SZQZlSoxt3E4"
      }
    },
    {
      "cell_type": "code",
      "source": [
        "n = -1"
      ],
      "metadata": {
        "id": "l3A1bHNet5Uv"
      },
      "execution_count": 15,
      "outputs": []
    },
    {
      "cell_type": "code",
      "source": [
        "for ID in IDs:\n",
        "  n = n + 1\n",
        "  BG_current = pd.DataFrame(index=range(int(ID_freq_sound_inter[n])),columns=[\"Breath.Group\"])\n",
        "  subset_IT = IntervalTimesInter[IntervalTimesInter[\"ID\"] == ID]\n",
        "  subset_IT.index = range(len(subset_IT.index))\n",
        "  subset_sounds = Offsets_all_inter[Offsets_all_inter[\"ID\"] == ID]\n",
        "  subset_sounds.index = range(len(subset_sounds.index))\n",
        "  for j in range(0,len(subset_IT)): # index over range of utterances from participant\n",
        "    for i in range(0,len(subset_sounds)-1): # index over sounds from participant\n",
        "      if subset_sounds[\"Offset\"][i] <= subset_IT[\"Offset\"][j]:\n",
        "        if pd.isna(BG_current[\"Breath.Group\"][i]) == True:\n",
        "          BG_current[\"Breath.Group\"][i] = j+1 # assign number of breath group to corresponding row\n",
        "  BG_col_inter = BG_col_inter.append([BG_current], ignore_index=True)"
      ],
      "metadata": {
        "id": "jH_Dw2G5t5Qv"
      },
      "execution_count": 16,
      "outputs": []
    },
    {
      "cell_type": "code",
      "source": [
        "inter_TextGrid_duration = pd.concat([inter_TextGrid_duration, BG_col_inter], axis=1)"
      ],
      "metadata": {
        "id": "yrrpZC7It5Mp"
      },
      "execution_count": 17,
      "outputs": []
    },
    {
      "cell_type": "code",
      "source": [
        "inter_TextGrid_duration.drop(['Unnamed: 0'], axis=1 , inplace = True)"
      ],
      "metadata": {
        "id": "F5jlihatt5HP"
      },
      "execution_count": 18,
      "outputs": []
    },
    {
      "cell_type": "code",
      "source": [
        "inter_TextGrid_duration"
      ],
      "metadata": {
        "colab": {
          "base_uri": "https://localhost:8080/",
          "height": 423
        },
        "id": "PBo9g0Hwt_2n",
        "outputId": "13ad6737-b010-4de2-938c-79fc04856cf9"
      },
      "execution_count": 19,
      "outputs": [
        {
          "output_type": "execute_result",
          "data": {
            "text/plain": [
              "           ID       Type  Sound    Onset   Offset  Duration Breath.Group\n",
              "0        24fa    silence   \"sp\"    0.000    0.027     0.027            1\n",
              "1        24fa    silence   \"sp\"    0.027    0.127     0.100            1\n",
              "2        24fa      vowel  \"AY1\"    0.127    0.187     0.060            1\n",
              "3        24fa  consonant    \"M\"    0.187    0.277     0.090            1\n",
              "4        24fa      vowel  \"IY1\"    0.277    0.327     0.050            1\n",
              "...       ...        ...    ...      ...      ...       ...          ...\n",
              "76292  C13_RG      vowel  \"IH2\"  163.144  163.214     0.070           52\n",
              "76293  C13_RG  consonant    \"P\"  163.214  163.284     0.070           52\n",
              "76294  C13_RG  consonant    \"S\"  163.284  163.584     0.300           52\n",
              "76295  C13_RG    silence   \"sp\"  163.584  163.684     0.100           52\n",
              "76296  C13_RG    silence   \"sp\"  163.684  163.695     0.011          NaN\n",
              "\n",
              "[76297 rows x 7 columns]"
            ],
            "text/html": [
              "\n",
              "  <div id=\"df-67f44cb2-774d-431b-a806-228265f90389\">\n",
              "    <div class=\"colab-df-container\">\n",
              "      <div>\n",
              "<style scoped>\n",
              "    .dataframe tbody tr th:only-of-type {\n",
              "        vertical-align: middle;\n",
              "    }\n",
              "\n",
              "    .dataframe tbody tr th {\n",
              "        vertical-align: top;\n",
              "    }\n",
              "\n",
              "    .dataframe thead th {\n",
              "        text-align: right;\n",
              "    }\n",
              "</style>\n",
              "<table border=\"1\" class=\"dataframe\">\n",
              "  <thead>\n",
              "    <tr style=\"text-align: right;\">\n",
              "      <th></th>\n",
              "      <th>ID</th>\n",
              "      <th>Type</th>\n",
              "      <th>Sound</th>\n",
              "      <th>Onset</th>\n",
              "      <th>Offset</th>\n",
              "      <th>Duration</th>\n",
              "      <th>Breath.Group</th>\n",
              "    </tr>\n",
              "  </thead>\n",
              "  <tbody>\n",
              "    <tr>\n",
              "      <th>0</th>\n",
              "      <td>24fa</td>\n",
              "      <td>silence</td>\n",
              "      <td>\"sp\"</td>\n",
              "      <td>0.000</td>\n",
              "      <td>0.027</td>\n",
              "      <td>0.027</td>\n",
              "      <td>1</td>\n",
              "    </tr>\n",
              "    <tr>\n",
              "      <th>1</th>\n",
              "      <td>24fa</td>\n",
              "      <td>silence</td>\n",
              "      <td>\"sp\"</td>\n",
              "      <td>0.027</td>\n",
              "      <td>0.127</td>\n",
              "      <td>0.100</td>\n",
              "      <td>1</td>\n",
              "    </tr>\n",
              "    <tr>\n",
              "      <th>2</th>\n",
              "      <td>24fa</td>\n",
              "      <td>vowel</td>\n",
              "      <td>\"AY1\"</td>\n",
              "      <td>0.127</td>\n",
              "      <td>0.187</td>\n",
              "      <td>0.060</td>\n",
              "      <td>1</td>\n",
              "    </tr>\n",
              "    <tr>\n",
              "      <th>3</th>\n",
              "      <td>24fa</td>\n",
              "      <td>consonant</td>\n",
              "      <td>\"M\"</td>\n",
              "      <td>0.187</td>\n",
              "      <td>0.277</td>\n",
              "      <td>0.090</td>\n",
              "      <td>1</td>\n",
              "    </tr>\n",
              "    <tr>\n",
              "      <th>4</th>\n",
              "      <td>24fa</td>\n",
              "      <td>vowel</td>\n",
              "      <td>\"IY1\"</td>\n",
              "      <td>0.277</td>\n",
              "      <td>0.327</td>\n",
              "      <td>0.050</td>\n",
              "      <td>1</td>\n",
              "    </tr>\n",
              "    <tr>\n",
              "      <th>...</th>\n",
              "      <td>...</td>\n",
              "      <td>...</td>\n",
              "      <td>...</td>\n",
              "      <td>...</td>\n",
              "      <td>...</td>\n",
              "      <td>...</td>\n",
              "      <td>...</td>\n",
              "    </tr>\n",
              "    <tr>\n",
              "      <th>76292</th>\n",
              "      <td>C13_RG</td>\n",
              "      <td>vowel</td>\n",
              "      <td>\"IH2\"</td>\n",
              "      <td>163.144</td>\n",
              "      <td>163.214</td>\n",
              "      <td>0.070</td>\n",
              "      <td>52</td>\n",
              "    </tr>\n",
              "    <tr>\n",
              "      <th>76293</th>\n",
              "      <td>C13_RG</td>\n",
              "      <td>consonant</td>\n",
              "      <td>\"P\"</td>\n",
              "      <td>163.214</td>\n",
              "      <td>163.284</td>\n",
              "      <td>0.070</td>\n",
              "      <td>52</td>\n",
              "    </tr>\n",
              "    <tr>\n",
              "      <th>76294</th>\n",
              "      <td>C13_RG</td>\n",
              "      <td>consonant</td>\n",
              "      <td>\"S\"</td>\n",
              "      <td>163.284</td>\n",
              "      <td>163.584</td>\n",
              "      <td>0.300</td>\n",
              "      <td>52</td>\n",
              "    </tr>\n",
              "    <tr>\n",
              "      <th>76295</th>\n",
              "      <td>C13_RG</td>\n",
              "      <td>silence</td>\n",
              "      <td>\"sp\"</td>\n",
              "      <td>163.584</td>\n",
              "      <td>163.684</td>\n",
              "      <td>0.100</td>\n",
              "      <td>52</td>\n",
              "    </tr>\n",
              "    <tr>\n",
              "      <th>76296</th>\n",
              "      <td>C13_RG</td>\n",
              "      <td>silence</td>\n",
              "      <td>\"sp\"</td>\n",
              "      <td>163.684</td>\n",
              "      <td>163.695</td>\n",
              "      <td>0.011</td>\n",
              "      <td>NaN</td>\n",
              "    </tr>\n",
              "  </tbody>\n",
              "</table>\n",
              "<p>76297 rows × 7 columns</p>\n",
              "</div>\n",
              "      <button class=\"colab-df-convert\" onclick=\"convertToInteractive('df-67f44cb2-774d-431b-a806-228265f90389')\"\n",
              "              title=\"Convert this dataframe to an interactive table.\"\n",
              "              style=\"display:none;\">\n",
              "        \n",
              "  <svg xmlns=\"http://www.w3.org/2000/svg\" height=\"24px\"viewBox=\"0 0 24 24\"\n",
              "       width=\"24px\">\n",
              "    <path d=\"M0 0h24v24H0V0z\" fill=\"none\"/>\n",
              "    <path d=\"M18.56 5.44l.94 2.06.94-2.06 2.06-.94-2.06-.94-.94-2.06-.94 2.06-2.06.94zm-11 1L8.5 8.5l.94-2.06 2.06-.94-2.06-.94L8.5 2.5l-.94 2.06-2.06.94zm10 10l.94 2.06.94-2.06 2.06-.94-2.06-.94-.94-2.06-.94 2.06-2.06.94z\"/><path d=\"M17.41 7.96l-1.37-1.37c-.4-.4-.92-.59-1.43-.59-.52 0-1.04.2-1.43.59L10.3 9.45l-7.72 7.72c-.78.78-.78 2.05 0 2.83L4 21.41c.39.39.9.59 1.41.59.51 0 1.02-.2 1.41-.59l7.78-7.78 2.81-2.81c.8-.78.8-2.07 0-2.86zM5.41 20L4 18.59l7.72-7.72 1.47 1.35L5.41 20z\"/>\n",
              "  </svg>\n",
              "      </button>\n",
              "      \n",
              "  <style>\n",
              "    .colab-df-container {\n",
              "      display:flex;\n",
              "      flex-wrap:wrap;\n",
              "      gap: 12px;\n",
              "    }\n",
              "\n",
              "    .colab-df-convert {\n",
              "      background-color: #E8F0FE;\n",
              "      border: none;\n",
              "      border-radius: 50%;\n",
              "      cursor: pointer;\n",
              "      display: none;\n",
              "      fill: #1967D2;\n",
              "      height: 32px;\n",
              "      padding: 0 0 0 0;\n",
              "      width: 32px;\n",
              "    }\n",
              "\n",
              "    .colab-df-convert:hover {\n",
              "      background-color: #E2EBFA;\n",
              "      box-shadow: 0px 1px 2px rgba(60, 64, 67, 0.3), 0px 1px 3px 1px rgba(60, 64, 67, 0.15);\n",
              "      fill: #174EA6;\n",
              "    }\n",
              "\n",
              "    [theme=dark] .colab-df-convert {\n",
              "      background-color: #3B4455;\n",
              "      fill: #D2E3FC;\n",
              "    }\n",
              "\n",
              "    [theme=dark] .colab-df-convert:hover {\n",
              "      background-color: #434B5C;\n",
              "      box-shadow: 0px 1px 3px 1px rgba(0, 0, 0, 0.15);\n",
              "      filter: drop-shadow(0px 1px 2px rgba(0, 0, 0, 0.3));\n",
              "      fill: #FFFFFF;\n",
              "    }\n",
              "  </style>\n",
              "\n",
              "      <script>\n",
              "        const buttonEl =\n",
              "          document.querySelector('#df-67f44cb2-774d-431b-a806-228265f90389 button.colab-df-convert');\n",
              "        buttonEl.style.display =\n",
              "          google.colab.kernel.accessAllowed ? 'block' : 'none';\n",
              "\n",
              "        async function convertToInteractive(key) {\n",
              "          const element = document.querySelector('#df-67f44cb2-774d-431b-a806-228265f90389');\n",
              "          const dataTable =\n",
              "            await google.colab.kernel.invokeFunction('convertToInteractive',\n",
              "                                                     [key], {});\n",
              "          if (!dataTable) return;\n",
              "\n",
              "          const docLinkHtml = 'Like what you see? Visit the ' +\n",
              "            '<a target=\"_blank\" href=https://colab.research.google.com/notebooks/data_table.ipynb>data table notebook</a>'\n",
              "            + ' to learn more about interactive tables.';\n",
              "          element.innerHTML = '';\n",
              "          dataTable['output_type'] = 'display_data';\n",
              "          await google.colab.output.renderOutput(dataTable, element);\n",
              "          const docLink = document.createElement('div');\n",
              "          docLink.innerHTML = docLinkHtml;\n",
              "          element.appendChild(docLink);\n",
              "        }\n",
              "      </script>\n",
              "    </div>\n",
              "  </div>\n",
              "  "
            ]
          },
          "metadata": {},
          "execution_count": 19
        }
      ]
    },
    {
      "cell_type": "markdown",
      "source": [
        "**4. Count Number of Sounds in a BreathGroup (m)**"
      ],
      "metadata": {
        "id": "Ta9INEexuDdx"
      }
    },
    {
      "cell_type": "markdown",
      "source": [
        "**4.1 Reading**"
      ],
      "metadata": {
        "id": "0lo5vi_fuEsh"
      }
    },
    {
      "cell_type": "code",
      "source": [
        "m_col = pd.DataFrame()  ## initialize group-level dataframe\n",
        "for ID in IDs: ## loop over participnts\n",
        "  m_current_ID = pd.DataFrame()   ## initialize participant-level dataframe\n",
        "  subset_sounds = read_TextGrid_duration[read_TextGrid_duration[\"ID\"] == ID]  # get subset of sound dataframe that corresponds to current participant\n",
        "  subset_sounds.index = range(len(subset_sounds.index)) # reset index\n",
        "  m = subset_sounds[\"Breath.Group\"].value_counts().sort_index() # count how often a certain Breath group occurs for this participant\n",
        "  m.index = range(len(m.index)) # reset index\n",
        "  for a in range (0,len(m)): # go through all breath groups that this participant produced\n",
        "    m_current_BG = pd.DataFrame()  ## initialize BG-level dataframe\n",
        "    m_current_BG = pd.DataFrame(np.repeat(m.iloc[a], m.iloc[a], axis=0)) #replicate the sum sum times\n",
        "    m_current_ID = m_current_ID.append([m_current_BG], ignore_index = True) # add BG-level dataframe to participant-level dataframe \n",
        "  m_col = m_col.append([m_current_ID], ignore_index = True) # add participant-level dataframe to group-level dataframe"
      ],
      "metadata": {
        "id": "xziIr8tXuHN4"
      },
      "execution_count": 20,
      "outputs": []
    },
    {
      "cell_type": "code",
      "source": [
        "read_TextGrid_duration = read_TextGrid_duration.dropna() # drop NaNs to make it match with m_col"
      ],
      "metadata": {
        "id": "CGNTfdjCuHGU"
      },
      "execution_count": 21,
      "outputs": []
    },
    {
      "cell_type": "code",
      "source": [
        "read_TextGrid_duration.index = range(len(read_TextGrid_duration.index)) # reset index"
      ],
      "metadata": {
        "id": "H_omeXanuHAM"
      },
      "execution_count": 22,
      "outputs": []
    },
    {
      "cell_type": "code",
      "source": [
        "read_TextGrid_duration = pd.concat([read_TextGrid_duration, m_col], axis=1) # concatenate main df with m_col"
      ],
      "metadata": {
        "id": "ryTdMu7UuG6v"
      },
      "execution_count": 23,
      "outputs": []
    },
    {
      "cell_type": "code",
      "source": [
        "read_TextGrid_duration.rename(columns = {0:'m'}, inplace = True) # rename new column"
      ],
      "metadata": {
        "id": "z0Jv5CUeuG04"
      },
      "execution_count": 24,
      "outputs": []
    },
    {
      "cell_type": "code",
      "source": [
        "read_TextGrid_duration"
      ],
      "metadata": {
        "colab": {
          "base_uri": "https://localhost:8080/",
          "height": 423
        },
        "id": "tLtPvYFjuP7y",
        "outputId": "86e0ce61-c3e2-4e9d-bb88-d332fc1e258a"
      },
      "execution_count": 25,
      "outputs": [
        {
          "output_type": "execute_result",
          "data": {
            "text/plain": [
              "           ID       Type  Sound   Onset  Offset  Duration Breath.Group   m\n",
              "0        24fa    silence   \"sp\"   0.000   0.013     0.013            1  33\n",
              "1        24fa    silence   \"sp\"   0.013   0.143     0.130            1  33\n",
              "2        24fa  consonant    \"S\"   0.143   0.263     0.120            1  33\n",
              "3        24fa      vowel  \"OW1\"   0.263   0.343     0.080            1  33\n",
              "4        24fa  consonant   \"HH\"   0.343   0.482     0.139            1  33\n",
              "...       ...        ...    ...     ...     ...       ...          ...  ..\n",
              "24281  C13_RG      vowel  \"ER1\"  87.691  87.881     0.190           28  38\n",
              "24282  C13_RG  consonant    \"N\"  87.881  87.910     0.029           28  38\n",
              "24283  C13_RG      vowel  \"EY2\"  87.910  88.081     0.171           28  38\n",
              "24284  C13_RG  consonant    \"M\"  88.081  88.191     0.110           28  38\n",
              "24285  C13_RG  consonant    \"Z\"  88.191  88.281     0.090           28  38\n",
              "\n",
              "[24286 rows x 8 columns]"
            ],
            "text/html": [
              "\n",
              "  <div id=\"df-eccf7a1b-26f6-4afd-93b7-2b85ca2edc09\">\n",
              "    <div class=\"colab-df-container\">\n",
              "      <div>\n",
              "<style scoped>\n",
              "    .dataframe tbody tr th:only-of-type {\n",
              "        vertical-align: middle;\n",
              "    }\n",
              "\n",
              "    .dataframe tbody tr th {\n",
              "        vertical-align: top;\n",
              "    }\n",
              "\n",
              "    .dataframe thead th {\n",
              "        text-align: right;\n",
              "    }\n",
              "</style>\n",
              "<table border=\"1\" class=\"dataframe\">\n",
              "  <thead>\n",
              "    <tr style=\"text-align: right;\">\n",
              "      <th></th>\n",
              "      <th>ID</th>\n",
              "      <th>Type</th>\n",
              "      <th>Sound</th>\n",
              "      <th>Onset</th>\n",
              "      <th>Offset</th>\n",
              "      <th>Duration</th>\n",
              "      <th>Breath.Group</th>\n",
              "      <th>m</th>\n",
              "    </tr>\n",
              "  </thead>\n",
              "  <tbody>\n",
              "    <tr>\n",
              "      <th>0</th>\n",
              "      <td>24fa</td>\n",
              "      <td>silence</td>\n",
              "      <td>\"sp\"</td>\n",
              "      <td>0.000</td>\n",
              "      <td>0.013</td>\n",
              "      <td>0.013</td>\n",
              "      <td>1</td>\n",
              "      <td>33</td>\n",
              "    </tr>\n",
              "    <tr>\n",
              "      <th>1</th>\n",
              "      <td>24fa</td>\n",
              "      <td>silence</td>\n",
              "      <td>\"sp\"</td>\n",
              "      <td>0.013</td>\n",
              "      <td>0.143</td>\n",
              "      <td>0.130</td>\n",
              "      <td>1</td>\n",
              "      <td>33</td>\n",
              "    </tr>\n",
              "    <tr>\n",
              "      <th>2</th>\n",
              "      <td>24fa</td>\n",
              "      <td>consonant</td>\n",
              "      <td>\"S\"</td>\n",
              "      <td>0.143</td>\n",
              "      <td>0.263</td>\n",
              "      <td>0.120</td>\n",
              "      <td>1</td>\n",
              "      <td>33</td>\n",
              "    </tr>\n",
              "    <tr>\n",
              "      <th>3</th>\n",
              "      <td>24fa</td>\n",
              "      <td>vowel</td>\n",
              "      <td>\"OW1\"</td>\n",
              "      <td>0.263</td>\n",
              "      <td>0.343</td>\n",
              "      <td>0.080</td>\n",
              "      <td>1</td>\n",
              "      <td>33</td>\n",
              "    </tr>\n",
              "    <tr>\n",
              "      <th>4</th>\n",
              "      <td>24fa</td>\n",
              "      <td>consonant</td>\n",
              "      <td>\"HH\"</td>\n",
              "      <td>0.343</td>\n",
              "      <td>0.482</td>\n",
              "      <td>0.139</td>\n",
              "      <td>1</td>\n",
              "      <td>33</td>\n",
              "    </tr>\n",
              "    <tr>\n",
              "      <th>...</th>\n",
              "      <td>...</td>\n",
              "      <td>...</td>\n",
              "      <td>...</td>\n",
              "      <td>...</td>\n",
              "      <td>...</td>\n",
              "      <td>...</td>\n",
              "      <td>...</td>\n",
              "      <td>...</td>\n",
              "    </tr>\n",
              "    <tr>\n",
              "      <th>24281</th>\n",
              "      <td>C13_RG</td>\n",
              "      <td>vowel</td>\n",
              "      <td>\"ER1\"</td>\n",
              "      <td>87.691</td>\n",
              "      <td>87.881</td>\n",
              "      <td>0.190</td>\n",
              "      <td>28</td>\n",
              "      <td>38</td>\n",
              "    </tr>\n",
              "    <tr>\n",
              "      <th>24282</th>\n",
              "      <td>C13_RG</td>\n",
              "      <td>consonant</td>\n",
              "      <td>\"N\"</td>\n",
              "      <td>87.881</td>\n",
              "      <td>87.910</td>\n",
              "      <td>0.029</td>\n",
              "      <td>28</td>\n",
              "      <td>38</td>\n",
              "    </tr>\n",
              "    <tr>\n",
              "      <th>24283</th>\n",
              "      <td>C13_RG</td>\n",
              "      <td>vowel</td>\n",
              "      <td>\"EY2\"</td>\n",
              "      <td>87.910</td>\n",
              "      <td>88.081</td>\n",
              "      <td>0.171</td>\n",
              "      <td>28</td>\n",
              "      <td>38</td>\n",
              "    </tr>\n",
              "    <tr>\n",
              "      <th>24284</th>\n",
              "      <td>C13_RG</td>\n",
              "      <td>consonant</td>\n",
              "      <td>\"M\"</td>\n",
              "      <td>88.081</td>\n",
              "      <td>88.191</td>\n",
              "      <td>0.110</td>\n",
              "      <td>28</td>\n",
              "      <td>38</td>\n",
              "    </tr>\n",
              "    <tr>\n",
              "      <th>24285</th>\n",
              "      <td>C13_RG</td>\n",
              "      <td>consonant</td>\n",
              "      <td>\"Z\"</td>\n",
              "      <td>88.191</td>\n",
              "      <td>88.281</td>\n",
              "      <td>0.090</td>\n",
              "      <td>28</td>\n",
              "      <td>38</td>\n",
              "    </tr>\n",
              "  </tbody>\n",
              "</table>\n",
              "<p>24286 rows × 8 columns</p>\n",
              "</div>\n",
              "      <button class=\"colab-df-convert\" onclick=\"convertToInteractive('df-eccf7a1b-26f6-4afd-93b7-2b85ca2edc09')\"\n",
              "              title=\"Convert this dataframe to an interactive table.\"\n",
              "              style=\"display:none;\">\n",
              "        \n",
              "  <svg xmlns=\"http://www.w3.org/2000/svg\" height=\"24px\"viewBox=\"0 0 24 24\"\n",
              "       width=\"24px\">\n",
              "    <path d=\"M0 0h24v24H0V0z\" fill=\"none\"/>\n",
              "    <path d=\"M18.56 5.44l.94 2.06.94-2.06 2.06-.94-2.06-.94-.94-2.06-.94 2.06-2.06.94zm-11 1L8.5 8.5l.94-2.06 2.06-.94-2.06-.94L8.5 2.5l-.94 2.06-2.06.94zm10 10l.94 2.06.94-2.06 2.06-.94-2.06-.94-.94-2.06-.94 2.06-2.06.94z\"/><path d=\"M17.41 7.96l-1.37-1.37c-.4-.4-.92-.59-1.43-.59-.52 0-1.04.2-1.43.59L10.3 9.45l-7.72 7.72c-.78.78-.78 2.05 0 2.83L4 21.41c.39.39.9.59 1.41.59.51 0 1.02-.2 1.41-.59l7.78-7.78 2.81-2.81c.8-.78.8-2.07 0-2.86zM5.41 20L4 18.59l7.72-7.72 1.47 1.35L5.41 20z\"/>\n",
              "  </svg>\n",
              "      </button>\n",
              "      \n",
              "  <style>\n",
              "    .colab-df-container {\n",
              "      display:flex;\n",
              "      flex-wrap:wrap;\n",
              "      gap: 12px;\n",
              "    }\n",
              "\n",
              "    .colab-df-convert {\n",
              "      background-color: #E8F0FE;\n",
              "      border: none;\n",
              "      border-radius: 50%;\n",
              "      cursor: pointer;\n",
              "      display: none;\n",
              "      fill: #1967D2;\n",
              "      height: 32px;\n",
              "      padding: 0 0 0 0;\n",
              "      width: 32px;\n",
              "    }\n",
              "\n",
              "    .colab-df-convert:hover {\n",
              "      background-color: #E2EBFA;\n",
              "      box-shadow: 0px 1px 2px rgba(60, 64, 67, 0.3), 0px 1px 3px 1px rgba(60, 64, 67, 0.15);\n",
              "      fill: #174EA6;\n",
              "    }\n",
              "\n",
              "    [theme=dark] .colab-df-convert {\n",
              "      background-color: #3B4455;\n",
              "      fill: #D2E3FC;\n",
              "    }\n",
              "\n",
              "    [theme=dark] .colab-df-convert:hover {\n",
              "      background-color: #434B5C;\n",
              "      box-shadow: 0px 1px 3px 1px rgba(0, 0, 0, 0.15);\n",
              "      filter: drop-shadow(0px 1px 2px rgba(0, 0, 0, 0.3));\n",
              "      fill: #FFFFFF;\n",
              "    }\n",
              "  </style>\n",
              "\n",
              "      <script>\n",
              "        const buttonEl =\n",
              "          document.querySelector('#df-eccf7a1b-26f6-4afd-93b7-2b85ca2edc09 button.colab-df-convert');\n",
              "        buttonEl.style.display =\n",
              "          google.colab.kernel.accessAllowed ? 'block' : 'none';\n",
              "\n",
              "        async function convertToInteractive(key) {\n",
              "          const element = document.querySelector('#df-eccf7a1b-26f6-4afd-93b7-2b85ca2edc09');\n",
              "          const dataTable =\n",
              "            await google.colab.kernel.invokeFunction('convertToInteractive',\n",
              "                                                     [key], {});\n",
              "          if (!dataTable) return;\n",
              "\n",
              "          const docLinkHtml = 'Like what you see? Visit the ' +\n",
              "            '<a target=\"_blank\" href=https://colab.research.google.com/notebooks/data_table.ipynb>data table notebook</a>'\n",
              "            + ' to learn more about interactive tables.';\n",
              "          element.innerHTML = '';\n",
              "          dataTable['output_type'] = 'display_data';\n",
              "          await google.colab.output.renderOutput(dataTable, element);\n",
              "          const docLink = document.createElement('div');\n",
              "          docLink.innerHTML = docLinkHtml;\n",
              "          element.appendChild(docLink);\n",
              "        }\n",
              "      </script>\n",
              "    </div>\n",
              "  </div>\n",
              "  "
            ]
          },
          "metadata": {},
          "execution_count": 25
        }
      ]
    },
    {
      "cell_type": "markdown",
      "source": [
        "**4.2 Interview**"
      ],
      "metadata": {
        "id": "LQKJDUmjuR_B"
      }
    },
    {
      "cell_type": "code",
      "source": [
        "m_col_inter = pd.DataFrame()  ## initialize group-level dataframe\n",
        "for ID in IDs: ## loop over participnts\n",
        "  m_current_ID = pd.DataFrame()   ## initialize participant-level dataframe\n",
        "  subset_sounds = inter_TextGrid_duration[inter_TextGrid_duration[\"ID\"] == ID]  # get subset of sound dataframe that corresponds to current participant\n",
        "  subset_sounds.index = range(len(subset_sounds.index)) # reset index\n",
        "  m = subset_sounds[\"Breath.Group\"].value_counts().sort_index() # count how often a certain Breath group occurs for this participant\n",
        "  m.index = range(len(m.index)) # reset index\n",
        "  for a in range (0,len(m)): # go through all breath groups that this participant produced\n",
        "    m_current_BG = pd.DataFrame()  ## initialize BG-level dataframe\n",
        "    m_current_BG = pd.DataFrame(np.repeat(m.iloc[a], m.iloc[a], axis=0)) #replicate the sum sum times\n",
        "    m_current_ID = m_current_ID.append([m_current_BG], ignore_index = True) # add BG-level dataframe to participant-level dataframe \n",
        "  m_col_inter = m_col_inter.append([m_current_ID], ignore_index = True) # add participant-level dataframe to group-level dataframe"
      ],
      "metadata": {
        "id": "3l8buesnuVLB"
      },
      "execution_count": 26,
      "outputs": []
    },
    {
      "cell_type": "code",
      "source": [
        "inter_TextGrid_duration = inter_TextGrid_duration.dropna() # drop NaNs to make it match with m_col"
      ],
      "metadata": {
        "id": "S-uRITi2uVEL"
      },
      "execution_count": 27,
      "outputs": []
    },
    {
      "cell_type": "code",
      "source": [
        "inter_TextGrid_duration.index = range(len(inter_TextGrid_duration.index)) # reset index"
      ],
      "metadata": {
        "id": "w91TGr4MuU9T"
      },
      "execution_count": 28,
      "outputs": []
    },
    {
      "cell_type": "code",
      "source": [
        "inter_TextGrid_duration = pd.concat([inter_TextGrid_duration, m_col_inter], axis=1) # concatenate main df with m_col"
      ],
      "metadata": {
        "id": "bMxttVnSuU2p"
      },
      "execution_count": 29,
      "outputs": []
    },
    {
      "cell_type": "code",
      "source": [
        "inter_TextGrid_duration.rename(columns = {0:'m'}, inplace = True) # rename new column"
      ],
      "metadata": {
        "id": "hOvkk4uvuUyh"
      },
      "execution_count": 30,
      "outputs": []
    },
    {
      "cell_type": "code",
      "source": [
        "inter_TextGrid_duration"
      ],
      "metadata": {
        "colab": {
          "base_uri": "https://localhost:8080/",
          "height": 423
        },
        "id": "GZ79hKzzuUt7",
        "outputId": "9ef3de0d-60eb-47ae-8954-2bf4adc75e11"
      },
      "execution_count": 31,
      "outputs": [
        {
          "output_type": "execute_result",
          "data": {
            "text/plain": [
              "           ID       Type  Sound    Onset   Offset  Duration Breath.Group   m\n",
              "0        24fa    silence   \"sp\"    0.000    0.027     0.027            1  54\n",
              "1        24fa    silence   \"sp\"    0.027    0.127     0.100            1  54\n",
              "2        24fa      vowel  \"AY1\"    0.127    0.187     0.060            1  54\n",
              "3        24fa  consonant    \"M\"    0.187    0.277     0.090            1  54\n",
              "4        24fa      vowel  \"IY1\"    0.277    0.327     0.050            1  54\n",
              "...       ...        ...    ...      ...      ...       ...          ...  ..\n",
              "76262  C13_RG  consonant   \"SH\"  162.994  163.144     0.150           52  22\n",
              "76263  C13_RG      vowel  \"IH2\"  163.144  163.214     0.070           52  22\n",
              "76264  C13_RG  consonant    \"P\"  163.214  163.284     0.070           52  22\n",
              "76265  C13_RG  consonant    \"S\"  163.284  163.584     0.300           52  22\n",
              "76266  C13_RG    silence   \"sp\"  163.584  163.684     0.100           52  22\n",
              "\n",
              "[76267 rows x 8 columns]"
            ],
            "text/html": [
              "\n",
              "  <div id=\"df-9c65a273-18bb-4c7a-909b-00f4936ef54f\">\n",
              "    <div class=\"colab-df-container\">\n",
              "      <div>\n",
              "<style scoped>\n",
              "    .dataframe tbody tr th:only-of-type {\n",
              "        vertical-align: middle;\n",
              "    }\n",
              "\n",
              "    .dataframe tbody tr th {\n",
              "        vertical-align: top;\n",
              "    }\n",
              "\n",
              "    .dataframe thead th {\n",
              "        text-align: right;\n",
              "    }\n",
              "</style>\n",
              "<table border=\"1\" class=\"dataframe\">\n",
              "  <thead>\n",
              "    <tr style=\"text-align: right;\">\n",
              "      <th></th>\n",
              "      <th>ID</th>\n",
              "      <th>Type</th>\n",
              "      <th>Sound</th>\n",
              "      <th>Onset</th>\n",
              "      <th>Offset</th>\n",
              "      <th>Duration</th>\n",
              "      <th>Breath.Group</th>\n",
              "      <th>m</th>\n",
              "    </tr>\n",
              "  </thead>\n",
              "  <tbody>\n",
              "    <tr>\n",
              "      <th>0</th>\n",
              "      <td>24fa</td>\n",
              "      <td>silence</td>\n",
              "      <td>\"sp\"</td>\n",
              "      <td>0.000</td>\n",
              "      <td>0.027</td>\n",
              "      <td>0.027</td>\n",
              "      <td>1</td>\n",
              "      <td>54</td>\n",
              "    </tr>\n",
              "    <tr>\n",
              "      <th>1</th>\n",
              "      <td>24fa</td>\n",
              "      <td>silence</td>\n",
              "      <td>\"sp\"</td>\n",
              "      <td>0.027</td>\n",
              "      <td>0.127</td>\n",
              "      <td>0.100</td>\n",
              "      <td>1</td>\n",
              "      <td>54</td>\n",
              "    </tr>\n",
              "    <tr>\n",
              "      <th>2</th>\n",
              "      <td>24fa</td>\n",
              "      <td>vowel</td>\n",
              "      <td>\"AY1\"</td>\n",
              "      <td>0.127</td>\n",
              "      <td>0.187</td>\n",
              "      <td>0.060</td>\n",
              "      <td>1</td>\n",
              "      <td>54</td>\n",
              "    </tr>\n",
              "    <tr>\n",
              "      <th>3</th>\n",
              "      <td>24fa</td>\n",
              "      <td>consonant</td>\n",
              "      <td>\"M\"</td>\n",
              "      <td>0.187</td>\n",
              "      <td>0.277</td>\n",
              "      <td>0.090</td>\n",
              "      <td>1</td>\n",
              "      <td>54</td>\n",
              "    </tr>\n",
              "    <tr>\n",
              "      <th>4</th>\n",
              "      <td>24fa</td>\n",
              "      <td>vowel</td>\n",
              "      <td>\"IY1\"</td>\n",
              "      <td>0.277</td>\n",
              "      <td>0.327</td>\n",
              "      <td>0.050</td>\n",
              "      <td>1</td>\n",
              "      <td>54</td>\n",
              "    </tr>\n",
              "    <tr>\n",
              "      <th>...</th>\n",
              "      <td>...</td>\n",
              "      <td>...</td>\n",
              "      <td>...</td>\n",
              "      <td>...</td>\n",
              "      <td>...</td>\n",
              "      <td>...</td>\n",
              "      <td>...</td>\n",
              "      <td>...</td>\n",
              "    </tr>\n",
              "    <tr>\n",
              "      <th>76262</th>\n",
              "      <td>C13_RG</td>\n",
              "      <td>consonant</td>\n",
              "      <td>\"SH\"</td>\n",
              "      <td>162.994</td>\n",
              "      <td>163.144</td>\n",
              "      <td>0.150</td>\n",
              "      <td>52</td>\n",
              "      <td>22</td>\n",
              "    </tr>\n",
              "    <tr>\n",
              "      <th>76263</th>\n",
              "      <td>C13_RG</td>\n",
              "      <td>vowel</td>\n",
              "      <td>\"IH2\"</td>\n",
              "      <td>163.144</td>\n",
              "      <td>163.214</td>\n",
              "      <td>0.070</td>\n",
              "      <td>52</td>\n",
              "      <td>22</td>\n",
              "    </tr>\n",
              "    <tr>\n",
              "      <th>76264</th>\n",
              "      <td>C13_RG</td>\n",
              "      <td>consonant</td>\n",
              "      <td>\"P\"</td>\n",
              "      <td>163.214</td>\n",
              "      <td>163.284</td>\n",
              "      <td>0.070</td>\n",
              "      <td>52</td>\n",
              "      <td>22</td>\n",
              "    </tr>\n",
              "    <tr>\n",
              "      <th>76265</th>\n",
              "      <td>C13_RG</td>\n",
              "      <td>consonant</td>\n",
              "      <td>\"S\"</td>\n",
              "      <td>163.284</td>\n",
              "      <td>163.584</td>\n",
              "      <td>0.300</td>\n",
              "      <td>52</td>\n",
              "      <td>22</td>\n",
              "    </tr>\n",
              "    <tr>\n",
              "      <th>76266</th>\n",
              "      <td>C13_RG</td>\n",
              "      <td>silence</td>\n",
              "      <td>\"sp\"</td>\n",
              "      <td>163.584</td>\n",
              "      <td>163.684</td>\n",
              "      <td>0.100</td>\n",
              "      <td>52</td>\n",
              "      <td>22</td>\n",
              "    </tr>\n",
              "  </tbody>\n",
              "</table>\n",
              "<p>76267 rows × 8 columns</p>\n",
              "</div>\n",
              "      <button class=\"colab-df-convert\" onclick=\"convertToInteractive('df-9c65a273-18bb-4c7a-909b-00f4936ef54f')\"\n",
              "              title=\"Convert this dataframe to an interactive table.\"\n",
              "              style=\"display:none;\">\n",
              "        \n",
              "  <svg xmlns=\"http://www.w3.org/2000/svg\" height=\"24px\"viewBox=\"0 0 24 24\"\n",
              "       width=\"24px\">\n",
              "    <path d=\"M0 0h24v24H0V0z\" fill=\"none\"/>\n",
              "    <path d=\"M18.56 5.44l.94 2.06.94-2.06 2.06-.94-2.06-.94-.94-2.06-.94 2.06-2.06.94zm-11 1L8.5 8.5l.94-2.06 2.06-.94-2.06-.94L8.5 2.5l-.94 2.06-2.06.94zm10 10l.94 2.06.94-2.06 2.06-.94-2.06-.94-.94-2.06-.94 2.06-2.06.94z\"/><path d=\"M17.41 7.96l-1.37-1.37c-.4-.4-.92-.59-1.43-.59-.52 0-1.04.2-1.43.59L10.3 9.45l-7.72 7.72c-.78.78-.78 2.05 0 2.83L4 21.41c.39.39.9.59 1.41.59.51 0 1.02-.2 1.41-.59l7.78-7.78 2.81-2.81c.8-.78.8-2.07 0-2.86zM5.41 20L4 18.59l7.72-7.72 1.47 1.35L5.41 20z\"/>\n",
              "  </svg>\n",
              "      </button>\n",
              "      \n",
              "  <style>\n",
              "    .colab-df-container {\n",
              "      display:flex;\n",
              "      flex-wrap:wrap;\n",
              "      gap: 12px;\n",
              "    }\n",
              "\n",
              "    .colab-df-convert {\n",
              "      background-color: #E8F0FE;\n",
              "      border: none;\n",
              "      border-radius: 50%;\n",
              "      cursor: pointer;\n",
              "      display: none;\n",
              "      fill: #1967D2;\n",
              "      height: 32px;\n",
              "      padding: 0 0 0 0;\n",
              "      width: 32px;\n",
              "    }\n",
              "\n",
              "    .colab-df-convert:hover {\n",
              "      background-color: #E2EBFA;\n",
              "      box-shadow: 0px 1px 2px rgba(60, 64, 67, 0.3), 0px 1px 3px 1px rgba(60, 64, 67, 0.15);\n",
              "      fill: #174EA6;\n",
              "    }\n",
              "\n",
              "    [theme=dark] .colab-df-convert {\n",
              "      background-color: #3B4455;\n",
              "      fill: #D2E3FC;\n",
              "    }\n",
              "\n",
              "    [theme=dark] .colab-df-convert:hover {\n",
              "      background-color: #434B5C;\n",
              "      box-shadow: 0px 1px 3px 1px rgba(0, 0, 0, 0.15);\n",
              "      filter: drop-shadow(0px 1px 2px rgba(0, 0, 0, 0.3));\n",
              "      fill: #FFFFFF;\n",
              "    }\n",
              "  </style>\n",
              "\n",
              "      <script>\n",
              "        const buttonEl =\n",
              "          document.querySelector('#df-9c65a273-18bb-4c7a-909b-00f4936ef54f button.colab-df-convert');\n",
              "        buttonEl.style.display =\n",
              "          google.colab.kernel.accessAllowed ? 'block' : 'none';\n",
              "\n",
              "        async function convertToInteractive(key) {\n",
              "          const element = document.querySelector('#df-9c65a273-18bb-4c7a-909b-00f4936ef54f');\n",
              "          const dataTable =\n",
              "            await google.colab.kernel.invokeFunction('convertToInteractive',\n",
              "                                                     [key], {});\n",
              "          if (!dataTable) return;\n",
              "\n",
              "          const docLinkHtml = 'Like what you see? Visit the ' +\n",
              "            '<a target=\"_blank\" href=https://colab.research.google.com/notebooks/data_table.ipynb>data table notebook</a>'\n",
              "            + ' to learn more about interactive tables.';\n",
              "          element.innerHTML = '';\n",
              "          dataTable['output_type'] = 'display_data';\n",
              "          await google.colab.output.renderOutput(dataTable, element);\n",
              "          const docLink = document.createElement('div');\n",
              "          docLink.innerHTML = docLinkHtml;\n",
              "          element.appendChild(docLink);\n",
              "        }\n",
              "      </script>\n",
              "    </div>\n",
              "  </div>\n",
              "  "
            ]
          },
          "metadata": {},
          "execution_count": 31
        }
      ]
    },
    {
      "cell_type": "markdown",
      "source": [
        "**5. Save**"
      ],
      "metadata": {
        "id": "Zgwh54NVuh4u"
      }
    },
    {
      "cell_type": "code",
      "source": [
        "%cd /content/gdrive/MyDrive/RhythmAnalysisPipeline/"
      ],
      "metadata": {
        "colab": {
          "base_uri": "https://localhost:8080/"
        },
        "id": "2OmPtysNuUph",
        "outputId": "a985ad1a-3a77-4794-fe90-5e956190400d"
      },
      "execution_count": 32,
      "outputs": [
        {
          "output_type": "stream",
          "name": "stdout",
          "text": [
            "/content/gdrive/MyDrive/RhythmAnalysisPipeline\n"
          ]
        }
      ]
    },
    {
      "cell_type": "code",
      "source": [
        "dir = \"2.BreathGroups_Assigned\"\n",
        "\n",
        "if os.path.exists(dir) == False:\n",
        "  os.mkdir(dir)"
      ],
      "metadata": {
        "id": "Wy47c7DBulq5"
      },
      "execution_count": 35,
      "outputs": []
    },
    {
      "cell_type": "code",
      "source": [
        "%cd /content/gdrive/MyDrive/RhythmAnalysisPipeline/2.BreathGroups_Assigned/"
      ],
      "metadata": {
        "colab": {
          "base_uri": "https://localhost:8080/"
        },
        "id": "IN2FgpgRulkY",
        "outputId": "e8409914-9bbf-4b39-9d64-e70cbbcf5cd6"
      },
      "execution_count": 36,
      "outputs": [
        {
          "output_type": "stream",
          "name": "stdout",
          "text": [
            "/content/gdrive/MyDrive/RhythmAnalysisPipeline/2.BreathGroups_Assigned\n"
          ]
        }
      ]
    },
    {
      "cell_type": "code",
      "source": [
        "read_TextGrid_duration.to_excel(\"reading_TextGrid_comb_BG_loop.xlsx\")\n",
        "inter_TextGrid_duration.to_excel(\"interview_TextGrid_comb_BG_loop.xlsx\")"
      ],
      "metadata": {
        "id": "wn5HOoAtuleI"
      },
      "execution_count": 37,
      "outputs": []
    },
    {
      "cell_type": "code",
      "source": [
        "%cd /content/gdrive/MyDrive/RhythmAnalysisPipeline/"
      ],
      "metadata": {
        "colab": {
          "base_uri": "https://localhost:8080/"
        },
        "id": "1XrHcpJquqtA",
        "outputId": "04943d0e-d56f-4ae4-834f-b508741d7f1f"
      },
      "execution_count": 38,
      "outputs": [
        {
          "output_type": "stream",
          "name": "stdout",
          "text": [
            "/content/gdrive/MyDrive/RhythmAnalysisPipeline\n"
          ]
        }
      ]
    }
  ]
}