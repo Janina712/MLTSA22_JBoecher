{
  "nbformat": 4,
  "nbformat_minor": 0,
  "metadata": {
    "colab": {
      "name": "Segmented2Metrics_ProcessingPipeline.ipynb",
      "provenance": [],
      "collapsed_sections": [],
      "authorship_tag": "ABX9TyPz1nPqE10HnmsqabYxFUL0",
      "include_colab_link": true
    },
    "kernelspec": {
      "name": "python3",
      "display_name": "Python 3"
    },
    "language_info": {
      "name": "python"
    }
  },
  "cells": [
    {
      "cell_type": "markdown",
      "metadata": {
        "id": "view-in-github",
        "colab_type": "text"
      },
      "source": [
        "<a href=\"https://colab.research.google.com/github/Janina712/MLTSA22_JBoecher/blob/main/Other/Segmented2Metrics_ProcessingPipeline.ipynb\" target=\"_parent\"><img src=\"https://colab.research.google.com/assets/colab-badge.svg\" alt=\"Open In Colab\"/></a>"
      ]
    },
    {
      "cell_type": "markdown",
      "source": [
        "**0. Imports & Set Up**"
      ],
      "metadata": {
        "id": "JaMzZqcQCk1B"
      }
    },
    {
      "cell_type": "code",
      "execution_count": 1,
      "metadata": {
        "id": "xyncVYrgCai8"
      },
      "outputs": [],
      "source": [
        "import pandas as pd\n",
        "import numpy as np \n",
        "import os"
      ]
    },
    {
      "cell_type": "code",
      "source": [
        "from google.colab import drive\n",
        "drive.mount(\"/content/gdrive\")"
      ],
      "metadata": {
        "colab": {
          "base_uri": "https://localhost:8080/"
        },
        "id": "275yxZPbDyR5",
        "outputId": "b5c48803-363f-47d6-816c-48090aa8a4b6"
      },
      "execution_count": 2,
      "outputs": [
        {
          "output_type": "stream",
          "name": "stdout",
          "text": [
            "Drive already mounted at /content/gdrive; to attempt to forcibly remount, call drive.mount(\"/content/gdrive\", force_remount=True).\n"
          ]
        }
      ]
    },
    {
      "cell_type": "code",
      "source": [
        "%cd /content/gdrive/MyDrive/RhythmAnalysisPipeline/"
      ],
      "metadata": {
        "colab": {
          "base_uri": "https://localhost:8080/"
        },
        "id": "MPWWTqb0Dzca",
        "outputId": "c1fc0d8e-2d2e-48cd-97e1-6ecdf04364bc"
      },
      "execution_count": 3,
      "outputs": [
        {
          "output_type": "stream",
          "name": "stdout",
          "text": [
            "/content/gdrive/MyDrive/RhythmAnalysisPipeline\n"
          ]
        }
      ]
    },
    {
      "cell_type": "markdown",
      "source": [
        "**1. Load Data Files**"
      ],
      "metadata": {
        "id": "eFKko_gcCuD5"
      }
    },
    {
      "cell_type": "code",
      "source": [
        "IDs = ['24fa', '24ma', '24mb', '26f', '29ma', '29mb', '29mc', '32m', '34m', '35mb', '46ma', '50fa', '50fb', '54f', '57m', '60m', '62f', '62m', 'C1_DS', 'C2_JH', 'C3_MD', 'C4_ZO', 'C5_HL', 'C6_LH', 'C7_SH', 'C9_RD', 'C10_KS', 'C11_NP', 'C12_CC', 'C13_RG']\n",
        "condition = ['reading', 'interview']\n",
        "extention = ['txt', 'TextGrid']"
      ],
      "metadata": {
        "id": "tvok25OrWYlU"
      },
      "execution_count": 4,
      "outputs": []
    },
    {
      "cell_type": "code",
      "source": [
        "# get required shape of dataframes\n",
        "max_read_txt = 0\n",
        "max_read_TextGrid = 0\n",
        "max_inter_txt = 0\n",
        "max_inter_TextGrid = 0"
      ],
      "metadata": {
        "id": "zDTl6mmcgiL8"
      },
      "execution_count": 5,
      "outputs": []
    },
    {
      "cell_type": "code",
      "source": [
        "for ID in IDs:\n",
        "  for cond in condition:\n",
        "    for ext in extention: \n",
        "      if cond == 'reading':\n",
        "        if ext == 'txt': \n",
        "          if len(pd.read_csv(ID + '_' + cond + '.' + ext)) > max_read_txt: \n",
        "            max_read_txt = len(pd.read_csv(ID + '_' + cond + '.' + ext))\n",
        "        elif ext == 'TextGrid':\n",
        "          if len(pd.read_csv(ID + '_' + cond + '.' + ext)) > max_read_TextGrid: \n",
        "            max_read_TextGrid = len(pd.read_csv(ID + '_' + cond + '.' + ext))\n",
        "      elif cond == 'interview':\n",
        "        if ext == 'txt': \n",
        "          if len(pd.read_csv(ID + '_' + cond + '.' + ext)) > max_inter_txt: \n",
        "            max_inter_txt = len(pd.read_csv(ID + '_' + cond + '.' + ext))\n",
        "        elif ext == 'TextGrid':\n",
        "          if len(pd.read_csv(ID + '_' + cond + '.' + ext)) > max_inter_TextGrid: \n",
        "            max_inter_TextGrid = len(pd.read_csv(ID + '_' + cond + '.' + ext))"
      ],
      "metadata": {
        "id": "N3h4z2tJgoK6"
      },
      "execution_count": 6,
      "outputs": []
    },
    {
      "cell_type": "code",
      "source": [
        "# initialize dataframes\n",
        "df_read_txt = pd.DataFrame(index=range(max_read_txt),columns=range(1))\n",
        "df_read_TextGrid = pd.DataFrame(index=range(max_read_TextGrid),columns=range(1))\n",
        "df_inter_txt = pd.DataFrame(index=range(max_inter_txt),columns=range(1))\n",
        "df_inter_TextGrid = pd.DataFrame(index=range(max_inter_TextGrid),columns=range(1))"
      ],
      "metadata": {
        "id": "f6X67gvcYot8"
      },
      "execution_count": 7,
      "outputs": []
    },
    {
      "cell_type": "code",
      "source": [
        "#import data\n",
        "for ID in IDs:\n",
        "  for cond in condition:\n",
        "    for ext in extention: \n",
        "      if cond == 'reading':\n",
        "        if ext == 'txt': \n",
        "          df_read_txt[ID] = pd.read_csv(ID + '_' + cond + '.' + ext)\n",
        "        elif ext == 'TextGrid':\n",
        "          df_read_TextGrid[ID] = pd.read_csv(ID + '_' + cond + '.' + ext)\n",
        "      elif cond == 'interview':\n",
        "        if ext == 'txt': \n",
        "          df_inter_txt[ID] = pd.read_csv(ID + '_' + cond + '.' + ext)\n",
        "        elif ext == 'TextGrid':\n",
        "          df_inter_TextGrid[ID] = pd.read_csv(ID + '_' + cond + '.' + ext)"
      ],
      "metadata": {
        "id": "kDL7jhqFhg46"
      },
      "execution_count": 8,
      "outputs": []
    },
    {
      "cell_type": "code",
      "source": [
        "df_read_txt_wide = pd.DataFrame()\n",
        "df_inter_txt_wide = pd.DataFrame()\n",
        "df_read_TextGrid_wide = pd.DataFrame()\n",
        "df_inter_TextGrid_wide = pd.DataFrame()"
      ],
      "metadata": {
        "id": "1KX5ls6PCI5X"
      },
      "execution_count": 9,
      "outputs": []
    },
    {
      "cell_type": "markdown",
      "source": [
        "**2. Combine txt Files**"
      ],
      "metadata": {
        "id": "AkPL974QyJY5"
      }
    },
    {
      "cell_type": "code",
      "source": [
        "for ID in IDs:\n",
        "  df_read_txt_wide = df_read_txt_wide.append(df_read_txt[ID].str.split(\"\\t\", expand = True, n = 4), ignore_index=True) \n",
        "  df_inter_txt_wide = df_inter_txt_wide.append(df_inter_txt[ID].str.split(\"\\t\", expand = True, n = 4), ignore_index=True) "
      ],
      "metadata": {
        "id": "Z_j2oUQVCOqw"
      },
      "execution_count": 10,
      "outputs": []
    },
    {
      "cell_type": "code",
      "source": [
        "df_read_txt_wide.drop(columns=[0, 1], inplace = True)\n",
        "df_read_txt_wide.rename(columns={2: 'Onset', 3: 'Offset', 4: \"Utterance\"}, inplace=True)\n",
        "df_inter_txt_wide.drop(columns=[0, 1], inplace = True)\n",
        "df_inter_txt_wide.rename(columns={2: 'Onset', 3: 'Offset', 4: \"Utterance\"}, inplace=True)"
      ],
      "metadata": {
        "id": "tAC5Dt3u-q2g"
      },
      "execution_count": 11,
      "outputs": []
    },
    {
      "cell_type": "code",
      "source": [
        "names_read = []\n",
        "name_col_read = []\n",
        "names_inter = []\n",
        "name_col_inter = []"
      ],
      "metadata": {
        "id": "RjF1YehOO29w"
      },
      "execution_count": 12,
      "outputs": []
    },
    {
      "cell_type": "code",
      "source": [
        "for ID in IDs:\n",
        "  names_read.append([ID for i in range(len(df_read_txt))])\n",
        "for n in range(0,30):\n",
        "  name_col_read = name_col_read + names_read[n]"
      ],
      "metadata": {
        "id": "SdJsaSB_OFe5"
      },
      "execution_count": 13,
      "outputs": []
    },
    {
      "cell_type": "code",
      "source": [
        "for ID in IDs:\n",
        "  names_inter.append([ID for i in range(len(df_inter_txt))])\n",
        "for n in range(0,30):\n",
        "  name_col_inter = name_col_inter + names_inter[n]"
      ],
      "metadata": {
        "id": "neEx7ipxXGjI"
      },
      "execution_count": 14,
      "outputs": []
    },
    {
      "cell_type": "code",
      "source": [
        "df_read_txt_wide.insert(0, 'ID', name_col_read)\n",
        "df_inter_txt_wide.insert(0, 'ID', name_col_inter)"
      ],
      "metadata": {
        "id": "xM5k9Eq7Wsdt"
      },
      "execution_count": 15,
      "outputs": []
    },
    {
      "cell_type": "code",
      "source": [
        "df_read_txt_wide.dropna(inplace=True)\n",
        "df_inter_txt_wide.dropna(inplace=True)"
      ],
      "metadata": {
        "id": "NvGlDgLOv1ic"
      },
      "execution_count": 16,
      "outputs": []
    },
    {
      "cell_type": "code",
      "source": [
        "df_read_txt_wide"
      ],
      "metadata": {
        "colab": {
          "base_uri": "https://localhost:8080/",
          "height": 423
        },
        "id": "4T_ZlifZRx6a",
        "outputId": "590ac876-7de9-465d-e8ce-50e1b3063699"
      },
      "execution_count": 17,
      "outputs": [
        {
          "output_type": "execute_result",
          "data": {
            "text/plain": [
              "          ID               Onset              Offset  \\\n",
              "0       24fa  2.0205862162006705  3.0087226392336275   \n",
              "1       24fa   3.020408626769324   5.020485901671494   \n",
              "2       24fa   5.020485901671494   6.630961801312035   \n",
              "3       24fa   6.632745275948972   7.815001039555456   \n",
              "4       24fa   7.815001039555456    9.07527111102979   \n",
              "...      ...                 ...                 ...   \n",
              "1101  C13_RG   73.63765097218517   76.77215518547806   \n",
              "1102  C13_RG   76.77215518547806   79.19131317450871   \n",
              "1103  C13_RG   79.19131317450871   81.03704112169505   \n",
              "1104  C13_RG   81.03704112169505   84.38802292872269   \n",
              "1105  C13_RG   84.38802292872269   88.29247549434838   \n",
              "\n",
              "                                              Utterance  \n",
              "0                                     tucked away in a   \n",
              "1                    I have to admit that when I travel  \n",
              "2                        history is not the first thing  \n",
              "3                                     food and wine are  \n",
              "4                            and that's what sold me on  \n",
              "...                                                 ...  \n",
              "1101                here you'll find gray stone castles  \n",
              "1102                    rather than sun drenched villas  \n",
              "1103                      the people look different too  \n",
              "1104          taller and blonder than Southern Italians  \n",
              "1105  and with plenty of German and central European...  \n",
              "\n",
              "[865 rows x 4 columns]"
            ],
            "text/html": [
              "\n",
              "  <div id=\"df-1c58abed-f37b-479c-90b2-ce6802680cbc\">\n",
              "    <div class=\"colab-df-container\">\n",
              "      <div>\n",
              "<style scoped>\n",
              "    .dataframe tbody tr th:only-of-type {\n",
              "        vertical-align: middle;\n",
              "    }\n",
              "\n",
              "    .dataframe tbody tr th {\n",
              "        vertical-align: top;\n",
              "    }\n",
              "\n",
              "    .dataframe thead th {\n",
              "        text-align: right;\n",
              "    }\n",
              "</style>\n",
              "<table border=\"1\" class=\"dataframe\">\n",
              "  <thead>\n",
              "    <tr style=\"text-align: right;\">\n",
              "      <th></th>\n",
              "      <th>ID</th>\n",
              "      <th>Onset</th>\n",
              "      <th>Offset</th>\n",
              "      <th>Utterance</th>\n",
              "    </tr>\n",
              "  </thead>\n",
              "  <tbody>\n",
              "    <tr>\n",
              "      <th>0</th>\n",
              "      <td>24fa</td>\n",
              "      <td>2.0205862162006705</td>\n",
              "      <td>3.0087226392336275</td>\n",
              "      <td>tucked away in a</td>\n",
              "    </tr>\n",
              "    <tr>\n",
              "      <th>1</th>\n",
              "      <td>24fa</td>\n",
              "      <td>3.020408626769324</td>\n",
              "      <td>5.020485901671494</td>\n",
              "      <td>I have to admit that when I travel</td>\n",
              "    </tr>\n",
              "    <tr>\n",
              "      <th>2</th>\n",
              "      <td>24fa</td>\n",
              "      <td>5.020485901671494</td>\n",
              "      <td>6.630961801312035</td>\n",
              "      <td>history is not the first thing</td>\n",
              "    </tr>\n",
              "    <tr>\n",
              "      <th>3</th>\n",
              "      <td>24fa</td>\n",
              "      <td>6.632745275948972</td>\n",
              "      <td>7.815001039555456</td>\n",
              "      <td>food and wine are</td>\n",
              "    </tr>\n",
              "    <tr>\n",
              "      <th>4</th>\n",
              "      <td>24fa</td>\n",
              "      <td>7.815001039555456</td>\n",
              "      <td>9.07527111102979</td>\n",
              "      <td>and that's what sold me on</td>\n",
              "    </tr>\n",
              "    <tr>\n",
              "      <th>...</th>\n",
              "      <td>...</td>\n",
              "      <td>...</td>\n",
              "      <td>...</td>\n",
              "      <td>...</td>\n",
              "    </tr>\n",
              "    <tr>\n",
              "      <th>1101</th>\n",
              "      <td>C13_RG</td>\n",
              "      <td>73.63765097218517</td>\n",
              "      <td>76.77215518547806</td>\n",
              "      <td>here you'll find gray stone castles</td>\n",
              "    </tr>\n",
              "    <tr>\n",
              "      <th>1102</th>\n",
              "      <td>C13_RG</td>\n",
              "      <td>76.77215518547806</td>\n",
              "      <td>79.19131317450871</td>\n",
              "      <td>rather than sun drenched villas</td>\n",
              "    </tr>\n",
              "    <tr>\n",
              "      <th>1103</th>\n",
              "      <td>C13_RG</td>\n",
              "      <td>79.19131317450871</td>\n",
              "      <td>81.03704112169505</td>\n",
              "      <td>the people look different too</td>\n",
              "    </tr>\n",
              "    <tr>\n",
              "      <th>1104</th>\n",
              "      <td>C13_RG</td>\n",
              "      <td>81.03704112169505</td>\n",
              "      <td>84.38802292872269</td>\n",
              "      <td>taller and blonder than Southern Italians</td>\n",
              "    </tr>\n",
              "    <tr>\n",
              "      <th>1105</th>\n",
              "      <td>C13_RG</td>\n",
              "      <td>84.38802292872269</td>\n",
              "      <td>88.29247549434838</td>\n",
              "      <td>and with plenty of German and central European...</td>\n",
              "    </tr>\n",
              "  </tbody>\n",
              "</table>\n",
              "<p>865 rows × 4 columns</p>\n",
              "</div>\n",
              "      <button class=\"colab-df-convert\" onclick=\"convertToInteractive('df-1c58abed-f37b-479c-90b2-ce6802680cbc')\"\n",
              "              title=\"Convert this dataframe to an interactive table.\"\n",
              "              style=\"display:none;\">\n",
              "        \n",
              "  <svg xmlns=\"http://www.w3.org/2000/svg\" height=\"24px\"viewBox=\"0 0 24 24\"\n",
              "       width=\"24px\">\n",
              "    <path d=\"M0 0h24v24H0V0z\" fill=\"none\"/>\n",
              "    <path d=\"M18.56 5.44l.94 2.06.94-2.06 2.06-.94-2.06-.94-.94-2.06-.94 2.06-2.06.94zm-11 1L8.5 8.5l.94-2.06 2.06-.94-2.06-.94L8.5 2.5l-.94 2.06-2.06.94zm10 10l.94 2.06.94-2.06 2.06-.94-2.06-.94-.94-2.06-.94 2.06-2.06.94z\"/><path d=\"M17.41 7.96l-1.37-1.37c-.4-.4-.92-.59-1.43-.59-.52 0-1.04.2-1.43.59L10.3 9.45l-7.72 7.72c-.78.78-.78 2.05 0 2.83L4 21.41c.39.39.9.59 1.41.59.51 0 1.02-.2 1.41-.59l7.78-7.78 2.81-2.81c.8-.78.8-2.07 0-2.86zM5.41 20L4 18.59l7.72-7.72 1.47 1.35L5.41 20z\"/>\n",
              "  </svg>\n",
              "      </button>\n",
              "      \n",
              "  <style>\n",
              "    .colab-df-container {\n",
              "      display:flex;\n",
              "      flex-wrap:wrap;\n",
              "      gap: 12px;\n",
              "    }\n",
              "\n",
              "    .colab-df-convert {\n",
              "      background-color: #E8F0FE;\n",
              "      border: none;\n",
              "      border-radius: 50%;\n",
              "      cursor: pointer;\n",
              "      display: none;\n",
              "      fill: #1967D2;\n",
              "      height: 32px;\n",
              "      padding: 0 0 0 0;\n",
              "      width: 32px;\n",
              "    }\n",
              "\n",
              "    .colab-df-convert:hover {\n",
              "      background-color: #E2EBFA;\n",
              "      box-shadow: 0px 1px 2px rgba(60, 64, 67, 0.3), 0px 1px 3px 1px rgba(60, 64, 67, 0.15);\n",
              "      fill: #174EA6;\n",
              "    }\n",
              "\n",
              "    [theme=dark] .colab-df-convert {\n",
              "      background-color: #3B4455;\n",
              "      fill: #D2E3FC;\n",
              "    }\n",
              "\n",
              "    [theme=dark] .colab-df-convert:hover {\n",
              "      background-color: #434B5C;\n",
              "      box-shadow: 0px 1px 3px 1px rgba(0, 0, 0, 0.15);\n",
              "      filter: drop-shadow(0px 1px 2px rgba(0, 0, 0, 0.3));\n",
              "      fill: #FFFFFF;\n",
              "    }\n",
              "  </style>\n",
              "\n",
              "      <script>\n",
              "        const buttonEl =\n",
              "          document.querySelector('#df-1c58abed-f37b-479c-90b2-ce6802680cbc button.colab-df-convert');\n",
              "        buttonEl.style.display =\n",
              "          google.colab.kernel.accessAllowed ? 'block' : 'none';\n",
              "\n",
              "        async function convertToInteractive(key) {\n",
              "          const element = document.querySelector('#df-1c58abed-f37b-479c-90b2-ce6802680cbc');\n",
              "          const dataTable =\n",
              "            await google.colab.kernel.invokeFunction('convertToInteractive',\n",
              "                                                     [key], {});\n",
              "          if (!dataTable) return;\n",
              "\n",
              "          const docLinkHtml = 'Like what you see? Visit the ' +\n",
              "            '<a target=\"_blank\" href=https://colab.research.google.com/notebooks/data_table.ipynb>data table notebook</a>'\n",
              "            + ' to learn more about interactive tables.';\n",
              "          element.innerHTML = '';\n",
              "          dataTable['output_type'] = 'display_data';\n",
              "          await google.colab.output.renderOutput(dataTable, element);\n",
              "          const docLink = document.createElement('div');\n",
              "          docLink.innerHTML = docLinkHtml;\n",
              "          element.appendChild(docLink);\n",
              "        }\n",
              "      </script>\n",
              "    </div>\n",
              "  </div>\n",
              "  "
            ]
          },
          "metadata": {},
          "execution_count": 17
        }
      ]
    },
    {
      "cell_type": "markdown",
      "source": [
        "**3.1 Combine TextGrid Files: Reading**"
      ],
      "metadata": {
        "id": "EOzAhdP-iBOx"
      }
    },
    {
      "cell_type": "code",
      "source": [
        "IntervalSizeString = []"
      ],
      "metadata": {
        "id": "up2r3P9TGZar"
      },
      "execution_count": 18,
      "outputs": []
    },
    {
      "cell_type": "code",
      "source": [
        "for ID in IDs: \n",
        "  IntervalSizeString.append(df_read_TextGrid[ID][11])"
      ],
      "metadata": {
        "id": "PPWejzzDGP0D"
      },
      "execution_count": 19,
      "outputs": []
    },
    {
      "cell_type": "code",
      "source": [
        "IntervalSize = []\n",
        "for i in range(0,len(IntervalSizeString)):\n",
        "  for z in IntervalSizeString[i].split():\n",
        "    if z.isdigit():\n",
        "        IntervalSize.append(int(z))"
      ],
      "metadata": {
        "id": "i-iQdc84J6zY"
      },
      "execution_count": 20,
      "outputs": []
    },
    {
      "cell_type": "code",
      "source": [
        "maxLength = max(IntervalSize)\n",
        "lastRow = len(df_read_TextGrid)\n",
        "n = -1"
      ],
      "metadata": {
        "id": "tH2uEl-ELdrA"
      },
      "execution_count": 21,
      "outputs": []
    },
    {
      "cell_type": "code",
      "source": [
        "for ID in IDs:  \n",
        "  n = n + 1\n",
        "  endRow = IntervalSize[n] * 4 + 12\n",
        "  df_read_TextGrid[ID][endRow:lastRow] = np.NaN"
      ],
      "metadata": {
        "id": "s7W29-f6OnBr"
      },
      "execution_count": 22,
      "outputs": []
    },
    {
      "cell_type": "code",
      "source": [
        "for c in range(0,12):\n",
        "  df_read_TextGrid.drop([c], inplace = True)"
      ],
      "metadata": {
        "id": "hvo4fItkYi0o"
      },
      "execution_count": 23,
      "outputs": []
    },
    {
      "cell_type": "code",
      "source": [
        "for ID in IDs:\n",
        "  df_read_TextGrid_wide = df_read_TextGrid_wide.append(df_read_TextGrid[ID].str.split(\" = \", expand = True, n = 1), ignore_index=True) "
      ],
      "metadata": {
        "id": "oDlpRanbZJN5"
      },
      "execution_count": 24,
      "outputs": []
    },
    {
      "cell_type": "code",
      "source": [
        "df_read_TextGrid_wide = df_read_TextGrid_wide[df_read_TextGrid_wide[0].str.contains(\"xmin|xmax\") == True]"
      ],
      "metadata": {
        "id": "4Z08gOb2MyZv"
      },
      "execution_count": 25,
      "outputs": []
    },
    {
      "cell_type": "code",
      "source": [
        "onsets = df_read_TextGrid_wide[df_read_TextGrid_wide[0].str.contains(\"xmin\") == True]\n",
        "offsets = df_read_TextGrid_wide[df_read_TextGrid_wide[0].str.contains(\"xmax\") == True]"
      ],
      "metadata": {
        "id": "VyJOeOgdRmBB"
      },
      "execution_count": 26,
      "outputs": []
    },
    {
      "cell_type": "code",
      "source": [
        "onsets.index = range(len(onsets.index))\n",
        "offsets.index = range(len(offsets.index))"
      ],
      "metadata": {
        "id": "UN3-yZiWRl9m"
      },
      "execution_count": 27,
      "outputs": []
    },
    {
      "cell_type": "code",
      "source": [
        "duration = []"
      ],
      "metadata": {
        "id": "WCVhUNZxRl6T"
      },
      "execution_count": 28,
      "outputs": []
    },
    {
      "cell_type": "code",
      "source": [
        "for i in range (0,(len(offsets))):\n",
        "  duration.append(float(offsets[1][i]) - float(onsets[1][i]))"
      ],
      "metadata": {
        "id": "AJZcMMKSRl2b"
      },
      "execution_count": 29,
      "outputs": []
    },
    {
      "cell_type": "code",
      "source": [
        "duration = pd.DataFrame(duration)"
      ],
      "metadata": {
        "id": "xNEBfqUei0ZF"
      },
      "execution_count": 30,
      "outputs": []
    },
    {
      "cell_type": "code",
      "source": [
        "read_TextGrid_duration = pd.concat([onsets, offsets, duration], axis=1)"
      ],
      "metadata": {
        "id": "A-6Lxogti0av"
      },
      "execution_count": 31,
      "outputs": []
    },
    {
      "cell_type": "code",
      "source": [
        "read_TextGrid_duration.columns = ['min', 'Onset', 'max','Offset','Duration']"
      ],
      "metadata": {
        "id": "i9nw0VWhjrfU"
      },
      "execution_count": 32,
      "outputs": []
    },
    {
      "cell_type": "code",
      "source": [
        "read_TextGrid_duration.drop(['min', 'max'], axis=1, inplace = True)"
      ],
      "metadata": {
        "id": "jg2RrOejlH4F"
      },
      "execution_count": 33,
      "outputs": []
    },
    {
      "cell_type": "code",
      "source": [
        "ID_col = pd.DataFrame(columns=range(1))"
      ],
      "metadata": {
        "id": "OPhDOMi5ojxX"
      },
      "execution_count": 34,
      "outputs": []
    },
    {
      "cell_type": "code",
      "source": [
        "n = -1"
      ],
      "metadata": {
        "id": "UXC0FDwKmK9N"
      },
      "execution_count": 35,
      "outputs": []
    },
    {
      "cell_type": "code",
      "source": [
        "for ID in IDs:\n",
        "  n = n + 1\n",
        "  ID_col = ID_col.append([ID]*IntervalSize[n])"
      ],
      "metadata": {
        "id": "8gWbT5YvmHrW"
      },
      "execution_count": 36,
      "outputs": []
    },
    {
      "cell_type": "code",
      "source": [
        "ID_col.index = range(len(ID_col.index))"
      ],
      "metadata": {
        "id": "eReuMYFcpXql"
      },
      "execution_count": 37,
      "outputs": []
    },
    {
      "cell_type": "code",
      "source": [
        "read_TextGrid_duration = pd.concat([ID_col, read_TextGrid_duration], axis=1)"
      ],
      "metadata": {
        "id": "XvWvb16EnnqK"
      },
      "execution_count": 38,
      "outputs": []
    },
    {
      "cell_type": "code",
      "source": [
        "read_TextGrid_duration.columns = ['ID', 'Onset', 'Offset','Duration']"
      ],
      "metadata": {
        "id": "XQTVLLebny_4"
      },
      "execution_count": 39,
      "outputs": []
    },
    {
      "cell_type": "code",
      "source": [
        "read_TextGrid_duration"
      ],
      "metadata": {
        "colab": {
          "base_uri": "https://localhost:8080/",
          "height": 423
        },
        "id": "5ZlF0xAKlxT9",
        "outputId": "a7191a76-6ec3-4c88-f32b-062ec7cd7b0f"
      },
      "execution_count": 40,
      "outputs": [
        {
          "output_type": "execute_result",
          "data": {
            "text/plain": [
              "           ID      Onset     Offset  Duration\n",
              "0        24fa   0.000000   0.013000     0.013\n",
              "1        24fa   0.013000   0.143000     0.130\n",
              "2        24fa   0.143000   0.263000     0.120\n",
              "3        24fa   0.263000   0.343000     0.080\n",
              "4        24fa   0.343000   0.482000     0.139\n",
              "...       ...        ...        ...       ...\n",
              "24338  C13_RG  87.881000  87.910000     0.029\n",
              "24339  C13_RG  87.910000  88.081000     0.171\n",
              "24340  C13_RG  88.081000  88.191000     0.110\n",
              "24341  C13_RG  88.191000  88.281000     0.090\n",
              "24342  C13_RG  88.281000  88.293000     0.012\n",
              "\n",
              "[24343 rows x 4 columns]"
            ],
            "text/html": [
              "\n",
              "  <div id=\"df-e09a7684-2932-4b6b-9f2f-3faa2ce6c818\">\n",
              "    <div class=\"colab-df-container\">\n",
              "      <div>\n",
              "<style scoped>\n",
              "    .dataframe tbody tr th:only-of-type {\n",
              "        vertical-align: middle;\n",
              "    }\n",
              "\n",
              "    .dataframe tbody tr th {\n",
              "        vertical-align: top;\n",
              "    }\n",
              "\n",
              "    .dataframe thead th {\n",
              "        text-align: right;\n",
              "    }\n",
              "</style>\n",
              "<table border=\"1\" class=\"dataframe\">\n",
              "  <thead>\n",
              "    <tr style=\"text-align: right;\">\n",
              "      <th></th>\n",
              "      <th>ID</th>\n",
              "      <th>Onset</th>\n",
              "      <th>Offset</th>\n",
              "      <th>Duration</th>\n",
              "    </tr>\n",
              "  </thead>\n",
              "  <tbody>\n",
              "    <tr>\n",
              "      <th>0</th>\n",
              "      <td>24fa</td>\n",
              "      <td>0.000000</td>\n",
              "      <td>0.013000</td>\n",
              "      <td>0.013</td>\n",
              "    </tr>\n",
              "    <tr>\n",
              "      <th>1</th>\n",
              "      <td>24fa</td>\n",
              "      <td>0.013000</td>\n",
              "      <td>0.143000</td>\n",
              "      <td>0.130</td>\n",
              "    </tr>\n",
              "    <tr>\n",
              "      <th>2</th>\n",
              "      <td>24fa</td>\n",
              "      <td>0.143000</td>\n",
              "      <td>0.263000</td>\n",
              "      <td>0.120</td>\n",
              "    </tr>\n",
              "    <tr>\n",
              "      <th>3</th>\n",
              "      <td>24fa</td>\n",
              "      <td>0.263000</td>\n",
              "      <td>0.343000</td>\n",
              "      <td>0.080</td>\n",
              "    </tr>\n",
              "    <tr>\n",
              "      <th>4</th>\n",
              "      <td>24fa</td>\n",
              "      <td>0.343000</td>\n",
              "      <td>0.482000</td>\n",
              "      <td>0.139</td>\n",
              "    </tr>\n",
              "    <tr>\n",
              "      <th>...</th>\n",
              "      <td>...</td>\n",
              "      <td>...</td>\n",
              "      <td>...</td>\n",
              "      <td>...</td>\n",
              "    </tr>\n",
              "    <tr>\n",
              "      <th>24338</th>\n",
              "      <td>C13_RG</td>\n",
              "      <td>87.881000</td>\n",
              "      <td>87.910000</td>\n",
              "      <td>0.029</td>\n",
              "    </tr>\n",
              "    <tr>\n",
              "      <th>24339</th>\n",
              "      <td>C13_RG</td>\n",
              "      <td>87.910000</td>\n",
              "      <td>88.081000</td>\n",
              "      <td>0.171</td>\n",
              "    </tr>\n",
              "    <tr>\n",
              "      <th>24340</th>\n",
              "      <td>C13_RG</td>\n",
              "      <td>88.081000</td>\n",
              "      <td>88.191000</td>\n",
              "      <td>0.110</td>\n",
              "    </tr>\n",
              "    <tr>\n",
              "      <th>24341</th>\n",
              "      <td>C13_RG</td>\n",
              "      <td>88.191000</td>\n",
              "      <td>88.281000</td>\n",
              "      <td>0.090</td>\n",
              "    </tr>\n",
              "    <tr>\n",
              "      <th>24342</th>\n",
              "      <td>C13_RG</td>\n",
              "      <td>88.281000</td>\n",
              "      <td>88.293000</td>\n",
              "      <td>0.012</td>\n",
              "    </tr>\n",
              "  </tbody>\n",
              "</table>\n",
              "<p>24343 rows × 4 columns</p>\n",
              "</div>\n",
              "      <button class=\"colab-df-convert\" onclick=\"convertToInteractive('df-e09a7684-2932-4b6b-9f2f-3faa2ce6c818')\"\n",
              "              title=\"Convert this dataframe to an interactive table.\"\n",
              "              style=\"display:none;\">\n",
              "        \n",
              "  <svg xmlns=\"http://www.w3.org/2000/svg\" height=\"24px\"viewBox=\"0 0 24 24\"\n",
              "       width=\"24px\">\n",
              "    <path d=\"M0 0h24v24H0V0z\" fill=\"none\"/>\n",
              "    <path d=\"M18.56 5.44l.94 2.06.94-2.06 2.06-.94-2.06-.94-.94-2.06-.94 2.06-2.06.94zm-11 1L8.5 8.5l.94-2.06 2.06-.94-2.06-.94L8.5 2.5l-.94 2.06-2.06.94zm10 10l.94 2.06.94-2.06 2.06-.94-2.06-.94-.94-2.06-.94 2.06-2.06.94z\"/><path d=\"M17.41 7.96l-1.37-1.37c-.4-.4-.92-.59-1.43-.59-.52 0-1.04.2-1.43.59L10.3 9.45l-7.72 7.72c-.78.78-.78 2.05 0 2.83L4 21.41c.39.39.9.59 1.41.59.51 0 1.02-.2 1.41-.59l7.78-7.78 2.81-2.81c.8-.78.8-2.07 0-2.86zM5.41 20L4 18.59l7.72-7.72 1.47 1.35L5.41 20z\"/>\n",
              "  </svg>\n",
              "      </button>\n",
              "      \n",
              "  <style>\n",
              "    .colab-df-container {\n",
              "      display:flex;\n",
              "      flex-wrap:wrap;\n",
              "      gap: 12px;\n",
              "    }\n",
              "\n",
              "    .colab-df-convert {\n",
              "      background-color: #E8F0FE;\n",
              "      border: none;\n",
              "      border-radius: 50%;\n",
              "      cursor: pointer;\n",
              "      display: none;\n",
              "      fill: #1967D2;\n",
              "      height: 32px;\n",
              "      padding: 0 0 0 0;\n",
              "      width: 32px;\n",
              "    }\n",
              "\n",
              "    .colab-df-convert:hover {\n",
              "      background-color: #E2EBFA;\n",
              "      box-shadow: 0px 1px 2px rgba(60, 64, 67, 0.3), 0px 1px 3px 1px rgba(60, 64, 67, 0.15);\n",
              "      fill: #174EA6;\n",
              "    }\n",
              "\n",
              "    [theme=dark] .colab-df-convert {\n",
              "      background-color: #3B4455;\n",
              "      fill: #D2E3FC;\n",
              "    }\n",
              "\n",
              "    [theme=dark] .colab-df-convert:hover {\n",
              "      background-color: #434B5C;\n",
              "      box-shadow: 0px 1px 3px 1px rgba(0, 0, 0, 0.15);\n",
              "      filter: drop-shadow(0px 1px 2px rgba(0, 0, 0, 0.3));\n",
              "      fill: #FFFFFF;\n",
              "    }\n",
              "  </style>\n",
              "\n",
              "      <script>\n",
              "        const buttonEl =\n",
              "          document.querySelector('#df-e09a7684-2932-4b6b-9f2f-3faa2ce6c818 button.colab-df-convert');\n",
              "        buttonEl.style.display =\n",
              "          google.colab.kernel.accessAllowed ? 'block' : 'none';\n",
              "\n",
              "        async function convertToInteractive(key) {\n",
              "          const element = document.querySelector('#df-e09a7684-2932-4b6b-9f2f-3faa2ce6c818');\n",
              "          const dataTable =\n",
              "            await google.colab.kernel.invokeFunction('convertToInteractive',\n",
              "                                                     [key], {});\n",
              "          if (!dataTable) return;\n",
              "\n",
              "          const docLinkHtml = 'Like what you see? Visit the ' +\n",
              "            '<a target=\"_blank\" href=https://colab.research.google.com/notebooks/data_table.ipynb>data table notebook</a>'\n",
              "            + ' to learn more about interactive tables.';\n",
              "          element.innerHTML = '';\n",
              "          dataTable['output_type'] = 'display_data';\n",
              "          await google.colab.output.renderOutput(dataTable, element);\n",
              "          const docLink = document.createElement('div');\n",
              "          docLink.innerHTML = docLinkHtml;\n",
              "          element.appendChild(docLink);\n",
              "        }\n",
              "      </script>\n",
              "    </div>\n",
              "  </div>\n",
              "  "
            ]
          },
          "metadata": {},
          "execution_count": 40
        }
      ]
    },
    {
      "cell_type": "markdown",
      "source": [
        "**3.2 Combine TextGrid Files: Interview**"
      ],
      "metadata": {
        "id": "iWYDhQyVrcdP"
      }
    },
    {
      "cell_type": "code",
      "source": [
        "IntervalSizeString = []"
      ],
      "metadata": {
        "id": "5GyKk1jHRljH"
      },
      "execution_count": 41,
      "outputs": []
    },
    {
      "cell_type": "code",
      "source": [
        "for ID in IDs: \n",
        "  IntervalSizeString.append(df_inter_TextGrid[ID][11])"
      ],
      "metadata": {
        "id": "UbQEMhwTlnb3"
      },
      "execution_count": 42,
      "outputs": []
    },
    {
      "cell_type": "code",
      "source": [
        "IntervalSize = []\n",
        "for i in range(0,len(IntervalSizeString)):\n",
        "  for z in IntervalSizeString[i].split():\n",
        "    if z.isdigit():\n",
        "        IntervalSize.append(int(z))"
      ],
      "metadata": {
        "id": "Vit68lOSlnW6"
      },
      "execution_count": 43,
      "outputs": []
    },
    {
      "cell_type": "code",
      "source": [
        "maxLength = max(IntervalSize)\n",
        "lastRow = len(df_inter_TextGrid)\n",
        "n = -1"
      ],
      "metadata": {
        "id": "1LJKKN60rnWX"
      },
      "execution_count": 44,
      "outputs": []
    },
    {
      "cell_type": "code",
      "source": [
        "for ID in IDs:  \n",
        "  n = n + 1\n",
        "  endRow = IntervalSize[n] * 4 + 12\n",
        "  df_inter_TextGrid[ID][endRow:lastRow] = np.NaN"
      ],
      "metadata": {
        "id": "iwCpOxnQrnTq"
      },
      "execution_count": 45,
      "outputs": []
    },
    {
      "cell_type": "code",
      "source": [
        "for c in range(0,12):\n",
        "  df_inter_TextGrid.drop([c], inplace = True)"
      ],
      "metadata": {
        "id": "jUs6g8rTrnQa"
      },
      "execution_count": 46,
      "outputs": []
    },
    {
      "cell_type": "code",
      "source": [
        "for ID in IDs:\n",
        "  df_inter_TextGrid_wide = df_inter_TextGrid_wide.append(df_inter_TextGrid[ID].str.split(\" = \", expand = True, n = 1), ignore_index=True) "
      ],
      "metadata": {
        "id": "rv0j_S4QrnM9"
      },
      "execution_count": 47,
      "outputs": []
    },
    {
      "cell_type": "code",
      "source": [
        "df_inter_TextGrid_wide = df_inter_TextGrid_wide[df_inter_TextGrid_wide[0].str.contains(\"xmin|xmax\") == True]"
      ],
      "metadata": {
        "id": "ta3-iYokrnJh"
      },
      "execution_count": 48,
      "outputs": []
    },
    {
      "cell_type": "code",
      "source": [
        "onsets = df_inter_TextGrid_wide[df_inter_TextGrid_wide[0].str.contains(\"xmin\") == True]\n",
        "offsets = df_inter_TextGrid_wide[df_inter_TextGrid_wide[0].str.contains(\"xmax\") == True]"
      ],
      "metadata": {
        "id": "4Q7IBDxTrnGZ"
      },
      "execution_count": 49,
      "outputs": []
    },
    {
      "cell_type": "code",
      "source": [
        "onsets.index = range(len(onsets.index))\n",
        "offsets.index = range(len(offsets.index))"
      ],
      "metadata": {
        "id": "CX2PpomnrnCR"
      },
      "execution_count": 50,
      "outputs": []
    },
    {
      "cell_type": "code",
      "source": [
        "duration = []"
      ],
      "metadata": {
        "id": "jd1hsGhBrm8y"
      },
      "execution_count": 51,
      "outputs": []
    },
    {
      "cell_type": "code",
      "source": [
        "for i in range (0,(len(offsets))):\n",
        "  duration.append(float(offsets[1][i]) - float(onsets[1][i]))"
      ],
      "metadata": {
        "id": "EhkcM8yLrm5p"
      },
      "execution_count": 52,
      "outputs": []
    },
    {
      "cell_type": "code",
      "source": [
        "duration = pd.DataFrame(duration)"
      ],
      "metadata": {
        "id": "ayaJOG8mrm1n"
      },
      "execution_count": 53,
      "outputs": []
    },
    {
      "cell_type": "code",
      "source": [
        "inter_TextGrid_duration = pd.concat([onsets, offsets, duration], axis=1)"
      ],
      "metadata": {
        "id": "YndkHc1_rmuf"
      },
      "execution_count": 54,
      "outputs": []
    },
    {
      "cell_type": "code",
      "source": [
        "inter_TextGrid_duration.columns = ['min', 'Onset', 'max','Offset','Duration']"
      ],
      "metadata": {
        "id": "p48lwiItsA7Z"
      },
      "execution_count": 55,
      "outputs": []
    },
    {
      "cell_type": "code",
      "source": [
        "inter_TextGrid_duration.drop(['min', 'max'], axis=1, inplace = True)"
      ],
      "metadata": {
        "id": "khLbkmqDsA4g"
      },
      "execution_count": 56,
      "outputs": []
    },
    {
      "cell_type": "code",
      "source": [
        "ID_col = pd.DataFrame(columns=range(1))"
      ],
      "metadata": {
        "id": "6d62lBJZsA1Q"
      },
      "execution_count": 57,
      "outputs": []
    },
    {
      "cell_type": "code",
      "source": [
        "n = -1"
      ],
      "metadata": {
        "id": "NrSBPqdasAys"
      },
      "execution_count": 58,
      "outputs": []
    },
    {
      "cell_type": "code",
      "source": [
        "for ID in IDs:\n",
        "  n = n + 1\n",
        "  ID_col = ID_col.append([ID]*IntervalSize[n])"
      ],
      "metadata": {
        "id": "ZqoFz_OjsAvo"
      },
      "execution_count": 59,
      "outputs": []
    },
    {
      "cell_type": "code",
      "source": [
        "ID_col.index = range(len(ID_col.index))"
      ],
      "metadata": {
        "id": "6c1ad54lsAry"
      },
      "execution_count": 60,
      "outputs": []
    },
    {
      "cell_type": "code",
      "source": [
        "inter_TextGrid_duration = pd.concat([ID_col, inter_TextGrid_duration], axis=1)"
      ],
      "metadata": {
        "id": "7xUfi-insO9o"
      },
      "execution_count": 61,
      "outputs": []
    },
    {
      "cell_type": "code",
      "source": [
        "inter_TextGrid_duration.columns = ['ID', 'Onset', 'Offset','Duration']"
      ],
      "metadata": {
        "id": "TI4b_g1bsO6J"
      },
      "execution_count": 62,
      "outputs": []
    },
    {
      "cell_type": "code",
      "source": [
        "inter_TextGrid_duration"
      ],
      "metadata": {
        "colab": {
          "base_uri": "https://localhost:8080/",
          "height": 423
        },
        "id": "ojCHgNI1sO1k",
        "outputId": "2c074ec4-26d0-4652-844d-2446f896ea94"
      },
      "execution_count": 63,
      "outputs": [
        {
          "output_type": "execute_result",
          "data": {
            "text/plain": [
              "           ID       Onset      Offset  Duration\n",
              "0        24fa    0.000000    0.027000     0.027\n",
              "1        24fa    0.027000    0.127000     0.100\n",
              "2        24fa    0.127000    0.187000     0.060\n",
              "3        24fa    0.187000    0.277000     0.090\n",
              "4        24fa    0.277000    0.327000     0.050\n",
              "...       ...         ...         ...       ...\n",
              "76292  C13_RG  163.144000  163.214000     0.070\n",
              "76293  C13_RG  163.214000  163.284000     0.070\n",
              "76294  C13_RG  163.284000  163.584000     0.300\n",
              "76295  C13_RG  163.584000  163.684000     0.100\n",
              "76296  C13_RG  163.684000  163.695000     0.011\n",
              "\n",
              "[76297 rows x 4 columns]"
            ],
            "text/html": [
              "\n",
              "  <div id=\"df-bd5239a2-962e-4519-ab54-79dc5ac93256\">\n",
              "    <div class=\"colab-df-container\">\n",
              "      <div>\n",
              "<style scoped>\n",
              "    .dataframe tbody tr th:only-of-type {\n",
              "        vertical-align: middle;\n",
              "    }\n",
              "\n",
              "    .dataframe tbody tr th {\n",
              "        vertical-align: top;\n",
              "    }\n",
              "\n",
              "    .dataframe thead th {\n",
              "        text-align: right;\n",
              "    }\n",
              "</style>\n",
              "<table border=\"1\" class=\"dataframe\">\n",
              "  <thead>\n",
              "    <tr style=\"text-align: right;\">\n",
              "      <th></th>\n",
              "      <th>ID</th>\n",
              "      <th>Onset</th>\n",
              "      <th>Offset</th>\n",
              "      <th>Duration</th>\n",
              "    </tr>\n",
              "  </thead>\n",
              "  <tbody>\n",
              "    <tr>\n",
              "      <th>0</th>\n",
              "      <td>24fa</td>\n",
              "      <td>0.000000</td>\n",
              "      <td>0.027000</td>\n",
              "      <td>0.027</td>\n",
              "    </tr>\n",
              "    <tr>\n",
              "      <th>1</th>\n",
              "      <td>24fa</td>\n",
              "      <td>0.027000</td>\n",
              "      <td>0.127000</td>\n",
              "      <td>0.100</td>\n",
              "    </tr>\n",
              "    <tr>\n",
              "      <th>2</th>\n",
              "      <td>24fa</td>\n",
              "      <td>0.127000</td>\n",
              "      <td>0.187000</td>\n",
              "      <td>0.060</td>\n",
              "    </tr>\n",
              "    <tr>\n",
              "      <th>3</th>\n",
              "      <td>24fa</td>\n",
              "      <td>0.187000</td>\n",
              "      <td>0.277000</td>\n",
              "      <td>0.090</td>\n",
              "    </tr>\n",
              "    <tr>\n",
              "      <th>4</th>\n",
              "      <td>24fa</td>\n",
              "      <td>0.277000</td>\n",
              "      <td>0.327000</td>\n",
              "      <td>0.050</td>\n",
              "    </tr>\n",
              "    <tr>\n",
              "      <th>...</th>\n",
              "      <td>...</td>\n",
              "      <td>...</td>\n",
              "      <td>...</td>\n",
              "      <td>...</td>\n",
              "    </tr>\n",
              "    <tr>\n",
              "      <th>76292</th>\n",
              "      <td>C13_RG</td>\n",
              "      <td>163.144000</td>\n",
              "      <td>163.214000</td>\n",
              "      <td>0.070</td>\n",
              "    </tr>\n",
              "    <tr>\n",
              "      <th>76293</th>\n",
              "      <td>C13_RG</td>\n",
              "      <td>163.214000</td>\n",
              "      <td>163.284000</td>\n",
              "      <td>0.070</td>\n",
              "    </tr>\n",
              "    <tr>\n",
              "      <th>76294</th>\n",
              "      <td>C13_RG</td>\n",
              "      <td>163.284000</td>\n",
              "      <td>163.584000</td>\n",
              "      <td>0.300</td>\n",
              "    </tr>\n",
              "    <tr>\n",
              "      <th>76295</th>\n",
              "      <td>C13_RG</td>\n",
              "      <td>163.584000</td>\n",
              "      <td>163.684000</td>\n",
              "      <td>0.100</td>\n",
              "    </tr>\n",
              "    <tr>\n",
              "      <th>76296</th>\n",
              "      <td>C13_RG</td>\n",
              "      <td>163.684000</td>\n",
              "      <td>163.695000</td>\n",
              "      <td>0.011</td>\n",
              "    </tr>\n",
              "  </tbody>\n",
              "</table>\n",
              "<p>76297 rows × 4 columns</p>\n",
              "</div>\n",
              "      <button class=\"colab-df-convert\" onclick=\"convertToInteractive('df-bd5239a2-962e-4519-ab54-79dc5ac93256')\"\n",
              "              title=\"Convert this dataframe to an interactive table.\"\n",
              "              style=\"display:none;\">\n",
              "        \n",
              "  <svg xmlns=\"http://www.w3.org/2000/svg\" height=\"24px\"viewBox=\"0 0 24 24\"\n",
              "       width=\"24px\">\n",
              "    <path d=\"M0 0h24v24H0V0z\" fill=\"none\"/>\n",
              "    <path d=\"M18.56 5.44l.94 2.06.94-2.06 2.06-.94-2.06-.94-.94-2.06-.94 2.06-2.06.94zm-11 1L8.5 8.5l.94-2.06 2.06-.94-2.06-.94L8.5 2.5l-.94 2.06-2.06.94zm10 10l.94 2.06.94-2.06 2.06-.94-2.06-.94-.94-2.06-.94 2.06-2.06.94z\"/><path d=\"M17.41 7.96l-1.37-1.37c-.4-.4-.92-.59-1.43-.59-.52 0-1.04.2-1.43.59L10.3 9.45l-7.72 7.72c-.78.78-.78 2.05 0 2.83L4 21.41c.39.39.9.59 1.41.59.51 0 1.02-.2 1.41-.59l7.78-7.78 2.81-2.81c.8-.78.8-2.07 0-2.86zM5.41 20L4 18.59l7.72-7.72 1.47 1.35L5.41 20z\"/>\n",
              "  </svg>\n",
              "      </button>\n",
              "      \n",
              "  <style>\n",
              "    .colab-df-container {\n",
              "      display:flex;\n",
              "      flex-wrap:wrap;\n",
              "      gap: 12px;\n",
              "    }\n",
              "\n",
              "    .colab-df-convert {\n",
              "      background-color: #E8F0FE;\n",
              "      border: none;\n",
              "      border-radius: 50%;\n",
              "      cursor: pointer;\n",
              "      display: none;\n",
              "      fill: #1967D2;\n",
              "      height: 32px;\n",
              "      padding: 0 0 0 0;\n",
              "      width: 32px;\n",
              "    }\n",
              "\n",
              "    .colab-df-convert:hover {\n",
              "      background-color: #E2EBFA;\n",
              "      box-shadow: 0px 1px 2px rgba(60, 64, 67, 0.3), 0px 1px 3px 1px rgba(60, 64, 67, 0.15);\n",
              "      fill: #174EA6;\n",
              "    }\n",
              "\n",
              "    [theme=dark] .colab-df-convert {\n",
              "      background-color: #3B4455;\n",
              "      fill: #D2E3FC;\n",
              "    }\n",
              "\n",
              "    [theme=dark] .colab-df-convert:hover {\n",
              "      background-color: #434B5C;\n",
              "      box-shadow: 0px 1px 3px 1px rgba(0, 0, 0, 0.15);\n",
              "      filter: drop-shadow(0px 1px 2px rgba(0, 0, 0, 0.3));\n",
              "      fill: #FFFFFF;\n",
              "    }\n",
              "  </style>\n",
              "\n",
              "      <script>\n",
              "        const buttonEl =\n",
              "          document.querySelector('#df-bd5239a2-962e-4519-ab54-79dc5ac93256 button.colab-df-convert');\n",
              "        buttonEl.style.display =\n",
              "          google.colab.kernel.accessAllowed ? 'block' : 'none';\n",
              "\n",
              "        async function convertToInteractive(key) {\n",
              "          const element = document.querySelector('#df-bd5239a2-962e-4519-ab54-79dc5ac93256');\n",
              "          const dataTable =\n",
              "            await google.colab.kernel.invokeFunction('convertToInteractive',\n",
              "                                                     [key], {});\n",
              "          if (!dataTable) return;\n",
              "\n",
              "          const docLinkHtml = 'Like what you see? Visit the ' +\n",
              "            '<a target=\"_blank\" href=https://colab.research.google.com/notebooks/data_table.ipynb>data table notebook</a>'\n",
              "            + ' to learn more about interactive tables.';\n",
              "          element.innerHTML = '';\n",
              "          dataTable['output_type'] = 'display_data';\n",
              "          await google.colab.output.renderOutput(dataTable, element);\n",
              "          const docLink = document.createElement('div');\n",
              "          docLink.innerHTML = docLinkHtml;\n",
              "          element.appendChild(docLink);\n",
              "        }\n",
              "      </script>\n",
              "    </div>\n",
              "  </div>\n",
              "  "
            ]
          },
          "metadata": {},
          "execution_count": 63
        }
      ]
    },
    {
      "cell_type": "markdown",
      "source": [
        "**4. Save Combined Data Files**"
      ],
      "metadata": {
        "id": "QXwBIFLStSwR"
      }
    },
    {
      "cell_type": "code",
      "source": [
        "dir = \"1.CombinedInputFiles\"\n",
        "\n",
        "if os.path.exists(dir) == False:\n",
        "  os.mkdir(dir)"
      ],
      "metadata": {
        "id": "3UFs8h8BtVAb"
      },
      "execution_count": 64,
      "outputs": []
    },
    {
      "cell_type": "code",
      "source": [
        "%cd /content/gdrive/MyDrive/RhythmAnalysisPipeline/1.CombinedInputFiles/"
      ],
      "metadata": {
        "colab": {
          "base_uri": "https://localhost:8080/"
        },
        "id": "1YH5idVEul2a",
        "outputId": "bb6cf95c-819f-4c18-c2c2-8eb1d6c975d2"
      },
      "execution_count": 65,
      "outputs": [
        {
          "output_type": "stream",
          "name": "stdout",
          "text": [
            "/content/gdrive/MyDrive/RhythmAnalysisPipeline/1.CombinedInputFiles\n"
          ]
        }
      ]
    },
    {
      "cell_type": "code",
      "source": [
        "df_read_txt_wide.to_excel(\"read_txt_comb.xlsx\")\n",
        "df_inter_txt_wide.to_excel(\"interview_txt_comb.xlsx\")\n",
        "read_TextGrid_duration.to_excel(\"read_TextGrid_comb.xlsx\")\n",
        "inter_TextGrid_duration.to_excel(\"interview_TextGrid_comb.xlsx\")"
      ],
      "metadata": {
        "id": "fMCqf2Fkt8rJ"
      },
      "execution_count": 66,
      "outputs": []
    }
  ]
}