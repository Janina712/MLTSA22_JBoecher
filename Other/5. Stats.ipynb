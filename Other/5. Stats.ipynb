{
  "nbformat": 4,
  "nbformat_minor": 0,
  "metadata": {
    "colab": {
      "name": "5. Stats.ipynb",
      "provenance": [],
      "collapsed_sections": [],
      "authorship_tag": "ABX9TyOjZscEpwSeglvHBoJnNqmR",
      "include_colab_link": true
    },
    "kernelspec": {
      "name": "python3",
      "display_name": "Python 3"
    },
    "language_info": {
      "name": "python"
    }
  },
  "cells": [
    {
      "cell_type": "markdown",
      "metadata": {
        "id": "view-in-github",
        "colab_type": "text"
      },
      "source": [
        "<a href=\"https://colab.research.google.com/github/Janina712/MLTSA22_JBoecher/blob/main/Other/5.%20Stats.ipynb\" target=\"_parent\"><img src=\"https://colab.research.google.com/assets/colab-badge.svg\" alt=\"Open In Colab\"/></a>"
      ]
    },
    {
      "cell_type": "markdown",
      "source": [
        "**Imports & Set-Up**"
      ],
      "metadata": {
        "id": "wkyrtDqAD1Rm"
      }
    },
    {
      "cell_type": "code",
      "execution_count": 11,
      "metadata": {
        "id": "3qSSZJdQuKKk"
      },
      "outputs": [],
      "source": [
        "import pandas as pd\n",
        "import numpy as np\n",
        "import os\n",
        "from scipy import stats\n",
        "import plotly.graph_objects as go\n",
        "import warnings\n",
        "warnings.filterwarnings('ignore')"
      ]
    },
    {
      "cell_type": "code",
      "source": [
        "from google.colab import drive\n",
        "drive.mount(\"/content/gdrive\")"
      ],
      "metadata": {
        "colab": {
          "base_uri": "https://localhost:8080/"
        },
        "id": "JmQ1nFCwuXNp",
        "outputId": "8d4a474f-0b1e-43aa-cb3e-7811e31ce2cc"
      },
      "execution_count": 2,
      "outputs": [
        {
          "output_type": "stream",
          "name": "stdout",
          "text": [
            "Mounted at /content/gdrive\n"
          ]
        }
      ]
    },
    {
      "cell_type": "code",
      "source": [
        "%cd /content/gdrive/MyDrive/RhythmAnalysisPipeline/4.MetricsResults/"
      ],
      "metadata": {
        "colab": {
          "base_uri": "https://localhost:8080/"
        },
        "id": "M15UbF0TuX5o",
        "outputId": "fa39a636-9697-495c-bf3a-280d632fe3f5"
      },
      "execution_count": 3,
      "outputs": [
        {
          "output_type": "stream",
          "name": "stdout",
          "text": [
            "/content/gdrive/MyDrive/RhythmAnalysisPipeline/4.MetricsResults\n"
          ]
        }
      ]
    },
    {
      "cell_type": "code",
      "source": [
        "reading_pws = pd.read_excel(\"reading_pws.xlsx\")\n",
        "reading_pws.drop(['Unnamed: 0'], axis=1 , inplace = True)\n",
        "interview_pws = pd.read_excel(\"interview_pws.xlsx\")\n",
        "interview_pws.drop(['Unnamed: 0'], axis=1 , inplace = True)\n",
        "reading_control = pd.read_excel(\"reading_control.xlsx\")\n",
        "reading_control.drop(['Unnamed: 0'], axis=1 , inplace = True)\n",
        "interview_control = pd.read_excel(\"interview_control.xlsx\")\n",
        "interview_control.drop(['Unnamed: 0'], axis=1 , inplace = True)"
      ],
      "metadata": {
        "id": "kED6w1vuuoxA"
      },
      "execution_count": 124,
      "outputs": []
    },
    {
      "cell_type": "markdown",
      "source": [
        "# **Reading**"
      ],
      "metadata": {
        "id": "iLqikrSuASm1"
      }
    },
    {
      "cell_type": "code",
      "source": [
        "# t-tests\n",
        "[tstats_nPVI_r, pvalue_nPVI_r] = stats.ttest_ind(reading_pws[\"nPVI\"], reading_control[\"nPVI\"], equal_var=False)\n",
        "[tstats_rPVI_r, pvalue_rPVI_r] = stats.ttest_ind(reading_pws[\"rPVI\"], reading_control[\"rPVI\"], equal_var=False)\n",
        "[tstats_PercV_r, pvalue_PercV_r] = stats.ttest_ind(reading_pws[\"%V\"], reading_control[\"%V\"], equal_var=False)\n",
        "[tstats_DeltaC_r, pvalue_DeltaC_r] = stats.ttest_ind(reading_pws[\"DeltaC\"], reading_control[\"DeltaC\"], equal_var=False)\n",
        "[tstats_DeltaV_r, pvalue_DeltaV_r] = stats.ttest_ind(reading_pws[\"DeltaV\"], reading_control[\"DeltaV\"], equal_var=False)\n",
        "[tstats_VarcoC_r, pvalue_VarcoC_r] = stats.ttest_ind(reading_pws[\"VarcoC\"], reading_control[\"VarcoC\"], equal_var=False)\n",
        "[tstats_VarcoV_r, pvalue_VarcoV_r] = stats.ttest_ind(reading_pws[\"VarcoV\"], reading_control[\"VarcoV\"], equal_var=False)"
      ],
      "metadata": {
        "id": "l6gAQzF4whXx"
      },
      "execution_count": 89,
      "outputs": []
    },
    {
      "cell_type": "code",
      "source": [
        "# degrees of freedom\n",
        "dof = (len(reading_pws)+len(reading_control)-2)\n",
        "df_reading = (len(interview_pws)+len(interview_control))"
      ],
      "metadata": {
        "id": "uytSwgm_z7fK"
      },
      "execution_count": 110,
      "outputs": []
    },
    {
      "cell_type": "code",
      "source": [
        "# effect size\n",
        "cohens_d_nPVI_r = abs(reading_pws.mean()[0]-reading_control.mean()[0])/(((np.sqrt((len(reading_pws)-1) * reading_pws.std()[0])**2) + (np.sqrt((len(reading_control)-1) * reading_control.std()[0])**2))/dof)\n",
        "cohens_d_rPVI_r = abs(reading_pws.mean()[1]-reading_control.mean()[1])/(((np.sqrt((len(reading_pws)-1) * reading_pws.std()[1])**2) + (np.sqrt((len(reading_control)-1) * reading_control.std()[1])**2))/dof)\n",
        "cohens_d_PercV_r = abs(reading_pws.mean()[2]-reading_control.mean()[2])/(((np.sqrt((len(reading_pws)-1) * reading_pws.std()[2])**2) + (np.sqrt((len(reading_control)-1) * reading_control.std()[2])**2))/dof)\n",
        "cohens_d_DeltaC_r = abs(reading_pws.mean()[3]-reading_control.mean()[3])/(((np.sqrt((len(reading_pws)-1) * reading_pws.std()[3])**2) + (np.sqrt((len(reading_control)-1) * reading_control.std()[3])**2))/dof)\n",
        "cohens_d_DeltaV_r = abs(reading_pws.mean()[4]-reading_control.mean()[4])/(((np.sqrt((len(reading_pws)-1) * reading_pws.std()[4])**2) + (np.sqrt((len(reading_control)-1) * reading_control.std()[4])**2))/dof)\n",
        "cohens_d_VarcoC_r = abs(reading_pws.mean()[5]-reading_control.mean()[5])/(((np.sqrt((len(reading_pws)-1) * reading_pws.std()[5])**2) + (np.sqrt((len(reading_control)-1) * reading_control.std()[5])**2))/dof)\n",
        "cohens_d_VarcoV_r = abs(reading_pws.mean()[6]-reading_control.mean()[6])/(((np.sqrt((len(reading_pws)-1) * reading_pws.std()[6])**2) + (np.sqrt((len(reading_control)-1) * reading_control.std()[6])**2))/dof)"
      ],
      "metadata": {
        "id": "2Hwkb8cSzHTg"
      },
      "execution_count": 111,
      "outputs": []
    },
    {
      "cell_type": "code",
      "source": [
        "means = [reading_pws.mean()[0], reading_control.mean()[0], reading_pws.mean()[1],reading_control.mean()[1],reading_pws.mean()[2], reading_control.mean()[2], reading_pws.mean()[3],reading_control.mean()[3], reading_pws.mean()[4],reading_control.mean()[4], reading_pws.mean()[5], reading_control.mean()[5],reading_pws.mean()[6], reading_control.mean()[6]]\n",
        "sds = [reading_pws.std()[0], reading_control.std()[0], reading_pws.std()[1],reading_control.std()[1],reading_pws.std()[2], reading_control.std()[2], reading_pws.std()[3],reading_control.std()[3], reading_pws.std()[4],reading_control.std()[4], reading_pws.std()[5], reading_control.std()[5],reading_pws.std()[6], reading_control.std()[6]]"
      ],
      "metadata": {
        "id": "dXbRbpov2K1B"
      },
      "execution_count": 112,
      "outputs": []
    },
    {
      "cell_type": "code",
      "source": [
        "p_vals = [pvalue_nPVI_r, pvalue_rPVI_r, pvalue_PercV_r, pvalue_DeltaC_r, pvalue_DeltaV_r, pvalue_VarcoC_r, pvalue_VarcoV_r]\n",
        "for p in range(0, len(p_vals)):\n",
        "  if p_vals[p] < 0.05:\n",
        "    p_vals[p] = '*' + str(round(p_vals[p],4))\n",
        "  else:\n",
        "    p_vals[p] = str(round(p_vals[p],4))"
      ],
      "metadata": {
        "id": "aDVsDpyl5HpD"
      },
      "execution_count": 113,
      "outputs": []
    },
    {
      "cell_type": "code",
      "source": [
        "fig = go.Figure(data=[go.Table(\n",
        "    header=dict(values=['Rhythm Metrics', 'Group', 'Mean','SD', 'df (T-Value)', 'p-Value', 'Effect Size'],\n",
        "                line_color='black',\n",
        "                fill_color='lightgray',\n",
        "                align='left'),\n",
        "    cells=dict(values=[[\"nPVI\",\"\", \"rPVI\", \"\",\"%V\", \"\",\"DeltaC\", \"\",\"DeltaV\",\"\", \"VarcoC\",\"\", \"VarcoV\",\"\"], # 1st column\n",
        "                       [\"Stuttering\", \"Non-Stuttering\", \"Stuttering\", \"Non-Stuttering\", \"Stuttering\", \"Non-Stuttering\", \"Stuttering\", \"Non-Stuttering\", \"Stuttering\", \"Non-Stuttering\", \"Stuttering\", \"Non-Stuttering\", \"Stuttering\", \"Non-Stuttering\"],\n",
        "                      [round(means[0],2),round(means[1],2),round(means[2],2),round(means[3],2),round(means[4],2),round(means[5],2),round(means[6],3),round(means[7],3),round(means[8],3),round(means[9],3),round(means[10],2),round(means[11],2),round(means[12],2),round(means[13],2) ],\n",
        "                       [round(sds[0],2),round(sds[1],2),round(sds[2],2),round(sds[3],2),round(sds[4],2),round(sds[5],2),round(sds[6],3),round(sds[7],3),round(sds[8],3),round(sds[9],3),round(sds[10],2),round(sds[11],2),round(sds[12],2),round(sds[13],2) ],\n",
        "                       [[df_reading, round(tstats_nPVI_r,4)],\"\", [df_reading, round(tstats_rPVI_r,4)], \"\",[df_reading, round(tstats_PercV_r,4)],\"\", [df_reading, round(tstats_DeltaC_r,4)],\"\", [df_reading, round(tstats_DeltaV_r,4)],\"\", [df_reading, round(tstats_VarcoV_r,4)],\"\", [df_reading, round(tstats_VarcoV_r,4)], \"\"], \n",
        "                       [p_vals[0],\"\", p_vals[1], \"\",p_vals[2],\"\", p_vals[3],\"\", p_vals[4],\"\", p_vals[5],\"\", p_vals[6], \"\"], \n",
        "                       [round(cohens_d_nPVI_r,4),\"\", round(cohens_d_rPVI_r,4), \"\",round(cohens_d_PercV_r,4),\"\", round(cohens_d_DeltaC_r,4),\"\", round(cohens_d_DeltaV_r,4),\"\", round(cohens_d_VarcoV_r,4),\"\", round(cohens_d_VarcoV_r,4), \"\"]], # 2nd column\n",
        "               line_color='darkslategray',\n",
        "               fill_color='white',\n",
        "               align='left'))\n",
        "])"
      ],
      "metadata": {
        "id": "oSuIq0eQ24pJ"
      },
      "execution_count": 114,
      "outputs": []
    },
    {
      "cell_type": "code",
      "source": [
        "fig.show()"
      ],
      "metadata": {
        "colab": {
          "base_uri": "https://localhost:8080/",
          "height": 542
        },
        "id": "5PIns5q74SPs",
        "outputId": "dfe0803a-1fa4-4a8a-83bd-725b3714f7c6"
      },
      "execution_count": 115,
      "outputs": [
        {
          "output_type": "display_data",
          "data": {
            "text/html": [
              "<html>\n",
              "<head><meta charset=\"utf-8\" /></head>\n",
              "<body>\n",
              "    <div>            <script src=\"https://cdnjs.cloudflare.com/ajax/libs/mathjax/2.7.5/MathJax.js?config=TeX-AMS-MML_SVG\"></script><script type=\"text/javascript\">if (window.MathJax) {MathJax.Hub.Config({SVG: {font: \"STIX-Web\"}});}</script>                <script type=\"text/javascript\">window.PlotlyConfig = {MathJaxConfig: 'local'};</script>\n",
              "        <script src=\"https://cdn.plot.ly/plotly-2.8.3.min.js\"></script>                <div id=\"7e729704-7d74-42f5-b63d-ee8de5e7a049\" class=\"plotly-graph-div\" style=\"height:525px; width:100%;\"></div>            <script type=\"text/javascript\">                                    window.PLOTLYENV=window.PLOTLYENV || {};                                    if (document.getElementById(\"7e729704-7d74-42f5-b63d-ee8de5e7a049\")) {                    Plotly.newPlot(                        \"7e729704-7d74-42f5-b63d-ee8de5e7a049\",                        [{\"cells\":{\"align\":\"left\",\"fill\":{\"color\":\"white\"},\"line\":{\"color\":\"darkslategray\"},\"values\":[[\"nPVI\",\"\",\"rPVI\",\"\",\"%V\",\"\",\"DeltaC\",\"\",\"DeltaV\",\"\",\"VarcoC\",\"\",\"VarcoV\",\"\"],[\"Stuttering\",\"Non-Stuttering\",\"Stuttering\",\"Non-Stuttering\",\"Stuttering\",\"Non-Stuttering\",\"Stuttering\",\"Non-Stuttering\",\"Stuttering\",\"Non-Stuttering\",\"Stuttering\",\"Non-Stuttering\",\"Stuttering\",\"Non-Stuttering\"],[66.74,63.85,0.05,0.05,41.97,33.57,0.043,0.036,0.051,0.04,57.8,49.4,57.75,52.82],[4.49,7.75,0.01,0.01,3.09,6.7,0.007,0.007,0.011,0.012,6.11,5.44,4.88,7.03],[[30,1.1689],\"\",[30,1.749],\"\",[30,4.0633],\"\",[30,3.043],\"\",[30,2.5612],\"\",[30,2.1168],\"\",[30,2.1168],\"\"],[\"0.2596\",\"\",\"0.0925\",\"\",\"*0.0011\",\"\",\"*0.0057\",\"\",\"*0.0175\",\"\",\"*0.0006\",\"\",\"*0.0485\",\"\"],[0.5014,\"\",0.6408,\"\",1.8625,\"\",1.1385,\"\",0.9652,\"\",0.8626,\"\",0.8626,\"\"]]},\"header\":{\"align\":\"left\",\"fill\":{\"color\":\"lightgray\"},\"line\":{\"color\":\"black\"},\"values\":[\"Rhythm Metrics\",\"Group\",\"Mean\",\"SD\",\"df (T-Value)\",\"p-Value\",\"Effect Size\"]},\"type\":\"table\"}],                        {\"template\":{\"data\":{\"bar\":[{\"error_x\":{\"color\":\"#2a3f5f\"},\"error_y\":{\"color\":\"#2a3f5f\"},\"marker\":{\"line\":{\"color\":\"#E5ECF6\",\"width\":0.5},\"pattern\":{\"fillmode\":\"overlay\",\"size\":10,\"solidity\":0.2}},\"type\":\"bar\"}],\"barpolar\":[{\"marker\":{\"line\":{\"color\":\"#E5ECF6\",\"width\":0.5},\"pattern\":{\"fillmode\":\"overlay\",\"size\":10,\"solidity\":0.2}},\"type\":\"barpolar\"}],\"carpet\":[{\"aaxis\":{\"endlinecolor\":\"#2a3f5f\",\"gridcolor\":\"white\",\"linecolor\":\"white\",\"minorgridcolor\":\"white\",\"startlinecolor\":\"#2a3f5f\"},\"baxis\":{\"endlinecolor\":\"#2a3f5f\",\"gridcolor\":\"white\",\"linecolor\":\"white\",\"minorgridcolor\":\"white\",\"startlinecolor\":\"#2a3f5f\"},\"type\":\"carpet\"}],\"choropleth\":[{\"colorbar\":{\"outlinewidth\":0,\"ticks\":\"\"},\"type\":\"choropleth\"}],\"contour\":[{\"colorbar\":{\"outlinewidth\":0,\"ticks\":\"\"},\"colorscale\":[[0.0,\"#0d0887\"],[0.1111111111111111,\"#46039f\"],[0.2222222222222222,\"#7201a8\"],[0.3333333333333333,\"#9c179e\"],[0.4444444444444444,\"#bd3786\"],[0.5555555555555556,\"#d8576b\"],[0.6666666666666666,\"#ed7953\"],[0.7777777777777778,\"#fb9f3a\"],[0.8888888888888888,\"#fdca26\"],[1.0,\"#f0f921\"]],\"type\":\"contour\"}],\"contourcarpet\":[{\"colorbar\":{\"outlinewidth\":0,\"ticks\":\"\"},\"type\":\"contourcarpet\"}],\"heatmap\":[{\"colorbar\":{\"outlinewidth\":0,\"ticks\":\"\"},\"colorscale\":[[0.0,\"#0d0887\"],[0.1111111111111111,\"#46039f\"],[0.2222222222222222,\"#7201a8\"],[0.3333333333333333,\"#9c179e\"],[0.4444444444444444,\"#bd3786\"],[0.5555555555555556,\"#d8576b\"],[0.6666666666666666,\"#ed7953\"],[0.7777777777777778,\"#fb9f3a\"],[0.8888888888888888,\"#fdca26\"],[1.0,\"#f0f921\"]],\"type\":\"heatmap\"}],\"heatmapgl\":[{\"colorbar\":{\"outlinewidth\":0,\"ticks\":\"\"},\"colorscale\":[[0.0,\"#0d0887\"],[0.1111111111111111,\"#46039f\"],[0.2222222222222222,\"#7201a8\"],[0.3333333333333333,\"#9c179e\"],[0.4444444444444444,\"#bd3786\"],[0.5555555555555556,\"#d8576b\"],[0.6666666666666666,\"#ed7953\"],[0.7777777777777778,\"#fb9f3a\"],[0.8888888888888888,\"#fdca26\"],[1.0,\"#f0f921\"]],\"type\":\"heatmapgl\"}],\"histogram\":[{\"marker\":{\"pattern\":{\"fillmode\":\"overlay\",\"size\":10,\"solidity\":0.2}},\"type\":\"histogram\"}],\"histogram2d\":[{\"colorbar\":{\"outlinewidth\":0,\"ticks\":\"\"},\"colorscale\":[[0.0,\"#0d0887\"],[0.1111111111111111,\"#46039f\"],[0.2222222222222222,\"#7201a8\"],[0.3333333333333333,\"#9c179e\"],[0.4444444444444444,\"#bd3786\"],[0.5555555555555556,\"#d8576b\"],[0.6666666666666666,\"#ed7953\"],[0.7777777777777778,\"#fb9f3a\"],[0.8888888888888888,\"#fdca26\"],[1.0,\"#f0f921\"]],\"type\":\"histogram2d\"}],\"histogram2dcontour\":[{\"colorbar\":{\"outlinewidth\":0,\"ticks\":\"\"},\"colorscale\":[[0.0,\"#0d0887\"],[0.1111111111111111,\"#46039f\"],[0.2222222222222222,\"#7201a8\"],[0.3333333333333333,\"#9c179e\"],[0.4444444444444444,\"#bd3786\"],[0.5555555555555556,\"#d8576b\"],[0.6666666666666666,\"#ed7953\"],[0.7777777777777778,\"#fb9f3a\"],[0.8888888888888888,\"#fdca26\"],[1.0,\"#f0f921\"]],\"type\":\"histogram2dcontour\"}],\"mesh3d\":[{\"colorbar\":{\"outlinewidth\":0,\"ticks\":\"\"},\"type\":\"mesh3d\"}],\"parcoords\":[{\"line\":{\"colorbar\":{\"outlinewidth\":0,\"ticks\":\"\"}},\"type\":\"parcoords\"}],\"pie\":[{\"automargin\":true,\"type\":\"pie\"}],\"scatter\":[{\"marker\":{\"colorbar\":{\"outlinewidth\":0,\"ticks\":\"\"}},\"type\":\"scatter\"}],\"scatter3d\":[{\"line\":{\"colorbar\":{\"outlinewidth\":0,\"ticks\":\"\"}},\"marker\":{\"colorbar\":{\"outlinewidth\":0,\"ticks\":\"\"}},\"type\":\"scatter3d\"}],\"scattercarpet\":[{\"marker\":{\"colorbar\":{\"outlinewidth\":0,\"ticks\":\"\"}},\"type\":\"scattercarpet\"}],\"scattergeo\":[{\"marker\":{\"colorbar\":{\"outlinewidth\":0,\"ticks\":\"\"}},\"type\":\"scattergeo\"}],\"scattergl\":[{\"marker\":{\"colorbar\":{\"outlinewidth\":0,\"ticks\":\"\"}},\"type\":\"scattergl\"}],\"scattermapbox\":[{\"marker\":{\"colorbar\":{\"outlinewidth\":0,\"ticks\":\"\"}},\"type\":\"scattermapbox\"}],\"scatterpolar\":[{\"marker\":{\"colorbar\":{\"outlinewidth\":0,\"ticks\":\"\"}},\"type\":\"scatterpolar\"}],\"scatterpolargl\":[{\"marker\":{\"colorbar\":{\"outlinewidth\":0,\"ticks\":\"\"}},\"type\":\"scatterpolargl\"}],\"scatterternary\":[{\"marker\":{\"colorbar\":{\"outlinewidth\":0,\"ticks\":\"\"}},\"type\":\"scatterternary\"}],\"surface\":[{\"colorbar\":{\"outlinewidth\":0,\"ticks\":\"\"},\"colorscale\":[[0.0,\"#0d0887\"],[0.1111111111111111,\"#46039f\"],[0.2222222222222222,\"#7201a8\"],[0.3333333333333333,\"#9c179e\"],[0.4444444444444444,\"#bd3786\"],[0.5555555555555556,\"#d8576b\"],[0.6666666666666666,\"#ed7953\"],[0.7777777777777778,\"#fb9f3a\"],[0.8888888888888888,\"#fdca26\"],[1.0,\"#f0f921\"]],\"type\":\"surface\"}],\"table\":[{\"cells\":{\"fill\":{\"color\":\"#EBF0F8\"},\"line\":{\"color\":\"white\"}},\"header\":{\"fill\":{\"color\":\"#C8D4E3\"},\"line\":{\"color\":\"white\"}},\"type\":\"table\"}]},\"layout\":{\"annotationdefaults\":{\"arrowcolor\":\"#2a3f5f\",\"arrowhead\":0,\"arrowwidth\":1},\"autotypenumbers\":\"strict\",\"coloraxis\":{\"colorbar\":{\"outlinewidth\":0,\"ticks\":\"\"}},\"colorscale\":{\"diverging\":[[0,\"#8e0152\"],[0.1,\"#c51b7d\"],[0.2,\"#de77ae\"],[0.3,\"#f1b6da\"],[0.4,\"#fde0ef\"],[0.5,\"#f7f7f7\"],[0.6,\"#e6f5d0\"],[0.7,\"#b8e186\"],[0.8,\"#7fbc41\"],[0.9,\"#4d9221\"],[1,\"#276419\"]],\"sequential\":[[0.0,\"#0d0887\"],[0.1111111111111111,\"#46039f\"],[0.2222222222222222,\"#7201a8\"],[0.3333333333333333,\"#9c179e\"],[0.4444444444444444,\"#bd3786\"],[0.5555555555555556,\"#d8576b\"],[0.6666666666666666,\"#ed7953\"],[0.7777777777777778,\"#fb9f3a\"],[0.8888888888888888,\"#fdca26\"],[1.0,\"#f0f921\"]],\"sequentialminus\":[[0.0,\"#0d0887\"],[0.1111111111111111,\"#46039f\"],[0.2222222222222222,\"#7201a8\"],[0.3333333333333333,\"#9c179e\"],[0.4444444444444444,\"#bd3786\"],[0.5555555555555556,\"#d8576b\"],[0.6666666666666666,\"#ed7953\"],[0.7777777777777778,\"#fb9f3a\"],[0.8888888888888888,\"#fdca26\"],[1.0,\"#f0f921\"]]},\"colorway\":[\"#636efa\",\"#EF553B\",\"#00cc96\",\"#ab63fa\",\"#FFA15A\",\"#19d3f3\",\"#FF6692\",\"#B6E880\",\"#FF97FF\",\"#FECB52\"],\"font\":{\"color\":\"#2a3f5f\"},\"geo\":{\"bgcolor\":\"white\",\"lakecolor\":\"white\",\"landcolor\":\"#E5ECF6\",\"showlakes\":true,\"showland\":true,\"subunitcolor\":\"white\"},\"hoverlabel\":{\"align\":\"left\"},\"hovermode\":\"closest\",\"mapbox\":{\"style\":\"light\"},\"paper_bgcolor\":\"white\",\"plot_bgcolor\":\"#E5ECF6\",\"polar\":{\"angularaxis\":{\"gridcolor\":\"white\",\"linecolor\":\"white\",\"ticks\":\"\"},\"bgcolor\":\"#E5ECF6\",\"radialaxis\":{\"gridcolor\":\"white\",\"linecolor\":\"white\",\"ticks\":\"\"}},\"scene\":{\"xaxis\":{\"backgroundcolor\":\"#E5ECF6\",\"gridcolor\":\"white\",\"gridwidth\":2,\"linecolor\":\"white\",\"showbackground\":true,\"ticks\":\"\",\"zerolinecolor\":\"white\"},\"yaxis\":{\"backgroundcolor\":\"#E5ECF6\",\"gridcolor\":\"white\",\"gridwidth\":2,\"linecolor\":\"white\",\"showbackground\":true,\"ticks\":\"\",\"zerolinecolor\":\"white\"},\"zaxis\":{\"backgroundcolor\":\"#E5ECF6\",\"gridcolor\":\"white\",\"gridwidth\":2,\"linecolor\":\"white\",\"showbackground\":true,\"ticks\":\"\",\"zerolinecolor\":\"white\"}},\"shapedefaults\":{\"line\":{\"color\":\"#2a3f5f\"}},\"ternary\":{\"aaxis\":{\"gridcolor\":\"white\",\"linecolor\":\"white\",\"ticks\":\"\"},\"baxis\":{\"gridcolor\":\"white\",\"linecolor\":\"white\",\"ticks\":\"\"},\"bgcolor\":\"#E5ECF6\",\"caxis\":{\"gridcolor\":\"white\",\"linecolor\":\"white\",\"ticks\":\"\"}},\"title\":{\"x\":0.05},\"xaxis\":{\"automargin\":true,\"gridcolor\":\"white\",\"linecolor\":\"white\",\"ticks\":\"\",\"title\":{\"standoff\":15},\"zerolinecolor\":\"white\",\"zerolinewidth\":2},\"yaxis\":{\"automargin\":true,\"gridcolor\":\"white\",\"linecolor\":\"white\",\"ticks\":\"\",\"title\":{\"standoff\":15},\"zerolinecolor\":\"white\",\"zerolinewidth\":2}}}},                        {\"responsive\": true}                    ).then(function(){\n",
              "                            \n",
              "var gd = document.getElementById('7e729704-7d74-42f5-b63d-ee8de5e7a049');\n",
              "var x = new MutationObserver(function (mutations, observer) {{\n",
              "        var display = window.getComputedStyle(gd).display;\n",
              "        if (!display || display === 'none') {{\n",
              "            console.log([gd, 'removed!']);\n",
              "            Plotly.purge(gd);\n",
              "            observer.disconnect();\n",
              "        }}\n",
              "}});\n",
              "\n",
              "// Listen for the removal of the full notebook cells\n",
              "var notebookContainer = gd.closest('#notebook-container');\n",
              "if (notebookContainer) {{\n",
              "    x.observe(notebookContainer, {childList: true});\n",
              "}}\n",
              "\n",
              "// Listen for the clearing of the current output cell\n",
              "var outputEl = gd.closest('.output');\n",
              "if (outputEl) {{\n",
              "    x.observe(outputEl, {childList: true});\n",
              "}}\n",
              "\n",
              "                        })                };                            </script>        </div>\n",
              "</body>\n",
              "</html>"
            ]
          },
          "metadata": {}
        }
      ]
    },
    {
      "cell_type": "markdown",
      "source": [
        "# **Interview**"
      ],
      "metadata": {
        "id": "VBENBTahAU20"
      }
    },
    {
      "cell_type": "code",
      "source": [
        "# t-tests\n",
        "[tstats_nPVI_i, pvalue_nPVI_i] = stats.ttest_ind(interview_pws[\"nPVI\"], interview_control[\"nPVI\"], equal_var=False)\n",
        "[tstats_rPVI_i, pvalue_rPVI_i] = stats.ttest_ind(interview_pws[\"rPVI\"], interview_control[\"rPVI\"], equal_var=False)\n",
        "[tstats_PercV_i, pvalue_PercV_i] = stats.ttest_ind(interview_pws[\"%V\"], interview_control[\"%V\"], equal_var=False,  nan_policy='omit')\n",
        "[tstats_DeltaC_i, pvalue_DeltaC_i] = stats.ttest_ind(interview_pws[\"DeltaC\"], interview_control[\"DeltaC\"], equal_var=False)\n",
        "[tstats_DeltaV_i, pvalue_DeltaV_i] = stats.ttest_ind(interview_pws[\"DeltaV\"], interview_control[\"DeltaV\"], equal_var=False)\n",
        "[tstats_VarcoC_i, pvalue_VarcoC_i] = stats.ttest_ind(interview_pws[\"VarcoC\"], interview_control[\"VarcoC\"], equal_var=False)\n",
        "[tstats_VarcoV_i, pvalue_VarcoV_i] = stats.ttest_ind(interview_pws[\"VarcoV\"], interview_control[\"VarcoV\"], equal_var=False)"
      ],
      "metadata": {
        "id": "JzsBxldNDGma"
      },
      "execution_count": null,
      "outputs": []
    },
    {
      "cell_type": "code",
      "source": [
        "# degrees of freedom\n",
        "dof = (len(interview_pws)+len(interview_control)-2)\n",
        "df_interview = (len(interview_pws)+len(interview_control))"
      ],
      "metadata": {
        "id": "TOv3wAoAB8fV"
      },
      "execution_count": 129,
      "outputs": []
    },
    {
      "cell_type": "code",
      "source": [
        "# effect size\n",
        "cohens_d_nPVI_i = abs(interview_pws.mean()[0]-interview_control.mean()[0])/(((np.sqrt((len(interview_pws)-1) * interview_pws.std()[0])**2) + (np.sqrt((len(interview_control)-1) * interview_control.std()[0])**2))/dof)\n",
        "cohens_d_rPVI_i = abs(interview_pws.mean()[1]-interview_control.mean()[1])/(((np.sqrt((len(interview_pws)-1) * interview_pws.std()[1])**2) + (np.sqrt((len(interview_control)-1) * interview_control.std()[1])**2))/dof)\n",
        "cohens_d_PercV_i = abs(interview_pws.mean()[2]-interview_control.mean()[2])/(((np.sqrt((len(interview_pws)-1) * interview_pws.std()[2])**2) + (np.sqrt((len(interview_control)-1) * interview_control.std()[2])**2))/dof)\n",
        "cohens_d_DeltaC_i = abs(interview_pws.mean()[3]-interview_control.mean()[3])/(((np.sqrt((len(interview_pws)-1) * interview_pws.std()[3])**2) + (np.sqrt((len(interview_control)-1) * interview_control.std()[3])**2))/dof)\n",
        "cohens_d_DeltaV_i = abs(interview_pws.mean()[4]-interview_control.mean()[4])/(((np.sqrt((len(interview_pws)-1) * interview_pws.std()[4])**2) + (np.sqrt((len(interview_control)-1) * interview_control.std()[4])**2))/dof)\n",
        "cohens_d_VarcoC_i = abs(interview_pws.mean()[5]-interview_control.mean()[5])/(((np.sqrt((len(interview_pws)-1) * interview_pws.std()[5])**2) + (np.sqrt((len(interview_control)-1) * interview_control.std()[5])**2))/dof)\n",
        "cohens_d_VarcoV_i = abs(interview_pws.mean()[6]-interview_control.mean()[6])/(((np.sqrt((len(interview_pws)-1) * interview_pws.std()[6])**2) + (np.sqrt((len(interview_control)-1) * interview_control.std()[6])**2))/dof)"
      ],
      "metadata": {
        "id": "XNrLZ6H9B9B2"
      },
      "execution_count": 130,
      "outputs": []
    },
    {
      "cell_type": "code",
      "source": [
        "means = [interview_pws.mean()[0], interview_control.mean()[0], interview_pws.mean()[1],interview_control.mean()[1],interview_pws.mean()[2], interview_control.mean()[2], interview_pws.mean()[3],interview_control.mean()[3], interview_pws.mean()[4],interview_control.mean()[4], interview_pws.mean()[5], interview_control.mean()[5],interview_pws.mean()[6], interview_control.mean()[6]]\n",
        "sds = [interview_pws.std()[0], interview_control.std()[0], interview_pws.std()[1],interview_control.std()[1],interview_pws.std()[2], interview_control.std()[2], interview_pws.std()[3],interview_control.std()[3], interview_pws.std()[4],interview_control.std()[4], interview_pws.std()[5], interview_control.std()[5],interview_pws.std()[6], interview_control.std()[6]]"
      ],
      "metadata": {
        "id": "VyWvw6cF8mk0"
      },
      "execution_count": 131,
      "outputs": []
    },
    {
      "cell_type": "code",
      "source": [
        "p_vals = [pvalue_nPVI_i, pvalue_rPVI_i, pvalue_PercV_i, pvalue_DeltaC_i, pvalue_DeltaV_i, pvalue_VarcoC_i, pvalue_VarcoV_i]\n",
        "for p in range(0, len(p_vals)):\n",
        "  if p_vals[p] < 0.05:\n",
        "    p_vals[p] = '*' + str(round(p_vals[p],4))\n",
        "  else:\n",
        "    p_vals[p] = str(round(p_vals[p],4))"
      ],
      "metadata": {
        "id": "R5mieIKQA3C3"
      },
      "execution_count": 138,
      "outputs": []
    },
    {
      "cell_type": "code",
      "source": [
        "fig = go.Figure(data=[go.Table(\n",
        "    header=dict(values=['Rhythm Metrics', 'Group', 'Mean','SD', 'df (T-Value)', 'p-Value', 'Effect Size'],\n",
        "                line_color='black',\n",
        "                fill_color='lightgray',\n",
        "                align='left'),\n",
        "    cells=dict(values=[[\"nPVI\",\"\", \"rPVI\", \"\",\"%V\", \"\",\"DeltaC\", \"\",\"DeltaV\",\"\", \"VarcoC\",\"\", \"VarcoV\",\"\"], # 1st column\n",
        "                       [\"Stuttering\", \"Non-Stuttering\", \"Stuttering\", \"Non-Stuttering\", \"Stuttering\", \"Non-Stuttering\", \"Stuttering\", \"Non-Stuttering\", \"Stuttering\", \"Non-Stuttering\", \"Stuttering\", \"Non-Stuttering\", \"Stuttering\", \"Non-Stuttering\"],\n",
        "                      [round(means[0],2),round(means[1],2),round(means[2],2),round(means[3],2),round(means[4],2),round(means[5],2),round(means[6],3),round(means[7],3),round(means[8],3),round(means[9],3),round(means[10],2),round(means[11],2),round(means[12],2),round(means[13],2) ],\n",
        "                       [round(sds[0],2),round(sds[1],2),round(sds[2],2),round(sds[3],2),round(sds[4],2),round(sds[5],2),round(sds[6],3),round(sds[7],3),round(sds[8],3),round(sds[9],3),round(sds[10],2),round(sds[11],2),round(sds[12],2),round(sds[13],2) ],\n",
        "                       [[df_interview, round(tstats_nPVI_i,4)],\"\", [df_interview, round(tstats_rPVI_i,4)], \"\",[df_interview, round(tstats_PercV_i,4)],\"\", [df_interview, round(tstats_DeltaC_i,4)],\"\", [df_interview, round(tstats_DeltaV_i,4)],\"\", [df_interview, round(tstats_VarcoV_i,4)],\"\", [df_interview, round(tstats_VarcoV_i,4)], \"\"], \n",
        "                       [p_vals[0],\"\", p_vals[1], \"\",p_vals[2],\"\", p_vals[3],\"\", p_vals[4],\"\", p_vals[5],\"\", p_vals[6], \"\"], \n",
        "                       [round(cohens_d_nPVI_i,4),\"\", round(cohens_d_rPVI_i,4), \"\",round(cohens_d_PercV_i,4),\"\", round(cohens_d_DeltaC_i,4),\"\", round(cohens_d_DeltaV_i,4),\"\", round(cohens_d_VarcoV_i,4),\"\", round(cohens_d_VarcoV_i,4), \"\"]], # 2nd column\n",
        "               line_color='darkslategray',\n",
        "               fill_color='white',\n",
        "               align='left'))\n",
        "])"
      ],
      "metadata": {
        "id": "CNA2UE0KBDBv"
      },
      "execution_count": 139,
      "outputs": []
    },
    {
      "cell_type": "code",
      "source": [
        "fig.show()"
      ],
      "metadata": {
        "colab": {
          "base_uri": "https://localhost:8080/",
          "height": 542
        },
        "id": "Xk5PnETaBblU",
        "outputId": "923fc4f6-e6b8-48e8-bfb1-07ea38db459d"
      },
      "execution_count": 140,
      "outputs": [
        {
          "output_type": "display_data",
          "data": {
            "text/html": [
              "<html>\n",
              "<head><meta charset=\"utf-8\" /></head>\n",
              "<body>\n",
              "    <div>            <script src=\"https://cdnjs.cloudflare.com/ajax/libs/mathjax/2.7.5/MathJax.js?config=TeX-AMS-MML_SVG\"></script><script type=\"text/javascript\">if (window.MathJax) {MathJax.Hub.Config({SVG: {font: \"STIX-Web\"}});}</script>                <script type=\"text/javascript\">window.PlotlyConfig = {MathJaxConfig: 'local'};</script>\n",
              "        <script src=\"https://cdn.plot.ly/plotly-2.8.3.min.js\"></script>                <div id=\"1fb97f0c-d898-4d08-bea4-0c92fb1dd598\" class=\"plotly-graph-div\" style=\"height:525px; width:100%;\"></div>            <script type=\"text/javascript\">                                    window.PLOTLYENV=window.PLOTLYENV || {};                                    if (document.getElementById(\"1fb97f0c-d898-4d08-bea4-0c92fb1dd598\")) {                    Plotly.newPlot(                        \"1fb97f0c-d898-4d08-bea4-0c92fb1dd598\",                        [{\"cells\":{\"align\":\"left\",\"fill\":{\"color\":\"white\"},\"line\":{\"color\":\"darkslategray\"},\"values\":[[\"nPVI\",\"\",\"rPVI\",\"\",\"%V\",\"\",\"DeltaC\",\"\",\"DeltaV\",\"\",\"VarcoC\",\"\",\"VarcoV\",\"\"],[\"Stuttering\",\"Non-Stuttering\",\"Stuttering\",\"Non-Stuttering\",\"Stuttering\",\"Non-Stuttering\",\"Stuttering\",\"Non-Stuttering\",\"Stuttering\",\"Non-Stuttering\",\"Stuttering\",\"Non-Stuttering\",\"Stuttering\",\"Non-Stuttering\"],[69.4,67.86,0.05,0.05,46.65,37.32,0.045,0.043,0.064,0.055,63.79,61.33,68.95,67.64],[3.93,7.7,0.01,0.01,3.5,3.36,0.007,0.008,0.012,0.015,5.89,6.91,7.2,14.1],[[30,0.6388],\"\",[30,-1.1477],\"\",[30,7.1426],\"\",[30,0.5526],\"\",[30,1.8915],\"\",[30,0.2969],\"\",[30,0.2969],\"\"],[\"0.5327\",\"\",\"0.265\",\"\",\"*0.0\",\"\",\"0.5861\",\"\",\"0.0733\",\"\",\"0.3242\",\"\",\"0.7706\",\"\"],[0.2843,\"\",0.455,\"\",2.71,\"\",0.2105,\"\",0.7465,\"\",0.1321,\"\",0.1321,\"\"]]},\"header\":{\"align\":\"left\",\"fill\":{\"color\":\"lightgray\"},\"line\":{\"color\":\"black\"},\"values\":[\"Rhythm Metrics\",\"Group\",\"Mean\",\"SD\",\"df (T-Value)\",\"p-Value\",\"Effect Size\"]},\"type\":\"table\"}],                        {\"template\":{\"data\":{\"bar\":[{\"error_x\":{\"color\":\"#2a3f5f\"},\"error_y\":{\"color\":\"#2a3f5f\"},\"marker\":{\"line\":{\"color\":\"#E5ECF6\",\"width\":0.5},\"pattern\":{\"fillmode\":\"overlay\",\"size\":10,\"solidity\":0.2}},\"type\":\"bar\"}],\"barpolar\":[{\"marker\":{\"line\":{\"color\":\"#E5ECF6\",\"width\":0.5},\"pattern\":{\"fillmode\":\"overlay\",\"size\":10,\"solidity\":0.2}},\"type\":\"barpolar\"}],\"carpet\":[{\"aaxis\":{\"endlinecolor\":\"#2a3f5f\",\"gridcolor\":\"white\",\"linecolor\":\"white\",\"minorgridcolor\":\"white\",\"startlinecolor\":\"#2a3f5f\"},\"baxis\":{\"endlinecolor\":\"#2a3f5f\",\"gridcolor\":\"white\",\"linecolor\":\"white\",\"minorgridcolor\":\"white\",\"startlinecolor\":\"#2a3f5f\"},\"type\":\"carpet\"}],\"choropleth\":[{\"colorbar\":{\"outlinewidth\":0,\"ticks\":\"\"},\"type\":\"choropleth\"}],\"contour\":[{\"colorbar\":{\"outlinewidth\":0,\"ticks\":\"\"},\"colorscale\":[[0.0,\"#0d0887\"],[0.1111111111111111,\"#46039f\"],[0.2222222222222222,\"#7201a8\"],[0.3333333333333333,\"#9c179e\"],[0.4444444444444444,\"#bd3786\"],[0.5555555555555556,\"#d8576b\"],[0.6666666666666666,\"#ed7953\"],[0.7777777777777778,\"#fb9f3a\"],[0.8888888888888888,\"#fdca26\"],[1.0,\"#f0f921\"]],\"type\":\"contour\"}],\"contourcarpet\":[{\"colorbar\":{\"outlinewidth\":0,\"ticks\":\"\"},\"type\":\"contourcarpet\"}],\"heatmap\":[{\"colorbar\":{\"outlinewidth\":0,\"ticks\":\"\"},\"colorscale\":[[0.0,\"#0d0887\"],[0.1111111111111111,\"#46039f\"],[0.2222222222222222,\"#7201a8\"],[0.3333333333333333,\"#9c179e\"],[0.4444444444444444,\"#bd3786\"],[0.5555555555555556,\"#d8576b\"],[0.6666666666666666,\"#ed7953\"],[0.7777777777777778,\"#fb9f3a\"],[0.8888888888888888,\"#fdca26\"],[1.0,\"#f0f921\"]],\"type\":\"heatmap\"}],\"heatmapgl\":[{\"colorbar\":{\"outlinewidth\":0,\"ticks\":\"\"},\"colorscale\":[[0.0,\"#0d0887\"],[0.1111111111111111,\"#46039f\"],[0.2222222222222222,\"#7201a8\"],[0.3333333333333333,\"#9c179e\"],[0.4444444444444444,\"#bd3786\"],[0.5555555555555556,\"#d8576b\"],[0.6666666666666666,\"#ed7953\"],[0.7777777777777778,\"#fb9f3a\"],[0.8888888888888888,\"#fdca26\"],[1.0,\"#f0f921\"]],\"type\":\"heatmapgl\"}],\"histogram\":[{\"marker\":{\"pattern\":{\"fillmode\":\"overlay\",\"size\":10,\"solidity\":0.2}},\"type\":\"histogram\"}],\"histogram2d\":[{\"colorbar\":{\"outlinewidth\":0,\"ticks\":\"\"},\"colorscale\":[[0.0,\"#0d0887\"],[0.1111111111111111,\"#46039f\"],[0.2222222222222222,\"#7201a8\"],[0.3333333333333333,\"#9c179e\"],[0.4444444444444444,\"#bd3786\"],[0.5555555555555556,\"#d8576b\"],[0.6666666666666666,\"#ed7953\"],[0.7777777777777778,\"#fb9f3a\"],[0.8888888888888888,\"#fdca26\"],[1.0,\"#f0f921\"]],\"type\":\"histogram2d\"}],\"histogram2dcontour\":[{\"colorbar\":{\"outlinewidth\":0,\"ticks\":\"\"},\"colorscale\":[[0.0,\"#0d0887\"],[0.1111111111111111,\"#46039f\"],[0.2222222222222222,\"#7201a8\"],[0.3333333333333333,\"#9c179e\"],[0.4444444444444444,\"#bd3786\"],[0.5555555555555556,\"#d8576b\"],[0.6666666666666666,\"#ed7953\"],[0.7777777777777778,\"#fb9f3a\"],[0.8888888888888888,\"#fdca26\"],[1.0,\"#f0f921\"]],\"type\":\"histogram2dcontour\"}],\"mesh3d\":[{\"colorbar\":{\"outlinewidth\":0,\"ticks\":\"\"},\"type\":\"mesh3d\"}],\"parcoords\":[{\"line\":{\"colorbar\":{\"outlinewidth\":0,\"ticks\":\"\"}},\"type\":\"parcoords\"}],\"pie\":[{\"automargin\":true,\"type\":\"pie\"}],\"scatter\":[{\"marker\":{\"colorbar\":{\"outlinewidth\":0,\"ticks\":\"\"}},\"type\":\"scatter\"}],\"scatter3d\":[{\"line\":{\"colorbar\":{\"outlinewidth\":0,\"ticks\":\"\"}},\"marker\":{\"colorbar\":{\"outlinewidth\":0,\"ticks\":\"\"}},\"type\":\"scatter3d\"}],\"scattercarpet\":[{\"marker\":{\"colorbar\":{\"outlinewidth\":0,\"ticks\":\"\"}},\"type\":\"scattercarpet\"}],\"scattergeo\":[{\"marker\":{\"colorbar\":{\"outlinewidth\":0,\"ticks\":\"\"}},\"type\":\"scattergeo\"}],\"scattergl\":[{\"marker\":{\"colorbar\":{\"outlinewidth\":0,\"ticks\":\"\"}},\"type\":\"scattergl\"}],\"scattermapbox\":[{\"marker\":{\"colorbar\":{\"outlinewidth\":0,\"ticks\":\"\"}},\"type\":\"scattermapbox\"}],\"scatterpolar\":[{\"marker\":{\"colorbar\":{\"outlinewidth\":0,\"ticks\":\"\"}},\"type\":\"scatterpolar\"}],\"scatterpolargl\":[{\"marker\":{\"colorbar\":{\"outlinewidth\":0,\"ticks\":\"\"}},\"type\":\"scatterpolargl\"}],\"scatterternary\":[{\"marker\":{\"colorbar\":{\"outlinewidth\":0,\"ticks\":\"\"}},\"type\":\"scatterternary\"}],\"surface\":[{\"colorbar\":{\"outlinewidth\":0,\"ticks\":\"\"},\"colorscale\":[[0.0,\"#0d0887\"],[0.1111111111111111,\"#46039f\"],[0.2222222222222222,\"#7201a8\"],[0.3333333333333333,\"#9c179e\"],[0.4444444444444444,\"#bd3786\"],[0.5555555555555556,\"#d8576b\"],[0.6666666666666666,\"#ed7953\"],[0.7777777777777778,\"#fb9f3a\"],[0.8888888888888888,\"#fdca26\"],[1.0,\"#f0f921\"]],\"type\":\"surface\"}],\"table\":[{\"cells\":{\"fill\":{\"color\":\"#EBF0F8\"},\"line\":{\"color\":\"white\"}},\"header\":{\"fill\":{\"color\":\"#C8D4E3\"},\"line\":{\"color\":\"white\"}},\"type\":\"table\"}]},\"layout\":{\"annotationdefaults\":{\"arrowcolor\":\"#2a3f5f\",\"arrowhead\":0,\"arrowwidth\":1},\"autotypenumbers\":\"strict\",\"coloraxis\":{\"colorbar\":{\"outlinewidth\":0,\"ticks\":\"\"}},\"colorscale\":{\"diverging\":[[0,\"#8e0152\"],[0.1,\"#c51b7d\"],[0.2,\"#de77ae\"],[0.3,\"#f1b6da\"],[0.4,\"#fde0ef\"],[0.5,\"#f7f7f7\"],[0.6,\"#e6f5d0\"],[0.7,\"#b8e186\"],[0.8,\"#7fbc41\"],[0.9,\"#4d9221\"],[1,\"#276419\"]],\"sequential\":[[0.0,\"#0d0887\"],[0.1111111111111111,\"#46039f\"],[0.2222222222222222,\"#7201a8\"],[0.3333333333333333,\"#9c179e\"],[0.4444444444444444,\"#bd3786\"],[0.5555555555555556,\"#d8576b\"],[0.6666666666666666,\"#ed7953\"],[0.7777777777777778,\"#fb9f3a\"],[0.8888888888888888,\"#fdca26\"],[1.0,\"#f0f921\"]],\"sequentialminus\":[[0.0,\"#0d0887\"],[0.1111111111111111,\"#46039f\"],[0.2222222222222222,\"#7201a8\"],[0.3333333333333333,\"#9c179e\"],[0.4444444444444444,\"#bd3786\"],[0.5555555555555556,\"#d8576b\"],[0.6666666666666666,\"#ed7953\"],[0.7777777777777778,\"#fb9f3a\"],[0.8888888888888888,\"#fdca26\"],[1.0,\"#f0f921\"]]},\"colorway\":[\"#636efa\",\"#EF553B\",\"#00cc96\",\"#ab63fa\",\"#FFA15A\",\"#19d3f3\",\"#FF6692\",\"#B6E880\",\"#FF97FF\",\"#FECB52\"],\"font\":{\"color\":\"#2a3f5f\"},\"geo\":{\"bgcolor\":\"white\",\"lakecolor\":\"white\",\"landcolor\":\"#E5ECF6\",\"showlakes\":true,\"showland\":true,\"subunitcolor\":\"white\"},\"hoverlabel\":{\"align\":\"left\"},\"hovermode\":\"closest\",\"mapbox\":{\"style\":\"light\"},\"paper_bgcolor\":\"white\",\"plot_bgcolor\":\"#E5ECF6\",\"polar\":{\"angularaxis\":{\"gridcolor\":\"white\",\"linecolor\":\"white\",\"ticks\":\"\"},\"bgcolor\":\"#E5ECF6\",\"radialaxis\":{\"gridcolor\":\"white\",\"linecolor\":\"white\",\"ticks\":\"\"}},\"scene\":{\"xaxis\":{\"backgroundcolor\":\"#E5ECF6\",\"gridcolor\":\"white\",\"gridwidth\":2,\"linecolor\":\"white\",\"showbackground\":true,\"ticks\":\"\",\"zerolinecolor\":\"white\"},\"yaxis\":{\"backgroundcolor\":\"#E5ECF6\",\"gridcolor\":\"white\",\"gridwidth\":2,\"linecolor\":\"white\",\"showbackground\":true,\"ticks\":\"\",\"zerolinecolor\":\"white\"},\"zaxis\":{\"backgroundcolor\":\"#E5ECF6\",\"gridcolor\":\"white\",\"gridwidth\":2,\"linecolor\":\"white\",\"showbackground\":true,\"ticks\":\"\",\"zerolinecolor\":\"white\"}},\"shapedefaults\":{\"line\":{\"color\":\"#2a3f5f\"}},\"ternary\":{\"aaxis\":{\"gridcolor\":\"white\",\"linecolor\":\"white\",\"ticks\":\"\"},\"baxis\":{\"gridcolor\":\"white\",\"linecolor\":\"white\",\"ticks\":\"\"},\"bgcolor\":\"#E5ECF6\",\"caxis\":{\"gridcolor\":\"white\",\"linecolor\":\"white\",\"ticks\":\"\"}},\"title\":{\"x\":0.05},\"xaxis\":{\"automargin\":true,\"gridcolor\":\"white\",\"linecolor\":\"white\",\"ticks\":\"\",\"title\":{\"standoff\":15},\"zerolinecolor\":\"white\",\"zerolinewidth\":2},\"yaxis\":{\"automargin\":true,\"gridcolor\":\"white\",\"linecolor\":\"white\",\"ticks\":\"\",\"title\":{\"standoff\":15},\"zerolinecolor\":\"white\",\"zerolinewidth\":2}}}},                        {\"responsive\": true}                    ).then(function(){\n",
              "                            \n",
              "var gd = document.getElementById('1fb97f0c-d898-4d08-bea4-0c92fb1dd598');\n",
              "var x = new MutationObserver(function (mutations, observer) {{\n",
              "        var display = window.getComputedStyle(gd).display;\n",
              "        if (!display || display === 'none') {{\n",
              "            console.log([gd, 'removed!']);\n",
              "            Plotly.purge(gd);\n",
              "            observer.disconnect();\n",
              "        }}\n",
              "}});\n",
              "\n",
              "// Listen for the removal of the full notebook cells\n",
              "var notebookContainer = gd.closest('#notebook-container');\n",
              "if (notebookContainer) {{\n",
              "    x.observe(notebookContainer, {childList: true});\n",
              "}}\n",
              "\n",
              "// Listen for the clearing of the current output cell\n",
              "var outputEl = gd.closest('.output');\n",
              "if (outputEl) {{\n",
              "    x.observe(outputEl, {childList: true});\n",
              "}}\n",
              "\n",
              "                        })                };                            </script>        </div>\n",
              "</body>\n",
              "</html>"
            ]
          },
          "metadata": {}
        }
      ]
    }
  ]
}