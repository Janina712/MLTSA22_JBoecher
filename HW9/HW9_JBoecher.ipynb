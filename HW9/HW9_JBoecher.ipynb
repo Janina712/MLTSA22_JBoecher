{
  "nbformat": 4,
  "nbformat_minor": 0,
  "metadata": {
    "colab": {
      "name": "HW9_JBoecher.ipynb",
      "provenance": [],
      "collapsed_sections": [],
      "mount_file_id": "1c0-fGxqzHV4ps1DXETv62yy0AVuynZ4Y",
      "authorship_tag": "ABX9TyOCk1524Sylj9FRvXoFTxn/",
      "include_colab_link": true
    },
    "kernelspec": {
      "name": "python3",
      "display_name": "Python 3"
    },
    "language_info": {
      "name": "python"
    }
  },
  "cells": [
    {
      "cell_type": "markdown",
      "metadata": {
        "id": "view-in-github",
        "colab_type": "text"
      },
      "source": [
        "<a href=\"https://colab.research.google.com/github/Janina712/MLTSA22_JBoecher/blob/main/HW9/HW9_JBoecher.ipynb\" target=\"_parent\"><img src=\"https://colab.research.google.com/assets/colab-badge.svg\" alt=\"Open In Colab\"/></a>"
      ]
    },
    {
      "cell_type": "markdown",
      "source": [
        "#1. Imports and Set-Up"
      ],
      "metadata": {
        "id": "w-cU4BUrmxiu"
      }
    },
    {
      "cell_type": "code",
      "source": [
        "# import packages\n",
        "import io\n",
        "import numpy as np\n",
        "import pandas as pd\n",
        "import tensorflow as tf\n",
        "import seaborn as sns\n",
        "from matplotlib import pyplot as plt\n",
        "from tensorflow import keras\n",
        "from keras import layers \n",
        "from keras.layers import Dense, Input, Flatten,\\\n",
        "                   Reshape, LeakyReLU as LR,\\\n",
        "                   Activation, Dropout\n",
        "from keras.models import Model, Sequential\n",
        "from sklearn.model_selection import train_test_split\n",
        "from sklearn.metrics import confusion_matrix"
      ],
      "metadata": {
        "id": "fua7cZ08mv7I"
      },
      "execution_count": 77,
      "outputs": []
    },
    {
      "cell_type": "code",
      "execution_count": 4,
      "metadata": {
        "colab": {
          "base_uri": "https://localhost:8080/"
        },
        "id": "z7PynWm3hsH4",
        "outputId": "be2c8bcc-62a5-4edf-bc5b-97826b029e5e"
      },
      "outputs": [
        {
          "output_type": "stream",
          "name": "stdout",
          "text": [
            "Mounted at /content/gdrive\n"
          ]
        }
      ],
      "source": [
        "# mount drive\n",
        "from google.colab import drive\n",
        "drive.mount(\"/content/gdrive\", force_remount = True)"
      ]
    },
    {
      "cell_type": "code",
      "source": [
        "# set path\n",
        "%cd /content/gdrive/MyDrive/ColabNotebooks/"
      ],
      "metadata": {
        "colab": {
          "base_uri": "https://localhost:8080/"
        },
        "id": "GuKJlyZDCl8j",
        "outputId": "13a37051-41e3-4dad-e017-229ba8773f8e"
      },
      "execution_count": 5,
      "outputs": [
        {
          "output_type": "stream",
          "name": "stdout",
          "text": [
            "/content/gdrive/MyDrive/ColabNotebooks\n"
          ]
        }
      ]
    },
    {
      "cell_type": "code",
      "source": [
        "# import dataframe from google drive\n",
        "from google.colab import files \n",
        "uploaded = files.upload()\n",
        "\n",
        "df = pd.read_csv(io.BytesIO(uploaded['data_all.csv']))"
      ],
      "metadata": {
        "colab": {
          "resources": {
            "http://localhost:8080/nbextensions/google.colab/files.js": {
              "data": "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",
              "ok": true,
              "headers": [
                [
                  "content-type",
                  "application/javascript"
                ]
              ],
              "status": 200,
              "status_text": ""
            }
          },
          "base_uri": "https://localhost:8080/",
          "height": 73
        },
        "id": "7rjvbk7pC5TK",
        "outputId": "b80227aa-8b50-468a-a479-7dac25dfc368"
      },
      "execution_count": 7,
      "outputs": [
        {
          "output_type": "display_data",
          "data": {
            "text/plain": [
              "<IPython.core.display.HTML object>"
            ],
            "text/html": [
              "\n",
              "     <input type=\"file\" id=\"files-1396d0b0-d465-4189-9427-8ab113c2ad77\" name=\"files[]\" multiple disabled\n",
              "        style=\"border:none\" />\n",
              "     <output id=\"result-1396d0b0-d465-4189-9427-8ab113c2ad77\">\n",
              "      Upload widget is only available when the cell has been executed in the\n",
              "      current browser session. Please rerun this cell to enable.\n",
              "      </output>\n",
              "      <script src=\"/nbextensions/google.colab/files.js\"></script> "
            ]
          },
          "metadata": {}
        },
        {
          "output_type": "stream",
          "name": "stdout",
          "text": [
            "Saving data_all.csv to data_all (4).csv\n"
          ]
        }
      ]
    },
    {
      "cell_type": "code",
      "source": [
        "df.shape"
      ],
      "metadata": {
        "colab": {
          "base_uri": "https://localhost:8080/"
        },
        "id": "dWRX8_keHxsB",
        "outputId": "c475d9d1-6017-46e5-f32d-89ff02e70f03"
      },
      "execution_count": 8,
      "outputs": [
        {
          "output_type": "execute_result",
          "data": {
            "text/plain": [
              "(47088, 100)"
            ]
          },
          "metadata": {},
          "execution_count": 8
        }
      ]
    },
    {
      "cell_type": "code",
      "source": [
        "df.head()"
      ],
      "metadata": {
        "colab": {
          "base_uri": "https://localhost:8080/",
          "height": 366
        },
        "id": "wwaXwUQIIItI",
        "outputId": "dd0291e0-395d-41f0-e97b-72ca70b3c2e8"
      },
      "execution_count": 9,
      "outputs": [
        {
          "output_type": "execute_result",
          "data": {
            "text/plain": [
              "        1             2        3         4             5         6  \\\n",
              "0  0.7110  3.540000e-01 -0.81500  0.092000  5.820000e-01 -0.730000   \n",
              "1 -0.5760  3.410000e-73  0.00243  0.000058  3.090000e-32 -0.000254   \n",
              "2 -0.7040 -3.780000e-02  0.87100 -0.123000  3.480000e-01 -0.858000   \n",
              "3 -0.0701  4.190000e-02  0.94500  0.285000  9.810000e-02 -1.210000   \n",
              "4  0.3650  3.570000e-02  1.21000  0.868000  1.060000e-01 -1.380000   \n",
              "\n",
              "              7        8              9            10  ...      91       92  \\\n",
              "0 -3.380000e-01  0.87900   9.940000e-02 -4.530000e-01  ... -0.1180 -0.46500   \n",
              "1 -4.810000e-10  0.00859  3.510000e-145  6.830000e-13  ...  0.0012 -0.00851   \n",
              "2  3.950000e-02  0.33600  -4.870000e-02  2.620000e-01  ...  0.5800  0.17500   \n",
              "3  7.370000e-02  0.32200   7.970000e-04 -7.150000e-02  ...  0.0799  0.02700   \n",
              "4  1.810000e-01  0.31500   3.890000e-04 -4.190000e-01  ... -0.3790  0.21700   \n",
              "\n",
              "             93       94       95            96        97            98  \\\n",
              "0  4.470000e-02  0.07810 -0.00757 -5.760000e-03  0.000522  1.870000e-04   \n",
              "1  5.320000e-58 -0.00365 -0.01500 -6.600000e-39 -0.032500  1.090000e-93   \n",
              "2 -7.880000e-02  0.01860 -0.56000  6.280000e-01 -0.601000  4.270000e-01   \n",
              "3  2.540000e-03 -0.15100 -0.38300  2.330000e-02 -0.574000 -4.110000e-03   \n",
              "4  1.380000e-03 -0.64200 -0.51500  2.550000e-02 -0.618000 -6.050000e-04   \n",
              "\n",
              "             99           100  \n",
              "0 -1.500000e-05 -2.650000e-06  \n",
              "1  0.000000e+00  0.000000e+00  \n",
              "2 -7.080000e-02  7.170000e-04  \n",
              "3  4.690000e-10  3.940000e-20  \n",
              "4  2.820000e-10  8.260000e-22  \n",
              "\n",
              "[5 rows x 100 columns]"
            ],
            "text/html": [
              "\n",
              "  <div id=\"df-8a455cf9-f97f-48da-bd3f-c86543c47077\">\n",
              "    <div class=\"colab-df-container\">\n",
              "      <div>\n",
              "<style scoped>\n",
              "    .dataframe tbody tr th:only-of-type {\n",
              "        vertical-align: middle;\n",
              "    }\n",
              "\n",
              "    .dataframe tbody tr th {\n",
              "        vertical-align: top;\n",
              "    }\n",
              "\n",
              "    .dataframe thead th {\n",
              "        text-align: right;\n",
              "    }\n",
              "</style>\n",
              "<table border=\"1\" class=\"dataframe\">\n",
              "  <thead>\n",
              "    <tr style=\"text-align: right;\">\n",
              "      <th></th>\n",
              "      <th>1</th>\n",
              "      <th>2</th>\n",
              "      <th>3</th>\n",
              "      <th>4</th>\n",
              "      <th>5</th>\n",
              "      <th>6</th>\n",
              "      <th>7</th>\n",
              "      <th>8</th>\n",
              "      <th>9</th>\n",
              "      <th>10</th>\n",
              "      <th>...</th>\n",
              "      <th>91</th>\n",
              "      <th>92</th>\n",
              "      <th>93</th>\n",
              "      <th>94</th>\n",
              "      <th>95</th>\n",
              "      <th>96</th>\n",
              "      <th>97</th>\n",
              "      <th>98</th>\n",
              "      <th>99</th>\n",
              "      <th>100</th>\n",
              "    </tr>\n",
              "  </thead>\n",
              "  <tbody>\n",
              "    <tr>\n",
              "      <th>0</th>\n",
              "      <td>0.7110</td>\n",
              "      <td>3.540000e-01</td>\n",
              "      <td>-0.81500</td>\n",
              "      <td>0.092000</td>\n",
              "      <td>5.820000e-01</td>\n",
              "      <td>-0.730000</td>\n",
              "      <td>-3.380000e-01</td>\n",
              "      <td>0.87900</td>\n",
              "      <td>9.940000e-02</td>\n",
              "      <td>-4.530000e-01</td>\n",
              "      <td>...</td>\n",
              "      <td>-0.1180</td>\n",
              "      <td>-0.46500</td>\n",
              "      <td>4.470000e-02</td>\n",
              "      <td>0.07810</td>\n",
              "      <td>-0.00757</td>\n",
              "      <td>-5.760000e-03</td>\n",
              "      <td>0.000522</td>\n",
              "      <td>1.870000e-04</td>\n",
              "      <td>-1.500000e-05</td>\n",
              "      <td>-2.650000e-06</td>\n",
              "    </tr>\n",
              "    <tr>\n",
              "      <th>1</th>\n",
              "      <td>-0.5760</td>\n",
              "      <td>3.410000e-73</td>\n",
              "      <td>0.00243</td>\n",
              "      <td>0.000058</td>\n",
              "      <td>3.090000e-32</td>\n",
              "      <td>-0.000254</td>\n",
              "      <td>-4.810000e-10</td>\n",
              "      <td>0.00859</td>\n",
              "      <td>3.510000e-145</td>\n",
              "      <td>6.830000e-13</td>\n",
              "      <td>...</td>\n",
              "      <td>0.0012</td>\n",
              "      <td>-0.00851</td>\n",
              "      <td>5.320000e-58</td>\n",
              "      <td>-0.00365</td>\n",
              "      <td>-0.01500</td>\n",
              "      <td>-6.600000e-39</td>\n",
              "      <td>-0.032500</td>\n",
              "      <td>1.090000e-93</td>\n",
              "      <td>0.000000e+00</td>\n",
              "      <td>0.000000e+00</td>\n",
              "    </tr>\n",
              "    <tr>\n",
              "      <th>2</th>\n",
              "      <td>-0.7040</td>\n",
              "      <td>-3.780000e-02</td>\n",
              "      <td>0.87100</td>\n",
              "      <td>-0.123000</td>\n",
              "      <td>3.480000e-01</td>\n",
              "      <td>-0.858000</td>\n",
              "      <td>3.950000e-02</td>\n",
              "      <td>0.33600</td>\n",
              "      <td>-4.870000e-02</td>\n",
              "      <td>2.620000e-01</td>\n",
              "      <td>...</td>\n",
              "      <td>0.5800</td>\n",
              "      <td>0.17500</td>\n",
              "      <td>-7.880000e-02</td>\n",
              "      <td>0.01860</td>\n",
              "      <td>-0.56000</td>\n",
              "      <td>6.280000e-01</td>\n",
              "      <td>-0.601000</td>\n",
              "      <td>4.270000e-01</td>\n",
              "      <td>-7.080000e-02</td>\n",
              "      <td>7.170000e-04</td>\n",
              "    </tr>\n",
              "    <tr>\n",
              "      <th>3</th>\n",
              "      <td>-0.0701</td>\n",
              "      <td>4.190000e-02</td>\n",
              "      <td>0.94500</td>\n",
              "      <td>0.285000</td>\n",
              "      <td>9.810000e-02</td>\n",
              "      <td>-1.210000</td>\n",
              "      <td>7.370000e-02</td>\n",
              "      <td>0.32200</td>\n",
              "      <td>7.970000e-04</td>\n",
              "      <td>-7.150000e-02</td>\n",
              "      <td>...</td>\n",
              "      <td>0.0799</td>\n",
              "      <td>0.02700</td>\n",
              "      <td>2.540000e-03</td>\n",
              "      <td>-0.15100</td>\n",
              "      <td>-0.38300</td>\n",
              "      <td>2.330000e-02</td>\n",
              "      <td>-0.574000</td>\n",
              "      <td>-4.110000e-03</td>\n",
              "      <td>4.690000e-10</td>\n",
              "      <td>3.940000e-20</td>\n",
              "    </tr>\n",
              "    <tr>\n",
              "      <th>4</th>\n",
              "      <td>0.3650</td>\n",
              "      <td>3.570000e-02</td>\n",
              "      <td>1.21000</td>\n",
              "      <td>0.868000</td>\n",
              "      <td>1.060000e-01</td>\n",
              "      <td>-1.380000</td>\n",
              "      <td>1.810000e-01</td>\n",
              "      <td>0.31500</td>\n",
              "      <td>3.890000e-04</td>\n",
              "      <td>-4.190000e-01</td>\n",
              "      <td>...</td>\n",
              "      <td>-0.3790</td>\n",
              "      <td>0.21700</td>\n",
              "      <td>1.380000e-03</td>\n",
              "      <td>-0.64200</td>\n",
              "      <td>-0.51500</td>\n",
              "      <td>2.550000e-02</td>\n",
              "      <td>-0.618000</td>\n",
              "      <td>-6.050000e-04</td>\n",
              "      <td>2.820000e-10</td>\n",
              "      <td>8.260000e-22</td>\n",
              "    </tr>\n",
              "  </tbody>\n",
              "</table>\n",
              "<p>5 rows × 100 columns</p>\n",
              "</div>\n",
              "      <button class=\"colab-df-convert\" onclick=\"convertToInteractive('df-8a455cf9-f97f-48da-bd3f-c86543c47077')\"\n",
              "              title=\"Convert this dataframe to an interactive table.\"\n",
              "              style=\"display:none;\">\n",
              "        \n",
              "  <svg xmlns=\"http://www.w3.org/2000/svg\" height=\"24px\"viewBox=\"0 0 24 24\"\n",
              "       width=\"24px\">\n",
              "    <path d=\"M0 0h24v24H0V0z\" fill=\"none\"/>\n",
              "    <path d=\"M18.56 5.44l.94 2.06.94-2.06 2.06-.94-2.06-.94-.94-2.06-.94 2.06-2.06.94zm-11 1L8.5 8.5l.94-2.06 2.06-.94-2.06-.94L8.5 2.5l-.94 2.06-2.06.94zm10 10l.94 2.06.94-2.06 2.06-.94-2.06-.94-.94-2.06-.94 2.06-2.06.94z\"/><path d=\"M17.41 7.96l-1.37-1.37c-.4-.4-.92-.59-1.43-.59-.52 0-1.04.2-1.43.59L10.3 9.45l-7.72 7.72c-.78.78-.78 2.05 0 2.83L4 21.41c.39.39.9.59 1.41.59.51 0 1.02-.2 1.41-.59l7.78-7.78 2.81-2.81c.8-.78.8-2.07 0-2.86zM5.41 20L4 18.59l7.72-7.72 1.47 1.35L5.41 20z\"/>\n",
              "  </svg>\n",
              "      </button>\n",
              "      \n",
              "  <style>\n",
              "    .colab-df-container {\n",
              "      display:flex;\n",
              "      flex-wrap:wrap;\n",
              "      gap: 12px;\n",
              "    }\n",
              "\n",
              "    .colab-df-convert {\n",
              "      background-color: #E8F0FE;\n",
              "      border: none;\n",
              "      border-radius: 50%;\n",
              "      cursor: pointer;\n",
              "      display: none;\n",
              "      fill: #1967D2;\n",
              "      height: 32px;\n",
              "      padding: 0 0 0 0;\n",
              "      width: 32px;\n",
              "    }\n",
              "\n",
              "    .colab-df-convert:hover {\n",
              "      background-color: #E2EBFA;\n",
              "      box-shadow: 0px 1px 2px rgba(60, 64, 67, 0.3), 0px 1px 3px 1px rgba(60, 64, 67, 0.15);\n",
              "      fill: #174EA6;\n",
              "    }\n",
              "\n",
              "    [theme=dark] .colab-df-convert {\n",
              "      background-color: #3B4455;\n",
              "      fill: #D2E3FC;\n",
              "    }\n",
              "\n",
              "    [theme=dark] .colab-df-convert:hover {\n",
              "      background-color: #434B5C;\n",
              "      box-shadow: 0px 1px 3px 1px rgba(0, 0, 0, 0.15);\n",
              "      filter: drop-shadow(0px 1px 2px rgba(0, 0, 0, 0.3));\n",
              "      fill: #FFFFFF;\n",
              "    }\n",
              "  </style>\n",
              "\n",
              "      <script>\n",
              "        const buttonEl =\n",
              "          document.querySelector('#df-8a455cf9-f97f-48da-bd3f-c86543c47077 button.colab-df-convert');\n",
              "        buttonEl.style.display =\n",
              "          google.colab.kernel.accessAllowed ? 'block' : 'none';\n",
              "\n",
              "        async function convertToInteractive(key) {\n",
              "          const element = document.querySelector('#df-8a455cf9-f97f-48da-bd3f-c86543c47077');\n",
              "          const dataTable =\n",
              "            await google.colab.kernel.invokeFunction('convertToInteractive',\n",
              "                                                     [key], {});\n",
              "          if (!dataTable) return;\n",
              "\n",
              "          const docLinkHtml = 'Like what you see? Visit the ' +\n",
              "            '<a target=\"_blank\" href=https://colab.research.google.com/notebooks/data_table.ipynb>data table notebook</a>'\n",
              "            + ' to learn more about interactive tables.';\n",
              "          element.innerHTML = '';\n",
              "          dataTable['output_type'] = 'display_data';\n",
              "          await google.colab.output.renderOutput(dataTable, element);\n",
              "          const docLink = document.createElement('div');\n",
              "          docLink.innerHTML = docLinkHtml;\n",
              "          element.appendChild(docLink);\n",
              "        }\n",
              "      </script>\n",
              "    </div>\n",
              "  </div>\n",
              "  "
            ]
          },
          "metadata": {},
          "execution_count": 9
        }
      ]
    },
    {
      "cell_type": "code",
      "source": [
        "print(f\"My dataframe has {df.shape[0]} rows ({df.shape[0]/6} objects and 6 passbands) and {df.shape[1]} columns (time points/mjd).\")"
      ],
      "metadata": {
        "colab": {
          "base_uri": "https://localhost:8080/"
        },
        "id": "9rDhwbMJIam_",
        "outputId": "90f49e91-a635-40f4-9b97-637ccfb5d1f1"
      },
      "execution_count": 10,
      "outputs": [
        {
          "output_type": "stream",
          "name": "stdout",
          "text": [
            "My dataframe has 47088 rows (7848.0 objects and 6 passbands) and 100 columns (time points/mjd).\n"
          ]
        }
      ]
    },
    {
      "cell_type": "markdown",
      "source": [
        "# 2. Build Autoencoder"
      ],
      "metadata": {
        "id": "jCB3ZGRmIzMe"
      }
    },
    {
      "cell_type": "markdown",
      "source": [
        "The goal of the autoencoder is to reproduce the time series that are provided by the plasticc challenge dataset. The neural network learns parameters that optimize recovering of the original time series from a smaller dimenional middle layer (bottleneck). The parameters are learnt uring training and then implemented during the validation (prediction) phase."
      ],
      "metadata": {
        "id": "vOyz2sELz0vv"
      }
    },
    {
      "cell_type": "code",
      "source": [
        "# split data into training and validation sets\n",
        "x_train, x_test = train_test_split(df, test_size=0.25, shuffle = True)"
      ],
      "metadata": {
        "id": "6FG9ye38JlWI"
      },
      "execution_count": 11,
      "outputs": []
    },
    {
      "cell_type": "code",
      "source": [
        "x_train.shape"
      ],
      "metadata": {
        "colab": {
          "base_uri": "https://localhost:8080/"
        },
        "id": "beeEExvWoXHn",
        "outputId": "256e9525-382d-49c3-baef-cb143b624ea5"
      },
      "execution_count": 12,
      "outputs": [
        {
          "output_type": "execute_result",
          "data": {
            "text/plain": [
              "(35316, 100)"
            ]
          },
          "metadata": {},
          "execution_count": 12
        }
      ]
    },
    {
      "cell_type": "code",
      "source": [
        "x_test.shape"
      ],
      "metadata": {
        "colab": {
          "base_uri": "https://localhost:8080/"
        },
        "id": "pxd6hwj5NrVS",
        "outputId": "aa75b651-93ae-46d0-d14f-d3e8dd4389e4"
      },
      "execution_count": 13,
      "outputs": [
        {
          "output_type": "execute_result",
          "data": {
            "text/plain": [
              "(11772, 100)"
            ]
          },
          "metadata": {},
          "execution_count": 13
        }
      ]
    },
    {
      "cell_type": "code",
      "source": [
        "# add callback\n",
        "# callback prevents overfitting. Interrupts iterations over the data when model stops improving, rather than running all specified epochs.\n",
        "callback = tf.keras.callbacks.EarlyStopping(monitor='loss', patience=5, min_delta = 0.001)"
      ],
      "metadata": {
        "id": "b3ThYs535pNI"
      },
      "execution_count": 14,
      "outputs": []
    },
    {
      "cell_type": "markdown",
      "source": [
        "The architecture chosen below is symmetric. The input layer consists of 100 nodes because the input it 100. At the end, the model expands back to 100 nodes. For the layers in between, I have tried to stick with numbers that can be expressed 2 to the power of n to increase computational power. The bottleneck layer contains the smallest number of nodes. Here, the features are most compressed."
      ],
      "metadata": {
        "id": "xuV7-DbS1eGO"
      }
    },
    {
      "cell_type": "code",
      "source": [
        "#create model\n",
        "model = Sequential()\n",
        " \n",
        "#create the model architecture by adding model layers\n",
        "input_layer = model.add(Dense(100, activation='tanh', input_shape=(100,)))\n",
        "pre_layer_1 = model.add(Dense(84, activation='tanh'))\n",
        "pre_layer_2 = model.add(Dense(64, activation='tanh'))\n",
        "bottle_neck = model.add(Dense(32, activation='tanh', name =\"bottle_neck\"))\n",
        "post_layer_1 = model.add(Dense(64, activation='tanh'))\n",
        "post_layer_2 = model.add(Dense(84, activation='tanh'))\n",
        "output_layer = model.add(Dense(100, activation='tanh'))"
      ],
      "metadata": {
        "id": "d5iLeH1jI-tg"
      },
      "execution_count": 15,
      "outputs": []
    },
    {
      "cell_type": "markdown",
      "source": [
        "The optimization scheme needs to be defined by the user. Adam is a type of gradient descent used for optimization of the parameters. Mean squared error is an appropriate loss function for regression data."
      ],
      "metadata": {
        "id": "qoTCYmuw3QxE"
      }
    },
    {
      "cell_type": "code",
      "source": [
        "# optimize\n",
        "model.compile(optimizer='adam', loss='mean_squared_error')"
      ],
      "metadata": {
        "id": "NWMlNtPR3N_1"
      },
      "execution_count": 16,
      "outputs": []
    },
    {
      "cell_type": "code",
      "source": [
        "model.summary()"
      ],
      "metadata": {
        "colab": {
          "base_uri": "https://localhost:8080/"
        },
        "id": "S7_noSQc8EP-",
        "outputId": "6008b411-4b99-485c-b1be-0c772e49775b"
      },
      "execution_count": 17,
      "outputs": [
        {
          "output_type": "stream",
          "name": "stdout",
          "text": [
            "Model: \"sequential\"\n",
            "_________________________________________________________________\n",
            " Layer (type)                Output Shape              Param #   \n",
            "=================================================================\n",
            " dense (Dense)               (None, 100)               10100     \n",
            "                                                                 \n",
            " dense_1 (Dense)             (None, 84)                8484      \n",
            "                                                                 \n",
            " dense_2 (Dense)             (None, 64)                5440      \n",
            "                                                                 \n",
            " bottle_neck (Dense)         (None, 32)                2080      \n",
            "                                                                 \n",
            " dense_3 (Dense)             (None, 64)                2112      \n",
            "                                                                 \n",
            " dense_4 (Dense)             (None, 84)                5460      \n",
            "                                                                 \n",
            " dense_5 (Dense)             (None, 100)               8500      \n",
            "                                                                 \n",
            "=================================================================\n",
            "Total params: 42,176\n",
            "Trainable params: 42,176\n",
            "Non-trainable params: 0\n",
            "_________________________________________________________________\n"
          ]
        }
      ]
    },
    {
      "cell_type": "markdown",
      "source": [
        "Fit the model"
      ],
      "metadata": {
        "id": "2z3043wc32Yt"
      }
    },
    {
      "cell_type": "code",
      "source": [
        "#need to learn what to look for - always plot the loss function!\n",
        "model2 = model.fit(x_train, x_train, validation_data=(x_test, x_test),\n",
        "                     epochs=40, batch_size=100, verbose = 1, callbacks=[callback])\n",
        "#note that the model allows to give a validation test, \n",
        "#this is for a 3fold cross valiation: train-validate-test \n",
        "#predict\n",
        "test_y_predictions = model.predict(x_test)"
      ],
      "metadata": {
        "colab": {
          "base_uri": "https://localhost:8080/"
        },
        "id": "EEIZIub5N3WT",
        "outputId": "41731e91-03b0-4bcf-f4f8-5f48ec4ed72e"
      },
      "execution_count": 18,
      "outputs": [
        {
          "output_type": "stream",
          "name": "stdout",
          "text": [
            "Epoch 1/40\n",
            "354/354 [==============================] - 3s 6ms/step - loss: 0.1666 - val_loss: 0.1448\n",
            "Epoch 2/40\n",
            "354/354 [==============================] - 2s 5ms/step - loss: 0.1400 - val_loss: 0.1385\n",
            "Epoch 3/40\n",
            "354/354 [==============================] - 2s 4ms/step - loss: 0.1359 - val_loss: 0.1364\n",
            "Epoch 4/40\n",
            "354/354 [==============================] - 2s 5ms/step - loss: 0.1340 - val_loss: 0.1349\n",
            "Epoch 5/40\n",
            "354/354 [==============================] - 2s 5ms/step - loss: 0.1329 - val_loss: 0.1342\n",
            "Epoch 6/40\n",
            "354/354 [==============================] - 2s 5ms/step - loss: 0.1322 - val_loss: 0.1338\n",
            "Epoch 7/40\n",
            "354/354 [==============================] - 2s 5ms/step - loss: 0.1318 - val_loss: 0.1335\n",
            "Epoch 8/40\n",
            "354/354 [==============================] - 2s 4ms/step - loss: 0.1314 - val_loss: 0.1332\n",
            "Epoch 9/40\n",
            "354/354 [==============================] - 2s 5ms/step - loss: 0.1310 - val_loss: 0.1328\n",
            "Epoch 10/40\n",
            "354/354 [==============================] - 2s 5ms/step - loss: 0.1308 - val_loss: 0.1326\n",
            "Epoch 11/40\n",
            "354/354 [==============================] - 2s 4ms/step - loss: 0.1305 - val_loss: 0.1324\n",
            "Epoch 12/40\n",
            "354/354 [==============================] - 2s 4ms/step - loss: 0.1302 - val_loss: 0.1323\n",
            "Epoch 13/40\n",
            "354/354 [==============================] - 2s 5ms/step - loss: 0.1300 - val_loss: 0.1321\n",
            "Epoch 14/40\n",
            "354/354 [==============================] - 2s 5ms/step - loss: 0.1298 - val_loss: 0.1320\n",
            "Epoch 15/40\n",
            "354/354 [==============================] - 2s 5ms/step - loss: 0.1296 - val_loss: 0.1317\n",
            "Epoch 16/40\n",
            "354/354 [==============================] - 2s 4ms/step - loss: 0.1295 - val_loss: 0.1315\n",
            "Epoch 17/40\n",
            "354/354 [==============================] - 2s 5ms/step - loss: 0.1293 - val_loss: 0.1312\n",
            "Epoch 18/40\n",
            "354/354 [==============================] - 2s 5ms/step - loss: 0.1290 - val_loss: 0.1312\n",
            "Epoch 19/40\n",
            "354/354 [==============================] - 2s 4ms/step - loss: 0.1289 - val_loss: 0.1311\n",
            "Epoch 20/40\n",
            "354/354 [==============================] - 2s 5ms/step - loss: 0.1286 - val_loss: 0.1308\n"
          ]
        }
      ]
    },
    {
      "cell_type": "code",
      "source": [
        "plt.figure(figsize=(8,10))\n",
        "plt.plot(model2.history['loss'])\n",
        "plt.plot(model2.history['val_loss'])\n",
        "plt.title('Loss Function', size = 18)\n",
        "plt.ylabel('loss', size = 12)\n",
        "plt.xlabel('epoch', size = 12)\n",
        "plt.legend(['train', 'test'], loc='upper right')\n",
        "plt.show()"
      ],
      "metadata": {
        "colab": {
          "base_uri": "https://localhost:8080/",
          "height": 629
        },
        "id": "lEu_bZKCf9gn",
        "outputId": "14526ae0-3536-463c-e243-bc8687897add"
      },
      "execution_count": 19,
      "outputs": [
        {
          "output_type": "display_data",
          "data": {
            "text/plain": [
              "<Figure size 576x720 with 1 Axes>"
            ],
            "image/png": "[encoded data removed]"
          },
          "metadata": {
            "needs_background": "light"
          }
        }
      ]
    },
    {
      "cell_type": "markdown",
      "source": [
        "**Fig. 1. Loss Function.** The loss function is expected to quickly decline at the beginning and to flatten after a certain point. In this model, the loss function in both training and test set exhibit this pattern. Expectedly, the training loss function starts off at a higher loss value and declines more rapidly within the first two iterations.  The loss functions converge at epoch 2. After this point, the training loss function declines at an overall lower level than the test loss function."
      ],
      "metadata": {
        "id": "2GsX2r9w34ct"
      }
    },
    {
      "cell_type": "code",
      "source": [
        "ts2plot = 12"
      ],
      "metadata": {
        "id": "ymJ5lC67ynXz"
      },
      "execution_count": 20,
      "outputs": []
    },
    {
      "cell_type": "code",
      "source": [
        "obj = int(round((35316 + ts2plot)/6,1))\n",
        "band = ((35316 + ts2plot)%6) + 1"
      ],
      "metadata": {
        "id": "E-GHLEn-zpra"
      },
      "execution_count": 21,
      "outputs": []
    },
    {
      "cell_type": "code",
      "source": [
        "plt.figure(figsize=(26,6))\n",
        "plt.plot(x_test.iloc[ts2plot], label = \"original\", linewidth = 3);\n",
        "plt.xticks(size = 8)\n",
        "plt.yticks(size = 12)\n",
        "plt.xlabel(\"Time Stamp\", size = 14)\n",
        "plt.ylabel(\"Flux (standardized)\", size = 14)\n",
        "plt.title(f\"Original Time Series\\nObject #{obj}, Passband # {band}\", size = 20)\n",
        "plt.legend();"
      ],
      "metadata": {
        "colab": {
          "base_uri": "https://localhost:8080/",
          "height": 434
        },
        "id": "LTlktxnKPbHF",
        "outputId": "63b72150-aa9d-45dd-caa5-8b2228c5aecb"
      },
      "execution_count": 22,
      "outputs": [
        {
          "output_type": "display_data",
          "data": {
            "text/plain": [
              "<Figure size 1872x432 with 1 Axes>"
            ],
            "image/png": "[encoded data removed]"
          },
          "metadata": {
            "needs_background": "light"
          }
        }
      ]
    },
    {
      "cell_type": "markdown",
      "source": [
        "**Fig. 2. Original Time Series.** This plot shows the standardized flux values (connected) from object #5888, passband #1 (purple) of the original dataset. The data used here have been observed.  The curve exhibits a sinusoidal shape with smooth troughs at time stamps 34, 61, and 92 and peaks at time stamps 48 and 76. "
      ],
      "metadata": {
        "id": "if9xuX435Mfq"
      }
    },
    {
      "cell_type": "code",
      "source": [
        "plt.figure(figsize=(26,6))\n",
        "plt.plot(test_y_predictions[ts2plot], label = \"reproduction\", color = \"purple\", linewidth = 3)\n",
        "plt.xticks(size = 12)\n",
        "plt.yticks(size = 12)\n",
        "plt.xlabel(\"Time Stamp\", size = 14)\n",
        "plt.ylabel(\"Flux (standardized)\", size = 14)\n",
        "plt.title(f\"Predicted Time Series\\nObject #{obj}, Passband # {band}\", size = 20)\n",
        "plt.legend();"
      ],
      "metadata": {
        "colab": {
          "base_uri": "https://localhost:8080/",
          "height": 438
        },
        "id": "DoTAJvZbsSnF",
        "outputId": "4ad9435e-3033-43f1-f0df-4c7cf33f207b"
      },
      "execution_count": 23,
      "outputs": [
        {
          "output_type": "display_data",
          "data": {
            "text/plain": [
              "<Figure size 1872x432 with 1 Axes>"
            ],
            "image/png": "[encoded data removed]"
          },
          "metadata": {
            "needs_background": "light"
          }
        }
      ]
    },
    {
      "cell_type": "markdown",
      "source": [
        "**Fig. 3. Predicted Time Series.** This plot shows the predicted flux values (connected) for object #5888, passband #1 (purple). The data used here have been predicted/reconstructed from the bottleneck layer. The curve exhibits a similar overall shape with sinusoidal characteristics. The troughs and peaks are less smooth, but occur at roughly the same time stamps. The reproduced time series is clearly recognizable."
      ],
      "metadata": {
        "id": "hGu42fvY5Ty0"
      }
    },
    {
      "cell_type": "markdown",
      "source": [
        "# 3. Extract Features \n",
        "A. Extract Features from Bottleneck"
      ],
      "metadata": {
        "id": "b2yPRj2FZj0D"
      }
    },
    {
      "cell_type": "code",
      "source": [
        "bottleneck_output = model.get_layer('bottle_neck').output\n",
        "model_bottleneck = Model(inputs = model.input, outputs = bottleneck_output)\n",
        "\n",
        "bottleneck_predictions = model_bottleneck.predict(df)"
      ],
      "metadata": {
        "id": "fjJ-tZy0AHZJ"
      },
      "execution_count": 24,
      "outputs": []
    },
    {
      "cell_type": "code",
      "source": [
        "bottleneck_predictions.shape"
      ],
      "metadata": {
        "colab": {
          "base_uri": "https://localhost:8080/"
        },
        "id": "XzlYOAI7GTzq",
        "outputId": "0473d131-910e-4ad2-97dd-2e8868917fa3"
      },
      "execution_count": 25,
      "outputs": [
        {
          "output_type": "execute_result",
          "data": {
            "text/plain": [
              "(47088, 32)"
            ]
          },
          "metadata": {},
          "execution_count": 25
        }
      ]
    },
    {
      "cell_type": "code",
      "source": [
        "print(f\"The shape of the bottleneck feature array is {bottleneck_predictions.shape}. This corresponds to {bottleneck_predictions.shape[0]} 7848 objects with 6 passbands each (all time series) and 32 bottleneck nodes.\")"
      ],
      "metadata": {
        "colab": {
          "base_uri": "https://localhost:8080/"
        },
        "id": "FAoPQm2k7KIj",
        "outputId": "83b13011-a230-48e2-fc5f-7884149a1935"
      },
      "execution_count": 26,
      "outputs": [
        {
          "output_type": "stream",
          "name": "stdout",
          "text": [
            "The shape of the bottleneck feature array is (47088, 32). This corresponds to 47088 7848 objects with 6 passbands each (all time series) and 32 bottleneck nodes.\n"
          ]
        }
      ]
    },
    {
      "cell_type": "code",
      "source": [
        "bottleneck_predictions[0]"
      ],
      "metadata": {
        "colab": {
          "base_uri": "https://localhost:8080/"
        },
        "id": "EzWCd_NAI4rZ",
        "outputId": "77b90115-a6e6-44a6-e6ce-1fc419042bd6"
      },
      "execution_count": 27,
      "outputs": [
        {
          "output_type": "execute_result",
          "data": {
            "text/plain": [
              "array([-2.32962873e-02, -4.86613959e-02, -1.56100085e-02,  7.29403272e-02,\n",
              "       -4.54774573e-02, -5.75051308e-02,  3.62678133e-02,  8.46893713e-02,\n",
              "       -1.10080935e-01, -4.33105684e-04,  2.95895580e-02,  1.56036047e-02,\n",
              "        9.43627134e-02, -5.37655433e-05, -2.04952285e-01,  1.12244010e-01,\n",
              "       -9.17481929e-02,  1.47761926e-01,  1.63596377e-01, -3.58859152e-02,\n",
              "        2.91218311e-02, -1.11281471e-02,  3.07734963e-02, -6.02139495e-02,\n",
              "        6.04626862e-03,  4.16812934e-02, -1.47624814e-03, -2.85773221e-02,\n",
              "        2.57056020e-02,  6.39334247e-02, -1.31434202e-01, -1.23657823e-01],\n",
              "      dtype=float32)"
            ]
          },
          "metadata": {},
          "execution_count": 27
        }
      ]
    },
    {
      "cell_type": "markdown",
      "source": [
        "B. Import Previously Extracted Features"
      ],
      "metadata": {
        "id": "ndmoTRVeJRip"
      }
    },
    {
      "cell_type": "code",
      "source": [
        "lcvs_features = pd.read_csv(\"lcvs_features.csv\")"
      ],
      "metadata": {
        "id": "Zg1YYmnLJZ2p"
      },
      "execution_count": 28,
      "outputs": []
    },
    {
      "cell_type": "code",
      "source": [
        "lcvs_features"
      ],
      "metadata": {
        "colab": {
          "base_uri": "https://localhost:8080/",
          "height": 424
        },
        "id": "cHFJntgiLte4",
        "outputId": "fcbff325-674d-4ab9-e1bf-ddd10b32854f"
      },
      "execution_count": 29,
      "outputs": [
        {
          "output_type": "execute_result",
          "data": {
            "text/plain": [
              "      object_id  passband     mins   maxs   means  means_std  maxs_std  \\\n",
              "0         615.0       0.0  -117.00  125.0   -3.25   -0.00758    0.0273   \n",
              "1         615.0       1.0 -1100.00  661.0 -386.00   -0.11100    0.1730   \n",
              "2         615.0       2.0  -682.00  612.0 -134.00   -0.04310    0.1590   \n",
              "3         615.0       3.0  -531.00  446.0 -121.00   -0.03960    0.1140   \n",
              "4         615.0       4.0  -422.00  382.0  -56.00   -0.02190    0.0970   \n",
              "...         ...       ...      ...    ...     ...        ...       ...   \n",
              "7843   214000.0       1.0    -4.06  103.0    6.04   -0.00506    0.0213   \n",
              "7844   214000.0       2.0    -3.71  150.0   11.50   -0.00359    0.0340   \n",
              "7845   214000.0       3.0    -3.36  134.0   14.90   -0.00267    0.0296   \n",
              "7846   214000.0       4.0    -7.01  118.0   14.10   -0.00287    0.0253   \n",
              "7847   214000.0       5.0   -10.10  102.0   12.10   -0.00342    0.0210   \n",
              "\n",
              "        s_std  median_std   decl  \n",
              "0     0.02280    -0.00942 -61.90  \n",
              "1     0.16300    -0.13900 -27.80  \n",
              "2     0.12400    -0.07880  -6.58  \n",
              "3     0.09100    -0.05070 -45.60  \n",
              "4     0.07920    -0.03480 -63.80  \n",
              "...       ...         ...    ...  \n",
              "7843  0.00531    -0.00654 -14.90  \n",
              "7844  0.00825    -0.00651 -62.70  \n",
              "7845  0.00870    -0.00646 -55.70  \n",
              "7846  0.00806    -0.00653 -35.50  \n",
              "7847  0.00664    -0.00596 -17.40  \n",
              "\n",
              "[7848 rows x 10 columns]"
            ],
            "text/html": [
              "\n",
              "  <div id=\"df-2bb4d422-e8e4-44e8-af6e-d5c330dd711f\">\n",
              "    <div class=\"colab-df-container\">\n",
              "      <div>\n",
              "<style scoped>\n",
              "    .dataframe tbody tr th:only-of-type {\n",
              "        vertical-align: middle;\n",
              "    }\n",
              "\n",
              "    .dataframe tbody tr th {\n",
              "        vertical-align: top;\n",
              "    }\n",
              "\n",
              "    .dataframe thead th {\n",
              "        text-align: right;\n",
              "    }\n",
              "</style>\n",
              "<table border=\"1\" class=\"dataframe\">\n",
              "  <thead>\n",
              "    <tr style=\"text-align: right;\">\n",
              "      <th></th>\n",
              "      <th>object_id</th>\n",
              "      <th>passband</th>\n",
              "      <th>mins</th>\n",
              "      <th>maxs</th>\n",
              "      <th>means</th>\n",
              "      <th>means_std</th>\n",
              "      <th>maxs_std</th>\n",
              "      <th>s_std</th>\n",
              "      <th>median_std</th>\n",
              "      <th>decl</th>\n",
              "    </tr>\n",
              "  </thead>\n",
              "  <tbody>\n",
              "    <tr>\n",
              "      <th>0</th>\n",
              "      <td>615.0</td>\n",
              "      <td>0.0</td>\n",
              "      <td>-117.00</td>\n",
              "      <td>125.0</td>\n",
              "      <td>-3.25</td>\n",
              "      <td>-0.00758</td>\n",
              "      <td>0.0273</td>\n",
              "      <td>0.02280</td>\n",
              "      <td>-0.00942</td>\n",
              "      <td>-61.90</td>\n",
              "    </tr>\n",
              "    <tr>\n",
              "      <th>1</th>\n",
              "      <td>615.0</td>\n",
              "      <td>1.0</td>\n",
              "      <td>-1100.00</td>\n",
              "      <td>661.0</td>\n",
              "      <td>-386.00</td>\n",
              "      <td>-0.11100</td>\n",
              "      <td>0.1730</td>\n",
              "      <td>0.16300</td>\n",
              "      <td>-0.13900</td>\n",
              "      <td>-27.80</td>\n",
              "    </tr>\n",
              "    <tr>\n",
              "      <th>2</th>\n",
              "      <td>615.0</td>\n",
              "      <td>2.0</td>\n",
              "      <td>-682.00</td>\n",
              "      <td>612.0</td>\n",
              "      <td>-134.00</td>\n",
              "      <td>-0.04310</td>\n",
              "      <td>0.1590</td>\n",
              "      <td>0.12400</td>\n",
              "      <td>-0.07880</td>\n",
              "      <td>-6.58</td>\n",
              "    </tr>\n",
              "    <tr>\n",
              "      <th>3</th>\n",
              "      <td>615.0</td>\n",
              "      <td>3.0</td>\n",
              "      <td>-531.00</td>\n",
              "      <td>446.0</td>\n",
              "      <td>-121.00</td>\n",
              "      <td>-0.03960</td>\n",
              "      <td>0.1140</td>\n",
              "      <td>0.09100</td>\n",
              "      <td>-0.05070</td>\n",
              "      <td>-45.60</td>\n",
              "    </tr>\n",
              "    <tr>\n",
              "      <th>4</th>\n",
              "      <td>615.0</td>\n",
              "      <td>4.0</td>\n",
              "      <td>-422.00</td>\n",
              "      <td>382.0</td>\n",
              "      <td>-56.00</td>\n",
              "      <td>-0.02190</td>\n",
              "      <td>0.0970</td>\n",
              "      <td>0.07920</td>\n",
              "      <td>-0.03480</td>\n",
              "      <td>-63.80</td>\n",
              "    </tr>\n",
              "    <tr>\n",
              "      <th>...</th>\n",
              "      <td>...</td>\n",
              "      <td>...</td>\n",
              "      <td>...</td>\n",
              "      <td>...</td>\n",
              "      <td>...</td>\n",
              "      <td>...</td>\n",
              "      <td>...</td>\n",
              "      <td>...</td>\n",
              "      <td>...</td>\n",
              "      <td>...</td>\n",
              "    </tr>\n",
              "    <tr>\n",
              "      <th>7843</th>\n",
              "      <td>214000.0</td>\n",
              "      <td>1.0</td>\n",
              "      <td>-4.06</td>\n",
              "      <td>103.0</td>\n",
              "      <td>6.04</td>\n",
              "      <td>-0.00506</td>\n",
              "      <td>0.0213</td>\n",
              "      <td>0.00531</td>\n",
              "      <td>-0.00654</td>\n",
              "      <td>-14.90</td>\n",
              "    </tr>\n",
              "    <tr>\n",
              "      <th>7844</th>\n",
              "      <td>214000.0</td>\n",
              "      <td>2.0</td>\n",
              "      <td>-3.71</td>\n",
              "      <td>150.0</td>\n",
              "      <td>11.50</td>\n",
              "      <td>-0.00359</td>\n",
              "      <td>0.0340</td>\n",
              "      <td>0.00825</td>\n",
              "      <td>-0.00651</td>\n",
              "      <td>-62.70</td>\n",
              "    </tr>\n",
              "    <tr>\n",
              "      <th>7845</th>\n",
              "      <td>214000.0</td>\n",
              "      <td>3.0</td>\n",
              "      <td>-3.36</td>\n",
              "      <td>134.0</td>\n",
              "      <td>14.90</td>\n",
              "      <td>-0.00267</td>\n",
              "      <td>0.0296</td>\n",
              "      <td>0.00870</td>\n",
              "      <td>-0.00646</td>\n",
              "      <td>-55.70</td>\n",
              "    </tr>\n",
              "    <tr>\n",
              "      <th>7846</th>\n",
              "      <td>214000.0</td>\n",
              "      <td>4.0</td>\n",
              "      <td>-7.01</td>\n",
              "      <td>118.0</td>\n",
              "      <td>14.10</td>\n",
              "      <td>-0.00287</td>\n",
              "      <td>0.0253</td>\n",
              "      <td>0.00806</td>\n",
              "      <td>-0.00653</td>\n",
              "      <td>-35.50</td>\n",
              "    </tr>\n",
              "    <tr>\n",
              "      <th>7847</th>\n",
              "      <td>214000.0</td>\n",
              "      <td>5.0</td>\n",
              "      <td>-10.10</td>\n",
              "      <td>102.0</td>\n",
              "      <td>12.10</td>\n",
              "      <td>-0.00342</td>\n",
              "      <td>0.0210</td>\n",
              "      <td>0.00664</td>\n",
              "      <td>-0.00596</td>\n",
              "      <td>-17.40</td>\n",
              "    </tr>\n",
              "  </tbody>\n",
              "</table>\n",
              "<p>7848 rows × 10 columns</p>\n",
              "</div>\n",
              "      <button class=\"colab-df-convert\" onclick=\"convertToInteractive('df-2bb4d422-e8e4-44e8-af6e-d5c330dd711f')\"\n",
              "              title=\"Convert this dataframe to an interactive table.\"\n",
              "              style=\"display:none;\">\n",
              "        \n",
              "  <svg xmlns=\"http://www.w3.org/2000/svg\" height=\"24px\"viewBox=\"0 0 24 24\"\n",
              "       width=\"24px\">\n",
              "    <path d=\"M0 0h24v24H0V0z\" fill=\"none\"/>\n",
              "    <path d=\"M18.56 5.44l.94 2.06.94-2.06 2.06-.94-2.06-.94-.94-2.06-.94 2.06-2.06.94zm-11 1L8.5 8.5l.94-2.06 2.06-.94-2.06-.94L8.5 2.5l-.94 2.06-2.06.94zm10 10l.94 2.06.94-2.06 2.06-.94-2.06-.94-.94-2.06-.94 2.06-2.06.94z\"/><path d=\"M17.41 7.96l-1.37-1.37c-.4-.4-.92-.59-1.43-.59-.52 0-1.04.2-1.43.59L10.3 9.45l-7.72 7.72c-.78.78-.78 2.05 0 2.83L4 21.41c.39.39.9.59 1.41.59.51 0 1.02-.2 1.41-.59l7.78-7.78 2.81-2.81c.8-.78.8-2.07 0-2.86zM5.41 20L4 18.59l7.72-7.72 1.47 1.35L5.41 20z\"/>\n",
              "  </svg>\n",
              "      </button>\n",
              "      \n",
              "  <style>\n",
              "    .colab-df-container {\n",
              "      display:flex;\n",
              "      flex-wrap:wrap;\n",
              "      gap: 12px;\n",
              "    }\n",
              "\n",
              "    .colab-df-convert {\n",
              "      background-color: #E8F0FE;\n",
              "      border: none;\n",
              "      border-radius: 50%;\n",
              "      cursor: pointer;\n",
              "      display: none;\n",
              "      fill: #1967D2;\n",
              "      height: 32px;\n",
              "      padding: 0 0 0 0;\n",
              "      width: 32px;\n",
              "    }\n",
              "\n",
              "    .colab-df-convert:hover {\n",
              "      background-color: #E2EBFA;\n",
              "      box-shadow: 0px 1px 2px rgba(60, 64, 67, 0.3), 0px 1px 3px 1px rgba(60, 64, 67, 0.15);\n",
              "      fill: #174EA6;\n",
              "    }\n",
              "\n",
              "    [theme=dark] .colab-df-convert {\n",
              "      background-color: #3B4455;\n",
              "      fill: #D2E3FC;\n",
              "    }\n",
              "\n",
              "    [theme=dark] .colab-df-convert:hover {\n",
              "      background-color: #434B5C;\n",
              "      box-shadow: 0px 1px 3px 1px rgba(0, 0, 0, 0.15);\n",
              "      filter: drop-shadow(0px 1px 2px rgba(0, 0, 0, 0.3));\n",
              "      fill: #FFFFFF;\n",
              "    }\n",
              "  </style>\n",
              "\n",
              "      <script>\n",
              "        const buttonEl =\n",
              "          document.querySelector('#df-2bb4d422-e8e4-44e8-af6e-d5c330dd711f button.colab-df-convert');\n",
              "        buttonEl.style.display =\n",
              "          google.colab.kernel.accessAllowed ? 'block' : 'none';\n",
              "\n",
              "        async function convertToInteractive(key) {\n",
              "          const element = document.querySelector('#df-2bb4d422-e8e4-44e8-af6e-d5c330dd711f');\n",
              "          const dataTable =\n",
              "            await google.colab.kernel.invokeFunction('convertToInteractive',\n",
              "                                                     [key], {});\n",
              "          if (!dataTable) return;\n",
              "\n",
              "          const docLinkHtml = 'Like what you see? Visit the ' +\n",
              "            '<a target=\"_blank\" href=https://colab.research.google.com/notebooks/data_table.ipynb>data table notebook</a>'\n",
              "            + ' to learn more about interactive tables.';\n",
              "          element.innerHTML = '';\n",
              "          dataTable['output_type'] = 'display_data';\n",
              "          await google.colab.output.renderOutput(dataTable, element);\n",
              "          const docLink = document.createElement('div');\n",
              "          docLink.innerHTML = docLinkHtml;\n",
              "          element.appendChild(docLink);\n",
              "        }\n",
              "      </script>\n",
              "    </div>\n",
              "  </div>\n",
              "  "
            ]
          },
          "metadata": {},
          "execution_count": 29
        }
      ]
    },
    {
      "cell_type": "markdown",
      "source": [
        "C. Combine Bottleneck Features and Previously Extracted Features"
      ],
      "metadata": {
        "id": "AO0T3WuBPdVv"
      }
    },
    {
      "cell_type": "code",
      "source": [
        "# reshape to match the feature dataframe\n",
        "bottleneck_predictions = bottleneck_predictions.reshape(7848, bottleneck_predictions.shape[1] * 6)"
      ],
      "metadata": {
        "id": "nzxa4616d-vY"
      },
      "execution_count": 30,
      "outputs": []
    },
    {
      "cell_type": "code",
      "source": [
        "# convert to dataframe to match feature dataframe\n",
        "bottleneck_predictions = pd.DataFrame(bottleneck_predictions)"
      ],
      "metadata": {
        "id": "NL--CxHbeIEB"
      },
      "execution_count": 31,
      "outputs": []
    },
    {
      "cell_type": "code",
      "source": [
        "bottleneck_predictions.shape"
      ],
      "metadata": {
        "colab": {
          "base_uri": "https://localhost:8080/"
        },
        "id": "KisSH0hydS0Y",
        "outputId": "b8ffe0b8-a047-4674-f6df-1933fcae873e"
      },
      "execution_count": 32,
      "outputs": [
        {
          "output_type": "execute_result",
          "data": {
            "text/plain": [
              "(7848, 192)"
            ]
          },
          "metadata": {},
          "execution_count": 32
        }
      ]
    },
    {
      "cell_type": "code",
      "source": [
        "#combine\n",
        "features = pd.concat([lcvs_features, bottleneck_predictions], axis = 1)"
      ],
      "metadata": {
        "id": "OwJehknreNo4"
      },
      "execution_count": 33,
      "outputs": []
    },
    {
      "cell_type": "code",
      "source": [
        "features"
      ],
      "metadata": {
        "colab": {
          "base_uri": "https://localhost:8080/",
          "height": 424
        },
        "id": "ZVnfsJb8eRD4",
        "outputId": "111105a7-c5de-43c2-ce6c-1df46ab2e820"
      },
      "execution_count": 34,
      "outputs": [
        {
          "output_type": "execute_result",
          "data": {
            "text/plain": [
              "      object_id  passband     mins   maxs   means  means_std  maxs_std  \\\n",
              "0         615.0       0.0  -117.00  125.0   -3.25   -0.00758    0.0273   \n",
              "1         615.0       1.0 -1100.00  661.0 -386.00   -0.11100    0.1730   \n",
              "2         615.0       2.0  -682.00  612.0 -134.00   -0.04310    0.1590   \n",
              "3         615.0       3.0  -531.00  446.0 -121.00   -0.03960    0.1140   \n",
              "4         615.0       4.0  -422.00  382.0  -56.00   -0.02190    0.0970   \n",
              "...         ...       ...      ...    ...     ...        ...       ...   \n",
              "7843   214000.0       1.0    -4.06  103.0    6.04   -0.00506    0.0213   \n",
              "7844   214000.0       2.0    -3.71  150.0   11.50   -0.00359    0.0340   \n",
              "7845   214000.0       3.0    -3.36  134.0   14.90   -0.00267    0.0296   \n",
              "7846   214000.0       4.0    -7.01  118.0   14.10   -0.00287    0.0253   \n",
              "7847   214000.0       5.0   -10.10  102.0   12.10   -0.00342    0.0210   \n",
              "\n",
              "        s_std  median_std   decl  ...       182       183       184       185  \\\n",
              "0     0.02280    -0.00942 -61.90  ... -0.040837 -0.017377  0.083610 -0.059907   \n",
              "1     0.16300    -0.13900 -27.80  ... -0.036405 -0.007535 -0.017518  0.196286   \n",
              "2     0.12400    -0.07880  -6.58  ...  0.036996  0.082932  0.071633  0.010525   \n",
              "3     0.09100    -0.05070 -45.60  ...  0.333282  0.166889 -0.132357 -0.118560   \n",
              "4     0.07920    -0.03480 -63.80  ...  0.094829  0.092890 -0.013877 -0.128550   \n",
              "...       ...         ...    ...  ...       ...       ...       ...       ...   \n",
              "7843  0.00531    -0.00654 -14.90  ... -0.008664 -0.022963 -0.057014 -0.024975   \n",
              "7844  0.00825    -0.00651 -62.70  ... -0.001498 -0.053751 -0.039592  0.067909   \n",
              "7845  0.00870    -0.00646 -55.70  ...  0.018714 -0.019179  0.008536 -0.022728   \n",
              "7846  0.00806    -0.00653 -35.50  ...  0.058918 -0.211215 -0.272268  0.026351   \n",
              "7847  0.00664    -0.00596 -17.40  ...  0.023685  0.021509 -0.037178 -0.089633   \n",
              "\n",
              "           186       187       188       189       190       191  \n",
              "0     0.015354  0.096085 -0.020603  0.001984  0.036277 -0.000717  \n",
              "1     0.151140  0.018135 -0.053434  0.148447 -0.144402  0.045652  \n",
              "2     0.022713 -0.074560  0.042405  0.102774 -0.026638  0.014130  \n",
              "3    -0.022428  0.060652  0.155414  0.081157  0.063896  0.217999  \n",
              "4     0.129906 -0.116467  0.032535  0.169821 -0.152727 -0.206827  \n",
              "...        ...       ...       ...       ...       ...       ...  \n",
              "7843  0.075525 -0.024719 -0.092403  0.064652 -0.026554  0.045109  \n",
              "7844  0.024867  0.033923 -0.034444  0.101126  0.046161 -0.019870  \n",
              "7845  0.021104 -0.043743  0.020561 -0.061833 -0.053415  0.000290  \n",
              "7846  0.107296 -0.078389 -0.166849 -0.185793 -0.020801 -0.250737  \n",
              "7847  0.000129  0.057913 -0.108562 -0.070696 -0.063175 -0.058077  \n",
              "\n",
              "[7848 rows x 202 columns]"
            ],
            "text/html": [
              "\n",
              "  <div id=\"df-ff8eb2b9-3d71-401e-9791-1318d89611ca\">\n",
              "    <div class=\"colab-df-container\">\n",
              "      <div>\n",
              "<style scoped>\n",
              "    .dataframe tbody tr th:only-of-type {\n",
              "        vertical-align: middle;\n",
              "    }\n",
              "\n",
              "    .dataframe tbody tr th {\n",
              "        vertical-align: top;\n",
              "    }\n",
              "\n",
              "    .dataframe thead th {\n",
              "        text-align: right;\n",
              "    }\n",
              "</style>\n",
              "<table border=\"1\" class=\"dataframe\">\n",
              "  <thead>\n",
              "    <tr style=\"text-align: right;\">\n",
              "      <th></th>\n",
              "      <th>object_id</th>\n",
              "      <th>passband</th>\n",
              "      <th>mins</th>\n",
              "      <th>maxs</th>\n",
              "      <th>means</th>\n",
              "      <th>means_std</th>\n",
              "      <th>maxs_std</th>\n",
              "      <th>s_std</th>\n",
              "      <th>median_std</th>\n",
              "      <th>decl</th>\n",
              "      <th>...</th>\n",
              "      <th>182</th>\n",
              "      <th>183</th>\n",
              "      <th>184</th>\n",
              "      <th>185</th>\n",
              "      <th>186</th>\n",
              "      <th>187</th>\n",
              "      <th>188</th>\n",
              "      <th>189</th>\n",
              "      <th>190</th>\n",
              "      <th>191</th>\n",
              "    </tr>\n",
              "  </thead>\n",
              "  <tbody>\n",
              "    <tr>\n",
              "      <th>0</th>\n",
              "      <td>615.0</td>\n",
              "      <td>0.0</td>\n",
              "      <td>-117.00</td>\n",
              "      <td>125.0</td>\n",
              "      <td>-3.25</td>\n",
              "      <td>-0.00758</td>\n",
              "      <td>0.0273</td>\n",
              "      <td>0.02280</td>\n",
              "      <td>-0.00942</td>\n",
              "      <td>-61.90</td>\n",
              "      <td>...</td>\n",
              "      <td>-0.040837</td>\n",
              "      <td>-0.017377</td>\n",
              "      <td>0.083610</td>\n",
              "      <td>-0.059907</td>\n",
              "      <td>0.015354</td>\n",
              "      <td>0.096085</td>\n",
              "      <td>-0.020603</td>\n",
              "      <td>0.001984</td>\n",
              "      <td>0.036277</td>\n",
              "      <td>-0.000717</td>\n",
              "    </tr>\n",
              "    <tr>\n",
              "      <th>1</th>\n",
              "      <td>615.0</td>\n",
              "      <td>1.0</td>\n",
              "      <td>-1100.00</td>\n",
              "      <td>661.0</td>\n",
              "      <td>-386.00</td>\n",
              "      <td>-0.11100</td>\n",
              "      <td>0.1730</td>\n",
              "      <td>0.16300</td>\n",
              "      <td>-0.13900</td>\n",
              "      <td>-27.80</td>\n",
              "      <td>...</td>\n",
              "      <td>-0.036405</td>\n",
              "      <td>-0.007535</td>\n",
              "      <td>-0.017518</td>\n",
              "      <td>0.196286</td>\n",
              "      <td>0.151140</td>\n",
              "      <td>0.018135</td>\n",
              "      <td>-0.053434</td>\n",
              "      <td>0.148447</td>\n",
              "      <td>-0.144402</td>\n",
              "      <td>0.045652</td>\n",
              "    </tr>\n",
              "    <tr>\n",
              "      <th>2</th>\n",
              "      <td>615.0</td>\n",
              "      <td>2.0</td>\n",
              "      <td>-682.00</td>\n",
              "      <td>612.0</td>\n",
              "      <td>-134.00</td>\n",
              "      <td>-0.04310</td>\n",
              "      <td>0.1590</td>\n",
              "      <td>0.12400</td>\n",
              "      <td>-0.07880</td>\n",
              "      <td>-6.58</td>\n",
              "      <td>...</td>\n",
              "      <td>0.036996</td>\n",
              "      <td>0.082932</td>\n",
              "      <td>0.071633</td>\n",
              "      <td>0.010525</td>\n",
              "      <td>0.022713</td>\n",
              "      <td>-0.074560</td>\n",
              "      <td>0.042405</td>\n",
              "      <td>0.102774</td>\n",
              "      <td>-0.026638</td>\n",
              "      <td>0.014130</td>\n",
              "    </tr>\n",
              "    <tr>\n",
              "      <th>3</th>\n",
              "      <td>615.0</td>\n",
              "      <td>3.0</td>\n",
              "      <td>-531.00</td>\n",
              "      <td>446.0</td>\n",
              "      <td>-121.00</td>\n",
              "      <td>-0.03960</td>\n",
              "      <td>0.1140</td>\n",
              "      <td>0.09100</td>\n",
              "      <td>-0.05070</td>\n",
              "      <td>-45.60</td>\n",
              "      <td>...</td>\n",
              "      <td>0.333282</td>\n",
              "      <td>0.166889</td>\n",
              "      <td>-0.132357</td>\n",
              "      <td>-0.118560</td>\n",
              "      <td>-0.022428</td>\n",
              "      <td>0.060652</td>\n",
              "      <td>0.155414</td>\n",
              "      <td>0.081157</td>\n",
              "      <td>0.063896</td>\n",
              "      <td>0.217999</td>\n",
              "    </tr>\n",
              "    <tr>\n",
              "      <th>4</th>\n",
              "      <td>615.0</td>\n",
              "      <td>4.0</td>\n",
              "      <td>-422.00</td>\n",
              "      <td>382.0</td>\n",
              "      <td>-56.00</td>\n",
              "      <td>-0.02190</td>\n",
              "      <td>0.0970</td>\n",
              "      <td>0.07920</td>\n",
              "      <td>-0.03480</td>\n",
              "      <td>-63.80</td>\n",
              "      <td>...</td>\n",
              "      <td>0.094829</td>\n",
              "      <td>0.092890</td>\n",
              "      <td>-0.013877</td>\n",
              "      <td>-0.128550</td>\n",
              "      <td>0.129906</td>\n",
              "      <td>-0.116467</td>\n",
              "      <td>0.032535</td>\n",
              "      <td>0.169821</td>\n",
              "      <td>-0.152727</td>\n",
              "      <td>-0.206827</td>\n",
              "    </tr>\n",
              "    <tr>\n",
              "      <th>...</th>\n",
              "      <td>...</td>\n",
              "      <td>...</td>\n",
              "      <td>...</td>\n",
              "      <td>...</td>\n",
              "      <td>...</td>\n",
              "      <td>...</td>\n",
              "      <td>...</td>\n",
              "      <td>...</td>\n",
              "      <td>...</td>\n",
              "      <td>...</td>\n",
              "      <td>...</td>\n",
              "      <td>...</td>\n",
              "      <td>...</td>\n",
              "      <td>...</td>\n",
              "      <td>...</td>\n",
              "      <td>...</td>\n",
              "      <td>...</td>\n",
              "      <td>...</td>\n",
              "      <td>...</td>\n",
              "      <td>...</td>\n",
              "      <td>...</td>\n",
              "    </tr>\n",
              "    <tr>\n",
              "      <th>7843</th>\n",
              "      <td>214000.0</td>\n",
              "      <td>1.0</td>\n",
              "      <td>-4.06</td>\n",
              "      <td>103.0</td>\n",
              "      <td>6.04</td>\n",
              "      <td>-0.00506</td>\n",
              "      <td>0.0213</td>\n",
              "      <td>0.00531</td>\n",
              "      <td>-0.00654</td>\n",
              "      <td>-14.90</td>\n",
              "      <td>...</td>\n",
              "      <td>-0.008664</td>\n",
              "      <td>-0.022963</td>\n",
              "      <td>-0.057014</td>\n",
              "      <td>-0.024975</td>\n",
              "      <td>0.075525</td>\n",
              "      <td>-0.024719</td>\n",
              "      <td>-0.092403</td>\n",
              "      <td>0.064652</td>\n",
              "      <td>-0.026554</td>\n",
              "      <td>0.045109</td>\n",
              "    </tr>\n",
              "    <tr>\n",
              "      <th>7844</th>\n",
              "      <td>214000.0</td>\n",
              "      <td>2.0</td>\n",
              "      <td>-3.71</td>\n",
              "      <td>150.0</td>\n",
              "      <td>11.50</td>\n",
              "      <td>-0.00359</td>\n",
              "      <td>0.0340</td>\n",
              "      <td>0.00825</td>\n",
              "      <td>-0.00651</td>\n",
              "      <td>-62.70</td>\n",
              "      <td>...</td>\n",
              "      <td>-0.001498</td>\n",
              "      <td>-0.053751</td>\n",
              "      <td>-0.039592</td>\n",
              "      <td>0.067909</td>\n",
              "      <td>0.024867</td>\n",
              "      <td>0.033923</td>\n",
              "      <td>-0.034444</td>\n",
              "      <td>0.101126</td>\n",
              "      <td>0.046161</td>\n",
              "      <td>-0.019870</td>\n",
              "    </tr>\n",
              "    <tr>\n",
              "      <th>7845</th>\n",
              "      <td>214000.0</td>\n",
              "      <td>3.0</td>\n",
              "      <td>-3.36</td>\n",
              "      <td>134.0</td>\n",
              "      <td>14.90</td>\n",
              "      <td>-0.00267</td>\n",
              "      <td>0.0296</td>\n",
              "      <td>0.00870</td>\n",
              "      <td>-0.00646</td>\n",
              "      <td>-55.70</td>\n",
              "      <td>...</td>\n",
              "      <td>0.018714</td>\n",
              "      <td>-0.019179</td>\n",
              "      <td>0.008536</td>\n",
              "      <td>-0.022728</td>\n",
              "      <td>0.021104</td>\n",
              "      <td>-0.043743</td>\n",
              "      <td>0.020561</td>\n",
              "      <td>-0.061833</td>\n",
              "      <td>-0.053415</td>\n",
              "      <td>0.000290</td>\n",
              "    </tr>\n",
              "    <tr>\n",
              "      <th>7846</th>\n",
              "      <td>214000.0</td>\n",
              "      <td>4.0</td>\n",
              "      <td>-7.01</td>\n",
              "      <td>118.0</td>\n",
              "      <td>14.10</td>\n",
              "      <td>-0.00287</td>\n",
              "      <td>0.0253</td>\n",
              "      <td>0.00806</td>\n",
              "      <td>-0.00653</td>\n",
              "      <td>-35.50</td>\n",
              "      <td>...</td>\n",
              "      <td>0.058918</td>\n",
              "      <td>-0.211215</td>\n",
              "      <td>-0.272268</td>\n",
              "      <td>0.026351</td>\n",
              "      <td>0.107296</td>\n",
              "      <td>-0.078389</td>\n",
              "      <td>-0.166849</td>\n",
              "      <td>-0.185793</td>\n",
              "      <td>-0.020801</td>\n",
              "      <td>-0.250737</td>\n",
              "    </tr>\n",
              "    <tr>\n",
              "      <th>7847</th>\n",
              "      <td>214000.0</td>\n",
              "      <td>5.0</td>\n",
              "      <td>-10.10</td>\n",
              "      <td>102.0</td>\n",
              "      <td>12.10</td>\n",
              "      <td>-0.00342</td>\n",
              "      <td>0.0210</td>\n",
              "      <td>0.00664</td>\n",
              "      <td>-0.00596</td>\n",
              "      <td>-17.40</td>\n",
              "      <td>...</td>\n",
              "      <td>0.023685</td>\n",
              "      <td>0.021509</td>\n",
              "      <td>-0.037178</td>\n",
              "      <td>-0.089633</td>\n",
              "      <td>0.000129</td>\n",
              "      <td>0.057913</td>\n",
              "      <td>-0.108562</td>\n",
              "      <td>-0.070696</td>\n",
              "      <td>-0.063175</td>\n",
              "      <td>-0.058077</td>\n",
              "    </tr>\n",
              "  </tbody>\n",
              "</table>\n",
              "<p>7848 rows × 202 columns</p>\n",
              "</div>\n",
              "      <button class=\"colab-df-convert\" onclick=\"convertToInteractive('df-ff8eb2b9-3d71-401e-9791-1318d89611ca')\"\n",
              "              title=\"Convert this dataframe to an interactive table.\"\n",
              "              style=\"display:none;\">\n",
              "        \n",
              "  <svg xmlns=\"http://www.w3.org/2000/svg\" height=\"24px\"viewBox=\"0 0 24 24\"\n",
              "       width=\"24px\">\n",
              "    <path d=\"M0 0h24v24H0V0z\" fill=\"none\"/>\n",
              "    <path d=\"M18.56 5.44l.94 2.06.94-2.06 2.06-.94-2.06-.94-.94-2.06-.94 2.06-2.06.94zm-11 1L8.5 8.5l.94-2.06 2.06-.94-2.06-.94L8.5 2.5l-.94 2.06-2.06.94zm10 10l.94 2.06.94-2.06 2.06-.94-2.06-.94-.94-2.06-.94 2.06-2.06.94z\"/><path d=\"M17.41 7.96l-1.37-1.37c-.4-.4-.92-.59-1.43-.59-.52 0-1.04.2-1.43.59L10.3 9.45l-7.72 7.72c-.78.78-.78 2.05 0 2.83L4 21.41c.39.39.9.59 1.41.59.51 0 1.02-.2 1.41-.59l7.78-7.78 2.81-2.81c.8-.78.8-2.07 0-2.86zM5.41 20L4 18.59l7.72-7.72 1.47 1.35L5.41 20z\"/>\n",
              "  </svg>\n",
              "      </button>\n",
              "      \n",
              "  <style>\n",
              "    .colab-df-container {\n",
              "      display:flex;\n",
              "      flex-wrap:wrap;\n",
              "      gap: 12px;\n",
              "    }\n",
              "\n",
              "    .colab-df-convert {\n",
              "      background-color: #E8F0FE;\n",
              "      border: none;\n",
              "      border-radius: 50%;\n",
              "      cursor: pointer;\n",
              "      display: none;\n",
              "      fill: #1967D2;\n",
              "      height: 32px;\n",
              "      padding: 0 0 0 0;\n",
              "      width: 32px;\n",
              "    }\n",
              "\n",
              "    .colab-df-convert:hover {\n",
              "      background-color: #E2EBFA;\n",
              "      box-shadow: 0px 1px 2px rgba(60, 64, 67, 0.3), 0px 1px 3px 1px rgba(60, 64, 67, 0.15);\n",
              "      fill: #174EA6;\n",
              "    }\n",
              "\n",
              "    [theme=dark] .colab-df-convert {\n",
              "      background-color: #3B4455;\n",
              "      fill: #D2E3FC;\n",
              "    }\n",
              "\n",
              "    [theme=dark] .colab-df-convert:hover {\n",
              "      background-color: #434B5C;\n",
              "      box-shadow: 0px 1px 3px 1px rgba(0, 0, 0, 0.15);\n",
              "      filter: drop-shadow(0px 1px 2px rgba(0, 0, 0, 0.3));\n",
              "      fill: #FFFFFF;\n",
              "    }\n",
              "  </style>\n",
              "\n",
              "      <script>\n",
              "        const buttonEl =\n",
              "          document.querySelector('#df-ff8eb2b9-3d71-401e-9791-1318d89611ca button.colab-df-convert');\n",
              "        buttonEl.style.display =\n",
              "          google.colab.kernel.accessAllowed ? 'block' : 'none';\n",
              "\n",
              "        async function convertToInteractive(key) {\n",
              "          const element = document.querySelector('#df-ff8eb2b9-3d71-401e-9791-1318d89611ca');\n",
              "          const dataTable =\n",
              "            await google.colab.kernel.invokeFunction('convertToInteractive',\n",
              "                                                     [key], {});\n",
              "          if (!dataTable) return;\n",
              "\n",
              "          const docLinkHtml = 'Like what you see? Visit the ' +\n",
              "            '<a target=\"_blank\" href=https://colab.research.google.com/notebooks/data_table.ipynb>data table notebook</a>'\n",
              "            + ' to learn more about interactive tables.';\n",
              "          element.innerHTML = '';\n",
              "          dataTable['output_type'] = 'display_data';\n",
              "          await google.colab.output.renderOutput(dataTable, element);\n",
              "          const docLink = document.createElement('div');\n",
              "          docLink.innerHTML = docLinkHtml;\n",
              "          element.appendChild(docLink);\n",
              "        }\n",
              "      </script>\n",
              "    </div>\n",
              "  </div>\n",
              "  "
            ]
          },
          "metadata": {},
          "execution_count": 34
        }
      ]
    },
    {
      "cell_type": "code",
      "source": [
        "features.columns = features.columns.astype(str)"
      ],
      "metadata": {
        "id": "v53FnaRwqtR6"
      },
      "execution_count": 35,
      "outputs": []
    },
    {
      "cell_type": "markdown",
      "source": [
        "# 4. Random Forest Classification\n",
        "A. Import targets from metadata"
      ],
      "metadata": {
        "id": "TiQDhQQWZykB"
      }
    },
    {
      "cell_type": "code",
      "source": [
        "df_meta = pd.read_csv(\"plasticc_train_metadata.csv.gz\")"
      ],
      "metadata": {
        "id": "63ZU4btA3D2R"
      },
      "execution_count": 36,
      "outputs": []
    },
    {
      "cell_type": "code",
      "source": [
        "df_obj = pd.concat([df_meta[\"object_id\"], df_meta[\"target\"]], axis = 1 )"
      ],
      "metadata": {
        "id": "fisg-JXU3Snf"
      },
      "execution_count": 37,
      "outputs": []
    },
    {
      "cell_type": "code",
      "source": [
        "df_obj.head()"
      ],
      "metadata": {
        "colab": {
          "base_uri": "https://localhost:8080/",
          "height": 206
        },
        "id": "-PCv3Duh6ojn",
        "outputId": "6246fe12-9ba5-43c6-c28c-328d3059c3fd"
      },
      "execution_count": 38,
      "outputs": [
        {
          "output_type": "execute_result",
          "data": {
            "text/plain": [
              "   object_id  target\n",
              "0        615      92\n",
              "1        713      88\n",
              "2        730      42\n",
              "3        745      90\n",
              "4       1124      90"
            ],
            "text/html": [
              "\n",
              "  <div id=\"df-4db0fd60-93aa-40b5-b97a-cb326f675f2b\">\n",
              "    <div class=\"colab-df-container\">\n",
              "      <div>\n",
              "<style scoped>\n",
              "    .dataframe tbody tr th:only-of-type {\n",
              "        vertical-align: middle;\n",
              "    }\n",
              "\n",
              "    .dataframe tbody tr th {\n",
              "        vertical-align: top;\n",
              "    }\n",
              "\n",
              "    .dataframe thead th {\n",
              "        text-align: right;\n",
              "    }\n",
              "</style>\n",
              "<table border=\"1\" class=\"dataframe\">\n",
              "  <thead>\n",
              "    <tr style=\"text-align: right;\">\n",
              "      <th></th>\n",
              "      <th>object_id</th>\n",
              "      <th>target</th>\n",
              "    </tr>\n",
              "  </thead>\n",
              "  <tbody>\n",
              "    <tr>\n",
              "      <th>0</th>\n",
              "      <td>615</td>\n",
              "      <td>92</td>\n",
              "    </tr>\n",
              "    <tr>\n",
              "      <th>1</th>\n",
              "      <td>713</td>\n",
              "      <td>88</td>\n",
              "    </tr>\n",
              "    <tr>\n",
              "      <th>2</th>\n",
              "      <td>730</td>\n",
              "      <td>42</td>\n",
              "    </tr>\n",
              "    <tr>\n",
              "      <th>3</th>\n",
              "      <td>745</td>\n",
              "      <td>90</td>\n",
              "    </tr>\n",
              "    <tr>\n",
              "      <th>4</th>\n",
              "      <td>1124</td>\n",
              "      <td>90</td>\n",
              "    </tr>\n",
              "  </tbody>\n",
              "</table>\n",
              "</div>\n",
              "      <button class=\"colab-df-convert\" onclick=\"convertToInteractive('df-4db0fd60-93aa-40b5-b97a-cb326f675f2b')\"\n",
              "              title=\"Convert this dataframe to an interactive table.\"\n",
              "              style=\"display:none;\">\n",
              "        \n",
              "  <svg xmlns=\"http://www.w3.org/2000/svg\" height=\"24px\"viewBox=\"0 0 24 24\"\n",
              "       width=\"24px\">\n",
              "    <path d=\"M0 0h24v24H0V0z\" fill=\"none\"/>\n",
              "    <path d=\"M18.56 5.44l.94 2.06.94-2.06 2.06-.94-2.06-.94-.94-2.06-.94 2.06-2.06.94zm-11 1L8.5 8.5l.94-2.06 2.06-.94-2.06-.94L8.5 2.5l-.94 2.06-2.06.94zm10 10l.94 2.06.94-2.06 2.06-.94-2.06-.94-.94-2.06-.94 2.06-2.06.94z\"/><path d=\"M17.41 7.96l-1.37-1.37c-.4-.4-.92-.59-1.43-.59-.52 0-1.04.2-1.43.59L10.3 9.45l-7.72 7.72c-.78.78-.78 2.05 0 2.83L4 21.41c.39.39.9.59 1.41.59.51 0 1.02-.2 1.41-.59l7.78-7.78 2.81-2.81c.8-.78.8-2.07 0-2.86zM5.41 20L4 18.59l7.72-7.72 1.47 1.35L5.41 20z\"/>\n",
              "  </svg>\n",
              "      </button>\n",
              "      \n",
              "  <style>\n",
              "    .colab-df-container {\n",
              "      display:flex;\n",
              "      flex-wrap:wrap;\n",
              "      gap: 12px;\n",
              "    }\n",
              "\n",
              "    .colab-df-convert {\n",
              "      background-color: #E8F0FE;\n",
              "      border: none;\n",
              "      border-radius: 50%;\n",
              "      cursor: pointer;\n",
              "      display: none;\n",
              "      fill: #1967D2;\n",
              "      height: 32px;\n",
              "      padding: 0 0 0 0;\n",
              "      width: 32px;\n",
              "    }\n",
              "\n",
              "    .colab-df-convert:hover {\n",
              "      background-color: #E2EBFA;\n",
              "      box-shadow: 0px 1px 2px rgba(60, 64, 67, 0.3), 0px 1px 3px 1px rgba(60, 64, 67, 0.15);\n",
              "      fill: #174EA6;\n",
              "    }\n",
              "\n",
              "    [theme=dark] .colab-df-convert {\n",
              "      background-color: #3B4455;\n",
              "      fill: #D2E3FC;\n",
              "    }\n",
              "\n",
              "    [theme=dark] .colab-df-convert:hover {\n",
              "      background-color: #434B5C;\n",
              "      box-shadow: 0px 1px 3px 1px rgba(0, 0, 0, 0.15);\n",
              "      filter: drop-shadow(0px 1px 2px rgba(0, 0, 0, 0.3));\n",
              "      fill: #FFFFFF;\n",
              "    }\n",
              "  </style>\n",
              "\n",
              "      <script>\n",
              "        const buttonEl =\n",
              "          document.querySelector('#df-4db0fd60-93aa-40b5-b97a-cb326f675f2b button.colab-df-convert');\n",
              "        buttonEl.style.display =\n",
              "          google.colab.kernel.accessAllowed ? 'block' : 'none';\n",
              "\n",
              "        async function convertToInteractive(key) {\n",
              "          const element = document.querySelector('#df-4db0fd60-93aa-40b5-b97a-cb326f675f2b');\n",
              "          const dataTable =\n",
              "            await google.colab.kernel.invokeFunction('convertToInteractive',\n",
              "                                                     [key], {});\n",
              "          if (!dataTable) return;\n",
              "\n",
              "          const docLinkHtml = 'Like what you see? Visit the ' +\n",
              "            '<a target=\"_blank\" href=https://colab.research.google.com/notebooks/data_table.ipynb>data table notebook</a>'\n",
              "            + ' to learn more about interactive tables.';\n",
              "          element.innerHTML = '';\n",
              "          dataTable['output_type'] = 'display_data';\n",
              "          await google.colab.output.renderOutput(dataTable, element);\n",
              "          const docLink = document.createElement('div');\n",
              "          docLink.innerHTML = docLinkHtml;\n",
              "          element.appendChild(docLink);\n",
              "        }\n",
              "      </script>\n",
              "    </div>\n",
              "  </div>\n",
              "  "
            ]
          },
          "metadata": {},
          "execution_count": 38
        }
      ]
    },
    {
      "cell_type": "code",
      "source": [
        "len(df_obj.target.unique())"
      ],
      "metadata": {
        "colab": {
          "base_uri": "https://localhost:8080/"
        },
        "id": "bN1U_LWFAfKh",
        "outputId": "34b273d3-16bd-4e3a-fea9-f5a30af89ebb"
      },
      "execution_count": 67,
      "outputs": [
        {
          "output_type": "execute_result",
          "data": {
            "text/plain": [
              "14"
            ]
          },
          "metadata": {},
          "execution_count": 67
        }
      ]
    },
    {
      "cell_type": "markdown",
      "source": [
        "B. Classify"
      ],
      "metadata": {
        "id": "WxF_hM0EkWnF"
      }
    },
    {
      "cell_type": "code",
      "source": [
        "from sklearn.ensemble import RandomForestClassifier"
      ],
      "metadata": {
        "id": "eZpWy2qdkMVV"
      },
      "execution_count": 39,
      "outputs": []
    },
    {
      "cell_type": "code",
      "source": [
        "#? RandomForestClassifier"
      ],
      "metadata": {
        "id": "aqiFVLeflo4s"
      },
      "execution_count": 40,
      "outputs": []
    },
    {
      "cell_type": "code",
      "source": [
        "clf = RandomForestClassifier(max_depth=2, random_state=0)"
      ],
      "metadata": {
        "id": "Vs_8HQ7rl2ws"
      },
      "execution_count": 41,
      "outputs": []
    },
    {
      "cell_type": "code",
      "source": [
        "x_train, x_test, y_train, y_test = train_test_split(features, df_obj.target.values, test_size=0.2)"
      ],
      "metadata": {
        "id": "yxvdT0k7mgQE"
      },
      "execution_count": 42,
      "outputs": []
    },
    {
      "cell_type": "code",
      "source": [
        "clf.fit(x_test, y_test)"
      ],
      "metadata": {
        "colab": {
          "base_uri": "https://localhost:8080/"
        },
        "id": "y77V93pfl-00",
        "outputId": "2e0508ab-140d-4d80-dbbd-c5cb086eb66f"
      },
      "execution_count": 43,
      "outputs": [
        {
          "output_type": "execute_result",
          "data": {
            "text/plain": [
              "RandomForestClassifier(max_depth=2, random_state=0)"
            ]
          },
          "metadata": {},
          "execution_count": 43
        }
      ]
    },
    {
      "cell_type": "code",
      "source": [
        "print(clf.predict(features))"
      ],
      "metadata": {
        "colab": {
          "base_uri": "https://localhost:8080/"
        },
        "id": "rPDRP4wTm-8l",
        "outputId": "16e303d3-5f68-4828-9844-cf231779b3dd"
      },
      "execution_count": 44,
      "outputs": [
        {
          "output_type": "stream",
          "name": "stdout",
          "text": [
            "[90 90 90 ... 90 90 90]\n"
          ]
        }
      ]
    },
    {
      "cell_type": "code",
      "source": [
        "train_score = clf.score(x_train, y_train)"
      ],
      "metadata": {
        "id": "BlkJVu9ZnkiF"
      },
      "execution_count": 47,
      "outputs": []
    },
    {
      "cell_type": "code",
      "source": [
        "print(f\"During training, random forest scores {round(train_score,2)} accuracy in assigning time series to the correct target category.\")"
      ],
      "metadata": {
        "colab": {
          "base_uri": "https://localhost:8080/"
        },
        "id": "EtV1ZHWVr4YS",
        "outputId": "7a445a26-970e-41d8-83a8-af72ddd8e9e5"
      },
      "execution_count": 48,
      "outputs": [
        {
          "output_type": "stream",
          "name": "stdout",
          "text": [
            "During training, random forest scores 0.29 accuracy in assigning time series to the correct target category.\n"
          ]
        }
      ]
    },
    {
      "cell_type": "code",
      "source": [
        "test_score = clf.score(x_test, y_test)"
      ],
      "metadata": {
        "id": "TpbkOCsDq5LC"
      },
      "execution_count": 49,
      "outputs": []
    },
    {
      "cell_type": "code",
      "source": [
        "print(f\"During test, random forest scores {round(test_score,2)} accuracy in assigning time series to the correct target category.\")"
      ],
      "metadata": {
        "colab": {
          "base_uri": "https://localhost:8080/"
        },
        "id": "yTSsjRCwsQip",
        "outputId": "7b9bfced-093a-4978-95e5-a81a22bd023c"
      },
      "execution_count": 50,
      "outputs": [
        {
          "output_type": "stream",
          "name": "stdout",
          "text": [
            "During test, random forest scores 0.3 accuracy in assigning time series to the correct target category.\n"
          ]
        }
      ]
    },
    {
      "cell_type": "markdown",
      "source": [
        "My random forest categorization is not very good. It could probably be increased by changing the autoencoder architecture. I'm also not sure if combining the two sets of features in the way that I did is ideal. The features derived from the bottleneck are not meaningful in the same way that the mean, standard deviation, etc. are. Perhaps these types of features should be implemented separately. I might try to run the classification with only one set of features at a time."
      ],
      "metadata": {
        "id": "w9olNN0Q8dRq"
      }
    },
    {
      "cell_type": "markdown",
      "source": [
        "C. Plot Confusion Matrix"
      ],
      "metadata": {
        "id": "gcZRMNMA95rP"
      }
    },
    {
      "cell_type": "code",
      "source": [
        "y_pred = clf.predict(x_test)"
      ],
      "metadata": {
        "id": "XWBuR7oz99nB"
      },
      "execution_count": 51,
      "outputs": []
    },
    {
      "cell_type": "code",
      "source": [
        "#Get the confusion matrix\n",
        "cf_matrix = confusion_matrix(y_test, y_pred)"
      ],
      "metadata": {
        "id": "xG45CKrf_uMQ"
      },
      "execution_count": 117,
      "outputs": []
    },
    {
      "cell_type": "code",
      "source": [
        "plt.figure(figsize=(12,8))\n",
        "ax = sns.heatmap(cf_matrix/np.sum(cf_matrix), annot=True, cmap='Reds')\n",
        "ax.set_title('Confusion Matrix (%)', size = 20);\n",
        "ax.set_xlabel('\\nPredicted Target', size = 14)\n",
        "ax.set_xticklabels(df_obj.target.unique())\n",
        "ax.set_yticklabels(df_obj.target.unique())\n",
        "ax.set_ylabel('Actual Target ', size = 14);\n",
        "\n",
        "plt.show()"
      ],
      "metadata": {
        "colab": {
          "base_uri": "https://localhost:8080/",
          "height": 538
        },
        "id": "8jSQm7Si__ZS",
        "outputId": "df11972b-8a2d-4884-83ac-ff3c52771216"
      },
      "execution_count": 83,
      "outputs": [
        {
          "output_type": "display_data",
          "data": {
            "text/plain": [
              "<Figure size 864x576 with 2 Axes>"
            ],
            "image/png": "[encoded data removed]"
          },
          "metadata": {
            "needs_background": "light"
          }
        }
      ]
    },
    {
      "cell_type": "markdown",
      "source": [
        "**Fig. 4. Confusion Matrix.** The confusion matrix reveals how often a certain class has been assigned to a certain class. This allows for better interpretation of the overall performance score. Here, I can see that all my time series have been assigned to the same category. This is clearly bad."
      ],
      "metadata": {
        "id": "1QbTjqsFD63q"
      }
    },
    {
      "cell_type": "code",
      "source": [
        "# count occurences of target\n",
        "unique_target = df_obj.target.unique()\n",
        "occ = []\n",
        "\n",
        "for target in unique_target:\n",
        "    occ.append(df_obj.target[target])"
      ],
      "metadata": {
        "id": "lUsjEc5_FTQe"
      },
      "execution_count": 101,
      "outputs": []
    },
    {
      "cell_type": "code",
      "source": [
        "unique_target = unique_target.astype(str)"
      ],
      "metadata": {
        "id": "hHkZjVA9Hi-1"
      },
      "execution_count": 114,
      "outputs": []
    },
    {
      "cell_type": "code",
      "source": [
        "#df_obj.target[92]\n",
        "plt.figure(figsize=(8,6))\n",
        "plt.bar(unique_target, occ);\n",
        "plt.xticks(size = 12)\n",
        "plt.yticks(size = 12)\n",
        "plt.xlabel(\"Target\", size = 14)\n",
        "plt.ylabel(\"# Occurences\", size = 14)\n",
        "plt.title(f\"Distribution of Real Target Classes\", size = 20);"
      ],
      "metadata": {
        "colab": {
          "base_uri": "https://localhost:8080/",
          "height": 416
        },
        "id": "gFCBu25cEXB-",
        "outputId": "d83f8923-2ab2-4dc0-edde-ac3f393ac0fe"
      },
      "execution_count": 116,
      "outputs": [
        {
          "output_type": "display_data",
          "data": {
            "text/plain": [
              "<Figure size 576x432 with 1 Axes>"
            ],
            "image/png": "[encoded data removed]"
          },
          "metadata": {
            "needs_background": "light"
          }
        }
      ]
    },
    {
      "cell_type": "markdown",
      "source": [
        "**Fig. 5. Distribution of Real Target Classes.** The bargraph shows the count of time series in each target class. Most time series are part of category 90, 6, and 64. Fewest time series are part of category 42, 95, 62, and 15. The predicted classification does not represent this distribution. At least the class that everything got lumped into is one of the three most commen classes (6)."
      ],
      "metadata": {
        "id": "NKXeIgQIIE5V"
      }
    }
  ]
}