{
  "nbformat": 4,
  "nbformat_minor": 0,
  "metadata": {
    "colab": {
      "name": "HW9_JBoecher.ipynb",
      "provenance": [],
      "collapsed_sections": [],
      "mount_file_id": "1c0-fGxqzHV4ps1DXETv62yy0AVuynZ4Y",
      "authorship_tag": "ABX9TyPhXjiOWcMhXO4DIS0SPxvZ",
      "include_colab_link": true
    },
    "kernelspec": {
      "name": "python3",
      "display_name": "Python 3"
    },
    "language_info": {
      "name": "python"
    }
  },
  "cells": [
    {
      "cell_type": "markdown",
      "metadata": {
        "id": "view-in-github",
        "colab_type": "text"
      },
      "source": [
        "<a href=\"https://colab.research.google.com/github/Janina712/MLTSA22_JBoecher/blob/main/HW9/HW9_JBoecher.ipynb\" target=\"_parent\"><img src=\"https://colab.research.google.com/assets/colab-badge.svg\" alt=\"Open In Colab\"/></a>"
      ]
    },
    {
      "cell_type": "markdown",
      "source": [
        "#1. Imports and Set-Up"
      ],
      "metadata": {
        "id": "w-cU4BUrmxiu"
      }
    },
    {
      "cell_type": "code",
      "source": [
        "# import packages\n",
        "import io\n",
        "import numpy as np\n",
        "import pandas as pd\n",
        "import tensorflow as tf\n",
        "from matplotlib import pyplot as plt\n",
        "from tensorflow import keras\n",
        "from keras import layers \n",
        "from keras.layers import Dense, Input, Flatten,\\\n",
        "                   Reshape, LeakyReLU as LR,\\\n",
        "                   Activation, Dropout\n",
        "from keras.models import Model, Sequential\n",
        "from sklearn.model_selection import train_test_split"
      ],
      "metadata": {
        "id": "fua7cZ08mv7I"
      },
      "execution_count": 106,
      "outputs": []
    },
    {
      "cell_type": "code",
      "execution_count": 7,
      "metadata": {
        "colab": {
          "base_uri": "https://localhost:8080/"
        },
        "id": "z7PynWm3hsH4",
        "outputId": "d30e6ebe-8d5c-4413-c0f3-758a576ac4f8"
      },
      "outputs": [
        {
          "output_type": "stream",
          "name": "stdout",
          "text": [
            "Mounted at /content/gdrive\n"
          ]
        }
      ],
      "source": [
        "# mount drive\n",
        "from google.colab import drive\n",
        "drive.mount(\"/content/gdrive\", force_remount = True)"
      ]
    },
    {
      "cell_type": "code",
      "source": [
        "# set path\n",
        "%cd /content/gdrive/MyDrive/ColabNotebooks/"
      ],
      "metadata": {
        "colab": {
          "base_uri": "https://localhost:8080/"
        },
        "id": "GuKJlyZDCl8j",
        "outputId": "8a3a1981-3966-4c06-93ee-cb851d1c937c"
      },
      "execution_count": 8,
      "outputs": [
        {
          "output_type": "stream",
          "name": "stdout",
          "text": [
            "/content/gdrive/MyDrive/ColabNotebooks\n"
          ]
        }
      ]
    },
    {
      "cell_type": "code",
      "source": [
        "# import dataframe from google drive\n",
        "from google.colab import files \n",
        "uploaded = files.upload()\n",
        "\n",
        "df = pd.read_csv(io.BytesIO(uploaded['data_all.csv']))"
      ],
      "metadata": {
        "colab": {
          "resources": {
            "http://localhost:8080/nbextensions/google.colab/files.js": {
              "data": "Ly8gQ29weXJpZ2h0IDIwMTcgR29vZ2xlIExMQwovLwovLyBMaWNlbnNlZCB1bmRlciB0aGUgQXBhY2hlIExpY2Vuc2UsIFZlcnNpb24gMi4wICh0aGUgIkxpY2Vuc2UiKTsKLy8geW91IG1heSBub3QgdXNlIHRoaXMgZmlsZSBleGNlcHQgaW4gY29tcGxpYW5jZSB3aXRoIHRoZSBMaWNlbnNlLgovLyBZb3UgbWF5IG9idGFpbiBhIGNvcHkgb2YgdGhlIExpY2Vuc2UgYXQKLy8KLy8gICAgICBodHRwOi8vd3d3LmFwYWNoZS5vcmcvbGljZW5zZXMvTElDRU5TRS0yLjAKLy8KLy8gVW5sZXNzIHJlcXVpcmVkIGJ5IGFwcGxpY2FibGUgbGF3IG9yIGFncmVlZCB0byBpbiB3cml0aW5nLCBzb2Z0d2FyZQovLyBkaXN0cmlidXRlZCB1bmRlciB0aGUgTGljZW5zZSBpcyBkaXN0cmlidXRlZCBvbiBhbiAiQVMgSVMiIEJBU0lTLAovLyBXSVRIT1VUIFdBUlJBTlRJRVMgT1IgQ09ORElUSU9OUyBPRiBBTlkgS0lORCwgZWl0aGVyIGV4cHJlc3Mgb3IgaW1wbGllZC4KLy8gU2VlIHRoZSBMaWNlbnNlIGZvciB0aGUgc3BlY2lmaWMgbGFuZ3VhZ2UgZ292ZXJuaW5nIHBlcm1pc3Npb25zIGFuZAovLyBsaW1pdGF0aW9ucyB1bmRlciB0aGUgTGljZW5zZS4KCi8qKgogKiBAZmlsZW92ZXJ2aWV3IEhlbHBlcnMgZm9yIGdvb2dsZS5jb2xhYiBQeXRob24gbW9kdWxlLgogKi8KKGZ1bmN0aW9uKHNjb3BlKSB7CmZ1bmN0aW9uIHNwYW4odGV4dCwgc3R5bGVBdHRyaWJ1dGVzID0ge30pIHsKICBjb25zdCBlbGVtZW50ID0gZG9jdW1lbnQuY3JlYXRlRWxlbWVudCgnc3BhbicpOwogIGVsZW1lbnQudGV4dENvbnRlbnQgPSB0ZXh0OwogIGZvciAoY29uc3Qga2V5IG9mIE9iamVjdC5rZXlzKHN0eWxlQXR0cmlidXRlcykpIHsKICAgIGVsZW1lbnQuc3R5bGVba2V5XSA9IHN0eWxlQXR0cmlidXRlc1trZXldOwogIH0KICByZXR1cm4gZWxlbWVudDsKfQoKLy8gTWF4IG51bWJlciBvZiBieXRlcyB3aGljaCB3aWxsIGJlIHVwbG9hZGVkIGF0IGEgdGltZS4KY29uc3QgTUFYX1BBWUxPQURfU0laRSA9IDEwMCAqIDEwMjQ7CgpmdW5jdGlvbiBfdXBsb2FkRmlsZXMoaW5wdXRJZCwgb3V0cHV0SWQpIHsKICBjb25zdCBzdGVwcyA9IHVwbG9hZEZpbGVzU3RlcChpbnB1dElkLCBvdXRwdXRJZCk7CiAgY29uc3Qgb3V0cHV0RWxlbWVudCA9IGRvY3VtZW50LmdldEVsZW1lbnRCeUlkKG91dHB1dElkKTsKICAvLyBDYWNoZSBzdGVwcyBvbiB0aGUgb3V0cHV0RWxlbWVudCB0byBtYWtlIGl0IGF2YWlsYWJsZSBmb3IgdGhlIG5leHQgY2FsbAogIC8vIHRvIHVwbG9hZEZpbGVzQ29udGludWUgZnJvbSBQeXRob24uCiAgb3V0cHV0RWxlbWVudC5zdGVwcyA9IHN0ZXBzOwoKICByZXR1cm4gX3VwbG9hZEZpbGVzQ29udGludWUob3V0cHV0SWQpOwp9CgovLyBUaGlzIGlzIHJvdWdobHkgYW4gYXN5bmMgZ2VuZXJhdG9yIChub3Qgc3VwcG9ydGVkIGluIHRoZSBicm93c2VyIHlldCksCi8vIHdoZXJlIHRoZXJlIGFyZSBtdWx0aXBsZSBhc3luY2hyb25vdXMgc3RlcHMgYW5kIHRoZSBQeXRob24gc2lkZSBpcyBnb2luZwovLyB0byBwb2xsIGZvciBjb21wbGV0aW9uIG9mIGVhY2ggc3RlcC4KLy8gVGhpcyB1c2VzIGEgUHJvbWlzZSB0byBibG9jayB0aGUgcHl0aG9uIHNpZGUgb24gY29tcGxldGlvbiBvZiBlYWNoIHN0ZXAsCi8vIHRoZW4gcGFzc2VzIHRoZSByZXN1bHQgb2YgdGhlIHByZXZpb3VzIHN0ZXAgYXMgdGhlIGlucHV0IHRvIHRoZSBuZXh0IHN0ZXAuCmZ1bmN0aW9uIF91cGxvYWRGaWxlc0NvbnRpbnVlKG91dHB1dElkKSB7CiAgY29uc3Qgb3V0cHV0RWxlbWVudCA9IGRvY3VtZW50LmdldEVsZW1lbnRCeUlkKG91dHB1dElkKTsKICBjb25zdCBzdGVwcyA9IG91dHB1dEVsZW1lbnQuc3RlcHM7CgogIGNvbnN0IG5leHQgPSBzdGVwcy5uZXh0KG91dHB1dEVsZW1lbnQubGFzdFByb21pc2VWYWx1ZSk7CiAgcmV0dXJuIFByb21pc2UucmVzb2x2ZShuZXh0LnZhbHVlLnByb21pc2UpLnRoZW4oKHZhbHVlKSA9PiB7CiAgICAvLyBDYWNoZSB0aGUgbGFzdCBwcm9taXNlIHZhbHVlIHRvIG1ha2UgaXQgYXZhaWxhYmxlIHRvIHRoZSBuZXh0CiAgICAvLyBzdGVwIG9mIHRoZSBnZW5lcmF0b3IuCiAgICBvdXRwdXRFbGVtZW50Lmxhc3RQcm9taXNlVmFsdWUgPSB2YWx1ZTsKICAgIHJldHVybiBuZXh0LnZhbHVlLnJlc3BvbnNlOwogIH0pOwp9CgovKioKICogR2VuZXJhdG9yIGZ1bmN0aW9uIHdoaWNoIGlzIGNhbGxlZCBiZXR3ZWVuIGVhY2ggYXN5bmMgc3RlcCBvZiB0aGUgdXBsb2FkCiAqIHByb2Nlc3MuCiAqIEBwYXJhbSB7c3RyaW5nfSBpbnB1dElkIEVsZW1lbnQgSUQgb2YgdGhlIGlucHV0IGZpbGUgcGlja2VyIGVsZW1lbnQuCiAqIEBwYXJhbSB7c3RyaW5nfSBvdXRwdXRJZCBFbGVtZW50IElEIG9mIHRoZSBvdXRwdXQgZGlzcGxheS4KICogQHJldHVybiB7IUl0ZXJhYmxlPCFPYmplY3Q+fSBJdGVyYWJsZSBvZiBuZXh0IHN0ZXBzLgogKi8KZnVuY3Rpb24qIHVwbG9hZEZpbGVzU3RlcChpbnB1dElkLCBvdXRwdXRJZCkgewogIGNvbnN0IGlucHV0RWxlbWVudCA9IGRvY3VtZW50LmdldEVsZW1lbnRCeUlkKGlucHV0SWQpOwogIGlucHV0RWxlbWVudC5kaXNhYmxlZCA9IGZhbHNlOwoKICBjb25zdCBvdXRwdXRFbGVtZW50ID0gZG9jdW1lbnQuZ2V0RWxlbWVudEJ5SWQob3V0cHV0SWQpOwogIG91dHB1dEVsZW1lbnQuaW5uZXJIVE1MID0gJyc7CgogIGNvbnN0IHBpY2tlZFByb21pc2UgPSBuZXcgUHJvbWlzZSgocmVzb2x2ZSkgPT4gewogICAgaW5wdXRFbGVtZW50LmFkZEV2ZW50TGlzdGVuZXIoJ2NoYW5nZScsIChlKSA9PiB7CiAgICAgIHJlc29sdmUoZS50YXJnZXQuZmlsZXMpOwogICAgfSk7CiAgfSk7CgogIGNvbnN0IGNhbmNlbCA9IGRvY3VtZW50LmNyZWF0ZUVsZW1lbnQoJ2J1dHRvbicpOwogIGlucHV0RWxlbWVudC5wYXJlbnRFbGVtZW50LmFwcGVuZENoaWxkKGNhbmNlbCk7CiAgY2FuY2VsLnRleHRDb250ZW50ID0gJ0NhbmNlbCB1cGxvYWQnOwogIGNvbnN0IGNhbmNlbFByb21pc2UgPSBuZXcgUHJvbWlzZSgocmVzb2x2ZSkgPT4gewogICAgY2FuY2VsLm9uY2xpY2sgPSAoKSA9PiB7CiAgICAgIHJlc29sdmUobnVsbCk7CiAgICB9OwogIH0pOwoKICAvLyBXYWl0IGZvciB0aGUgdXNlciB0byBwaWNrIHRoZSBmaWxlcy4KICBjb25zdCBmaWxlcyA9IHlpZWxkIHsKICAgIHByb21pc2U6IFByb21pc2UucmFjZShbcGlja2VkUHJvbWlzZSwgY2FuY2VsUHJvbWlzZV0pLAogICAgcmVzcG9uc2U6IHsKICAgICAgYWN0aW9uOiAnc3RhcnRpbmcnLAogICAgfQogIH07CgogIGNhbmNlbC5yZW1vdmUoKTsKCiAgLy8gRGlzYWJsZSB0aGUgaW5wdXQgZWxlbWVudCBzaW5jZSBmdXJ0aGVyIHBpY2tzIGFyZSBub3QgYWxsb3dlZC4KICBpbnB1dEVsZW1lbnQuZGlzYWJsZWQgPSB0cnVlOwoKICBpZiAoIWZpbGVzKSB7CiAgICByZXR1cm4gewogICAgICByZXNwb25zZTogewogICAgICAgIGFjdGlvbjogJ2NvbXBsZXRlJywKICAgICAgfQogICAgfTsKICB9CgogIGZvciAoY29uc3QgZmlsZSBvZiBmaWxlcykgewogICAgY29uc3QgbGkgPSBkb2N1bWVudC5jcmVhdGVFbGVtZW50KCdsaScpOwogICAgbGkuYXBwZW5kKHNwYW4oZmlsZS5uYW1lLCB7Zm9udFdlaWdodDogJ2JvbGQnfSkpOwogICAgbGkuYXBwZW5kKHNwYW4oCiAgICAgICAgYCgke2ZpbGUudHlwZSB8fCAnbi9hJ30pIC0gJHtmaWxlLnNpemV9IGJ5dGVzLCBgICsKICAgICAgICBgbGFzdCBtb2RpZmllZDogJHsKICAgICAgICAgICAgZmlsZS5sYXN0TW9kaWZpZWREYXRlID8gZmlsZS5sYXN0TW9kaWZpZWREYXRlLnRvTG9jYWxlRGF0ZVN0cmluZygpIDoKICAgICAgICAgICAgICAgICAgICAgICAgICAgICAgICAgICAgJ24vYSd9IC0gYCkpOwogICAgY29uc3QgcGVyY2VudCA9IHNwYW4oJzAlIGRvbmUnKTsKICAgIGxpLmFwcGVuZENoaWxkKHBlcmNlbnQpOwoKICAgIG91dHB1dEVsZW1lbnQuYXBwZW5kQ2hpbGQobGkpOwoKICAgIGNvbnN0IGZpbGVEYXRhUHJvbWlzZSA9IG5ldyBQcm9taXNlKChyZXNvbHZlKSA9PiB7CiAgICAgIGNvbnN0IHJlYWRlciA9IG5ldyBGaWxlUmVhZGVyKCk7CiAgICAgIHJlYWRlci5vbmxvYWQgPSAoZSkgPT4gewogICAgICAgIHJlc29sdmUoZS50YXJnZXQucmVzdWx0KTsKICAgICAgfTsKICAgICAgcmVhZGVyLnJlYWRBc0FycmF5QnVmZmVyKGZpbGUpOwogICAgfSk7CiAgICAvLyBXYWl0IGZvciB0aGUgZGF0YSB0byBiZSByZWFkeS4KICAgIGxldCBmaWxlRGF0YSA9IHlpZWxkIHsKICAgICAgcHJvbWlzZTogZmlsZURhdGFQcm9taXNlLAogICAgICByZXNwb25zZTogewogICAgICAgIGFjdGlvbjogJ2NvbnRpbnVlJywKICAgICAgfQogICAgfTsKCiAgICAvLyBVc2UgYSBjaHVua2VkIHNlbmRpbmcgdG8gYXZvaWQgbWVzc2FnZSBzaXplIGxpbWl0cy4gU2VlIGIvNjIxMTU2NjAuCiAgICBsZXQgcG9zaXRpb24gPSAwOwogICAgZG8gewogICAgICBjb25zdCBsZW5ndGggPSBNYXRoLm1pbihmaWxlRGF0YS5ieXRlTGVuZ3RoIC0gcG9zaXRpb24sIE1BWF9QQVlMT0FEX1NJWkUpOwogICAgICBjb25zdCBjaHVuayA9IG5ldyBVaW50OEFycmF5KGZpbGVEYXRhLCBwb3NpdGlvbiwgbGVuZ3RoKTsKICAgICAgcG9zaXRpb24gKz0gbGVuZ3RoOwoKICAgICAgY29uc3QgYmFzZTY0ID0gYnRvYShTdHJpbmcuZnJvbUNoYXJDb2RlLmFwcGx5KG51bGwsIGNodW5rKSk7CiAgICAgIHlpZWxkIHsKICAgICAgICByZXNwb25zZTogewogICAgICAgICAgYWN0aW9uOiAnYXBwZW5kJywKICAgICAgICAgIGZpbGU6IGZpbGUubmFtZSwKICAgICAgICAgIGRhdGE6IGJhc2U2NCwKICAgICAgICB9LAogICAgICB9OwoKICAgICAgbGV0IHBlcmNlbnREb25lID0gZmlsZURhdGEuYnl0ZUxlbmd0aCA9PT0gMCA/CiAgICAgICAgICAxMDAgOgogICAgICAgICAgTWF0aC5yb3VuZCgocG9zaXRpb24gLyBmaWxlRGF0YS5ieXRlTGVuZ3RoKSAqIDEwMCk7CiAgICAgIHBlcmNlbnQudGV4dENvbnRlbnQgPSBgJHtwZXJjZW50RG9uZX0lIGRvbmVgOwoKICAgIH0gd2hpbGUgKHBvc2l0aW9uIDwgZmlsZURhdGEuYnl0ZUxlbmd0aCk7CiAgfQoKICAvLyBBbGwgZG9uZS4KICB5aWVsZCB7CiAgICByZXNwb25zZTogewogICAgICBhY3Rpb246ICdjb21wbGV0ZScsCiAgICB9CiAgfTsKfQoKc2NvcGUuZ29vZ2xlID0gc2NvcGUuZ29vZ2xlIHx8IHt9OwpzY29wZS5nb29nbGUuY29sYWIgPSBzY29wZS5nb29nbGUuY29sYWIgfHwge307CnNjb3BlLmdvb2dsZS5jb2xhYi5fZmlsZXMgPSB7CiAgX3VwbG9hZEZpbGVzLAogIF91cGxvYWRGaWxlc0NvbnRpbnVlLAp9Owp9KShzZWxmKTsK",
              "ok": true,
              "headers": [
                [
                  "content-type",
                  "application/javascript"
                ]
              ],
              "status": 200,
              "status_text": ""
            }
          },
          "base_uri": "https://localhost:8080/",
          "height": 73
        },
        "id": "7rjvbk7pC5TK",
        "outputId": "76a4aec1-45c0-4a44-a4e0-6b27d60a87ac"
      },
      "execution_count": 195,
      "outputs": [
        {
          "output_type": "display_data",
          "data": {
            "text/plain": [
              "<IPython.core.display.HTML object>"
            ],
            "text/html": [
              "\n",
              "     <input type=\"file\" id=\"files-e366e04b-08f3-48a1-93b9-b10268f4a17a\" name=\"files[]\" multiple disabled\n",
              "        style=\"border:none\" />\n",
              "     <output id=\"result-e366e04b-08f3-48a1-93b9-b10268f4a17a\">\n",
              "      Upload widget is only available when the cell has been executed in the\n",
              "      current browser session. Please rerun this cell to enable.\n",
              "      </output>\n",
              "      <script src=\"/nbextensions/google.colab/files.js\"></script> "
            ]
          },
          "metadata": {}
        },
        {
          "output_type": "stream",
          "name": "stdout",
          "text": [
            "Saving data_all.csv to data_all (4).csv\n"
          ]
        }
      ]
    },
    {
      "cell_type": "code",
      "source": [
        "df.shape"
      ],
      "metadata": {
        "colab": {
          "base_uri": "https://localhost:8080/"
        },
        "id": "dWRX8_keHxsB",
        "outputId": "d4fd2675-8517-4f83-f69b-6ca4e9459ebb"
      },
      "execution_count": 10,
      "outputs": [
        {
          "output_type": "execute_result",
          "data": {
            "text/plain": [
              "(47088, 100)"
            ]
          },
          "metadata": {},
          "execution_count": 10
        }
      ]
    },
    {
      "cell_type": "code",
      "source": [
        "print(f\"My dataframe has {df.shape[0]} rows ({df.shape[0]/6} objects and 6 passbands) and {df.shape[1]} columns (time points/mjd).\")"
      ],
      "metadata": {
        "colab": {
          "base_uri": "https://localhost:8080/"
        },
        "id": "9rDhwbMJIam_",
        "outputId": "c6d7ff4b-5669-428d-9835-418230fd15de"
      },
      "execution_count": 11,
      "outputs": [
        {
          "output_type": "stream",
          "name": "stdout",
          "text": [
            "My dataframe has 47088 rows (7848.0 objects and 6 passbands) and 100 columns (time points/mjd).\n"
          ]
        }
      ]
    },
    {
      "cell_type": "code",
      "source": [
        "df"
      ],
      "metadata": {
        "colab": {
          "base_uri": "https://localhost:8080/",
          "height": 641
        },
        "id": "wwaXwUQIIItI",
        "outputId": "439ad845-001d-4fcb-ea73-3e58c48758f2"
      },
      "execution_count": 12,
      "outputs": [
        {
          "output_type": "execute_result",
          "data": {
            "text/plain": [
              "            1             2        3         4             5         6  \\\n",
              "0      0.7110  3.540000e-01 -0.81500  0.092000  5.820000e-01 -0.730000   \n",
              "1     -0.5760  3.410000e-73  0.00243  0.000058  3.090000e-32 -0.000254   \n",
              "2     -0.7040 -3.780000e-02  0.87100 -0.123000  3.480000e-01 -0.858000   \n",
              "3     -0.0701  4.190000e-02  0.94500  0.285000  9.810000e-02 -1.210000   \n",
              "4      0.3650  3.570000e-02  1.21000  0.868000  1.060000e-01 -1.380000   \n",
              "...       ...           ...      ...       ...           ...       ...   \n",
              "47083  0.0469  5.510000e-02  0.06310  0.070600  7.750000e-02  0.083500   \n",
              "47084  0.2330  2.230000e-01  0.21400  0.204000  1.940000e-01  0.183000   \n",
              "47085  0.0329  4.290000e-02  0.05350  0.064600  7.570000e-02  0.086500   \n",
              "47086 -0.1550 -1.550000e-01 -0.15500 -0.155000 -1.550000e-01 -0.155000   \n",
              "47087 -0.2640 -2.520000e-01 -0.23500 -0.214000 -1.900000e-01 -0.162000   \n",
              "\n",
              "                  7        8              9            10  ...      91  \\\n",
              "0     -3.380000e-01  0.87900   9.940000e-02 -4.530000e-01  ... -0.1180   \n",
              "1     -4.810000e-10  0.00859  3.510000e-145  6.830000e-13  ...  0.0012   \n",
              "2      3.950000e-02  0.33600  -4.870000e-02  2.620000e-01  ...  0.5800   \n",
              "3      7.370000e-02  0.32200   7.970000e-04 -7.150000e-02  ...  0.0799   \n",
              "4      1.810000e-01  0.31500   3.890000e-04 -4.190000e-01  ... -0.3790   \n",
              "...             ...      ...            ...           ...  ...     ...   \n",
              "47083  8.850000e-02  0.09240   9.510000e-02  9.670000e-02  ... -0.2940   \n",
              "47084  1.730000e-01  0.16200   1.520000e-01  1.410000e-01  ... -0.3170   \n",
              "47085  9.670000e-02  0.10600   1.140000e-01  1.200000e-01  ... -0.4910   \n",
              "47086 -1.550000e-01 -0.15500  -1.550000e-01 -1.550000e-01  ... -0.1550   \n",
              "47087 -1.310000e-01 -0.09730  -6.220000e-02 -2.610000e-02  ... -0.4550   \n",
              "\n",
              "            92            93       94       95            96        97  \\\n",
              "0     -0.46500  4.470000e-02  0.07810 -0.00757 -5.760000e-03  0.000522   \n",
              "1     -0.00851  5.320000e-58 -0.00365 -0.01500 -6.600000e-39 -0.032500   \n",
              "2      0.17500 -7.880000e-02  0.01860 -0.56000  6.280000e-01 -0.601000   \n",
              "3      0.02700  2.540000e-03 -0.15100 -0.38300  2.330000e-02 -0.574000   \n",
              "4      0.21700  1.380000e-03 -0.64200 -0.51500  2.550000e-02 -0.618000   \n",
              "...        ...           ...      ...      ...           ...       ...   \n",
              "47083 -0.27200 -2.490000e-01 -0.22600 -0.20300 -1.810000e-01 -0.159000   \n",
              "47084 -0.31000 -3.030000e-01 -0.29600 -0.28900 -2.810000e-01 -0.273000   \n",
              "47085 -0.47400 -4.530000e-01 -0.43000 -0.40300 -3.750000e-01 -0.344000   \n",
              "47086 -0.15500 -1.550000e-01 -0.15500 -0.15500 -1.550000e-01 -0.155000   \n",
              "47087 -0.45400 -4.510000e-01 -0.44400 -0.43400 -4.220000e-01 -0.408000   \n",
              "\n",
              "                 98            99           100  \n",
              "0      1.870000e-04 -1.500000e-05 -2.650000e-06  \n",
              "1      1.090000e-93  0.000000e+00  0.000000e+00  \n",
              "2      4.270000e-01 -7.080000e-02  7.170000e-04  \n",
              "3     -4.110000e-03  4.690000e-10  3.940000e-20  \n",
              "4     -6.050000e-04  2.820000e-10  8.260000e-22  \n",
              "...             ...           ...           ...  \n",
              "47083 -1.380000e-01 -1.190000e-01 -1.010000e-01  \n",
              "47084 -2.640000e-01 -2.560000e-01 -2.470000e-01  \n",
              "47085 -3.130000e-01 -2.810000e-01 -2.490000e-01  \n",
              "47086 -1.550000e-01 -1.550000e-01 -1.550000e-01  \n",
              "47087 -3.910000e-01 -3.730000e-01 -3.530000e-01  \n",
              "\n",
              "[47088 rows x 100 columns]"
            ],
            "text/html": [
              "\n",
              "  <div id=\"df-2f05aceb-5b37-47ad-9c52-fd7692c0c3f9\">\n",
              "    <div class=\"colab-df-container\">\n",
              "      <div>\n",
              "<style scoped>\n",
              "    .dataframe tbody tr th:only-of-type {\n",
              "        vertical-align: middle;\n",
              "    }\n",
              "\n",
              "    .dataframe tbody tr th {\n",
              "        vertical-align: top;\n",
              "    }\n",
              "\n",
              "    .dataframe thead th {\n",
              "        text-align: right;\n",
              "    }\n",
              "</style>\n",
              "<table border=\"1\" class=\"dataframe\">\n",
              "  <thead>\n",
              "    <tr style=\"text-align: right;\">\n",
              "      <th></th>\n",
              "      <th>1</th>\n",
              "      <th>2</th>\n",
              "      <th>3</th>\n",
              "      <th>4</th>\n",
              "      <th>5</th>\n",
              "      <th>6</th>\n",
              "      <th>7</th>\n",
              "      <th>8</th>\n",
              "      <th>9</th>\n",
              "      <th>10</th>\n",
              "      <th>...</th>\n",
              "      <th>91</th>\n",
              "      <th>92</th>\n",
              "      <th>93</th>\n",
              "      <th>94</th>\n",
              "      <th>95</th>\n",
              "      <th>96</th>\n",
              "      <th>97</th>\n",
              "      <th>98</th>\n",
              "      <th>99</th>\n",
              "      <th>100</th>\n",
              "    </tr>\n",
              "  </thead>\n",
              "  <tbody>\n",
              "    <tr>\n",
              "      <th>0</th>\n",
              "      <td>0.7110</td>\n",
              "      <td>3.540000e-01</td>\n",
              "      <td>-0.81500</td>\n",
              "      <td>0.092000</td>\n",
              "      <td>5.820000e-01</td>\n",
              "      <td>-0.730000</td>\n",
              "      <td>-3.380000e-01</td>\n",
              "      <td>0.87900</td>\n",
              "      <td>9.940000e-02</td>\n",
              "      <td>-4.530000e-01</td>\n",
              "      <td>...</td>\n",
              "      <td>-0.1180</td>\n",
              "      <td>-0.46500</td>\n",
              "      <td>4.470000e-02</td>\n",
              "      <td>0.07810</td>\n",
              "      <td>-0.00757</td>\n",
              "      <td>-5.760000e-03</td>\n",
              "      <td>0.000522</td>\n",
              "      <td>1.870000e-04</td>\n",
              "      <td>-1.500000e-05</td>\n",
              "      <td>-2.650000e-06</td>\n",
              "    </tr>\n",
              "    <tr>\n",
              "      <th>1</th>\n",
              "      <td>-0.5760</td>\n",
              "      <td>3.410000e-73</td>\n",
              "      <td>0.00243</td>\n",
              "      <td>0.000058</td>\n",
              "      <td>3.090000e-32</td>\n",
              "      <td>-0.000254</td>\n",
              "      <td>-4.810000e-10</td>\n",
              "      <td>0.00859</td>\n",
              "      <td>3.510000e-145</td>\n",
              "      <td>6.830000e-13</td>\n",
              "      <td>...</td>\n",
              "      <td>0.0012</td>\n",
              "      <td>-0.00851</td>\n",
              "      <td>5.320000e-58</td>\n",
              "      <td>-0.00365</td>\n",
              "      <td>-0.01500</td>\n",
              "      <td>-6.600000e-39</td>\n",
              "      <td>-0.032500</td>\n",
              "      <td>1.090000e-93</td>\n",
              "      <td>0.000000e+00</td>\n",
              "      <td>0.000000e+00</td>\n",
              "    </tr>\n",
              "    <tr>\n",
              "      <th>2</th>\n",
              "      <td>-0.7040</td>\n",
              "      <td>-3.780000e-02</td>\n",
              "      <td>0.87100</td>\n",
              "      <td>-0.123000</td>\n",
              "      <td>3.480000e-01</td>\n",
              "      <td>-0.858000</td>\n",
              "      <td>3.950000e-02</td>\n",
              "      <td>0.33600</td>\n",
              "      <td>-4.870000e-02</td>\n",
              "      <td>2.620000e-01</td>\n",
              "      <td>...</td>\n",
              "      <td>0.5800</td>\n",
              "      <td>0.17500</td>\n",
              "      <td>-7.880000e-02</td>\n",
              "      <td>0.01860</td>\n",
              "      <td>-0.56000</td>\n",
              "      <td>6.280000e-01</td>\n",
              "      <td>-0.601000</td>\n",
              "      <td>4.270000e-01</td>\n",
              "      <td>-7.080000e-02</td>\n",
              "      <td>7.170000e-04</td>\n",
              "    </tr>\n",
              "    <tr>\n",
              "      <th>3</th>\n",
              "      <td>-0.0701</td>\n",
              "      <td>4.190000e-02</td>\n",
              "      <td>0.94500</td>\n",
              "      <td>0.285000</td>\n",
              "      <td>9.810000e-02</td>\n",
              "      <td>-1.210000</td>\n",
              "      <td>7.370000e-02</td>\n",
              "      <td>0.32200</td>\n",
              "      <td>7.970000e-04</td>\n",
              "      <td>-7.150000e-02</td>\n",
              "      <td>...</td>\n",
              "      <td>0.0799</td>\n",
              "      <td>0.02700</td>\n",
              "      <td>2.540000e-03</td>\n",
              "      <td>-0.15100</td>\n",
              "      <td>-0.38300</td>\n",
              "      <td>2.330000e-02</td>\n",
              "      <td>-0.574000</td>\n",
              "      <td>-4.110000e-03</td>\n",
              "      <td>4.690000e-10</td>\n",
              "      <td>3.940000e-20</td>\n",
              "    </tr>\n",
              "    <tr>\n",
              "      <th>4</th>\n",
              "      <td>0.3650</td>\n",
              "      <td>3.570000e-02</td>\n",
              "      <td>1.21000</td>\n",
              "      <td>0.868000</td>\n",
              "      <td>1.060000e-01</td>\n",
              "      <td>-1.380000</td>\n",
              "      <td>1.810000e-01</td>\n",
              "      <td>0.31500</td>\n",
              "      <td>3.890000e-04</td>\n",
              "      <td>-4.190000e-01</td>\n",
              "      <td>...</td>\n",
              "      <td>-0.3790</td>\n",
              "      <td>0.21700</td>\n",
              "      <td>1.380000e-03</td>\n",
              "      <td>-0.64200</td>\n",
              "      <td>-0.51500</td>\n",
              "      <td>2.550000e-02</td>\n",
              "      <td>-0.618000</td>\n",
              "      <td>-6.050000e-04</td>\n",
              "      <td>2.820000e-10</td>\n",
              "      <td>8.260000e-22</td>\n",
              "    </tr>\n",
              "    <tr>\n",
              "      <th>...</th>\n",
              "      <td>...</td>\n",
              "      <td>...</td>\n",
              "      <td>...</td>\n",
              "      <td>...</td>\n",
              "      <td>...</td>\n",
              "      <td>...</td>\n",
              "      <td>...</td>\n",
              "      <td>...</td>\n",
              "      <td>...</td>\n",
              "      <td>...</td>\n",
              "      <td>...</td>\n",
              "      <td>...</td>\n",
              "      <td>...</td>\n",
              "      <td>...</td>\n",
              "      <td>...</td>\n",
              "      <td>...</td>\n",
              "      <td>...</td>\n",
              "      <td>...</td>\n",
              "      <td>...</td>\n",
              "      <td>...</td>\n",
              "      <td>...</td>\n",
              "    </tr>\n",
              "    <tr>\n",
              "      <th>47083</th>\n",
              "      <td>0.0469</td>\n",
              "      <td>5.510000e-02</td>\n",
              "      <td>0.06310</td>\n",
              "      <td>0.070600</td>\n",
              "      <td>7.750000e-02</td>\n",
              "      <td>0.083500</td>\n",
              "      <td>8.850000e-02</td>\n",
              "      <td>0.09240</td>\n",
              "      <td>9.510000e-02</td>\n",
              "      <td>9.670000e-02</td>\n",
              "      <td>...</td>\n",
              "      <td>-0.2940</td>\n",
              "      <td>-0.27200</td>\n",
              "      <td>-2.490000e-01</td>\n",
              "      <td>-0.22600</td>\n",
              "      <td>-0.20300</td>\n",
              "      <td>-1.810000e-01</td>\n",
              "      <td>-0.159000</td>\n",
              "      <td>-1.380000e-01</td>\n",
              "      <td>-1.190000e-01</td>\n",
              "      <td>-1.010000e-01</td>\n",
              "    </tr>\n",
              "    <tr>\n",
              "      <th>47084</th>\n",
              "      <td>0.2330</td>\n",
              "      <td>2.230000e-01</td>\n",
              "      <td>0.21400</td>\n",
              "      <td>0.204000</td>\n",
              "      <td>1.940000e-01</td>\n",
              "      <td>0.183000</td>\n",
              "      <td>1.730000e-01</td>\n",
              "      <td>0.16200</td>\n",
              "      <td>1.520000e-01</td>\n",
              "      <td>1.410000e-01</td>\n",
              "      <td>...</td>\n",
              "      <td>-0.3170</td>\n",
              "      <td>-0.31000</td>\n",
              "      <td>-3.030000e-01</td>\n",
              "      <td>-0.29600</td>\n",
              "      <td>-0.28900</td>\n",
              "      <td>-2.810000e-01</td>\n",
              "      <td>-0.273000</td>\n",
              "      <td>-2.640000e-01</td>\n",
              "      <td>-2.560000e-01</td>\n",
              "      <td>-2.470000e-01</td>\n",
              "    </tr>\n",
              "    <tr>\n",
              "      <th>47085</th>\n",
              "      <td>0.0329</td>\n",
              "      <td>4.290000e-02</td>\n",
              "      <td>0.05350</td>\n",
              "      <td>0.064600</td>\n",
              "      <td>7.570000e-02</td>\n",
              "      <td>0.086500</td>\n",
              "      <td>9.670000e-02</td>\n",
              "      <td>0.10600</td>\n",
              "      <td>1.140000e-01</td>\n",
              "      <td>1.200000e-01</td>\n",
              "      <td>...</td>\n",
              "      <td>-0.4910</td>\n",
              "      <td>-0.47400</td>\n",
              "      <td>-4.530000e-01</td>\n",
              "      <td>-0.43000</td>\n",
              "      <td>-0.40300</td>\n",
              "      <td>-3.750000e-01</td>\n",
              "      <td>-0.344000</td>\n",
              "      <td>-3.130000e-01</td>\n",
              "      <td>-2.810000e-01</td>\n",
              "      <td>-2.490000e-01</td>\n",
              "    </tr>\n",
              "    <tr>\n",
              "      <th>47086</th>\n",
              "      <td>-0.1550</td>\n",
              "      <td>-1.550000e-01</td>\n",
              "      <td>-0.15500</td>\n",
              "      <td>-0.155000</td>\n",
              "      <td>-1.550000e-01</td>\n",
              "      <td>-0.155000</td>\n",
              "      <td>-1.550000e-01</td>\n",
              "      <td>-0.15500</td>\n",
              "      <td>-1.550000e-01</td>\n",
              "      <td>-1.550000e-01</td>\n",
              "      <td>...</td>\n",
              "      <td>-0.1550</td>\n",
              "      <td>-0.15500</td>\n",
              "      <td>-1.550000e-01</td>\n",
              "      <td>-0.15500</td>\n",
              "      <td>-0.15500</td>\n",
              "      <td>-1.550000e-01</td>\n",
              "      <td>-0.155000</td>\n",
              "      <td>-1.550000e-01</td>\n",
              "      <td>-1.550000e-01</td>\n",
              "      <td>-1.550000e-01</td>\n",
              "    </tr>\n",
              "    <tr>\n",
              "      <th>47087</th>\n",
              "      <td>-0.2640</td>\n",
              "      <td>-2.520000e-01</td>\n",
              "      <td>-0.23500</td>\n",
              "      <td>-0.214000</td>\n",
              "      <td>-1.900000e-01</td>\n",
              "      <td>-0.162000</td>\n",
              "      <td>-1.310000e-01</td>\n",
              "      <td>-0.09730</td>\n",
              "      <td>-6.220000e-02</td>\n",
              "      <td>-2.610000e-02</td>\n",
              "      <td>...</td>\n",
              "      <td>-0.4550</td>\n",
              "      <td>-0.45400</td>\n",
              "      <td>-4.510000e-01</td>\n",
              "      <td>-0.44400</td>\n",
              "      <td>-0.43400</td>\n",
              "      <td>-4.220000e-01</td>\n",
              "      <td>-0.408000</td>\n",
              "      <td>-3.910000e-01</td>\n",
              "      <td>-3.730000e-01</td>\n",
              "      <td>-3.530000e-01</td>\n",
              "    </tr>\n",
              "  </tbody>\n",
              "</table>\n",
              "<p>47088 rows × 100 columns</p>\n",
              "</div>\n",
              "      <button class=\"colab-df-convert\" onclick=\"convertToInteractive('df-2f05aceb-5b37-47ad-9c52-fd7692c0c3f9')\"\n",
              "              title=\"Convert this dataframe to an interactive table.\"\n",
              "              style=\"display:none;\">\n",
              "        \n",
              "  <svg xmlns=\"http://www.w3.org/2000/svg\" height=\"24px\"viewBox=\"0 0 24 24\"\n",
              "       width=\"24px\">\n",
              "    <path d=\"M0 0h24v24H0V0z\" fill=\"none\"/>\n",
              "    <path d=\"M18.56 5.44l.94 2.06.94-2.06 2.06-.94-2.06-.94-.94-2.06-.94 2.06-2.06.94zm-11 1L8.5 8.5l.94-2.06 2.06-.94-2.06-.94L8.5 2.5l-.94 2.06-2.06.94zm10 10l.94 2.06.94-2.06 2.06-.94-2.06-.94-.94-2.06-.94 2.06-2.06.94z\"/><path d=\"M17.41 7.96l-1.37-1.37c-.4-.4-.92-.59-1.43-.59-.52 0-1.04.2-1.43.59L10.3 9.45l-7.72 7.72c-.78.78-.78 2.05 0 2.83L4 21.41c.39.39.9.59 1.41.59.51 0 1.02-.2 1.41-.59l7.78-7.78 2.81-2.81c.8-.78.8-2.07 0-2.86zM5.41 20L4 18.59l7.72-7.72 1.47 1.35L5.41 20z\"/>\n",
              "  </svg>\n",
              "      </button>\n",
              "      \n",
              "  <style>\n",
              "    .colab-df-container {\n",
              "      display:flex;\n",
              "      flex-wrap:wrap;\n",
              "      gap: 12px;\n",
              "    }\n",
              "\n",
              "    .colab-df-convert {\n",
              "      background-color: #E8F0FE;\n",
              "      border: none;\n",
              "      border-radius: 50%;\n",
              "      cursor: pointer;\n",
              "      display: none;\n",
              "      fill: #1967D2;\n",
              "      height: 32px;\n",
              "      padding: 0 0 0 0;\n",
              "      width: 32px;\n",
              "    }\n",
              "\n",
              "    .colab-df-convert:hover {\n",
              "      background-color: #E2EBFA;\n",
              "      box-shadow: 0px 1px 2px rgba(60, 64, 67, 0.3), 0px 1px 3px 1px rgba(60, 64, 67, 0.15);\n",
              "      fill: #174EA6;\n",
              "    }\n",
              "\n",
              "    [theme=dark] .colab-df-convert {\n",
              "      background-color: #3B4455;\n",
              "      fill: #D2E3FC;\n",
              "    }\n",
              "\n",
              "    [theme=dark] .colab-df-convert:hover {\n",
              "      background-color: #434B5C;\n",
              "      box-shadow: 0px 1px 3px 1px rgba(0, 0, 0, 0.15);\n",
              "      filter: drop-shadow(0px 1px 2px rgba(0, 0, 0, 0.3));\n",
              "      fill: #FFFFFF;\n",
              "    }\n",
              "  </style>\n",
              "\n",
              "      <script>\n",
              "        const buttonEl =\n",
              "          document.querySelector('#df-2f05aceb-5b37-47ad-9c52-fd7692c0c3f9 button.colab-df-convert');\n",
              "        buttonEl.style.display =\n",
              "          google.colab.kernel.accessAllowed ? 'block' : 'none';\n",
              "\n",
              "        async function convertToInteractive(key) {\n",
              "          const element = document.querySelector('#df-2f05aceb-5b37-47ad-9c52-fd7692c0c3f9');\n",
              "          const dataTable =\n",
              "            await google.colab.kernel.invokeFunction('convertToInteractive',\n",
              "                                                     [key], {});\n",
              "          if (!dataTable) return;\n",
              "\n",
              "          const docLinkHtml = 'Like what you see? Visit the ' +\n",
              "            '<a target=\"_blank\" href=https://colab.research.google.com/notebooks/data_table.ipynb>data table notebook</a>'\n",
              "            + ' to learn more about interactive tables.';\n",
              "          element.innerHTML = '';\n",
              "          dataTable['output_type'] = 'display_data';\n",
              "          await google.colab.output.renderOutput(dataTable, element);\n",
              "          const docLink = document.createElement('div');\n",
              "          docLink.innerHTML = docLinkHtml;\n",
              "          element.appendChild(docLink);\n",
              "        }\n",
              "      </script>\n",
              "    </div>\n",
              "  </div>\n",
              "  "
            ]
          },
          "metadata": {},
          "execution_count": 12
        }
      ]
    },
    {
      "cell_type": "markdown",
      "source": [
        "# 2. Build Autoencoder"
      ],
      "metadata": {
        "id": "jCB3ZGRmIzMe"
      }
    },
    {
      "cell_type": "code",
      "source": [
        "# split data into training and validation sets\n",
        "x_train, x_test = train_test_split(df, test_size=0.25, shuffle = True)"
      ],
      "metadata": {
        "id": "6FG9ye38JlWI"
      },
      "execution_count": 14,
      "outputs": []
    },
    {
      "cell_type": "code",
      "source": [
        "x_train.shape"
      ],
      "metadata": {
        "colab": {
          "base_uri": "https://localhost:8080/"
        },
        "id": "beeEExvWoXHn",
        "outputId": "a2702dcf-a7dc-4d8c-f852-2b4d6a8a39dc"
      },
      "execution_count": 15,
      "outputs": [
        {
          "output_type": "execute_result",
          "data": {
            "text/plain": [
              "(35316, 100)"
            ]
          },
          "metadata": {},
          "execution_count": 15
        }
      ]
    },
    {
      "cell_type": "code",
      "source": [
        "x_test.shape"
      ],
      "metadata": {
        "colab": {
          "base_uri": "https://localhost:8080/"
        },
        "id": "pxd6hwj5NrVS",
        "outputId": "fc8f75a7-0196-4e85-e252-54003f565706"
      },
      "execution_count": 212,
      "outputs": [
        {
          "output_type": "execute_result",
          "data": {
            "text/plain": [
              "(11772, 100)"
            ]
          },
          "metadata": {},
          "execution_count": 212
        }
      ]
    },
    {
      "cell_type": "code",
      "source": [
        "# add callback\n",
        "# callback prevents overfitting. Interrupts iterations over the data when model stops improving, rather than running all specified epochs.\n",
        "callback = tf.keras.callbacks.EarlyStopping(monitor='loss', patience=5, min_delta = 0.001)"
      ],
      "metadata": {
        "id": "b3ThYs535pNI"
      },
      "execution_count": 35,
      "outputs": []
    },
    {
      "cell_type": "code",
      "source": [
        "#create model\n",
        "model = Sequential()\n",
        " \n",
        "#create the model architecture by adding model layers\n",
        "input_layer = model.add(Dense(100, activation='tanh', input_shape=(100,)))\n",
        "pre_layer_1 = model.add(Dense(84, activation='tanh'))\n",
        "pre_layer_2 = model.add(Dense(64, activation='tanh'))\n",
        "bottle_neck = model.add(Dense(32, activation='tanh', name =\"bottle_neck\"))\n",
        "post_layer_1 = model.add(Dense(64, activation='tanh'))\n",
        "post_layer_2 = model.add(Dense(84, activation='tanh'))\n",
        "output_layer = model.add(Dense(100, activation='tanh'))\n",
        " \n",
        "#need to choose the loss function, metric, optimization scheme\n",
        "# adam is the type of gradient descent used for optimization\n",
        "model.compile(optimizer='adam', loss='mean_squared_error')"
      ],
      "metadata": {
        "id": "d5iLeH1jI-tg"
      },
      "execution_count": 193,
      "outputs": []
    },
    {
      "cell_type": "code",
      "source": [
        "model.summary()"
      ],
      "metadata": {
        "colab": {
          "base_uri": "https://localhost:8080/"
        },
        "id": "S7_noSQc8EP-",
        "outputId": "839dc2f6-03ae-422a-d5be-76c11afb97e8"
      },
      "execution_count": 147,
      "outputs": [
        {
          "output_type": "stream",
          "name": "stdout",
          "text": [
            "Model: \"sequential_8\"\n",
            "_________________________________________________________________\n",
            " Layer (type)                Output Shape              Param #   \n",
            "=================================================================\n",
            " dense_56 (Dense)            (None, 100)               10100     \n",
            "                                                                 \n",
            " dense_57 (Dense)            (None, 84)                8484      \n",
            "                                                                 \n",
            " dense_58 (Dense)            (None, 64)                5440      \n",
            "                                                                 \n",
            " dense_59 (Dense)            (None, 32)                2080      \n",
            "                                                                 \n",
            " dense_60 (Dense)            (None, 64)                2112      \n",
            "                                                                 \n",
            " dense_61 (Dense)            (None, 84)                5460      \n",
            "                                                                 \n",
            " dense_62 (Dense)            (None, 100)               8500      \n",
            "                                                                 \n",
            "=================================================================\n",
            "Total params: 42,176\n",
            "Trainable params: 42,176\n",
            "Non-trainable params: 0\n",
            "_________________________________________________________________\n"
          ]
        }
      ]
    },
    {
      "cell_type": "code",
      "source": [
        "#need to learn what to look for - always plot the loss function!\n",
        "model2 = model.fit(x_train, x_train, validation_data=(x_test, x_test),\n",
        "                     epochs=40, batch_size=100, verbose = 1, callbacks=[callback])\n",
        "#note that the model allows to give a validation test, \n",
        "#this is for a 3fold cross valiation: train-validate-test \n",
        "#predict\n",
        "test_y_predictions = model.predict(x_test)"
      ],
      "metadata": {
        "colab": {
          "base_uri": "https://localhost:8080/"
        },
        "id": "EEIZIub5N3WT",
        "outputId": "5f87246f-bfc7-4efe-f4a5-e12ceec5823b"
      },
      "execution_count": 302,
      "outputs": [
        {
          "output_type": "stream",
          "name": "stdout",
          "text": [
            "Epoch 1/40\n",
            "354/354 [==============================] - 4s 8ms/step - loss: 0.1674 - val_loss: 0.1458\n",
            "Epoch 2/40\n",
            "354/354 [==============================] - 2s 6ms/step - loss: 0.1401 - val_loss: 0.1392\n",
            "Epoch 3/40\n",
            "354/354 [==============================] - 2s 6ms/step - loss: 0.1358 - val_loss: 0.1366\n",
            "Epoch 4/40\n",
            "354/354 [==============================] - 2s 5ms/step - loss: 0.1339 - val_loss: 0.1353\n",
            "Epoch 5/40\n",
            "354/354 [==============================] - 2s 4ms/step - loss: 0.1327 - val_loss: 0.1346\n",
            "Epoch 6/40\n",
            "354/354 [==============================] - 2s 4ms/step - loss: 0.1318 - val_loss: 0.1339\n",
            "Epoch 7/40\n",
            "354/354 [==============================] - 1s 4ms/step - loss: 0.1313 - val_loss: 0.1336\n",
            "Epoch 8/40\n",
            "354/354 [==============================] - 2s 4ms/step - loss: 0.1309 - val_loss: 0.1332\n",
            "Epoch 9/40\n",
            "354/354 [==============================] - 1s 4ms/step - loss: 0.1305 - val_loss: 0.1330\n",
            "Epoch 10/40\n",
            "354/354 [==============================] - 1s 4ms/step - loss: 0.1303 - val_loss: 0.1329\n",
            "Epoch 11/40\n",
            "354/354 [==============================] - 2s 4ms/step - loss: 0.1301 - val_loss: 0.1325\n",
            "Epoch 12/40\n",
            "354/354 [==============================] - 1s 4ms/step - loss: 0.1300 - val_loss: 0.1325\n",
            "Epoch 13/40\n",
            "354/354 [==============================] - 2s 4ms/step - loss: 0.1297 - val_loss: 0.1322\n",
            "Epoch 14/40\n",
            "354/354 [==============================] - 1s 4ms/step - loss: 0.1295 - val_loss: 0.1318\n",
            "Epoch 15/40\n",
            "354/354 [==============================] - 2s 4ms/step - loss: 0.1292 - val_loss: 0.1320\n",
            "Epoch 16/40\n",
            "354/354 [==============================] - 1s 4ms/step - loss: 0.1290 - val_loss: 0.1319\n",
            "Epoch 17/40\n",
            "354/354 [==============================] - 1s 4ms/step - loss: 0.1289 - val_loss: 0.1316\n",
            "Epoch 18/40\n",
            "354/354 [==============================] - 2s 4ms/step - loss: 0.1287 - val_loss: 0.1316\n",
            "Epoch 19/40\n",
            "354/354 [==============================] - 1s 4ms/step - loss: 0.1285 - val_loss: 0.1315\n",
            "Epoch 20/40\n",
            "354/354 [==============================] - 2s 4ms/step - loss: 0.1284 - val_loss: 0.1313\n",
            "Epoch 21/40\n",
            "354/354 [==============================] - 1s 4ms/step - loss: 0.1282 - val_loss: 0.1311\n"
          ]
        }
      ]
    },
    {
      "cell_type": "code",
      "source": [
        "plt.figure(figsize=(8,10))\n",
        "plt.plot(model2.history['loss'])\n",
        "plt.plot(model2.history['val_loss'])\n",
        "plt.title('Loss Function', size = 18)\n",
        "plt.ylabel('loss', size = 12)\n",
        "plt.xlabel('epoch', size = 12)\n",
        "plt.legend(['train', 'test'], loc='upper right')\n",
        "plt.show()"
      ],
      "metadata": {
        "colab": {
          "base_uri": "https://localhost:8080/",
          "height": 629
        },
        "id": "lEu_bZKCf9gn",
        "outputId": "bd6a49c5-562e-436f-ea74-d9fcbae5fb5a"
      },
      "execution_count": 315,
      "outputs": [
        {
          "output_type": "display_data",
          "data": {
            "text/plain": [
              "<Figure size 576x720 with 1 Axes>"
            ],
            "image/png": "[encoded data removed]"
          },
          "metadata": {
            "needs_background": "light"
          }
        }
      ]
    },
    {
      "cell_type": "code",
      "source": [
        "ts2plot = 12"
      ],
      "metadata": {
        "id": "ymJ5lC67ynXz"
      },
      "execution_count": 101,
      "outputs": []
    },
    {
      "cell_type": "code",
      "source": [
        "obj = int(round((35316 + ts2plot)/6,1))\n",
        "band = ((35316 + ts2plot)%6) + 1"
      ],
      "metadata": {
        "id": "E-GHLEn-zpra"
      },
      "execution_count": 102,
      "outputs": []
    },
    {
      "cell_type": "code",
      "source": [
        "plt.figure(figsize=(26,6))\n",
        "plt.plot(x_test.iloc[ts2plot], label = \"original\", linewidth = 3);\n",
        "plt.xticks(size = 8)\n",
        "plt.yticks(size = 12)\n",
        "plt.xlabel(\"Time Stamp\", size = 14)\n",
        "plt.ylabel(\"Flux (standardized)\", size = 14)\n",
        "plt.title(f\"Original Time Series\\nObject #{obj}, Passband # {band}\", size = 20)\n",
        "plt.legend();"
      ],
      "metadata": {
        "colab": {
          "base_uri": "https://localhost:8080/",
          "height": 434
        },
        "id": "LTlktxnKPbHF",
        "outputId": "dc247d37-2af1-4a55-883b-bb52c88c5f40"
      },
      "execution_count": 321,
      "outputs": [
        {
          "output_type": "display_data",
          "data": {
            "text/plain": [
              "<Figure size 1872x432 with 1 Axes>"
            ],
            "image/png": "[encoded data removed]"
          },
          "metadata": {
            "needs_background": "light"
          }
        }
      ]
    },
    {
      "cell_type": "code",
      "source": [
        "plt.figure(figsize=(26,6))\n",
        "plt.plot(test_y_predictions[ts2plot], label = \"reproduction\", color = \"purple\", linewidth = 3)\n",
        "plt.xticks(size = 12)\n",
        "plt.yticks(size = 12)\n",
        "plt.xlabel(\"Time Stamp\", size = 14)\n",
        "plt.ylabel(\"Flux (standardized)\", size = 14)\n",
        "plt.title(f\"Predicted Time Series\\nObject #{obj}, Passband # {band}\", size = 20)\n",
        "plt.legend();"
      ],
      "metadata": {
        "colab": {
          "base_uri": "https://localhost:8080/",
          "height": 438
        },
        "id": "DoTAJvZbsSnF",
        "outputId": "1046e4ba-a6a2-4ed3-fe91-ff907fd6bb28"
      },
      "execution_count": 322,
      "outputs": [
        {
          "output_type": "display_data",
          "data": {
            "text/plain": [
              "<Figure size 1872x432 with 1 Axes>"
            ],
            "image/png": "[encoded data removed]"
          },
          "metadata": {
            "needs_background": "light"
          }
        }
      ]
    },
    {
      "cell_type": "markdown",
      "source": [
        "# 3. Extract Features \n",
        "A. Extract Features from Bottleneck"
      ],
      "metadata": {
        "id": "b2yPRj2FZj0D"
      }
    },
    {
      "cell_type": "code",
      "source": [
        "bottleneck_output = model.get_layer('bottle_neck').output\n",
        "model_bottleneck = Model(inputs = model.input, outputs = bottleneck_output)\n",
        "\n",
        "bottleneck_predictions = model_bottleneck.predict(df)"
      ],
      "metadata": {
        "id": "fjJ-tZy0AHZJ"
      },
      "execution_count": 287,
      "outputs": []
    },
    {
      "cell_type": "code",
      "source": [
        "bottleneck_predictions.shape"
      ],
      "metadata": {
        "colab": {
          "base_uri": "https://localhost:8080/"
        },
        "id": "XzlYOAI7GTzq",
        "outputId": "b67a4c85-92a5-41f3-ab2f-2b10ec1f0835"
      },
      "execution_count": 288,
      "outputs": [
        {
          "output_type": "execute_result",
          "data": {
            "text/plain": [
              "(47088, 32)"
            ]
          },
          "metadata": {},
          "execution_count": 288
        }
      ]
    },
    {
      "cell_type": "code",
      "source": [
        "bottleneck_predictions[0]"
      ],
      "metadata": {
        "colab": {
          "base_uri": "https://localhost:8080/"
        },
        "id": "EzWCd_NAI4rZ",
        "outputId": "4c0d674f-3cdc-413b-bd41-7321419ec89d"
      },
      "execution_count": 218,
      "outputs": [
        {
          "output_type": "execute_result",
          "data": {
            "text/plain": [
              "array([-0.23807916,  0.04518425,  0.14493021,  0.19941987,  0.02950279,\n",
              "       -0.1300732 , -0.01172946, -0.12652364,  0.6299905 ,  0.18572277,\n",
              "        0.28550166, -0.14162102,  0.35599014, -0.23861821,  0.07314416,\n",
              "       -0.1752361 , -0.0557333 , -0.01011037, -0.11917275, -0.21286963,\n",
              "       -0.03374106, -0.11606947,  0.07070268, -0.07285649, -0.08545274,\n",
              "        0.23011263,  0.27932608,  0.22518891,  0.48549172, -0.0840626 ,\n",
              "        0.35063455, -0.06236338], dtype=float32)"
            ]
          },
          "metadata": {},
          "execution_count": 218
        }
      ]
    },
    {
      "cell_type": "markdown",
      "source": [
        "B. Import Previously Extracted Features"
      ],
      "metadata": {
        "id": "ndmoTRVeJRip"
      }
    },
    {
      "cell_type": "code",
      "source": [
        "lcvs_features = pd.read_csv(\"lcvs_features.csv\")"
      ],
      "metadata": {
        "id": "Zg1YYmnLJZ2p"
      },
      "execution_count": 205,
      "outputs": []
    },
    {
      "cell_type": "code",
      "source": [
        "lcvs_features"
      ],
      "metadata": {
        "colab": {
          "base_uri": "https://localhost:8080/",
          "height": 424
        },
        "id": "cHFJntgiLte4",
        "outputId": "b5122777-0f3f-4cfa-991b-3289de1b5ae8"
      },
      "execution_count": 206,
      "outputs": [
        {
          "output_type": "execute_result",
          "data": {
            "text/plain": [
              "      object_id  passband     mins   maxs   means  means_std  maxs_std  \\\n",
              "0         615.0       0.0  -117.00  125.0   -3.25   -0.00758    0.0273   \n",
              "1         615.0       1.0 -1100.00  661.0 -386.00   -0.11100    0.1730   \n",
              "2         615.0       2.0  -682.00  612.0 -134.00   -0.04310    0.1590   \n",
              "3         615.0       3.0  -531.00  446.0 -121.00   -0.03960    0.1140   \n",
              "4         615.0       4.0  -422.00  382.0  -56.00   -0.02190    0.0970   \n",
              "...         ...       ...      ...    ...     ...        ...       ...   \n",
              "7843   214000.0       1.0    -4.06  103.0    6.04   -0.00506    0.0213   \n",
              "7844   214000.0       2.0    -3.71  150.0   11.50   -0.00359    0.0340   \n",
              "7845   214000.0       3.0    -3.36  134.0   14.90   -0.00267    0.0296   \n",
              "7846   214000.0       4.0    -7.01  118.0   14.10   -0.00287    0.0253   \n",
              "7847   214000.0       5.0   -10.10  102.0   12.10   -0.00342    0.0210   \n",
              "\n",
              "        s_std  median_std   decl  \n",
              "0     0.02280    -0.00942 -61.90  \n",
              "1     0.16300    -0.13900 -27.80  \n",
              "2     0.12400    -0.07880  -6.58  \n",
              "3     0.09100    -0.05070 -45.60  \n",
              "4     0.07920    -0.03480 -63.80  \n",
              "...       ...         ...    ...  \n",
              "7843  0.00531    -0.00654 -14.90  \n",
              "7844  0.00825    -0.00651 -62.70  \n",
              "7845  0.00870    -0.00646 -55.70  \n",
              "7846  0.00806    -0.00653 -35.50  \n",
              "7847  0.00664    -0.00596 -17.40  \n",
              "\n",
              "[7848 rows x 10 columns]"
            ],
            "text/html": [
              "\n",
              "  <div id=\"df-80a0c005-32ca-4779-a8cb-246c56e39838\">\n",
              "    <div class=\"colab-df-container\">\n",
              "      <div>\n",
              "<style scoped>\n",
              "    .dataframe tbody tr th:only-of-type {\n",
              "        vertical-align: middle;\n",
              "    }\n",
              "\n",
              "    .dataframe tbody tr th {\n",
              "        vertical-align: top;\n",
              "    }\n",
              "\n",
              "    .dataframe thead th {\n",
              "        text-align: right;\n",
              "    }\n",
              "</style>\n",
              "<table border=\"1\" class=\"dataframe\">\n",
              "  <thead>\n",
              "    <tr style=\"text-align: right;\">\n",
              "      <th></th>\n",
              "      <th>object_id</th>\n",
              "      <th>passband</th>\n",
              "      <th>mins</th>\n",
              "      <th>maxs</th>\n",
              "      <th>means</th>\n",
              "      <th>means_std</th>\n",
              "      <th>maxs_std</th>\n",
              "      <th>s_std</th>\n",
              "      <th>median_std</th>\n",
              "      <th>decl</th>\n",
              "    </tr>\n",
              "  </thead>\n",
              "  <tbody>\n",
              "    <tr>\n",
              "      <th>0</th>\n",
              "      <td>615.0</td>\n",
              "      <td>0.0</td>\n",
              "      <td>-117.00</td>\n",
              "      <td>125.0</td>\n",
              "      <td>-3.25</td>\n",
              "      <td>-0.00758</td>\n",
              "      <td>0.0273</td>\n",
              "      <td>0.02280</td>\n",
              "      <td>-0.00942</td>\n",
              "      <td>-61.90</td>\n",
              "    </tr>\n",
              "    <tr>\n",
              "      <th>1</th>\n",
              "      <td>615.0</td>\n",
              "      <td>1.0</td>\n",
              "      <td>-1100.00</td>\n",
              "      <td>661.0</td>\n",
              "      <td>-386.00</td>\n",
              "      <td>-0.11100</td>\n",
              "      <td>0.1730</td>\n",
              "      <td>0.16300</td>\n",
              "      <td>-0.13900</td>\n",
              "      <td>-27.80</td>\n",
              "    </tr>\n",
              "    <tr>\n",
              "      <th>2</th>\n",
              "      <td>615.0</td>\n",
              "      <td>2.0</td>\n",
              "      <td>-682.00</td>\n",
              "      <td>612.0</td>\n",
              "      <td>-134.00</td>\n",
              "      <td>-0.04310</td>\n",
              "      <td>0.1590</td>\n",
              "      <td>0.12400</td>\n",
              "      <td>-0.07880</td>\n",
              "      <td>-6.58</td>\n",
              "    </tr>\n",
              "    <tr>\n",
              "      <th>3</th>\n",
              "      <td>615.0</td>\n",
              "      <td>3.0</td>\n",
              "      <td>-531.00</td>\n",
              "      <td>446.0</td>\n",
              "      <td>-121.00</td>\n",
              "      <td>-0.03960</td>\n",
              "      <td>0.1140</td>\n",
              "      <td>0.09100</td>\n",
              "      <td>-0.05070</td>\n",
              "      <td>-45.60</td>\n",
              "    </tr>\n",
              "    <tr>\n",
              "      <th>4</th>\n",
              "      <td>615.0</td>\n",
              "      <td>4.0</td>\n",
              "      <td>-422.00</td>\n",
              "      <td>382.0</td>\n",
              "      <td>-56.00</td>\n",
              "      <td>-0.02190</td>\n",
              "      <td>0.0970</td>\n",
              "      <td>0.07920</td>\n",
              "      <td>-0.03480</td>\n",
              "      <td>-63.80</td>\n",
              "    </tr>\n",
              "    <tr>\n",
              "      <th>...</th>\n",
              "      <td>...</td>\n",
              "      <td>...</td>\n",
              "      <td>...</td>\n",
              "      <td>...</td>\n",
              "      <td>...</td>\n",
              "      <td>...</td>\n",
              "      <td>...</td>\n",
              "      <td>...</td>\n",
              "      <td>...</td>\n",
              "      <td>...</td>\n",
              "    </tr>\n",
              "    <tr>\n",
              "      <th>7843</th>\n",
              "      <td>214000.0</td>\n",
              "      <td>1.0</td>\n",
              "      <td>-4.06</td>\n",
              "      <td>103.0</td>\n",
              "      <td>6.04</td>\n",
              "      <td>-0.00506</td>\n",
              "      <td>0.0213</td>\n",
              "      <td>0.00531</td>\n",
              "      <td>-0.00654</td>\n",
              "      <td>-14.90</td>\n",
              "    </tr>\n",
              "    <tr>\n",
              "      <th>7844</th>\n",
              "      <td>214000.0</td>\n",
              "      <td>2.0</td>\n",
              "      <td>-3.71</td>\n",
              "      <td>150.0</td>\n",
              "      <td>11.50</td>\n",
              "      <td>-0.00359</td>\n",
              "      <td>0.0340</td>\n",
              "      <td>0.00825</td>\n",
              "      <td>-0.00651</td>\n",
              "      <td>-62.70</td>\n",
              "    </tr>\n",
              "    <tr>\n",
              "      <th>7845</th>\n",
              "      <td>214000.0</td>\n",
              "      <td>3.0</td>\n",
              "      <td>-3.36</td>\n",
              "      <td>134.0</td>\n",
              "      <td>14.90</td>\n",
              "      <td>-0.00267</td>\n",
              "      <td>0.0296</td>\n",
              "      <td>0.00870</td>\n",
              "      <td>-0.00646</td>\n",
              "      <td>-55.70</td>\n",
              "    </tr>\n",
              "    <tr>\n",
              "      <th>7846</th>\n",
              "      <td>214000.0</td>\n",
              "      <td>4.0</td>\n",
              "      <td>-7.01</td>\n",
              "      <td>118.0</td>\n",
              "      <td>14.10</td>\n",
              "      <td>-0.00287</td>\n",
              "      <td>0.0253</td>\n",
              "      <td>0.00806</td>\n",
              "      <td>-0.00653</td>\n",
              "      <td>-35.50</td>\n",
              "    </tr>\n",
              "    <tr>\n",
              "      <th>7847</th>\n",
              "      <td>214000.0</td>\n",
              "      <td>5.0</td>\n",
              "      <td>-10.10</td>\n",
              "      <td>102.0</td>\n",
              "      <td>12.10</td>\n",
              "      <td>-0.00342</td>\n",
              "      <td>0.0210</td>\n",
              "      <td>0.00664</td>\n",
              "      <td>-0.00596</td>\n",
              "      <td>-17.40</td>\n",
              "    </tr>\n",
              "  </tbody>\n",
              "</table>\n",
              "<p>7848 rows × 10 columns</p>\n",
              "</div>\n",
              "      <button class=\"colab-df-convert\" onclick=\"convertToInteractive('df-80a0c005-32ca-4779-a8cb-246c56e39838')\"\n",
              "              title=\"Convert this dataframe to an interactive table.\"\n",
              "              style=\"display:none;\">\n",
              "        \n",
              "  <svg xmlns=\"http://www.w3.org/2000/svg\" height=\"24px\"viewBox=\"0 0 24 24\"\n",
              "       width=\"24px\">\n",
              "    <path d=\"M0 0h24v24H0V0z\" fill=\"none\"/>\n",
              "    <path d=\"M18.56 5.44l.94 2.06.94-2.06 2.06-.94-2.06-.94-.94-2.06-.94 2.06-2.06.94zm-11 1L8.5 8.5l.94-2.06 2.06-.94-2.06-.94L8.5 2.5l-.94 2.06-2.06.94zm10 10l.94 2.06.94-2.06 2.06-.94-2.06-.94-.94-2.06-.94 2.06-2.06.94z\"/><path d=\"M17.41 7.96l-1.37-1.37c-.4-.4-.92-.59-1.43-.59-.52 0-1.04.2-1.43.59L10.3 9.45l-7.72 7.72c-.78.78-.78 2.05 0 2.83L4 21.41c.39.39.9.59 1.41.59.51 0 1.02-.2 1.41-.59l7.78-7.78 2.81-2.81c.8-.78.8-2.07 0-2.86zM5.41 20L4 18.59l7.72-7.72 1.47 1.35L5.41 20z\"/>\n",
              "  </svg>\n",
              "      </button>\n",
              "      \n",
              "  <style>\n",
              "    .colab-df-container {\n",
              "      display:flex;\n",
              "      flex-wrap:wrap;\n",
              "      gap: 12px;\n",
              "    }\n",
              "\n",
              "    .colab-df-convert {\n",
              "      background-color: #E8F0FE;\n",
              "      border: none;\n",
              "      border-radius: 50%;\n",
              "      cursor: pointer;\n",
              "      display: none;\n",
              "      fill: #1967D2;\n",
              "      height: 32px;\n",
              "      padding: 0 0 0 0;\n",
              "      width: 32px;\n",
              "    }\n",
              "\n",
              "    .colab-df-convert:hover {\n",
              "      background-color: #E2EBFA;\n",
              "      box-shadow: 0px 1px 2px rgba(60, 64, 67, 0.3), 0px 1px 3px 1px rgba(60, 64, 67, 0.15);\n",
              "      fill: #174EA6;\n",
              "    }\n",
              "\n",
              "    [theme=dark] .colab-df-convert {\n",
              "      background-color: #3B4455;\n",
              "      fill: #D2E3FC;\n",
              "    }\n",
              "\n",
              "    [theme=dark] .colab-df-convert:hover {\n",
              "      background-color: #434B5C;\n",
              "      box-shadow: 0px 1px 3px 1px rgba(0, 0, 0, 0.15);\n",
              "      filter: drop-shadow(0px 1px 2px rgba(0, 0, 0, 0.3));\n",
              "      fill: #FFFFFF;\n",
              "    }\n",
              "  </style>\n",
              "\n",
              "      <script>\n",
              "        const buttonEl =\n",
              "          document.querySelector('#df-80a0c005-32ca-4779-a8cb-246c56e39838 button.colab-df-convert');\n",
              "        buttonEl.style.display =\n",
              "          google.colab.kernel.accessAllowed ? 'block' : 'none';\n",
              "\n",
              "        async function convertToInteractive(key) {\n",
              "          const element = document.querySelector('#df-80a0c005-32ca-4779-a8cb-246c56e39838');\n",
              "          const dataTable =\n",
              "            await google.colab.kernel.invokeFunction('convertToInteractive',\n",
              "                                                     [key], {});\n",
              "          if (!dataTable) return;\n",
              "\n",
              "          const docLinkHtml = 'Like what you see? Visit the ' +\n",
              "            '<a target=\"_blank\" href=https://colab.research.google.com/notebooks/data_table.ipynb>data table notebook</a>'\n",
              "            + ' to learn more about interactive tables.';\n",
              "          element.innerHTML = '';\n",
              "          dataTable['output_type'] = 'display_data';\n",
              "          await google.colab.output.renderOutput(dataTable, element);\n",
              "          const docLink = document.createElement('div');\n",
              "          docLink.innerHTML = docLinkHtml;\n",
              "          element.appendChild(docLink);\n",
              "        }\n",
              "      </script>\n",
              "    </div>\n",
              "  </div>\n",
              "  "
            ]
          },
          "metadata": {},
          "execution_count": 206
        }
      ]
    },
    {
      "cell_type": "markdown",
      "source": [
        "C. Combine Bottleneck Features and Previously Extracted Features"
      ],
      "metadata": {
        "id": "AO0T3WuBPdVv"
      }
    },
    {
      "cell_type": "code",
      "source": [
        "# reshape to match the feature dataframe\n",
        "bottleneck_predictions = bottleneck_predictions.reshape(7848, bottleneck_predictions.shape[1] * 6)"
      ],
      "metadata": {
        "id": "nzxa4616d-vY"
      },
      "execution_count": 289,
      "outputs": []
    },
    {
      "cell_type": "code",
      "source": [
        "# convert to dataframe to match feature dataframe\n",
        "bottleneck_predictions = pd.DataFrame(bottleneck_predictions)"
      ],
      "metadata": {
        "id": "NL--CxHbeIEB"
      },
      "execution_count": 291,
      "outputs": []
    },
    {
      "cell_type": "code",
      "source": [
        "bottleneck_predictions.shape"
      ],
      "metadata": {
        "colab": {
          "base_uri": "https://localhost:8080/"
        },
        "id": "KisSH0hydS0Y",
        "outputId": "b381ba16-43e7-4de9-e9ee-23443940d40e"
      },
      "execution_count": 292,
      "outputs": [
        {
          "output_type": "execute_result",
          "data": {
            "text/plain": [
              "(7848, 192)"
            ]
          },
          "metadata": {},
          "execution_count": 292
        }
      ]
    },
    {
      "cell_type": "code",
      "source": [
        "#combine\n",
        "features = pd.concat([lcvs_features, bottleneck_predictions], axis = 1)"
      ],
      "metadata": {
        "id": "OwJehknreNo4"
      },
      "execution_count": 297,
      "outputs": []
    },
    {
      "cell_type": "code",
      "source": [
        "features"
      ],
      "metadata": {
        "colab": {
          "base_uri": "https://localhost:8080/",
          "height": 424
        },
        "id": "ZVnfsJb8eRD4",
        "outputId": "8ca63d10-2675-42a4-dcb9-de15c1e14378"
      },
      "execution_count": 298,
      "outputs": [
        {
          "output_type": "execute_result",
          "data": {
            "text/plain": [
              "      object_id  passband     mins   maxs   means  means_std  maxs_std  \\\n",
              "0         615.0       0.0  -117.00  125.0   -3.25   -0.00758    0.0273   \n",
              "1         615.0       1.0 -1100.00  661.0 -386.00   -0.11100    0.1730   \n",
              "2         615.0       2.0  -682.00  612.0 -134.00   -0.04310    0.1590   \n",
              "3         615.0       3.0  -531.00  446.0 -121.00   -0.03960    0.1140   \n",
              "4         615.0       4.0  -422.00  382.0  -56.00   -0.02190    0.0970   \n",
              "...         ...       ...      ...    ...     ...        ...       ...   \n",
              "7843   214000.0       1.0    -4.06  103.0    6.04   -0.00506    0.0213   \n",
              "7844   214000.0       2.0    -3.71  150.0   11.50   -0.00359    0.0340   \n",
              "7845   214000.0       3.0    -3.36  134.0   14.90   -0.00267    0.0296   \n",
              "7846   214000.0       4.0    -7.01  118.0   14.10   -0.00287    0.0253   \n",
              "7847   214000.0       5.0   -10.10  102.0   12.10   -0.00342    0.0210   \n",
              "\n",
              "        s_std  median_std   decl  ...       182       183       184       185  \\\n",
              "0     0.02280    -0.00942 -61.90  ... -0.201713  0.034255  0.236295 -0.270838   \n",
              "1     0.16300    -0.13900 -27.80  ... -0.074185 -0.016563 -0.291250  0.262155   \n",
              "2     0.12400    -0.07880  -6.58  ...  0.366369 -0.083553 -0.014760  0.014919   \n",
              "3     0.09100    -0.05070 -45.60  ...  0.592343 -0.375776  0.481137  0.300621   \n",
              "4     0.07920    -0.03480 -63.80  ... -0.143392  0.329152  0.401314  0.500233   \n",
              "...       ...         ...    ...  ...       ...       ...       ...       ...   \n",
              "7843  0.00531    -0.00654 -14.90  ... -0.397992  0.426068 -0.091413 -0.292976   \n",
              "7844  0.00825    -0.00651 -62.70  ... -0.014769  0.458180 -0.123275  0.206263   \n",
              "7845  0.00870    -0.00646 -55.70  ...  0.273840 -0.350788 -0.165034 -0.103208   \n",
              "7846  0.00806    -0.00653 -35.50  ... -0.073997  0.099118  0.696811 -0.923196   \n",
              "7847  0.00664    -0.00596 -17.40  ...  0.189023  0.018758 -0.210325  0.332642   \n",
              "\n",
              "           186       187       188       189       190       191  \n",
              "0     0.062571 -0.132051 -0.012356 -0.027289 -0.128235 -0.033617  \n",
              "1     0.067294  0.016071  0.276166  0.124639  0.145521  0.272359  \n",
              "2     0.595424 -0.375520 -0.215569 -0.262652  0.102121 -0.198855  \n",
              "3     0.321030  0.474200  0.372359 -0.254526 -0.617886  0.367307  \n",
              "4     0.790866 -0.521070 -0.586211 -0.172765  0.077749 -0.405221  \n",
              "...        ...       ...       ...       ...       ...       ...  \n",
              "7843  0.285374  0.504490  0.314843  0.384698 -0.475998 -0.526714  \n",
              "7844 -0.482178 -0.260620  0.158504 -0.170656  0.162181 -0.258468  \n",
              "7845 -0.300122 -0.059545 -0.106952 -0.400110  0.207700  0.068164  \n",
              "7846 -0.065949  0.534416  0.121762  0.499228 -0.408649 -0.394671  \n",
              "7847 -0.124881 -0.109710  0.110563  0.559407 -0.233875  0.253755  \n",
              "\n",
              "[7848 rows x 202 columns]"
            ],
            "text/html": [
              "\n",
              "  <div id=\"df-9c6a0167-70b2-4523-99f1-e397a82facb9\">\n",
              "    <div class=\"colab-df-container\">\n",
              "      <div>\n",
              "<style scoped>\n",
              "    .dataframe tbody tr th:only-of-type {\n",
              "        vertical-align: middle;\n",
              "    }\n",
              "\n",
              "    .dataframe tbody tr th {\n",
              "        vertical-align: top;\n",
              "    }\n",
              "\n",
              "    .dataframe thead th {\n",
              "        text-align: right;\n",
              "    }\n",
              "</style>\n",
              "<table border=\"1\" class=\"dataframe\">\n",
              "  <thead>\n",
              "    <tr style=\"text-align: right;\">\n",
              "      <th></th>\n",
              "      <th>object_id</th>\n",
              "      <th>passband</th>\n",
              "      <th>mins</th>\n",
              "      <th>maxs</th>\n",
              "      <th>means</th>\n",
              "      <th>means_std</th>\n",
              "      <th>maxs_std</th>\n",
              "      <th>s_std</th>\n",
              "      <th>median_std</th>\n",
              "      <th>decl</th>\n",
              "      <th>...</th>\n",
              "      <th>182</th>\n",
              "      <th>183</th>\n",
              "      <th>184</th>\n",
              "      <th>185</th>\n",
              "      <th>186</th>\n",
              "      <th>187</th>\n",
              "      <th>188</th>\n",
              "      <th>189</th>\n",
              "      <th>190</th>\n",
              "      <th>191</th>\n",
              "    </tr>\n",
              "  </thead>\n",
              "  <tbody>\n",
              "    <tr>\n",
              "      <th>0</th>\n",
              "      <td>615.0</td>\n",
              "      <td>0.0</td>\n",
              "      <td>-117.00</td>\n",
              "      <td>125.0</td>\n",
              "      <td>-3.25</td>\n",
              "      <td>-0.00758</td>\n",
              "      <td>0.0273</td>\n",
              "      <td>0.02280</td>\n",
              "      <td>-0.00942</td>\n",
              "      <td>-61.90</td>\n",
              "      <td>...</td>\n",
              "      <td>-0.201713</td>\n",
              "      <td>0.034255</td>\n",
              "      <td>0.236295</td>\n",
              "      <td>-0.270838</td>\n",
              "      <td>0.062571</td>\n",
              "      <td>-0.132051</td>\n",
              "      <td>-0.012356</td>\n",
              "      <td>-0.027289</td>\n",
              "      <td>-0.128235</td>\n",
              "      <td>-0.033617</td>\n",
              "    </tr>\n",
              "    <tr>\n",
              "      <th>1</th>\n",
              "      <td>615.0</td>\n",
              "      <td>1.0</td>\n",
              "      <td>-1100.00</td>\n",
              "      <td>661.0</td>\n",
              "      <td>-386.00</td>\n",
              "      <td>-0.11100</td>\n",
              "      <td>0.1730</td>\n",
              "      <td>0.16300</td>\n",
              "      <td>-0.13900</td>\n",
              "      <td>-27.80</td>\n",
              "      <td>...</td>\n",
              "      <td>-0.074185</td>\n",
              "      <td>-0.016563</td>\n",
              "      <td>-0.291250</td>\n",
              "      <td>0.262155</td>\n",
              "      <td>0.067294</td>\n",
              "      <td>0.016071</td>\n",
              "      <td>0.276166</td>\n",
              "      <td>0.124639</td>\n",
              "      <td>0.145521</td>\n",
              "      <td>0.272359</td>\n",
              "    </tr>\n",
              "    <tr>\n",
              "      <th>2</th>\n",
              "      <td>615.0</td>\n",
              "      <td>2.0</td>\n",
              "      <td>-682.00</td>\n",
              "      <td>612.0</td>\n",
              "      <td>-134.00</td>\n",
              "      <td>-0.04310</td>\n",
              "      <td>0.1590</td>\n",
              "      <td>0.12400</td>\n",
              "      <td>-0.07880</td>\n",
              "      <td>-6.58</td>\n",
              "      <td>...</td>\n",
              "      <td>0.366369</td>\n",
              "      <td>-0.083553</td>\n",
              "      <td>-0.014760</td>\n",
              "      <td>0.014919</td>\n",
              "      <td>0.595424</td>\n",
              "      <td>-0.375520</td>\n",
              "      <td>-0.215569</td>\n",
              "      <td>-0.262652</td>\n",
              "      <td>0.102121</td>\n",
              "      <td>-0.198855</td>\n",
              "    </tr>\n",
              "    <tr>\n",
              "      <th>3</th>\n",
              "      <td>615.0</td>\n",
              "      <td>3.0</td>\n",
              "      <td>-531.00</td>\n",
              "      <td>446.0</td>\n",
              "      <td>-121.00</td>\n",
              "      <td>-0.03960</td>\n",
              "      <td>0.1140</td>\n",
              "      <td>0.09100</td>\n",
              "      <td>-0.05070</td>\n",
              "      <td>-45.60</td>\n",
              "      <td>...</td>\n",
              "      <td>0.592343</td>\n",
              "      <td>-0.375776</td>\n",
              "      <td>0.481137</td>\n",
              "      <td>0.300621</td>\n",
              "      <td>0.321030</td>\n",
              "      <td>0.474200</td>\n",
              "      <td>0.372359</td>\n",
              "      <td>-0.254526</td>\n",
              "      <td>-0.617886</td>\n",
              "      <td>0.367307</td>\n",
              "    </tr>\n",
              "    <tr>\n",
              "      <th>4</th>\n",
              "      <td>615.0</td>\n",
              "      <td>4.0</td>\n",
              "      <td>-422.00</td>\n",
              "      <td>382.0</td>\n",
              "      <td>-56.00</td>\n",
              "      <td>-0.02190</td>\n",
              "      <td>0.0970</td>\n",
              "      <td>0.07920</td>\n",
              "      <td>-0.03480</td>\n",
              "      <td>-63.80</td>\n",
              "      <td>...</td>\n",
              "      <td>-0.143392</td>\n",
              "      <td>0.329152</td>\n",
              "      <td>0.401314</td>\n",
              "      <td>0.500233</td>\n",
              "      <td>0.790866</td>\n",
              "      <td>-0.521070</td>\n",
              "      <td>-0.586211</td>\n",
              "      <td>-0.172765</td>\n",
              "      <td>0.077749</td>\n",
              "      <td>-0.405221</td>\n",
              "    </tr>\n",
              "    <tr>\n",
              "      <th>...</th>\n",
              "      <td>...</td>\n",
              "      <td>...</td>\n",
              "      <td>...</td>\n",
              "      <td>...</td>\n",
              "      <td>...</td>\n",
              "      <td>...</td>\n",
              "      <td>...</td>\n",
              "      <td>...</td>\n",
              "      <td>...</td>\n",
              "      <td>...</td>\n",
              "      <td>...</td>\n",
              "      <td>...</td>\n",
              "      <td>...</td>\n",
              "      <td>...</td>\n",
              "      <td>...</td>\n",
              "      <td>...</td>\n",
              "      <td>...</td>\n",
              "      <td>...</td>\n",
              "      <td>...</td>\n",
              "      <td>...</td>\n",
              "      <td>...</td>\n",
              "    </tr>\n",
              "    <tr>\n",
              "      <th>7843</th>\n",
              "      <td>214000.0</td>\n",
              "      <td>1.0</td>\n",
              "      <td>-4.06</td>\n",
              "      <td>103.0</td>\n",
              "      <td>6.04</td>\n",
              "      <td>-0.00506</td>\n",
              "      <td>0.0213</td>\n",
              "      <td>0.00531</td>\n",
              "      <td>-0.00654</td>\n",
              "      <td>-14.90</td>\n",
              "      <td>...</td>\n",
              "      <td>-0.397992</td>\n",
              "      <td>0.426068</td>\n",
              "      <td>-0.091413</td>\n",
              "      <td>-0.292976</td>\n",
              "      <td>0.285374</td>\n",
              "      <td>0.504490</td>\n",
              "      <td>0.314843</td>\n",
              "      <td>0.384698</td>\n",
              "      <td>-0.475998</td>\n",
              "      <td>-0.526714</td>\n",
              "    </tr>\n",
              "    <tr>\n",
              "      <th>7844</th>\n",
              "      <td>214000.0</td>\n",
              "      <td>2.0</td>\n",
              "      <td>-3.71</td>\n",
              "      <td>150.0</td>\n",
              "      <td>11.50</td>\n",
              "      <td>-0.00359</td>\n",
              "      <td>0.0340</td>\n",
              "      <td>0.00825</td>\n",
              "      <td>-0.00651</td>\n",
              "      <td>-62.70</td>\n",
              "      <td>...</td>\n",
              "      <td>-0.014769</td>\n",
              "      <td>0.458180</td>\n",
              "      <td>-0.123275</td>\n",
              "      <td>0.206263</td>\n",
              "      <td>-0.482178</td>\n",
              "      <td>-0.260620</td>\n",
              "      <td>0.158504</td>\n",
              "      <td>-0.170656</td>\n",
              "      <td>0.162181</td>\n",
              "      <td>-0.258468</td>\n",
              "    </tr>\n",
              "    <tr>\n",
              "      <th>7845</th>\n",
              "      <td>214000.0</td>\n",
              "      <td>3.0</td>\n",
              "      <td>-3.36</td>\n",
              "      <td>134.0</td>\n",
              "      <td>14.90</td>\n",
              "      <td>-0.00267</td>\n",
              "      <td>0.0296</td>\n",
              "      <td>0.00870</td>\n",
              "      <td>-0.00646</td>\n",
              "      <td>-55.70</td>\n",
              "      <td>...</td>\n",
              "      <td>0.273840</td>\n",
              "      <td>-0.350788</td>\n",
              "      <td>-0.165034</td>\n",
              "      <td>-0.103208</td>\n",
              "      <td>-0.300122</td>\n",
              "      <td>-0.059545</td>\n",
              "      <td>-0.106952</td>\n",
              "      <td>-0.400110</td>\n",
              "      <td>0.207700</td>\n",
              "      <td>0.068164</td>\n",
              "    </tr>\n",
              "    <tr>\n",
              "      <th>7846</th>\n",
              "      <td>214000.0</td>\n",
              "      <td>4.0</td>\n",
              "      <td>-7.01</td>\n",
              "      <td>118.0</td>\n",
              "      <td>14.10</td>\n",
              "      <td>-0.00287</td>\n",
              "      <td>0.0253</td>\n",
              "      <td>0.00806</td>\n",
              "      <td>-0.00653</td>\n",
              "      <td>-35.50</td>\n",
              "      <td>...</td>\n",
              "      <td>-0.073997</td>\n",
              "      <td>0.099118</td>\n",
              "      <td>0.696811</td>\n",
              "      <td>-0.923196</td>\n",
              "      <td>-0.065949</td>\n",
              "      <td>0.534416</td>\n",
              "      <td>0.121762</td>\n",
              "      <td>0.499228</td>\n",
              "      <td>-0.408649</td>\n",
              "      <td>-0.394671</td>\n",
              "    </tr>\n",
              "    <tr>\n",
              "      <th>7847</th>\n",
              "      <td>214000.0</td>\n",
              "      <td>5.0</td>\n",
              "      <td>-10.10</td>\n",
              "      <td>102.0</td>\n",
              "      <td>12.10</td>\n",
              "      <td>-0.00342</td>\n",
              "      <td>0.0210</td>\n",
              "      <td>0.00664</td>\n",
              "      <td>-0.00596</td>\n",
              "      <td>-17.40</td>\n",
              "      <td>...</td>\n",
              "      <td>0.189023</td>\n",
              "      <td>0.018758</td>\n",
              "      <td>-0.210325</td>\n",
              "      <td>0.332642</td>\n",
              "      <td>-0.124881</td>\n",
              "      <td>-0.109710</td>\n",
              "      <td>0.110563</td>\n",
              "      <td>0.559407</td>\n",
              "      <td>-0.233875</td>\n",
              "      <td>0.253755</td>\n",
              "    </tr>\n",
              "  </tbody>\n",
              "</table>\n",
              "<p>7848 rows × 202 columns</p>\n",
              "</div>\n",
              "      <button class=\"colab-df-convert\" onclick=\"convertToInteractive('df-9c6a0167-70b2-4523-99f1-e397a82facb9')\"\n",
              "              title=\"Convert this dataframe to an interactive table.\"\n",
              "              style=\"display:none;\">\n",
              "        \n",
              "  <svg xmlns=\"http://www.w3.org/2000/svg\" height=\"24px\"viewBox=\"0 0 24 24\"\n",
              "       width=\"24px\">\n",
              "    <path d=\"M0 0h24v24H0V0z\" fill=\"none\"/>\n",
              "    <path d=\"M18.56 5.44l.94 2.06.94-2.06 2.06-.94-2.06-.94-.94-2.06-.94 2.06-2.06.94zm-11 1L8.5 8.5l.94-2.06 2.06-.94-2.06-.94L8.5 2.5l-.94 2.06-2.06.94zm10 10l.94 2.06.94-2.06 2.06-.94-2.06-.94-.94-2.06-.94 2.06-2.06.94z\"/><path d=\"M17.41 7.96l-1.37-1.37c-.4-.4-.92-.59-1.43-.59-.52 0-1.04.2-1.43.59L10.3 9.45l-7.72 7.72c-.78.78-.78 2.05 0 2.83L4 21.41c.39.39.9.59 1.41.59.51 0 1.02-.2 1.41-.59l7.78-7.78 2.81-2.81c.8-.78.8-2.07 0-2.86zM5.41 20L4 18.59l7.72-7.72 1.47 1.35L5.41 20z\"/>\n",
              "  </svg>\n",
              "      </button>\n",
              "      \n",
              "  <style>\n",
              "    .colab-df-container {\n",
              "      display:flex;\n",
              "      flex-wrap:wrap;\n",
              "      gap: 12px;\n",
              "    }\n",
              "\n",
              "    .colab-df-convert {\n",
              "      background-color: #E8F0FE;\n",
              "      border: none;\n",
              "      border-radius: 50%;\n",
              "      cursor: pointer;\n",
              "      display: none;\n",
              "      fill: #1967D2;\n",
              "      height: 32px;\n",
              "      padding: 0 0 0 0;\n",
              "      width: 32px;\n",
              "    }\n",
              "\n",
              "    .colab-df-convert:hover {\n",
              "      background-color: #E2EBFA;\n",
              "      box-shadow: 0px 1px 2px rgba(60, 64, 67, 0.3), 0px 1px 3px 1px rgba(60, 64, 67, 0.15);\n",
              "      fill: #174EA6;\n",
              "    }\n",
              "\n",
              "    [theme=dark] .colab-df-convert {\n",
              "      background-color: #3B4455;\n",
              "      fill: #D2E3FC;\n",
              "    }\n",
              "\n",
              "    [theme=dark] .colab-df-convert:hover {\n",
              "      background-color: #434B5C;\n",
              "      box-shadow: 0px 1px 3px 1px rgba(0, 0, 0, 0.15);\n",
              "      filter: drop-shadow(0px 1px 2px rgba(0, 0, 0, 0.3));\n",
              "      fill: #FFFFFF;\n",
              "    }\n",
              "  </style>\n",
              "\n",
              "      <script>\n",
              "        const buttonEl =\n",
              "          document.querySelector('#df-9c6a0167-70b2-4523-99f1-e397a82facb9 button.colab-df-convert');\n",
              "        buttonEl.style.display =\n",
              "          google.colab.kernel.accessAllowed ? 'block' : 'none';\n",
              "\n",
              "        async function convertToInteractive(key) {\n",
              "          const element = document.querySelector('#df-9c6a0167-70b2-4523-99f1-e397a82facb9');\n",
              "          const dataTable =\n",
              "            await google.colab.kernel.invokeFunction('convertToInteractive',\n",
              "                                                     [key], {});\n",
              "          if (!dataTable) return;\n",
              "\n",
              "          const docLinkHtml = 'Like what you see? Visit the ' +\n",
              "            '<a target=\"_blank\" href=https://colab.research.google.com/notebooks/data_table.ipynb>data table notebook</a>'\n",
              "            + ' to learn more about interactive tables.';\n",
              "          element.innerHTML = '';\n",
              "          dataTable['output_type'] = 'display_data';\n",
              "          await google.colab.output.renderOutput(dataTable, element);\n",
              "          const docLink = document.createElement('div');\n",
              "          docLink.innerHTML = docLinkHtml;\n",
              "          element.appendChild(docLink);\n",
              "        }\n",
              "      </script>\n",
              "    </div>\n",
              "  </div>\n",
              "  "
            ]
          },
          "metadata": {},
          "execution_count": 298
        }
      ]
    },
    {
      "cell_type": "markdown",
      "source": [
        "# 4. Random Forest Classification\n",
        "A. Import targets from metadata"
      ],
      "metadata": {
        "id": "TiQDhQQWZykB"
      }
    },
    {
      "cell_type": "code",
      "source": [
        "df_meta = pd.read_csv(\"plasticc_train_metadata.csv.gz\")"
      ],
      "metadata": {
        "id": "63ZU4btA3D2R"
      },
      "execution_count": 109,
      "outputs": []
    },
    {
      "cell_type": "code",
      "source": [
        "df_obj = pd.concat([df_meta[\"object_id\"], df_meta[\"target\"]], axis = 1 )"
      ],
      "metadata": {
        "id": "fisg-JXU3Snf"
      },
      "execution_count": 140,
      "outputs": []
    },
    {
      "cell_type": "code",
      "source": [
        "df_obj.head()"
      ],
      "metadata": {
        "colab": {
          "base_uri": "https://localhost:8080/",
          "height": 206
        },
        "id": "-PCv3Duh6ojn",
        "outputId": "9c9e8e3b-d04f-4cd5-ff1d-a38b70546a00"
      },
      "execution_count": 141,
      "outputs": [
        {
          "output_type": "execute_result",
          "data": {
            "text/plain": [
              "   object_id  target\n",
              "0        615      92\n",
              "1        713      88\n",
              "2        730      42\n",
              "3        745      90\n",
              "4       1124      90"
            ],
            "text/html": [
              "\n",
              "  <div id=\"df-52ed1ad2-2f8b-4f1b-99ec-5f6ef3c5a075\">\n",
              "    <div class=\"colab-df-container\">\n",
              "      <div>\n",
              "<style scoped>\n",
              "    .dataframe tbody tr th:only-of-type {\n",
              "        vertical-align: middle;\n",
              "    }\n",
              "\n",
              "    .dataframe tbody tr th {\n",
              "        vertical-align: top;\n",
              "    }\n",
              "\n",
              "    .dataframe thead th {\n",
              "        text-align: right;\n",
              "    }\n",
              "</style>\n",
              "<table border=\"1\" class=\"dataframe\">\n",
              "  <thead>\n",
              "    <tr style=\"text-align: right;\">\n",
              "      <th></th>\n",
              "      <th>object_id</th>\n",
              "      <th>target</th>\n",
              "    </tr>\n",
              "  </thead>\n",
              "  <tbody>\n",
              "    <tr>\n",
              "      <th>0</th>\n",
              "      <td>615</td>\n",
              "      <td>92</td>\n",
              "    </tr>\n",
              "    <tr>\n",
              "      <th>1</th>\n",
              "      <td>713</td>\n",
              "      <td>88</td>\n",
              "    </tr>\n",
              "    <tr>\n",
              "      <th>2</th>\n",
              "      <td>730</td>\n",
              "      <td>42</td>\n",
              "    </tr>\n",
              "    <tr>\n",
              "      <th>3</th>\n",
              "      <td>745</td>\n",
              "      <td>90</td>\n",
              "    </tr>\n",
              "    <tr>\n",
              "      <th>4</th>\n",
              "      <td>1124</td>\n",
              "      <td>90</td>\n",
              "    </tr>\n",
              "  </tbody>\n",
              "</table>\n",
              "</div>\n",
              "      <button class=\"colab-df-convert\" onclick=\"convertToInteractive('df-52ed1ad2-2f8b-4f1b-99ec-5f6ef3c5a075')\"\n",
              "              title=\"Convert this dataframe to an interactive table.\"\n",
              "              style=\"display:none;\">\n",
              "        \n",
              "  <svg xmlns=\"http://www.w3.org/2000/svg\" height=\"24px\"viewBox=\"0 0 24 24\"\n",
              "       width=\"24px\">\n",
              "    <path d=\"M0 0h24v24H0V0z\" fill=\"none\"/>\n",
              "    <path d=\"M18.56 5.44l.94 2.06.94-2.06 2.06-.94-2.06-.94-.94-2.06-.94 2.06-2.06.94zm-11 1L8.5 8.5l.94-2.06 2.06-.94-2.06-.94L8.5 2.5l-.94 2.06-2.06.94zm10 10l.94 2.06.94-2.06 2.06-.94-2.06-.94-.94-2.06-.94 2.06-2.06.94z\"/><path d=\"M17.41 7.96l-1.37-1.37c-.4-.4-.92-.59-1.43-.59-.52 0-1.04.2-1.43.59L10.3 9.45l-7.72 7.72c-.78.78-.78 2.05 0 2.83L4 21.41c.39.39.9.59 1.41.59.51 0 1.02-.2 1.41-.59l7.78-7.78 2.81-2.81c.8-.78.8-2.07 0-2.86zM5.41 20L4 18.59l7.72-7.72 1.47 1.35L5.41 20z\"/>\n",
              "  </svg>\n",
              "      </button>\n",
              "      \n",
              "  <style>\n",
              "    .colab-df-container {\n",
              "      display:flex;\n",
              "      flex-wrap:wrap;\n",
              "      gap: 12px;\n",
              "    }\n",
              "\n",
              "    .colab-df-convert {\n",
              "      background-color: #E8F0FE;\n",
              "      border: none;\n",
              "      border-radius: 50%;\n",
              "      cursor: pointer;\n",
              "      display: none;\n",
              "      fill: #1967D2;\n",
              "      height: 32px;\n",
              "      padding: 0 0 0 0;\n",
              "      width: 32px;\n",
              "    }\n",
              "\n",
              "    .colab-df-convert:hover {\n",
              "      background-color: #E2EBFA;\n",
              "      box-shadow: 0px 1px 2px rgba(60, 64, 67, 0.3), 0px 1px 3px 1px rgba(60, 64, 67, 0.15);\n",
              "      fill: #174EA6;\n",
              "    }\n",
              "\n",
              "    [theme=dark] .colab-df-convert {\n",
              "      background-color: #3B4455;\n",
              "      fill: #D2E3FC;\n",
              "    }\n",
              "\n",
              "    [theme=dark] .colab-df-convert:hover {\n",
              "      background-color: #434B5C;\n",
              "      box-shadow: 0px 1px 3px 1px rgba(0, 0, 0, 0.15);\n",
              "      filter: drop-shadow(0px 1px 2px rgba(0, 0, 0, 0.3));\n",
              "      fill: #FFFFFF;\n",
              "    }\n",
              "  </style>\n",
              "\n",
              "      <script>\n",
              "        const buttonEl =\n",
              "          document.querySelector('#df-52ed1ad2-2f8b-4f1b-99ec-5f6ef3c5a075 button.colab-df-convert');\n",
              "        buttonEl.style.display =\n",
              "          google.colab.kernel.accessAllowed ? 'block' : 'none';\n",
              "\n",
              "        async function convertToInteractive(key) {\n",
              "          const element = document.querySelector('#df-52ed1ad2-2f8b-4f1b-99ec-5f6ef3c5a075');\n",
              "          const dataTable =\n",
              "            await google.colab.kernel.invokeFunction('convertToInteractive',\n",
              "                                                     [key], {});\n",
              "          if (!dataTable) return;\n",
              "\n",
              "          const docLinkHtml = 'Like what you see? Visit the ' +\n",
              "            '<a target=\"_blank\" href=https://colab.research.google.com/notebooks/data_table.ipynb>data table notebook</a>'\n",
              "            + ' to learn more about interactive tables.';\n",
              "          element.innerHTML = '';\n",
              "          dataTable['output_type'] = 'display_data';\n",
              "          await google.colab.output.renderOutput(dataTable, element);\n",
              "          const docLink = document.createElement('div');\n",
              "          docLink.innerHTML = docLinkHtml;\n",
              "          element.appendChild(docLink);\n",
              "        }\n",
              "      </script>\n",
              "    </div>\n",
              "  </div>\n",
              "  "
            ]
          },
          "metadata": {},
          "execution_count": 141
        }
      ]
    }
  ]
}