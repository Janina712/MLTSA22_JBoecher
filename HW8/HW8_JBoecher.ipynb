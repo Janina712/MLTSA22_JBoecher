{
  "nbformat": 4,
  "nbformat_minor": 0,
  "metadata": {
    "colab": {
      "name": "HW8_JBoecher.ipynb",
      "provenance": [],
      "collapsed_sections": [],
      "mount_file_id": "1LbiFPyaBZmzIPWCTXIR2791LFuizI_bp",
      "authorship_tag": "ABX9TyPbIg4sl9m5axfrk9/d7UmE",
      "include_colab_link": true
    },
    "kernelspec": {
      "name": "python3",
      "display_name": "Python 3"
    },
    "language_info": {
      "name": "python"
    }
  },
  "cells": [
    {
      "cell_type": "markdown",
      "metadata": {
        "id": "view-in-github",
        "colab_type": "text"
      },
      "source": [
        "<a href=\"https://colab.research.google.com/github/Janina712/MLTSA22_JBoecher/blob/main/HW8/HW8_JBoecher.ipynb\" target=\"_parent\"><img src=\"https://colab.research.google.com/assets/colab-badge.svg\" alt=\"Open In Colab\"/></a>"
      ]
    },
    {
      "cell_type": "markdown",
      "source": [
        "# **1. Imports**"
      ],
      "metadata": {
        "id": "XnCiFFfYE8Vn"
      }
    },
    {
      "cell_type": "code",
      "execution_count": 1,
      "metadata": {
        "colab": {
          "base_uri": "https://localhost:8080/"
        },
        "id": "cI8wkuMPEhKQ",
        "outputId": "903a9d6f-7ca4-4e16-a465-8a3af3958059"
      },
      "outputs": [
        {
          "output_type": "stream",
          "name": "stdout",
          "text": [
            "Requirement already satisfied: tensorflow in /usr/local/lib/python3.7/dist-packages (2.8.0)\n",
            "Requirement already satisfied: setuptools in /usr/local/lib/python3.7/dist-packages (from tensorflow) (57.4.0)\n",
            "Collecting tf-estimator-nightly==2.8.0.dev2021122109\n",
            "  Downloading tf_estimator_nightly-2.8.0.dev2021122109-py2.py3-none-any.whl (462 kB)\n",
            "\u001b[K     |████████████████████████████████| 462 kB 12.9 MB/s \n",
            "\u001b[?25hRequirement already satisfied: opt-einsum>=2.3.2 in /usr/local/lib/python3.7/dist-packages (from tensorflow) (3.3.0)\n",
            "Requirement already satisfied: keras<2.9,>=2.8.0rc0 in /usr/local/lib/python3.7/dist-packages (from tensorflow) (2.8.0)\n",
            "Requirement already satisfied: grpcio<2.0,>=1.24.3 in /usr/local/lib/python3.7/dist-packages (from tensorflow) (1.44.0)\n",
            "Requirement already satisfied: six>=1.12.0 in /usr/local/lib/python3.7/dist-packages (from tensorflow) (1.15.0)\n",
            "Requirement already satisfied: tensorboard<2.9,>=2.8 in /usr/local/lib/python3.7/dist-packages (from tensorflow) (2.8.0)\n",
            "Requirement already satisfied: astunparse>=1.6.0 in /usr/local/lib/python3.7/dist-packages (from tensorflow) (1.6.3)\n",
            "Requirement already satisfied: absl-py>=0.4.0 in /usr/local/lib/python3.7/dist-packages (from tensorflow) (1.0.0)\n",
            "Requirement already satisfied: keras-preprocessing>=1.1.1 in /usr/local/lib/python3.7/dist-packages (from tensorflow) (1.1.2)\n",
            "Requirement already satisfied: typing-extensions>=3.6.6 in /usr/local/lib/python3.7/dist-packages (from tensorflow) (4.1.1)\n",
            "Requirement already satisfied: gast>=0.2.1 in /usr/local/lib/python3.7/dist-packages (from tensorflow) (0.5.3)\n",
            "Requirement already satisfied: tensorflow-io-gcs-filesystem>=0.23.1 in /usr/local/lib/python3.7/dist-packages (from tensorflow) (0.24.0)\n",
            "Requirement already satisfied: numpy>=1.20 in /usr/local/lib/python3.7/dist-packages (from tensorflow) (1.21.6)\n",
            "Requirement already satisfied: h5py>=2.9.0 in /usr/local/lib/python3.7/dist-packages (from tensorflow) (3.1.0)\n",
            "Requirement already satisfied: google-pasta>=0.1.1 in /usr/local/lib/python3.7/dist-packages (from tensorflow) (0.2.0)\n",
            "Requirement already satisfied: libclang>=9.0.1 in /usr/local/lib/python3.7/dist-packages (from tensorflow) (13.0.0)\n",
            "Requirement already satisfied: termcolor>=1.1.0 in /usr/local/lib/python3.7/dist-packages (from tensorflow) (1.1.0)\n",
            "Requirement already satisfied: protobuf>=3.9.2 in /usr/local/lib/python3.7/dist-packages (from tensorflow) (3.17.3)\n",
            "Requirement already satisfied: flatbuffers>=1.12 in /usr/local/lib/python3.7/dist-packages (from tensorflow) (2.0)\n",
            "Requirement already satisfied: wrapt>=1.11.0 in /usr/local/lib/python3.7/dist-packages (from tensorflow) (1.14.0)\n",
            "Requirement already satisfied: wheel<1.0,>=0.23.0 in /usr/local/lib/python3.7/dist-packages (from astunparse>=1.6.0->tensorflow) (0.37.1)\n",
            "Requirement already satisfied: cached-property in /usr/local/lib/python3.7/dist-packages (from h5py>=2.9.0->tensorflow) (1.5.2)\n",
            "Requirement already satisfied: markdown>=2.6.8 in /usr/local/lib/python3.7/dist-packages (from tensorboard<2.9,>=2.8->tensorflow) (3.3.6)\n",
            "Requirement already satisfied: tensorboard-data-server<0.7.0,>=0.6.0 in /usr/local/lib/python3.7/dist-packages (from tensorboard<2.9,>=2.8->tensorflow) (0.6.1)\n",
            "Requirement already satisfied: werkzeug>=0.11.15 in /usr/local/lib/python3.7/dist-packages (from tensorboard<2.9,>=2.8->tensorflow) (1.0.1)\n",
            "Requirement already satisfied: google-auth<3,>=1.6.3 in /usr/local/lib/python3.7/dist-packages (from tensorboard<2.9,>=2.8->tensorflow) (1.35.0)\n",
            "Requirement already satisfied: requests<3,>=2.21.0 in /usr/local/lib/python3.7/dist-packages (from tensorboard<2.9,>=2.8->tensorflow) (2.23.0)\n",
            "Requirement already satisfied: google-auth-oauthlib<0.5,>=0.4.1 in /usr/local/lib/python3.7/dist-packages (from tensorboard<2.9,>=2.8->tensorflow) (0.4.6)\n",
            "Requirement already satisfied: tensorboard-plugin-wit>=1.6.0 in /usr/local/lib/python3.7/dist-packages (from tensorboard<2.9,>=2.8->tensorflow) (1.8.1)\n",
            "Requirement already satisfied: rsa<5,>=3.1.4 in /usr/local/lib/python3.7/dist-packages (from google-auth<3,>=1.6.3->tensorboard<2.9,>=2.8->tensorflow) (4.8)\n",
            "Requirement already satisfied: cachetools<5.0,>=2.0.0 in /usr/local/lib/python3.7/dist-packages (from google-auth<3,>=1.6.3->tensorboard<2.9,>=2.8->tensorflow) (4.2.4)\n",
            "Requirement already satisfied: pyasn1-modules>=0.2.1 in /usr/local/lib/python3.7/dist-packages (from google-auth<3,>=1.6.3->tensorboard<2.9,>=2.8->tensorflow) (0.2.8)\n",
            "Requirement already satisfied: requests-oauthlib>=0.7.0 in /usr/local/lib/python3.7/dist-packages (from google-auth-oauthlib<0.5,>=0.4.1->tensorboard<2.9,>=2.8->tensorflow) (1.3.1)\n",
            "Requirement already satisfied: importlib-metadata>=4.4 in /usr/local/lib/python3.7/dist-packages (from markdown>=2.6.8->tensorboard<2.9,>=2.8->tensorflow) (4.11.3)\n",
            "Requirement already satisfied: zipp>=0.5 in /usr/local/lib/python3.7/dist-packages (from importlib-metadata>=4.4->markdown>=2.6.8->tensorboard<2.9,>=2.8->tensorflow) (3.8.0)\n",
            "Requirement already satisfied: pyasn1<0.5.0,>=0.4.6 in /usr/local/lib/python3.7/dist-packages (from pyasn1-modules>=0.2.1->google-auth<3,>=1.6.3->tensorboard<2.9,>=2.8->tensorflow) (0.4.8)\n",
            "Requirement already satisfied: certifi>=2017.4.17 in /usr/local/lib/python3.7/dist-packages (from requests<3,>=2.21.0->tensorboard<2.9,>=2.8->tensorflow) (2021.10.8)\n",
            "Requirement already satisfied: urllib3!=1.25.0,!=1.25.1,<1.26,>=1.21.1 in /usr/local/lib/python3.7/dist-packages (from requests<3,>=2.21.0->tensorboard<2.9,>=2.8->tensorflow) (1.24.3)\n",
            "Requirement already satisfied: chardet<4,>=3.0.2 in /usr/local/lib/python3.7/dist-packages (from requests<3,>=2.21.0->tensorboard<2.9,>=2.8->tensorflow) (3.0.4)\n",
            "Requirement already satisfied: idna<3,>=2.5 in /usr/local/lib/python3.7/dist-packages (from requests<3,>=2.21.0->tensorboard<2.9,>=2.8->tensorflow) (2.10)\n",
            "Requirement already satisfied: oauthlib>=3.0.0 in /usr/local/lib/python3.7/dist-packages (from requests-oauthlib>=0.7.0->google-auth-oauthlib<0.5,>=0.4.1->tensorboard<2.9,>=2.8->tensorflow) (3.2.0)\n",
            "Installing collected packages: tf-estimator-nightly\n",
            "Successfully installed tf-estimator-nightly-2.8.0.dev2021122109\n"
          ]
        }
      ],
      "source": [
        "# install tensorflow\n",
        "!pip install tensorflow"
      ]
    },
    {
      "cell_type": "code",
      "source": [
        "!pip install george"
      ],
      "metadata": {
        "id": "Ug1Z2iFGRynZ",
        "colab": {
          "base_uri": "https://localhost:8080/"
        },
        "outputId": "9316043f-e9e2-4f1e-ccd1-0a6794c28f48"
      },
      "execution_count": 2,
      "outputs": [
        {
          "output_type": "stream",
          "name": "stdout",
          "text": [
            "Collecting george\n",
            "  Downloading george-0.4.0-cp37-cp37m-manylinux2014_x86_64.whl (407 kB)\n",
            "\u001b[?25l\r\u001b[K     |▉                               | 10 kB 29.0 MB/s eta 0:00:01\r\u001b[K     |█▋                              | 20 kB 34.2 MB/s eta 0:00:01\r\u001b[K     |██▍                             | 30 kB 34.3 MB/s eta 0:00:01\r\u001b[K     |███▏                            | 40 kB 14.7 MB/s eta 0:00:01\r\u001b[K     |████                            | 51 kB 11.0 MB/s eta 0:00:01\r\u001b[K     |████▉                           | 61 kB 12.8 MB/s eta 0:00:01\r\u001b[K     |█████▋                          | 71 kB 13.4 MB/s eta 0:00:01\r\u001b[K     |██████▍                         | 81 kB 13.1 MB/s eta 0:00:01\r\u001b[K     |███████▎                        | 92 kB 14.4 MB/s eta 0:00:01\r\u001b[K     |████████                        | 102 kB 12.8 MB/s eta 0:00:01\r\u001b[K     |████████▉                       | 112 kB 12.8 MB/s eta 0:00:01\r\u001b[K     |█████████▋                      | 122 kB 12.8 MB/s eta 0:00:01\r\u001b[K     |██████████▌                     | 133 kB 12.8 MB/s eta 0:00:01\r\u001b[K     |███████████▎                    | 143 kB 12.8 MB/s eta 0:00:01\r\u001b[K     |████████████                    | 153 kB 12.8 MB/s eta 0:00:01\r\u001b[K     |████████████▉                   | 163 kB 12.8 MB/s eta 0:00:01\r\u001b[K     |█████████████▋                  | 174 kB 12.8 MB/s eta 0:00:01\r\u001b[K     |██████████████▌                 | 184 kB 12.8 MB/s eta 0:00:01\r\u001b[K     |███████████████▎                | 194 kB 12.8 MB/s eta 0:00:01\r\u001b[K     |████████████████                | 204 kB 12.8 MB/s eta 0:00:01\r\u001b[K     |████████████████▉               | 215 kB 12.8 MB/s eta 0:00:01\r\u001b[K     |█████████████████▊              | 225 kB 12.8 MB/s eta 0:00:01\r\u001b[K     |██████████████████▌             | 235 kB 12.8 MB/s eta 0:00:01\r\u001b[K     |███████████████████▎            | 245 kB 12.8 MB/s eta 0:00:01\r\u001b[K     |████████████████████            | 256 kB 12.8 MB/s eta 0:00:01\r\u001b[K     |█████████████████████           | 266 kB 12.8 MB/s eta 0:00:01\r\u001b[K     |█████████████████████▊          | 276 kB 12.8 MB/s eta 0:00:01\r\u001b[K     |██████████████████████▌         | 286 kB 12.8 MB/s eta 0:00:01\r\u001b[K     |███████████████████████▎        | 296 kB 12.8 MB/s eta 0:00:01\r\u001b[K     |████████████████████████▏       | 307 kB 12.8 MB/s eta 0:00:01\r\u001b[K     |█████████████████████████       | 317 kB 12.8 MB/s eta 0:00:01\r\u001b[K     |█████████████████████████▊      | 327 kB 12.8 MB/s eta 0:00:01\r\u001b[K     |██████████████████████████▌     | 337 kB 12.8 MB/s eta 0:00:01\r\u001b[K     |███████████████████████████▎    | 348 kB 12.8 MB/s eta 0:00:01\r\u001b[K     |████████████████████████████▏   | 358 kB 12.8 MB/s eta 0:00:01\r\u001b[K     |█████████████████████████████   | 368 kB 12.8 MB/s eta 0:00:01\r\u001b[K     |█████████████████████████████▊  | 378 kB 12.8 MB/s eta 0:00:01\r\u001b[K     |██████████████████████████████▌ | 389 kB 12.8 MB/s eta 0:00:01\r\u001b[K     |███████████████████████████████▍| 399 kB 12.8 MB/s eta 0:00:01\r\u001b[K     |████████████████████████████████| 407 kB 12.8 MB/s \n",
            "\u001b[?25hRequirement already satisfied: scipy in /usr/local/lib/python3.7/dist-packages (from george) (1.4.1)\n",
            "Requirement already satisfied: numpy in /usr/local/lib/python3.7/dist-packages (from george) (1.21.6)\n",
            "Installing collected packages: george\n",
            "Successfully installed george-0.4.0\n"
          ]
        }
      ]
    },
    {
      "cell_type": "code",
      "source": [
        "# import packages\n",
        "import tensorflow as tensorflow\n",
        "from tensorflow import keras\n",
        "\n",
        "from keras import layers \n",
        "from keras.layers import Dense, Input, Flatten,\\\n",
        "                   Reshape, LeakyReLU as LR,\\\n",
        "                   Activation, Dropout\n",
        "from keras.models import Model, Sequential\n",
        "\n",
        "from matplotlib import pyplot as plt\n",
        "from IPython import display\n",
        "import numpy as np\n",
        "\n",
        "import os\n",
        "import json\n",
        "import pandas as pd\n",
        "import george\n",
        "from george import kernels\n",
        "import warnings\n",
        "warnings.filterwarnings(\"ignore\")\n",
        "from scipy.optimize import minimize\n",
        "from sklearn import preprocessing"
      ],
      "metadata": {
        "id": "8V3611xhEmh5"
      },
      "execution_count": 3,
      "outputs": []
    },
    {
      "cell_type": "code",
      "source": [
        "# mount drive\n",
        "from google.colab import drive\n",
        "drive.mount(\"/content/gdrive\", force_remount = True)"
      ],
      "metadata": {
        "id": "FwqpOVahFMGD",
        "colab": {
          "base_uri": "https://localhost:8080/"
        },
        "outputId": "43ef9cb0-1988-453e-ba04-796240b07efa"
      },
      "execution_count": 4,
      "outputs": [
        {
          "output_type": "stream",
          "name": "stdout",
          "text": [
            "Mounted at /content/gdrive\n"
          ]
        }
      ]
    },
    {
      "cell_type": "code",
      "source": [
        "# set directory \n",
        "%cd /content/gdrive/MyDrive/ColabNotebooks/"
      ],
      "metadata": {
        "colab": {
          "base_uri": "https://localhost:8080/"
        },
        "id": "c2_tp-z2Esap",
        "outputId": "7821583c-8c26-4407-a384-6789e1a30d36"
      },
      "execution_count": 9,
      "outputs": [
        {
          "output_type": "stream",
          "name": "stdout",
          "text": [
            "/content/gdrive/MyDrive/ColabNotebooks\n"
          ]
        }
      ]
    },
    {
      "cell_type": "code",
      "source": [
        "# import data\n",
        "df = pd.read_csv(\"plasticc_train_lightcurves.csv.gz\")"
      ],
      "metadata": {
        "id": "d1wEpYloEzZa"
      },
      "execution_count": 10,
      "outputs": []
    },
    {
      "cell_type": "code",
      "source": [
        "df.head()"
      ],
      "metadata": {
        "colab": {
          "base_uri": "https://localhost:8080/",
          "height": 206
        },
        "id": "qZA7thqDE6Hv",
        "outputId": "00ee53fe-7990-457d-e37a-c4a29c7707b3"
      },
      "execution_count": 11,
      "outputs": [
        {
          "output_type": "execute_result",
          "data": {
            "text/plain": [
              "   object_id         mjd  passband        flux   flux_err  detected_bool\n",
              "0        615  59750.4229         2 -544.810303   3.622952              1\n",
              "1        615  59750.4306         1 -816.434326   5.553370              1\n",
              "2        615  59750.4383         3 -471.385529   3.801213              1\n",
              "3        615  59750.4450         4 -388.984985  11.395031              1\n",
              "4        615  59752.4070         2 -681.858887   4.041204              1"
            ],
            "text/html": [
              "\n",
              "  <div id=\"df-98ba3a9d-bd2c-4ac1-9043-df3538505a0e\">\n",
              "    <div class=\"colab-df-container\">\n",
              "      <div>\n",
              "<style scoped>\n",
              "    .dataframe tbody tr th:only-of-type {\n",
              "        vertical-align: middle;\n",
              "    }\n",
              "\n",
              "    .dataframe tbody tr th {\n",
              "        vertical-align: top;\n",
              "    }\n",
              "\n",
              "    .dataframe thead th {\n",
              "        text-align: right;\n",
              "    }\n",
              "</style>\n",
              "<table border=\"1\" class=\"dataframe\">\n",
              "  <thead>\n",
              "    <tr style=\"text-align: right;\">\n",
              "      <th></th>\n",
              "      <th>object_id</th>\n",
              "      <th>mjd</th>\n",
              "      <th>passband</th>\n",
              "      <th>flux</th>\n",
              "      <th>flux_err</th>\n",
              "      <th>detected_bool</th>\n",
              "    </tr>\n",
              "  </thead>\n",
              "  <tbody>\n",
              "    <tr>\n",
              "      <th>0</th>\n",
              "      <td>615</td>\n",
              "      <td>59750.4229</td>\n",
              "      <td>2</td>\n",
              "      <td>-544.810303</td>\n",
              "      <td>3.622952</td>\n",
              "      <td>1</td>\n",
              "    </tr>\n",
              "    <tr>\n",
              "      <th>1</th>\n",
              "      <td>615</td>\n",
              "      <td>59750.4306</td>\n",
              "      <td>1</td>\n",
              "      <td>-816.434326</td>\n",
              "      <td>5.553370</td>\n",
              "      <td>1</td>\n",
              "    </tr>\n",
              "    <tr>\n",
              "      <th>2</th>\n",
              "      <td>615</td>\n",
              "      <td>59750.4383</td>\n",
              "      <td>3</td>\n",
              "      <td>-471.385529</td>\n",
              "      <td>3.801213</td>\n",
              "      <td>1</td>\n",
              "    </tr>\n",
              "    <tr>\n",
              "      <th>3</th>\n",
              "      <td>615</td>\n",
              "      <td>59750.4450</td>\n",
              "      <td>4</td>\n",
              "      <td>-388.984985</td>\n",
              "      <td>11.395031</td>\n",
              "      <td>1</td>\n",
              "    </tr>\n",
              "    <tr>\n",
              "      <th>4</th>\n",
              "      <td>615</td>\n",
              "      <td>59752.4070</td>\n",
              "      <td>2</td>\n",
              "      <td>-681.858887</td>\n",
              "      <td>4.041204</td>\n",
              "      <td>1</td>\n",
              "    </tr>\n",
              "  </tbody>\n",
              "</table>\n",
              "</div>\n",
              "      <button class=\"colab-df-convert\" onclick=\"convertToInteractive('df-98ba3a9d-bd2c-4ac1-9043-df3538505a0e')\"\n",
              "              title=\"Convert this dataframe to an interactive table.\"\n",
              "              style=\"display:none;\">\n",
              "        \n",
              "  <svg xmlns=\"http://www.w3.org/2000/svg\" height=\"24px\"viewBox=\"0 0 24 24\"\n",
              "       width=\"24px\">\n",
              "    <path d=\"M0 0h24v24H0V0z\" fill=\"none\"/>\n",
              "    <path d=\"M18.56 5.44l.94 2.06.94-2.06 2.06-.94-2.06-.94-.94-2.06-.94 2.06-2.06.94zm-11 1L8.5 8.5l.94-2.06 2.06-.94-2.06-.94L8.5 2.5l-.94 2.06-2.06.94zm10 10l.94 2.06.94-2.06 2.06-.94-2.06-.94-.94-2.06-.94 2.06-2.06.94z\"/><path d=\"M17.41 7.96l-1.37-1.37c-.4-.4-.92-.59-1.43-.59-.52 0-1.04.2-1.43.59L10.3 9.45l-7.72 7.72c-.78.78-.78 2.05 0 2.83L4 21.41c.39.39.9.59 1.41.59.51 0 1.02-.2 1.41-.59l7.78-7.78 2.81-2.81c.8-.78.8-2.07 0-2.86zM5.41 20L4 18.59l7.72-7.72 1.47 1.35L5.41 20z\"/>\n",
              "  </svg>\n",
              "      </button>\n",
              "      \n",
              "  <style>\n",
              "    .colab-df-container {\n",
              "      display:flex;\n",
              "      flex-wrap:wrap;\n",
              "      gap: 12px;\n",
              "    }\n",
              "\n",
              "    .colab-df-convert {\n",
              "      background-color: #E8F0FE;\n",
              "      border: none;\n",
              "      border-radius: 50%;\n",
              "      cursor: pointer;\n",
              "      display: none;\n",
              "      fill: #1967D2;\n",
              "      height: 32px;\n",
              "      padding: 0 0 0 0;\n",
              "      width: 32px;\n",
              "    }\n",
              "\n",
              "    .colab-df-convert:hover {\n",
              "      background-color: #E2EBFA;\n",
              "      box-shadow: 0px 1px 2px rgba(60, 64, 67, 0.3), 0px 1px 3px 1px rgba(60, 64, 67, 0.15);\n",
              "      fill: #174EA6;\n",
              "    }\n",
              "\n",
              "    [theme=dark] .colab-df-convert {\n",
              "      background-color: #3B4455;\n",
              "      fill: #D2E3FC;\n",
              "    }\n",
              "\n",
              "    [theme=dark] .colab-df-convert:hover {\n",
              "      background-color: #434B5C;\n",
              "      box-shadow: 0px 1px 3px 1px rgba(0, 0, 0, 0.15);\n",
              "      filter: drop-shadow(0px 1px 2px rgba(0, 0, 0, 0.3));\n",
              "      fill: #FFFFFF;\n",
              "    }\n",
              "  </style>\n",
              "\n",
              "      <script>\n",
              "        const buttonEl =\n",
              "          document.querySelector('#df-98ba3a9d-bd2c-4ac1-9043-df3538505a0e button.colab-df-convert');\n",
              "        buttonEl.style.display =\n",
              "          google.colab.kernel.accessAllowed ? 'block' : 'none';\n",
              "\n",
              "        async function convertToInteractive(key) {\n",
              "          const element = document.querySelector('#df-98ba3a9d-bd2c-4ac1-9043-df3538505a0e');\n",
              "          const dataTable =\n",
              "            await google.colab.kernel.invokeFunction('convertToInteractive',\n",
              "                                                     [key], {});\n",
              "          if (!dataTable) return;\n",
              "\n",
              "          const docLinkHtml = 'Like what you see? Visit the ' +\n",
              "            '<a target=\"_blank\" href=https://colab.research.google.com/notebooks/data_table.ipynb>data table notebook</a>'\n",
              "            + ' to learn more about interactive tables.';\n",
              "          element.innerHTML = '';\n",
              "          dataTable['output_type'] = 'display_data';\n",
              "          await google.colab.output.renderOutput(dataTable, element);\n",
              "          const docLink = document.createElement('div');\n",
              "          docLink.innerHTML = docLinkHtml;\n",
              "          element.appendChild(docLink);\n",
              "        }\n",
              "      </script>\n",
              "    </div>\n",
              "  </div>\n",
              "  "
            ]
          },
          "metadata": {},
          "execution_count": 11
        }
      ]
    },
    {
      "cell_type": "markdown",
      "source": [
        "# **2. Define Range of Time Series**\n",
        "\n",
        "Find maximum mjd value for each time series (object/passband). This is to avoid predicting a large amount of data at the upper edge of the time series, where there are few observed data point informing the prediction. The range of the time series is narrowed in this way. Shift the data by subtrating the min mjd value from the max mjd value for each row.  "
      ],
      "metadata": {
        "id": "ihkKdj-jFfbJ"
      }
    },
    {
      "cell_type": "code",
      "source": [
        "# compute mjd min by object and passband\n",
        "mjd_min = df.groupby([\"object_id\", \"passband\"], as_index=False)[[\"mjd\"]].min()"
      ],
      "metadata": {
        "id": "kzPyS1oVGB1S"
      },
      "execution_count": 12,
      "outputs": []
    },
    {
      "cell_type": "code",
      "source": [
        "# organize data by object and passband\n",
        "mjd_max = df.groupby([\"object_id\", \"passband\"], as_index=False)[[\"mjd\"]].max()"
      ],
      "metadata": {
        "id": "dpD4yRKJ_EQV"
      },
      "execution_count": 13,
      "outputs": []
    },
    {
      "cell_type": "code",
      "source": [
        "# initialize new column to store shifted max mjd value\n",
        "mjd_max['mjd_max_shift'] = 0"
      ],
      "metadata": {
        "id": "vI32lYMbABY2"
      },
      "execution_count": 14,
      "outputs": []
    },
    {
      "cell_type": "code",
      "source": [
        "# initialize new column to store shifted mjd value\n",
        "df['mjd_shift'] = 0"
      ],
      "metadata": {
        "id": "E3kJS5pvselB"
      },
      "execution_count": 15,
      "outputs": []
    },
    {
      "cell_type": "code",
      "source": [
        "# create a newcolumn in df for the mins that  were calculated across obj and passband\n",
        "# do one to many mapping\n",
        "for i in range(0, len(df)):\n",
        "  for j in range(0, len(mjd_min)):\n",
        "    if (df.loc[i].object_id == mjd_min.loc[j].object_id) & (df.loc[i].passband == mjd_min.loc[j].passband): \n",
        "      df.mjd_shift[i] = mjd_min.mjd[j]"
      ],
      "metadata": {
        "id": "w6kbclSsMeeN"
      },
      "execution_count": null,
      "outputs": []
    },
    {
      "cell_type": "code",
      "source": [
        "# create a newcolumn in df for the mins that  were calculated across obj and passband\n",
        "# do one to many mapping\n",
        "# interrupted because time-consuming\n",
        "for i in range(0, len(df)):\n",
        "  for j in range(0, len(mjd_min)):\n",
        "    if (df.loc[i].object_id == mjd_min.loc[j].object_id) & (df.loc[i].passband == mjd_min.loc[j].passband): \n",
        "      df.mjd_shift[i] = mjd_min.mjd[j]"
      ],
      "metadata": {
        "id": "VY6_x3bWxNpn"
      },
      "execution_count": null,
      "outputs": []
    },
    {
      "cell_type": "code",
      "source": [
        "# create shorter dataframe below to decrease computational demands"
      ],
      "metadata": {
        "id": "FAYZIR__QQgK"
      },
      "execution_count": null,
      "outputs": []
    },
    {
      "cell_type": "code",
      "source": [
        "objects = df.object_id.unique()"
      ],
      "metadata": {
        "id": "gS4zvD-xMpUT"
      },
      "execution_count": 39,
      "outputs": []
    },
    {
      "cell_type": "code",
      "source": [
        "# do only first object to demonstrate\n",
        "df_short = pd.DataFrame()\n",
        "\n",
        "for i in range(0,1):\n",
        "  df_short = pd.concat([df_short,df.loc[df['object_id'] == objects[i]]])"
      ],
      "metadata": {
        "id": "T0c5C7iOOk36"
      },
      "execution_count": 71,
      "outputs": []
    },
    {
      "cell_type": "code",
      "source": [
        "df_short"
      ],
      "metadata": {
        "colab": {
          "base_uri": "https://localhost:8080/",
          "height": 424
        },
        "id": "nrph5PfAPYFx",
        "outputId": "4d4a039a-e6a7-43d8-8b12-9e9bff671dbd"
      },
      "execution_count": 72,
      "outputs": [
        {
          "output_type": "execute_result",
          "data": {
            "text/plain": [
              "     object_id         mjd  passband        flux   flux_err  detected_bool  \\\n",
              "0          615  59750.4229         2 -544.810303   3.622952              1   \n",
              "1          615  59750.4306         1 -816.434326   5.553370              1   \n",
              "2          615  59750.4383         3 -471.385529   3.801213              1   \n",
              "3          615  59750.4450         4 -388.984985  11.395031              1   \n",
              "4          615  59752.4070         2 -681.858887   4.041204              1   \n",
              "..         ...         ...       ...         ...        ...            ...   \n",
              "347        615  60624.1760         2  552.150269   3.917989              1   \n",
              "348        615  60624.1836         1  607.047668   5.140991              1   \n",
              "349        615  60624.1913         3  296.946533   3.475000              1   \n",
              "350        615  60624.2022         4  235.489929   3.926538              1   \n",
              "351        615  60624.2132         5  157.080200   8.453112              1   \n",
              "\n",
              "     mjd_shift  \n",
              "0        59750  \n",
              "1        59750  \n",
              "2        59750  \n",
              "3        59750  \n",
              "4        59750  \n",
              "..         ...  \n",
              "347        798  \n",
              "348        805  \n",
              "349        853  \n",
              "350        853  \n",
              "351        853  \n",
              "\n",
              "[352 rows x 7 columns]"
            ],
            "text/html": [
              "\n",
              "  <div id=\"df-b7d3dcbb-dec2-4c80-9252-0ee3f41ad60d\">\n",
              "    <div class=\"colab-df-container\">\n",
              "      <div>\n",
              "<style scoped>\n",
              "    .dataframe tbody tr th:only-of-type {\n",
              "        vertical-align: middle;\n",
              "    }\n",
              "\n",
              "    .dataframe tbody tr th {\n",
              "        vertical-align: top;\n",
              "    }\n",
              "\n",
              "    .dataframe thead th {\n",
              "        text-align: right;\n",
              "    }\n",
              "</style>\n",
              "<table border=\"1\" class=\"dataframe\">\n",
              "  <thead>\n",
              "    <tr style=\"text-align: right;\">\n",
              "      <th></th>\n",
              "      <th>object_id</th>\n",
              "      <th>mjd</th>\n",
              "      <th>passband</th>\n",
              "      <th>flux</th>\n",
              "      <th>flux_err</th>\n",
              "      <th>detected_bool</th>\n",
              "      <th>mjd_shift</th>\n",
              "    </tr>\n",
              "  </thead>\n",
              "  <tbody>\n",
              "    <tr>\n",
              "      <th>0</th>\n",
              "      <td>615</td>\n",
              "      <td>59750.4229</td>\n",
              "      <td>2</td>\n",
              "      <td>-544.810303</td>\n",
              "      <td>3.622952</td>\n",
              "      <td>1</td>\n",
              "      <td>59750</td>\n",
              "    </tr>\n",
              "    <tr>\n",
              "      <th>1</th>\n",
              "      <td>615</td>\n",
              "      <td>59750.4306</td>\n",
              "      <td>1</td>\n",
              "      <td>-816.434326</td>\n",
              "      <td>5.553370</td>\n",
              "      <td>1</td>\n",
              "      <td>59750</td>\n",
              "    </tr>\n",
              "    <tr>\n",
              "      <th>2</th>\n",
              "      <td>615</td>\n",
              "      <td>59750.4383</td>\n",
              "      <td>3</td>\n",
              "      <td>-471.385529</td>\n",
              "      <td>3.801213</td>\n",
              "      <td>1</td>\n",
              "      <td>59750</td>\n",
              "    </tr>\n",
              "    <tr>\n",
              "      <th>3</th>\n",
              "      <td>615</td>\n",
              "      <td>59750.4450</td>\n",
              "      <td>4</td>\n",
              "      <td>-388.984985</td>\n",
              "      <td>11.395031</td>\n",
              "      <td>1</td>\n",
              "      <td>59750</td>\n",
              "    </tr>\n",
              "    <tr>\n",
              "      <th>4</th>\n",
              "      <td>615</td>\n",
              "      <td>59752.4070</td>\n",
              "      <td>2</td>\n",
              "      <td>-681.858887</td>\n",
              "      <td>4.041204</td>\n",
              "      <td>1</td>\n",
              "      <td>59750</td>\n",
              "    </tr>\n",
              "    <tr>\n",
              "      <th>...</th>\n",
              "      <td>...</td>\n",
              "      <td>...</td>\n",
              "      <td>...</td>\n",
              "      <td>...</td>\n",
              "      <td>...</td>\n",
              "      <td>...</td>\n",
              "      <td>...</td>\n",
              "    </tr>\n",
              "    <tr>\n",
              "      <th>347</th>\n",
              "      <td>615</td>\n",
              "      <td>60624.1760</td>\n",
              "      <td>2</td>\n",
              "      <td>552.150269</td>\n",
              "      <td>3.917989</td>\n",
              "      <td>1</td>\n",
              "      <td>798</td>\n",
              "    </tr>\n",
              "    <tr>\n",
              "      <th>348</th>\n",
              "      <td>615</td>\n",
              "      <td>60624.1836</td>\n",
              "      <td>1</td>\n",
              "      <td>607.047668</td>\n",
              "      <td>5.140991</td>\n",
              "      <td>1</td>\n",
              "      <td>805</td>\n",
              "    </tr>\n",
              "    <tr>\n",
              "      <th>349</th>\n",
              "      <td>615</td>\n",
              "      <td>60624.1913</td>\n",
              "      <td>3</td>\n",
              "      <td>296.946533</td>\n",
              "      <td>3.475000</td>\n",
              "      <td>1</td>\n",
              "      <td>853</td>\n",
              "    </tr>\n",
              "    <tr>\n",
              "      <th>350</th>\n",
              "      <td>615</td>\n",
              "      <td>60624.2022</td>\n",
              "      <td>4</td>\n",
              "      <td>235.489929</td>\n",
              "      <td>3.926538</td>\n",
              "      <td>1</td>\n",
              "      <td>853</td>\n",
              "    </tr>\n",
              "    <tr>\n",
              "      <th>351</th>\n",
              "      <td>615</td>\n",
              "      <td>60624.2132</td>\n",
              "      <td>5</td>\n",
              "      <td>157.080200</td>\n",
              "      <td>8.453112</td>\n",
              "      <td>1</td>\n",
              "      <td>853</td>\n",
              "    </tr>\n",
              "  </tbody>\n",
              "</table>\n",
              "<p>352 rows × 7 columns</p>\n",
              "</div>\n",
              "      <button class=\"colab-df-convert\" onclick=\"convertToInteractive('df-b7d3dcbb-dec2-4c80-9252-0ee3f41ad60d')\"\n",
              "              title=\"Convert this dataframe to an interactive table.\"\n",
              "              style=\"display:none;\">\n",
              "        \n",
              "  <svg xmlns=\"http://www.w3.org/2000/svg\" height=\"24px\"viewBox=\"0 0 24 24\"\n",
              "       width=\"24px\">\n",
              "    <path d=\"M0 0h24v24H0V0z\" fill=\"none\"/>\n",
              "    <path d=\"M18.56 5.44l.94 2.06.94-2.06 2.06-.94-2.06-.94-.94-2.06-.94 2.06-2.06.94zm-11 1L8.5 8.5l.94-2.06 2.06-.94-2.06-.94L8.5 2.5l-.94 2.06-2.06.94zm10 10l.94 2.06.94-2.06 2.06-.94-2.06-.94-.94-2.06-.94 2.06-2.06.94z\"/><path d=\"M17.41 7.96l-1.37-1.37c-.4-.4-.92-.59-1.43-.59-.52 0-1.04.2-1.43.59L10.3 9.45l-7.72 7.72c-.78.78-.78 2.05 0 2.83L4 21.41c.39.39.9.59 1.41.59.51 0 1.02-.2 1.41-.59l7.78-7.78 2.81-2.81c.8-.78.8-2.07 0-2.86zM5.41 20L4 18.59l7.72-7.72 1.47 1.35L5.41 20z\"/>\n",
              "  </svg>\n",
              "      </button>\n",
              "      \n",
              "  <style>\n",
              "    .colab-df-container {\n",
              "      display:flex;\n",
              "      flex-wrap:wrap;\n",
              "      gap: 12px;\n",
              "    }\n",
              "\n",
              "    .colab-df-convert {\n",
              "      background-color: #E8F0FE;\n",
              "      border: none;\n",
              "      border-radius: 50%;\n",
              "      cursor: pointer;\n",
              "      display: none;\n",
              "      fill: #1967D2;\n",
              "      height: 32px;\n",
              "      padding: 0 0 0 0;\n",
              "      width: 32px;\n",
              "    }\n",
              "\n",
              "    .colab-df-convert:hover {\n",
              "      background-color: #E2EBFA;\n",
              "      box-shadow: 0px 1px 2px rgba(60, 64, 67, 0.3), 0px 1px 3px 1px rgba(60, 64, 67, 0.15);\n",
              "      fill: #174EA6;\n",
              "    }\n",
              "\n",
              "    [theme=dark] .colab-df-convert {\n",
              "      background-color: #3B4455;\n",
              "      fill: #D2E3FC;\n",
              "    }\n",
              "\n",
              "    [theme=dark] .colab-df-convert:hover {\n",
              "      background-color: #434B5C;\n",
              "      box-shadow: 0px 1px 3px 1px rgba(0, 0, 0, 0.15);\n",
              "      filter: drop-shadow(0px 1px 2px rgba(0, 0, 0, 0.3));\n",
              "      fill: #FFFFFF;\n",
              "    }\n",
              "  </style>\n",
              "\n",
              "      <script>\n",
              "        const buttonEl =\n",
              "          document.querySelector('#df-b7d3dcbb-dec2-4c80-9252-0ee3f41ad60d button.colab-df-convert');\n",
              "        buttonEl.style.display =\n",
              "          google.colab.kernel.accessAllowed ? 'block' : 'none';\n",
              "\n",
              "        async function convertToInteractive(key) {\n",
              "          const element = document.querySelector('#df-b7d3dcbb-dec2-4c80-9252-0ee3f41ad60d');\n",
              "          const dataTable =\n",
              "            await google.colab.kernel.invokeFunction('convertToInteractive',\n",
              "                                                     [key], {});\n",
              "          if (!dataTable) return;\n",
              "\n",
              "          const docLinkHtml = 'Like what you see? Visit the ' +\n",
              "            '<a target=\"_blank\" href=https://colab.research.google.com/notebooks/data_table.ipynb>data table notebook</a>'\n",
              "            + ' to learn more about interactive tables.';\n",
              "          element.innerHTML = '';\n",
              "          dataTable['output_type'] = 'display_data';\n",
              "          await google.colab.output.renderOutput(dataTable, element);\n",
              "          const docLink = document.createElement('div');\n",
              "          docLink.innerHTML = docLinkHtml;\n",
              "          element.appendChild(docLink);\n",
              "        }\n",
              "      </script>\n",
              "    </div>\n",
              "  </div>\n",
              "  "
            ]
          },
          "metadata": {},
          "execution_count": 72
        }
      ]
    },
    {
      "cell_type": "code",
      "source": [
        "for i in range(0, len(df_short)):\n",
        "  for j in range(0, 6):\n",
        "    if (df_short.loc[i].object_id == mjd_min.loc[j].object_id) & (df_short.loc[i].passband == mjd_min.loc[j].passband): \n",
        "      #df_short.mjd_shift[i] = mjd_min.mjd[j]\n",
        "      df_short.mjd_shift[i] = df_short.mjd[i] - mjd_min.mjd[j]"
      ],
      "metadata": {
        "id": "3_8w0m6dM4xL"
      },
      "execution_count": 73,
      "outputs": []
    },
    {
      "cell_type": "code",
      "source": [
        "df_short"
      ],
      "metadata": {
        "colab": {
          "base_uri": "https://localhost:8080/",
          "height": 424
        },
        "id": "yYxBGxzmTyN3",
        "outputId": "0b34678e-518e-4844-ae27-92f24fde3e41"
      },
      "execution_count": 74,
      "outputs": [
        {
          "output_type": "execute_result",
          "data": {
            "text/plain": [
              "     object_id         mjd  passband        flux   flux_err  detected_bool  \\\n",
              "0          615  59750.4229         2 -544.810303   3.622952              1   \n",
              "1          615  59750.4306         1 -816.434326   5.553370              1   \n",
              "2          615  59750.4383         3 -471.385529   3.801213              1   \n",
              "3          615  59750.4450         4 -388.984985  11.395031              1   \n",
              "4          615  59752.4070         2 -681.858887   4.041204              1   \n",
              "..         ...         ...       ...         ...        ...            ...   \n",
              "347        615  60624.1760         2  552.150269   3.917989              1   \n",
              "348        615  60624.1836         1  607.047668   5.140991              1   \n",
              "349        615  60624.1913         3  296.946533   3.475000              1   \n",
              "350        615  60624.2022         4  235.489929   3.926538              1   \n",
              "351        615  60624.2132         5  157.080200   8.453112              1   \n",
              "\n",
              "     mjd_shift  \n",
              "0            0  \n",
              "1            0  \n",
              "2            0  \n",
              "3            0  \n",
              "4            1  \n",
              "..         ...  \n",
              "347        873  \n",
              "348        873  \n",
              "349        873  \n",
              "350        873  \n",
              "351        871  \n",
              "\n",
              "[352 rows x 7 columns]"
            ],
            "text/html": [
              "\n",
              "  <div id=\"df-64e22873-6ea7-4790-9560-f652d711f629\">\n",
              "    <div class=\"colab-df-container\">\n",
              "      <div>\n",
              "<style scoped>\n",
              "    .dataframe tbody tr th:only-of-type {\n",
              "        vertical-align: middle;\n",
              "    }\n",
              "\n",
              "    .dataframe tbody tr th {\n",
              "        vertical-align: top;\n",
              "    }\n",
              "\n",
              "    .dataframe thead th {\n",
              "        text-align: right;\n",
              "    }\n",
              "</style>\n",
              "<table border=\"1\" class=\"dataframe\">\n",
              "  <thead>\n",
              "    <tr style=\"text-align: right;\">\n",
              "      <th></th>\n",
              "      <th>object_id</th>\n",
              "      <th>mjd</th>\n",
              "      <th>passband</th>\n",
              "      <th>flux</th>\n",
              "      <th>flux_err</th>\n",
              "      <th>detected_bool</th>\n",
              "      <th>mjd_shift</th>\n",
              "    </tr>\n",
              "  </thead>\n",
              "  <tbody>\n",
              "    <tr>\n",
              "      <th>0</th>\n",
              "      <td>615</td>\n",
              "      <td>59750.4229</td>\n",
              "      <td>2</td>\n",
              "      <td>-544.810303</td>\n",
              "      <td>3.622952</td>\n",
              "      <td>1</td>\n",
              "      <td>0</td>\n",
              "    </tr>\n",
              "    <tr>\n",
              "      <th>1</th>\n",
              "      <td>615</td>\n",
              "      <td>59750.4306</td>\n",
              "      <td>1</td>\n",
              "      <td>-816.434326</td>\n",
              "      <td>5.553370</td>\n",
              "      <td>1</td>\n",
              "      <td>0</td>\n",
              "    </tr>\n",
              "    <tr>\n",
              "      <th>2</th>\n",
              "      <td>615</td>\n",
              "      <td>59750.4383</td>\n",
              "      <td>3</td>\n",
              "      <td>-471.385529</td>\n",
              "      <td>3.801213</td>\n",
              "      <td>1</td>\n",
              "      <td>0</td>\n",
              "    </tr>\n",
              "    <tr>\n",
              "      <th>3</th>\n",
              "      <td>615</td>\n",
              "      <td>59750.4450</td>\n",
              "      <td>4</td>\n",
              "      <td>-388.984985</td>\n",
              "      <td>11.395031</td>\n",
              "      <td>1</td>\n",
              "      <td>0</td>\n",
              "    </tr>\n",
              "    <tr>\n",
              "      <th>4</th>\n",
              "      <td>615</td>\n",
              "      <td>59752.4070</td>\n",
              "      <td>2</td>\n",
              "      <td>-681.858887</td>\n",
              "      <td>4.041204</td>\n",
              "      <td>1</td>\n",
              "      <td>1</td>\n",
              "    </tr>\n",
              "    <tr>\n",
              "      <th>...</th>\n",
              "      <td>...</td>\n",
              "      <td>...</td>\n",
              "      <td>...</td>\n",
              "      <td>...</td>\n",
              "      <td>...</td>\n",
              "      <td>...</td>\n",
              "      <td>...</td>\n",
              "    </tr>\n",
              "    <tr>\n",
              "      <th>347</th>\n",
              "      <td>615</td>\n",
              "      <td>60624.1760</td>\n",
              "      <td>2</td>\n",
              "      <td>552.150269</td>\n",
              "      <td>3.917989</td>\n",
              "      <td>1</td>\n",
              "      <td>873</td>\n",
              "    </tr>\n",
              "    <tr>\n",
              "      <th>348</th>\n",
              "      <td>615</td>\n",
              "      <td>60624.1836</td>\n",
              "      <td>1</td>\n",
              "      <td>607.047668</td>\n",
              "      <td>5.140991</td>\n",
              "      <td>1</td>\n",
              "      <td>873</td>\n",
              "    </tr>\n",
              "    <tr>\n",
              "      <th>349</th>\n",
              "      <td>615</td>\n",
              "      <td>60624.1913</td>\n",
              "      <td>3</td>\n",
              "      <td>296.946533</td>\n",
              "      <td>3.475000</td>\n",
              "      <td>1</td>\n",
              "      <td>873</td>\n",
              "    </tr>\n",
              "    <tr>\n",
              "      <th>350</th>\n",
              "      <td>615</td>\n",
              "      <td>60624.2022</td>\n",
              "      <td>4</td>\n",
              "      <td>235.489929</td>\n",
              "      <td>3.926538</td>\n",
              "      <td>1</td>\n",
              "      <td>873</td>\n",
              "    </tr>\n",
              "    <tr>\n",
              "      <th>351</th>\n",
              "      <td>615</td>\n",
              "      <td>60624.2132</td>\n",
              "      <td>5</td>\n",
              "      <td>157.080200</td>\n",
              "      <td>8.453112</td>\n",
              "      <td>1</td>\n",
              "      <td>871</td>\n",
              "    </tr>\n",
              "  </tbody>\n",
              "</table>\n",
              "<p>352 rows × 7 columns</p>\n",
              "</div>\n",
              "      <button class=\"colab-df-convert\" onclick=\"convertToInteractive('df-64e22873-6ea7-4790-9560-f652d711f629')\"\n",
              "              title=\"Convert this dataframe to an interactive table.\"\n",
              "              style=\"display:none;\">\n",
              "        \n",
              "  <svg xmlns=\"http://www.w3.org/2000/svg\" height=\"24px\"viewBox=\"0 0 24 24\"\n",
              "       width=\"24px\">\n",
              "    <path d=\"M0 0h24v24H0V0z\" fill=\"none\"/>\n",
              "    <path d=\"M18.56 5.44l.94 2.06.94-2.06 2.06-.94-2.06-.94-.94-2.06-.94 2.06-2.06.94zm-11 1L8.5 8.5l.94-2.06 2.06-.94-2.06-.94L8.5 2.5l-.94 2.06-2.06.94zm10 10l.94 2.06.94-2.06 2.06-.94-2.06-.94-.94-2.06-.94 2.06-2.06.94z\"/><path d=\"M17.41 7.96l-1.37-1.37c-.4-.4-.92-.59-1.43-.59-.52 0-1.04.2-1.43.59L10.3 9.45l-7.72 7.72c-.78.78-.78 2.05 0 2.83L4 21.41c.39.39.9.59 1.41.59.51 0 1.02-.2 1.41-.59l7.78-7.78 2.81-2.81c.8-.78.8-2.07 0-2.86zM5.41 20L4 18.59l7.72-7.72 1.47 1.35L5.41 20z\"/>\n",
              "  </svg>\n",
              "      </button>\n",
              "      \n",
              "  <style>\n",
              "    .colab-df-container {\n",
              "      display:flex;\n",
              "      flex-wrap:wrap;\n",
              "      gap: 12px;\n",
              "    }\n",
              "\n",
              "    .colab-df-convert {\n",
              "      background-color: #E8F0FE;\n",
              "      border: none;\n",
              "      border-radius: 50%;\n",
              "      cursor: pointer;\n",
              "      display: none;\n",
              "      fill: #1967D2;\n",
              "      height: 32px;\n",
              "      padding: 0 0 0 0;\n",
              "      width: 32px;\n",
              "    }\n",
              "\n",
              "    .colab-df-convert:hover {\n",
              "      background-color: #E2EBFA;\n",
              "      box-shadow: 0px 1px 2px rgba(60, 64, 67, 0.3), 0px 1px 3px 1px rgba(60, 64, 67, 0.15);\n",
              "      fill: #174EA6;\n",
              "    }\n",
              "\n",
              "    [theme=dark] .colab-df-convert {\n",
              "      background-color: #3B4455;\n",
              "      fill: #D2E3FC;\n",
              "    }\n",
              "\n",
              "    [theme=dark] .colab-df-convert:hover {\n",
              "      background-color: #434B5C;\n",
              "      box-shadow: 0px 1px 3px 1px rgba(0, 0, 0, 0.15);\n",
              "      filter: drop-shadow(0px 1px 2px rgba(0, 0, 0, 0.3));\n",
              "      fill: #FFFFFF;\n",
              "    }\n",
              "  </style>\n",
              "\n",
              "      <script>\n",
              "        const buttonEl =\n",
              "          document.querySelector('#df-64e22873-6ea7-4790-9560-f652d711f629 button.colab-df-convert');\n",
              "        buttonEl.style.display =\n",
              "          google.colab.kernel.accessAllowed ? 'block' : 'none';\n",
              "\n",
              "        async function convertToInteractive(key) {\n",
              "          const element = document.querySelector('#df-64e22873-6ea7-4790-9560-f652d711f629');\n",
              "          const dataTable =\n",
              "            await google.colab.kernel.invokeFunction('convertToInteractive',\n",
              "                                                     [key], {});\n",
              "          if (!dataTable) return;\n",
              "\n",
              "          const docLinkHtml = 'Like what you see? Visit the ' +\n",
              "            '<a target=\"_blank\" href=https://colab.research.google.com/notebooks/data_table.ipynb>data table notebook</a>'\n",
              "            + ' to learn more about interactive tables.';\n",
              "          element.innerHTML = '';\n",
              "          dataTable['output_type'] = 'display_data';\n",
              "          await google.colab.output.renderOutput(dataTable, element);\n",
              "          const docLink = document.createElement('div');\n",
              "          docLink.innerHTML = docLinkHtml;\n",
              "          element.appendChild(docLink);\n",
              "        }\n",
              "      </script>\n",
              "    </div>\n",
              "  </div>\n",
              "  "
            ]
          },
          "metadata": {},
          "execution_count": 74
        }
      ]
    },
    {
      "cell_type": "code",
      "source": [
        "np.savetxt('data_mjd.csv', df, delimiter=',')"
      ],
      "metadata": {
        "id": "avA9Q_SG-GcC"
      },
      "execution_count": null,
      "outputs": []
    },
    {
      "cell_type": "code",
      "source": [
        "# compute shifted mjd value for each row\n",
        "for i in range(0, len(mjd_max)):\n",
        "  mjd_max.mjd_max_shift[i]= mjd_max.loc[i].mjd - mjd_min.loc[i].mjd"
      ],
      "metadata": {
        "id": "zrIJBba4-2GO"
      },
      "execution_count": 16,
      "outputs": []
    },
    {
      "cell_type": "code",
      "source": [
        "# below show only max shifted mjd values"
      ],
      "metadata": {
        "id": "FRcLMMYyUqIv"
      },
      "execution_count": null,
      "outputs": []
    },
    {
      "cell_type": "code",
      "source": [
        "mjd_max.head()"
      ],
      "metadata": {
        "colab": {
          "base_uri": "https://localhost:8080/",
          "height": 206
        },
        "id": "MFcbphrg_43D",
        "outputId": "75f65275-42f9-42bb-d2cf-9a37d04dc011"
      },
      "execution_count": 17,
      "outputs": [
        {
          "output_type": "execute_result",
          "data": {
            "text/plain": [
              "   object_id  passband         mjd  mjd_max_shift\n",
              "0        615         0  60617.0295            797\n",
              "1        615         1  60624.1836            873\n",
              "2        615         2  60624.1760            873\n",
              "3        615         3  60624.1913            873\n",
              "4        615         4  60624.2022            873"
            ],
            "text/html": [
              "\n",
              "  <div id=\"df-99267620-0368-4c53-a933-4780c23deaa7\">\n",
              "    <div class=\"colab-df-container\">\n",
              "      <div>\n",
              "<style scoped>\n",
              "    .dataframe tbody tr th:only-of-type {\n",
              "        vertical-align: middle;\n",
              "    }\n",
              "\n",
              "    .dataframe tbody tr th {\n",
              "        vertical-align: top;\n",
              "    }\n",
              "\n",
              "    .dataframe thead th {\n",
              "        text-align: right;\n",
              "    }\n",
              "</style>\n",
              "<table border=\"1\" class=\"dataframe\">\n",
              "  <thead>\n",
              "    <tr style=\"text-align: right;\">\n",
              "      <th></th>\n",
              "      <th>object_id</th>\n",
              "      <th>passband</th>\n",
              "      <th>mjd</th>\n",
              "      <th>mjd_max_shift</th>\n",
              "    </tr>\n",
              "  </thead>\n",
              "  <tbody>\n",
              "    <tr>\n",
              "      <th>0</th>\n",
              "      <td>615</td>\n",
              "      <td>0</td>\n",
              "      <td>60617.0295</td>\n",
              "      <td>797</td>\n",
              "    </tr>\n",
              "    <tr>\n",
              "      <th>1</th>\n",
              "      <td>615</td>\n",
              "      <td>1</td>\n",
              "      <td>60624.1836</td>\n",
              "      <td>873</td>\n",
              "    </tr>\n",
              "    <tr>\n",
              "      <th>2</th>\n",
              "      <td>615</td>\n",
              "      <td>2</td>\n",
              "      <td>60624.1760</td>\n",
              "      <td>873</td>\n",
              "    </tr>\n",
              "    <tr>\n",
              "      <th>3</th>\n",
              "      <td>615</td>\n",
              "      <td>3</td>\n",
              "      <td>60624.1913</td>\n",
              "      <td>873</td>\n",
              "    </tr>\n",
              "    <tr>\n",
              "      <th>4</th>\n",
              "      <td>615</td>\n",
              "      <td>4</td>\n",
              "      <td>60624.2022</td>\n",
              "      <td>873</td>\n",
              "    </tr>\n",
              "  </tbody>\n",
              "</table>\n",
              "</div>\n",
              "      <button class=\"colab-df-convert\" onclick=\"convertToInteractive('df-99267620-0368-4c53-a933-4780c23deaa7')\"\n",
              "              title=\"Convert this dataframe to an interactive table.\"\n",
              "              style=\"display:none;\">\n",
              "        \n",
              "  <svg xmlns=\"http://www.w3.org/2000/svg\" height=\"24px\"viewBox=\"0 0 24 24\"\n",
              "       width=\"24px\">\n",
              "    <path d=\"M0 0h24v24H0V0z\" fill=\"none\"/>\n",
              "    <path d=\"M18.56 5.44l.94 2.06.94-2.06 2.06-.94-2.06-.94-.94-2.06-.94 2.06-2.06.94zm-11 1L8.5 8.5l.94-2.06 2.06-.94-2.06-.94L8.5 2.5l-.94 2.06-2.06.94zm10 10l.94 2.06.94-2.06 2.06-.94-2.06-.94-.94-2.06-.94 2.06-2.06.94z\"/><path d=\"M17.41 7.96l-1.37-1.37c-.4-.4-.92-.59-1.43-.59-.52 0-1.04.2-1.43.59L10.3 9.45l-7.72 7.72c-.78.78-.78 2.05 0 2.83L4 21.41c.39.39.9.59 1.41.59.51 0 1.02-.2 1.41-.59l7.78-7.78 2.81-2.81c.8-.78.8-2.07 0-2.86zM5.41 20L4 18.59l7.72-7.72 1.47 1.35L5.41 20z\"/>\n",
              "  </svg>\n",
              "      </button>\n",
              "      \n",
              "  <style>\n",
              "    .colab-df-container {\n",
              "      display:flex;\n",
              "      flex-wrap:wrap;\n",
              "      gap: 12px;\n",
              "    }\n",
              "\n",
              "    .colab-df-convert {\n",
              "      background-color: #E8F0FE;\n",
              "      border: none;\n",
              "      border-radius: 50%;\n",
              "      cursor: pointer;\n",
              "      display: none;\n",
              "      fill: #1967D2;\n",
              "      height: 32px;\n",
              "      padding: 0 0 0 0;\n",
              "      width: 32px;\n",
              "    }\n",
              "\n",
              "    .colab-df-convert:hover {\n",
              "      background-color: #E2EBFA;\n",
              "      box-shadow: 0px 1px 2px rgba(60, 64, 67, 0.3), 0px 1px 3px 1px rgba(60, 64, 67, 0.15);\n",
              "      fill: #174EA6;\n",
              "    }\n",
              "\n",
              "    [theme=dark] .colab-df-convert {\n",
              "      background-color: #3B4455;\n",
              "      fill: #D2E3FC;\n",
              "    }\n",
              "\n",
              "    [theme=dark] .colab-df-convert:hover {\n",
              "      background-color: #434B5C;\n",
              "      box-shadow: 0px 1px 3px 1px rgba(0, 0, 0, 0.15);\n",
              "      filter: drop-shadow(0px 1px 2px rgba(0, 0, 0, 0.3));\n",
              "      fill: #FFFFFF;\n",
              "    }\n",
              "  </style>\n",
              "\n",
              "      <script>\n",
              "        const buttonEl =\n",
              "          document.querySelector('#df-99267620-0368-4c53-a933-4780c23deaa7 button.colab-df-convert');\n",
              "        buttonEl.style.display =\n",
              "          google.colab.kernel.accessAllowed ? 'block' : 'none';\n",
              "\n",
              "        async function convertToInteractive(key) {\n",
              "          const element = document.querySelector('#df-99267620-0368-4c53-a933-4780c23deaa7');\n",
              "          const dataTable =\n",
              "            await google.colab.kernel.invokeFunction('convertToInteractive',\n",
              "                                                     [key], {});\n",
              "          if (!dataTable) return;\n",
              "\n",
              "          const docLinkHtml = 'Like what you see? Visit the ' +\n",
              "            '<a target=\"_blank\" href=https://colab.research.google.com/notebooks/data_table.ipynb>data table notebook</a>'\n",
              "            + ' to learn more about interactive tables.';\n",
              "          element.innerHTML = '';\n",
              "          dataTable['output_type'] = 'display_data';\n",
              "          await google.colab.output.renderOutput(dataTable, element);\n",
              "          const docLink = document.createElement('div');\n",
              "          docLink.innerHTML = docLinkHtml;\n",
              "          element.appendChild(docLink);\n",
              "        }\n",
              "      </script>\n",
              "    </div>\n",
              "  </div>\n",
              "  "
            ]
          },
          "metadata": {},
          "execution_count": 17
        }
      ]
    },
    {
      "cell_type": "code",
      "source": [
        "# plot shifted max values\n",
        "plt.boxplot(mjd_max.mjd_max_shift);\n",
        "plt.title(\"Maximum (Shifted) MJD Values for Each Bandpass and Object\");\n",
        "plt.ylabel(\"Shifted Mjd\");\n",
        "plt.xticks([]);\n",
        "plt.ylim([600, 1100]);"
      ],
      "metadata": {
        "colab": {
          "base_uri": "https://localhost:8080/",
          "height": 270
        },
        "id": "kcd90QygBrJq",
        "outputId": "a8893b63-22a1-40bd-d8e8-693ada748f9c"
      },
      "execution_count": 18,
      "outputs": [
        {
          "output_type": "display_data",
          "data": {
            "text/plain": [
              "<Figure size 432x288 with 1 Axes>"
            ],
            "image/png": "[encoded data removed]"
          },
          "metadata": {
            "needs_background": "light"
          }
        }
      ]
    },
    {
      "cell_type": "markdown",
      "source": [
        "**Fig. 1.** Maximum shifted mjd values for each bandpass and object. The interquartile range encompasses mjd values between approximately 810 and 890. This means that most time series of the dataset are of this lenght. To prevent predicting a lot of time points past the maximum mjd value, an upper limit will be introduced to limit the range of the data that is being considered for further analysis. 900 is just above the Q3 line and seems to not shorten most of the time series (although there is a appreciable number of ouliers with maximum values > 900). "
      ],
      "metadata": {
        "id": "FHe4NjqiFiB5"
      }
    },
    {
      "cell_type": "markdown",
      "source": [
        "# **3. Interpolation Problem**\n",
        "The time series are irregularly sampled, meaning that the interval between observed data points differs. Since most statistical tools assume evenly spaced data points, interpolation will be employed to inforce measurement regularity upon the time series.\n",
        "\n",
        "**3a. Generate regular ts as np array**\n"
      ],
      "metadata": {
        "id": "kTKlLycHPBNQ"
      }
    },
    {
      "cell_type": "code",
      "source": [
        "upper_limit = 900   # upper limit as determined by plot in fig. 1.\n",
        "N_samples = 100     # N_samples as determined by ???\n",
        "\n",
        "ts_even = np.linspace(0, upper_limit, N_samples)"
      ],
      "metadata": {
        "id": "zzgUlGJRQhgo"
      },
      "execution_count": 75,
      "outputs": []
    },
    {
      "cell_type": "markdown",
      "source": [
        "**3b. Use Gaussian Processes (GP) to Perform Interpolation**\n",
        "\n",
        "A. Standardize flux and flux error data and select individual ts to perform interpolation"
      ],
      "metadata": {
        "id": "qyspvhEqQh4C"
      }
    },
    {
      "cell_type": "code",
      "source": [
        "# standardize \n",
        "flux_std = preprocessing.scale(df.flux)\n",
        "df['flux_std'] = flux_std\n",
        "\n",
        "flux_err_std = preprocessing.scale(df.flux_err)\n",
        "df['flux_err_std'] = flux_err_std"
      ],
      "metadata": {
        "id": "Im89JG0GTw6O"
      },
      "execution_count": 78,
      "outputs": []
    },
    {
      "cell_type": "code",
      "source": [
        "df['mjd_shift'] = mjd_max.mjd_max_shift"
      ],
      "metadata": {
        "id": "GQqx5dT4VgCF"
      },
      "execution_count": 79,
      "outputs": []
    },
    {
      "cell_type": "code",
      "source": [
        "df"
      ],
      "metadata": {
        "colab": {
          "base_uri": "https://localhost:8080/",
          "height": 424
        },
        "id": "OohF3D7DXcc1",
        "outputId": "e5f1e597-dfc0-45fe-c4d6-91ac5726303b"
      },
      "execution_count": 80,
      "outputs": [
        {
          "output_type": "execute_result",
          "data": {
            "text/plain": [
              "         object_id         mjd  passband        flux   flux_err  \\\n",
              "0              615  59750.4229         2 -544.810303   3.622952   \n",
              "1              615  59750.4306         1 -816.434326   5.553370   \n",
              "2              615  59750.4383         3 -471.385529   3.801213   \n",
              "3              615  59750.4450         4 -388.984985  11.395031   \n",
              "4              615  59752.4070         2 -681.858887   4.041204   \n",
              "...            ...         ...       ...         ...        ...   \n",
              "1421700  130779836  60555.9838         4  -39.881969  46.477093   \n",
              "1421701  130779836  60560.0459         1   14.894439  18.947685   \n",
              "1421702  130779836  60571.0225         5   30.593130  50.695290   \n",
              "1421703  130779836  60585.9974         4  -23.471439  44.819859   \n",
              "1421704  130779836  60588.0372         0  -41.214264  51.665123   \n",
              "\n",
              "         detected_bool  mjd_shift  flux_std  flux_err_std  \n",
              "0                    1      797.0 -0.154566     -0.005732  \n",
              "1                    1      873.0 -0.228287     -0.005226  \n",
              "2                    1      873.0 -0.134638     -0.005686  \n",
              "3                    1      873.0 -0.112274     -0.003695  \n",
              "4                    1      873.0 -0.191762     -0.005623  \n",
              "...                ...        ...       ...           ...  \n",
              "1421700              0        NaN -0.017525      0.005502  \n",
              "1421701              0        NaN -0.002658     -0.001715  \n",
              "1421702              0        NaN  0.001603      0.006608  \n",
              "1421703              0        NaN -0.013071      0.005068  \n",
              "1421704              0        NaN -0.017886      0.006862  \n",
              "\n",
              "[1421705 rows x 9 columns]"
            ],
            "text/html": [
              "\n",
              "  <div id=\"df-74ed46d4-6f40-4486-a7be-00af51aa6575\">\n",
              "    <div class=\"colab-df-container\">\n",
              "      <div>\n",
              "<style scoped>\n",
              "    .dataframe tbody tr th:only-of-type {\n",
              "        vertical-align: middle;\n",
              "    }\n",
              "\n",
              "    .dataframe tbody tr th {\n",
              "        vertical-align: top;\n",
              "    }\n",
              "\n",
              "    .dataframe thead th {\n",
              "        text-align: right;\n",
              "    }\n",
              "</style>\n",
              "<table border=\"1\" class=\"dataframe\">\n",
              "  <thead>\n",
              "    <tr style=\"text-align: right;\">\n",
              "      <th></th>\n",
              "      <th>object_id</th>\n",
              "      <th>mjd</th>\n",
              "      <th>passband</th>\n",
              "      <th>flux</th>\n",
              "      <th>flux_err</th>\n",
              "      <th>detected_bool</th>\n",
              "      <th>mjd_shift</th>\n",
              "      <th>flux_std</th>\n",
              "      <th>flux_err_std</th>\n",
              "    </tr>\n",
              "  </thead>\n",
              "  <tbody>\n",
              "    <tr>\n",
              "      <th>0</th>\n",
              "      <td>615</td>\n",
              "      <td>59750.4229</td>\n",
              "      <td>2</td>\n",
              "      <td>-544.810303</td>\n",
              "      <td>3.622952</td>\n",
              "      <td>1</td>\n",
              "      <td>797.0</td>\n",
              "      <td>-0.154566</td>\n",
              "      <td>-0.005732</td>\n",
              "    </tr>\n",
              "    <tr>\n",
              "      <th>1</th>\n",
              "      <td>615</td>\n",
              "      <td>59750.4306</td>\n",
              "      <td>1</td>\n",
              "      <td>-816.434326</td>\n",
              "      <td>5.553370</td>\n",
              "      <td>1</td>\n",
              "      <td>873.0</td>\n",
              "      <td>-0.228287</td>\n",
              "      <td>-0.005226</td>\n",
              "    </tr>\n",
              "    <tr>\n",
              "      <th>2</th>\n",
              "      <td>615</td>\n",
              "      <td>59750.4383</td>\n",
              "      <td>3</td>\n",
              "      <td>-471.385529</td>\n",
              "      <td>3.801213</td>\n",
              "      <td>1</td>\n",
              "      <td>873.0</td>\n",
              "      <td>-0.134638</td>\n",
              "      <td>-0.005686</td>\n",
              "    </tr>\n",
              "    <tr>\n",
              "      <th>3</th>\n",
              "      <td>615</td>\n",
              "      <td>59750.4450</td>\n",
              "      <td>4</td>\n",
              "      <td>-388.984985</td>\n",
              "      <td>11.395031</td>\n",
              "      <td>1</td>\n",
              "      <td>873.0</td>\n",
              "      <td>-0.112274</td>\n",
              "      <td>-0.003695</td>\n",
              "    </tr>\n",
              "    <tr>\n",
              "      <th>4</th>\n",
              "      <td>615</td>\n",
              "      <td>59752.4070</td>\n",
              "      <td>2</td>\n",
              "      <td>-681.858887</td>\n",
              "      <td>4.041204</td>\n",
              "      <td>1</td>\n",
              "      <td>873.0</td>\n",
              "      <td>-0.191762</td>\n",
              "      <td>-0.005623</td>\n",
              "    </tr>\n",
              "    <tr>\n",
              "      <th>...</th>\n",
              "      <td>...</td>\n",
              "      <td>...</td>\n",
              "      <td>...</td>\n",
              "      <td>...</td>\n",
              "      <td>...</td>\n",
              "      <td>...</td>\n",
              "      <td>...</td>\n",
              "      <td>...</td>\n",
              "      <td>...</td>\n",
              "    </tr>\n",
              "    <tr>\n",
              "      <th>1421700</th>\n",
              "      <td>130779836</td>\n",
              "      <td>60555.9838</td>\n",
              "      <td>4</td>\n",
              "      <td>-39.881969</td>\n",
              "      <td>46.477093</td>\n",
              "      <td>0</td>\n",
              "      <td>NaN</td>\n",
              "      <td>-0.017525</td>\n",
              "      <td>0.005502</td>\n",
              "    </tr>\n",
              "    <tr>\n",
              "      <th>1421701</th>\n",
              "      <td>130779836</td>\n",
              "      <td>60560.0459</td>\n",
              "      <td>1</td>\n",
              "      <td>14.894439</td>\n",
              "      <td>18.947685</td>\n",
              "      <td>0</td>\n",
              "      <td>NaN</td>\n",
              "      <td>-0.002658</td>\n",
              "      <td>-0.001715</td>\n",
              "    </tr>\n",
              "    <tr>\n",
              "      <th>1421702</th>\n",
              "      <td>130779836</td>\n",
              "      <td>60571.0225</td>\n",
              "      <td>5</td>\n",
              "      <td>30.593130</td>\n",
              "      <td>50.695290</td>\n",
              "      <td>0</td>\n",
              "      <td>NaN</td>\n",
              "      <td>0.001603</td>\n",
              "      <td>0.006608</td>\n",
              "    </tr>\n",
              "    <tr>\n",
              "      <th>1421703</th>\n",
              "      <td>130779836</td>\n",
              "      <td>60585.9974</td>\n",
              "      <td>4</td>\n",
              "      <td>-23.471439</td>\n",
              "      <td>44.819859</td>\n",
              "      <td>0</td>\n",
              "      <td>NaN</td>\n",
              "      <td>-0.013071</td>\n",
              "      <td>0.005068</td>\n",
              "    </tr>\n",
              "    <tr>\n",
              "      <th>1421704</th>\n",
              "      <td>130779836</td>\n",
              "      <td>60588.0372</td>\n",
              "      <td>0</td>\n",
              "      <td>-41.214264</td>\n",
              "      <td>51.665123</td>\n",
              "      <td>0</td>\n",
              "      <td>NaN</td>\n",
              "      <td>-0.017886</td>\n",
              "      <td>0.006862</td>\n",
              "    </tr>\n",
              "  </tbody>\n",
              "</table>\n",
              "<p>1421705 rows × 9 columns</p>\n",
              "</div>\n",
              "      <button class=\"colab-df-convert\" onclick=\"convertToInteractive('df-74ed46d4-6f40-4486-a7be-00af51aa6575')\"\n",
              "              title=\"Convert this dataframe to an interactive table.\"\n",
              "              style=\"display:none;\">\n",
              "        \n",
              "  <svg xmlns=\"http://www.w3.org/2000/svg\" height=\"24px\"viewBox=\"0 0 24 24\"\n",
              "       width=\"24px\">\n",
              "    <path d=\"M0 0h24v24H0V0z\" fill=\"none\"/>\n",
              "    <path d=\"M18.56 5.44l.94 2.06.94-2.06 2.06-.94-2.06-.94-.94-2.06-.94 2.06-2.06.94zm-11 1L8.5 8.5l.94-2.06 2.06-.94-2.06-.94L8.5 2.5l-.94 2.06-2.06.94zm10 10l.94 2.06.94-2.06 2.06-.94-2.06-.94-.94-2.06-.94 2.06-2.06.94z\"/><path d=\"M17.41 7.96l-1.37-1.37c-.4-.4-.92-.59-1.43-.59-.52 0-1.04.2-1.43.59L10.3 9.45l-7.72 7.72c-.78.78-.78 2.05 0 2.83L4 21.41c.39.39.9.59 1.41.59.51 0 1.02-.2 1.41-.59l7.78-7.78 2.81-2.81c.8-.78.8-2.07 0-2.86zM5.41 20L4 18.59l7.72-7.72 1.47 1.35L5.41 20z\"/>\n",
              "  </svg>\n",
              "      </button>\n",
              "      \n",
              "  <style>\n",
              "    .colab-df-container {\n",
              "      display:flex;\n",
              "      flex-wrap:wrap;\n",
              "      gap: 12px;\n",
              "    }\n",
              "\n",
              "    .colab-df-convert {\n",
              "      background-color: #E8F0FE;\n",
              "      border: none;\n",
              "      border-radius: 50%;\n",
              "      cursor: pointer;\n",
              "      display: none;\n",
              "      fill: #1967D2;\n",
              "      height: 32px;\n",
              "      padding: 0 0 0 0;\n",
              "      width: 32px;\n",
              "    }\n",
              "\n",
              "    .colab-df-convert:hover {\n",
              "      background-color: #E2EBFA;\n",
              "      box-shadow: 0px 1px 2px rgba(60, 64, 67, 0.3), 0px 1px 3px 1px rgba(60, 64, 67, 0.15);\n",
              "      fill: #174EA6;\n",
              "    }\n",
              "\n",
              "    [theme=dark] .colab-df-convert {\n",
              "      background-color: #3B4455;\n",
              "      fill: #D2E3FC;\n",
              "    }\n",
              "\n",
              "    [theme=dark] .colab-df-convert:hover {\n",
              "      background-color: #434B5C;\n",
              "      box-shadow: 0px 1px 3px 1px rgba(0, 0, 0, 0.15);\n",
              "      filter: drop-shadow(0px 1px 2px rgba(0, 0, 0, 0.3));\n",
              "      fill: #FFFFFF;\n",
              "    }\n",
              "  </style>\n",
              "\n",
              "      <script>\n",
              "        const buttonEl =\n",
              "          document.querySelector('#df-74ed46d4-6f40-4486-a7be-00af51aa6575 button.colab-df-convert');\n",
              "        buttonEl.style.display =\n",
              "          google.colab.kernel.accessAllowed ? 'block' : 'none';\n",
              "\n",
              "        async function convertToInteractive(key) {\n",
              "          const element = document.querySelector('#df-74ed46d4-6f40-4486-a7be-00af51aa6575');\n",
              "          const dataTable =\n",
              "            await google.colab.kernel.invokeFunction('convertToInteractive',\n",
              "                                                     [key], {});\n",
              "          if (!dataTable) return;\n",
              "\n",
              "          const docLinkHtml = 'Like what you see? Visit the ' +\n",
              "            '<a target=\"_blank\" href=https://colab.research.google.com/notebooks/data_table.ipynb>data table notebook</a>'\n",
              "            + ' to learn more about interactive tables.';\n",
              "          element.innerHTML = '';\n",
              "          dataTable['output_type'] = 'display_data';\n",
              "          await google.colab.output.renderOutput(dataTable, element);\n",
              "          const docLink = document.createElement('div');\n",
              "          docLink.innerHTML = docLinkHtml;\n",
              "          element.appendChild(docLink);\n",
              "        }\n",
              "      </script>\n",
              "    </div>\n",
              "  </div>\n",
              "  "
            ]
          },
          "metadata": {},
          "execution_count": 80
        }
      ]
    },
    {
      "cell_type": "code",
      "source": [
        "# select single ts from dataset to test interpolation\n",
        "ts_single = df[(df.object_id==615) & (df.passband == 0)]"
      ],
      "metadata": {
        "id": "Cwac435wV7Mc"
      },
      "execution_count": 81,
      "outputs": []
    },
    {
      "cell_type": "code",
      "source": [
        "ts_single['mjd_indiv'] = df_short.mjd_shift"
      ],
      "metadata": {
        "id": "vNU4r1hCVhSP"
      },
      "execution_count": 94,
      "outputs": []
    },
    {
      "cell_type": "code",
      "source": [
        "ts_single"
      ],
      "metadata": {
        "colab": {
          "base_uri": "https://localhost:8080/",
          "height": 424
        },
        "id": "YwptcyfhV_Wk",
        "outputId": "d19109b3-754f-42dd-f29e-2c265fdf1337"
      },
      "execution_count": 95,
      "outputs": [
        {
          "output_type": "execute_result",
          "data": {
            "text/plain": [
              "     object_id         mjd  passband        flux  flux_err  detected_bool  \\\n",
              "54         615  59819.1532         0    6.878784  3.633152              0   \n",
              "55         615  59820.1047         0   39.364853  3.775619              1   \n",
              "56         615  59821.1026         0  -10.422381  4.172683              0   \n",
              "57         615  59822.1105         0  -65.485130  4.362876              1   \n",
              "58         615  59823.1505         0 -113.349159  4.069051              1   \n",
              "..         ...         ...       ...         ...       ...            ...   \n",
              "337        615  60613.0269         0  -89.973892  2.937887              1   \n",
              "338        615  60614.0276         0  -10.015225  3.212408              0   \n",
              "339        615  60615.0375         0   99.438087  3.662484              1   \n",
              "340        615  60616.0290         0  120.849113  3.776495              1   \n",
              "341        615  60617.0295         0  121.411896  3.569777              1   \n",
              "\n",
              "     mjd_shift  flux_std  flux_err_std  mjd_indiv  \n",
              "54       854.0 -0.004834     -0.005730          0  \n",
              "55       845.0  0.003983     -0.005692          0  \n",
              "56       845.0 -0.009529     -0.005588          1  \n",
              "57       845.0 -0.024474     -0.005538          2  \n",
              "58       845.0 -0.037464     -0.005616          3  \n",
              "..         ...       ...           ...        ...  \n",
              "337      853.0 -0.031120     -0.005912        793  \n",
              "338      853.0 -0.009419     -0.005840        794  \n",
              "339      853.0  0.020288     -0.005722        795  \n",
              "340      853.0  0.026099     -0.005692        796  \n",
              "341      853.0  0.026251     -0.005746        797  \n",
              "\n",
              "[63 rows x 10 columns]"
            ],
            "text/html": [
              "\n",
              "  <div id=\"df-b556318d-cccc-4bcd-a254-e7eee99cb3f6\">\n",
              "    <div class=\"colab-df-container\">\n",
              "      <div>\n",
              "<style scoped>\n",
              "    .dataframe tbody tr th:only-of-type {\n",
              "        vertical-align: middle;\n",
              "    }\n",
              "\n",
              "    .dataframe tbody tr th {\n",
              "        vertical-align: top;\n",
              "    }\n",
              "\n",
              "    .dataframe thead th {\n",
              "        text-align: right;\n",
              "    }\n",
              "</style>\n",
              "<table border=\"1\" class=\"dataframe\">\n",
              "  <thead>\n",
              "    <tr style=\"text-align: right;\">\n",
              "      <th></th>\n",
              "      <th>object_id</th>\n",
              "      <th>mjd</th>\n",
              "      <th>passband</th>\n",
              "      <th>flux</th>\n",
              "      <th>flux_err</th>\n",
              "      <th>detected_bool</th>\n",
              "      <th>mjd_shift</th>\n",
              "      <th>flux_std</th>\n",
              "      <th>flux_err_std</th>\n",
              "      <th>mjd_indiv</th>\n",
              "    </tr>\n",
              "  </thead>\n",
              "  <tbody>\n",
              "    <tr>\n",
              "      <th>54</th>\n",
              "      <td>615</td>\n",
              "      <td>59819.1532</td>\n",
              "      <td>0</td>\n",
              "      <td>6.878784</td>\n",
              "      <td>3.633152</td>\n",
              "      <td>0</td>\n",
              "      <td>854.0</td>\n",
              "      <td>-0.004834</td>\n",
              "      <td>-0.005730</td>\n",
              "      <td>0</td>\n",
              "    </tr>\n",
              "    <tr>\n",
              "      <th>55</th>\n",
              "      <td>615</td>\n",
              "      <td>59820.1047</td>\n",
              "      <td>0</td>\n",
              "      <td>39.364853</td>\n",
              "      <td>3.775619</td>\n",
              "      <td>1</td>\n",
              "      <td>845.0</td>\n",
              "      <td>0.003983</td>\n",
              "      <td>-0.005692</td>\n",
              "      <td>0</td>\n",
              "    </tr>\n",
              "    <tr>\n",
              "      <th>56</th>\n",
              "      <td>615</td>\n",
              "      <td>59821.1026</td>\n",
              "      <td>0</td>\n",
              "      <td>-10.422381</td>\n",
              "      <td>4.172683</td>\n",
              "      <td>0</td>\n",
              "      <td>845.0</td>\n",
              "      <td>-0.009529</td>\n",
              "      <td>-0.005588</td>\n",
              "      <td>1</td>\n",
              "    </tr>\n",
              "    <tr>\n",
              "      <th>57</th>\n",
              "      <td>615</td>\n",
              "      <td>59822.1105</td>\n",
              "      <td>0</td>\n",
              "      <td>-65.485130</td>\n",
              "      <td>4.362876</td>\n",
              "      <td>1</td>\n",
              "      <td>845.0</td>\n",
              "      <td>-0.024474</td>\n",
              "      <td>-0.005538</td>\n",
              "      <td>2</td>\n",
              "    </tr>\n",
              "    <tr>\n",
              "      <th>58</th>\n",
              "      <td>615</td>\n",
              "      <td>59823.1505</td>\n",
              "      <td>0</td>\n",
              "      <td>-113.349159</td>\n",
              "      <td>4.069051</td>\n",
              "      <td>1</td>\n",
              "      <td>845.0</td>\n",
              "      <td>-0.037464</td>\n",
              "      <td>-0.005616</td>\n",
              "      <td>3</td>\n",
              "    </tr>\n",
              "    <tr>\n",
              "      <th>...</th>\n",
              "      <td>...</td>\n",
              "      <td>...</td>\n",
              "      <td>...</td>\n",
              "      <td>...</td>\n",
              "      <td>...</td>\n",
              "      <td>...</td>\n",
              "      <td>...</td>\n",
              "      <td>...</td>\n",
              "      <td>...</td>\n",
              "      <td>...</td>\n",
              "    </tr>\n",
              "    <tr>\n",
              "      <th>337</th>\n",
              "      <td>615</td>\n",
              "      <td>60613.0269</td>\n",
              "      <td>0</td>\n",
              "      <td>-89.973892</td>\n",
              "      <td>2.937887</td>\n",
              "      <td>1</td>\n",
              "      <td>853.0</td>\n",
              "      <td>-0.031120</td>\n",
              "      <td>-0.005912</td>\n",
              "      <td>793</td>\n",
              "    </tr>\n",
              "    <tr>\n",
              "      <th>338</th>\n",
              "      <td>615</td>\n",
              "      <td>60614.0276</td>\n",
              "      <td>0</td>\n",
              "      <td>-10.015225</td>\n",
              "      <td>3.212408</td>\n",
              "      <td>0</td>\n",
              "      <td>853.0</td>\n",
              "      <td>-0.009419</td>\n",
              "      <td>-0.005840</td>\n",
              "      <td>794</td>\n",
              "    </tr>\n",
              "    <tr>\n",
              "      <th>339</th>\n",
              "      <td>615</td>\n",
              "      <td>60615.0375</td>\n",
              "      <td>0</td>\n",
              "      <td>99.438087</td>\n",
              "      <td>3.662484</td>\n",
              "      <td>1</td>\n",
              "      <td>853.0</td>\n",
              "      <td>0.020288</td>\n",
              "      <td>-0.005722</td>\n",
              "      <td>795</td>\n",
              "    </tr>\n",
              "    <tr>\n",
              "      <th>340</th>\n",
              "      <td>615</td>\n",
              "      <td>60616.0290</td>\n",
              "      <td>0</td>\n",
              "      <td>120.849113</td>\n",
              "      <td>3.776495</td>\n",
              "      <td>1</td>\n",
              "      <td>853.0</td>\n",
              "      <td>0.026099</td>\n",
              "      <td>-0.005692</td>\n",
              "      <td>796</td>\n",
              "    </tr>\n",
              "    <tr>\n",
              "      <th>341</th>\n",
              "      <td>615</td>\n",
              "      <td>60617.0295</td>\n",
              "      <td>0</td>\n",
              "      <td>121.411896</td>\n",
              "      <td>3.569777</td>\n",
              "      <td>1</td>\n",
              "      <td>853.0</td>\n",
              "      <td>0.026251</td>\n",
              "      <td>-0.005746</td>\n",
              "      <td>797</td>\n",
              "    </tr>\n",
              "  </tbody>\n",
              "</table>\n",
              "<p>63 rows × 10 columns</p>\n",
              "</div>\n",
              "      <button class=\"colab-df-convert\" onclick=\"convertToInteractive('df-b556318d-cccc-4bcd-a254-e7eee99cb3f6')\"\n",
              "              title=\"Convert this dataframe to an interactive table.\"\n",
              "              style=\"display:none;\">\n",
              "        \n",
              "  <svg xmlns=\"http://www.w3.org/2000/svg\" height=\"24px\"viewBox=\"0 0 24 24\"\n",
              "       width=\"24px\">\n",
              "    <path d=\"M0 0h24v24H0V0z\" fill=\"none\"/>\n",
              "    <path d=\"M18.56 5.44l.94 2.06.94-2.06 2.06-.94-2.06-.94-.94-2.06-.94 2.06-2.06.94zm-11 1L8.5 8.5l.94-2.06 2.06-.94-2.06-.94L8.5 2.5l-.94 2.06-2.06.94zm10 10l.94 2.06.94-2.06 2.06-.94-2.06-.94-.94-2.06-.94 2.06-2.06.94z\"/><path d=\"M17.41 7.96l-1.37-1.37c-.4-.4-.92-.59-1.43-.59-.52 0-1.04.2-1.43.59L10.3 9.45l-7.72 7.72c-.78.78-.78 2.05 0 2.83L4 21.41c.39.39.9.59 1.41.59.51 0 1.02-.2 1.41-.59l7.78-7.78 2.81-2.81c.8-.78.8-2.07 0-2.86zM5.41 20L4 18.59l7.72-7.72 1.47 1.35L5.41 20z\"/>\n",
              "  </svg>\n",
              "      </button>\n",
              "      \n",
              "  <style>\n",
              "    .colab-df-container {\n",
              "      display:flex;\n",
              "      flex-wrap:wrap;\n",
              "      gap: 12px;\n",
              "    }\n",
              "\n",
              "    .colab-df-convert {\n",
              "      background-color: #E8F0FE;\n",
              "      border: none;\n",
              "      border-radius: 50%;\n",
              "      cursor: pointer;\n",
              "      display: none;\n",
              "      fill: #1967D2;\n",
              "      height: 32px;\n",
              "      padding: 0 0 0 0;\n",
              "      width: 32px;\n",
              "    }\n",
              "\n",
              "    .colab-df-convert:hover {\n",
              "      background-color: #E2EBFA;\n",
              "      box-shadow: 0px 1px 2px rgba(60, 64, 67, 0.3), 0px 1px 3px 1px rgba(60, 64, 67, 0.15);\n",
              "      fill: #174EA6;\n",
              "    }\n",
              "\n",
              "    [theme=dark] .colab-df-convert {\n",
              "      background-color: #3B4455;\n",
              "      fill: #D2E3FC;\n",
              "    }\n",
              "\n",
              "    [theme=dark] .colab-df-convert:hover {\n",
              "      background-color: #434B5C;\n",
              "      box-shadow: 0px 1px 3px 1px rgba(0, 0, 0, 0.15);\n",
              "      filter: drop-shadow(0px 1px 2px rgba(0, 0, 0, 0.3));\n",
              "      fill: #FFFFFF;\n",
              "    }\n",
              "  </style>\n",
              "\n",
              "      <script>\n",
              "        const buttonEl =\n",
              "          document.querySelector('#df-b556318d-cccc-4bcd-a254-e7eee99cb3f6 button.colab-df-convert');\n",
              "        buttonEl.style.display =\n",
              "          google.colab.kernel.accessAllowed ? 'block' : 'none';\n",
              "\n",
              "        async function convertToInteractive(key) {\n",
              "          const element = document.querySelector('#df-b556318d-cccc-4bcd-a254-e7eee99cb3f6');\n",
              "          const dataTable =\n",
              "            await google.colab.kernel.invokeFunction('convertToInteractive',\n",
              "                                                     [key], {});\n",
              "          if (!dataTable) return;\n",
              "\n",
              "          const docLinkHtml = 'Like what you see? Visit the ' +\n",
              "            '<a target=\"_blank\" href=https://colab.research.google.com/notebooks/data_table.ipynb>data table notebook</a>'\n",
              "            + ' to learn more about interactive tables.';\n",
              "          element.innerHTML = '';\n",
              "          dataTable['output_type'] = 'display_data';\n",
              "          await google.colab.output.renderOutput(dataTable, element);\n",
              "          const docLink = document.createElement('div');\n",
              "          docLink.innerHTML = docLinkHtml;\n",
              "          element.appendChild(docLink);\n",
              "        }\n",
              "      </script>\n",
              "    </div>\n",
              "  </div>\n",
              "  "
            ]
          },
          "metadata": {},
          "execution_count": 95
        }
      ]
    },
    {
      "cell_type": "code",
      "source": [
        "# flux values are the measure that we want to predict"
      ],
      "metadata": {
        "id": "tsSfFNi5rbhE"
      },
      "execution_count": 83,
      "outputs": []
    },
    {
      "cell_type": "code",
      "source": [
        "y = ts_single.flux_std.values"
      ],
      "metadata": {
        "id": "fg34-TrbWSad"
      },
      "execution_count": 84,
      "outputs": []
    },
    {
      "cell_type": "code",
      "source": [
        "y"
      ],
      "metadata": {
        "colab": {
          "base_uri": "https://localhost:8080/"
        },
        "id": "JjLv3IYuWWVu",
        "outputId": "f93451d4-46bf-4021-972e-9f716e7ae9fb"
      },
      "execution_count": 85,
      "outputs": [
        {
          "output_type": "execute_result",
          "data": {
            "text/plain": [
              "array([-4.83369403e-03,  3.98324931e-03, -9.52934962e-03, -2.44737597e-02,\n",
              "       -3.74643876e-02, -2.52926831e-02, -3.31229725e-02, -3.31692976e-02,\n",
              "       -3.61951309e-02, -3.84316991e-02, -3.45928379e-02, -2.09242891e-02,\n",
              "        8.38081789e-03, -3.57630400e-02, -3.08507431e-02, -2.03196619e-02,\n",
              "        6.87204656e-03,  2.33586357e-02,  2.61035537e-02,  2.35515168e-02,\n",
              "       -2.02452760e-02, -3.03566273e-02,  2.04751342e-02,  1.68511629e-02,\n",
              "        1.55759427e-02,  4.68428302e-03, -4.24124207e-03, -2.92471976e-02,\n",
              "        2.27424210e-02, -4.86362994e-03, -1.62404142e-02, -2.10642550e-02,\n",
              "        2.26168782e-02,  2.72748346e-02,  2.25162498e-02,  9.87365111e-03,\n",
              "       -9.17070060e-03,  2.21898873e-02,  1.15471450e-02,  4.89565742e-05,\n",
              "       -1.08782788e-02,  1.74737039e-02,  2.55794048e-02,  1.56005691e-02,\n",
              "        6.83901119e-03, -4.23750290e-03, -1.50504518e-02, -3.42267041e-02,\n",
              "       -3.67422601e-02, -3.78512200e-02, -2.07090906e-02, -1.17363924e-03,\n",
              "       -1.33996647e-02, -2.39476293e-02, -3.43351015e-02, -3.68210283e-02,\n",
              "       -3.75293279e-02, -3.67317824e-02, -3.11201788e-02, -9.41884467e-03,\n",
              "        2.02875396e-02,  2.60986399e-02,  2.62513831e-02])"
            ]
          },
          "metadata": {},
          "execution_count": 85
        }
      ]
    },
    {
      "cell_type": "markdown",
      "source": [
        "B. Define GP Process"
      ],
      "metadata": {
        "id": "YE7Q-PShWna7"
      }
    },
    {
      "cell_type": "code",
      "source": [
        "# define functions\n",
        "def neg_ln_like(p):\n",
        "    gp.set_parameter_vector(p)\n",
        "    return -gp.log_likelihood(y)\n",
        "\n",
        "def grad_neg_ln_like(p):\n",
        "    gp.set_parameter_vector(p)\n",
        "    return -gp.grad_log_likelihood(y)"
      ],
      "metadata": {
        "id": "0sUCAJIUQhfl"
      },
      "execution_count": 86,
      "outputs": []
    },
    {
      "cell_type": "code",
      "source": [
        "# define kernel \n",
        "kernel = np.var(y) * kernels.Product(kernels.ExpSquaredKernel(0.5), \n",
        "                                     kernels.CosineKernel(1))\n",
        "gp = george.GP(kernel)"
      ],
      "metadata": {
        "id": "PjpdoM5dSddu"
      },
      "execution_count": 87,
      "outputs": []
    },
    {
      "cell_type": "code",
      "source": [
        "x = ts_single.mjd_indiv\n",
        "yerr = ts_single.flux_err_std"
      ],
      "metadata": {
        "id": "4K1LNJfjQiK4"
      },
      "execution_count": 97,
      "outputs": []
    },
    {
      "cell_type": "code",
      "source": [
        "gp.compute(x, yerr)\n",
        "\n",
        "x_pred = ts_even\n",
        "pred, pred_var = gp.predict(y, x_pred, return_var=True)"
      ],
      "metadata": {
        "id": "P6jmzt_gPoXw"
      },
      "execution_count": 98,
      "outputs": []
    },
    {
      "cell_type": "code",
      "source": [
        "plt.figure(figsize = (12,6))\n",
        "plt.errorbar(ts_single.mjd_indiv.values , ts_single.flux_std.values, ts_single.flux_err_std.values, fmt='.', color='b', elinewidth=1, capsize=3)\n",
        "plt.plot(x_pred, pred, 'k');\n",
        "plt.title(\"Predicted Evolution of Light Curve #615\")\n",
        "plt.xlabel(\"mjd\")\n",
        "plt.ylabel(\"flux standardized\");"
      ],
      "metadata": {
        "colab": {
          "base_uri": "https://localhost:8080/",
          "height": 404
        },
        "id": "T-nvFLvbVFf_",
        "outputId": "8a8f3e53-730e-4e12-f5a3-9c0c08e7b058"
      },
      "execution_count": 103,
      "outputs": [
        {
          "output_type": "display_data",
          "data": {
            "text/plain": [
              "<Figure size 864x432 with 1 Axes>"
            ],
            "image/png": "[encoded data removed]"
          },
          "metadata": {
            "needs_background": "light"
          }
        }
      ]
    },
    {
      "cell_type": "markdown",
      "source": [
        "**Fig. 2.** Gaussian processes were used to interpolate missing data points for evenly spaced x-axis values. The blue datapoints represent the observables, while the back solid line represents the prediction. The upward and downward spikes of the line show the deviation of the observables from zero (standardized). Otherwise, the line is horizontal, which is (maybe?) surprising given that this is GP."
      ],
      "metadata": {
        "id": "l7ohAfLVWlQ2"
      }
    },
    {
      "cell_type": "markdown",
      "source": [
        "# **4. Save**\n",
        "\n",
        "To be fed into the autoencoder, the data has to be of shape mjd steps x (#unique object IDs x # passbands). This is done for object #615 below. "
      ],
      "metadata": {
        "id": "Ov6EPNhHRIKm"
      }
    },
    {
      "cell_type": "code",
      "source": [
        "length = 1 * 6"
      ],
      "metadata": {
        "id": "og6XhJSRYvD9"
      },
      "execution_count": 113,
      "outputs": []
    },
    {
      "cell_type": "code",
      "source": [
        "data_structure= np.zeros((length,N_samples))"
      ],
      "metadata": {
        "id": "GPVIPkzHZBS6"
      },
      "execution_count": 115,
      "outputs": []
    },
    {
      "cell_type": "code",
      "source": [
        "data_structure.shape"
      ],
      "metadata": {
        "colab": {
          "base_uri": "https://localhost:8080/"
        },
        "id": "t0NkG_VkZw31",
        "outputId": "f9419c2d-587f-4e11-96f6-a6e31c42fac1"
      },
      "execution_count": 119,
      "outputs": [
        {
          "output_type": "execute_result",
          "data": {
            "text/plain": [
              "(6, 100)"
            ]
          },
          "metadata": {},
          "execution_count": 119
        }
      ]
    },
    {
      "cell_type": "code",
      "source": [
        "# each passband\n",
        "for i in range(0,6):\n",
        "  ts_single = df[(df.object_id==615) & (df.passband == 0)]\n",
        "  ts_single['mjd_indiv'] = df_short.mjd_shift\n",
        "  y = ts_single.flux_std.values\n",
        "\n",
        "  x = ts_single.mjd_indiv\n",
        "  yerr = ts_single.flux_err_std\n",
        "  \n",
        "  gp.compute(x, yerr)\n",
        "\n",
        "  x_pred = ts_even\n",
        "  pred, pred_var = gp.predict(y, x_pred, return_var=True)\n",
        "  data_structure[i] = pred"
      ],
      "metadata": {
        "id": "MFWH426KZ6v9"
      },
      "execution_count": 130,
      "outputs": []
    },
    {
      "cell_type": "code",
      "source": [
        "data_structure.shape"
      ],
      "metadata": {
        "colab": {
          "base_uri": "https://localhost:8080/"
        },
        "id": "jEx66YNibXqj",
        "outputId": "db87fc37-aff2-4cae-fd66-eeb8e169437f"
      },
      "execution_count": 133,
      "outputs": [
        {
          "output_type": "execute_result",
          "data": {
            "text/plain": [
              "(6, 100)"
            ]
          },
          "metadata": {},
          "execution_count": 133
        }
      ]
    },
    {
      "cell_type": "code",
      "source": [
        "np.savetxt('data_615.csv', data_structure, delimiter=',')"
      ],
      "metadata": {
        "id": "-ghbNzx9a6nk"
      },
      "execution_count": 134,
      "outputs": []
    }
  ]
}